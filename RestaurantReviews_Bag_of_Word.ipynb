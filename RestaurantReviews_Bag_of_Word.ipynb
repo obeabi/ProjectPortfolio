{
  "nbformat": 4,
  "nbformat_minor": 0,
  "metadata": {
    "colab": {
      "name": "Untitled0.ipynb",
      "provenance": [],
      "toc_visible": true,
      "authorship_tag": "ABX9TyPrsy5dZ3S4thtgDrM1ruYD",
      "include_colab_link": true
    },
    "kernelspec": {
      "name": "python3",
      "display_name": "Python 3"
    }
  },
  "cells": [
    {
      "cell_type": "markdown",
      "metadata": {
        "id": "view-in-github",
        "colab_type": "text"
      },
      "source": [
        "<a href=\"https://colab.research.google.com/github/obeabi/ProjectPortfolio/blob/master/RestaurantReviews_Bag_of_Word.ipynb\" target=\"_parent\"><img src=\"https://colab.research.google.com/assets/colab-badge.svg\" alt=\"Open In Colab\"/></a>"
      ]
    },
    {
      "cell_type": "markdown",
      "metadata": {
        "id": "si6aoyBfhtWD",
        "colab_type": "text"
      },
      "source": [
        "# Sentiment Analysis on Customers Restaurant Reviews\n",
        "## Written by Abiola Obembe\n",
        "### Date 8th of August 2020"
      ]
    },
    {
      "cell_type": "code",
      "metadata": {
        "id": "mooVsixsh-a_",
        "colab_type": "code",
        "colab": {
          "base_uri": "https://localhost:8080/",
          "height": 34
        },
        "outputId": "6dae0a3f-15f3-4d74-a017-d0e9888e42c9"
      },
      "source": [
        "# import libraries\n",
        "import numpy as np\n",
        "import matplotlib.pyplot as plt\n",
        "import pandas as pd\n",
        "import re\n",
        "import nltk\n",
        "print('libraries installed successfully!')"
      ],
      "execution_count": 3,
      "outputs": [
        {
          "output_type": "stream",
          "text": [
            "libraries installed successfully!\n"
          ],
          "name": "stdout"
        }
      ]
    },
    {
      "cell_type": "code",
      "metadata": {
        "id": "rZWwCDYZicWH",
        "colab_type": "code",
        "colab": {}
      },
      "source": [
        "# Load dataset\n"
      ],
      "execution_count": null,
      "outputs": []
    }
  ]
}
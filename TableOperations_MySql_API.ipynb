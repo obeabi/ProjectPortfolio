{
  "nbformat": 4,
  "nbformat_minor": 0,
  "metadata": {
    "colab": {
      "provenance": [],
      "authorship_tag": "ABX9TyPx0EL1fdMuiphL40m0FwCZ",
      "include_colab_link": true
    },
    "kernelspec": {
      "name": "python3",
      "display_name": "Python 3"
    },
    "language_info": {
      "name": "python"
    }
  },
  "cells": [
    {
      "cell_type": "markdown",
      "metadata": {
        "id": "view-in-github",
        "colab_type": "text"
      },
      "source": [
        "<a href=\"https://colab.research.google.com/github/obeabi/ProjectPortfolio/blob/master/TableOperations_MySql_API.ipynb\" target=\"_parent\"><img src=\"https://colab.research.google.com/assets/colab-badge.svg\" alt=\"Open In Colab\"/></a>"
      ]
    },
    {
      "cell_type": "code",
      "source": [
        "!pip install mysql-connector-python"
      ],
      "metadata": {
        "colab": {
          "base_uri": "https://localhost:8080/"
        },
        "id": "hs7boope4WD_",
        "outputId": "c4484653-1ea4-489f-f3b1-e032f42440ce"
      },
      "execution_count": 5,
      "outputs": [
        {
          "output_type": "stream",
          "name": "stdout",
          "text": [
            "Requirement already satisfied: mysql-connector-python in /usr/local/lib/python3.10/dist-packages (8.1.0)\n",
            "Requirement already satisfied: protobuf<=4.21.12,>=4.21.1 in /usr/local/lib/python3.10/dist-packages (from mysql-connector-python) (4.21.12)\n"
          ]
        }
      ]
    },
    {
      "cell_type": "code",
      "execution_count": 8,
      "metadata": {
        "id": "lmfEIe274KIe"
      },
      "outputs": [],
      "source": [
        "# Import the modules\n",
        "from flask import Flask, request, jsonify\n",
        "import logging\n",
        "import mysql.connector"
      ]
    },
    {
      "cell_type": "code",
      "source": [
        "# Create flask object app\n",
        "app = Flask(__name__)\n",
        "\n",
        "# Configure the logging module\n",
        "logging.basicConfig(filename=\"app.log\", level=logging.INFO, format=\"%(asctime)s - %(levelname)s - %(message)s\")"
      ],
      "metadata": {
        "id": "w_Ozzec45WMX"
      },
      "execution_count": null,
      "outputs": []
    },
    {
      "cell_type": "code",
      "source": [
        "# Define the parameters for the databse connection\n",
        "hostname = \"localhost\" # Change this to your hostname\n",
        "\n",
        "password = \"password\" # Change this to your password\n",
        "\n",
        "table_name = \"employees\" # Change this to your table name\n",
        "\n",
        "database = \"my_database\" # Change this to your database name\n",
        "\n",
        "table_fields = [\"id\", \"name\", \"salary\", \"department\"] # Change this to your table fields\n",
        "\n",
        "data_types = [\"INT PRIMARY KEY\", \"VARCHAR(255)\", \"FLOAT\", \"VARCHAR(255)\"] # Change this to your data types for each field"
      ],
      "metadata": {
        "id": "rNL96uXm5kM6"
      },
      "execution_count": null,
      "outputs": []
    },
    {
      "cell_type": "code",
      "source": [
        "# create a function that connects to the datbase and returns a cursor object\n",
        "\n",
        "def connect_mysql_db(database):\n",
        "  try:\n",
        "      db = mysql.connector.connect(\n",
        "          host = hostname,\n",
        "          user = \"root\",\n",
        "          password = password,\n",
        "          database = database  # change this to your databse name\n",
        "      )\n",
        "\n",
        "      cursor = db.cursor()\n",
        "      return db, cursor\n",
        "  except mysql.connector.Error as e:\n",
        "    logging.error(f\"Failed to connect to database {database} : {e}\")\n",
        "    return None, None\n"
      ],
      "metadata": {
        "id": "cu0MFffm5zTK"
      },
      "execution_count": 7,
      "outputs": []
    },
    {
      "cell_type": "code",
      "source": [
        "# Create a route that creates a table on the databse using the parameters\n",
        "@app.route(\"/Table_operation/Mysql/create_table\", methods = [\"GET\"])\n",
        "def create_mysql_table():\n",
        "\n",
        "  # connect to the databse\n",
        "  db, cursor = connect_mysql_db(database)\n",
        "  if db is None or cursor is None:\n",
        "    return jsonify({\"message\" : f\"Failed to connect to database {database} .\"})\n",
        "\n",
        "  # create sql statement that creates a table with specifief name, fields and data types\n",
        "  sql = f\"CREATE TABLE IF NOT EXISTS {table_name}(\"\n",
        "  for i in range(len(table_fields)):\n",
        "      sql += f\"{table_fields[i]} {data_types[i]}\"\n",
        "      if i < len(table_fields) - 1:\n",
        "        sql += \", \"\n",
        "  sql += \")\"\n",
        "\n",
        "  # Execute the SQL Statement and commit the changes\n",
        "  try:\n",
        "    cursor.execute(sql)\n",
        "    db.commit()\n",
        "    logging.info(f\"Table {table_name} created successfully.\")\n",
        "    #Close the connection and return a success message\n",
        "    cursor.close()\n",
        "    db.close()\n",
        "    return jsonify({\"message\" : f\"Table {table_name} created succesfully .\"})\n",
        "  except mysql.connector.Error as e:\n",
        "    logging.error(f\"Failed to create table {table_name} : {e}\")\n",
        "    return jsonify({\"message\" : f\"Failed to create table {table_name} .\"})"
      ],
      "metadata": {
        "id": "ne9k42-t66Hs"
      },
      "execution_count": null,
      "outputs": []
    },
    {
      "cell_type": "code",
      "source": [
        "# Create a route that inserts a row of data into the table using the parameters\n",
        "\n",
        "@app.route(\"/Table_operation/Mysql/insert_row\", methods = [\"POST\"])\n",
        "def insert_data_mysql():\n",
        "  # Get the data from the request body as a JSON object\n",
        "  data = request.get_json()\n",
        "  # Validate the data and check if it has the same number and names of fields as the table\n",
        "  if data is None or len(data) != len(table_fields) or any(key not in table_fields for key in data.keys()):\n",
        "    return jsonify({\"message\" : f\"invalid data. Please provide a JSON object with \\\n",
        "    {len(table_fields)} fields : {','.join(table_fields)}.\"})\n",
        "  # Connect to the database\n",
        "  db,cursor = connect_mysql_db(database)\n",
        "  if db is None or cursor is None:\n",
        "        return jsonify({\"message\": f\"Failed to connect to database {database}.\"})\n",
        "\n",
        "  # Create a SQL statement that inserts a row of data into the table with the specified values\n",
        "  sql = f\"INSERT INTO {table_name} ({', '.join(table_fields)}) VALUES ({', '.join(['%s'] * len(table_fields))})\"\n",
        "  values = [data[key] for key in table_fields]\n",
        "  # Execute the SQL statement and commit the changes\n",
        "  try:\n",
        "        cursor.execute(sql, values)\n",
        "        db.commit()\n",
        "        logging.info(f\"Data inserted successfully: {data}\")\n",
        "        # Close the connection and return a success message\n",
        "        cursor.close()\n",
        "        db.close()\n",
        "        return jsonify({\"message\": f\"Data inserted successfully: {data}\"})\n",
        "  except mysql.connector.Error as e:\n",
        "        logging.error(f\"Failed to insert data: {data}: {e}\")\n",
        "        return jsonify({\"message\": f\"Failed to insert data: {data}.\"})\n"
      ],
      "metadata": {
        "id": "1051FqRdAVcX"
      },
      "execution_count": null,
      "outputs": []
    },
    {
      "cell_type": "code",
      "source": [
        "# Create a route that updates row(s) in a table on the database\n",
        "@app.route(\"/Table_operation/Mysql/update_table\", methods = [\"PUT\"])\n",
        "def update_mysql_table():\n",
        "    # Get the data from the request body as a JSON object\n",
        "    data = request.get_json()\n",
        "    # Validate the data and check if it has a valid condition and at least one field to update\n",
        "    if data is None or \"condition\" not in data or len(data) < 2 or any(key not in table_fields for key in data.keys() if key != \"condition\"):\n",
        "        return jsonify({\"message\": f\"Invalid data. Please provide a JSON object with a valid condition and at least one field to update from: {', '.join(table_fields)}.\"})\n",
        "    # Connect to the database\n",
        "    db, cursor = connect_mysql_db(database)\n",
        "    if db is None or cursor is None:\n",
        "        return jsonify({\"message\": f\"Failed to connect to database {database}.\"})\n",
        "    # Check if the table name exists in the database\n",
        "    sql = f\"SHOW TABLES LIKE '{table_name}'\"\n",
        "    cursor.execute(sql)\n",
        "    result = cursor.fetchone()\n",
        "    if result is None:\n",
        "        # If the table name does not exist, do nothing and return a message\n",
        "        logging.info(f\"Table {table_name} does not exist.\")\n",
        "        return jsonify({\"message\": f\"Table {table_name} does not exist.\"})\n",
        "    else:\n",
        "        # If the table name exists, create a SQL statement that updates rows in the table with the specified values and condition\n",
        "        sql = f\"UPDATE {table_name} SET \"\n",
        "        values = []\n",
        "        for key, value in data.items():\n",
        "            if key != \"condition\":\n",
        "                sql += f\"{key} = %s, \"\n",
        "                values.append(value)\n",
        "        sql = sql[:-2] # Remove the last comma and space\n",
        "        sql += f\" WHERE {data['condition']}\"\n",
        "        # Execute the SQL statement and commit the changes\n",
        "        try:\n",
        "            cursor.execute(sql, values)\n",
        "            db.commit()\n",
        "            logging.info(f\"Data updated successfully: {data}\")\n",
        "            # Close the connection and return a success message\n",
        "            cursor.close()\n",
        "            db.close()\n",
        "            return jsonify({\"message\": f\"Data updated successfully: {data}\"})\n",
        "        except mysql.connector.Error as e:\n",
        "            logging.error(f\"Failed to update data: {data}: {e}\")\n",
        "            return jsonify({\"message\": f\"Failed to update data: {data}.\"})"
      ],
      "metadata": {
        "id": "jYb_SBjJEmsm"
      },
      "execution_count": null,
      "outputs": []
    },
    {
      "cell_type": "markdown",
      "source": [
        "An example for the input JSON for the update_data API is:\n",
        "\n",
        "{\n",
        "    \"condition\": \"id = 1\",\n",
        "    \"name\": \"Alice\",\n",
        "    \"salary\": 5000.0\n",
        "}"
      ],
      "metadata": {
        "id": "rMC5nVReSwP3"
      }
    },
    {
      "cell_type": "code",
      "source": [],
      "metadata": {
        "id": "1pu3BoZREm1u"
      },
      "execution_count": null,
      "outputs": []
    },
    {
      "cell_type": "code",
      "source": [
        "# Run the app\n",
        "if __name__ == \"__main__\":\n",
        "    try:\n",
        "        app.run(debug=True)\n",
        "        logging.info(\"App running successfully.\")\n",
        "    except Exception as e:\n",
        "        logging.error(f\"App failed: {e}\")"
      ],
      "metadata": {
        "id": "A9i6mqpTEm8P"
      },
      "execution_count": null,
      "outputs": []
    }
  ]
}
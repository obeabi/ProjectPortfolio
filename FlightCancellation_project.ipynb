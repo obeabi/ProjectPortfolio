{
  "nbformat": 4,
  "nbformat_minor": 0,
  "metadata": {
    "colab": {
      "name": "FlightCancellation_project.ipynb",
      "provenance": [],
      "collapsed_sections": [
        "_XiUtgWGIOL4"
      ],
      "toc_visible": true,
      "include_colab_link": true
    },
    "kernelspec": {
      "name": "python3",
      "display_name": "Python 3"
    }
  },
  "cells": [
    {
      "cell_type": "markdown",
      "metadata": {
        "id": "view-in-github",
        "colab_type": "text"
      },
      "source": [
        "<a href=\"https://colab.research.google.com/github/obeabi/ProjectPortfolio/blob/master/FlightCancellation_project.ipynb\" target=\"_parent\"><img src=\"https://colab.research.google.com/assets/colab-badge.svg\" alt=\"Open In Colab\"/></a>"
      ]
    },
    {
      "cell_type": "markdown",
      "metadata": {
        "id": "gW-CD9qPUXiR"
      },
      "source": [
        "# Written by Abiola Obembe\n",
        "# SDS Challenge #1 - Flight Cancellations\n",
        "## 2020-10-30\n",
        "\n"
      ]
    },
    {
      "cell_type": "markdown",
      "metadata": {
        "id": "BaT4o-v0Up4V"
      },
      "source": [
        "## Problem Statement\n",
        "I have been hired by the US Department of Transportation (DOT) to analyze data from multiple airline carriers in the United States. The DOT wants to help airline carriers reduce the number of flight cancellations and improve travelers' experiences. My job is to help the DOT predict whether or not a flight will be canceled based on the data provided."
      ]
    },
    {
      "cell_type": "markdown",
      "metadata": {
        "id": "Nvyy8tV7VEZ5"
      },
      "source": [
        "### Data Preprocessing Tools"
      ]
    },
    {
      "cell_type": "code",
      "metadata": {
        "id": "UsUbaYb6VCZ_",
        "outputId": "f071045d-98b0-4883-e6ad-53af3b29d2c1",
        "colab": {
          "base_uri": "https://localhost:8080/"
        }
      },
      "source": [
        "\n",
        "# Importing the libraries\n",
        "import numpy as np\n",
        "import matplotlib.pyplot as plt\n",
        "import pandas as pd\n",
        "import seaborn as sns\n",
        "\n",
        "%matplotlib inline\n",
        "plt.rcParams['figure.figsize'] = (5.0, 4.0) # set default size of plots\n",
        "plt.rcParams['image.interpolation'] = 'nearest'\n",
        "plt.rcParams['image.cmap'] = 'gray'\n",
        "\n",
        "print('Libraries installed successfully!')"
      ],
      "execution_count": 10,
      "outputs": [
        {
          "output_type": "stream",
          "text": [
            "Libraries installed successfully!\n"
          ],
          "name": "stdout"
        }
      ]
    },
    {
      "cell_type": "code",
      "metadata": {
        "id": "IAN_VFooV8lb",
        "outputId": "8bc59f32-cb82-4e28-e942-fbdb462c0efd",
        "colab": {
          "base_uri": "https://localhost:8080/",
          "height": 215
        }
      },
      "source": [
        "# Importing the dataset and check the shape and total number of missing values\n",
        "\n",
        "df_train = pd.read_csv('public_flights.csv')\n",
        "\n",
        "df_train.head()\n",
        "\n"
      ],
      "execution_count": 12,
      "outputs": [
        {
          "output_type": "execute_result",
          "data": {
            "text/html": [
              "<div>\n",
              "<style scoped>\n",
              "    .dataframe tbody tr th:only-of-type {\n",
              "        vertical-align: middle;\n",
              "    }\n",
              "\n",
              "    .dataframe tbody tr th {\n",
              "        vertical-align: top;\n",
              "    }\n",
              "\n",
              "    .dataframe thead th {\n",
              "        text-align: right;\n",
              "    }\n",
              "</style>\n",
              "<table border=\"1\" class=\"dataframe\">\n",
              "  <thead>\n",
              "    <tr style=\"text-align: right;\">\n",
              "      <th></th>\n",
              "      <th>YEAR</th>\n",
              "      <th>MONTH</th>\n",
              "      <th>DAY</th>\n",
              "      <th>DAY_OF_WEEK</th>\n",
              "      <th>AIRLINE</th>\n",
              "      <th>FLIGHT_NUMBER</th>\n",
              "      <th>TAIL_NUMBER</th>\n",
              "      <th>ORIGIN_AIRPORT</th>\n",
              "      <th>DESTINATION_AIRPORT</th>\n",
              "      <th>SCHEDULED_DEPARTURE</th>\n",
              "      <th>SCHEDULED_TIME</th>\n",
              "      <th>DISTANCE</th>\n",
              "      <th>SCHEDULED_ARRIVAL</th>\n",
              "      <th>CANCELLED</th>\n",
              "    </tr>\n",
              "  </thead>\n",
              "  <tbody>\n",
              "    <tr>\n",
              "      <th>0</th>\n",
              "      <td>2015</td>\n",
              "      <td>1</td>\n",
              "      <td>1</td>\n",
              "      <td>4</td>\n",
              "      <td>AS</td>\n",
              "      <td>98</td>\n",
              "      <td>N407AS</td>\n",
              "      <td>ANC</td>\n",
              "      <td>SEA</td>\n",
              "      <td>5</td>\n",
              "      <td>205.0</td>\n",
              "      <td>1448</td>\n",
              "      <td>430</td>\n",
              "      <td>0</td>\n",
              "    </tr>\n",
              "    <tr>\n",
              "      <th>1</th>\n",
              "      <td>2015</td>\n",
              "      <td>1</td>\n",
              "      <td>1</td>\n",
              "      <td>4</td>\n",
              "      <td>AA</td>\n",
              "      <td>2336</td>\n",
              "      <td>N3KUAA</td>\n",
              "      <td>LAX</td>\n",
              "      <td>PBI</td>\n",
              "      <td>10</td>\n",
              "      <td>280.0</td>\n",
              "      <td>2330</td>\n",
              "      <td>750</td>\n",
              "      <td>0</td>\n",
              "    </tr>\n",
              "    <tr>\n",
              "      <th>2</th>\n",
              "      <td>2015</td>\n",
              "      <td>1</td>\n",
              "      <td>1</td>\n",
              "      <td>4</td>\n",
              "      <td>US</td>\n",
              "      <td>840</td>\n",
              "      <td>N171US</td>\n",
              "      <td>SFO</td>\n",
              "      <td>CLT</td>\n",
              "      <td>20</td>\n",
              "      <td>286.0</td>\n",
              "      <td>2296</td>\n",
              "      <td>806</td>\n",
              "      <td>0</td>\n",
              "    </tr>\n",
              "    <tr>\n",
              "      <th>3</th>\n",
              "      <td>2015</td>\n",
              "      <td>1</td>\n",
              "      <td>1</td>\n",
              "      <td>4</td>\n",
              "      <td>AA</td>\n",
              "      <td>258</td>\n",
              "      <td>N3HYAA</td>\n",
              "      <td>LAX</td>\n",
              "      <td>MIA</td>\n",
              "      <td>20</td>\n",
              "      <td>285.0</td>\n",
              "      <td>2342</td>\n",
              "      <td>805</td>\n",
              "      <td>0</td>\n",
              "    </tr>\n",
              "    <tr>\n",
              "      <th>4</th>\n",
              "      <td>2015</td>\n",
              "      <td>1</td>\n",
              "      <td>1</td>\n",
              "      <td>4</td>\n",
              "      <td>AS</td>\n",
              "      <td>135</td>\n",
              "      <td>N527AS</td>\n",
              "      <td>SEA</td>\n",
              "      <td>ANC</td>\n",
              "      <td>25</td>\n",
              "      <td>235.0</td>\n",
              "      <td>1448</td>\n",
              "      <td>320</td>\n",
              "      <td>0</td>\n",
              "    </tr>\n",
              "  </tbody>\n",
              "</table>\n",
              "</div>"
            ],
            "text/plain": [
              "   YEAR  MONTH  DAY  ...  DISTANCE SCHEDULED_ARRIVAL  CANCELLED\n",
              "0  2015      1    1  ...      1448               430          0\n",
              "1  2015      1    1  ...      2330               750          0\n",
              "2  2015      1    1  ...      2296               806          0\n",
              "3  2015      1    1  ...      2342               805          0\n",
              "4  2015      1    1  ...      1448               320          0\n",
              "\n",
              "[5 rows x 14 columns]"
            ]
          },
          "metadata": {
            "tags": []
          },
          "execution_count": 12
        }
      ]
    },
    {
      "cell_type": "code",
      "metadata": {
        "id": "B11R3A23b8os",
        "outputId": "c99c7bb0-693a-485c-c95c-d4fc392b3c0a",
        "colab": {
          "base_uri": "https://localhost:8080/"
        }
      },
      "source": [
        "# print target column name as a list\n",
        "target_column = [df_train.columns[-1]]\n",
        "\n",
        "print(target_column)"
      ],
      "execution_count": 13,
      "outputs": [
        {
          "output_type": "stream",
          "text": [
            "['CANCELLED']\n"
          ],
          "name": "stdout"
        }
      ]
    },
    {
      "cell_type": "code",
      "metadata": {
        "id": "Qy0G7oUKh0wV",
        "outputId": "90030ccf-b5a6-49cd-e939-82ee1a5b868f",
        "colab": {
          "base_uri": "https://localhost:8080/"
        }
      },
      "source": [
        "# Importing the train-set nd check the shape and total number of missing values\n",
        "\n",
        "print(\"The shape of the train-set is:\", (df_train.shape))\n",
        "print(\"The number of rows in the train-set is:\", str(df_train.shape[0]))\n",
        "print(\"The number of columns in the train-set is:\", str(df_train.shape[1]))\n",
        "\n",
        "missing_valuestrain = df_train.isnull().sum().sum()\n",
        "\n",
        "print(\"The number of missing values in the train-set is:\", str(missing_valuestrain))"
      ],
      "execution_count": 15,
      "outputs": [
        {
          "output_type": "stream",
          "text": [
            "The shape of the train-set is: (838858, 14)\n",
            "The number of rows in the train-set is: 838858\n",
            "The number of columns in the train-set is: 14\n",
            "The number of missing values in the train-set is: 5983\n"
          ],
          "name": "stdout"
        }
      ]
    },
    {
      "cell_type": "code",
      "metadata": {
        "id": "xCbWRNp_n7RS",
        "outputId": "dcbb6dfa-77b6-4ee6-c9f9-dde58f5cc0a8",
        "colab": {
          "base_uri": "https://localhost:8080/",
          "height": 195
        }
      },
      "source": [
        "# create dataframe for test test\n",
        "df_test = pd.read_csv('pred_flights.csv')\n",
        "df_test.head()"
      ],
      "execution_count": 16,
      "outputs": [
        {
          "output_type": "execute_result",
          "data": {
            "text/html": [
              "<div>\n",
              "<style scoped>\n",
              "    .dataframe tbody tr th:only-of-type {\n",
              "        vertical-align: middle;\n",
              "    }\n",
              "\n",
              "    .dataframe tbody tr th {\n",
              "        vertical-align: top;\n",
              "    }\n",
              "\n",
              "    .dataframe thead th {\n",
              "        text-align: right;\n",
              "    }\n",
              "</style>\n",
              "<table border=\"1\" class=\"dataframe\">\n",
              "  <thead>\n",
              "    <tr style=\"text-align: right;\">\n",
              "      <th></th>\n",
              "      <th>2015</th>\n",
              "      <th>2</th>\n",
              "      <th>25</th>\n",
              "      <th>3</th>\n",
              "      <th>WN</th>\n",
              "      <th>1046</th>\n",
              "      <th>N731SA</th>\n",
              "      <th>LAS</th>\n",
              "      <th>PHX</th>\n",
              "      <th>700</th>\n",
              "      <th>65</th>\n",
              "      <th>255</th>\n",
              "      <th>905</th>\n",
              "    </tr>\n",
              "  </thead>\n",
              "  <tbody>\n",
              "    <tr>\n",
              "      <th>0</th>\n",
              "      <td>2015</td>\n",
              "      <td>2</td>\n",
              "      <td>25</td>\n",
              "      <td>3</td>\n",
              "      <td>WN</td>\n",
              "      <td>2251</td>\n",
              "      <td>N279WN</td>\n",
              "      <td>LAS</td>\n",
              "      <td>RNO</td>\n",
              "      <td>700</td>\n",
              "      <td>80</td>\n",
              "      <td>345</td>\n",
              "      <td>820</td>\n",
              "    </tr>\n",
              "    <tr>\n",
              "      <th>1</th>\n",
              "      <td>2015</td>\n",
              "      <td>2</td>\n",
              "      <td>25</td>\n",
              "      <td>3</td>\n",
              "      <td>WN</td>\n",
              "      <td>857</td>\n",
              "      <td>N277WN</td>\n",
              "      <td>LAS</td>\n",
              "      <td>SMF</td>\n",
              "      <td>700</td>\n",
              "      <td>90</td>\n",
              "      <td>397</td>\n",
              "      <td>830</td>\n",
              "    </tr>\n",
              "    <tr>\n",
              "      <th>2</th>\n",
              "      <td>2015</td>\n",
              "      <td>2</td>\n",
              "      <td>25</td>\n",
              "      <td>3</td>\n",
              "      <td>WN</td>\n",
              "      <td>2864</td>\n",
              "      <td>N8632A</td>\n",
              "      <td>LAX</td>\n",
              "      <td>BWI</td>\n",
              "      <td>700</td>\n",
              "      <td>295</td>\n",
              "      <td>2329</td>\n",
              "      <td>1455</td>\n",
              "    </tr>\n",
              "    <tr>\n",
              "      <th>3</th>\n",
              "      <td>2015</td>\n",
              "      <td>2</td>\n",
              "      <td>25</td>\n",
              "      <td>3</td>\n",
              "      <td>WN</td>\n",
              "      <td>3220</td>\n",
              "      <td>N8659D</td>\n",
              "      <td>LAX</td>\n",
              "      <td>PHX</td>\n",
              "      <td>700</td>\n",
              "      <td>80</td>\n",
              "      <td>370</td>\n",
              "      <td>920</td>\n",
              "    </tr>\n",
              "    <tr>\n",
              "      <th>4</th>\n",
              "      <td>2015</td>\n",
              "      <td>2</td>\n",
              "      <td>25</td>\n",
              "      <td>3</td>\n",
              "      <td>WN</td>\n",
              "      <td>2954</td>\n",
              "      <td>N789SW</td>\n",
              "      <td>LGA</td>\n",
              "      <td>HOU</td>\n",
              "      <td>700</td>\n",
              "      <td>265</td>\n",
              "      <td>1428</td>\n",
              "      <td>1025</td>\n",
              "    </tr>\n",
              "  </tbody>\n",
              "</table>\n",
              "</div>"
            ],
            "text/plain": [
              "   2015  2  25  3  WN  1046  N731SA  LAS  PHX  700   65   255   905\n",
              "0  2015  2  25  3  WN  2251  N279WN  LAS  RNO  700   80   345   820\n",
              "1  2015  2  25  3  WN   857  N277WN  LAS  SMF  700   90   397   830\n",
              "2  2015  2  25  3  WN  2864  N8632A  LAX  BWI  700  295  2329  1455\n",
              "3  2015  2  25  3  WN  3220  N8659D  LAX  PHX  700   80   370   920\n",
              "4  2015  2  25  3  WN  2954  N789SW  LGA  HOU  700  265  1428  1025"
            ]
          },
          "metadata": {
            "tags": []
          },
          "execution_count": 16
        }
      ]
    },
    {
      "cell_type": "code",
      "metadata": {
        "id": "IYQNQY7on7s3",
        "outputId": "b7f8f252-e25b-4d57-bc11-1ae902db4349",
        "colab": {
          "base_uri": "https://localhost:8080/",
          "height": 215
        }
      },
      "source": [
        "# test set dataframe is missing headers information so we will re-initailize it, deleting the target column label\n",
        "labels = df_train.columns\n",
        "new_label= labels[:-1]\n",
        "\n",
        "new_label\n",
        "df_test = pd.read_csv('pred_flights.csv', header =None, names = new_label)\n",
        "\n",
        "df_test.head()"
      ],
      "execution_count": 17,
      "outputs": [
        {
          "output_type": "execute_result",
          "data": {
            "text/html": [
              "<div>\n",
              "<style scoped>\n",
              "    .dataframe tbody tr th:only-of-type {\n",
              "        vertical-align: middle;\n",
              "    }\n",
              "\n",
              "    .dataframe tbody tr th {\n",
              "        vertical-align: top;\n",
              "    }\n",
              "\n",
              "    .dataframe thead th {\n",
              "        text-align: right;\n",
              "    }\n",
              "</style>\n",
              "<table border=\"1\" class=\"dataframe\">\n",
              "  <thead>\n",
              "    <tr style=\"text-align: right;\">\n",
              "      <th></th>\n",
              "      <th>YEAR</th>\n",
              "      <th>MONTH</th>\n",
              "      <th>DAY</th>\n",
              "      <th>DAY_OF_WEEK</th>\n",
              "      <th>AIRLINE</th>\n",
              "      <th>FLIGHT_NUMBER</th>\n",
              "      <th>TAIL_NUMBER</th>\n",
              "      <th>ORIGIN_AIRPORT</th>\n",
              "      <th>DESTINATION_AIRPORT</th>\n",
              "      <th>SCHEDULED_DEPARTURE</th>\n",
              "      <th>SCHEDULED_TIME</th>\n",
              "      <th>DISTANCE</th>\n",
              "      <th>SCHEDULED_ARRIVAL</th>\n",
              "    </tr>\n",
              "  </thead>\n",
              "  <tbody>\n",
              "    <tr>\n",
              "      <th>0</th>\n",
              "      <td>2015</td>\n",
              "      <td>2</td>\n",
              "      <td>25</td>\n",
              "      <td>3</td>\n",
              "      <td>WN</td>\n",
              "      <td>1046</td>\n",
              "      <td>N731SA</td>\n",
              "      <td>LAS</td>\n",
              "      <td>PHX</td>\n",
              "      <td>700</td>\n",
              "      <td>65</td>\n",
              "      <td>255</td>\n",
              "      <td>905</td>\n",
              "    </tr>\n",
              "    <tr>\n",
              "      <th>1</th>\n",
              "      <td>2015</td>\n",
              "      <td>2</td>\n",
              "      <td>25</td>\n",
              "      <td>3</td>\n",
              "      <td>WN</td>\n",
              "      <td>2251</td>\n",
              "      <td>N279WN</td>\n",
              "      <td>LAS</td>\n",
              "      <td>RNO</td>\n",
              "      <td>700</td>\n",
              "      <td>80</td>\n",
              "      <td>345</td>\n",
              "      <td>820</td>\n",
              "    </tr>\n",
              "    <tr>\n",
              "      <th>2</th>\n",
              "      <td>2015</td>\n",
              "      <td>2</td>\n",
              "      <td>25</td>\n",
              "      <td>3</td>\n",
              "      <td>WN</td>\n",
              "      <td>857</td>\n",
              "      <td>N277WN</td>\n",
              "      <td>LAS</td>\n",
              "      <td>SMF</td>\n",
              "      <td>700</td>\n",
              "      <td>90</td>\n",
              "      <td>397</td>\n",
              "      <td>830</td>\n",
              "    </tr>\n",
              "    <tr>\n",
              "      <th>3</th>\n",
              "      <td>2015</td>\n",
              "      <td>2</td>\n",
              "      <td>25</td>\n",
              "      <td>3</td>\n",
              "      <td>WN</td>\n",
              "      <td>2864</td>\n",
              "      <td>N8632A</td>\n",
              "      <td>LAX</td>\n",
              "      <td>BWI</td>\n",
              "      <td>700</td>\n",
              "      <td>295</td>\n",
              "      <td>2329</td>\n",
              "      <td>1455</td>\n",
              "    </tr>\n",
              "    <tr>\n",
              "      <th>4</th>\n",
              "      <td>2015</td>\n",
              "      <td>2</td>\n",
              "      <td>25</td>\n",
              "      <td>3</td>\n",
              "      <td>WN</td>\n",
              "      <td>3220</td>\n",
              "      <td>N8659D</td>\n",
              "      <td>LAX</td>\n",
              "      <td>PHX</td>\n",
              "      <td>700</td>\n",
              "      <td>80</td>\n",
              "      <td>370</td>\n",
              "      <td>920</td>\n",
              "    </tr>\n",
              "  </tbody>\n",
              "</table>\n",
              "</div>"
            ],
            "text/plain": [
              "   YEAR  MONTH  DAY  ...  SCHEDULED_TIME DISTANCE  SCHEDULED_ARRIVAL\n",
              "0  2015      2   25  ...              65      255                905\n",
              "1  2015      2   25  ...              80      345                820\n",
              "2  2015      2   25  ...              90      397                830\n",
              "3  2015      2   25  ...             295     2329               1455\n",
              "4  2015      2   25  ...              80      370                920\n",
              "\n",
              "[5 rows x 13 columns]"
            ]
          },
          "metadata": {
            "tags": []
          },
          "execution_count": 17
        }
      ]
    },
    {
      "cell_type": "code",
      "metadata": {
        "id": "3dGjL3dCoEq0",
        "outputId": "638f4605-0dca-4c44-939c-6df01ac85e83",
        "colab": {
          "base_uri": "https://localhost:8080/"
        }
      },
      "source": [
        "# Importing the test-set and check the shape and total number of missing values\n",
        "\n",
        "print(\"The shape of the test-set is:\", (df_test.shape))\n",
        "print(\"The number of rows in the test-set is:\", str(df_test.shape[0]))\n",
        "print(\"The number of columns in the test-set is:\", str(df_test.shape[1]))\n",
        "\n",
        "missing_valuestest = df_test.isnull().sum().sum()\n",
        "\n",
        "print(\"The number of missing values in the test-set is:\", str(missing_valuestest))"
      ],
      "execution_count": 18,
      "outputs": [
        {
          "output_type": "stream",
          "text": [
            "The shape of the test-set is: (209717, 13)\n",
            "The number of rows in the test-set is: 209717\n",
            "The number of columns in the test-set is: 13\n",
            "The number of missing values in the test-set is: 1769\n"
          ],
          "name": "stdout"
        }
      ]
    },
    {
      "cell_type": "markdown",
      "metadata": {
        "id": "qDQCCXw1oIWW"
      },
      "source": [
        "### Feature Engineering"
      ]
    },
    {
      "cell_type": "code",
      "metadata": {
        "id": "7EuLlcgtk9IV",
        "outputId": "5bee818e-1242-4d5b-fbc9-de9848449df4",
        "colab": {
          "base_uri": "https://localhost:8080/"
        }
      },
      "source": [
        "# Examine the data types for train dataframe\n",
        "df_train.dtypes"
      ],
      "execution_count": 19,
      "outputs": [
        {
          "output_type": "execute_result",
          "data": {
            "text/plain": [
              "YEAR                     int64\n",
              "MONTH                    int64\n",
              "DAY                      int64\n",
              "DAY_OF_WEEK              int64\n",
              "AIRLINE                 object\n",
              "FLIGHT_NUMBER            int64\n",
              "TAIL_NUMBER             object\n",
              "ORIGIN_AIRPORT          object\n",
              "DESTINATION_AIRPORT     object\n",
              "SCHEDULED_DEPARTURE      int64\n",
              "SCHEDULED_TIME         float64\n",
              "DISTANCE                 int64\n",
              "SCHEDULED_ARRIVAL        int64\n",
              "CANCELLED                int64\n",
              "dtype: object"
            ]
          },
          "metadata": {
            "tags": []
          },
          "execution_count": 19
        }
      ]
    },
    {
      "cell_type": "code",
      "metadata": {
        "id": "veARPOxffHyz",
        "outputId": "51821065-7255-461d-8ea2-28512eb9bab6",
        "colab": {
          "base_uri": "https://localhost:8080/"
        }
      },
      "source": [
        "# Check for data frame info\n",
        "df_train.info()"
      ],
      "execution_count": 21,
      "outputs": [
        {
          "output_type": "stream",
          "text": [
            "<class 'pandas.core.frame.DataFrame'>\n",
            "RangeIndex: 838858 entries, 0 to 838857\n",
            "Data columns (total 14 columns):\n",
            " #   Column               Non-Null Count   Dtype  \n",
            "---  ------               --------------   -----  \n",
            " 0   YEAR                 838858 non-null  int64  \n",
            " 1   MONTH                838858 non-null  int64  \n",
            " 2   DAY                  838858 non-null  int64  \n",
            " 3   DAY_OF_WEEK          838858 non-null  int64  \n",
            " 4   AIRLINE              838858 non-null  object \n",
            " 5   FLIGHT_NUMBER        838858 non-null  int64  \n",
            " 6   TAIL_NUMBER          832877 non-null  object \n",
            " 7   ORIGIN_AIRPORT       838858 non-null  object \n",
            " 8   DESTINATION_AIRPORT  838858 non-null  object \n",
            " 9   SCHEDULED_DEPARTURE  838858 non-null  int64  \n",
            " 10  SCHEDULED_TIME       838856 non-null  float64\n",
            " 11  DISTANCE             838858 non-null  int64  \n",
            " 12  SCHEDULED_ARRIVAL    838858 non-null  int64  \n",
            " 13  CANCELLED            838858 non-null  int64  \n",
            "dtypes: float64(1), int64(9), object(4)\n",
            "memory usage: 89.6+ MB\n"
          ],
          "name": "stdout"
        }
      ]
    },
    {
      "cell_type": "code",
      "metadata": {
        "id": "iiFcG975h-XS",
        "outputId": "6b4a3ed7-02cf-48f6-8182-c61185033584",
        "colab": {
          "base_uri": "https://localhost:8080/"
        }
      },
      "source": [
        "# Dealing with missing values in the train-set\n",
        "\n",
        "df_train.isnull().sum()"
      ],
      "execution_count": 22,
      "outputs": [
        {
          "output_type": "execute_result",
          "data": {
            "text/plain": [
              "YEAR                      0\n",
              "MONTH                     0\n",
              "DAY                       0\n",
              "DAY_OF_WEEK               0\n",
              "AIRLINE                   0\n",
              "FLIGHT_NUMBER             0\n",
              "TAIL_NUMBER            5981\n",
              "ORIGIN_AIRPORT            0\n",
              "DESTINATION_AIRPORT       0\n",
              "SCHEDULED_DEPARTURE       0\n",
              "SCHEDULED_TIME            2\n",
              "DISTANCE                  0\n",
              "SCHEDULED_ARRIVAL         0\n",
              "CANCELLED                 0\n",
              "dtype: int64"
            ]
          },
          "metadata": {
            "tags": []
          },
          "execution_count": 22
        }
      ]
    },
    {
      "cell_type": "markdown",
      "metadata": {
        "id": "v47C0PRloUg1"
      },
      "source": [
        "#### Step 1: Dealing with Missing Values: Tail_number and scheduled_time columns specifically in this project"
      ]
    },
    {
      "cell_type": "markdown",
      "metadata": {
        "id": "hJoAAPpvzyBV"
      },
      "source": [
        "##### Numerical columns"
      ]
    },
    {
      "cell_type": "code",
      "metadata": {
        "id": "fs9jDqJ_c1ny",
        "outputId": "331c3644-4666-41c2-dab4-fb8afd5dd718",
        "colab": {
          "base_uri": "https://localhost:8080/"
        }
      },
      "source": [
        "# Find numerical columns from df_train dataframe\n",
        "num_columns = df_train.select_dtypes(include = [int, float]).columns\n",
        "num_sets, target_set = (set(num_columns)), set(target_column)\n",
        "num_sets = num_sets - target_set\n",
        "num_cats = list(num_sets)\n",
        "num_cats"
      ],
      "execution_count": 54,
      "outputs": [
        {
          "output_type": "execute_result",
          "data": {
            "text/plain": [
              "['DISTANCE',\n",
              " 'SCHEDULED_TIME',\n",
              " 'FLIGHT_NUMBER',\n",
              " 'SCHEDULED_DEPARTURE',\n",
              " 'SCHEDULED_ARRIVAL',\n",
              " 'DAY',\n",
              " 'MONTH',\n",
              " 'SCHEDULED_TIME_mean',\n",
              " 'YEAR',\n",
              " 'DAY_OF_WEEK']"
            ]
          },
          "metadata": {
            "tags": []
          },
          "execution_count": 54
        }
      ]
    },
    {
      "cell_type": "code",
      "metadata": {
        "id": "T8aryAxNewrj",
        "outputId": "4cd1dc9c-99ef-4861-f4db-2c1c3db76413",
        "colab": {
          "base_uri": "https://localhost:8080/"
        }
      },
      "source": [
        "# Select missing numerical variables and ensure it confims with earlier observation\n",
        "num_missing = []\n",
        "\n",
        "for cols in num_cats:\n",
        "   if df_train[cols].isnull().sum() > 0:\n",
        "     num_missing.append(cols)\n",
        "   else:\n",
        "     pass\n",
        "  \n",
        "num_missing\n"
      ],
      "execution_count": 68,
      "outputs": [
        {
          "output_type": "execute_result",
          "data": {
            "text/plain": [
              "['SCHEDULED_TIME']"
            ]
          },
          "metadata": {
            "tags": []
          },
          "execution_count": 68
        }
      ]
    },
    {
      "cell_type": "code",
      "metadata": {
        "id": "ZHyrdpeOoTye"
      },
      "source": [
        "# Mean/Median/Mode, Random, End of distribution Imputation\n",
        "def impute_nan(df, variable):\n",
        "  #df[variable+\"_median\"] = df[variable].fillna(df[variable].median() )\n",
        "  df[variable+\"_mean\"] = df[variable].fillna(df[variable].mean() )\n",
        "  #df[variable+\"_mode\"] = df[variable].fillna(df[variable].mode() )\n",
        "  #df[variable+\"_random\"]=df[variable]\n",
        "  #df[variable+\"_end_distribution\"]=df[variable].fillna(df[variable].mean()+3*df[variable].std() )\n",
        "  #df[variable+'_zero']=df[variable].fillna(0)\n",
        "  #df[variable+'_hundred']=df[variable].fillna(100)\n",
        "  ##It will have the random sample to fill the na\n",
        "  #random_sample=df[variable].dropna().sample(df[variable].isnull().sum(),random_state=0)\n",
        "  ##pandas need to have same index in order to merge the dataset\n",
        "  #random_sample.index=df[df[variable].isnull()].index\n",
        "  #df.loc[df[variable].isnull(),variable+'_random']=random_sample"
      ],
      "execution_count": 45,
      "outputs": []
    },
    {
      "cell_type": "code",
      "metadata": {
        "id": "0v7wueyFppzi",
        "outputId": "42d59593-a000-4506-e301-f168d2607237",
        "colab": {
          "base_uri": "https://localhost:8080/",
          "height": 215
        }
      },
      "source": [
        "# Fill missing values of the numerical categories column of df_train with median values\n",
        "for cols in cat_missing:\n",
        "    impute_nan(df_train, cols)\n",
        "\n",
        "df_train.head()"
      ],
      "execution_count": 46,
      "outputs": [
        {
          "output_type": "execute_result",
          "data": {
            "text/html": [
              "<div>\n",
              "<style scoped>\n",
              "    .dataframe tbody tr th:only-of-type {\n",
              "        vertical-align: middle;\n",
              "    }\n",
              "\n",
              "    .dataframe tbody tr th {\n",
              "        vertical-align: top;\n",
              "    }\n",
              "\n",
              "    .dataframe thead th {\n",
              "        text-align: right;\n",
              "    }\n",
              "</style>\n",
              "<table border=\"1\" class=\"dataframe\">\n",
              "  <thead>\n",
              "    <tr style=\"text-align: right;\">\n",
              "      <th></th>\n",
              "      <th>YEAR</th>\n",
              "      <th>MONTH</th>\n",
              "      <th>DAY</th>\n",
              "      <th>DAY_OF_WEEK</th>\n",
              "      <th>AIRLINE</th>\n",
              "      <th>FLIGHT_NUMBER</th>\n",
              "      <th>TAIL_NUMBER</th>\n",
              "      <th>ORIGIN_AIRPORT</th>\n",
              "      <th>DESTINATION_AIRPORT</th>\n",
              "      <th>SCHEDULED_DEPARTURE</th>\n",
              "      <th>SCHEDULED_TIME</th>\n",
              "      <th>DISTANCE</th>\n",
              "      <th>SCHEDULED_ARRIVAL</th>\n",
              "      <th>CANCELLED</th>\n",
              "      <th>SCHEDULED_TIME_mean</th>\n",
              "    </tr>\n",
              "  </thead>\n",
              "  <tbody>\n",
              "    <tr>\n",
              "      <th>0</th>\n",
              "      <td>2015</td>\n",
              "      <td>1</td>\n",
              "      <td>1</td>\n",
              "      <td>4</td>\n",
              "      <td>AS</td>\n",
              "      <td>98</td>\n",
              "      <td>N407AS</td>\n",
              "      <td>ANC</td>\n",
              "      <td>SEA</td>\n",
              "      <td>5</td>\n",
              "      <td>205.0</td>\n",
              "      <td>1448</td>\n",
              "      <td>430</td>\n",
              "      <td>0</td>\n",
              "      <td>205.0</td>\n",
              "    </tr>\n",
              "    <tr>\n",
              "      <th>1</th>\n",
              "      <td>2015</td>\n",
              "      <td>1</td>\n",
              "      <td>1</td>\n",
              "      <td>4</td>\n",
              "      <td>AA</td>\n",
              "      <td>2336</td>\n",
              "      <td>N3KUAA</td>\n",
              "      <td>LAX</td>\n",
              "      <td>PBI</td>\n",
              "      <td>10</td>\n",
              "      <td>280.0</td>\n",
              "      <td>2330</td>\n",
              "      <td>750</td>\n",
              "      <td>0</td>\n",
              "      <td>280.0</td>\n",
              "    </tr>\n",
              "    <tr>\n",
              "      <th>2</th>\n",
              "      <td>2015</td>\n",
              "      <td>1</td>\n",
              "      <td>1</td>\n",
              "      <td>4</td>\n",
              "      <td>US</td>\n",
              "      <td>840</td>\n",
              "      <td>N171US</td>\n",
              "      <td>SFO</td>\n",
              "      <td>CLT</td>\n",
              "      <td>20</td>\n",
              "      <td>286.0</td>\n",
              "      <td>2296</td>\n",
              "      <td>806</td>\n",
              "      <td>0</td>\n",
              "      <td>286.0</td>\n",
              "    </tr>\n",
              "    <tr>\n",
              "      <th>3</th>\n",
              "      <td>2015</td>\n",
              "      <td>1</td>\n",
              "      <td>1</td>\n",
              "      <td>4</td>\n",
              "      <td>AA</td>\n",
              "      <td>258</td>\n",
              "      <td>N3HYAA</td>\n",
              "      <td>LAX</td>\n",
              "      <td>MIA</td>\n",
              "      <td>20</td>\n",
              "      <td>285.0</td>\n",
              "      <td>2342</td>\n",
              "      <td>805</td>\n",
              "      <td>0</td>\n",
              "      <td>285.0</td>\n",
              "    </tr>\n",
              "    <tr>\n",
              "      <th>4</th>\n",
              "      <td>2015</td>\n",
              "      <td>1</td>\n",
              "      <td>1</td>\n",
              "      <td>4</td>\n",
              "      <td>AS</td>\n",
              "      <td>135</td>\n",
              "      <td>N527AS</td>\n",
              "      <td>SEA</td>\n",
              "      <td>ANC</td>\n",
              "      <td>25</td>\n",
              "      <td>235.0</td>\n",
              "      <td>1448</td>\n",
              "      <td>320</td>\n",
              "      <td>0</td>\n",
              "      <td>235.0</td>\n",
              "    </tr>\n",
              "  </tbody>\n",
              "</table>\n",
              "</div>"
            ],
            "text/plain": [
              "   YEAR  MONTH  DAY  ...  SCHEDULED_ARRIVAL CANCELLED  SCHEDULED_TIME_mean\n",
              "0  2015      1    1  ...                430         0                205.0\n",
              "1  2015      1    1  ...                750         0                280.0\n",
              "2  2015      1    1  ...                806         0                286.0\n",
              "3  2015      1    1  ...                805         0                285.0\n",
              "4  2015      1    1  ...                320         0                235.0\n",
              "\n",
              "[5 rows x 15 columns]"
            ]
          },
          "metadata": {
            "tags": []
          },
          "execution_count": 46
        }
      ]
    },
    {
      "cell_type": "code",
      "metadata": {
        "id": "azb6GfvnqlAP",
        "outputId": "fffaf16c-84ec-4f85-c2b6-e22c253f15b7",
        "colab": {
          "base_uri": "https://localhost:8080/"
        }
      },
      "source": [
        "# Check of missing values still exist\n",
        "df_train[num_cats].isnull().sum()"
      ],
      "execution_count": 56,
      "outputs": [
        {
          "output_type": "execute_result",
          "data": {
            "text/plain": [
              "DISTANCE               0\n",
              "SCHEDULED_TIME         2\n",
              "FLIGHT_NUMBER          0\n",
              "SCHEDULED_DEPARTURE    0\n",
              "SCHEDULED_ARRIVAL      0\n",
              "DAY                    0\n",
              "MONTH                  0\n",
              "SCHEDULED_TIME_mean    0\n",
              "YEAR                   0\n",
              "DAY_OF_WEEK            0\n",
              "dtype: int64"
            ]
          },
          "metadata": {
            "tags": []
          },
          "execution_count": 56
        }
      ]
    },
    {
      "cell_type": "code",
      "metadata": {
        "id": "AxI-dedenrcC",
        "outputId": "47db5276-b91a-4f0b-dcc3-5ec2b1335076",
        "colab": {
          "base_uri": "https://localhost:8080/"
        }
      },
      "source": [
        "# Let's manually investigate the std of the newly created column and original column\n",
        "\n",
        "\n",
        "print(\"The standard deviation for the orignal column is\", df_train.SCHEDULED_TIME.std())\n",
        "\n",
        "print(\"The standard deviation for the newly encoded column (random imputter) is\", df_train.SCHEDULED_TIME_mean.std())"
      ],
      "execution_count": 60,
      "outputs": [
        {
          "output_type": "stream",
          "text": [
            "The standard deviation for the orignal column is 74.62359831105842\n",
            "The standard deviation for the newly encoded column (random imputter) is 74.62350935234103\n"
          ],
          "name": "stdout"
        }
      ]
    },
    {
      "cell_type": "code",
      "metadata": {
        "id": "cvY2V5zUrRJW",
        "outputId": "3f2fa557-94c4-457b-df87-1de4e8cbda1f",
        "colab": {
          "base_uri": "https://localhost:8080/",
          "height": 374
        }
      },
      "source": [
        "# Plot kde distributions of both distributions\n",
        "fig = plt.figure(figsize= (8,6))\n",
        "ax = fig.add_subplot(111)\n",
        "df_train.SCHEDULED_TIME.plot(kind='kde', ax=ax, color = 'blue')\n",
        "df_train.SCHEDULED_TIME_mean.plot(kind='kde', ax=ax, color='red')\n",
        "\n",
        "lines, labels = ax.get_legend_handles_labels()\n",
        "ax.legend(lines, labels, loc='best')\n",
        "plt.show()"
      ],
      "execution_count": 59,
      "outputs": [
        {
          "output_type": "display_data",
          "data": {
            "image/png": "[encoded data removed]",
            "text/plain": [
              "<Figure size 576x432 with 1 Axes>"
            ]
          },
          "metadata": {
            "tags": [],
            "needs_background": "light"
          }
        }
      ]
    },
    {
      "cell_type": "code",
      "metadata": {
        "id": "87AixG0v4zKW",
        "outputId": "ea3e402f-8159-43eb-dbcc-becbb0e35016",
        "colab": {
          "base_uri": "https://localhost:8080/",
          "height": 265
        }
      },
      "source": [
        "# Plot histogram of SCHEDULED_TIME\n",
        "df_train. SCHEDULED_TIME.hist(bins=50)\n",
        "plt.show()"
      ],
      "execution_count": 61,
      "outputs": [
        {
          "output_type": "display_data",
          "data": {
            "image/png": "[encoded data removed]",
            "text/plain": [
              "<Figure size 360x288 with 1 Axes>"
            ]
          },
          "metadata": {
            "tags": [],
            "needs_background": "light"
          }
        }
      ]
    },
    {
      "cell_type": "code",
      "metadata": {
        "id": "wTVydx8r46kH",
        "outputId": "1c2c5acc-5ab0-4fa1-fe56-10d0b4aa4ffc",
        "colab": {
          "base_uri": "https://localhost:8080/",
          "height": 265
        }
      },
      "source": [
        "# Plot histogram of SCHEDULED_TIME_end_distribution\n",
        "df_train['SCHEDULED_TIME_mean'].hist(bins=50)\n",
        "plt.show()"
      ],
      "execution_count": 62,
      "outputs": [
        {
          "output_type": "display_data",
          "data": {
            "image/png": "[encoded data removed]",
            "text/plain": [
              "<Figure size 360x288 with 1 Axes>"
            ]
          },
          "metadata": {
            "tags": [],
            "needs_background": "light"
          }
        }
      ]
    },
    {
      "cell_type": "code",
      "metadata": {
        "id": "8RlKHO8V45hZ",
        "outputId": "9af599d1-b751-414c-89f6-e1c470546c3a",
        "colab": {
          "base_uri": "https://localhost:8080/",
          "height": 334
        }
      },
      "source": [
        "# Boxplot of column\n",
        "sns.boxplot('SCHEDULED_TIME',data=df_train)\n",
        "plt.show()"
      ],
      "execution_count": 63,
      "outputs": [
        {
          "output_type": "stream",
          "text": [
            "/usr/local/lib/python3.6/dist-packages/seaborn/_decorators.py:43: FutureWarning: Pass the following variable as a keyword arg: x. From version 0.12, the only valid positional argument will be `data`, and passing other arguments without an explicit keyword will result in an error or misinterpretation.\n",
            "  FutureWarning\n"
          ],
          "name": "stderr"
        },
        {
          "output_type": "display_data",
          "data": {
            "image/png": "[encoded data removed]",
            "text/plain": [
              "<Figure size 360x288 with 1 Axes>"
            ]
          },
          "metadata": {
            "tags": [],
            "needs_background": "light"
          }
        }
      ]
    },
    {
      "cell_type": "code",
      "metadata": {
        "id": "ARaYe1yh5MbO",
        "outputId": "12206964-d9ee-4f93-f1ad-9458ac291315",
        "colab": {
          "base_uri": "https://localhost:8080/",
          "height": 334
        }
      },
      "source": [
        "# Boxplot of column\n",
        "sns.boxplot('SCHEDULED_TIME_mean',data=df_train)\n",
        "plt.show()"
      ],
      "execution_count": 64,
      "outputs": [
        {
          "output_type": "stream",
          "text": [
            "/usr/local/lib/python3.6/dist-packages/seaborn/_decorators.py:43: FutureWarning: Pass the following variable as a keyword arg: x. From version 0.12, the only valid positional argument will be `data`, and passing other arguments without an explicit keyword will result in an error or misinterpretation.\n",
            "  FutureWarning\n"
          ],
          "name": "stderr"
        },
        {
          "output_type": "display_data",
          "data": {
            "image/png": "[encoded data removed]",
            "text/plain": [
              "<Figure size 360x288 with 1 Axes>"
            ]
          },
          "metadata": {
            "tags": [],
            "needs_background": "light"
          }
        }
      ]
    },
    {
      "cell_type": "markdown",
      "metadata": {
        "id": "WLl9U-038yZh"
      },
      "source": [
        "##### Categorical Columns"
      ]
    },
    {
      "cell_type": "code",
      "metadata": {
        "id": "qBksJth7_Byo",
        "outputId": "d92c6d0b-7820-4f4a-eb5f-c1166d4fb869",
        "colab": {
          "base_uri": "https://localhost:8080/"
        }
      },
      "source": [
        "# Select categorical columns\n",
        "cat_cols = df_train.select_dtypes(exclude=['int', 'float']).columns\n",
        "cat_set = set(cat_cols) - target_set\n",
        "catt_cols = list(cat_cols)\n",
        "catt_cols"
      ],
      "execution_count": 65,
      "outputs": [
        {
          "output_type": "execute_result",
          "data": {
            "text/plain": [
              "['AIRLINE', 'TAIL_NUMBER', 'ORIGIN_AIRPORT', 'DESTINATION_AIRPORT']"
            ]
          },
          "metadata": {
            "tags": []
          },
          "execution_count": 65
        }
      ]
    },
    {
      "cell_type": "code",
      "metadata": {
        "id": "C1U832qy_oYP",
        "outputId": "978e2dc5-6526-4a70-a647-d44113365b4a",
        "colab": {
          "base_uri": "https://localhost:8080/"
        }
      },
      "source": [
        "# Check for the categorical columns with missing values and corroborat ewith earlier findings\n",
        "\n",
        "df_train[catt_cols].isnull().sum().sort_values()"
      ],
      "execution_count": 67,
      "outputs": [
        {
          "output_type": "execute_result",
          "data": {
            "text/plain": [
              "AIRLINE                   0\n",
              "ORIGIN_AIRPORT            0\n",
              "DESTINATION_AIRPORT       0\n",
              "TAIL_NUMBER            5981\n",
              "dtype: int64"
            ]
          },
          "metadata": {
            "tags": []
          },
          "execution_count": 67
        }
      ]
    },
    {
      "cell_type": "code",
      "metadata": {
        "id": "JWxaLUgT_0MH",
        "outputId": "61701b12-61c2-4560-8ea5-920dfd585a68",
        "colab": {
          "base_uri": "https://localhost:8080/"
        }
      },
      "source": [
        "# Select missing categorical variables and ensure it confims with earlier observation\n",
        "cat_missing = []\n",
        "\n",
        "for cols in cat_cols:\n",
        "   if df_train[cols].isnull().sum() > 0:\n",
        "     cat_missing.append(cols)\n",
        "   else:\n",
        "     pass\n",
        "  \n",
        "cat_missing"
      ],
      "execution_count": 69,
      "outputs": [
        {
          "output_type": "execute_result",
          "data": {
            "text/plain": [
              "['TAIL_NUMBER']"
            ]
          },
          "metadata": {
            "tags": []
          },
          "execution_count": 69
        }
      ]
    },
    {
      "cell_type": "code",
      "metadata": {
        "id": "gZ6ORePllxQT",
        "outputId": "71c0c093-12c8-4e10-fdd6-e92219114e1d",
        "colab": {
          "base_uri": "https://localhost:8080/"
        }
      },
      "source": [
        "# Lets check the amount of unique values in each column with missing values\n",
        "\n",
        "for col in cat_missing:\n",
        "  print('----------------------------------------------')\n",
        "  print(col)\n",
        "  print('The number of unique values in column named', col, 'is', ( df_train[col].unique()).shape[0])\n",
        "  print('The mode of distribution for the values in column named', col, 'is', ( df_train[col].mode()[0]))"
      ],
      "execution_count": 82,
      "outputs": [
        {
          "output_type": "stream",
          "text": [
            "----------------------------------------------\n",
            "TAIL_NUMBER\n",
            "The number of unique values in column named TAIL_NUMBER is 4479\n",
            "The mode of distribution for the values in column named TAIL_NUMBER is N477HA\n"
          ],
          "name": "stdout"
        }
      ]
    },
    {
      "cell_type": "code",
      "metadata": {
        "id": "onuDxyq1CAMD"
      },
      "source": [
        "# create imputer function for categorical columns based on highest frequency\n",
        "def impute_nan(df,variable):\n",
        "    most_frequent_category=df[variable].mode()[0]\n",
        "    df[variable].fillna(most_frequent_category,inplace=True)"
      ],
      "execution_count": 83,
      "outputs": []
    },
    {
      "cell_type": "code",
      "metadata": {
        "id": "77rJglkYCOw3",
        "outputId": "0ef19a55-55f0-4a70-c848-39ed4f28026a",
        "colab": {
          "base_uri": "https://localhost:8080/",
          "height": 195
        }
      },
      "source": [
        "# Apply function on categorical columns\n",
        "\n",
        "for feature in cat_missing:\n",
        "    impute_nan(df_train,feature)\n",
        "\n",
        "df_train[cat_cols].head()"
      ],
      "execution_count": 85,
      "outputs": [
        {
          "output_type": "execute_result",
          "data": {
            "text/html": [
              "<div>\n",
              "<style scoped>\n",
              "    .dataframe tbody tr th:only-of-type {\n",
              "        vertical-align: middle;\n",
              "    }\n",
              "\n",
              "    .dataframe tbody tr th {\n",
              "        vertical-align: top;\n",
              "    }\n",
              "\n",
              "    .dataframe thead th {\n",
              "        text-align: right;\n",
              "    }\n",
              "</style>\n",
              "<table border=\"1\" class=\"dataframe\">\n",
              "  <thead>\n",
              "    <tr style=\"text-align: right;\">\n",
              "      <th></th>\n",
              "      <th>AIRLINE</th>\n",
              "      <th>TAIL_NUMBER</th>\n",
              "      <th>ORIGIN_AIRPORT</th>\n",
              "      <th>DESTINATION_AIRPORT</th>\n",
              "    </tr>\n",
              "  </thead>\n",
              "  <tbody>\n",
              "    <tr>\n",
              "      <th>0</th>\n",
              "      <td>AS</td>\n",
              "      <td>N407AS</td>\n",
              "      <td>ANC</td>\n",
              "      <td>SEA</td>\n",
              "    </tr>\n",
              "    <tr>\n",
              "      <th>1</th>\n",
              "      <td>AA</td>\n",
              "      <td>N3KUAA</td>\n",
              "      <td>LAX</td>\n",
              "      <td>PBI</td>\n",
              "    </tr>\n",
              "    <tr>\n",
              "      <th>2</th>\n",
              "      <td>US</td>\n",
              "      <td>N171US</td>\n",
              "      <td>SFO</td>\n",
              "      <td>CLT</td>\n",
              "    </tr>\n",
              "    <tr>\n",
              "      <th>3</th>\n",
              "      <td>AA</td>\n",
              "      <td>N3HYAA</td>\n",
              "      <td>LAX</td>\n",
              "      <td>MIA</td>\n",
              "    </tr>\n",
              "    <tr>\n",
              "      <th>4</th>\n",
              "      <td>AS</td>\n",
              "      <td>N527AS</td>\n",
              "      <td>SEA</td>\n",
              "      <td>ANC</td>\n",
              "    </tr>\n",
              "  </tbody>\n",
              "</table>\n",
              "</div>"
            ],
            "text/plain": [
              "  AIRLINE TAIL_NUMBER ORIGIN_AIRPORT DESTINATION_AIRPORT\n",
              "0      AS      N407AS            ANC                 SEA\n",
              "1      AA      N3KUAA            LAX                 PBI\n",
              "2      US      N171US            SFO                 CLT\n",
              "3      AA      N3HYAA            LAX                 MIA\n",
              "4      AS      N527AS            SEA                 ANC"
            ]
          },
          "metadata": {
            "tags": []
          },
          "execution_count": 85
        }
      ]
    },
    {
      "cell_type": "code",
      "metadata": {
        "id": "g541Wc7ioJL5",
        "outputId": "c456e83d-3ac1-430c-f968-148efc7c29dc",
        "colab": {
          "base_uri": "https://localhost:8080/"
        }
      },
      "source": [
        "# Let's confirm the total missing values in categorical dataframe\n",
        "missing_values_final = []\n",
        "\n",
        "for cols in df_train.columns:\n",
        "   if df_train[cols].isnull().sum() > 0:\n",
        "     missing_values_final.append(cols)\n",
        "   else:\n",
        "     pass\n",
        "  \n",
        "print(missing_values_final)"
      ],
      "execution_count": 90,
      "outputs": [
        {
          "output_type": "stream",
          "text": [
            "['SCHEDULED_TIME']\n"
          ],
          "name": "stdout"
        }
      ]
    },
    {
      "cell_type": "code",
      "metadata": {
        "id": "ervsktq3FmJP",
        "outputId": "2d9e95f3-a6f5-4950-851f-4a35e891b87b",
        "colab": {
          "base_uri": "https://localhost:8080/",
          "height": 215
        }
      },
      "source": [
        "# Now let us drop column with missing values \n",
        "df_train.dropna(axis = 1, inplace= True)\n",
        "\n",
        "df_train.head()\n",
        "\n"
      ],
      "execution_count": 91,
      "outputs": [
        {
          "output_type": "execute_result",
          "data": {
            "text/html": [
              "<div>\n",
              "<style scoped>\n",
              "    .dataframe tbody tr th:only-of-type {\n",
              "        vertical-align: middle;\n",
              "    }\n",
              "\n",
              "    .dataframe tbody tr th {\n",
              "        vertical-align: top;\n",
              "    }\n",
              "\n",
              "    .dataframe thead th {\n",
              "        text-align: right;\n",
              "    }\n",
              "</style>\n",
              "<table border=\"1\" class=\"dataframe\">\n",
              "  <thead>\n",
              "    <tr style=\"text-align: right;\">\n",
              "      <th></th>\n",
              "      <th>YEAR</th>\n",
              "      <th>MONTH</th>\n",
              "      <th>DAY</th>\n",
              "      <th>DAY_OF_WEEK</th>\n",
              "      <th>AIRLINE</th>\n",
              "      <th>FLIGHT_NUMBER</th>\n",
              "      <th>TAIL_NUMBER</th>\n",
              "      <th>ORIGIN_AIRPORT</th>\n",
              "      <th>DESTINATION_AIRPORT</th>\n",
              "      <th>SCHEDULED_DEPARTURE</th>\n",
              "      <th>DISTANCE</th>\n",
              "      <th>SCHEDULED_ARRIVAL</th>\n",
              "      <th>CANCELLED</th>\n",
              "      <th>SCHEDULED_TIME_mean</th>\n",
              "    </tr>\n",
              "  </thead>\n",
              "  <tbody>\n",
              "    <tr>\n",
              "      <th>0</th>\n",
              "      <td>2015</td>\n",
              "      <td>1</td>\n",
              "      <td>1</td>\n",
              "      <td>4</td>\n",
              "      <td>AS</td>\n",
              "      <td>98</td>\n",
              "      <td>N407AS</td>\n",
              "      <td>ANC</td>\n",
              "      <td>SEA</td>\n",
              "      <td>5</td>\n",
              "      <td>1448</td>\n",
              "      <td>430</td>\n",
              "      <td>0</td>\n",
              "      <td>205.0</td>\n",
              "    </tr>\n",
              "    <tr>\n",
              "      <th>1</th>\n",
              "      <td>2015</td>\n",
              "      <td>1</td>\n",
              "      <td>1</td>\n",
              "      <td>4</td>\n",
              "      <td>AA</td>\n",
              "      <td>2336</td>\n",
              "      <td>N3KUAA</td>\n",
              "      <td>LAX</td>\n",
              "      <td>PBI</td>\n",
              "      <td>10</td>\n",
              "      <td>2330</td>\n",
              "      <td>750</td>\n",
              "      <td>0</td>\n",
              "      <td>280.0</td>\n",
              "    </tr>\n",
              "    <tr>\n",
              "      <th>2</th>\n",
              "      <td>2015</td>\n",
              "      <td>1</td>\n",
              "      <td>1</td>\n",
              "      <td>4</td>\n",
              "      <td>US</td>\n",
              "      <td>840</td>\n",
              "      <td>N171US</td>\n",
              "      <td>SFO</td>\n",
              "      <td>CLT</td>\n",
              "      <td>20</td>\n",
              "      <td>2296</td>\n",
              "      <td>806</td>\n",
              "      <td>0</td>\n",
              "      <td>286.0</td>\n",
              "    </tr>\n",
              "    <tr>\n",
              "      <th>3</th>\n",
              "      <td>2015</td>\n",
              "      <td>1</td>\n",
              "      <td>1</td>\n",
              "      <td>4</td>\n",
              "      <td>AA</td>\n",
              "      <td>258</td>\n",
              "      <td>N3HYAA</td>\n",
              "      <td>LAX</td>\n",
              "      <td>MIA</td>\n",
              "      <td>20</td>\n",
              "      <td>2342</td>\n",
              "      <td>805</td>\n",
              "      <td>0</td>\n",
              "      <td>285.0</td>\n",
              "    </tr>\n",
              "    <tr>\n",
              "      <th>4</th>\n",
              "      <td>2015</td>\n",
              "      <td>1</td>\n",
              "      <td>1</td>\n",
              "      <td>4</td>\n",
              "      <td>AS</td>\n",
              "      <td>135</td>\n",
              "      <td>N527AS</td>\n",
              "      <td>SEA</td>\n",
              "      <td>ANC</td>\n",
              "      <td>25</td>\n",
              "      <td>1448</td>\n",
              "      <td>320</td>\n",
              "      <td>0</td>\n",
              "      <td>235.0</td>\n",
              "    </tr>\n",
              "  </tbody>\n",
              "</table>\n",
              "</div>"
            ],
            "text/plain": [
              "   YEAR  MONTH  DAY  ...  SCHEDULED_ARRIVAL CANCELLED  SCHEDULED_TIME_mean\n",
              "0  2015      1    1  ...                430         0                205.0\n",
              "1  2015      1    1  ...                750         0                280.0\n",
              "2  2015      1    1  ...                806         0                286.0\n",
              "3  2015      1    1  ...                805         0                285.0\n",
              "4  2015      1    1  ...                320         0                235.0\n",
              "\n",
              "[5 rows x 14 columns]"
            ]
          },
          "metadata": {
            "tags": []
          },
          "execution_count": 91
        }
      ]
    },
    {
      "cell_type": "markdown",
      "metadata": {
        "id": "_XiUtgWGIOL4"
      },
      "source": [
        "#### Step 2: Handling Categorical Data (Label, One-Hot, Target, Count and Catboost Encoding)"
      ]
    },
    {
      "cell_type": "code",
      "metadata": {
        "id": "-iHc9HMOH7We"
      },
      "source": [
        "# one-hot encoding without many categories\n",
        "df_cat = train_missing_df[\n",
        "\n"
      ],
      "execution_count": null,
      "outputs": []
    },
    {
      "cell_type": "code",
      "metadata": {
        "id": "vvJ4ILZwGl4R",
        "outputId": "8b17aead-cc6f-45c4-ab19-67b11d38a71c",
        "colab": {
          "base_uri": "https://localhost:8080/"
        }
      },
      "source": [
        "# one-hot encoding with many categories\n",
        "df_cat = train_missing_df[['TAIL_NUMBER', 'CANCELLED']]\n",
        "for i in df_cat.columns:\n",
        "    print(len(df_cat[i].unique()))"
      ],
      "execution_count": null,
      "outputs": [
        {
          "output_type": "stream",
          "text": [
            "4479\n",
            "2\n"
          ],
          "name": "stdout"
        }
      ]
    },
    {
      "cell_type": "code",
      "metadata": {
        "id": "YG_OdKSGHLAi",
        "outputId": "1de30ac9-56ed-4887-b42d-37e8f496daee",
        "colab": {
          "base_uri": "https://localhost:8080/"
        }
      },
      "source": [
        "# Show the TOP 10 categories in descending order\n",
        "df_cat.TAIL_NUMBER.value_counts().sort_values(ascending=False).head(10)"
      ],
      "execution_count": null,
      "outputs": [
        {
          "output_type": "execute_result",
          "data": {
            "text/plain": [
              "N477HA    651\n",
              "N476HA    637\n",
              "N485HA    637\n",
              "N488HA    635\n",
              "N489HA    622\n",
              "N491HA    616\n",
              "N487HA    603\n",
              "N486HA    597\n",
              "N483HA    588\n",
              "N493HA    577\n",
              "Name: TAIL_NUMBER, dtype: int64"
            ]
          },
          "metadata": {
            "tags": []
          },
          "execution_count": 135
        }
      ]
    }
  ]
}
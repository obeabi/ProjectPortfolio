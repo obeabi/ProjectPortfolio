{
  "nbformat": 4,
  "nbformat_minor": 0,
  "metadata": {
    "colab": {
      "name": "FlightCancellation_project.ipynb",
      "provenance": [],
      "collapsed_sections": [
        "_XiUtgWGIOL4"
      ],
      "toc_visible": true,
      "include_colab_link": true
    },
    "kernelspec": {
      "name": "python3",
      "display_name": "Python 3"
    }
  },
  "cells": [
    {
      "cell_type": "markdown",
      "metadata": {
        "id": "view-in-github",
        "colab_type": "text"
      },
      "source": [
        "<a href=\"https://colab.research.google.com/github/obeabi/ProjectPortfolio/blob/master/FlightCancellation_project.ipynb\" target=\"_parent\"><img src=\"https://colab.research.google.com/assets/colab-badge.svg\" alt=\"Open In Colab\"/></a>"
      ]
    },
    {
      "cell_type": "markdown",
      "metadata": {
        "id": "gW-CD9qPUXiR"
      },
      "source": [
        "# Written by Abiola Obembe\n",
        "# SDS Challenge #1 - Flight Cancellations\n",
        "## 2020-10-30\n",
        "\n"
      ]
    },
    {
      "cell_type": "markdown",
      "metadata": {
        "id": "BaT4o-v0Up4V"
      },
      "source": [
        "## Problem Statement\n",
        "I have been hired by the US Department of Transportation (DOT) to analyze data from multiple airline carriers in the United States. The DOT wants to help airline carriers reduce the number of flight cancellations and improve travelers' experiences. My job is to help the DOT predict whether or not a flight will be canceled based on the data provided."
      ]
    },
    {
      "cell_type": "markdown",
      "metadata": {
        "id": "Nvyy8tV7VEZ5"
      },
      "source": [
        "### Step 1: Data Preprocessing Tools"
      ]
    },
    {
      "cell_type": "code",
      "metadata": {
        "id": "UsUbaYb6VCZ_",
        "outputId": "5fd3a9c3-16e8-4d0f-8f0e-1abeb89c057f",
        "colab": {
          "base_uri": "https://localhost:8080/"
        }
      },
      "source": [
        "\n",
        "# Importing the libraries\n",
        "import numpy as np\n",
        "import matplotlib.pyplot as plt\n",
        "import pandas as pd\n",
        "import seaborn as sns\n",
        "!pip install imbalanced-learn\n",
        "!pip install category_encoders\n",
        "import category_encoders as ce\n",
        "\n",
        "%matplotlib inline\n",
        "plt.rcParams['figure.figsize'] = (5.0, 4.0) # set default size of plots\n",
        "plt.rcParams['image.interpolation'] = 'nearest'\n",
        "plt.rcParams['image.cmap'] = 'gray'\n",
        "\n",
        "print('Libraries installed successfully!')"
      ],
      "execution_count": 179,
      "outputs": [
        {
          "output_type": "stream",
          "text": [
            "Requirement already satisfied: imbalanced-learn in /usr/local/lib/python3.6/dist-packages (0.4.3)\n",
            "Requirement already satisfied: scipy>=0.13.3 in /usr/local/lib/python3.6/dist-packages (from imbalanced-learn) (1.4.1)\n",
            "Requirement already satisfied: scikit-learn>=0.20 in /usr/local/lib/python3.6/dist-packages (from imbalanced-learn) (0.22.2.post1)\n",
            "Requirement already satisfied: numpy>=1.8.2 in /usr/local/lib/python3.6/dist-packages (from imbalanced-learn) (1.18.5)\n",
            "Requirement already satisfied: joblib>=0.11 in /usr/local/lib/python3.6/dist-packages (from scikit-learn>=0.20->imbalanced-learn) (0.17.0)\n",
            "Requirement already satisfied: category_encoders in /usr/local/lib/python3.6/dist-packages (2.2.2)\n",
            "Requirement already satisfied: statsmodels>=0.9.0 in /usr/local/lib/python3.6/dist-packages (from category_encoders) (0.10.2)\n",
            "Requirement already satisfied: scipy>=1.0.0 in /usr/local/lib/python3.6/dist-packages (from category_encoders) (1.4.1)\n",
            "Requirement already satisfied: numpy>=1.14.0 in /usr/local/lib/python3.6/dist-packages (from category_encoders) (1.18.5)\n",
            "Requirement already satisfied: scikit-learn>=0.20.0 in /usr/local/lib/python3.6/dist-packages (from category_encoders) (0.22.2.post1)\n",
            "Requirement already satisfied: patsy>=0.5.1 in /usr/local/lib/python3.6/dist-packages (from category_encoders) (0.5.1)\n",
            "Requirement already satisfied: pandas>=0.21.1 in /usr/local/lib/python3.6/dist-packages (from category_encoders) (1.1.4)\n",
            "Requirement already satisfied: joblib>=0.11 in /usr/local/lib/python3.6/dist-packages (from scikit-learn>=0.20.0->category_encoders) (0.17.0)\n",
            "Requirement already satisfied: six in /usr/local/lib/python3.6/dist-packages (from patsy>=0.5.1->category_encoders) (1.15.0)\n",
            "Requirement already satisfied: pytz>=2017.2 in /usr/local/lib/python3.6/dist-packages (from pandas>=0.21.1->category_encoders) (2018.9)\n",
            "Requirement already satisfied: python-dateutil>=2.7.3 in /usr/local/lib/python3.6/dist-packages (from pandas>=0.21.1->category_encoders) (2.8.1)\n",
            "Libraries installed successfully!\n"
          ],
          "name": "stdout"
        }
      ]
    },
    {
      "cell_type": "code",
      "metadata": {
        "id": "IAN_VFooV8lb",
        "outputId": "dd756831-debd-4f0f-dbda-84bb7898bf62",
        "colab": {
          "base_uri": "https://localhost:8080/",
          "height": 215
        }
      },
      "source": [
        "# Importing the dataset and check the shape and total number of missing values\n",
        "\n",
        "df_train = pd.read_csv('public_flights.csv')\n",
        "\n",
        "df_train.head()\n",
        "\n"
      ],
      "execution_count": 180,
      "outputs": [
        {
          "output_type": "execute_result",
          "data": {
            "text/html": [
              "<div>\n",
              "<style scoped>\n",
              "    .dataframe tbody tr th:only-of-type {\n",
              "        vertical-align: middle;\n",
              "    }\n",
              "\n",
              "    .dataframe tbody tr th {\n",
              "        vertical-align: top;\n",
              "    }\n",
              "\n",
              "    .dataframe thead th {\n",
              "        text-align: right;\n",
              "    }\n",
              "</style>\n",
              "<table border=\"1\" class=\"dataframe\">\n",
              "  <thead>\n",
              "    <tr style=\"text-align: right;\">\n",
              "      <th></th>\n",
              "      <th>YEAR</th>\n",
              "      <th>MONTH</th>\n",
              "      <th>DAY</th>\n",
              "      <th>DAY_OF_WEEK</th>\n",
              "      <th>AIRLINE</th>\n",
              "      <th>FLIGHT_NUMBER</th>\n",
              "      <th>TAIL_NUMBER</th>\n",
              "      <th>ORIGIN_AIRPORT</th>\n",
              "      <th>DESTINATION_AIRPORT</th>\n",
              "      <th>SCHEDULED_DEPARTURE</th>\n",
              "      <th>SCHEDULED_TIME</th>\n",
              "      <th>DISTANCE</th>\n",
              "      <th>SCHEDULED_ARRIVAL</th>\n",
              "      <th>CANCELLED</th>\n",
              "    </tr>\n",
              "  </thead>\n",
              "  <tbody>\n",
              "    <tr>\n",
              "      <th>0</th>\n",
              "      <td>2015</td>\n",
              "      <td>1</td>\n",
              "      <td>1</td>\n",
              "      <td>4</td>\n",
              "      <td>AS</td>\n",
              "      <td>98</td>\n",
              "      <td>N407AS</td>\n",
              "      <td>ANC</td>\n",
              "      <td>SEA</td>\n",
              "      <td>5</td>\n",
              "      <td>205.0</td>\n",
              "      <td>1448</td>\n",
              "      <td>430</td>\n",
              "      <td>0</td>\n",
              "    </tr>\n",
              "    <tr>\n",
              "      <th>1</th>\n",
              "      <td>2015</td>\n",
              "      <td>1</td>\n",
              "      <td>1</td>\n",
              "      <td>4</td>\n",
              "      <td>AA</td>\n",
              "      <td>2336</td>\n",
              "      <td>N3KUAA</td>\n",
              "      <td>LAX</td>\n",
              "      <td>PBI</td>\n",
              "      <td>10</td>\n",
              "      <td>280.0</td>\n",
              "      <td>2330</td>\n",
              "      <td>750</td>\n",
              "      <td>0</td>\n",
              "    </tr>\n",
              "    <tr>\n",
              "      <th>2</th>\n",
              "      <td>2015</td>\n",
              "      <td>1</td>\n",
              "      <td>1</td>\n",
              "      <td>4</td>\n",
              "      <td>US</td>\n",
              "      <td>840</td>\n",
              "      <td>N171US</td>\n",
              "      <td>SFO</td>\n",
              "      <td>CLT</td>\n",
              "      <td>20</td>\n",
              "      <td>286.0</td>\n",
              "      <td>2296</td>\n",
              "      <td>806</td>\n",
              "      <td>0</td>\n",
              "    </tr>\n",
              "    <tr>\n",
              "      <th>3</th>\n",
              "      <td>2015</td>\n",
              "      <td>1</td>\n",
              "      <td>1</td>\n",
              "      <td>4</td>\n",
              "      <td>AA</td>\n",
              "      <td>258</td>\n",
              "      <td>N3HYAA</td>\n",
              "      <td>LAX</td>\n",
              "      <td>MIA</td>\n",
              "      <td>20</td>\n",
              "      <td>285.0</td>\n",
              "      <td>2342</td>\n",
              "      <td>805</td>\n",
              "      <td>0</td>\n",
              "    </tr>\n",
              "    <tr>\n",
              "      <th>4</th>\n",
              "      <td>2015</td>\n",
              "      <td>1</td>\n",
              "      <td>1</td>\n",
              "      <td>4</td>\n",
              "      <td>AS</td>\n",
              "      <td>135</td>\n",
              "      <td>N527AS</td>\n",
              "      <td>SEA</td>\n",
              "      <td>ANC</td>\n",
              "      <td>25</td>\n",
              "      <td>235.0</td>\n",
              "      <td>1448</td>\n",
              "      <td>320</td>\n",
              "      <td>0</td>\n",
              "    </tr>\n",
              "  </tbody>\n",
              "</table>\n",
              "</div>"
            ],
            "text/plain": [
              "   YEAR  MONTH  DAY  ...  DISTANCE SCHEDULED_ARRIVAL  CANCELLED\n",
              "0  2015      1    1  ...      1448               430          0\n",
              "1  2015      1    1  ...      2330               750          0\n",
              "2  2015      1    1  ...      2296               806          0\n",
              "3  2015      1    1  ...      2342               805          0\n",
              "4  2015      1    1  ...      1448               320          0\n",
              "\n",
              "[5 rows x 14 columns]"
            ]
          },
          "metadata": {
            "tags": []
          },
          "execution_count": 180
        }
      ]
    },
    {
      "cell_type": "code",
      "metadata": {
        "id": "B11R3A23b8os",
        "outputId": "979e77cd-000a-4f00-a56d-93c2725656ce",
        "colab": {
          "base_uri": "https://localhost:8080/"
        }
      },
      "source": [
        "# print target column name as a list\n",
        "target_column = [df_train.columns[-1]]\n",
        "\n",
        "print(target_column)"
      ],
      "execution_count": 181,
      "outputs": [
        {
          "output_type": "stream",
          "text": [
            "['CANCELLED']\n"
          ],
          "name": "stdout"
        }
      ]
    },
    {
      "cell_type": "code",
      "metadata": {
        "id": "fW8EYUGAoUyz",
        "outputId": "a9adb907-ea46-4d01-aaac-4ff51c809439",
        "colab": {
          "base_uri": "https://localhost:8080/"
        }
      },
      "source": [
        "# Examine target column for unbalanced data\n",
        "df_train[target_column].value_counts()"
      ],
      "execution_count": 182,
      "outputs": [
        {
          "output_type": "execute_result",
          "data": {
            "text/plain": [
              "CANCELLED\n",
              "0            810176\n",
              "1             28682\n",
              "dtype: int64"
            ]
          },
          "metadata": {
            "tags": []
          },
          "execution_count": 182
        }
      ]
    },
    {
      "cell_type": "code",
      "metadata": {
        "id": "h8P_OQlmKFLx",
        "outputId": "bffdc79b-0e19-430b-e76f-28fe6576c6c3",
        "colab": {
          "base_uri": "https://localhost:8080/",
          "height": 295
        }
      },
      "source": [
        "count_classes = pd.value_counts(df_train['CANCELLED'], sort = True)\n",
        "count_classes.plot(kind = 'bar', rot = 0)\n",
        "plt.title(\"Cancelled Flights Distribution\")\n",
        "plt.xticks(range(2))\n",
        "plt.xlabel(\"CANCELLED\")\n",
        "plt.ylabel('Frequency')\n",
        "plt.show()"
      ],
      "execution_count": 183,
      "outputs": [
        {
          "output_type": "display_data",
          "data": {
            "image/png": "[encoded data removed]",
            "text/plain": [
              "<Figure size 360x288 with 1 Axes>"
            ]
          },
          "metadata": {
            "tags": [],
            "needs_background": "light"
          }
        }
      ]
    },
    {
      "cell_type": "code",
      "metadata": {
        "id": "NfjbSepuMJ0Q",
        "outputId": "e05314b1-7ce3-43f1-d1ff-1817ae98dc09",
        "colab": {
          "base_uri": "https://localhost:8080/"
        }
      },
      "source": [
        "# gET THE CANCELLED AND NOT CANCEELED FLIFGTS\n",
        "Cancelled = df_train[df_train['CANCELLED']== 1]\n",
        "notCancelled = df_train[df_train['CANCELLED']== 0]\n",
        "\n",
        "print(Cancelled.shape, notCancelled.shape)"
      ],
      "execution_count": 184,
      "outputs": [
        {
          "output_type": "stream",
          "text": [
            "(28682, 14) (810176, 14)\n"
          ],
          "name": "stdout"
        }
      ]
    },
    {
      "cell_type": "code",
      "metadata": {
        "id": "Qy0G7oUKh0wV",
        "outputId": "b2c7904b-2703-4bf5-bdd6-01c5b430d02e",
        "colab": {
          "base_uri": "https://localhost:8080/"
        }
      },
      "source": [
        "# Importing the train-set nd check the shape and total number of missing values\n",
        "\n",
        "print(\"The shape of the train-set is:\", (df_train.shape))\n",
        "print(\"The number of rows in the train-set is:\", str(df_train.shape[0]))\n",
        "print(\"The number of columns in the train-set is:\", str(df_train.shape[1]))\n",
        "\n",
        "missing_valuestrain = df_train.isnull().sum().sum()\n",
        "\n",
        "print(\"The number of missing values in the train-set is:\", str(missing_valuestrain))"
      ],
      "execution_count": 185,
      "outputs": [
        {
          "output_type": "stream",
          "text": [
            "The shape of the train-set is: (838858, 14)\n",
            "The number of rows in the train-set is: 838858\n",
            "The number of columns in the train-set is: 14\n",
            "The number of missing values in the train-set is: 5983\n"
          ],
          "name": "stdout"
        }
      ]
    },
    {
      "cell_type": "code",
      "metadata": {
        "id": "xCbWRNp_n7RS",
        "outputId": "74da0202-ae4f-4965-a421-13e769688bbc",
        "colab": {
          "base_uri": "https://localhost:8080/",
          "height": 195
        }
      },
      "source": [
        "# create dataframe for test test\n",
        "df_test = pd.read_csv('pred_flights.csv')\n",
        "df_test.head()"
      ],
      "execution_count": 186,
      "outputs": [
        {
          "output_type": "execute_result",
          "data": {
            "text/html": [
              "<div>\n",
              "<style scoped>\n",
              "    .dataframe tbody tr th:only-of-type {\n",
              "        vertical-align: middle;\n",
              "    }\n",
              "\n",
              "    .dataframe tbody tr th {\n",
              "        vertical-align: top;\n",
              "    }\n",
              "\n",
              "    .dataframe thead th {\n",
              "        text-align: right;\n",
              "    }\n",
              "</style>\n",
              "<table border=\"1\" class=\"dataframe\">\n",
              "  <thead>\n",
              "    <tr style=\"text-align: right;\">\n",
              "      <th></th>\n",
              "      <th>2015</th>\n",
              "      <th>2</th>\n",
              "      <th>25</th>\n",
              "      <th>3</th>\n",
              "      <th>WN</th>\n",
              "      <th>1046</th>\n",
              "      <th>N731SA</th>\n",
              "      <th>LAS</th>\n",
              "      <th>PHX</th>\n",
              "      <th>700</th>\n",
              "      <th>65</th>\n",
              "      <th>255</th>\n",
              "      <th>905</th>\n",
              "    </tr>\n",
              "  </thead>\n",
              "  <tbody>\n",
              "    <tr>\n",
              "      <th>0</th>\n",
              "      <td>2015</td>\n",
              "      <td>2</td>\n",
              "      <td>25</td>\n",
              "      <td>3</td>\n",
              "      <td>WN</td>\n",
              "      <td>2251</td>\n",
              "      <td>N279WN</td>\n",
              "      <td>LAS</td>\n",
              "      <td>RNO</td>\n",
              "      <td>700</td>\n",
              "      <td>80</td>\n",
              "      <td>345</td>\n",
              "      <td>820</td>\n",
              "    </tr>\n",
              "    <tr>\n",
              "      <th>1</th>\n",
              "      <td>2015</td>\n",
              "      <td>2</td>\n",
              "      <td>25</td>\n",
              "      <td>3</td>\n",
              "      <td>WN</td>\n",
              "      <td>857</td>\n",
              "      <td>N277WN</td>\n",
              "      <td>LAS</td>\n",
              "      <td>SMF</td>\n",
              "      <td>700</td>\n",
              "      <td>90</td>\n",
              "      <td>397</td>\n",
              "      <td>830</td>\n",
              "    </tr>\n",
              "    <tr>\n",
              "      <th>2</th>\n",
              "      <td>2015</td>\n",
              "      <td>2</td>\n",
              "      <td>25</td>\n",
              "      <td>3</td>\n",
              "      <td>WN</td>\n",
              "      <td>2864</td>\n",
              "      <td>N8632A</td>\n",
              "      <td>LAX</td>\n",
              "      <td>BWI</td>\n",
              "      <td>700</td>\n",
              "      <td>295</td>\n",
              "      <td>2329</td>\n",
              "      <td>1455</td>\n",
              "    </tr>\n",
              "    <tr>\n",
              "      <th>3</th>\n",
              "      <td>2015</td>\n",
              "      <td>2</td>\n",
              "      <td>25</td>\n",
              "      <td>3</td>\n",
              "      <td>WN</td>\n",
              "      <td>3220</td>\n",
              "      <td>N8659D</td>\n",
              "      <td>LAX</td>\n",
              "      <td>PHX</td>\n",
              "      <td>700</td>\n",
              "      <td>80</td>\n",
              "      <td>370</td>\n",
              "      <td>920</td>\n",
              "    </tr>\n",
              "    <tr>\n",
              "      <th>4</th>\n",
              "      <td>2015</td>\n",
              "      <td>2</td>\n",
              "      <td>25</td>\n",
              "      <td>3</td>\n",
              "      <td>WN</td>\n",
              "      <td>2954</td>\n",
              "      <td>N789SW</td>\n",
              "      <td>LGA</td>\n",
              "      <td>HOU</td>\n",
              "      <td>700</td>\n",
              "      <td>265</td>\n",
              "      <td>1428</td>\n",
              "      <td>1025</td>\n",
              "    </tr>\n",
              "  </tbody>\n",
              "</table>\n",
              "</div>"
            ],
            "text/plain": [
              "   2015  2  25  3  WN  1046  N731SA  LAS  PHX  700   65   255   905\n",
              "0  2015  2  25  3  WN  2251  N279WN  LAS  RNO  700   80   345   820\n",
              "1  2015  2  25  3  WN   857  N277WN  LAS  SMF  700   90   397   830\n",
              "2  2015  2  25  3  WN  2864  N8632A  LAX  BWI  700  295  2329  1455\n",
              "3  2015  2  25  3  WN  3220  N8659D  LAX  PHX  700   80   370   920\n",
              "4  2015  2  25  3  WN  2954  N789SW  LGA  HOU  700  265  1428  1025"
            ]
          },
          "metadata": {
            "tags": []
          },
          "execution_count": 186
        }
      ]
    },
    {
      "cell_type": "code",
      "metadata": {
        "id": "IYQNQY7on7s3",
        "outputId": "4d92d128-7951-454e-a54b-7c5563b22bad",
        "colab": {
          "base_uri": "https://localhost:8080/",
          "height": 215
        }
      },
      "source": [
        "# test set dataframe is missing headers information so we will re-initailize it, deleting the target column label\n",
        "labels = df_train.columns\n",
        "\n",
        "new_label= labels[:-1]  # select all column labels except the target column\n",
        "\n",
        "#new_label\n",
        "df_test = pd.read_csv('pred_flights.csv', header =None, names = new_label)\n",
        "\n",
        "df_test.head()"
      ],
      "execution_count": 187,
      "outputs": [
        {
          "output_type": "execute_result",
          "data": {
            "text/html": [
              "<div>\n",
              "<style scoped>\n",
              "    .dataframe tbody tr th:only-of-type {\n",
              "        vertical-align: middle;\n",
              "    }\n",
              "\n",
              "    .dataframe tbody tr th {\n",
              "        vertical-align: top;\n",
              "    }\n",
              "\n",
              "    .dataframe thead th {\n",
              "        text-align: right;\n",
              "    }\n",
              "</style>\n",
              "<table border=\"1\" class=\"dataframe\">\n",
              "  <thead>\n",
              "    <tr style=\"text-align: right;\">\n",
              "      <th></th>\n",
              "      <th>YEAR</th>\n",
              "      <th>MONTH</th>\n",
              "      <th>DAY</th>\n",
              "      <th>DAY_OF_WEEK</th>\n",
              "      <th>AIRLINE</th>\n",
              "      <th>FLIGHT_NUMBER</th>\n",
              "      <th>TAIL_NUMBER</th>\n",
              "      <th>ORIGIN_AIRPORT</th>\n",
              "      <th>DESTINATION_AIRPORT</th>\n",
              "      <th>SCHEDULED_DEPARTURE</th>\n",
              "      <th>SCHEDULED_TIME</th>\n",
              "      <th>DISTANCE</th>\n",
              "      <th>SCHEDULED_ARRIVAL</th>\n",
              "    </tr>\n",
              "  </thead>\n",
              "  <tbody>\n",
              "    <tr>\n",
              "      <th>0</th>\n",
              "      <td>2015</td>\n",
              "      <td>2</td>\n",
              "      <td>25</td>\n",
              "      <td>3</td>\n",
              "      <td>WN</td>\n",
              "      <td>1046</td>\n",
              "      <td>N731SA</td>\n",
              "      <td>LAS</td>\n",
              "      <td>PHX</td>\n",
              "      <td>700</td>\n",
              "      <td>65</td>\n",
              "      <td>255</td>\n",
              "      <td>905</td>\n",
              "    </tr>\n",
              "    <tr>\n",
              "      <th>1</th>\n",
              "      <td>2015</td>\n",
              "      <td>2</td>\n",
              "      <td>25</td>\n",
              "      <td>3</td>\n",
              "      <td>WN</td>\n",
              "      <td>2251</td>\n",
              "      <td>N279WN</td>\n",
              "      <td>LAS</td>\n",
              "      <td>RNO</td>\n",
              "      <td>700</td>\n",
              "      <td>80</td>\n",
              "      <td>345</td>\n",
              "      <td>820</td>\n",
              "    </tr>\n",
              "    <tr>\n",
              "      <th>2</th>\n",
              "      <td>2015</td>\n",
              "      <td>2</td>\n",
              "      <td>25</td>\n",
              "      <td>3</td>\n",
              "      <td>WN</td>\n",
              "      <td>857</td>\n",
              "      <td>N277WN</td>\n",
              "      <td>LAS</td>\n",
              "      <td>SMF</td>\n",
              "      <td>700</td>\n",
              "      <td>90</td>\n",
              "      <td>397</td>\n",
              "      <td>830</td>\n",
              "    </tr>\n",
              "    <tr>\n",
              "      <th>3</th>\n",
              "      <td>2015</td>\n",
              "      <td>2</td>\n",
              "      <td>25</td>\n",
              "      <td>3</td>\n",
              "      <td>WN</td>\n",
              "      <td>2864</td>\n",
              "      <td>N8632A</td>\n",
              "      <td>LAX</td>\n",
              "      <td>BWI</td>\n",
              "      <td>700</td>\n",
              "      <td>295</td>\n",
              "      <td>2329</td>\n",
              "      <td>1455</td>\n",
              "    </tr>\n",
              "    <tr>\n",
              "      <th>4</th>\n",
              "      <td>2015</td>\n",
              "      <td>2</td>\n",
              "      <td>25</td>\n",
              "      <td>3</td>\n",
              "      <td>WN</td>\n",
              "      <td>3220</td>\n",
              "      <td>N8659D</td>\n",
              "      <td>LAX</td>\n",
              "      <td>PHX</td>\n",
              "      <td>700</td>\n",
              "      <td>80</td>\n",
              "      <td>370</td>\n",
              "      <td>920</td>\n",
              "    </tr>\n",
              "  </tbody>\n",
              "</table>\n",
              "</div>"
            ],
            "text/plain": [
              "   YEAR  MONTH  DAY  ...  SCHEDULED_TIME DISTANCE  SCHEDULED_ARRIVAL\n",
              "0  2015      2   25  ...              65      255                905\n",
              "1  2015      2   25  ...              80      345                820\n",
              "2  2015      2   25  ...              90      397                830\n",
              "3  2015      2   25  ...             295     2329               1455\n",
              "4  2015      2   25  ...              80      370                920\n",
              "\n",
              "[5 rows x 13 columns]"
            ]
          },
          "metadata": {
            "tags": []
          },
          "execution_count": 187
        }
      ]
    },
    {
      "cell_type": "code",
      "metadata": {
        "id": "3dGjL3dCoEq0",
        "outputId": "839741ff-9366-446d-874c-14d412961c2c",
        "colab": {
          "base_uri": "https://localhost:8080/"
        }
      },
      "source": [
        "# Importing the test-set and check the shape and total number of missing values\n",
        "\n",
        "print(\"The shape of the test-set is:\", (df_test.shape))\n",
        "print(\"The number of rows in the test-set is:\", str(df_test.shape[0]))\n",
        "print(\"The number of columns in the test-set is:\", str(df_test.shape[1]))\n",
        "\n",
        "missing_valuestest = df_test.isnull().sum().sum()\n",
        "\n",
        "print(\"The number of missing values in the test-set is:\", str(missing_valuestest))"
      ],
      "execution_count": 188,
      "outputs": [
        {
          "output_type": "stream",
          "text": [
            "The shape of the test-set is: (209717, 13)\n",
            "The number of rows in the test-set is: 209717\n",
            "The number of columns in the test-set is: 13\n",
            "The number of missing values in the test-set is: 1769\n"
          ],
          "name": "stdout"
        }
      ]
    },
    {
      "cell_type": "markdown",
      "metadata": {
        "id": "qDQCCXw1oIWW"
      },
      "source": [
        "### Step 2: Feature Engineering (Training and Test Set )"
      ]
    },
    {
      "cell_type": "code",
      "metadata": {
        "id": "7EuLlcgtk9IV",
        "outputId": "8e0e0ede-2949-44c0-a2cd-25bc13a1d9c7",
        "colab": {
          "base_uri": "https://localhost:8080/"
        }
      },
      "source": [
        "# Examine the data types for train dataframe\n",
        "df_train.dtypes"
      ],
      "execution_count": 189,
      "outputs": [
        {
          "output_type": "execute_result",
          "data": {
            "text/plain": [
              "YEAR                     int64\n",
              "MONTH                    int64\n",
              "DAY                      int64\n",
              "DAY_OF_WEEK              int64\n",
              "AIRLINE                 object\n",
              "FLIGHT_NUMBER            int64\n",
              "TAIL_NUMBER             object\n",
              "ORIGIN_AIRPORT          object\n",
              "DESTINATION_AIRPORT     object\n",
              "SCHEDULED_DEPARTURE      int64\n",
              "SCHEDULED_TIME         float64\n",
              "DISTANCE                 int64\n",
              "SCHEDULED_ARRIVAL        int64\n",
              "CANCELLED                int64\n",
              "dtype: object"
            ]
          },
          "metadata": {
            "tags": []
          },
          "execution_count": 189
        }
      ]
    },
    {
      "cell_type": "code",
      "metadata": {
        "id": "veARPOxffHyz",
        "outputId": "986eb979-f473-404c-b7b3-64de139dc5ff",
        "colab": {
          "base_uri": "https://localhost:8080/"
        }
      },
      "source": [
        "# Check for training set data frame info\n",
        "df_train.info()"
      ],
      "execution_count": 190,
      "outputs": [
        {
          "output_type": "stream",
          "text": [
            "<class 'pandas.core.frame.DataFrame'>\n",
            "RangeIndex: 838858 entries, 0 to 838857\n",
            "Data columns (total 14 columns):\n",
            " #   Column               Non-Null Count   Dtype  \n",
            "---  ------               --------------   -----  \n",
            " 0   YEAR                 838858 non-null  int64  \n",
            " 1   MONTH                838858 non-null  int64  \n",
            " 2   DAY                  838858 non-null  int64  \n",
            " 3   DAY_OF_WEEK          838858 non-null  int64  \n",
            " 4   AIRLINE              838858 non-null  object \n",
            " 5   FLIGHT_NUMBER        838858 non-null  int64  \n",
            " 6   TAIL_NUMBER          832877 non-null  object \n",
            " 7   ORIGIN_AIRPORT       838858 non-null  object \n",
            " 8   DESTINATION_AIRPORT  838858 non-null  object \n",
            " 9   SCHEDULED_DEPARTURE  838858 non-null  int64  \n",
            " 10  SCHEDULED_TIME       838856 non-null  float64\n",
            " 11  DISTANCE             838858 non-null  int64  \n",
            " 12  SCHEDULED_ARRIVAL    838858 non-null  int64  \n",
            " 13  CANCELLED            838858 non-null  int64  \n",
            "dtypes: float64(1), int64(9), object(4)\n",
            "memory usage: 89.6+ MB\n"
          ],
          "name": "stdout"
        }
      ]
    },
    {
      "cell_type": "code",
      "metadata": {
        "id": "iiFcG975h-XS",
        "outputId": "857b288c-b293-475a-dec0-652ea8f54648",
        "colab": {
          "base_uri": "https://localhost:8080/"
        }
      },
      "source": [
        "# Dealing with missing values in the train-set\n",
        "\n",
        "df_train.isnull().sum()"
      ],
      "execution_count": 191,
      "outputs": [
        {
          "output_type": "execute_result",
          "data": {
            "text/plain": [
              "YEAR                      0\n",
              "MONTH                     0\n",
              "DAY                       0\n",
              "DAY_OF_WEEK               0\n",
              "AIRLINE                   0\n",
              "FLIGHT_NUMBER             0\n",
              "TAIL_NUMBER            5981\n",
              "ORIGIN_AIRPORT            0\n",
              "DESTINATION_AIRPORT       0\n",
              "SCHEDULED_DEPARTURE       0\n",
              "SCHEDULED_TIME            2\n",
              "DISTANCE                  0\n",
              "SCHEDULED_ARRIVAL         0\n",
              "CANCELLED                 0\n",
              "dtype: int64"
            ]
          },
          "metadata": {
            "tags": []
          },
          "execution_count": 191
        }
      ]
    },
    {
      "cell_type": "markdown",
      "metadata": {
        "id": "v47C0PRloUg1"
      },
      "source": [
        "#### (A) Dealing with Missing Values"
      ]
    },
    {
      "cell_type": "code",
      "metadata": {
        "id": "FbLaCRECJivv",
        "outputId": "b5fe8fae-6b8f-4018-8e14-0ed32edfec66",
        "colab": {
          "base_uri": "https://localhost:8080/",
          "height": 215
        }
      },
      "source": [
        "# Remove rows with missing target, separate target from predictors\n",
        "X_full = df_train.copy()\n",
        "X_full.dropna(axis=0, subset=['CANCELLED'], inplace=True)\n",
        "y = X_full.CANCELLED\n",
        "X_full.drop(['CANCELLED'], axis=1, inplace=True)\n",
        "\n",
        "# Show X_full dataframe representing predictors only\n",
        "X_full.head()"
      ],
      "execution_count": 192,
      "outputs": [
        {
          "output_type": "execute_result",
          "data": {
            "text/html": [
              "<div>\n",
              "<style scoped>\n",
              "    .dataframe tbody tr th:only-of-type {\n",
              "        vertical-align: middle;\n",
              "    }\n",
              "\n",
              "    .dataframe tbody tr th {\n",
              "        vertical-align: top;\n",
              "    }\n",
              "\n",
              "    .dataframe thead th {\n",
              "        text-align: right;\n",
              "    }\n",
              "</style>\n",
              "<table border=\"1\" class=\"dataframe\">\n",
              "  <thead>\n",
              "    <tr style=\"text-align: right;\">\n",
              "      <th></th>\n",
              "      <th>YEAR</th>\n",
              "      <th>MONTH</th>\n",
              "      <th>DAY</th>\n",
              "      <th>DAY_OF_WEEK</th>\n",
              "      <th>AIRLINE</th>\n",
              "      <th>FLIGHT_NUMBER</th>\n",
              "      <th>TAIL_NUMBER</th>\n",
              "      <th>ORIGIN_AIRPORT</th>\n",
              "      <th>DESTINATION_AIRPORT</th>\n",
              "      <th>SCHEDULED_DEPARTURE</th>\n",
              "      <th>SCHEDULED_TIME</th>\n",
              "      <th>DISTANCE</th>\n",
              "      <th>SCHEDULED_ARRIVAL</th>\n",
              "    </tr>\n",
              "  </thead>\n",
              "  <tbody>\n",
              "    <tr>\n",
              "      <th>0</th>\n",
              "      <td>2015</td>\n",
              "      <td>1</td>\n",
              "      <td>1</td>\n",
              "      <td>4</td>\n",
              "      <td>AS</td>\n",
              "      <td>98</td>\n",
              "      <td>N407AS</td>\n",
              "      <td>ANC</td>\n",
              "      <td>SEA</td>\n",
              "      <td>5</td>\n",
              "      <td>205.0</td>\n",
              "      <td>1448</td>\n",
              "      <td>430</td>\n",
              "    </tr>\n",
              "    <tr>\n",
              "      <th>1</th>\n",
              "      <td>2015</td>\n",
              "      <td>1</td>\n",
              "      <td>1</td>\n",
              "      <td>4</td>\n",
              "      <td>AA</td>\n",
              "      <td>2336</td>\n",
              "      <td>N3KUAA</td>\n",
              "      <td>LAX</td>\n",
              "      <td>PBI</td>\n",
              "      <td>10</td>\n",
              "      <td>280.0</td>\n",
              "      <td>2330</td>\n",
              "      <td>750</td>\n",
              "    </tr>\n",
              "    <tr>\n",
              "      <th>2</th>\n",
              "      <td>2015</td>\n",
              "      <td>1</td>\n",
              "      <td>1</td>\n",
              "      <td>4</td>\n",
              "      <td>US</td>\n",
              "      <td>840</td>\n",
              "      <td>N171US</td>\n",
              "      <td>SFO</td>\n",
              "      <td>CLT</td>\n",
              "      <td>20</td>\n",
              "      <td>286.0</td>\n",
              "      <td>2296</td>\n",
              "      <td>806</td>\n",
              "    </tr>\n",
              "    <tr>\n",
              "      <th>3</th>\n",
              "      <td>2015</td>\n",
              "      <td>1</td>\n",
              "      <td>1</td>\n",
              "      <td>4</td>\n",
              "      <td>AA</td>\n",
              "      <td>258</td>\n",
              "      <td>N3HYAA</td>\n",
              "      <td>LAX</td>\n",
              "      <td>MIA</td>\n",
              "      <td>20</td>\n",
              "      <td>285.0</td>\n",
              "      <td>2342</td>\n",
              "      <td>805</td>\n",
              "    </tr>\n",
              "    <tr>\n",
              "      <th>4</th>\n",
              "      <td>2015</td>\n",
              "      <td>1</td>\n",
              "      <td>1</td>\n",
              "      <td>4</td>\n",
              "      <td>AS</td>\n",
              "      <td>135</td>\n",
              "      <td>N527AS</td>\n",
              "      <td>SEA</td>\n",
              "      <td>ANC</td>\n",
              "      <td>25</td>\n",
              "      <td>235.0</td>\n",
              "      <td>1448</td>\n",
              "      <td>320</td>\n",
              "    </tr>\n",
              "  </tbody>\n",
              "</table>\n",
              "</div>"
            ],
            "text/plain": [
              "   YEAR  MONTH  DAY  ...  SCHEDULED_TIME DISTANCE  SCHEDULED_ARRIVAL\n",
              "0  2015      1    1  ...           205.0     1448                430\n",
              "1  2015      1    1  ...           280.0     2330                750\n",
              "2  2015      1    1  ...           286.0     2296                806\n",
              "3  2015      1    1  ...           285.0     2342                805\n",
              "4  2015      1    1  ...           235.0     1448                320\n",
              "\n",
              "[5 rows x 13 columns]"
            ]
          },
          "metadata": {
            "tags": []
          },
          "execution_count": 192
        }
      ]
    },
    {
      "cell_type": "code",
      "metadata": {
        "id": "pcl3pplmKY1L",
        "outputId": "bcafc655-12a7-421d-b7af-f441735f3ed5",
        "colab": {
          "base_uri": "https://localhost:8080/"
        }
      },
      "source": [
        "# Print first 10 entries of target column\n",
        "y[0:10]"
      ],
      "execution_count": 193,
      "outputs": [
        {
          "output_type": "execute_result",
          "data": {
            "text/plain": [
              "0    0\n",
              "1    0\n",
              "2    0\n",
              "3    0\n",
              "4    0\n",
              "5    0\n",
              "6    0\n",
              "7    0\n",
              "8    0\n",
              "9    0\n",
              "Name: CANCELLED, dtype: int64"
            ]
          },
          "metadata": {
            "tags": []
          },
          "execution_count": 193
        }
      ]
    },
    {
      "cell_type": "code",
      "metadata": {
        "id": "6WtlGwLWKpHk"
      },
      "source": [
        "# Break off validation set from training data\n",
        "from sklearn.model_selection import train_test_split\n",
        "X_train_full, X_valid_full, y_train, y_valid = train_test_split(X_full, y,train_size=0.8, test_size=0.2, random_state=0)\n",
        "\n",
        "# Organize test set\n",
        "X_test_full = df_test.copy()"
      ],
      "execution_count": 194,
      "outputs": []
    },
    {
      "cell_type": "code",
      "metadata": {
        "id": "lJkFXT9IL1O1",
        "outputId": "52375f11-ef0a-4307-8c36-a1bbc5705c48",
        "colab": {
          "base_uri": "https://localhost:8080/"
        }
      },
      "source": [
        "# Select categorical columns from X_train_full\n",
        "# All categorical columns\n",
        "category_cols = [col for col in X_train_full.columns if X_train_full[col].dtype == \"object\"]\n",
        "category_cols"
      ],
      "execution_count": 195,
      "outputs": [
        {
          "output_type": "execute_result",
          "data": {
            "text/plain": [
              "['AIRLINE', 'TAIL_NUMBER', 'ORIGIN_AIRPORT', 'DESTINATION_AIRPORT']"
            ]
          },
          "metadata": {
            "tags": []
          },
          "execution_count": 195
        }
      ]
    },
    {
      "cell_type": "code",
      "metadata": {
        "id": "6RbfVEU1NzR0",
        "outputId": "16b1c041-9b2d-4ed8-f321-f02c407c6c8c",
        "colab": {
          "base_uri": "https://localhost:8080/",
          "height": 195
        }
      },
      "source": [
        "# Print object caregories for X_train_full for inspection\n",
        "X_train_full[category_cols].head()"
      ],
      "execution_count": 196,
      "outputs": [
        {
          "output_type": "execute_result",
          "data": {
            "text/html": [
              "<div>\n",
              "<style scoped>\n",
              "    .dataframe tbody tr th:only-of-type {\n",
              "        vertical-align: middle;\n",
              "    }\n",
              "\n",
              "    .dataframe tbody tr th {\n",
              "        vertical-align: top;\n",
              "    }\n",
              "\n",
              "    .dataframe thead th {\n",
              "        text-align: right;\n",
              "    }\n",
              "</style>\n",
              "<table border=\"1\" class=\"dataframe\">\n",
              "  <thead>\n",
              "    <tr style=\"text-align: right;\">\n",
              "      <th></th>\n",
              "      <th>AIRLINE</th>\n",
              "      <th>TAIL_NUMBER</th>\n",
              "      <th>ORIGIN_AIRPORT</th>\n",
              "      <th>DESTINATION_AIRPORT</th>\n",
              "    </tr>\n",
              "  </thead>\n",
              "  <tbody>\n",
              "    <tr>\n",
              "      <th>645400</th>\n",
              "      <td>HA</td>\n",
              "      <td>N370HA</td>\n",
              "      <td>HNL</td>\n",
              "      <td>PDX</td>\n",
              "    </tr>\n",
              "    <tr>\n",
              "      <th>546962</th>\n",
              "      <td>DL</td>\n",
              "      <td>N334NW</td>\n",
              "      <td>SAN</td>\n",
              "      <td>MSP</td>\n",
              "    </tr>\n",
              "    <tr>\n",
              "      <th>159193</th>\n",
              "      <td>EV</td>\n",
              "      <td>N14904</td>\n",
              "      <td>IAH</td>\n",
              "      <td>ATL</td>\n",
              "    </tr>\n",
              "    <tr>\n",
              "      <th>288445</th>\n",
              "      <td>DL</td>\n",
              "      <td>N553NW</td>\n",
              "      <td>MCO</td>\n",
              "      <td>ATL</td>\n",
              "    </tr>\n",
              "    <tr>\n",
              "      <th>298874</th>\n",
              "      <td>WN</td>\n",
              "      <td>N8312C</td>\n",
              "      <td>ALB</td>\n",
              "      <td>MCO</td>\n",
              "    </tr>\n",
              "  </tbody>\n",
              "</table>\n",
              "</div>"
            ],
            "text/plain": [
              "       AIRLINE TAIL_NUMBER ORIGIN_AIRPORT DESTINATION_AIRPORT\n",
              "645400      HA      N370HA            HNL                 PDX\n",
              "546962      DL      N334NW            SAN                 MSP\n",
              "159193      EV      N14904            IAH                 ATL\n",
              "288445      DL      N553NW            MCO                 ATL\n",
              "298874      WN      N8312C            ALB                 MCO"
            ]
          },
          "metadata": {
            "tags": []
          },
          "execution_count": 196
        }
      ]
    },
    {
      "cell_type": "code",
      "metadata": {
        "id": "K9I3kH0uMH_n",
        "outputId": "c149bfbf-c24b-4c49-9c82-cf8b0adf6f60",
        "colab": {
          "base_uri": "https://localhost:8080/"
        }
      },
      "source": [
        "# Let us see the cardanilatity of each column for the categorical columns in X_train_full and X_valid_full\n",
        "# Unique value sin each columns\n",
        "for cols in category_cols:\n",
        "    print(\"Unique values in\", cols,  \"column in training data:\", X_train_full[cols].nunique())\n",
        "    print(\"\\nUnique values in\" , cols,  \"column in validation data:\", X_valid_full[cols].nunique())"
      ],
      "execution_count": 197,
      "outputs": [
        {
          "output_type": "stream",
          "text": [
            "Unique values in AIRLINE column in training data: 14\n",
            "\n",
            "Unique values in AIRLINE column in validation data: 14\n",
            "Unique values in TAIL_NUMBER column in training data: 4470\n",
            "\n",
            "Unique values in TAIL_NUMBER column in validation data: 4372\n",
            "Unique values in ORIGIN_AIRPORT column in training data: 315\n",
            "\n",
            "Unique values in ORIGIN_AIRPORT column in validation data: 315\n",
            "Unique values in DESTINATION_AIRPORT column in training data: 315\n",
            "\n",
            "Unique values in DESTINATION_AIRPORT column in validation data: 315\n"
          ],
          "name": "stdout"
        }
      ]
    },
    {
      "cell_type": "markdown",
      "metadata": {
        "id": "OMIsFnBAhNAt"
      },
      "source": [
        "##### We observe that the cardinality of the columns are all greater than 10 hence one-hot encoding will lead to a huge number of new columns and hence result in the curse of dimensionality problem. Hence in this project we proceed with label encoding for the baseline project. We hope to improve the categorical encoding columns with the category encoder library in the future using the count encoder, target encoder and catboost encoder."
      ]
    },
    {
      "cell_type": "code",
      "metadata": {
        "id": "PxH9EeOZO30A",
        "outputId": "63126ec2-1ab7-430c-bbbd-714355e28e1e",
        "colab": {
          "base_uri": "https://localhost:8080/"
        }
      },
      "source": [
        "# Select categorical columns with relatively low cardinality (convenient but arbitrary)\n",
        "low_cardinality = [cname for cname in X_train_full.columns if\n",
        "                    X_train_full[cname].nunique() < 10 and\n",
        "                    X_train_full[cname].dtype == \"object\"]\n",
        "low_cardinality"
      ],
      "execution_count": 198,
      "outputs": [
        {
          "output_type": "execute_result",
          "data": {
            "text/plain": [
              "[]"
            ]
          },
          "metadata": {
            "tags": []
          },
          "execution_count": 198
        }
      ]
    },
    {
      "cell_type": "code",
      "metadata": {
        "id": "pQAbj6bjhv5R",
        "outputId": "661c8853-c322-4843-9db6-27c77485d051",
        "colab": {
          "base_uri": "https://localhost:8080/"
        }
      },
      "source": [
        "# Select categorical columns with relatively low cardinality (convenient but arbitrary)\n",
        "high_cardinality = [cname for cname in X_train_full.columns if\n",
        "                    X_train_full[cname].nunique() > 10 and\n",
        "                    X_train_full[cname].dtype == \"object\"]\n",
        "high_cardinality"
      ],
      "execution_count": 199,
      "outputs": [
        {
          "output_type": "execute_result",
          "data": {
            "text/plain": [
              "['AIRLINE', 'TAIL_NUMBER', 'ORIGIN_AIRPORT', 'DESTINATION_AIRPORT']"
            ]
          },
          "metadata": {
            "tags": []
          },
          "execution_count": 199
        }
      ]
    },
    {
      "cell_type": "markdown",
      "metadata": {
        "id": "4Ye0bnr2NGMk"
      },
      "source": [
        "##### We observe that all columns have high cardinality"
      ]
    },
    {
      "cell_type": "code",
      "metadata": {
        "id": "eA_QbbKyPSAx",
        "outputId": "e09be44b-e827-4ed8-ad7a-a69c86cab4cd",
        "colab": {
          "base_uri": "https://localhost:8080/"
        }
      },
      "source": [
        "# Columns that can be safely label encoded in validation set\n",
        "good_label_cols = [col for col in category_cols if\n",
        "                   set(X_train_full[col]) == set(X_valid_full[col]) and \n",
        "                   set(X_train_full[col]) == set(X_test_full[col])]\n",
        "\n",
        "\n",
        "# Problematic columns that will be dropped from the validation dataset\n",
        "bad_label_cols = list(set(category_cols) - set(good_label_cols))\n",
        "\n",
        "print('Categorical columns that will be label encoded:', good_label_cols)\n",
        "print('\\nCategorical columns that will be dropped from the dataset:', bad_label_cols)\n",
        "\n",
        "\n",
        "\n",
        "\n"
      ],
      "execution_count": 200,
      "outputs": [
        {
          "output_type": "stream",
          "text": [
            "Categorical columns that will be label encoded: ['AIRLINE', 'ORIGIN_AIRPORT', 'DESTINATION_AIRPORT']\n",
            "\n",
            "Categorical columns that will be dropped from the dataset: ['TAIL_NUMBER']\n"
          ],
          "name": "stdout"
        }
      ]
    },
    {
      "cell_type": "code",
      "metadata": {
        "id": "Dw06sULQPlAY",
        "outputId": "bcd8734b-5e53-4225-bd8d-6aef614f4618",
        "colab": {
          "base_uri": "https://localhost:8080/",
          "height": 215
        }
      },
      "source": [
        "# Drop categorical columns that will not be encoded\n",
        "label_X_train = X_train_full.drop(bad_label_cols, axis=1)\n",
        "label_X_valid = X_valid_full.drop(bad_label_cols, axis=1)\n",
        "label_X_test = X_test_full.drop(bad_label_cols, axis=1)\n",
        "\n",
        "# print dataframe for inspection\n",
        "label_X_train.head()"
      ],
      "execution_count": 201,
      "outputs": [
        {
          "output_type": "execute_result",
          "data": {
            "text/html": [
              "<div>\n",
              "<style scoped>\n",
              "    .dataframe tbody tr th:only-of-type {\n",
              "        vertical-align: middle;\n",
              "    }\n",
              "\n",
              "    .dataframe tbody tr th {\n",
              "        vertical-align: top;\n",
              "    }\n",
              "\n",
              "    .dataframe thead th {\n",
              "        text-align: right;\n",
              "    }\n",
              "</style>\n",
              "<table border=\"1\" class=\"dataframe\">\n",
              "  <thead>\n",
              "    <tr style=\"text-align: right;\">\n",
              "      <th></th>\n",
              "      <th>YEAR</th>\n",
              "      <th>MONTH</th>\n",
              "      <th>DAY</th>\n",
              "      <th>DAY_OF_WEEK</th>\n",
              "      <th>AIRLINE</th>\n",
              "      <th>FLIGHT_NUMBER</th>\n",
              "      <th>ORIGIN_AIRPORT</th>\n",
              "      <th>DESTINATION_AIRPORT</th>\n",
              "      <th>SCHEDULED_DEPARTURE</th>\n",
              "      <th>SCHEDULED_TIME</th>\n",
              "      <th>DISTANCE</th>\n",
              "      <th>SCHEDULED_ARRIVAL</th>\n",
              "    </tr>\n",
              "  </thead>\n",
              "  <tbody>\n",
              "    <tr>\n",
              "      <th>645400</th>\n",
              "      <td>2015</td>\n",
              "      <td>2</td>\n",
              "      <td>12</td>\n",
              "      <td>4</td>\n",
              "      <td>HA</td>\n",
              "      <td>26</td>\n",
              "      <td>HNL</td>\n",
              "      <td>PDX</td>\n",
              "      <td>1500</td>\n",
              "      <td>330.0</td>\n",
              "      <td>2603</td>\n",
              "      <td>2230</td>\n",
              "    </tr>\n",
              "    <tr>\n",
              "      <th>546962</th>\n",
              "      <td>2015</td>\n",
              "      <td>2</td>\n",
              "      <td>6</td>\n",
              "      <td>5</td>\n",
              "      <td>DL</td>\n",
              "      <td>1864</td>\n",
              "      <td>SAN</td>\n",
              "      <td>MSP</td>\n",
              "      <td>625</td>\n",
              "      <td>227.0</td>\n",
              "      <td>1532</td>\n",
              "      <td>1212</td>\n",
              "    </tr>\n",
              "    <tr>\n",
              "      <th>159193</th>\n",
              "      <td>2015</td>\n",
              "      <td>1</td>\n",
              "      <td>11</td>\n",
              "      <td>7</td>\n",
              "      <td>EV</td>\n",
              "      <td>4427</td>\n",
              "      <td>IAH</td>\n",
              "      <td>ATL</td>\n",
              "      <td>1125</td>\n",
              "      <td>119.0</td>\n",
              "      <td>689</td>\n",
              "      <td>1424</td>\n",
              "    </tr>\n",
              "    <tr>\n",
              "      <th>288445</th>\n",
              "      <td>2015</td>\n",
              "      <td>1</td>\n",
              "      <td>19</td>\n",
              "      <td>1</td>\n",
              "      <td>DL</td>\n",
              "      <td>1112</td>\n",
              "      <td>MCO</td>\n",
              "      <td>ATL</td>\n",
              "      <td>2030</td>\n",
              "      <td>87.0</td>\n",
              "      <td>404</td>\n",
              "      <td>2157</td>\n",
              "    </tr>\n",
              "    <tr>\n",
              "      <th>298874</th>\n",
              "      <td>2015</td>\n",
              "      <td>1</td>\n",
              "      <td>20</td>\n",
              "      <td>2</td>\n",
              "      <td>WN</td>\n",
              "      <td>4858</td>\n",
              "      <td>ALB</td>\n",
              "      <td>MCO</td>\n",
              "      <td>1505</td>\n",
              "      <td>195.0</td>\n",
              "      <td>1073</td>\n",
              "      <td>1820</td>\n",
              "    </tr>\n",
              "  </tbody>\n",
              "</table>\n",
              "</div>"
            ],
            "text/plain": [
              "        YEAR  MONTH  DAY  ...  SCHEDULED_TIME DISTANCE  SCHEDULED_ARRIVAL\n",
              "645400  2015      2   12  ...           330.0     2603               2230\n",
              "546962  2015      2    6  ...           227.0     1532               1212\n",
              "159193  2015      1   11  ...           119.0      689               1424\n",
              "288445  2015      1   19  ...            87.0      404               2157\n",
              "298874  2015      1   20  ...           195.0     1073               1820\n",
              "\n",
              "[5 rows x 12 columns]"
            ]
          },
          "metadata": {
            "tags": []
          },
          "execution_count": 201
        }
      ]
    },
    {
      "cell_type": "code",
      "metadata": {
        "id": "06IReH3NbH0C",
        "outputId": "35f8c930-b518-4b78-fd39-5d1a69d031d6",
        "colab": {
          "base_uri": "https://localhost:8080/",
          "height": 363
        }
      },
      "source": [
        "# Apply label encoder to each column with categorical data\n",
        "from sklearn.preprocessing import LabelEncoder\n",
        "label_encoder = LabelEncoder()\n",
        "for col in good_label_cols:\n",
        "    label_X_train[col] = label_encoder.fit_transform(X_train_full[col])\n",
        "    label_X_valid[col] = label_encoder.transform(X_valid_full[col])\n",
        "    label_X_test[col] = label_encoder.transform(X_test_full[col])\n",
        "\n",
        "label_X_train.head(10)"
      ],
      "execution_count": 202,
      "outputs": [
        {
          "output_type": "execute_result",
          "data": {
            "text/html": [
              "<div>\n",
              "<style scoped>\n",
              "    .dataframe tbody tr th:only-of-type {\n",
              "        vertical-align: middle;\n",
              "    }\n",
              "\n",
              "    .dataframe tbody tr th {\n",
              "        vertical-align: top;\n",
              "    }\n",
              "\n",
              "    .dataframe thead th {\n",
              "        text-align: right;\n",
              "    }\n",
              "</style>\n",
              "<table border=\"1\" class=\"dataframe\">\n",
              "  <thead>\n",
              "    <tr style=\"text-align: right;\">\n",
              "      <th></th>\n",
              "      <th>YEAR</th>\n",
              "      <th>MONTH</th>\n",
              "      <th>DAY</th>\n",
              "      <th>DAY_OF_WEEK</th>\n",
              "      <th>AIRLINE</th>\n",
              "      <th>FLIGHT_NUMBER</th>\n",
              "      <th>ORIGIN_AIRPORT</th>\n",
              "      <th>DESTINATION_AIRPORT</th>\n",
              "      <th>SCHEDULED_DEPARTURE</th>\n",
              "      <th>SCHEDULED_TIME</th>\n",
              "      <th>DISTANCE</th>\n",
              "      <th>SCHEDULED_ARRIVAL</th>\n",
              "    </tr>\n",
              "  </thead>\n",
              "  <tbody>\n",
              "    <tr>\n",
              "      <th>645400</th>\n",
              "      <td>2015</td>\n",
              "      <td>2</td>\n",
              "      <td>12</td>\n",
              "      <td>4</td>\n",
              "      <td>6</td>\n",
              "      <td>26</td>\n",
              "      <td>137</td>\n",
              "      <td>230</td>\n",
              "      <td>1500</td>\n",
              "      <td>330.0</td>\n",
              "      <td>2603</td>\n",
              "      <td>2230</td>\n",
              "    </tr>\n",
              "    <tr>\n",
              "      <th>546962</th>\n",
              "      <td>2015</td>\n",
              "      <td>2</td>\n",
              "      <td>6</td>\n",
              "      <td>5</td>\n",
              "      <td>3</td>\n",
              "      <td>1864</td>\n",
              "      <td>262</td>\n",
              "      <td>211</td>\n",
              "      <td>625</td>\n",
              "      <td>227.0</td>\n",
              "      <td>1532</td>\n",
              "      <td>1212</td>\n",
              "    </tr>\n",
              "    <tr>\n",
              "      <th>159193</th>\n",
              "      <td>2015</td>\n",
              "      <td>1</td>\n",
              "      <td>11</td>\n",
              "      <td>7</td>\n",
              "      <td>4</td>\n",
              "      <td>4427</td>\n",
              "      <td>146</td>\n",
              "      <td>18</td>\n",
              "      <td>1125</td>\n",
              "      <td>119.0</td>\n",
              "      <td>689</td>\n",
              "      <td>1424</td>\n",
              "    </tr>\n",
              "    <tr>\n",
              "      <th>288445</th>\n",
              "      <td>2015</td>\n",
              "      <td>1</td>\n",
              "      <td>19</td>\n",
              "      <td>1</td>\n",
              "      <td>3</td>\n",
              "      <td>1112</td>\n",
              "      <td>188</td>\n",
              "      <td>18</td>\n",
              "      <td>2030</td>\n",
              "      <td>87.0</td>\n",
              "      <td>404</td>\n",
              "      <td>2157</td>\n",
              "    </tr>\n",
              "    <tr>\n",
              "      <th>298874</th>\n",
              "      <td>2015</td>\n",
              "      <td>1</td>\n",
              "      <td>20</td>\n",
              "      <td>2</td>\n",
              "      <td>13</td>\n",
              "      <td>4858</td>\n",
              "      <td>12</td>\n",
              "      <td>188</td>\n",
              "      <td>1505</td>\n",
              "      <td>195.0</td>\n",
              "      <td>1073</td>\n",
              "      <td>1820</td>\n",
              "    </tr>\n",
              "    <tr>\n",
              "      <th>460756</th>\n",
              "      <td>2015</td>\n",
              "      <td>1</td>\n",
              "      <td>31</td>\n",
              "      <td>6</td>\n",
              "      <td>13</td>\n",
              "      <td>615</td>\n",
              "      <td>188</td>\n",
              "      <td>79</td>\n",
              "      <td>855</td>\n",
              "      <td>180.0</td>\n",
              "      <td>973</td>\n",
              "      <td>1055</td>\n",
              "    </tr>\n",
              "    <tr>\n",
              "      <th>783876</th>\n",
              "      <td>2015</td>\n",
              "      <td>2</td>\n",
              "      <td>21</td>\n",
              "      <td>6</td>\n",
              "      <td>13</td>\n",
              "      <td>2663</td>\n",
              "      <td>169</td>\n",
              "      <td>97</td>\n",
              "      <td>1330</td>\n",
              "      <td>95.0</td>\n",
              "      <td>583</td>\n",
              "      <td>1605</td>\n",
              "    </tr>\n",
              "    <tr>\n",
              "      <th>72002</th>\n",
              "      <td>2015</td>\n",
              "      <td>1</td>\n",
              "      <td>5</td>\n",
              "      <td>1</td>\n",
              "      <td>8</td>\n",
              "      <td>312</td>\n",
              "      <td>188</td>\n",
              "      <td>7</td>\n",
              "      <td>1438</td>\n",
              "      <td>127.0</td>\n",
              "      <td>852</td>\n",
              "      <td>1645</td>\n",
              "    </tr>\n",
              "    <tr>\n",
              "      <th>709158</th>\n",
              "      <td>2015</td>\n",
              "      <td>2</td>\n",
              "      <td>16</td>\n",
              "      <td>1</td>\n",
              "      <td>13</td>\n",
              "      <td>271</td>\n",
              "      <td>111</td>\n",
              "      <td>49</td>\n",
              "      <td>1855</td>\n",
              "      <td>150.0</td>\n",
              "      <td>925</td>\n",
              "      <td>2125</td>\n",
              "    </tr>\n",
              "    <tr>\n",
              "      <th>120068</th>\n",
              "      <td>2015</td>\n",
              "      <td>1</td>\n",
              "      <td>8</td>\n",
              "      <td>4</td>\n",
              "      <td>9</td>\n",
              "      <td>4592</td>\n",
              "      <td>280</td>\n",
              "      <td>130</td>\n",
              "      <td>1530</td>\n",
              "      <td>99.0</td>\n",
              "      <td>463</td>\n",
              "      <td>1709</td>\n",
              "    </tr>\n",
              "  </tbody>\n",
              "</table>\n",
              "</div>"
            ],
            "text/plain": [
              "        YEAR  MONTH  DAY  ...  SCHEDULED_TIME  DISTANCE  SCHEDULED_ARRIVAL\n",
              "645400  2015      2   12  ...           330.0      2603               2230\n",
              "546962  2015      2    6  ...           227.0      1532               1212\n",
              "159193  2015      1   11  ...           119.0       689               1424\n",
              "288445  2015      1   19  ...            87.0       404               2157\n",
              "298874  2015      1   20  ...           195.0      1073               1820\n",
              "460756  2015      1   31  ...           180.0       973               1055\n",
              "783876  2015      2   21  ...            95.0       583               1605\n",
              "72002   2015      1    5  ...           127.0       852               1645\n",
              "709158  2015      2   16  ...           150.0       925               2125\n",
              "120068  2015      1    8  ...            99.0       463               1709\n",
              "\n",
              "[10 rows x 12 columns]"
            ]
          },
          "metadata": {
            "tags": []
          },
          "execution_count": 202
        }
      ]
    },
    {
      "cell_type": "code",
      "metadata": {
        "id": "muODOQKC5ddx",
        "outputId": "cbcfc74c-f28b-4ec7-a851-ab39309a6b43",
        "colab": {
          "base_uri": "https://localhost:8080/",
          "height": 215
        }
      },
      "source": [
        "# print validation test set\n",
        "label_X_valid.head()"
      ],
      "execution_count": 203,
      "outputs": [
        {
          "output_type": "execute_result",
          "data": {
            "text/html": [
              "<div>\n",
              "<style scoped>\n",
              "    .dataframe tbody tr th:only-of-type {\n",
              "        vertical-align: middle;\n",
              "    }\n",
              "\n",
              "    .dataframe tbody tr th {\n",
              "        vertical-align: top;\n",
              "    }\n",
              "\n",
              "    .dataframe thead th {\n",
              "        text-align: right;\n",
              "    }\n",
              "</style>\n",
              "<table border=\"1\" class=\"dataframe\">\n",
              "  <thead>\n",
              "    <tr style=\"text-align: right;\">\n",
              "      <th></th>\n",
              "      <th>YEAR</th>\n",
              "      <th>MONTH</th>\n",
              "      <th>DAY</th>\n",
              "      <th>DAY_OF_WEEK</th>\n",
              "      <th>AIRLINE</th>\n",
              "      <th>FLIGHT_NUMBER</th>\n",
              "      <th>ORIGIN_AIRPORT</th>\n",
              "      <th>DESTINATION_AIRPORT</th>\n",
              "      <th>SCHEDULED_DEPARTURE</th>\n",
              "      <th>SCHEDULED_TIME</th>\n",
              "      <th>DISTANCE</th>\n",
              "      <th>SCHEDULED_ARRIVAL</th>\n",
              "    </tr>\n",
              "  </thead>\n",
              "  <tbody>\n",
              "    <tr>\n",
              "      <th>49651</th>\n",
              "      <td>2015</td>\n",
              "      <td>1</td>\n",
              "      <td>4</td>\n",
              "      <td>7</td>\n",
              "      <td>13</td>\n",
              "      <td>297</td>\n",
              "      <td>20</td>\n",
              "      <td>97</td>\n",
              "      <td>855</td>\n",
              "      <td>100.0</td>\n",
              "      <td>528</td>\n",
              "      <td>935</td>\n",
              "    </tr>\n",
              "    <tr>\n",
              "      <th>252341</th>\n",
              "      <td>2015</td>\n",
              "      <td>1</td>\n",
              "      <td>17</td>\n",
              "      <td>6</td>\n",
              "      <td>3</td>\n",
              "      <td>1772</td>\n",
              "      <td>18</td>\n",
              "      <td>233</td>\n",
              "      <td>1103</td>\n",
              "      <td>262.0</td>\n",
              "      <td>1587</td>\n",
              "      <td>1325</td>\n",
              "    </tr>\n",
              "    <tr>\n",
              "      <th>231406</th>\n",
              "      <td>2015</td>\n",
              "      <td>1</td>\n",
              "      <td>15</td>\n",
              "      <td>4</td>\n",
              "      <td>11</td>\n",
              "      <td>782</td>\n",
              "      <td>171</td>\n",
              "      <td>232</td>\n",
              "      <td>2215</td>\n",
              "      <td>293.0</td>\n",
              "      <td>2402</td>\n",
              "      <td>608</td>\n",
              "    </tr>\n",
              "    <tr>\n",
              "      <th>601178</th>\n",
              "      <td>2015</td>\n",
              "      <td>2</td>\n",
              "      <td>9</td>\n",
              "      <td>1</td>\n",
              "      <td>1</td>\n",
              "      <td>201</td>\n",
              "      <td>277</td>\n",
              "      <td>271</td>\n",
              "      <td>1730</td>\n",
              "      <td>122.0</td>\n",
              "      <td>697</td>\n",
              "      <td>1932</td>\n",
              "    </tr>\n",
              "    <tr>\n",
              "      <th>688416</th>\n",
              "      <td>2015</td>\n",
              "      <td>2</td>\n",
              "      <td>15</td>\n",
              "      <td>7</td>\n",
              "      <td>3</td>\n",
              "      <td>490</td>\n",
              "      <td>161</td>\n",
              "      <td>212</td>\n",
              "      <td>1359</td>\n",
              "      <td>223.0</td>\n",
              "      <td>1182</td>\n",
              "      <td>1642</td>\n",
              "    </tr>\n",
              "  </tbody>\n",
              "</table>\n",
              "</div>"
            ],
            "text/plain": [
              "        YEAR  MONTH  DAY  ...  SCHEDULED_TIME  DISTANCE  SCHEDULED_ARRIVAL\n",
              "49651   2015      1    4  ...           100.0       528                935\n",
              "252341  2015      1   17  ...           262.0      1587               1325\n",
              "231406  2015      1   15  ...           293.0      2402                608\n",
              "601178  2015      2    9  ...           122.0       697               1932\n",
              "688416  2015      2   15  ...           223.0      1182               1642\n",
              "\n",
              "[5 rows x 12 columns]"
            ]
          },
          "metadata": {
            "tags": []
          },
          "execution_count": 203
        }
      ]
    },
    {
      "cell_type": "code",
      "metadata": {
        "id": "KV6z8dmb5sfS",
        "outputId": "26ce4c61-9287-48e2-9a68-701b85cd20ae",
        "colab": {
          "base_uri": "https://localhost:8080/",
          "height": 215
        }
      },
      "source": [
        "# print test set\n",
        "label_X_test.head()"
      ],
      "execution_count": 204,
      "outputs": [
        {
          "output_type": "execute_result",
          "data": {
            "text/html": [
              "<div>\n",
              "<style scoped>\n",
              "    .dataframe tbody tr th:only-of-type {\n",
              "        vertical-align: middle;\n",
              "    }\n",
              "\n",
              "    .dataframe tbody tr th {\n",
              "        vertical-align: top;\n",
              "    }\n",
              "\n",
              "    .dataframe thead th {\n",
              "        text-align: right;\n",
              "    }\n",
              "</style>\n",
              "<table border=\"1\" class=\"dataframe\">\n",
              "  <thead>\n",
              "    <tr style=\"text-align: right;\">\n",
              "      <th></th>\n",
              "      <th>YEAR</th>\n",
              "      <th>MONTH</th>\n",
              "      <th>DAY</th>\n",
              "      <th>DAY_OF_WEEK</th>\n",
              "      <th>AIRLINE</th>\n",
              "      <th>FLIGHT_NUMBER</th>\n",
              "      <th>ORIGIN_AIRPORT</th>\n",
              "      <th>DESTINATION_AIRPORT</th>\n",
              "      <th>SCHEDULED_DEPARTURE</th>\n",
              "      <th>SCHEDULED_TIME</th>\n",
              "      <th>DISTANCE</th>\n",
              "      <th>SCHEDULED_ARRIVAL</th>\n",
              "    </tr>\n",
              "  </thead>\n",
              "  <tbody>\n",
              "    <tr>\n",
              "      <th>0</th>\n",
              "      <td>2015</td>\n",
              "      <td>2</td>\n",
              "      <td>25</td>\n",
              "      <td>3</td>\n",
              "      <td>13</td>\n",
              "      <td>1046</td>\n",
              "      <td>169</td>\n",
              "      <td>233</td>\n",
              "      <td>700</td>\n",
              "      <td>65</td>\n",
              "      <td>255</td>\n",
              "      <td>905</td>\n",
              "    </tr>\n",
              "    <tr>\n",
              "      <th>1</th>\n",
              "      <td>2015</td>\n",
              "      <td>2</td>\n",
              "      <td>25</td>\n",
              "      <td>3</td>\n",
              "      <td>13</td>\n",
              "      <td>2251</td>\n",
              "      <td>169</td>\n",
              "      <td>255</td>\n",
              "      <td>700</td>\n",
              "      <td>80</td>\n",
              "      <td>345</td>\n",
              "      <td>820</td>\n",
              "    </tr>\n",
              "    <tr>\n",
              "      <th>2</th>\n",
              "      <td>2015</td>\n",
              "      <td>2</td>\n",
              "      <td>25</td>\n",
              "      <td>3</td>\n",
              "      <td>13</td>\n",
              "      <td>857</td>\n",
              "      <td>169</td>\n",
              "      <td>281</td>\n",
              "      <td>700</td>\n",
              "      <td>90</td>\n",
              "      <td>397</td>\n",
              "      <td>830</td>\n",
              "    </tr>\n",
              "    <tr>\n",
              "      <th>3</th>\n",
              "      <td>2015</td>\n",
              "      <td>2</td>\n",
              "      <td>25</td>\n",
              "      <td>3</td>\n",
              "      <td>13</td>\n",
              "      <td>2864</td>\n",
              "      <td>171</td>\n",
              "      <td>49</td>\n",
              "      <td>700</td>\n",
              "      <td>295</td>\n",
              "      <td>2329</td>\n",
              "      <td>1455</td>\n",
              "    </tr>\n",
              "    <tr>\n",
              "      <th>4</th>\n",
              "      <td>2015</td>\n",
              "      <td>2</td>\n",
              "      <td>25</td>\n",
              "      <td>3</td>\n",
              "      <td>13</td>\n",
              "      <td>3220</td>\n",
              "      <td>171</td>\n",
              "      <td>233</td>\n",
              "      <td>700</td>\n",
              "      <td>80</td>\n",
              "      <td>370</td>\n",
              "      <td>920</td>\n",
              "    </tr>\n",
              "  </tbody>\n",
              "</table>\n",
              "</div>"
            ],
            "text/plain": [
              "   YEAR  MONTH  DAY  ...  SCHEDULED_TIME  DISTANCE  SCHEDULED_ARRIVAL\n",
              "0  2015      2   25  ...              65       255                905\n",
              "1  2015      2   25  ...              80       345                820\n",
              "2  2015      2   25  ...              90       397                830\n",
              "3  2015      2   25  ...             295      2329               1455\n",
              "4  2015      2   25  ...              80       370                920\n",
              "\n",
              "[5 rows x 12 columns]"
            ]
          },
          "metadata": {
            "tags": []
          },
          "execution_count": 204
        }
      ]
    },
    {
      "cell_type": "code",
      "metadata": {
        "id": "4576ya_MO2nU"
      },
      "source": [
        "# Select numerical columns\n",
        "numerical_cols = [cname for cname in label_X_train.columns if\n",
        "                label_X_train[cname].dtype in ['int64', 'float64']]\n",
        "\n",
        "# Keep selected columns only\n",
        "categorical_cols = good_label_cols\n",
        "my_cols = categorical_cols + numerical_cols  # sometime use category_cols instead of good_label_cols for one-hot encoding\n",
        "X_train = label_X_train[my_cols].copy()\n",
        "X_valid = label_X_valid[my_cols].copy()\n",
        "X_test = label_X_test[my_cols].copy()\n"
      ],
      "execution_count": 205,
      "outputs": []
    },
    {
      "cell_type": "markdown",
      "metadata": {
        "id": "2wvUzgLvyE7N"
      },
      "source": [
        "### Model using Logistic Regression Classifier"
      ]
    },
    {
      "cell_type": "code",
      "metadata": {
        "id": "K1eDbCsWDpbQ"
      },
      "source": [
        "# Define Preprocessing Steps and import dependecies\n",
        "from sklearn.compose import ColumnTransformer\n",
        "from sklearn.pipeline import Pipeline\n",
        "from sklearn.impute import SimpleImputer, KNNImputer\n",
        "from sklearn.preprocessing import StandardScaler, OneHotEncoder\n",
        "\n",
        "\n",
        "# Preprocessing for numerical data\n",
        "#numerical_transformer = SimpleImputer(strategy='mean')\n",
        "#numerical_transformer = KNNImputer(n_neighbors=3)\n",
        "numerical_transformer = Pipeline(steps=[('imputer',SimpleImputer() ),('scaler', StandardScaler())])\n",
        "\n",
        "# Preprocessing for categorical data\n",
        "categorical_transformer = Pipeline(steps=[('imputer', SimpleImputer(strategy='most_frequent'))])\n",
        "#categorical_transformer = Pipeline(steps=[ ('imputer', SimpleImputer(strategy='most_frequent')), ('onehot', OneHotEncoder())])\n"
      ],
      "execution_count": 206,
      "outputs": []
    },
    {
      "cell_type": "code",
      "metadata": {
        "id": "YRCxkZoUyJTV",
        "outputId": "6304d44f-638f-4f1f-9692-ffa52d49d260",
        "colab": {
          "base_uri": "https://localhost:8080/"
        }
      },
      "source": [
        "# import required libraries\n",
        "from sklearn.metrics import accuracy_score, average_precision_score, f1_score\n",
        "\n",
        "# Step 1 : Bundle preprocessing for numerical and categorical data\n",
        "preprocessor = ColumnTransformer(transformers=[ ('num', numerical_transformer, numerical_cols),\n",
        "                ('cat', categorical_transformer, categorical_cols) ])\n",
        "\n",
        "# Step 2: Define the Model\n",
        "from sklearn.linear_model import LogisticRegression\n",
        "model_1 = LogisticRegression()\n",
        "\n",
        "\n",
        "# Bundle preprocessing and modeling code in a pipeline\n",
        "my_pipeline = Pipeline(steps=[('preprocessor', preprocessor), ('model', model_1)])\n",
        "my_pipeline.fit(X_train, y_train)\n",
        "\n",
        "# Preprocessing of validation data, get predictions\n",
        "preds = my_pipeline.predict(X_valid)\n",
        "\n",
        "# Evaluate the model\n",
        "score = accuracy_score(y_valid, preds)\n",
        "avg_precisionScore = average_precision_score(y_valid, preds)\n",
        "\n",
        "print(\"Pipeline score is\", my_pipeline.score)\n",
        "print('Accuracy Score:', score)\n",
        "print('Average Precision Score:', avg_precisionScore)\n",
        "print(\"The macro averaged f1_score is :\", f1_score(y_valid, preds, average='macro'))\n",
        "print(\"The mairo averaged f1_score is :\", f1_score(y_valid, preds, average='micro'))\n",
        "print(\"The weighted averaged f1_score is :\", f1_score(y_valid, preds, average='weighted'))\n",
        "print(\"The  f1_score is :\", f1_score(y_valid, preds, average='macro'))"
      ],
      "execution_count": 207,
      "outputs": [
        {
          "output_type": "stream",
          "text": [
            "/usr/local/lib/python3.6/dist-packages/sklearn/linear_model/_logistic.py:940: ConvergenceWarning: lbfgs failed to converge (status=1):\n",
            "STOP: TOTAL NO. of ITERATIONS REACHED LIMIT.\n",
            "\n",
            "Increase the number of iterations (max_iter) or scale the data as shown in:\n",
            "    https://scikit-learn.org/stable/modules/preprocessing.html\n",
            "Please also refer to the documentation for alternative solver options:\n",
            "    https://scikit-learn.org/stable/modules/linear_model.html#logistic-regression\n",
            "  extra_warning_msg=_LOGISTIC_SOLVER_CONVERGENCE_MSG)\n"
          ],
          "name": "stderr"
        },
        {
          "output_type": "stream",
          "text": [
            "Pipeline score is <function Pipeline.score at 0x7f2c10e73488>\n",
            "Accuracy Score: 0.9658286245619054\n",
            "Average Precision Score: 0.03417137543809456\n",
            "The macro averaged f1_score is : 0.49130865859537737\n",
            "The mairo averaged f1_score is : 0.9658286245619054\n",
            "The weighted averaged f1_score is : 0.9490399319330562\n",
            "The  f1_score is : 0.49130865859537737\n"
          ],
          "name": "stdout"
        }
      ]
    },
    {
      "cell_type": "code",
      "metadata": {
        "id": "Vt14JiwX6sZG",
        "outputId": "fc20dfa3-da4f-45a7-ed91-f59482b38844",
        "colab": {
          "base_uri": "https://localhost:8080/"
        }
      },
      "source": [
        "# print classification report (confusion matrix)\n",
        "from sklearn.metrics import classification_report,confusion_matrix\n",
        "print (classification_report(y_valid, preds))\n",
        "print(confusion_matrix(y_valid,preds))"
      ],
      "execution_count": 208,
      "outputs": [
        {
          "output_type": "stream",
          "text": [
            "/usr/local/lib/python3.6/dist-packages/sklearn/metrics/_classification.py:1272: UndefinedMetricWarning: Precision and F-score are ill-defined and being set to 0.0 in labels with no predicted samples. Use `zero_division` parameter to control this behavior.\n",
            "  _warn_prf(average, modifier, msg_start, len(result))\n"
          ],
          "name": "stderr"
        },
        {
          "output_type": "stream",
          "text": [
            "              precision    recall  f1-score   support\n",
            "\n",
            "           0       0.97      1.00      0.98    162039\n",
            "           1       0.00      0.00      0.00      5733\n",
            "\n",
            "    accuracy                           0.97    167772\n",
            "   macro avg       0.48      0.50      0.49    167772\n",
            "weighted avg       0.93      0.97      0.95    167772\n",
            "\n",
            "[[162039      0]\n",
            " [  5733      0]]\n"
          ],
          "name": "stdout"
        }
      ]
    },
    {
      "cell_type": "code",
      "metadata": {
        "id": "-4El5WkcEzkU",
        "outputId": "80ee2ae5-08ae-4e46-9c81-b729d7281f69",
        "colab": {
          "base_uri": "https://localhost:8080/"
        }
      },
      "source": [
        "# Cross validation Score\n",
        "from sklearn.model_selection import cross_val_score\n",
        "scores = cross_val_score(my_pipeline, X_train, y_train, cv=3)\n",
        "\n",
        "# Print the mean score and 95% confidence interval\n",
        "print(\"Accuracy: %0.2f (+/- %0.5f)\" % (scores.mean(), scores.std() * 2))"
      ],
      "execution_count": 209,
      "outputs": [
        {
          "output_type": "stream",
          "text": [
            "/usr/local/lib/python3.6/dist-packages/sklearn/linear_model/_logistic.py:940: ConvergenceWarning: lbfgs failed to converge (status=1):\n",
            "STOP: TOTAL NO. of ITERATIONS REACHED LIMIT.\n",
            "\n",
            "Increase the number of iterations (max_iter) or scale the data as shown in:\n",
            "    https://scikit-learn.org/stable/modules/preprocessing.html\n",
            "Please also refer to the documentation for alternative solver options:\n",
            "    https://scikit-learn.org/stable/modules/linear_model.html#logistic-regression\n",
            "  extra_warning_msg=_LOGISTIC_SOLVER_CONVERGENCE_MSG)\n",
            "/usr/local/lib/python3.6/dist-packages/sklearn/linear_model/_logistic.py:940: ConvergenceWarning: lbfgs failed to converge (status=1):\n",
            "STOP: TOTAL NO. of ITERATIONS REACHED LIMIT.\n",
            "\n",
            "Increase the number of iterations (max_iter) or scale the data as shown in:\n",
            "    https://scikit-learn.org/stable/modules/preprocessing.html\n",
            "Please also refer to the documentation for alternative solver options:\n",
            "    https://scikit-learn.org/stable/modules/linear_model.html#logistic-regression\n",
            "  extra_warning_msg=_LOGISTIC_SOLVER_CONVERGENCE_MSG)\n"
          ],
          "name": "stderr"
        },
        {
          "output_type": "stream",
          "text": [
            "Accuracy: 0.97 (+/- 0.00000)\n"
          ],
          "name": "stdout"
        },
        {
          "output_type": "stream",
          "text": [
            "/usr/local/lib/python3.6/dist-packages/sklearn/linear_model/_logistic.py:940: ConvergenceWarning: lbfgs failed to converge (status=1):\n",
            "STOP: TOTAL NO. of ITERATIONS REACHED LIMIT.\n",
            "\n",
            "Increase the number of iterations (max_iter) or scale the data as shown in:\n",
            "    https://scikit-learn.org/stable/modules/preprocessing.html\n",
            "Please also refer to the documentation for alternative solver options:\n",
            "    https://scikit-learn.org/stable/modules/linear_model.html#logistic-regression\n",
            "  extra_warning_msg=_LOGISTIC_SOLVER_CONVERGENCE_MSG)\n"
          ],
          "name": "stderr"
        }
      ]
    },
    {
      "cell_type": "markdown",
      "metadata": {
        "id": "QtGPOHnXEIU4"
      },
      "source": [
        "## Hyperparameter Tuning with GridSearchCV"
      ]
    },
    {
      "cell_type": "code",
      "metadata": {
        "id": "WYC2SsDxHmN_",
        "outputId": "2e8fb612-8e73-4fc0-d51a-bea3a2c4e733",
        "colab": {
          "base_uri": "https://localhost:8080/"
        }
      },
      "source": [
        "# import required libraries\n",
        "from sklearn.model_selection import GridSearchCV\n",
        "from sklearn.model_selection import KFold\n",
        "from sklearn.pipeline import Pipeline\n",
        "from sklearn.metrics import accuracy_score, average_precision_score, f1_score\n",
        "\n",
        "# Step 1 : Bundle preprocessing for numerical and categorical data\n",
        "preprocessor = ColumnTransformer(transformers=[ ('num', numerical_transformer, numerical_cols),\n",
        "                ('cat', categorical_transformer, categorical_cols) ])\n",
        "\n",
        "# Step 2: Define the Model\n",
        "from sklearn.linear_model import LogisticRegression\n",
        "clf = LogisticRegression()\n",
        "\n",
        "cv=KFold(n_splits=5,random_state=None,shuffle=False)\n",
        "\n",
        "# Bundle preprocessing and modeling code in a pipeline\n",
        "my_pipeline = Pipeline(steps=[('preprocessor', preprocessor), ('clf', clf)])\n",
        "grid={'clf__penalty': ['l1', 'l2']}\n",
        "parameters1 = { 'clf__C': [0.001, 0.01, 0.1,1,10],'clf__penalty': ['l1', 'l2'], 'clf__solver':['l1', 'l2', 'elasticnet', 'none']}\n",
        "Grid1 = GridSearchCV(my_pipeline, grid, cv = cv, scoring = 'f1_macro')\n",
        "\n",
        "Grid1.fit(X_train, y_train)\n",
        "\n",
        "#Get the best estimator and print out the estimator model\n",
        "best_clf = Grid1.best_estimator_\n",
        "print (best_clf)\n",
        "\n",
        "#Use best estimator to make predictions on the test set\n",
        "y_pred = best_clf.predict(X_valid)"
      ],
      "execution_count": 210,
      "outputs": [
        {
          "output_type": "stream",
          "text": [
            "/usr/local/lib/python3.6/dist-packages/sklearn/model_selection/_validation.py:536: FitFailedWarning: Estimator fit failed. The score on this train-test partition for these parameters will be set to nan. Details: \n",
            "ValueError: Solver lbfgs supports only 'l2' or 'none' penalties, got l1 penalty.\n",
            "\n",
            "  FitFailedWarning)\n",
            "/usr/local/lib/python3.6/dist-packages/sklearn/model_selection/_validation.py:536: FitFailedWarning: Estimator fit failed. The score on this train-test partition for these parameters will be set to nan. Details: \n",
            "ValueError: Solver lbfgs supports only 'l2' or 'none' penalties, got l1 penalty.\n",
            "\n",
            "  FitFailedWarning)\n",
            "/usr/local/lib/python3.6/dist-packages/sklearn/model_selection/_validation.py:536: FitFailedWarning: Estimator fit failed. The score on this train-test partition for these parameters will be set to nan. Details: \n",
            "ValueError: Solver lbfgs supports only 'l2' or 'none' penalties, got l1 penalty.\n",
            "\n",
            "  FitFailedWarning)\n",
            "/usr/local/lib/python3.6/dist-packages/sklearn/model_selection/_validation.py:536: FitFailedWarning: Estimator fit failed. The score on this train-test partition for these parameters will be set to nan. Details: \n",
            "ValueError: Solver lbfgs supports only 'l2' or 'none' penalties, got l1 penalty.\n",
            "\n",
            "  FitFailedWarning)\n",
            "/usr/local/lib/python3.6/dist-packages/sklearn/model_selection/_validation.py:536: FitFailedWarning: Estimator fit failed. The score on this train-test partition for these parameters will be set to nan. Details: \n",
            "ValueError: Solver lbfgs supports only 'l2' or 'none' penalties, got l1 penalty.\n",
            "\n",
            "  FitFailedWarning)\n",
            "/usr/local/lib/python3.6/dist-packages/sklearn/linear_model/_logistic.py:940: ConvergenceWarning: lbfgs failed to converge (status=1):\n",
            "STOP: TOTAL NO. of ITERATIONS REACHED LIMIT.\n",
            "\n",
            "Increase the number of iterations (max_iter) or scale the data as shown in:\n",
            "    https://scikit-learn.org/stable/modules/preprocessing.html\n",
            "Please also refer to the documentation for alternative solver options:\n",
            "    https://scikit-learn.org/stable/modules/linear_model.html#logistic-regression\n",
            "  extra_warning_msg=_LOGISTIC_SOLVER_CONVERGENCE_MSG)\n",
            "/usr/local/lib/python3.6/dist-packages/sklearn/linear_model/_logistic.py:940: ConvergenceWarning: lbfgs failed to converge (status=1):\n",
            "STOP: TOTAL NO. of ITERATIONS REACHED LIMIT.\n",
            "\n",
            "Increase the number of iterations (max_iter) or scale the data as shown in:\n",
            "    https://scikit-learn.org/stable/modules/preprocessing.html\n",
            "Please also refer to the documentation for alternative solver options:\n",
            "    https://scikit-learn.org/stable/modules/linear_model.html#logistic-regression\n",
            "  extra_warning_msg=_LOGISTIC_SOLVER_CONVERGENCE_MSG)\n",
            "/usr/local/lib/python3.6/dist-packages/sklearn/linear_model/_logistic.py:940: ConvergenceWarning: lbfgs failed to converge (status=1):\n",
            "STOP: TOTAL NO. of ITERATIONS REACHED LIMIT.\n",
            "\n",
            "Increase the number of iterations (max_iter) or scale the data as shown in:\n",
            "    https://scikit-learn.org/stable/modules/preprocessing.html\n",
            "Please also refer to the documentation for alternative solver options:\n",
            "    https://scikit-learn.org/stable/modules/linear_model.html#logistic-regression\n",
            "  extra_warning_msg=_LOGISTIC_SOLVER_CONVERGENCE_MSG)\n",
            "/usr/local/lib/python3.6/dist-packages/sklearn/linear_model/_logistic.py:940: ConvergenceWarning: lbfgs failed to converge (status=1):\n",
            "STOP: TOTAL NO. of ITERATIONS REACHED LIMIT.\n",
            "\n",
            "Increase the number of iterations (max_iter) or scale the data as shown in:\n",
            "    https://scikit-learn.org/stable/modules/preprocessing.html\n",
            "Please also refer to the documentation for alternative solver options:\n",
            "    https://scikit-learn.org/stable/modules/linear_model.html#logistic-regression\n",
            "  extra_warning_msg=_LOGISTIC_SOLVER_CONVERGENCE_MSG)\n",
            "/usr/local/lib/python3.6/dist-packages/sklearn/linear_model/_logistic.py:940: ConvergenceWarning: lbfgs failed to converge (status=1):\n",
            "STOP: TOTAL NO. of ITERATIONS REACHED LIMIT.\n",
            "\n",
            "Increase the number of iterations (max_iter) or scale the data as shown in:\n",
            "    https://scikit-learn.org/stable/modules/preprocessing.html\n",
            "Please also refer to the documentation for alternative solver options:\n",
            "    https://scikit-learn.org/stable/modules/linear_model.html#logistic-regression\n",
            "  extra_warning_msg=_LOGISTIC_SOLVER_CONVERGENCE_MSG)\n"
          ],
          "name": "stderr"
        },
        {
          "output_type": "stream",
          "text": [
            "Pipeline(memory=None,\n",
            "         steps=[('preprocessor',\n",
            "                 ColumnTransformer(n_jobs=None, remainder='drop',\n",
            "                                   sparse_threshold=0.3,\n",
            "                                   transformer_weights=None,\n",
            "                                   transformers=[('num',\n",
            "                                                  Pipeline(memory=None,\n",
            "                                                           steps=[('imputer',\n",
            "                                                                   SimpleImputer(add_indicator=False,\n",
            "                                                                                 copy=True,\n",
            "                                                                                 fill_value=None,\n",
            "                                                                                 missing_values=nan,\n",
            "                                                                                 strategy='mean',\n",
            "                                                                                 verbose=0)),\n",
            "                                                                  ('scaler',\n",
            "                                                                   StandardScaler(copy=True,\n",
            "                                                                                  with_mean=T...\n",
            "                                                                                 verbose=0))],\n",
            "                                                           verbose=False),\n",
            "                                                  ['AIRLINE', 'ORIGIN_AIRPORT',\n",
            "                                                   'DESTINATION_AIRPORT'])],\n",
            "                                   verbose=False)),\n",
            "                ('clf',\n",
            "                 LogisticRegression(C=1.0, class_weight=None, dual=False,\n",
            "                                    fit_intercept=True, intercept_scaling=1,\n",
            "                                    l1_ratio=None, max_iter=100,\n",
            "                                    multi_class='auto', n_jobs=None,\n",
            "                                    penalty='l2', random_state=None,\n",
            "                                    solver='lbfgs', tol=0.0001, verbose=0,\n",
            "                                    warm_start=False))],\n",
            "         verbose=False)\n"
          ],
          "name": "stdout"
        },
        {
          "output_type": "stream",
          "text": [
            "/usr/local/lib/python3.6/dist-packages/sklearn/linear_model/_logistic.py:940: ConvergenceWarning: lbfgs failed to converge (status=1):\n",
            "STOP: TOTAL NO. of ITERATIONS REACHED LIMIT.\n",
            "\n",
            "Increase the number of iterations (max_iter) or scale the data as shown in:\n",
            "    https://scikit-learn.org/stable/modules/preprocessing.html\n",
            "Please also refer to the documentation for alternative solver options:\n",
            "    https://scikit-learn.org/stable/modules/linear_model.html#logistic-regression\n",
            "  extra_warning_msg=_LOGISTIC_SOLVER_CONVERGENCE_MSG)\n"
          ],
          "name": "stderr"
        }
      ]
    },
    {
      "cell_type": "code",
      "metadata": {
        "id": "jkWbEMagFCvM"
      },
      "source": [
        "# Preprocessing of test data, fit model\n",
        "preds_test = best_clf.predict(X_test)\n",
        "\n",
        "# Save test predictions to file\n",
        "output = pd.DataFrame({'Id': X_test.index,'CANCELLED': preds_test})\n",
        "output.to_csv('submission_LR.csv', index=False)"
      ],
      "execution_count": 211,
      "outputs": []
    },
    {
      "cell_type": "markdown",
      "metadata": {
        "id": "sufb0JL5sYDe"
      },
      "source": [
        "### Model using Decision Tree Classifier"
      ]
    },
    {
      "cell_type": "code",
      "metadata": {
        "id": "8LLDyhG1Dv8F"
      },
      "source": [
        "# Define Preprocessing Steps and import dependecies\n",
        "from sklearn.compose import ColumnTransformer\n",
        "from sklearn.pipeline import Pipeline\n",
        "from sklearn.impute import SimpleImputer, KNNImputer\n",
        "from sklearn.preprocessing import StandardScaler, OneHotEncoder\n",
        "\n",
        "\n",
        "# Preprocessing for numerical data\n",
        "numerical_transformer = KNNImputer(n_neighbors=3)\n",
        "\n",
        "# Preprocessing for categorical data\n",
        "categorical_transformer = Pipeline(steps=[('imputer', SimpleImputer(strategy='most_frequent'))])\n",
        "\n"
      ],
      "execution_count": 212,
      "outputs": []
    },
    {
      "cell_type": "code",
      "metadata": {
        "id": "38Nl-6S8RlwQ",
        "outputId": "7c216d5d-a5be-4218-bea4-f81b8499e33f",
        "colab": {
          "base_uri": "https://localhost:8080/"
        }
      },
      "source": [
        "# Step 1 : Bundle preprocessing for numerical and categorical data\n",
        "\n",
        "preprocessor = ColumnTransformer(transformers=[ ('num', numerical_transformer, numerical_cols),\n",
        "                ('cat', categorical_transformer, categorical_cols) ])\n",
        "\n",
        "# Step 2: Define the Model\n",
        "from sklearn.tree import DecisionTreeClassifier\n",
        "model_1 = DecisionTreeClassifier(random_state=0)\n",
        "\n",
        "# Step 3: Create and Evaluate the Pipeline\n",
        "from sklearn.metrics import accuracy_score,average_precision_score,f1_score\n",
        "\n",
        "# Bundle preprocessing and modeling code in a pipeline\n",
        "my_pipeline = Pipeline(steps=[('preprocessor', preprocessor), ('model', model_1)])\n",
        "my_pipeline.fit(X_train, y_train)\n",
        "\n",
        "# Preprocessing of validation data, get predictions\n",
        "preds = my_pipeline.predict(X_valid)\n",
        "\n",
        "# Evaluate the model\n",
        "score = accuracy_score(y_valid, preds)\n",
        "avg_precisionScore = average_precision_score(y_valid, preds)\n",
        "\n",
        "print('Accuracy Score:', score)\n",
        "print('Average Precision Score:', avg_precisionScore)\n",
        "print(\"The macro averaged f1_score is :\", f1_score(y_valid, preds, average='macro'))\n",
        "print(\"The mairo averaged f1_score is :\", f1_score(y_valid, preds, average='micro'))\n",
        "print(\"The weighted averaged f1_score is :\", f1_score(y_valid, preds, average='weighted'))\n",
        "print(\"The  f1_score is :\", f1_score(y_valid, preds, average='macro'))"
      ],
      "execution_count": 213,
      "outputs": [
        {
          "output_type": "stream",
          "text": [
            "Accuracy Score: 0.9591111746894595\n",
            "Average Precision Score: 0.19727892054971788\n",
            "The macro averaged f1_score is : 0.7002445217648174\n",
            "The mairo averaged f1_score is : 0.9591111746894594\n",
            "The weighted averaged f1_score is : 0.9597686770597895\n",
            "The  f1_score is : 0.7002445217648174\n"
          ],
          "name": "stdout"
        }
      ]
    },
    {
      "cell_type": "code",
      "metadata": {
        "id": "cCtNiLMskTTz",
        "outputId": "454f8185-9493-4c19-d548-bb538f5f580b",
        "colab": {
          "base_uri": "https://localhost:8080/"
        }
      },
      "source": [
        "# Cross validation Score\n",
        "from sklearn.model_selection import cross_val_score\n",
        "scores = cross_val_score(my_pipeline, X_train, y_train, cv=3)\n",
        "\n",
        "# Print the mean score and 95% confidence interval\n",
        "print(\"Accuracy: %0.2f (+/- %0.5f)\" % (scores.mean(), scores.std() * 2))"
      ],
      "execution_count": 214,
      "outputs": [
        {
          "output_type": "stream",
          "text": [
            "Accuracy: 0.96 (+/- 0.00069)\n"
          ],
          "name": "stdout"
        }
      ]
    },
    {
      "cell_type": "code",
      "metadata": {
        "id": "c1xMwAiOn1sF",
        "outputId": "c476876c-3a25-437e-d7f4-832c82b14e50",
        "colab": {
          "base_uri": "https://localhost:8080/"
        }
      },
      "source": [
        "# print classification report (confusion matrix)\n",
        "from sklearn.metrics import classification_report,confusion_matrix\n",
        "print (classification_report(y_valid, preds))\n",
        "print (confusion_matrix(y_valid, preds))\n"
      ],
      "execution_count": 215,
      "outputs": [
        {
          "output_type": "stream",
          "text": [
            "              precision    recall  f1-score   support\n",
            "\n",
            "           0       0.98      0.98      0.98    162039\n",
            "           1       0.41      0.44      0.42      5733\n",
            "\n",
            "    accuracy                           0.96    167772\n",
            "   macro avg       0.69      0.71      0.70    167772\n",
            "weighted avg       0.96      0.96      0.96    167772\n",
            "\n",
            "[[158411   3628]\n",
            " [  3232   2501]]\n"
          ],
          "name": "stdout"
        }
      ]
    },
    {
      "cell_type": "code",
      "metadata": {
        "id": "rp8X4bygpc-k",
        "outputId": "59095637-f33c-471b-a070-acd0f5682a9c",
        "colab": {
          "base_uri": "https://localhost:8080/"
        }
      },
      "source": [
        "# Use imbalance library to calculate sensitiivty score  of model\n",
        "from imblearn.metrics import sensitivity_score\n",
        "print(sensitivity_score(y_valid, preds, average='macro'))\n",
        "print(sensitivity_score(y_valid, preds, average='micro'))\n",
        "print(sensitivity_score(y_valid, preds, average='weighted'))\n",
        "print(sensitivity_score(y_valid, preds, average=None))\n"
      ],
      "execution_count": 216,
      "outputs": [
        {
          "output_type": "stream",
          "text": [
            "0.7069283108834434\n",
            "0.9591111746894595\n",
            "0.9591111746894595\n",
            "[0.97761033 0.43624629]\n"
          ],
          "name": "stdout"
        }
      ]
    },
    {
      "cell_type": "code",
      "metadata": {
        "id": "nwq3Cw27qiHM",
        "outputId": "08725262-c7ff-4159-db70-df94f151c311",
        "colab": {
          "base_uri": "https://localhost:8080/"
        }
      },
      "source": [
        "# Use imbalance library to calculate specificity score  of model\n",
        "from imblearn.metrics import specificity_score\n",
        "print(specificity_score(y_valid, preds, average='macro'))\n",
        "print(specificity_score(y_valid, preds, average='micro'))\n",
        "print(specificity_score(y_valid, preds, average='weighted'))\n",
        "print(specificity_score(y_valid, preds, average=None))"
      ],
      "execution_count": 217,
      "outputs": [
        {
          "output_type": "stream",
          "text": [
            "0.7069283108834434\n",
            "0.9591111746894595\n",
            "0.45474544707742726\n",
            "[0.43624629 0.97761033]\n"
          ],
          "name": "stdout"
        }
      ]
    },
    {
      "cell_type": "code",
      "metadata": {
        "id": "WupO8eGFUfkd"
      },
      "source": [
        "# Preprocessing of test data, fit model\n",
        "preds_test = my_pipeline.predict(X_test)\n",
        "\n",
        "# Save test predictions to file\n",
        "output = pd.DataFrame({'Id': X_test.index,'CANCELLED': preds_test})\n",
        "output.to_csv('submission_DT.csv', index=False)"
      ],
      "execution_count": 218,
      "outputs": []
    },
    {
      "cell_type": "markdown",
      "metadata": {
        "id": "fOB8JJhXsK5C"
      },
      "source": [
        "### Model using Random Forest Classifier"
      ]
    },
    {
      "cell_type": "code",
      "metadata": {
        "id": "iIVwvzjTDyFp"
      },
      "source": [
        "# Define Preprocessing Steps and import dependecies\n",
        "from sklearn.compose import ColumnTransformer\n",
        "from sklearn.pipeline import Pipeline\n",
        "from sklearn.impute import SimpleImputer, KNNImputer\n",
        "from sklearn.preprocessing import StandardScaler, OneHotEncoder\n",
        "\n",
        "\n",
        "# Preprocessing for numerical data\n",
        "numerical_transformer = SimpleImputer(strategy='mean')\n",
        "\n",
        "# Preprocessing for categorical data\n",
        "categorical_transformer = Pipeline(steps=[('imputer', SimpleImputer(strategy='most_frequent'))])\n"
      ],
      "execution_count": 219,
      "outputs": []
    },
    {
      "cell_type": "code",
      "metadata": {
        "id": "BT3Z3nqtsQAe",
        "outputId": "5f67f159-3cd0-4c4c-cf55-0755d6133831",
        "colab": {
          "base_uri": "https://localhost:8080/"
        }
      },
      "source": [
        "# Step 1 : Bundle preprocessing for numerical and categorical data\n",
        "preprocessor = ColumnTransformer(transformers=[ ('num', numerical_transformer, numerical_cols),\n",
        "                ('cat', categorical_transformer, categorical_cols) ])\n",
        "\n",
        "# Step 2: Define the Model\n",
        "class_weight=dict({0:1,1:40})\n",
        "from sklearn.ensemble import RandomForestClassifier\n",
        "model_2 = RandomForestClassifier(n_estimators=100, random_state=0,class_weight=class_weight )\n",
        "\n",
        "# Step 3: Create and Evaluate the Pipeline\n",
        "from sklearn.metrics import accuracy_score,average_precision_score\n",
        "\n",
        "# Bundle preprocessing and modeling code in a pipeline\n",
        "my_pipeline = Pipeline(steps=[('preprocessor', preprocessor), ('model', model_2)])\n",
        "\n",
        "# Preprocessing of training data, fit model\n",
        "my_pipeline.fit(X_train, y_train)\n",
        "\n",
        "# Preprocessing of validation data, get predictions\n",
        "preds = my_pipeline.predict(X_valid)\n",
        "\n",
        "# Evaluate the model\n",
        "score = accuracy_score(y_valid, preds)\n",
        "avg_precisionScore = average_precision_score(y_valid, preds)\n",
        "\n",
        "print('Accuracy Score:', score)\n",
        "print('Average Precision Score:', avg_precisionScore)\n",
        "print(\"The macro averaged f1_score is :\", f1_score(y_valid, preds, average='macro'))\n",
        "print(\"The mairo averaged f1_score is :\", f1_score(y_valid, preds, average='micro'))\n",
        "print(\"The weighted averaged f1_score is :\", f1_score(y_valid, preds, average='weighted'))\n",
        "print(\"The  f1_score is :\", f1_score(y_valid, preds, average='macro'))"
      ],
      "execution_count": 220,
      "outputs": [
        {
          "output_type": "stream",
          "text": [
            "Accuracy Score: 0.9742507689006509\n",
            "Average Precision Score: 0.2790498754956142\n",
            "The macro averaged f1_score is : 0.7160599627544343\n",
            "The mairo averaged f1_score is : 0.9742507689006509\n",
            "The weighted averaged f1_score is : 0.9683150141688915\n",
            "The  f1_score is : 0.7160599627544343\n"
          ],
          "name": "stdout"
        }
      ]
    },
    {
      "cell_type": "code",
      "metadata": {
        "id": "3V6YHFh7s4zv",
        "outputId": "2d14e46f-5601-457f-c150-e74904cef24d",
        "colab": {
          "base_uri": "https://localhost:8080/"
        }
      },
      "source": [
        "# Cross validation Score\n",
        "scores = cross_val_score(my_pipeline, X_train, y_train, cv=3)\n",
        "\n",
        "# Print the mean score and 95% confidence interval\n",
        "print(\"Accuracy: %0.2f (+/- %0.5f)\" % (scores.mean(), scores.std() * 2))"
      ],
      "execution_count": 221,
      "outputs": [
        {
          "output_type": "stream",
          "text": [
            "Accuracy: 0.97 (+/- 0.00063)\n"
          ],
          "name": "stdout"
        }
      ]
    },
    {
      "cell_type": "code",
      "metadata": {
        "id": "vixznA5ytCDX",
        "outputId": "966603b5-5dcf-4dcf-c578-67f319878364",
        "colab": {
          "base_uri": "https://localhost:8080/"
        }
      },
      "source": [
        "# print classification report (confusion matrix)\n",
        "from sklearn.metrics import classification_report\n",
        "print (classification_report(y_valid, preds))"
      ],
      "execution_count": 222,
      "outputs": [
        {
          "output_type": "stream",
          "text": [
            "              precision    recall  f1-score   support\n",
            "\n",
            "           0       0.98      1.00      0.99    162039\n",
            "           1       0.84      0.30      0.45      5733\n",
            "\n",
            "    accuracy                           0.97    167772\n",
            "   macro avg       0.91      0.65      0.72    167772\n",
            "weighted avg       0.97      0.97      0.97    167772\n",
            "\n"
          ],
          "name": "stdout"
        }
      ]
    },
    {
      "cell_type": "code",
      "metadata": {
        "id": "6r-C931otJ9K",
        "outputId": "12ac7f9f-f27b-4b80-ad2b-172d2e2c3675",
        "colab": {
          "base_uri": "https://localhost:8080/"
        }
      },
      "source": [
        "# Use imbalance library to calculate sensitiivty score  of model\n",
        "from imblearn.metrics import sensitivity_score\n",
        "print(sensitivity_score(y_valid, preds, average='macro'))\n",
        "print(sensitivity_score(y_valid, preds, average='micro'))\n",
        "print(sensitivity_score(y_valid, preds, average='weighted'))\n",
        "print(sensitivity_score(y_valid, preds, average=None))"
      ],
      "execution_count": 223,
      "outputs": [
        {
          "output_type": "stream",
          "text": [
            "0.6502392203718075\n",
            "0.9742507689006509\n",
            "0.9742507689006509\n",
            "[0.998019   0.30245945]\n"
          ],
          "name": "stdout"
        }
      ]
    },
    {
      "cell_type": "code",
      "metadata": {
        "id": "fidLdTeItKxe",
        "outputId": "a6070c60-c9dd-42a7-f620-8cc851091e50",
        "colab": {
          "base_uri": "https://localhost:8080/"
        }
      },
      "source": [
        "# Use imbalance library to calculate specificity score  of model\n",
        "from imblearn.metrics import specificity_score\n",
        "print(specificity_score(y_valid, preds, average='macro'))\n",
        "print(specificity_score(y_valid, preds, average='micro'))\n",
        "print(specificity_score(y_valid, preds, average='weighted'))\n",
        "print(specificity_score(y_valid, preds, average=None))"
      ],
      "execution_count": 224,
      "outputs": [
        {
          "output_type": "stream",
          "text": [
            "0.6502392203718075\n",
            "0.9742507689006509\n",
            "0.32622767184296414\n",
            "[0.30245945 0.998019  ]\n"
          ],
          "name": "stdout"
        }
      ]
    },
    {
      "cell_type": "code",
      "metadata": {
        "id": "lBL5cybwtQ7n"
      },
      "source": [
        "# Preprocessing of test data, fit model\n",
        "preds_test = my_pipeline.predict(X_test)\n",
        "\n",
        "# Save test predictions to file\n",
        "output = pd.DataFrame({'Id': X_test.index,'CANCELLED': preds_test})\n",
        "output.to_csv('submission_RF.csv', index=False)"
      ],
      "execution_count": 225,
      "outputs": []
    },
    {
      "cell_type": "markdown",
      "metadata": {
        "id": "xKslXORZ5ku_"
      },
      "source": [
        "### Model using Naive Bayes Classifier"
      ]
    },
    {
      "cell_type": "code",
      "metadata": {
        "id": "aI1QOZcLD1SH"
      },
      "source": [
        "# Define Preprocessing Steps and import dependecies\n",
        "from sklearn.compose import ColumnTransformer\n",
        "from sklearn.pipeline import Pipeline\n",
        "from sklearn.impute import SimpleImputer, KNNImputer\n",
        "from sklearn.preprocessing import StandardScaler, OneHotEncoder\n",
        "\n",
        "\n",
        "# Preprocessing for numerical data\n",
        "numerical_transformer = Pipeline(steps=[('imputer',SimpleImputer() ),('scaler', StandardScaler())])\n",
        "\n",
        "# Preprocessing for categorical data\n",
        "categorical_transformer = Pipeline(steps=[('imputer', SimpleImputer(strategy='most_frequent'))])\n",
        "\n"
      ],
      "execution_count": 226,
      "outputs": []
    },
    {
      "cell_type": "code",
      "metadata": {
        "id": "3FmkhQXN5rYW",
        "outputId": "cb0edff5-247a-4036-f6b9-81d8e54b218d",
        "colab": {
          "base_uri": "https://localhost:8080/"
        }
      },
      "source": [
        "# Step 1 : Bundle preprocessing for numerical and categorical data\n",
        "numerical_transformer = Pipeline(steps=[('imputer',SimpleImputer() ),('scaler', StandardScaler())])\n",
        "preprocessor = ColumnTransformer(transformers=[ ('num', numerical_transformer, numerical_cols),\n",
        "                ('cat', categorical_transformer, categorical_cols) ])\n",
        "\n",
        "# Step 2: Define the Model\n",
        "from sklearn.naive_bayes import GaussianNB\n",
        "model_3 = GaussianNB()\n",
        "\n",
        "\n",
        "# Step 3: Create and Evaluate the Pipeline\n",
        "from sklearn.metrics import accuracy_score,average_precision_score\n",
        "\n",
        "# Bundle preprocessing and modeling code in a pipeline\n",
        "my_pipeline = Pipeline(steps=[('preprocessor', preprocessor), ('model', model_3)])\n",
        "\n",
        "# Preprocessing of training data, fit model\n",
        "my_pipeline.fit(X_train, y_train)\n",
        "\n",
        "# Preprocessing of validation data, get predictions\n",
        "preds = my_pipeline.predict(X_valid)\n",
        "\n",
        "# Evaluate the model\n",
        "score = accuracy_score(y_valid, preds)\n",
        "avg_precisionScore = average_precision_score(y_valid, preds)\n",
        "\n",
        "print('Accuracy Score:', score)\n",
        "print('Average Precision Score:', avg_precisionScore)\n",
        "print(\"The macro averaged f1_score is :\", f1_score(y_valid, preds, average='macro'))\n",
        "print(\"The mairo averaged f1_score is :\", f1_score(y_valid, preds, average='micro'))\n",
        "print(\"The weighted averaged f1_score is :\", f1_score(y_valid, preds, average='weighted'))\n",
        "print(\"The  f1_score is :\", f1_score(y_valid, preds, average='macro'))"
      ],
      "execution_count": 227,
      "outputs": [
        {
          "output_type": "stream",
          "text": [
            "Accuracy Score: 0.9658286245619054\n",
            "Average Precision Score: 0.03417137543809456\n",
            "The macro averaged f1_score is : 0.49130865859537737\n",
            "The mairo averaged f1_score is : 0.9658286245619054\n",
            "The weighted averaged f1_score is : 0.9490399319330562\n",
            "The  f1_score is : 0.49130865859537737\n"
          ],
          "name": "stdout"
        }
      ]
    },
    {
      "cell_type": "code",
      "metadata": {
        "id": "wIe8kVwG6D3F",
        "outputId": "77a60d67-1167-4f38-ac4f-dda267f5a2a0",
        "colab": {
          "base_uri": "https://localhost:8080/"
        }
      },
      "source": [
        "# Cross validation Score\n",
        "scores = cross_val_score(my_pipeline, X_train, y_train, cv=5)\n",
        "# Print the mean score and 95% confidence interval\n",
        "print(\"Accuracy: %0.2f (+/- %0.5f)\" % (scores.mean(), scores.std() * 2))"
      ],
      "execution_count": 228,
      "outputs": [
        {
          "output_type": "stream",
          "text": [
            "Accuracy: 0.97 (+/- 0.00001)\n"
          ],
          "name": "stdout"
        }
      ]
    },
    {
      "cell_type": "code",
      "metadata": {
        "id": "p4-gUA8W6ES9",
        "outputId": "7e1b64ba-1cc8-4a61-dda7-99e14e46a7be",
        "colab": {
          "base_uri": "https://localhost:8080/"
        }
      },
      "source": [
        "# print classification report (confusion matrix)\n",
        "from sklearn.metrics import classification_report, confusion_matrix\n",
        "print (classification_report(y_valid, preds))\n",
        "print (confusion_matrix(y_valid, preds))"
      ],
      "execution_count": 229,
      "outputs": [
        {
          "output_type": "stream",
          "text": [
            "/usr/local/lib/python3.6/dist-packages/sklearn/metrics/_classification.py:1272: UndefinedMetricWarning: Precision and F-score are ill-defined and being set to 0.0 in labels with no predicted samples. Use `zero_division` parameter to control this behavior.\n",
            "  _warn_prf(average, modifier, msg_start, len(result))\n"
          ],
          "name": "stderr"
        },
        {
          "output_type": "stream",
          "text": [
            "              precision    recall  f1-score   support\n",
            "\n",
            "           0       0.97      1.00      0.98    162039\n",
            "           1       0.00      0.00      0.00      5733\n",
            "\n",
            "    accuracy                           0.97    167772\n",
            "   macro avg       0.48      0.50      0.49    167772\n",
            "weighted avg       0.93      0.97      0.95    167772\n",
            "\n",
            "[[162039      0]\n",
            " [  5733      0]]\n"
          ],
          "name": "stdout"
        }
      ]
    },
    {
      "cell_type": "code",
      "metadata": {
        "id": "drr6ryo46EgT",
        "outputId": "915df675-353a-4cf1-8017-94094f8dbce0",
        "colab": {
          "base_uri": "https://localhost:8080/"
        }
      },
      "source": [
        "# Use imbalance library to calculate sensitiivty score  of model\n",
        "from imblearn.metrics import sensitivity_score\n",
        "print(sensitivity_score(y_valid, preds, average='macro'))\n",
        "print(sensitivity_score(y_valid, preds, average='micro'))\n",
        "print(sensitivity_score(y_valid, preds, average='weighted'))\n",
        "print(sensitivity_score(y_valid, preds, average=None))"
      ],
      "execution_count": 230,
      "outputs": [
        {
          "output_type": "stream",
          "text": [
            "0.5\n",
            "0.9658286245619054\n",
            "0.9658286245619054\n",
            "[1. 0.]\n"
          ],
          "name": "stdout"
        }
      ]
    },
    {
      "cell_type": "code",
      "metadata": {
        "id": "xDypGbzx6RDT",
        "outputId": "0b5ea52c-2946-4062-d600-2eb240f7b705",
        "colab": {
          "base_uri": "https://localhost:8080/"
        }
      },
      "source": [
        "# Use imbalance library to calculate specificity score  of model\n",
        "from imblearn.metrics import specificity_score\n",
        "print(specificity_score(y_valid, preds, average='macro'))\n",
        "print(specificity_score(y_valid, preds, average='micro'))\n",
        "print(specificity_score(y_valid, preds, average='weighted'))\n",
        "print(specificity_score(y_valid, preds, average=None))"
      ],
      "execution_count": 231,
      "outputs": [
        {
          "output_type": "stream",
          "text": [
            "0.5\n",
            "0.9658286245619054\n",
            "0.03417137543809456\n",
            "[0. 1.]\n"
          ],
          "name": "stdout"
        }
      ]
    },
    {
      "cell_type": "code",
      "metadata": {
        "id": "alQ3OUBV6VC0"
      },
      "source": [
        "# Preprocessing of test data, fit model\n",
        "preds_test = my_pipeline.predict(X_test)\n",
        "\n",
        "# Save test predictions to file\n",
        "output = pd.DataFrame({'Id': X_test.index,'CANCELLED': preds_test})\n",
        "output.to_csv('submission_NB.csv', index=False)"
      ],
      "execution_count": 232,
      "outputs": []
    },
    {
      "cell_type": "markdown",
      "metadata": {
        "id": "dChkfH6X3esy"
      },
      "source": [
        "## Approach 2 : Under Sampling with RandomForest"
      ]
    },
    {
      "cell_type": "code",
      "metadata": {
        "id": "wNjyaZgiD3LM"
      },
      "source": [
        "# Define Preprocessing Steps and import dependecies\n",
        "from sklearn.compose import ColumnTransformer\n",
        "from imblearn.pipeline import Pipeline\n",
        "from sklearn.impute import SimpleImputer, KNNImputer\n",
        "from sklearn.preprocessing import StandardScaler, OneHotEncoder\n",
        "\n",
        "\n",
        "# Preprocessing for numerical data\n",
        "numerical_transformer = SimpleImputer(strategy='mean')\n",
        "\n",
        "# Preprocessing for categorical data\n",
        "categorical_transformer = Pipeline(steps=[('imputer', SimpleImputer(strategy='most_frequent'))])\n",
        "\n"
      ],
      "execution_count": 237,
      "outputs": []
    },
    {
      "cell_type": "code",
      "metadata": {
        "id": "OR5ikSRO8ATn",
        "outputId": "f3f99aee-bed5-4ca1-fa09-6ad5fb8fe834",
        "colab": {
          "base_uri": "https://localhost:8080/"
        }
      },
      "source": [
        "# import required libraries\n",
        "from sklearn.metrics import accuracy_score, average_precision_score, f1_score\n",
        "\n",
        "# Step 1 : Bundle preprocessing for numerical and categorical data\n",
        "preprocessor = ColumnTransformer(transformers=[ ('num', numerical_transformer, numerical_cols),\n",
        "                ('cat', categorical_transformer, categorical_cols) ])\n",
        "\n",
        "# Step 2: Perform Undersampling\n",
        "ns_model = NearMiss()\n",
        "\n",
        "# Step 2: Define the Model\n",
        "from sklearn.ensemble import RandomForestClassifier\n",
        "model_4 = RandomForestClassifier(random_state = 2)\n",
        "\n",
        "\n",
        "# Bundle preprocessing and modeling code in a pipeline\n",
        "my_pipeline2 = Pipeline(steps=[('preprocessor', preprocessor), ('ns_model', ns_model), ('model_4',model_4)])\n",
        "my_pipeline2.fit(X_train,y_train)\n",
        "\n",
        "\n",
        "# Preprocessing of validation data, get predictions\n",
        "preds = my_pipeline2.predict(X_valid)\n",
        "\n",
        "# Evaluate the model\n",
        "score = accuracy_score(y_valid, preds)\n",
        "avg_precisionScore = average_precision_score(y_valid, preds)\n",
        "\n",
        "print(\"Pipeline score is\", my_pipeline2.score)\n",
        "print('Accuracy Score:', score)\n",
        "print('Average Precision Score:', avg_precisionScore)\n",
        "print(\"The macro averaged f1_score is :\", f1_score(y_valid, preds, average='macro'))\n",
        "print(\"The mairo averaged f1_score is :\", f1_score(y_valid, preds, average='micro'))\n",
        "print(\"The weighted averaged f1_score is :\", f1_score(y_valid, preds, average='weighted'))\n",
        "print(\"The  f1_score is :\", f1_score(y_valid, preds, average='macro'))"
      ],
      "execution_count": 238,
      "outputs": [
        {
          "output_type": "stream",
          "text": [
            "/usr/local/lib/python3.6/dist-packages/sklearn/utils/deprecation.py:87: FutureWarning: Function safe_indexing is deprecated; safe_indexing is deprecated in version 0.22 and will be removed in version 0.24.\n",
            "  warnings.warn(msg, category=FutureWarning)\n",
            "/usr/local/lib/python3.6/dist-packages/sklearn/utils/deprecation.py:87: FutureWarning: Function safe_indexing is deprecated; safe_indexing is deprecated in version 0.22 and will be removed in version 0.24.\n",
            "  warnings.warn(msg, category=FutureWarning)\n",
            "/usr/local/lib/python3.6/dist-packages/sklearn/utils/deprecation.py:87: FutureWarning: Function safe_indexing is deprecated; safe_indexing is deprecated in version 0.22 and will be removed in version 0.24.\n",
            "  warnings.warn(msg, category=FutureWarning)\n"
          ],
          "name": "stderr"
        },
        {
          "output_type": "stream",
          "text": [
            "Pipeline score is <function Pipeline.score at 0x7f2c10033268>\n",
            "Accuracy Score: 0.3310206709105214\n",
            "Average Precision Score: 0.041375559918451245\n",
            "The macro averaged f1_score is : 0.27756244278033115\n",
            "The mairo averaged f1_score is : 0.3310206709105214\n",
            "The weighted averaged f1_score is : 0.4606520130094718\n",
            "The  f1_score is : 0.27756244278033115\n"
          ],
          "name": "stdout"
        }
      ]
    },
    {
      "cell_type": "code",
      "metadata": {
        "id": "EHMoldVZ8Nbz",
        "outputId": "9b71b0d5-bd8e-4488-b766-7c8841d66353",
        "colab": {
          "base_uri": "https://localhost:8080/"
        }
      },
      "source": [
        "# print classification report (confusion matrix)\n",
        "from sklearn.metrics import classification_report\n",
        "print (classification_report(y_valid, preds))"
      ],
      "execution_count": 239,
      "outputs": [
        {
          "output_type": "stream",
          "text": [
            "              precision    recall  f1-score   support\n",
            "\n",
            "           0       0.98      0.31      0.47    162039\n",
            "           1       0.04      0.86      0.08      5733\n",
            "\n",
            "    accuracy                           0.33    167772\n",
            "   macro avg       0.51      0.59      0.28    167772\n",
            "weighted avg       0.95      0.33      0.46    167772\n",
            "\n"
          ],
          "name": "stdout"
        }
      ]
    },
    {
      "cell_type": "markdown",
      "metadata": {
        "id": "8qOaznNkTQ_y"
      },
      "source": [
        "## Approach 3 : Over Sampling with RandomForest"
      ]
    },
    {
      "cell_type": "code",
      "metadata": {
        "id": "G1bAyky6TUL4"
      },
      "source": [
        "# Define Preprocessing Steps and import dependecies\n",
        "from sklearn.compose import ColumnTransformer\n",
        "from imblearn.pipeline import Pipeline\n",
        "from sklearn.impute import SimpleImputer\n",
        "\n",
        "# Preprocessing for numerical data\n",
        "numerical_transformer = SimpleImputer(strategy='mean')\n",
        "\n",
        "# Preprocessing for categorical data\n",
        "categorical_transformer = Pipeline(steps=[('imputer', SimpleImputer(strategy='most_frequent'))])\n"
      ],
      "execution_count": 240,
      "outputs": []
    },
    {
      "cell_type": "code",
      "metadata": {
        "id": "ZU4S6-2qTeIt",
        "outputId": "c7ef5f14-94d2-42b3-8be2-6ad1dd8932d1",
        "colab": {
          "base_uri": "https://localhost:8080/"
        }
      },
      "source": [
        "# import useful libraries\n",
        "from collections import Counter\n",
        "from imblearn.over_sampling import RandomOverSampler\n",
        "from imblearn.pipeline import Pipeline\n",
        "\n",
        "# print the classes in target variable\n",
        "print(Counter(y_train))\n",
        "\n",
        "# Perform under sampling\n",
        "os = RandomOverSampler(0.5)\n",
        "#X_train_ns,y_train_ns= os.fit_sample(X_train,y_train)\n",
        "print(\"The number of classes before fit {}\".format(Counter(y_train)))\n",
        "print(\"The number of classes after fit {}\".format(Counter(y_train_ns)))"
      ],
      "execution_count": 241,
      "outputs": [
        {
          "output_type": "stream",
          "text": [
            "Counter({0: 648137, 1: 22949})\n",
            "The number of classes before fit Counter({0: 648137, 1: 22949})\n",
            "The number of classes after fit Counter({0.0: 448423, 1.0: 334855})\n"
          ],
          "name": "stdout"
        }
      ]
    },
    {
      "cell_type": "code",
      "metadata": {
        "id": "URrDI7W3T7Ll",
        "outputId": "34544c37-07a9-4036-8d01-f50ee8ff8cff",
        "colab": {
          "base_uri": "https://localhost:8080/"
        }
      },
      "source": [
        "# import required libraries\n",
        "from sklearn.metrics import accuracy_score, average_precision_score, f1_score\n",
        "\n",
        "# Step 1 : Bundle preprocessing for numerical and categorical data\n",
        "preprocessor = ColumnTransformer(transformers=[ ('num', numerical_transformer, numerical_cols),\n",
        "                ('cat', categorical_transformer, categorical_cols) ])\n",
        "\n",
        "# Step 2: Perform Undersampling\n",
        "os_model = RandomOverSampler(0.6)\n",
        "\n",
        "# Step 2: Define the Model\n",
        "from sklearn.ensemble import RandomForestClassifier\n",
        "model_5 = RandomForestClassifier(random_state = 2)\n",
        "\n",
        "\n",
        "# Bundle preprocessing and modeling code in a pipeline\n",
        "my_pipeline3 = Pipeline(steps=[('preprocessor', preprocessor), ('os_model', os_model), ('model_1',model_5)])\n",
        "my_pipeline3.fit(X_train,y_train)\n",
        "\n",
        "\n",
        "# Preprocessing of validation data, get predictions\n",
        "preds = my_pipeline3.predict(X_valid)\n",
        "\n",
        "# Evaluate the model\n",
        "score = accuracy_score(y_valid, preds)\n",
        "avg_precisionScore = average_precision_score(y_valid, preds)\n",
        "\n",
        "print(\"Pipeline score is\", my_pipeline3.score)\n",
        "print('Accuracy Score:', score)\n",
        "print('Average Precision Score:', avg_precisionScore)\n",
        "print(\"The macro averaged f1_score is :\", f1_score(y_valid, preds, average='macro'))\n",
        "print(\"The mairo averaged f1_score is :\", f1_score(y_valid, preds, average='micro'))\n",
        "print(\"The weighted averaged f1_score is :\", f1_score(y_valid, preds, average='weighted'))\n",
        "print(\"The  f1_score is :\", f1_score(y_valid, preds, average='macro'))"
      ],
      "execution_count": 242,
      "outputs": [
        {
          "output_type": "stream",
          "text": [
            "/usr/local/lib/python3.6/dist-packages/sklearn/utils/deprecation.py:87: FutureWarning: Function safe_indexing is deprecated; safe_indexing is deprecated in version 0.22 and will be removed in version 0.24.\n",
            "  warnings.warn(msg, category=FutureWarning)\n"
          ],
          "name": "stderr"
        },
        {
          "output_type": "stream",
          "text": [
            "Pipeline score is <function Pipeline.score at 0x7f2c106381e0>\n",
            "Accuracy Score: 0.97314212145054\n",
            "Average Precision Score: 0.2968245242069568\n",
            "The macro averaged f1_score is : 0.7478320051725064\n",
            "The mairo averaged f1_score is : 0.97314212145054\n",
            "The weighted averaged f1_score is : 0.9699028250112963\n",
            "The  f1_score is : 0.7478320051725064\n"
          ],
          "name": "stdout"
        }
      ]
    },
    {
      "cell_type": "code",
      "metadata": {
        "id": "mAS_lFIEUIxR"
      },
      "source": [
        "# print classification report (confusion matrix)\n",
        "from sklearn.metrics import classification_report, confusion_matrix\n",
        "print (classification_report(y_valid, preds))\n",
        "print (confusion_matrix(y_valid, preds))"
      ],
      "execution_count": null,
      "outputs": []
    },
    {
      "cell_type": "markdown",
      "metadata": {
        "id": "M0XPxaGHWulm"
      },
      "source": [
        "## Approach 4 : SMOTETomek with RandomForest"
      ]
    },
    {
      "cell_type": "code",
      "metadata": {
        "id": "teXEjxcUWyrQ"
      },
      "source": [
        "from imblearn.combine import SMOTETomek\n",
        "\n",
        "sm=SMOTETomek(0.75)\n",
        "X_train_ns,y_train_ns=sm.fit_sample(X_train,y_train)\n",
        "print(\"The number of classes before fit {}\".format(Counter(y_train)))\n",
        "print(\"The number of classes after fit {}\".format(Counter(y_train_ns)))"
      ],
      "execution_count": null,
      "outputs": []
    },
    {
      "cell_type": "code",
      "metadata": {
        "id": "zrLlGVHGZ3KN"
      },
      "source": [
        "# Define Preprocessing Steps and import dependecies\n",
        "from sklearn.compose import ColumnTransformer\n",
        "from imblearn.pipeline import Pipeline\n",
        "from sklearn.impute import SimpleImputer\n",
        "\n",
        "# Preprocessing for numerical data\n",
        "numerical_transformer = SimpleImputer(strategy='mean')\n",
        "\n",
        "# Preprocessing for categorical data\n",
        "categorical_transformer = Pipeline(steps=[('imputer', SimpleImputer(strategy='most_frequent'))])"
      ],
      "execution_count": null,
      "outputs": []
    },
    {
      "cell_type": "code",
      "metadata": {
        "id": "y87AeKmnXmMw"
      },
      "source": [
        "# import required libraries\n",
        "from sklearn.metrics import accuracy_score, average_precision_score, f1_score\n",
        "\n",
        "# Step 1 : Bundle preprocessing for numerical and categorical data\n",
        "preprocessor = ColumnTransformer(transformers=[ ('num', numerical_transformer, numerical_cols),\n",
        "                ('cat', categorical_transformer, categorical_cols) ])\n",
        "\n",
        "# Step 2: Perform Undersampling\n",
        "sm_model = SMOTETomek(0.5)\n",
        "\n",
        "# Step 2: Define the Model\n",
        "from sklearn.ensemble import RandomForestClassifier\n",
        "model_6 = RandomForestClassifier(random_state = 2)\n",
        "\n",
        "\n",
        "# Bundle preprocessing and modeling code in a pipeline\n",
        "my_pipeline4 = Pipeline(steps=[('preprocessor', preprocessor), ('os_model', os_model), ('model_1',model_6)])\n",
        "my_pipeline4.fit(X_train,y_train)\n",
        "\n",
        "\n",
        "# Preprocessing of validation data, get predictions\n",
        "preds = my_pipeline4.predict(X_valid)\n",
        "\n",
        "# Evaluate the model\n",
        "score = accuracy_score(y_valid, preds)\n",
        "avg_precisionScore = average_precision_score(y_valid, preds)\n",
        "\n",
        "print(\"Pipeline score is\", my_pipeline4.score)\n",
        "print('Accuracy Score:', score)\n",
        "print('Average Precision Score:', avg_precisionScore)\n",
        "print(\"The macro averaged f1_score is :\", f1_score(y_valid, preds, average='macro'))\n",
        "print(\"The mairo averaged f1_score is :\", f1_score(y_valid, preds, average='micro'))\n",
        "print(\"The weighted averaged f1_score is :\", f1_score(y_valid, preds, average='weighted'))\n",
        "print(\"The  f1_score is :\", f1_score(y_valid, preds, average='macro'))"
      ],
      "execution_count": null,
      "outputs": []
    },
    {
      "cell_type": "code",
      "metadata": {
        "id": "wxYTAsY2YnSY"
      },
      "source": [
        "# print classification report (confusion matrix)\n",
        "from sklearn.metrics import classification_report, confusion_matrix\n",
        "print (classification_report(y_valid, preds))\n",
        "print(confusion_matrix(y_valid, preds))"
      ],
      "execution_count": null,
      "outputs": []
    },
    {
      "cell_type": "markdown",
      "metadata": {
        "id": "M0q_7jM-ZegO"
      },
      "source": [
        "## Approach 5 : Ensemble Techniques"
      ]
    },
    {
      "cell_type": "code",
      "metadata": {
        "id": "3AUw8el8ZoJh"
      },
      "source": [
        "# Define Preprocessing Steps and import dependecies\n",
        "from sklearn.compose import ColumnTransformer\n",
        "from imblearn.pipeline import Pipeline\n",
        "from sklearn.impute import SimpleImputer\n",
        "from imblearn.ensemble import EasyEnsembleClassifier\n",
        "\n",
        "# Preprocessing for numerical data\n",
        "#numerical_transformer = SimpleImputer(strategy='mean')\n",
        "numerical_transformer = Pipeline(steps=[('imputer',SimpleImputer() ),('scaler', StandardScaler())])\n",
        "\n",
        "# Preprocessing for categorical data\n",
        "categorical_transformer = Pipeline(steps=[('imputer', SimpleImputer(strategy='most_frequent'))])"
      ],
      "execution_count": null,
      "outputs": []
    },
    {
      "cell_type": "code",
      "metadata": {
        "id": "LVbiegk7Z6oE"
      },
      "source": [
        "# import required libraries\n",
        "from sklearn.metrics import accuracy_score, average_precision_score, f1_score\n",
        "\n",
        "# Step 1 : Bundle preprocessing for numerical and categorical data\n",
        "preprocessor = ColumnTransformer(transformers=[ ('num', numerical_transformer, numerical_cols),\n",
        "                ('cat', categorical_transformer, categorical_cols) ])\n",
        "\n",
        "\n",
        "# Step 2: Define the Model\n",
        "from imblearn.ensemble import EasyEnsembleClassifier\n",
        "model_7 = EasyEnsembleClassifier(n_estimators=100 )\n",
        "\n",
        "\n",
        "# Bundle preprocessing and modeling code in a pipeline\n",
        "my_pipeline5 = Pipeline(steps=[('preprocessor', preprocessor), ('model_7',model_7)])\n",
        "my_pipeline5.fit(X_train,y_train)\n",
        "\n",
        "\n",
        "# Preprocessing of validation data, get predictions\n",
        "preds = my_pipeline5.predict(X_valid)\n",
        "\n",
        "# Evaluate the model\n",
        "score = accuracy_score(y_valid, preds)\n",
        "avg_precisionScore = average_precision_score(y_valid, preds)\n",
        "\n",
        "print(\"Pipeline score is\", my_pipeline5.score)\n",
        "print('Accuracy Score:', score)\n",
        "print('Average Precision Score:', avg_precisionScore)\n",
        "print(\"The macro averaged f1_score is :\", f1_score(y_valid, preds, average='macro'))\n",
        "print(\"The mairo averaged f1_score is :\", f1_score(y_valid, preds, average='micro'))\n",
        "print(\"The weighted averaged f1_score is :\", f1_score(y_valid, preds, average='weighted'))\n",
        "print(\"The  f1_score is :\", f1_score(y_valid, preds, average='macro'))"
      ],
      "execution_count": null,
      "outputs": []
    },
    {
      "cell_type": "code",
      "metadata": {
        "id": "wtOr9w8WbBsV"
      },
      "source": [
        "# print classification report (confusion matrix)\n",
        "from sklearn.metrics import classification_report, confusion_matrix\n",
        "print (classification_report(y_valid, preds))\n",
        "print(confusion_matrix(y_valid, preds))"
      ],
      "execution_count": null,
      "outputs": []
    }
  ]
}
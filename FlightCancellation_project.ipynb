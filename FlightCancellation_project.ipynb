{
  "nbformat": 4,
  "nbformat_minor": 0,
  "metadata": {
    "colab": {
      "name": "FlightCancellation_project.ipynb",
      "provenance": [],
      "collapsed_sections": [
        "_XiUtgWGIOL4"
      ],
      "include_colab_link": true
    },
    "kernelspec": {
      "name": "python3",
      "display_name": "Python 3"
    }
  },
  "cells": [
    {
      "cell_type": "markdown",
      "metadata": {
        "id": "view-in-github",
        "colab_type": "text"
      },
      "source": [
        "<a href=\"https://colab.research.google.com/github/obeabi/ProjectPortfolio/blob/master/FlightCancellation_project.ipynb\" target=\"_parent\"><img src=\"https://colab.research.google.com/assets/colab-badge.svg\" alt=\"Open In Colab\"/></a>"
      ]
    },
    {
      "cell_type": "markdown",
      "metadata": {
        "id": "gW-CD9qPUXiR"
      },
      "source": [
        "# Written by Abiola Obembe\n",
        "# SDS Challenge #1 - Flight Cancellations\n",
        "## 2020-10-30\n",
        "\n"
      ]
    },
    {
      "cell_type": "markdown",
      "metadata": {
        "id": "BaT4o-v0Up4V"
      },
      "source": [
        "## Problem Statement\n",
        "I have been hired by the US Department of Transportation (DOT) to analyze data from multiple airline carriers in the United States. The DOT wants to help airline carriers reduce the number of flight cancellations and improve travelers' experiences. My job is to help the DOT predict whether or not a flight will be canceled based on the data provided."
      ]
    },
    {
      "cell_type": "markdown",
      "metadata": {
        "id": "Nvyy8tV7VEZ5"
      },
      "source": [
        "### Data Preprocessing Tools"
      ]
    },
    {
      "cell_type": "code",
      "metadata": {
        "id": "UsUbaYb6VCZ_",
        "outputId": "13f25a80-68d9-4ea1-e0a0-613a349d6bb7",
        "colab": {
          "base_uri": "https://localhost:8080/"
        }
      },
      "source": [
        "\n",
        "# Importing the libraries\n",
        "import numpy as np\n",
        "import matplotlib.pyplot as plt\n",
        "import pandas as pd\n",
        "import seaborn as sns\n",
        "!pip install category_encoders\n",
        "import category_encoders as ce\n",
        "\n",
        "%matplotlib inline\n",
        "plt.rcParams['figure.figsize'] = (5.0, 4.0) # set default size of plots\n",
        "plt.rcParams['image.interpolation'] = 'nearest'\n",
        "plt.rcParams['image.cmap'] = 'gray'\n",
        "\n",
        "print('Libraries installed successfully!')"
      ],
      "execution_count": 41,
      "outputs": [
        {
          "output_type": "stream",
          "text": [
            "Requirement already satisfied: category_encoders in /usr/local/lib/python3.6/dist-packages (2.2.2)\n",
            "Requirement already satisfied: numpy>=1.14.0 in /usr/local/lib/python3.6/dist-packages (from category_encoders) (1.18.5)\n",
            "Requirement already satisfied: scikit-learn>=0.20.0 in /usr/local/lib/python3.6/dist-packages (from category_encoders) (0.22.2.post1)\n",
            "Requirement already satisfied: patsy>=0.5.1 in /usr/local/lib/python3.6/dist-packages (from category_encoders) (0.5.1)\n",
            "Requirement already satisfied: scipy>=1.0.0 in /usr/local/lib/python3.6/dist-packages (from category_encoders) (1.4.1)\n",
            "Requirement already satisfied: pandas>=0.21.1 in /usr/local/lib/python3.6/dist-packages (from category_encoders) (1.1.4)\n",
            "Requirement already satisfied: statsmodels>=0.9.0 in /usr/local/lib/python3.6/dist-packages (from category_encoders) (0.10.2)\n",
            "Requirement already satisfied: joblib>=0.11 in /usr/local/lib/python3.6/dist-packages (from scikit-learn>=0.20.0->category_encoders) (0.17.0)\n",
            "Requirement already satisfied: six in /usr/local/lib/python3.6/dist-packages (from patsy>=0.5.1->category_encoders) (1.15.0)\n",
            "Requirement already satisfied: pytz>=2017.2 in /usr/local/lib/python3.6/dist-packages (from pandas>=0.21.1->category_encoders) (2018.9)\n",
            "Requirement already satisfied: python-dateutil>=2.7.3 in /usr/local/lib/python3.6/dist-packages (from pandas>=0.21.1->category_encoders) (2.8.1)\n",
            "Libraries installed successfully!\n"
          ],
          "name": "stdout"
        }
      ]
    },
    {
      "cell_type": "code",
      "metadata": {
        "id": "IAN_VFooV8lb",
        "outputId": "97f16a3a-d6c6-454d-ebb6-17d380d40f6f",
        "colab": {
          "base_uri": "https://localhost:8080/",
          "height": 215
        }
      },
      "source": [
        "# Importing the dataset and check the shape and total number of missing values\n",
        "\n",
        "df_train = pd.read_csv('public_flights.csv')\n",
        "\n",
        "df_train.head()\n",
        "\n"
      ],
      "execution_count": 42,
      "outputs": [
        {
          "output_type": "execute_result",
          "data": {
            "text/html": [
              "<div>\n",
              "<style scoped>\n",
              "    .dataframe tbody tr th:only-of-type {\n",
              "        vertical-align: middle;\n",
              "    }\n",
              "\n",
              "    .dataframe tbody tr th {\n",
              "        vertical-align: top;\n",
              "    }\n",
              "\n",
              "    .dataframe thead th {\n",
              "        text-align: right;\n",
              "    }\n",
              "</style>\n",
              "<table border=\"1\" class=\"dataframe\">\n",
              "  <thead>\n",
              "    <tr style=\"text-align: right;\">\n",
              "      <th></th>\n",
              "      <th>YEAR</th>\n",
              "      <th>MONTH</th>\n",
              "      <th>DAY</th>\n",
              "      <th>DAY_OF_WEEK</th>\n",
              "      <th>AIRLINE</th>\n",
              "      <th>FLIGHT_NUMBER</th>\n",
              "      <th>TAIL_NUMBER</th>\n",
              "      <th>ORIGIN_AIRPORT</th>\n",
              "      <th>DESTINATION_AIRPORT</th>\n",
              "      <th>SCHEDULED_DEPARTURE</th>\n",
              "      <th>SCHEDULED_TIME</th>\n",
              "      <th>DISTANCE</th>\n",
              "      <th>SCHEDULED_ARRIVAL</th>\n",
              "      <th>CANCELLED</th>\n",
              "    </tr>\n",
              "  </thead>\n",
              "  <tbody>\n",
              "    <tr>\n",
              "      <th>0</th>\n",
              "      <td>2015</td>\n",
              "      <td>1</td>\n",
              "      <td>1</td>\n",
              "      <td>4</td>\n",
              "      <td>AS</td>\n",
              "      <td>98</td>\n",
              "      <td>N407AS</td>\n",
              "      <td>ANC</td>\n",
              "      <td>SEA</td>\n",
              "      <td>5</td>\n",
              "      <td>205.0</td>\n",
              "      <td>1448</td>\n",
              "      <td>430</td>\n",
              "      <td>0</td>\n",
              "    </tr>\n",
              "    <tr>\n",
              "      <th>1</th>\n",
              "      <td>2015</td>\n",
              "      <td>1</td>\n",
              "      <td>1</td>\n",
              "      <td>4</td>\n",
              "      <td>AA</td>\n",
              "      <td>2336</td>\n",
              "      <td>N3KUAA</td>\n",
              "      <td>LAX</td>\n",
              "      <td>PBI</td>\n",
              "      <td>10</td>\n",
              "      <td>280.0</td>\n",
              "      <td>2330</td>\n",
              "      <td>750</td>\n",
              "      <td>0</td>\n",
              "    </tr>\n",
              "    <tr>\n",
              "      <th>2</th>\n",
              "      <td>2015</td>\n",
              "      <td>1</td>\n",
              "      <td>1</td>\n",
              "      <td>4</td>\n",
              "      <td>US</td>\n",
              "      <td>840</td>\n",
              "      <td>N171US</td>\n",
              "      <td>SFO</td>\n",
              "      <td>CLT</td>\n",
              "      <td>20</td>\n",
              "      <td>286.0</td>\n",
              "      <td>2296</td>\n",
              "      <td>806</td>\n",
              "      <td>0</td>\n",
              "    </tr>\n",
              "    <tr>\n",
              "      <th>3</th>\n",
              "      <td>2015</td>\n",
              "      <td>1</td>\n",
              "      <td>1</td>\n",
              "      <td>4</td>\n",
              "      <td>AA</td>\n",
              "      <td>258</td>\n",
              "      <td>N3HYAA</td>\n",
              "      <td>LAX</td>\n",
              "      <td>MIA</td>\n",
              "      <td>20</td>\n",
              "      <td>285.0</td>\n",
              "      <td>2342</td>\n",
              "      <td>805</td>\n",
              "      <td>0</td>\n",
              "    </tr>\n",
              "    <tr>\n",
              "      <th>4</th>\n",
              "      <td>2015</td>\n",
              "      <td>1</td>\n",
              "      <td>1</td>\n",
              "      <td>4</td>\n",
              "      <td>AS</td>\n",
              "      <td>135</td>\n",
              "      <td>N527AS</td>\n",
              "      <td>SEA</td>\n",
              "      <td>ANC</td>\n",
              "      <td>25</td>\n",
              "      <td>235.0</td>\n",
              "      <td>1448</td>\n",
              "      <td>320</td>\n",
              "      <td>0</td>\n",
              "    </tr>\n",
              "  </tbody>\n",
              "</table>\n",
              "</div>"
            ],
            "text/plain": [
              "   YEAR  MONTH  DAY  ...  DISTANCE SCHEDULED_ARRIVAL  CANCELLED\n",
              "0  2015      1    1  ...      1448               430          0\n",
              "1  2015      1    1  ...      2330               750          0\n",
              "2  2015      1    1  ...      2296               806          0\n",
              "3  2015      1    1  ...      2342               805          0\n",
              "4  2015      1    1  ...      1448               320          0\n",
              "\n",
              "[5 rows x 14 columns]"
            ]
          },
          "metadata": {
            "tags": []
          },
          "execution_count": 42
        }
      ]
    },
    {
      "cell_type": "code",
      "metadata": {
        "id": "B11R3A23b8os",
        "outputId": "b2582323-441d-49b2-a62d-4727fae26310",
        "colab": {
          "base_uri": "https://localhost:8080/"
        }
      },
      "source": [
        "# print target column name as a list\n",
        "target_column = [df_train.columns[-1]]\n",
        "\n",
        "print(target_column)"
      ],
      "execution_count": 43,
      "outputs": [
        {
          "output_type": "stream",
          "text": [
            "['CANCELLED']\n"
          ],
          "name": "stdout"
        }
      ]
    },
    {
      "cell_type": "code",
      "metadata": {
        "id": "Qy0G7oUKh0wV",
        "outputId": "88ddf464-8d5c-4cc5-b138-30d7f117d362",
        "colab": {
          "base_uri": "https://localhost:8080/"
        }
      },
      "source": [
        "# Importing the train-set nd check the shape and total number of missing values\n",
        "\n",
        "print(\"The shape of the train-set is:\", (df_train.shape))\n",
        "print(\"The number of rows in the train-set is:\", str(df_train.shape[0]))\n",
        "print(\"The number of columns in the train-set is:\", str(df_train.shape[1]))\n",
        "\n",
        "missing_valuestrain = df_train.isnull().sum().sum()\n",
        "\n",
        "print(\"The number of missing values in the train-set is:\", str(missing_valuestrain))"
      ],
      "execution_count": 44,
      "outputs": [
        {
          "output_type": "stream",
          "text": [
            "The shape of the train-set is: (838858, 14)\n",
            "The number of rows in the train-set is: 838858\n",
            "The number of columns in the train-set is: 14\n",
            "The number of missing values in the train-set is: 5983\n"
          ],
          "name": "stdout"
        }
      ]
    },
    {
      "cell_type": "code",
      "metadata": {
        "id": "xCbWRNp_n7RS",
        "outputId": "21a3f647-a858-4a93-eba6-004ea3741573",
        "colab": {
          "base_uri": "https://localhost:8080/",
          "height": 195
        }
      },
      "source": [
        "# create dataframe for test test\n",
        "df_test = pd.read_csv('pred_flights.csv')\n",
        "df_test.head()"
      ],
      "execution_count": 45,
      "outputs": [
        {
          "output_type": "execute_result",
          "data": {
            "text/html": [
              "<div>\n",
              "<style scoped>\n",
              "    .dataframe tbody tr th:only-of-type {\n",
              "        vertical-align: middle;\n",
              "    }\n",
              "\n",
              "    .dataframe tbody tr th {\n",
              "        vertical-align: top;\n",
              "    }\n",
              "\n",
              "    .dataframe thead th {\n",
              "        text-align: right;\n",
              "    }\n",
              "</style>\n",
              "<table border=\"1\" class=\"dataframe\">\n",
              "  <thead>\n",
              "    <tr style=\"text-align: right;\">\n",
              "      <th></th>\n",
              "      <th>2015</th>\n",
              "      <th>2</th>\n",
              "      <th>25</th>\n",
              "      <th>3</th>\n",
              "      <th>WN</th>\n",
              "      <th>1046</th>\n",
              "      <th>N731SA</th>\n",
              "      <th>LAS</th>\n",
              "      <th>PHX</th>\n",
              "      <th>700</th>\n",
              "      <th>65</th>\n",
              "      <th>255</th>\n",
              "      <th>905</th>\n",
              "    </tr>\n",
              "  </thead>\n",
              "  <tbody>\n",
              "    <tr>\n",
              "      <th>0</th>\n",
              "      <td>2015</td>\n",
              "      <td>2</td>\n",
              "      <td>25</td>\n",
              "      <td>3</td>\n",
              "      <td>WN</td>\n",
              "      <td>2251</td>\n",
              "      <td>N279WN</td>\n",
              "      <td>LAS</td>\n",
              "      <td>RNO</td>\n",
              "      <td>700</td>\n",
              "      <td>80</td>\n",
              "      <td>345</td>\n",
              "      <td>820</td>\n",
              "    </tr>\n",
              "    <tr>\n",
              "      <th>1</th>\n",
              "      <td>2015</td>\n",
              "      <td>2</td>\n",
              "      <td>25</td>\n",
              "      <td>3</td>\n",
              "      <td>WN</td>\n",
              "      <td>857</td>\n",
              "      <td>N277WN</td>\n",
              "      <td>LAS</td>\n",
              "      <td>SMF</td>\n",
              "      <td>700</td>\n",
              "      <td>90</td>\n",
              "      <td>397</td>\n",
              "      <td>830</td>\n",
              "    </tr>\n",
              "    <tr>\n",
              "      <th>2</th>\n",
              "      <td>2015</td>\n",
              "      <td>2</td>\n",
              "      <td>25</td>\n",
              "      <td>3</td>\n",
              "      <td>WN</td>\n",
              "      <td>2864</td>\n",
              "      <td>N8632A</td>\n",
              "      <td>LAX</td>\n",
              "      <td>BWI</td>\n",
              "      <td>700</td>\n",
              "      <td>295</td>\n",
              "      <td>2329</td>\n",
              "      <td>1455</td>\n",
              "    </tr>\n",
              "    <tr>\n",
              "      <th>3</th>\n",
              "      <td>2015</td>\n",
              "      <td>2</td>\n",
              "      <td>25</td>\n",
              "      <td>3</td>\n",
              "      <td>WN</td>\n",
              "      <td>3220</td>\n",
              "      <td>N8659D</td>\n",
              "      <td>LAX</td>\n",
              "      <td>PHX</td>\n",
              "      <td>700</td>\n",
              "      <td>80</td>\n",
              "      <td>370</td>\n",
              "      <td>920</td>\n",
              "    </tr>\n",
              "    <tr>\n",
              "      <th>4</th>\n",
              "      <td>2015</td>\n",
              "      <td>2</td>\n",
              "      <td>25</td>\n",
              "      <td>3</td>\n",
              "      <td>WN</td>\n",
              "      <td>2954</td>\n",
              "      <td>N789SW</td>\n",
              "      <td>LGA</td>\n",
              "      <td>HOU</td>\n",
              "      <td>700</td>\n",
              "      <td>265</td>\n",
              "      <td>1428</td>\n",
              "      <td>1025</td>\n",
              "    </tr>\n",
              "  </tbody>\n",
              "</table>\n",
              "</div>"
            ],
            "text/plain": [
              "   2015  2  25  3  WN  1046  N731SA  LAS  PHX  700   65   255   905\n",
              "0  2015  2  25  3  WN  2251  N279WN  LAS  RNO  700   80   345   820\n",
              "1  2015  2  25  3  WN   857  N277WN  LAS  SMF  700   90   397   830\n",
              "2  2015  2  25  3  WN  2864  N8632A  LAX  BWI  700  295  2329  1455\n",
              "3  2015  2  25  3  WN  3220  N8659D  LAX  PHX  700   80   370   920\n",
              "4  2015  2  25  3  WN  2954  N789SW  LGA  HOU  700  265  1428  1025"
            ]
          },
          "metadata": {
            "tags": []
          },
          "execution_count": 45
        }
      ]
    },
    {
      "cell_type": "code",
      "metadata": {
        "id": "IYQNQY7on7s3",
        "outputId": "b460fb46-0ba3-49f6-ede5-7fe345f6433e",
        "colab": {
          "base_uri": "https://localhost:8080/",
          "height": 215
        }
      },
      "source": [
        "# test set dataframe is missing headers information so we will re-initailize it, deleting the target column label\n",
        "labels = df_train.columns\n",
        "new_label= labels[:-1]\n",
        "\n",
        "new_label\n",
        "df_test = pd.read_csv('pred_flights.csv', header =None, names = new_label)\n",
        "\n",
        "df_test.head()"
      ],
      "execution_count": 46,
      "outputs": [
        {
          "output_type": "execute_result",
          "data": {
            "text/html": [
              "<div>\n",
              "<style scoped>\n",
              "    .dataframe tbody tr th:only-of-type {\n",
              "        vertical-align: middle;\n",
              "    }\n",
              "\n",
              "    .dataframe tbody tr th {\n",
              "        vertical-align: top;\n",
              "    }\n",
              "\n",
              "    .dataframe thead th {\n",
              "        text-align: right;\n",
              "    }\n",
              "</style>\n",
              "<table border=\"1\" class=\"dataframe\">\n",
              "  <thead>\n",
              "    <tr style=\"text-align: right;\">\n",
              "      <th></th>\n",
              "      <th>YEAR</th>\n",
              "      <th>MONTH</th>\n",
              "      <th>DAY</th>\n",
              "      <th>DAY_OF_WEEK</th>\n",
              "      <th>AIRLINE</th>\n",
              "      <th>FLIGHT_NUMBER</th>\n",
              "      <th>TAIL_NUMBER</th>\n",
              "      <th>ORIGIN_AIRPORT</th>\n",
              "      <th>DESTINATION_AIRPORT</th>\n",
              "      <th>SCHEDULED_DEPARTURE</th>\n",
              "      <th>SCHEDULED_TIME</th>\n",
              "      <th>DISTANCE</th>\n",
              "      <th>SCHEDULED_ARRIVAL</th>\n",
              "    </tr>\n",
              "  </thead>\n",
              "  <tbody>\n",
              "    <tr>\n",
              "      <th>0</th>\n",
              "      <td>2015</td>\n",
              "      <td>2</td>\n",
              "      <td>25</td>\n",
              "      <td>3</td>\n",
              "      <td>WN</td>\n",
              "      <td>1046</td>\n",
              "      <td>N731SA</td>\n",
              "      <td>LAS</td>\n",
              "      <td>PHX</td>\n",
              "      <td>700</td>\n",
              "      <td>65</td>\n",
              "      <td>255</td>\n",
              "      <td>905</td>\n",
              "    </tr>\n",
              "    <tr>\n",
              "      <th>1</th>\n",
              "      <td>2015</td>\n",
              "      <td>2</td>\n",
              "      <td>25</td>\n",
              "      <td>3</td>\n",
              "      <td>WN</td>\n",
              "      <td>2251</td>\n",
              "      <td>N279WN</td>\n",
              "      <td>LAS</td>\n",
              "      <td>RNO</td>\n",
              "      <td>700</td>\n",
              "      <td>80</td>\n",
              "      <td>345</td>\n",
              "      <td>820</td>\n",
              "    </tr>\n",
              "    <tr>\n",
              "      <th>2</th>\n",
              "      <td>2015</td>\n",
              "      <td>2</td>\n",
              "      <td>25</td>\n",
              "      <td>3</td>\n",
              "      <td>WN</td>\n",
              "      <td>857</td>\n",
              "      <td>N277WN</td>\n",
              "      <td>LAS</td>\n",
              "      <td>SMF</td>\n",
              "      <td>700</td>\n",
              "      <td>90</td>\n",
              "      <td>397</td>\n",
              "      <td>830</td>\n",
              "    </tr>\n",
              "    <tr>\n",
              "      <th>3</th>\n",
              "      <td>2015</td>\n",
              "      <td>2</td>\n",
              "      <td>25</td>\n",
              "      <td>3</td>\n",
              "      <td>WN</td>\n",
              "      <td>2864</td>\n",
              "      <td>N8632A</td>\n",
              "      <td>LAX</td>\n",
              "      <td>BWI</td>\n",
              "      <td>700</td>\n",
              "      <td>295</td>\n",
              "      <td>2329</td>\n",
              "      <td>1455</td>\n",
              "    </tr>\n",
              "    <tr>\n",
              "      <th>4</th>\n",
              "      <td>2015</td>\n",
              "      <td>2</td>\n",
              "      <td>25</td>\n",
              "      <td>3</td>\n",
              "      <td>WN</td>\n",
              "      <td>3220</td>\n",
              "      <td>N8659D</td>\n",
              "      <td>LAX</td>\n",
              "      <td>PHX</td>\n",
              "      <td>700</td>\n",
              "      <td>80</td>\n",
              "      <td>370</td>\n",
              "      <td>920</td>\n",
              "    </tr>\n",
              "  </tbody>\n",
              "</table>\n",
              "</div>"
            ],
            "text/plain": [
              "   YEAR  MONTH  DAY  ...  SCHEDULED_TIME DISTANCE  SCHEDULED_ARRIVAL\n",
              "0  2015      2   25  ...              65      255                905\n",
              "1  2015      2   25  ...              80      345                820\n",
              "2  2015      2   25  ...              90      397                830\n",
              "3  2015      2   25  ...             295     2329               1455\n",
              "4  2015      2   25  ...              80      370                920\n",
              "\n",
              "[5 rows x 13 columns]"
            ]
          },
          "metadata": {
            "tags": []
          },
          "execution_count": 46
        }
      ]
    },
    {
      "cell_type": "code",
      "metadata": {
        "id": "3dGjL3dCoEq0",
        "outputId": "0fa4bd17-c343-4f26-9387-e31b5852cf8b",
        "colab": {
          "base_uri": "https://localhost:8080/"
        }
      },
      "source": [
        "# Importing the test-set and check the shape and total number of missing values\n",
        "\n",
        "print(\"The shape of the test-set is:\", (df_test.shape))\n",
        "print(\"The number of rows in the test-set is:\", str(df_test.shape[0]))\n",
        "print(\"The number of columns in the test-set is:\", str(df_test.shape[1]))\n",
        "\n",
        "missing_valuestest = df_test.isnull().sum().sum()\n",
        "\n",
        "print(\"The number of missing values in the test-set is:\", str(missing_valuestest))"
      ],
      "execution_count": 47,
      "outputs": [
        {
          "output_type": "stream",
          "text": [
            "The shape of the test-set is: (209717, 13)\n",
            "The number of rows in the test-set is: 209717\n",
            "The number of columns in the test-set is: 13\n",
            "The number of missing values in the test-set is: 1769\n"
          ],
          "name": "stdout"
        }
      ]
    },
    {
      "cell_type": "markdown",
      "metadata": {
        "id": "qDQCCXw1oIWW"
      },
      "source": [
        "### Feature Engineering"
      ]
    },
    {
      "cell_type": "code",
      "metadata": {
        "id": "7EuLlcgtk9IV",
        "outputId": "b889fff9-0ae2-4a49-9d0c-12ebfacd009d",
        "colab": {
          "base_uri": "https://localhost:8080/"
        }
      },
      "source": [
        "# Examine the data types for train dataframe\n",
        "df_train.dtypes"
      ],
      "execution_count": 48,
      "outputs": [
        {
          "output_type": "execute_result",
          "data": {
            "text/plain": [
              "YEAR                     int64\n",
              "MONTH                    int64\n",
              "DAY                      int64\n",
              "DAY_OF_WEEK              int64\n",
              "AIRLINE                 object\n",
              "FLIGHT_NUMBER            int64\n",
              "TAIL_NUMBER             object\n",
              "ORIGIN_AIRPORT          object\n",
              "DESTINATION_AIRPORT     object\n",
              "SCHEDULED_DEPARTURE      int64\n",
              "SCHEDULED_TIME         float64\n",
              "DISTANCE                 int64\n",
              "SCHEDULED_ARRIVAL        int64\n",
              "CANCELLED                int64\n",
              "dtype: object"
            ]
          },
          "metadata": {
            "tags": []
          },
          "execution_count": 48
        }
      ]
    },
    {
      "cell_type": "code",
      "metadata": {
        "id": "veARPOxffHyz",
        "outputId": "a72952ac-0946-4cec-bff2-6e1b868c9870",
        "colab": {
          "base_uri": "https://localhost:8080/"
        }
      },
      "source": [
        "# Check for data frame info\n",
        "df_train.info()"
      ],
      "execution_count": 49,
      "outputs": [
        {
          "output_type": "stream",
          "text": [
            "<class 'pandas.core.frame.DataFrame'>\n",
            "RangeIndex: 838858 entries, 0 to 838857\n",
            "Data columns (total 14 columns):\n",
            " #   Column               Non-Null Count   Dtype  \n",
            "---  ------               --------------   -----  \n",
            " 0   YEAR                 838858 non-null  int64  \n",
            " 1   MONTH                838858 non-null  int64  \n",
            " 2   DAY                  838858 non-null  int64  \n",
            " 3   DAY_OF_WEEK          838858 non-null  int64  \n",
            " 4   AIRLINE              838858 non-null  object \n",
            " 5   FLIGHT_NUMBER        838858 non-null  int64  \n",
            " 6   TAIL_NUMBER          832877 non-null  object \n",
            " 7   ORIGIN_AIRPORT       838858 non-null  object \n",
            " 8   DESTINATION_AIRPORT  838858 non-null  object \n",
            " 9   SCHEDULED_DEPARTURE  838858 non-null  int64  \n",
            " 10  SCHEDULED_TIME       838856 non-null  float64\n",
            " 11  DISTANCE             838858 non-null  int64  \n",
            " 12  SCHEDULED_ARRIVAL    838858 non-null  int64  \n",
            " 13  CANCELLED            838858 non-null  int64  \n",
            "dtypes: float64(1), int64(9), object(4)\n",
            "memory usage: 89.6+ MB\n"
          ],
          "name": "stdout"
        }
      ]
    },
    {
      "cell_type": "code",
      "metadata": {
        "id": "iiFcG975h-XS",
        "outputId": "6bf1deb4-9bbc-48d7-d849-53d717b262c4",
        "colab": {
          "base_uri": "https://localhost:8080/"
        }
      },
      "source": [
        "# Dealing with missing values in the train-set\n",
        "\n",
        "df_train.isnull().sum()"
      ],
      "execution_count": 50,
      "outputs": [
        {
          "output_type": "execute_result",
          "data": {
            "text/plain": [
              "YEAR                      0\n",
              "MONTH                     0\n",
              "DAY                       0\n",
              "DAY_OF_WEEK               0\n",
              "AIRLINE                   0\n",
              "FLIGHT_NUMBER             0\n",
              "TAIL_NUMBER            5981\n",
              "ORIGIN_AIRPORT            0\n",
              "DESTINATION_AIRPORT       0\n",
              "SCHEDULED_DEPARTURE       0\n",
              "SCHEDULED_TIME            2\n",
              "DISTANCE                  0\n",
              "SCHEDULED_ARRIVAL         0\n",
              "CANCELLED                 0\n",
              "dtype: int64"
            ]
          },
          "metadata": {
            "tags": []
          },
          "execution_count": 50
        }
      ]
    },
    {
      "cell_type": "markdown",
      "metadata": {
        "id": "v47C0PRloUg1"
      },
      "source": [
        "#### Step 1: Dealing with Missing Values: Tail_number and scheduled_time columns specifically in this project"
      ]
    },
    {
      "cell_type": "markdown",
      "metadata": {
        "id": "hJoAAPpvzyBV"
      },
      "source": [
        "##### Numerical columns"
      ]
    },
    {
      "cell_type": "code",
      "metadata": {
        "id": "fs9jDqJ_c1ny",
        "outputId": "5ba970af-b1f1-44a9-bc5a-cf5b53f7d9e8",
        "colab": {
          "base_uri": "https://localhost:8080/"
        }
      },
      "source": [
        "# Find numerical columns from df_train dataframe\n",
        "num_columns = df_train.select_dtypes(include = [int, float]).columns\n",
        "num_sets, target_set = (set(num_columns)), set(target_column)\n",
        "num_sets = num_sets - target_set\n",
        "num_cats = list(num_sets)\n",
        "num_cats"
      ],
      "execution_count": 51,
      "outputs": [
        {
          "output_type": "execute_result",
          "data": {
            "text/plain": [
              "['SCHEDULED_TIME',\n",
              " 'DISTANCE',\n",
              " 'YEAR',\n",
              " 'SCHEDULED_DEPARTURE',\n",
              " 'MONTH',\n",
              " 'DAY_OF_WEEK',\n",
              " 'DAY',\n",
              " 'FLIGHT_NUMBER',\n",
              " 'SCHEDULED_ARRIVAL']"
            ]
          },
          "metadata": {
            "tags": []
          },
          "execution_count": 51
        }
      ]
    },
    {
      "cell_type": "code",
      "metadata": {
        "id": "T8aryAxNewrj",
        "outputId": "b8930646-ebaf-491f-ea26-9e6bbdb8ab08",
        "colab": {
          "base_uri": "https://localhost:8080/"
        }
      },
      "source": [
        "# Select missing numerical variables and ensure it confims with earlier observation\n",
        "num_missing = []\n",
        "\n",
        "for cols in num_cats:\n",
        "   if df_train[cols].isnull().sum() > 0:\n",
        "     num_missing.append(cols)\n",
        "   else:\n",
        "     pass\n",
        "  \n",
        "num_missing\n"
      ],
      "execution_count": 52,
      "outputs": [
        {
          "output_type": "execute_result",
          "data": {
            "text/plain": [
              "['SCHEDULED_TIME']"
            ]
          },
          "metadata": {
            "tags": []
          },
          "execution_count": 52
        }
      ]
    },
    {
      "cell_type": "code",
      "metadata": {
        "id": "ZHyrdpeOoTye"
      },
      "source": [
        "# Mean/Median/Mode, Random, End of distribution Imputation\n",
        "def impute_nan(df, variable):\n",
        "  #df[variable+\"_median\"] = df[variable].fillna(df[variable].median() )\n",
        "  df[variable+\"_mean\"] = df[variable].fillna(df[variable].mean() )\n",
        "  #df[variable+\"_mode\"] = df[variable].fillna(df[variable].mode() )\n",
        "  #df[variable+\"_random\"]=df[variable]\n",
        "  #df[variable+\"_end_distribution\"]=df[variable].fillna(df[variable].mean()+3*df[variable].std() )\n",
        "  #df[variable+'_zero']=df[variable].fillna(0)\n",
        "  #df[variable+'_hundred']=df[variable].fillna(100)\n",
        "  ##It will have the random sample to fill the na\n",
        "  #random_sample=df[variable].dropna().sample(df[variable].isnull().sum(),random_state=0)\n",
        "  ##pandas need to have same index in order to merge the dataset\n",
        "  #random_sample.index=df[df[variable].isnull()].index\n",
        "  #df.loc[df[variable].isnull(),variable+'_random']=random_sample"
      ],
      "execution_count": 53,
      "outputs": []
    },
    {
      "cell_type": "code",
      "metadata": {
        "id": "0v7wueyFppzi",
        "outputId": "22c97dc2-1ed1-400c-937f-fbcfd32df832",
        "colab": {
          "base_uri": "https://localhost:8080/",
          "height": 215
        }
      },
      "source": [
        "# Fill missing values of the numerical categories column of df_train with median values\n",
        "for cols in num_missing:\n",
        "    impute_nan(df_train, cols)\n",
        "\n",
        "df_train.head()"
      ],
      "execution_count": 54,
      "outputs": [
        {
          "output_type": "execute_result",
          "data": {
            "text/html": [
              "<div>\n",
              "<style scoped>\n",
              "    .dataframe tbody tr th:only-of-type {\n",
              "        vertical-align: middle;\n",
              "    }\n",
              "\n",
              "    .dataframe tbody tr th {\n",
              "        vertical-align: top;\n",
              "    }\n",
              "\n",
              "    .dataframe thead th {\n",
              "        text-align: right;\n",
              "    }\n",
              "</style>\n",
              "<table border=\"1\" class=\"dataframe\">\n",
              "  <thead>\n",
              "    <tr style=\"text-align: right;\">\n",
              "      <th></th>\n",
              "      <th>YEAR</th>\n",
              "      <th>MONTH</th>\n",
              "      <th>DAY</th>\n",
              "      <th>DAY_OF_WEEK</th>\n",
              "      <th>AIRLINE</th>\n",
              "      <th>FLIGHT_NUMBER</th>\n",
              "      <th>TAIL_NUMBER</th>\n",
              "      <th>ORIGIN_AIRPORT</th>\n",
              "      <th>DESTINATION_AIRPORT</th>\n",
              "      <th>SCHEDULED_DEPARTURE</th>\n",
              "      <th>SCHEDULED_TIME</th>\n",
              "      <th>DISTANCE</th>\n",
              "      <th>SCHEDULED_ARRIVAL</th>\n",
              "      <th>CANCELLED</th>\n",
              "      <th>SCHEDULED_TIME_mean</th>\n",
              "    </tr>\n",
              "  </thead>\n",
              "  <tbody>\n",
              "    <tr>\n",
              "      <th>0</th>\n",
              "      <td>2015</td>\n",
              "      <td>1</td>\n",
              "      <td>1</td>\n",
              "      <td>4</td>\n",
              "      <td>AS</td>\n",
              "      <td>98</td>\n",
              "      <td>N407AS</td>\n",
              "      <td>ANC</td>\n",
              "      <td>SEA</td>\n",
              "      <td>5</td>\n",
              "      <td>205.0</td>\n",
              "      <td>1448</td>\n",
              "      <td>430</td>\n",
              "      <td>0</td>\n",
              "      <td>205.0</td>\n",
              "    </tr>\n",
              "    <tr>\n",
              "      <th>1</th>\n",
              "      <td>2015</td>\n",
              "      <td>1</td>\n",
              "      <td>1</td>\n",
              "      <td>4</td>\n",
              "      <td>AA</td>\n",
              "      <td>2336</td>\n",
              "      <td>N3KUAA</td>\n",
              "      <td>LAX</td>\n",
              "      <td>PBI</td>\n",
              "      <td>10</td>\n",
              "      <td>280.0</td>\n",
              "      <td>2330</td>\n",
              "      <td>750</td>\n",
              "      <td>0</td>\n",
              "      <td>280.0</td>\n",
              "    </tr>\n",
              "    <tr>\n",
              "      <th>2</th>\n",
              "      <td>2015</td>\n",
              "      <td>1</td>\n",
              "      <td>1</td>\n",
              "      <td>4</td>\n",
              "      <td>US</td>\n",
              "      <td>840</td>\n",
              "      <td>N171US</td>\n",
              "      <td>SFO</td>\n",
              "      <td>CLT</td>\n",
              "      <td>20</td>\n",
              "      <td>286.0</td>\n",
              "      <td>2296</td>\n",
              "      <td>806</td>\n",
              "      <td>0</td>\n",
              "      <td>286.0</td>\n",
              "    </tr>\n",
              "    <tr>\n",
              "      <th>3</th>\n",
              "      <td>2015</td>\n",
              "      <td>1</td>\n",
              "      <td>1</td>\n",
              "      <td>4</td>\n",
              "      <td>AA</td>\n",
              "      <td>258</td>\n",
              "      <td>N3HYAA</td>\n",
              "      <td>LAX</td>\n",
              "      <td>MIA</td>\n",
              "      <td>20</td>\n",
              "      <td>285.0</td>\n",
              "      <td>2342</td>\n",
              "      <td>805</td>\n",
              "      <td>0</td>\n",
              "      <td>285.0</td>\n",
              "    </tr>\n",
              "    <tr>\n",
              "      <th>4</th>\n",
              "      <td>2015</td>\n",
              "      <td>1</td>\n",
              "      <td>1</td>\n",
              "      <td>4</td>\n",
              "      <td>AS</td>\n",
              "      <td>135</td>\n",
              "      <td>N527AS</td>\n",
              "      <td>SEA</td>\n",
              "      <td>ANC</td>\n",
              "      <td>25</td>\n",
              "      <td>235.0</td>\n",
              "      <td>1448</td>\n",
              "      <td>320</td>\n",
              "      <td>0</td>\n",
              "      <td>235.0</td>\n",
              "    </tr>\n",
              "  </tbody>\n",
              "</table>\n",
              "</div>"
            ],
            "text/plain": [
              "   YEAR  MONTH  DAY  ...  SCHEDULED_ARRIVAL CANCELLED  SCHEDULED_TIME_mean\n",
              "0  2015      1    1  ...                430         0                205.0\n",
              "1  2015      1    1  ...                750         0                280.0\n",
              "2  2015      1    1  ...                806         0                286.0\n",
              "3  2015      1    1  ...                805         0                285.0\n",
              "4  2015      1    1  ...                320         0                235.0\n",
              "\n",
              "[5 rows x 15 columns]"
            ]
          },
          "metadata": {
            "tags": []
          },
          "execution_count": 54
        }
      ]
    },
    {
      "cell_type": "code",
      "metadata": {
        "id": "azb6GfvnqlAP",
        "outputId": "2725eeed-6921-4d44-e3db-cbe41935e6e7",
        "colab": {
          "base_uri": "https://localhost:8080/"
        }
      },
      "source": [
        "# Check of missing values still exist\n",
        "df_train.isnull().sum()"
      ],
      "execution_count": 55,
      "outputs": [
        {
          "output_type": "execute_result",
          "data": {
            "text/plain": [
              "YEAR                      0\n",
              "MONTH                     0\n",
              "DAY                       0\n",
              "DAY_OF_WEEK               0\n",
              "AIRLINE                   0\n",
              "FLIGHT_NUMBER             0\n",
              "TAIL_NUMBER            5981\n",
              "ORIGIN_AIRPORT            0\n",
              "DESTINATION_AIRPORT       0\n",
              "SCHEDULED_DEPARTURE       0\n",
              "SCHEDULED_TIME            2\n",
              "DISTANCE                  0\n",
              "SCHEDULED_ARRIVAL         0\n",
              "CANCELLED                 0\n",
              "SCHEDULED_TIME_mean       0\n",
              "dtype: int64"
            ]
          },
          "metadata": {
            "tags": []
          },
          "execution_count": 55
        }
      ]
    },
    {
      "cell_type": "code",
      "metadata": {
        "id": "AxI-dedenrcC",
        "outputId": "e6fa70d0-1c0b-408f-99e8-9ac9a2c27597",
        "colab": {
          "base_uri": "https://localhost:8080/"
        }
      },
      "source": [
        "# Let's manually investigate the std of the newly created column and original column\n",
        "\n",
        "\n",
        "print(\"The standard deviation for the orignal column is\", df_train.SCHEDULED_TIME.std())\n",
        "\n",
        "print(\"The standard deviation for the newly encoded column (random imputter) is\", df_train.SCHEDULED_TIME_mean.std())"
      ],
      "execution_count": 56,
      "outputs": [
        {
          "output_type": "stream",
          "text": [
            "The standard deviation for the orignal column is 74.62359831105842\n",
            "The standard deviation for the newly encoded column (random imputter) is 74.62350935234103\n"
          ],
          "name": "stdout"
        }
      ]
    },
    {
      "cell_type": "code",
      "metadata": {
        "id": "cvY2V5zUrRJW",
        "outputId": "143d39d6-f471-477d-c2ff-effbb4b778a2",
        "colab": {
          "base_uri": "https://localhost:8080/",
          "height": 374
        }
      },
      "source": [
        "# Plot kde distributions of both distributions\n",
        "fig = plt.figure(figsize= (8,6))\n",
        "ax = fig.add_subplot(111)\n",
        "df_train.SCHEDULED_TIME.plot(kind='kde', ax=ax, color = 'blue')\n",
        "df_train.SCHEDULED_TIME_mean.plot(kind='kde', ax=ax, color='red')\n",
        "\n",
        "lines, labels = ax.get_legend_handles_labels()\n",
        "ax.legend(lines, labels, loc='best')\n",
        "plt.show()"
      ],
      "execution_count": 57,
      "outputs": [
        {
          "output_type": "display_data",
          "data": {
            "image/png": "[encoded data removed]",
            "text/plain": [
              "<Figure size 576x432 with 1 Axes>"
            ]
          },
          "metadata": {
            "tags": [],
            "needs_background": "light"
          }
        }
      ]
    },
    {
      "cell_type": "code",
      "metadata": {
        "id": "87AixG0v4zKW",
        "outputId": "bb66f94c-67fe-4c5e-a3cb-899af74b9d3d",
        "colab": {
          "base_uri": "https://localhost:8080/",
          "height": 280
        }
      },
      "source": [
        "# Plot histogram of SCHEDULED_TIME\n",
        "df_train. SCHEDULED_TIME.hist(bins=50)\n",
        "plt.xlabel('SCHEDULED_TIME')\n",
        "plt.show()"
      ],
      "execution_count": 58,
      "outputs": [
        {
          "output_type": "display_data",
          "data": {
            "image/png": "[encoded data removed]",
            "text/plain": [
              "<Figure size 360x288 with 1 Axes>"
            ]
          },
          "metadata": {
            "tags": [],
            "needs_background": "light"
          }
        }
      ]
    },
    {
      "cell_type": "code",
      "metadata": {
        "id": "wTVydx8r46kH",
        "outputId": "c7c82e26-1619-42dc-c629-360af4356fca",
        "colab": {
          "base_uri": "https://localhost:8080/",
          "height": 280
        }
      },
      "source": [
        "# Plot histogram of SCHEDULED_TIME_end_distribution\n",
        "df_train['SCHEDULED_TIME_mean'].hist(bins=50)\n",
        "plt.xlabel('SCHEDULED_TIME_mean')\n",
        "plt.show()"
      ],
      "execution_count": 59,
      "outputs": [
        {
          "output_type": "display_data",
          "data": {
            "image/png": "[encoded data removed]",
            "text/plain": [
              "<Figure size 360x288 with 1 Axes>"
            ]
          },
          "metadata": {
            "tags": [],
            "needs_background": "light"
          }
        }
      ]
    },
    {
      "cell_type": "code",
      "metadata": {
        "id": "8RlKHO8V45hZ",
        "outputId": "e89d5fc2-37c6-42f1-b3ca-cefce1c05283",
        "colab": {
          "base_uri": "https://localhost:8080/",
          "height": 334
        }
      },
      "source": [
        "# Boxplot of column\n",
        "sns.boxplot('SCHEDULED_TIME',data=df_train)\n",
        "plt.show()"
      ],
      "execution_count": 60,
      "outputs": [
        {
          "output_type": "stream",
          "text": [
            "/usr/local/lib/python3.6/dist-packages/seaborn/_decorators.py:43: FutureWarning: Pass the following variable as a keyword arg: x. From version 0.12, the only valid positional argument will be `data`, and passing other arguments without an explicit keyword will result in an error or misinterpretation.\n",
            "  FutureWarning\n"
          ],
          "name": "stderr"
        },
        {
          "output_type": "display_data",
          "data": {
            "image/png": "[encoded data removed]",
            "text/plain": [
              "<Figure size 360x288 with 1 Axes>"
            ]
          },
          "metadata": {
            "tags": [],
            "needs_background": "light"
          }
        }
      ]
    },
    {
      "cell_type": "code",
      "metadata": {
        "id": "ARaYe1yh5MbO",
        "outputId": "1bfb8c31-7d82-41cb-b61c-e7eb540a5358",
        "colab": {
          "base_uri": "https://localhost:8080/",
          "height": 334
        }
      },
      "source": [
        "# Boxplot of column\n",
        "sns.boxplot('SCHEDULED_TIME_mean',data=df_train)\n",
        "plt.show()"
      ],
      "execution_count": 61,
      "outputs": [
        {
          "output_type": "stream",
          "text": [
            "/usr/local/lib/python3.6/dist-packages/seaborn/_decorators.py:43: FutureWarning: Pass the following variable as a keyword arg: x. From version 0.12, the only valid positional argument will be `data`, and passing other arguments without an explicit keyword will result in an error or misinterpretation.\n",
            "  FutureWarning\n"
          ],
          "name": "stderr"
        },
        {
          "output_type": "display_data",
          "data": {
            "image/png": "[encoded data removed]",
            "text/plain": [
              "<Figure size 360x288 with 1 Axes>"
            ]
          },
          "metadata": {
            "tags": [],
            "needs_background": "light"
          }
        }
      ]
    },
    {
      "cell_type": "code",
      "metadata": {
        "id": "-BS_MHPz9VxJ",
        "outputId": "a351f5b5-8ac0-46c1-dbcd-4867760cd516",
        "colab": {
          "base_uri": "https://localhost:8080/"
        }
      },
      "source": [
        "# Let's extract the final datframe with numerical columns with no missing values to be employed by our model\n",
        "\n",
        "num_columns = df_train.select_dtypes(include = [int, float]).columns\n",
        "num_sets = (set(num_columns))\n",
        "num_cats = list(num_sets)\n",
        "num_cats\n"
      ],
      "execution_count": 62,
      "outputs": [
        {
          "output_type": "execute_result",
          "data": {
            "text/plain": [
              "['SCHEDULED_TIME',\n",
              " 'DISTANCE',\n",
              " 'YEAR',\n",
              " 'SCHEDULED_DEPARTURE',\n",
              " 'MONTH',\n",
              " 'CANCELLED',\n",
              " 'DAY_OF_WEEK',\n",
              " 'SCHEDULED_TIME_mean',\n",
              " 'DAY',\n",
              " 'FLIGHT_NUMBER',\n",
              " 'SCHEDULED_ARRIVAL']"
            ]
          },
          "metadata": {
            "tags": []
          },
          "execution_count": 62
        }
      ]
    },
    {
      "cell_type": "code",
      "metadata": {
        "id": "PzcLeNoY-hGi",
        "outputId": "7f88861a-70a3-41dc-da62-bf98c98addc7",
        "colab": {
          "base_uri": "https://localhost:8080/"
        }
      },
      "source": [
        "# Print the status of missing values for the numerical columns of the dataframe in order to determine column to drop\n",
        "df_train_num = df_train[num_cats]\n",
        "df_train_num.isnull().sum()"
      ],
      "execution_count": 63,
      "outputs": [
        {
          "output_type": "execute_result",
          "data": {
            "text/plain": [
              "SCHEDULED_TIME         2\n",
              "DISTANCE               0\n",
              "YEAR                   0\n",
              "SCHEDULED_DEPARTURE    0\n",
              "MONTH                  0\n",
              "CANCELLED              0\n",
              "DAY_OF_WEEK            0\n",
              "SCHEDULED_TIME_mean    0\n",
              "DAY                    0\n",
              "FLIGHT_NUMBER          0\n",
              "SCHEDULED_ARRIVAL      0\n",
              "dtype: int64"
            ]
          },
          "metadata": {
            "tags": []
          },
          "execution_count": 63
        }
      ]
    },
    {
      "cell_type": "code",
      "metadata": {
        "id": "WKGRwRCp-Mw9",
        "outputId": "28ea374d-9df4-4a88-ca64-b1f5fff89635",
        "colab": {
          "base_uri": "https://localhost:8080/",
          "height": 195
        }
      },
      "source": [
        "# Create final dataframe with only numerical columns only by dropping columns with missing values above\n",
        "df_train_num_final = df_train_num.drop(['SCHEDULED_TIME'], axis = 1)\n",
        "\n",
        "df_train_num_final.head()"
      ],
      "execution_count": 64,
      "outputs": [
        {
          "output_type": "execute_result",
          "data": {
            "text/html": [
              "<div>\n",
              "<style scoped>\n",
              "    .dataframe tbody tr th:only-of-type {\n",
              "        vertical-align: middle;\n",
              "    }\n",
              "\n",
              "    .dataframe tbody tr th {\n",
              "        vertical-align: top;\n",
              "    }\n",
              "\n",
              "    .dataframe thead th {\n",
              "        text-align: right;\n",
              "    }\n",
              "</style>\n",
              "<table border=\"1\" class=\"dataframe\">\n",
              "  <thead>\n",
              "    <tr style=\"text-align: right;\">\n",
              "      <th></th>\n",
              "      <th>DISTANCE</th>\n",
              "      <th>YEAR</th>\n",
              "      <th>SCHEDULED_DEPARTURE</th>\n",
              "      <th>MONTH</th>\n",
              "      <th>CANCELLED</th>\n",
              "      <th>DAY_OF_WEEK</th>\n",
              "      <th>SCHEDULED_TIME_mean</th>\n",
              "      <th>DAY</th>\n",
              "      <th>FLIGHT_NUMBER</th>\n",
              "      <th>SCHEDULED_ARRIVAL</th>\n",
              "    </tr>\n",
              "  </thead>\n",
              "  <tbody>\n",
              "    <tr>\n",
              "      <th>0</th>\n",
              "      <td>1448</td>\n",
              "      <td>2015</td>\n",
              "      <td>5</td>\n",
              "      <td>1</td>\n",
              "      <td>0</td>\n",
              "      <td>4</td>\n",
              "      <td>205.0</td>\n",
              "      <td>1</td>\n",
              "      <td>98</td>\n",
              "      <td>430</td>\n",
              "    </tr>\n",
              "    <tr>\n",
              "      <th>1</th>\n",
              "      <td>2330</td>\n",
              "      <td>2015</td>\n",
              "      <td>10</td>\n",
              "      <td>1</td>\n",
              "      <td>0</td>\n",
              "      <td>4</td>\n",
              "      <td>280.0</td>\n",
              "      <td>1</td>\n",
              "      <td>2336</td>\n",
              "      <td>750</td>\n",
              "    </tr>\n",
              "    <tr>\n",
              "      <th>2</th>\n",
              "      <td>2296</td>\n",
              "      <td>2015</td>\n",
              "      <td>20</td>\n",
              "      <td>1</td>\n",
              "      <td>0</td>\n",
              "      <td>4</td>\n",
              "      <td>286.0</td>\n",
              "      <td>1</td>\n",
              "      <td>840</td>\n",
              "      <td>806</td>\n",
              "    </tr>\n",
              "    <tr>\n",
              "      <th>3</th>\n",
              "      <td>2342</td>\n",
              "      <td>2015</td>\n",
              "      <td>20</td>\n",
              "      <td>1</td>\n",
              "      <td>0</td>\n",
              "      <td>4</td>\n",
              "      <td>285.0</td>\n",
              "      <td>1</td>\n",
              "      <td>258</td>\n",
              "      <td>805</td>\n",
              "    </tr>\n",
              "    <tr>\n",
              "      <th>4</th>\n",
              "      <td>1448</td>\n",
              "      <td>2015</td>\n",
              "      <td>25</td>\n",
              "      <td>1</td>\n",
              "      <td>0</td>\n",
              "      <td>4</td>\n",
              "      <td>235.0</td>\n",
              "      <td>1</td>\n",
              "      <td>135</td>\n",
              "      <td>320</td>\n",
              "    </tr>\n",
              "  </tbody>\n",
              "</table>\n",
              "</div>"
            ],
            "text/plain": [
              "   DISTANCE  YEAR  SCHEDULED_DEPARTURE  ...  DAY  FLIGHT_NUMBER  SCHEDULED_ARRIVAL\n",
              "0      1448  2015                    5  ...    1             98                430\n",
              "1      2330  2015                   10  ...    1           2336                750\n",
              "2      2296  2015                   20  ...    1            840                806\n",
              "3      2342  2015                   20  ...    1            258                805\n",
              "4      1448  2015                   25  ...    1            135                320\n",
              "\n",
              "[5 rows x 10 columns]"
            ]
          },
          "metadata": {
            "tags": []
          },
          "execution_count": 64
        }
      ]
    },
    {
      "cell_type": "markdown",
      "metadata": {
        "id": "WLl9U-038yZh"
      },
      "source": [
        "##### Categorical Columns : Hndling Missing Values"
      ]
    },
    {
      "cell_type": "code",
      "metadata": {
        "id": "qBksJth7_Byo",
        "outputId": "206746aa-8e59-4acf-ce96-f83f8dc6fb30",
        "colab": {
          "base_uri": "https://localhost:8080/"
        }
      },
      "source": [
        "# Select categorical columns\n",
        "df_train_cat = df_train.copy()\n",
        "cat_cols = df_train_cat.select_dtypes(exclude=['int', 'float']).columns\n",
        "cat_set = set(cat_cols) - target_set\n",
        "catt_cols = list(cat_cols)\n",
        "catt_cols"
      ],
      "execution_count": 65,
      "outputs": [
        {
          "output_type": "execute_result",
          "data": {
            "text/plain": [
              "['AIRLINE', 'TAIL_NUMBER', 'ORIGIN_AIRPORT', 'DESTINATION_AIRPORT']"
            ]
          },
          "metadata": {
            "tags": []
          },
          "execution_count": 65
        }
      ]
    },
    {
      "cell_type": "code",
      "metadata": {
        "id": "C1U832qy_oYP",
        "outputId": "94806a92-a32a-4d2a-b1de-b3e28543ca14",
        "colab": {
          "base_uri": "https://localhost:8080/"
        }
      },
      "source": [
        "# Check for the categorical columns with missing values and corroborate with earlier findings\n",
        "df_train_catcols = df_train_cat[catt_cols]\n",
        "df_train_catcols.isnull().sum().sort_values()"
      ],
      "execution_count": 66,
      "outputs": [
        {
          "output_type": "execute_result",
          "data": {
            "text/plain": [
              "AIRLINE                   0\n",
              "ORIGIN_AIRPORT            0\n",
              "DESTINATION_AIRPORT       0\n",
              "TAIL_NUMBER            5981\n",
              "dtype: int64"
            ]
          },
          "metadata": {
            "tags": []
          },
          "execution_count": 66
        }
      ]
    },
    {
      "cell_type": "code",
      "metadata": {
        "id": "JWxaLUgT_0MH",
        "outputId": "09d79742-23c4-47cc-c652-e74c162bf462",
        "colab": {
          "base_uri": "https://localhost:8080/"
        }
      },
      "source": [
        "# Select missing categorical variables and ensure it confims with earlier observation\n",
        "cat_missing = []\n",
        "\n",
        "for cols in df_train_catcols.columns:\n",
        "   if df_train_catcols[cols].isnull().sum() > 0:\n",
        "     cat_missing.append(cols)\n",
        "   else:\n",
        "     pass\n",
        "  \n",
        "cat_missing"
      ],
      "execution_count": 67,
      "outputs": [
        {
          "output_type": "execute_result",
          "data": {
            "text/plain": [
              "['TAIL_NUMBER']"
            ]
          },
          "metadata": {
            "tags": []
          },
          "execution_count": 67
        }
      ]
    },
    {
      "cell_type": "code",
      "metadata": {
        "id": "gZ6ORePllxQT",
        "outputId": "4810fb40-eaa1-41eb-b8aa-fbec79168699",
        "colab": {
          "base_uri": "https://localhost:8080/"
        }
      },
      "source": [
        "# Lets check the amount of unique values in each column with missing values\n",
        "\n",
        "for col in cat_missing:\n",
        "  print('----------------------------------------------')\n",
        "  print(col)\n",
        "  print('The number of unique values in column named', col, 'is', ( df_train_catcols[col].unique()).shape[0])\n",
        "  print('The mode of distribution for the values in column named', col, 'is', ( df_train_catcols[col].mode()[0]))"
      ],
      "execution_count": 68,
      "outputs": [
        {
          "output_type": "stream",
          "text": [
            "----------------------------------------------\n",
            "TAIL_NUMBER\n",
            "The number of unique values in column named TAIL_NUMBER is 4479\n",
            "The mode of distribution for the values in column named TAIL_NUMBER is N477HA\n"
          ],
          "name": "stdout"
        }
      ]
    },
    {
      "cell_type": "code",
      "metadata": {
        "id": "onuDxyq1CAMD"
      },
      "source": [
        "# We will not implement one-hot encoding because it is impractical to create 4478 additional columns/feature hence we will\n",
        "#create imputer function for categorical columns based on the mode in specific column\n",
        "def impute_nan(df,variable):\n",
        "    most_frequent_category=df[variable].mode()[0]\n",
        "    df[variable +'_mode'] = df[variable].fillna(most_frequent_category)\n",
        "    return df[variable +'_mode'] "
      ],
      "execution_count": 69,
      "outputs": []
    },
    {
      "cell_type": "code",
      "metadata": {
        "id": "77rJglkYCOw3",
        "outputId": "95ed081c-7e8a-4335-fc96-1dbb1cf7b390",
        "colab": {
          "base_uri": "https://localhost:8080/",
          "height": 296
        }
      },
      "source": [
        "# Apply function on categorical columns\n",
        "\n",
        "for feature in cat_missing:\n",
        "    impute_nan(df_train_catcols,feature)\n",
        "\n",
        "df_train_catcols.head()"
      ],
      "execution_count": 70,
      "outputs": [
        {
          "output_type": "stream",
          "text": [
            "/usr/local/lib/python3.6/dist-packages/ipykernel_launcher.py:5: SettingWithCopyWarning: \n",
            "A value is trying to be set on a copy of a slice from a DataFrame.\n",
            "Try using .loc[row_indexer,col_indexer] = value instead\n",
            "\n",
            "See the caveats in the documentation: https://pandas.pydata.org/pandas-docs/stable/user_guide/indexing.html#returning-a-view-versus-a-copy\n",
            "  \"\"\"\n"
          ],
          "name": "stderr"
        },
        {
          "output_type": "execute_result",
          "data": {
            "text/html": [
              "<div>\n",
              "<style scoped>\n",
              "    .dataframe tbody tr th:only-of-type {\n",
              "        vertical-align: middle;\n",
              "    }\n",
              "\n",
              "    .dataframe tbody tr th {\n",
              "        vertical-align: top;\n",
              "    }\n",
              "\n",
              "    .dataframe thead th {\n",
              "        text-align: right;\n",
              "    }\n",
              "</style>\n",
              "<table border=\"1\" class=\"dataframe\">\n",
              "  <thead>\n",
              "    <tr style=\"text-align: right;\">\n",
              "      <th></th>\n",
              "      <th>AIRLINE</th>\n",
              "      <th>TAIL_NUMBER</th>\n",
              "      <th>ORIGIN_AIRPORT</th>\n",
              "      <th>DESTINATION_AIRPORT</th>\n",
              "      <th>TAIL_NUMBER_mode</th>\n",
              "    </tr>\n",
              "  </thead>\n",
              "  <tbody>\n",
              "    <tr>\n",
              "      <th>0</th>\n",
              "      <td>AS</td>\n",
              "      <td>N407AS</td>\n",
              "      <td>ANC</td>\n",
              "      <td>SEA</td>\n",
              "      <td>N407AS</td>\n",
              "    </tr>\n",
              "    <tr>\n",
              "      <th>1</th>\n",
              "      <td>AA</td>\n",
              "      <td>N3KUAA</td>\n",
              "      <td>LAX</td>\n",
              "      <td>PBI</td>\n",
              "      <td>N3KUAA</td>\n",
              "    </tr>\n",
              "    <tr>\n",
              "      <th>2</th>\n",
              "      <td>US</td>\n",
              "      <td>N171US</td>\n",
              "      <td>SFO</td>\n",
              "      <td>CLT</td>\n",
              "      <td>N171US</td>\n",
              "    </tr>\n",
              "    <tr>\n",
              "      <th>3</th>\n",
              "      <td>AA</td>\n",
              "      <td>N3HYAA</td>\n",
              "      <td>LAX</td>\n",
              "      <td>MIA</td>\n",
              "      <td>N3HYAA</td>\n",
              "    </tr>\n",
              "    <tr>\n",
              "      <th>4</th>\n",
              "      <td>AS</td>\n",
              "      <td>N527AS</td>\n",
              "      <td>SEA</td>\n",
              "      <td>ANC</td>\n",
              "      <td>N527AS</td>\n",
              "    </tr>\n",
              "  </tbody>\n",
              "</table>\n",
              "</div>"
            ],
            "text/plain": [
              "  AIRLINE TAIL_NUMBER ORIGIN_AIRPORT DESTINATION_AIRPORT TAIL_NUMBER_mode\n",
              "0      AS      N407AS            ANC                 SEA           N407AS\n",
              "1      AA      N3KUAA            LAX                 PBI           N3KUAA\n",
              "2      US      N171US            SFO                 CLT           N171US\n",
              "3      AA      N3HYAA            LAX                 MIA           N3HYAA\n",
              "4      AS      N527AS            SEA                 ANC           N527AS"
            ]
          },
          "metadata": {
            "tags": []
          },
          "execution_count": 70
        }
      ]
    },
    {
      "cell_type": "code",
      "metadata": {
        "id": "g541Wc7ioJL5",
        "outputId": "3c7a13c5-0564-4c36-f00e-4f2f46bf74aa",
        "colab": {
          "base_uri": "https://localhost:8080/"
        }
      },
      "source": [
        "# Let's confirm the total missing values in categorical dataframe\n",
        "missing_values_final = []\n",
        "\n",
        "for cols in df_train_catcols.columns:\n",
        "   if df_train_catcols[cols].isnull().sum() > 0:\n",
        "     missing_values_final.append(cols)\n",
        "   else:\n",
        "     pass\n",
        "\n",
        "print(missing_values_final)"
      ],
      "execution_count": 71,
      "outputs": [
        {
          "output_type": "stream",
          "text": [
            "['TAIL_NUMBER']\n"
          ],
          "name": "stdout"
        }
      ]
    },
    {
      "cell_type": "code",
      "metadata": {
        "id": "ervsktq3FmJP",
        "outputId": "b9c3a55d-efca-4027-abc0-9c7907bf1f4d",
        "colab": {
          "base_uri": "https://localhost:8080/"
        }
      },
      "source": [
        "# Now let us drop column with missing values \n",
        "df_train_catcols.dropna(axis = 1, inplace= True)\n",
        "\n",
        "df_train_catcols.head()\n",
        "\n",
        "df_train_cat_base = df_train_catcols.copy()"
      ],
      "execution_count": 72,
      "outputs": [
        {
          "output_type": "stream",
          "text": [
            "/usr/local/lib/python3.6/dist-packages/ipykernel_launcher.py:2: SettingWithCopyWarning: \n",
            "A value is trying to be set on a copy of a slice from a DataFrame\n",
            "\n",
            "See the caveats in the documentation: https://pandas.pydata.org/pandas-docs/stable/user_guide/indexing.html#returning-a-view-versus-a-copy\n",
            "  \n"
          ],
          "name": "stderr"
        }
      ]
    },
    {
      "cell_type": "markdown",
      "metadata": {
        "id": "_XiUtgWGIOL4"
      },
      "source": [
        "#### Step 2: Handling Categorical Data (Label, One-Hot, Target, Count and Catboost Encoding)"
      ]
    },
    {
      "cell_type": "code",
      "metadata": {
        "id": "-iHc9HMOH7We",
        "outputId": "9d7f09b8-5463-4677-85d1-c02e333e8e70",
        "colab": {
          "base_uri": "https://localhost:8080/"
        }
      },
      "source": [
        "# Let's check the number of unique values in each categorical column\n",
        "for cols in df_train_catcols.columns:\n",
        "  print (\"For column name :\", cols)\n",
        "  print(\"The number of unique values are :\" ,len(df_train_catcols[cols].unique()))\n",
        "  print(\"-------------\")\n"
      ],
      "execution_count": 73,
      "outputs": [
        {
          "output_type": "stream",
          "text": [
            "For column name : AIRLINE\n",
            "The number of unique values are : 14\n",
            "-------------\n",
            "For column name : ORIGIN_AIRPORT\n",
            "The number of unique values are : 315\n",
            "-------------\n",
            "For column name : DESTINATION_AIRPORT\n",
            "The number of unique values are : 315\n",
            "-------------\n",
            "For column name : TAIL_NUMBER_mode\n",
            "The number of unique values are : 4478\n",
            "-------------\n"
          ],
          "name": "stdout"
        }
      ]
    },
    {
      "cell_type": "markdown",
      "metadata": {
        "id": "GZdpgFDsCUTd"
      },
      "source": [
        "#### Label Encoding"
      ]
    },
    {
      "cell_type": "code",
      "metadata": {
        "id": "AOi80QP4CTQS"
      },
      "source": [
        "from sklearn.preprocessing import LabelEncoder\n",
        "cat_features = df_train_catcols.columns\n",
        "encoder = LabelEncoder()\n",
        "\n",
        "# Apply label encoder to data\n",
        "encoded =  df_train_catcols[cat_features].apply(encoder.fit_transform)\n"
      ],
      "execution_count": 74,
      "outputs": []
    },
    {
      "cell_type": "code",
      "metadata": {
        "id": "U_laZfNpEDS3",
        "outputId": "8dd3cfa7-8ea2-4f71-c8cd-e79a1f46e2f0",
        "colab": {
          "base_uri": "https://localhost:8080/",
          "height": 215
        }
      },
      "source": [
        "# We collect all of these features (numerical and categorical) in a new dataframe that we can use to train a base model\n",
        "df_train_bl = df_train_num_final.join(encoded)\n",
        "df_train_bl.head()"
      ],
      "execution_count": 75,
      "outputs": [
        {
          "output_type": "execute_result",
          "data": {
            "text/html": [
              "<div>\n",
              "<style scoped>\n",
              "    .dataframe tbody tr th:only-of-type {\n",
              "        vertical-align: middle;\n",
              "    }\n",
              "\n",
              "    .dataframe tbody tr th {\n",
              "        vertical-align: top;\n",
              "    }\n",
              "\n",
              "    .dataframe thead th {\n",
              "        text-align: right;\n",
              "    }\n",
              "</style>\n",
              "<table border=\"1\" class=\"dataframe\">\n",
              "  <thead>\n",
              "    <tr style=\"text-align: right;\">\n",
              "      <th></th>\n",
              "      <th>DISTANCE</th>\n",
              "      <th>YEAR</th>\n",
              "      <th>SCHEDULED_DEPARTURE</th>\n",
              "      <th>MONTH</th>\n",
              "      <th>CANCELLED</th>\n",
              "      <th>DAY_OF_WEEK</th>\n",
              "      <th>SCHEDULED_TIME_mean</th>\n",
              "      <th>DAY</th>\n",
              "      <th>FLIGHT_NUMBER</th>\n",
              "      <th>SCHEDULED_ARRIVAL</th>\n",
              "      <th>AIRLINE</th>\n",
              "      <th>ORIGIN_AIRPORT</th>\n",
              "      <th>DESTINATION_AIRPORT</th>\n",
              "      <th>TAIL_NUMBER_mode</th>\n",
              "    </tr>\n",
              "  </thead>\n",
              "  <tbody>\n",
              "    <tr>\n",
              "      <th>0</th>\n",
              "      <td>1448</td>\n",
              "      <td>2015</td>\n",
              "      <td>5</td>\n",
              "      <td>1</td>\n",
              "      <td>0</td>\n",
              "      <td>4</td>\n",
              "      <td>205.0</td>\n",
              "      <td>1</td>\n",
              "      <td>98</td>\n",
              "      <td>430</td>\n",
              "      <td>1</td>\n",
              "      <td>15</td>\n",
              "      <td>271</td>\n",
              "      <td>1507</td>\n",
              "    </tr>\n",
              "    <tr>\n",
              "      <th>1</th>\n",
              "      <td>2330</td>\n",
              "      <td>2015</td>\n",
              "      <td>10</td>\n",
              "      <td>1</td>\n",
              "      <td>0</td>\n",
              "      <td>4</td>\n",
              "      <td>280.0</td>\n",
              "      <td>1</td>\n",
              "      <td>2336</td>\n",
              "      <td>750</td>\n",
              "      <td>0</td>\n",
              "      <td>171</td>\n",
              "      <td>229</td>\n",
              "      <td>1457</td>\n",
              "    </tr>\n",
              "    <tr>\n",
              "      <th>2</th>\n",
              "      <td>2296</td>\n",
              "      <td>2015</td>\n",
              "      <td>20</td>\n",
              "      <td>1</td>\n",
              "      <td>0</td>\n",
              "      <td>4</td>\n",
              "      <td>286.0</td>\n",
              "      <td>1</td>\n",
              "      <td>840</td>\n",
              "      <td>806</td>\n",
              "      <td>11</td>\n",
              "      <td>272</td>\n",
              "      <td>64</td>\n",
              "      <td>378</td>\n",
              "    </tr>\n",
              "    <tr>\n",
              "      <th>3</th>\n",
              "      <td>2342</td>\n",
              "      <td>2015</td>\n",
              "      <td>20</td>\n",
              "      <td>1</td>\n",
              "      <td>0</td>\n",
              "      <td>4</td>\n",
              "      <td>285.0</td>\n",
              "      <td>1</td>\n",
              "      <td>258</td>\n",
              "      <td>805</td>\n",
              "      <td>0</td>\n",
              "      <td>171</td>\n",
              "      <td>198</td>\n",
              "      <td>1417</td>\n",
              "    </tr>\n",
              "    <tr>\n",
              "      <th>4</th>\n",
              "      <td>1448</td>\n",
              "      <td>2015</td>\n",
              "      <td>25</td>\n",
              "      <td>1</td>\n",
              "      <td>0</td>\n",
              "      <td>4</td>\n",
              "      <td>235.0</td>\n",
              "      <td>1</td>\n",
              "      <td>135</td>\n",
              "      <td>320</td>\n",
              "      <td>1</td>\n",
              "      <td>271</td>\n",
              "      <td>15</td>\n",
              "      <td>2000</td>\n",
              "    </tr>\n",
              "  </tbody>\n",
              "</table>\n",
              "</div>"
            ],
            "text/plain": [
              "   DISTANCE  YEAR  ...  DESTINATION_AIRPORT  TAIL_NUMBER_mode\n",
              "0      1448  2015  ...                  271              1507\n",
              "1      2330  2015  ...                  229              1457\n",
              "2      2296  2015  ...                   64               378\n",
              "3      2342  2015  ...                  198              1417\n",
              "4      1448  2015  ...                   15              2000\n",
              "\n",
              "[5 rows x 14 columns]"
            ]
          },
          "metadata": {
            "tags": []
          },
          "execution_count": 75
        }
      ]
    },
    {
      "cell_type": "code",
      "metadata": {
        "id": "kuDWRyTWEtEI",
        "outputId": "4e540d86-2b6c-425f-f661-d7b8b43439ee",
        "colab": {
          "base_uri": "https://localhost:8080/"
        }
      },
      "source": [
        "# Display details of dataframe\n",
        "print(\"The shape of the label-encoded train-set is:\", (df_train_bl.shape))\n",
        "print(\"The number of rows in the label-encoded train-set is:\", str(df_train_bl.shape[0]))\n",
        "print(\"The number of columns in the label-encoded train-set is:\", str(df_train_bl.shape[1]))\n",
        "\n",
        "missing_valuestrain = df_train_bl.isnull().sum().sum()\n",
        "\n",
        "print(\"The number of missing values in the label-encoded train-set is:\", str(missing_valuestrain))"
      ],
      "execution_count": 76,
      "outputs": [
        {
          "output_type": "stream",
          "text": [
            "The shape of the label-encoded train-set is: (838858, 14)\n",
            "The number of rows in the label-encoded train-set is: 838858\n",
            "The number of columns in the label-encoded train-set is: 14\n",
            "The number of missing values in the label-encoded train-set is: 0\n"
          ],
          "name": "stdout"
        }
      ]
    },
    {
      "cell_type": "markdown",
      "metadata": {
        "id": "-9ZKPMiaFaX2"
      },
      "source": [
        "#### Count Encoding"
      ]
    },
    {
      "cell_type": "code",
      "metadata": {
        "id": "e83YWckbFmap",
        "outputId": "3180daa1-c54b-4753-e41d-d05bd6f8724d",
        "colab": {
          "base_uri": "https://localhost:8080/",
          "height": 195
        }
      },
      "source": [
        "# Let's recall the original categorical dataframe before any encoding\n",
        "\n",
        "df_train_cat_base.head()"
      ],
      "execution_count": 77,
      "outputs": [
        {
          "output_type": "execute_result",
          "data": {
            "text/html": [
              "<div>\n",
              "<style scoped>\n",
              "    .dataframe tbody tr th:only-of-type {\n",
              "        vertical-align: middle;\n",
              "    }\n",
              "\n",
              "    .dataframe tbody tr th {\n",
              "        vertical-align: top;\n",
              "    }\n",
              "\n",
              "    .dataframe thead th {\n",
              "        text-align: right;\n",
              "    }\n",
              "</style>\n",
              "<table border=\"1\" class=\"dataframe\">\n",
              "  <thead>\n",
              "    <tr style=\"text-align: right;\">\n",
              "      <th></th>\n",
              "      <th>AIRLINE</th>\n",
              "      <th>ORIGIN_AIRPORT</th>\n",
              "      <th>DESTINATION_AIRPORT</th>\n",
              "      <th>TAIL_NUMBER_mode</th>\n",
              "    </tr>\n",
              "  </thead>\n",
              "  <tbody>\n",
              "    <tr>\n",
              "      <th>0</th>\n",
              "      <td>AS</td>\n",
              "      <td>ANC</td>\n",
              "      <td>SEA</td>\n",
              "      <td>N407AS</td>\n",
              "    </tr>\n",
              "    <tr>\n",
              "      <th>1</th>\n",
              "      <td>AA</td>\n",
              "      <td>LAX</td>\n",
              "      <td>PBI</td>\n",
              "      <td>N3KUAA</td>\n",
              "    </tr>\n",
              "    <tr>\n",
              "      <th>2</th>\n",
              "      <td>US</td>\n",
              "      <td>SFO</td>\n",
              "      <td>CLT</td>\n",
              "      <td>N171US</td>\n",
              "    </tr>\n",
              "    <tr>\n",
              "      <th>3</th>\n",
              "      <td>AA</td>\n",
              "      <td>LAX</td>\n",
              "      <td>MIA</td>\n",
              "      <td>N3HYAA</td>\n",
              "    </tr>\n",
              "    <tr>\n",
              "      <th>4</th>\n",
              "      <td>AS</td>\n",
              "      <td>SEA</td>\n",
              "      <td>ANC</td>\n",
              "      <td>N527AS</td>\n",
              "    </tr>\n",
              "  </tbody>\n",
              "</table>\n",
              "</div>"
            ],
            "text/plain": [
              "  AIRLINE ORIGIN_AIRPORT DESTINATION_AIRPORT TAIL_NUMBER_mode\n",
              "0      AS            ANC                 SEA           N407AS\n",
              "1      AA            LAX                 PBI           N3KUAA\n",
              "2      US            SFO                 CLT           N171US\n",
              "3      AA            LAX                 MIA           N3HYAA\n",
              "4      AS            SEA                 ANC           N527AS"
            ]
          },
          "metadata": {
            "tags": []
          },
          "execution_count": 77
        }
      ]
    },
    {
      "cell_type": "code",
      "metadata": {
        "id": "CiBN99xEHFKd",
        "outputId": "2fc34c79-dc75-49fa-9b14-62cfa3f10dac",
        "colab": {
          "base_uri": "https://localhost:8080/",
          "height": 195
        }
      },
      "source": [
        "# Create the  Count encoder object\n",
        "df_train_cat_ce = df_train_cat_base.copy()\n",
        "count_enc = ce.CountEncoder()\n",
        "\n",
        "# Apply the count encoder to dataframe\n",
        "count_encoded = count_enc.fit_transform(df_train_cat_ce).add_suffix('_ce')\n",
        "count_encoded.head()\n",
        "\n",
        "\n"
      ],
      "execution_count": 78,
      "outputs": [
        {
          "output_type": "execute_result",
          "data": {
            "text/html": [
              "<div>\n",
              "<style scoped>\n",
              "    .dataframe tbody tr th:only-of-type {\n",
              "        vertical-align: middle;\n",
              "    }\n",
              "\n",
              "    .dataframe tbody tr th {\n",
              "        vertical-align: top;\n",
              "    }\n",
              "\n",
              "    .dataframe thead th {\n",
              "        text-align: right;\n",
              "    }\n",
              "</style>\n",
              "<table border=\"1\" class=\"dataframe\">\n",
              "  <thead>\n",
              "    <tr style=\"text-align: right;\">\n",
              "      <th></th>\n",
              "      <th>AIRLINE_ce</th>\n",
              "      <th>ORIGIN_AIRPORT_ce</th>\n",
              "      <th>DESTINATION_AIRPORT_ce</th>\n",
              "      <th>TAIL_NUMBER_mode_ce</th>\n",
              "    </tr>\n",
              "  </thead>\n",
              "  <tbody>\n",
              "    <tr>\n",
              "      <th>0</th>\n",
              "      <td>23749</td>\n",
              "      <td>2073</td>\n",
              "      <td>15058</td>\n",
              "      <td>194</td>\n",
              "    </tr>\n",
              "    <tr>\n",
              "      <th>1</th>\n",
              "      <td>78335</td>\n",
              "      <td>30867</td>\n",
              "      <td>4353</td>\n",
              "      <td>158</td>\n",
              "    </tr>\n",
              "    <tr>\n",
              "      <th>2</th>\n",
              "      <td>59437</td>\n",
              "      <td>22819</td>\n",
              "      <td>16524</td>\n",
              "      <td>195</td>\n",
              "    </tr>\n",
              "    <tr>\n",
              "      <th>3</th>\n",
              "      <td>78335</td>\n",
              "      <td>30867</td>\n",
              "      <td>11867</td>\n",
              "      <td>152</td>\n",
              "    </tr>\n",
              "    <tr>\n",
              "      <th>4</th>\n",
              "      <td>23749</td>\n",
              "      <td>15064</td>\n",
              "      <td>2059</td>\n",
              "      <td>184</td>\n",
              "    </tr>\n",
              "  </tbody>\n",
              "</table>\n",
              "</div>"
            ],
            "text/plain": [
              "   AIRLINE_ce  ORIGIN_AIRPORT_ce  DESTINATION_AIRPORT_ce  TAIL_NUMBER_mode_ce\n",
              "0       23749               2073                   15058                  194\n",
              "1       78335              30867                    4353                  158\n",
              "2       59437              22819                   16524                  195\n",
              "3       78335              30867                   11867                  152\n",
              "4       23749              15064                    2059                  184"
            ]
          },
          "metadata": {
            "tags": []
          },
          "execution_count": 78
        }
      ]
    },
    {
      "cell_type": "code",
      "metadata": {
        "id": "cC2pjkPCJ3Ap",
        "outputId": "96259f88-0777-41da-d87e-dadd5dc47672",
        "colab": {
          "base_uri": "https://localhost:8080/",
          "height": 215
        }
      },
      "source": [
        "# We collect all of these features (numerical and categorical) in a new dataframe that we can use to train a count encoder-based model\n",
        "df_train_ce = df_train_num_final.join(count_encoded)\n",
        "df_train_ce.head()"
      ],
      "execution_count": 79,
      "outputs": [
        {
          "output_type": "execute_result",
          "data": {
            "text/html": [
              "<div>\n",
              "<style scoped>\n",
              "    .dataframe tbody tr th:only-of-type {\n",
              "        vertical-align: middle;\n",
              "    }\n",
              "\n",
              "    .dataframe tbody tr th {\n",
              "        vertical-align: top;\n",
              "    }\n",
              "\n",
              "    .dataframe thead th {\n",
              "        text-align: right;\n",
              "    }\n",
              "</style>\n",
              "<table border=\"1\" class=\"dataframe\">\n",
              "  <thead>\n",
              "    <tr style=\"text-align: right;\">\n",
              "      <th></th>\n",
              "      <th>DISTANCE</th>\n",
              "      <th>YEAR</th>\n",
              "      <th>SCHEDULED_DEPARTURE</th>\n",
              "      <th>MONTH</th>\n",
              "      <th>CANCELLED</th>\n",
              "      <th>DAY_OF_WEEK</th>\n",
              "      <th>SCHEDULED_TIME_mean</th>\n",
              "      <th>DAY</th>\n",
              "      <th>FLIGHT_NUMBER</th>\n",
              "      <th>SCHEDULED_ARRIVAL</th>\n",
              "      <th>AIRLINE_ce</th>\n",
              "      <th>ORIGIN_AIRPORT_ce</th>\n",
              "      <th>DESTINATION_AIRPORT_ce</th>\n",
              "      <th>TAIL_NUMBER_mode_ce</th>\n",
              "    </tr>\n",
              "  </thead>\n",
              "  <tbody>\n",
              "    <tr>\n",
              "      <th>0</th>\n",
              "      <td>1448</td>\n",
              "      <td>2015</td>\n",
              "      <td>5</td>\n",
              "      <td>1</td>\n",
              "      <td>0</td>\n",
              "      <td>4</td>\n",
              "      <td>205.0</td>\n",
              "      <td>1</td>\n",
              "      <td>98</td>\n",
              "      <td>430</td>\n",
              "      <td>23749</td>\n",
              "      <td>2073</td>\n",
              "      <td>15058</td>\n",
              "      <td>194</td>\n",
              "    </tr>\n",
              "    <tr>\n",
              "      <th>1</th>\n",
              "      <td>2330</td>\n",
              "      <td>2015</td>\n",
              "      <td>10</td>\n",
              "      <td>1</td>\n",
              "      <td>0</td>\n",
              "      <td>4</td>\n",
              "      <td>280.0</td>\n",
              "      <td>1</td>\n",
              "      <td>2336</td>\n",
              "      <td>750</td>\n",
              "      <td>78335</td>\n",
              "      <td>30867</td>\n",
              "      <td>4353</td>\n",
              "      <td>158</td>\n",
              "    </tr>\n",
              "    <tr>\n",
              "      <th>2</th>\n",
              "      <td>2296</td>\n",
              "      <td>2015</td>\n",
              "      <td>20</td>\n",
              "      <td>1</td>\n",
              "      <td>0</td>\n",
              "      <td>4</td>\n",
              "      <td>286.0</td>\n",
              "      <td>1</td>\n",
              "      <td>840</td>\n",
              "      <td>806</td>\n",
              "      <td>59437</td>\n",
              "      <td>22819</td>\n",
              "      <td>16524</td>\n",
              "      <td>195</td>\n",
              "    </tr>\n",
              "    <tr>\n",
              "      <th>3</th>\n",
              "      <td>2342</td>\n",
              "      <td>2015</td>\n",
              "      <td>20</td>\n",
              "      <td>1</td>\n",
              "      <td>0</td>\n",
              "      <td>4</td>\n",
              "      <td>285.0</td>\n",
              "      <td>1</td>\n",
              "      <td>258</td>\n",
              "      <td>805</td>\n",
              "      <td>78335</td>\n",
              "      <td>30867</td>\n",
              "      <td>11867</td>\n",
              "      <td>152</td>\n",
              "    </tr>\n",
              "    <tr>\n",
              "      <th>4</th>\n",
              "      <td>1448</td>\n",
              "      <td>2015</td>\n",
              "      <td>25</td>\n",
              "      <td>1</td>\n",
              "      <td>0</td>\n",
              "      <td>4</td>\n",
              "      <td>235.0</td>\n",
              "      <td>1</td>\n",
              "      <td>135</td>\n",
              "      <td>320</td>\n",
              "      <td>23749</td>\n",
              "      <td>15064</td>\n",
              "      <td>2059</td>\n",
              "      <td>184</td>\n",
              "    </tr>\n",
              "  </tbody>\n",
              "</table>\n",
              "</div>"
            ],
            "text/plain": [
              "   DISTANCE  YEAR  ...  DESTINATION_AIRPORT_ce  TAIL_NUMBER_mode_ce\n",
              "0      1448  2015  ...                   15058                  194\n",
              "1      2330  2015  ...                    4353                  158\n",
              "2      2296  2015  ...                   16524                  195\n",
              "3      2342  2015  ...                   11867                  152\n",
              "4      1448  2015  ...                    2059                  184\n",
              "\n",
              "[5 rows x 14 columns]"
            ]
          },
          "metadata": {
            "tags": []
          },
          "execution_count": 79
        }
      ]
    },
    {
      "cell_type": "code",
      "metadata": {
        "id": "JYtOqL9sKZfl",
        "outputId": "dd11412c-15c1-4777-cb5d-198ecef91df7",
        "colab": {
          "base_uri": "https://localhost:8080/"
        }
      },
      "source": [
        "# Display details of dataframe\n",
        "print(\"The shape of the count-encoded train-set is:\", (df_train_ce.shape))\n",
        "print(\"The number of rows in the count-encoded train-set is:\", str(df_train_ce.shape[0]))\n",
        "print(\"The number of columns in the count-encoded train-set is:\", str(df_train_ce.shape[1]))\n",
        "\n",
        "missing_valuestrain = df_train_ce.isnull().sum().sum()\n",
        "\n",
        "print(\"The number of missing values in the count-encoded train-set is:\", str(missing_valuestrain))"
      ],
      "execution_count": 80,
      "outputs": [
        {
          "output_type": "stream",
          "text": [
            "The shape of the count-encoded train-set is: (838858, 14)\n",
            "The number of rows in the count-encoded train-set is: 838858\n",
            "The number of columns in the count-encoded train-set is: 14\n",
            "The number of missing values in the count-encoded train-set is: 0\n"
          ],
          "name": "stdout"
        }
      ]
    },
    {
      "cell_type": "markdown",
      "metadata": {
        "id": "CqSs_xoiKwxO"
      },
      "source": [
        "### Target Encoded"
      ]
    },
    {
      "cell_type": "code",
      "metadata": {
        "id": "GBxz0-tzKzRl",
        "outputId": "e67c197c-6ce0-4ca6-f54b-3d181f527d65",
        "colab": {
          "base_uri": "https://localhost:8080/",
          "height": 195
        }
      },
      "source": [
        "# Let's recall the original categorical dataframe before any encoding\n",
        "\n",
        "df_train_cat_base.head()"
      ],
      "execution_count": 81,
      "outputs": [
        {
          "output_type": "execute_result",
          "data": {
            "text/html": [
              "<div>\n",
              "<style scoped>\n",
              "    .dataframe tbody tr th:only-of-type {\n",
              "        vertical-align: middle;\n",
              "    }\n",
              "\n",
              "    .dataframe tbody tr th {\n",
              "        vertical-align: top;\n",
              "    }\n",
              "\n",
              "    .dataframe thead th {\n",
              "        text-align: right;\n",
              "    }\n",
              "</style>\n",
              "<table border=\"1\" class=\"dataframe\">\n",
              "  <thead>\n",
              "    <tr style=\"text-align: right;\">\n",
              "      <th></th>\n",
              "      <th>AIRLINE</th>\n",
              "      <th>ORIGIN_AIRPORT</th>\n",
              "      <th>DESTINATION_AIRPORT</th>\n",
              "      <th>TAIL_NUMBER_mode</th>\n",
              "    </tr>\n",
              "  </thead>\n",
              "  <tbody>\n",
              "    <tr>\n",
              "      <th>0</th>\n",
              "      <td>AS</td>\n",
              "      <td>ANC</td>\n",
              "      <td>SEA</td>\n",
              "      <td>N407AS</td>\n",
              "    </tr>\n",
              "    <tr>\n",
              "      <th>1</th>\n",
              "      <td>AA</td>\n",
              "      <td>LAX</td>\n",
              "      <td>PBI</td>\n",
              "      <td>N3KUAA</td>\n",
              "    </tr>\n",
              "    <tr>\n",
              "      <th>2</th>\n",
              "      <td>US</td>\n",
              "      <td>SFO</td>\n",
              "      <td>CLT</td>\n",
              "      <td>N171US</td>\n",
              "    </tr>\n",
              "    <tr>\n",
              "      <th>3</th>\n",
              "      <td>AA</td>\n",
              "      <td>LAX</td>\n",
              "      <td>MIA</td>\n",
              "      <td>N3HYAA</td>\n",
              "    </tr>\n",
              "    <tr>\n",
              "      <th>4</th>\n",
              "      <td>AS</td>\n",
              "      <td>SEA</td>\n",
              "      <td>ANC</td>\n",
              "      <td>N527AS</td>\n",
              "    </tr>\n",
              "  </tbody>\n",
              "</table>\n",
              "</div>"
            ],
            "text/plain": [
              "  AIRLINE ORIGIN_AIRPORT DESTINATION_AIRPORT TAIL_NUMBER_mode\n",
              "0      AS            ANC                 SEA           N407AS\n",
              "1      AA            LAX                 PBI           N3KUAA\n",
              "2      US            SFO                 CLT           N171US\n",
              "3      AA            LAX                 MIA           N3HYAA\n",
              "4      AS            SEA                 ANC           N527AS"
            ]
          },
          "metadata": {
            "tags": []
          },
          "execution_count": 81
        }
      ]
    },
    {
      "cell_type": "code",
      "metadata": {
        "id": "Ke4Dtkb4K34z",
        "outputId": "bb4ed882-b522-41b4-e8e5-8c4625a5144f",
        "colab": {
          "base_uri": "https://localhost:8080/"
        }
      },
      "source": [
        "# Create the  Target encoder object\n",
        "df_train_cat_target = df_train_cat_base.copy()\n",
        "target_enc = ce.TargetEncoder(cols=cat_features)\n",
        "target_enc.fit(df_train_cat_target[cat_features],df_train_num_final['CANCELLED'] )\n",
        "\n",
        "\n",
        "# Transform the features, rename the columns with _target suffix, and join to dataframe\n",
        "target_encoded = target_enc.transform(df_train_cat_target[cat_features]).add_suffix('_target')\n",
        "\n"
      ],
      "execution_count": 82,
      "outputs": [
        {
          "output_type": "stream",
          "text": [
            "/usr/local/lib/python3.6/dist-packages/category_encoders/utils.py:21: FutureWarning: is_categorical is deprecated and will be removed in a future version.  Use is_categorical_dtype instead\n",
            "  elif pd.api.types.is_categorical(cols):\n"
          ],
          "name": "stderr"
        }
      ]
    },
    {
      "cell_type": "code",
      "metadata": {
        "id": "VexjUVNtO80q",
        "outputId": "fb82f27b-c7fa-44ef-ee05-15afe3958f47",
        "colab": {
          "base_uri": "https://localhost:8080/",
          "height": 215
        }
      },
      "source": [
        "# We collect all of these features (numerical and categorical) in a new dataframe that we can use to train a Target encoder-based model\n",
        "df_train_target = df_train_num_final.join(target_encoded)\n",
        "df_train_target.head()"
      ],
      "execution_count": 83,
      "outputs": [
        {
          "output_type": "execute_result",
          "data": {
            "text/html": [
              "<div>\n",
              "<style scoped>\n",
              "    .dataframe tbody tr th:only-of-type {\n",
              "        vertical-align: middle;\n",
              "    }\n",
              "\n",
              "    .dataframe tbody tr th {\n",
              "        vertical-align: top;\n",
              "    }\n",
              "\n",
              "    .dataframe thead th {\n",
              "        text-align: right;\n",
              "    }\n",
              "</style>\n",
              "<table border=\"1\" class=\"dataframe\">\n",
              "  <thead>\n",
              "    <tr style=\"text-align: right;\">\n",
              "      <th></th>\n",
              "      <th>DISTANCE</th>\n",
              "      <th>YEAR</th>\n",
              "      <th>SCHEDULED_DEPARTURE</th>\n",
              "      <th>MONTH</th>\n",
              "      <th>CANCELLED</th>\n",
              "      <th>DAY_OF_WEEK</th>\n",
              "      <th>SCHEDULED_TIME_mean</th>\n",
              "      <th>DAY</th>\n",
              "      <th>FLIGHT_NUMBER</th>\n",
              "      <th>SCHEDULED_ARRIVAL</th>\n",
              "      <th>AIRLINE_target</th>\n",
              "      <th>ORIGIN_AIRPORT_target</th>\n",
              "      <th>DESTINATION_AIRPORT_target</th>\n",
              "      <th>TAIL_NUMBER_mode_target</th>\n",
              "    </tr>\n",
              "  </thead>\n",
              "  <tbody>\n",
              "    <tr>\n",
              "      <th>0</th>\n",
              "      <td>1448</td>\n",
              "      <td>2015</td>\n",
              "      <td>5</td>\n",
              "      <td>1</td>\n",
              "      <td>0</td>\n",
              "      <td>4</td>\n",
              "      <td>205.0</td>\n",
              "      <td>1</td>\n",
              "      <td>98</td>\n",
              "      <td>430</td>\n",
              "      <td>0.006148</td>\n",
              "      <td>0.009648</td>\n",
              "      <td>0.008434</td>\n",
              "      <td>0.000000</td>\n",
              "    </tr>\n",
              "    <tr>\n",
              "      <th>1</th>\n",
              "      <td>2330</td>\n",
              "      <td>2015</td>\n",
              "      <td>10</td>\n",
              "      <td>1</td>\n",
              "      <td>0</td>\n",
              "      <td>4</td>\n",
              "      <td>280.0</td>\n",
              "      <td>1</td>\n",
              "      <td>2336</td>\n",
              "      <td>750</td>\n",
              "      <td>0.032042</td>\n",
              "      <td>0.017332</td>\n",
              "      <td>0.040432</td>\n",
              "      <td>0.025316</td>\n",
              "    </tr>\n",
              "    <tr>\n",
              "      <th>2</th>\n",
              "      <td>2296</td>\n",
              "      <td>2015</td>\n",
              "      <td>20</td>\n",
              "      <td>1</td>\n",
              "      <td>0</td>\n",
              "      <td>4</td>\n",
              "      <td>286.0</td>\n",
              "      <td>1</td>\n",
              "      <td>840</td>\n",
              "      <td>806</td>\n",
              "      <td>0.037165</td>\n",
              "      <td>0.027170</td>\n",
              "      <td>0.030077</td>\n",
              "      <td>0.000000</td>\n",
              "    </tr>\n",
              "    <tr>\n",
              "      <th>3</th>\n",
              "      <td>2342</td>\n",
              "      <td>2015</td>\n",
              "      <td>20</td>\n",
              "      <td>1</td>\n",
              "      <td>0</td>\n",
              "      <td>4</td>\n",
              "      <td>285.0</td>\n",
              "      <td>1</td>\n",
              "      <td>258</td>\n",
              "      <td>805</td>\n",
              "      <td>0.032042</td>\n",
              "      <td>0.017332</td>\n",
              "      <td>0.024859</td>\n",
              "      <td>0.000000</td>\n",
              "    </tr>\n",
              "    <tr>\n",
              "      <th>4</th>\n",
              "      <td>1448</td>\n",
              "      <td>2015</td>\n",
              "      <td>25</td>\n",
              "      <td>1</td>\n",
              "      <td>0</td>\n",
              "      <td>4</td>\n",
              "      <td>235.0</td>\n",
              "      <td>1</td>\n",
              "      <td>135</td>\n",
              "      <td>320</td>\n",
              "      <td>0.006148</td>\n",
              "      <td>0.007236</td>\n",
              "      <td>0.012142</td>\n",
              "      <td>0.000000</td>\n",
              "    </tr>\n",
              "  </tbody>\n",
              "</table>\n",
              "</div>"
            ],
            "text/plain": [
              "   DISTANCE  YEAR  ...  DESTINATION_AIRPORT_target  TAIL_NUMBER_mode_target\n",
              "0      1448  2015  ...                    0.008434                 0.000000\n",
              "1      2330  2015  ...                    0.040432                 0.025316\n",
              "2      2296  2015  ...                    0.030077                 0.000000\n",
              "3      2342  2015  ...                    0.024859                 0.000000\n",
              "4      1448  2015  ...                    0.012142                 0.000000\n",
              "\n",
              "[5 rows x 14 columns]"
            ]
          },
          "metadata": {
            "tags": []
          },
          "execution_count": 83
        }
      ]
    },
    {
      "cell_type": "code",
      "metadata": {
        "id": "K9rOVHpmQO_E",
        "outputId": "4533a7b1-8421-4e33-dc93-09400017b7b8",
        "colab": {
          "base_uri": "https://localhost:8080/"
        }
      },
      "source": [
        "# Display details of dataframe\n",
        "print(\"The shape of the Target-encoded train-set is:\", (df_train_target.shape))\n",
        "print(\"The number of rows in the Target-encoded train-set is:\", str(df_train_target.shape[0]))\n",
        "print(\"The number of columns in the Target-encoded train-set is:\", str(df_train_target.shape[1]))\n",
        "\n",
        "missing_valuestrain = df_train_ce.isnull().sum().sum()\n",
        "\n",
        "print(\"The number of missing values in the Target-encoded train-set is:\", str(missing_valuestrain))"
      ],
      "execution_count": 84,
      "outputs": [
        {
          "output_type": "stream",
          "text": [
            "The shape of the Target-encoded train-set is: (838858, 14)\n",
            "The number of rows in the Target-encoded train-set is: 838858\n",
            "The number of columns in the Target-encoded train-set is: 14\n",
            "The number of missing values in the Target-encoded train-set is: 0\n"
          ],
          "name": "stdout"
        }
      ]
    },
    {
      "cell_type": "markdown",
      "metadata": {
        "id": "ns7jPBI4Pivg"
      },
      "source": [
        "### CatBoost Encoding"
      ]
    },
    {
      "cell_type": "code",
      "metadata": {
        "id": "JQG_Ug7oPl4W",
        "outputId": "7189b373-3516-48af-e04a-482edca4e410",
        "colab": {
          "base_uri": "https://localhost:8080/",
          "height": 195
        }
      },
      "source": [
        "# Let's recall the original categorical dataframe before any encoding\n",
        "\n",
        "df_train_cat_base.head()"
      ],
      "execution_count": 85,
      "outputs": [
        {
          "output_type": "execute_result",
          "data": {
            "text/html": [
              "<div>\n",
              "<style scoped>\n",
              "    .dataframe tbody tr th:only-of-type {\n",
              "        vertical-align: middle;\n",
              "    }\n",
              "\n",
              "    .dataframe tbody tr th {\n",
              "        vertical-align: top;\n",
              "    }\n",
              "\n",
              "    .dataframe thead th {\n",
              "        text-align: right;\n",
              "    }\n",
              "</style>\n",
              "<table border=\"1\" class=\"dataframe\">\n",
              "  <thead>\n",
              "    <tr style=\"text-align: right;\">\n",
              "      <th></th>\n",
              "      <th>AIRLINE</th>\n",
              "      <th>ORIGIN_AIRPORT</th>\n",
              "      <th>DESTINATION_AIRPORT</th>\n",
              "      <th>TAIL_NUMBER_mode</th>\n",
              "    </tr>\n",
              "  </thead>\n",
              "  <tbody>\n",
              "    <tr>\n",
              "      <th>0</th>\n",
              "      <td>AS</td>\n",
              "      <td>ANC</td>\n",
              "      <td>SEA</td>\n",
              "      <td>N407AS</td>\n",
              "    </tr>\n",
              "    <tr>\n",
              "      <th>1</th>\n",
              "      <td>AA</td>\n",
              "      <td>LAX</td>\n",
              "      <td>PBI</td>\n",
              "      <td>N3KUAA</td>\n",
              "    </tr>\n",
              "    <tr>\n",
              "      <th>2</th>\n",
              "      <td>US</td>\n",
              "      <td>SFO</td>\n",
              "      <td>CLT</td>\n",
              "      <td>N171US</td>\n",
              "    </tr>\n",
              "    <tr>\n",
              "      <th>3</th>\n",
              "      <td>AA</td>\n",
              "      <td>LAX</td>\n",
              "      <td>MIA</td>\n",
              "      <td>N3HYAA</td>\n",
              "    </tr>\n",
              "    <tr>\n",
              "      <th>4</th>\n",
              "      <td>AS</td>\n",
              "      <td>SEA</td>\n",
              "      <td>ANC</td>\n",
              "      <td>N527AS</td>\n",
              "    </tr>\n",
              "  </tbody>\n",
              "</table>\n",
              "</div>"
            ],
            "text/plain": [
              "  AIRLINE ORIGIN_AIRPORT DESTINATION_AIRPORT TAIL_NUMBER_mode\n",
              "0      AS            ANC                 SEA           N407AS\n",
              "1      AA            LAX                 PBI           N3KUAA\n",
              "2      US            SFO                 CLT           N171US\n",
              "3      AA            LAX                 MIA           N3HYAA\n",
              "4      AS            SEA                 ANC           N527AS"
            ]
          },
          "metadata": {
            "tags": []
          },
          "execution_count": 85
        }
      ]
    },
    {
      "cell_type": "code",
      "metadata": {
        "id": "GiC0WkxLPp-r",
        "outputId": "84dec303-8524-4c88-8a26-efeee4ddd029",
        "colab": {
          "base_uri": "https://localhost:8080/"
        }
      },
      "source": [
        "# Create the  CatBoost encoder object\n",
        "df_train_cat_cb = df_train_cat_base.copy()\n",
        "cb_enc = ce.CatBoostEncoder(cols=cat_features)\n",
        "cb_enc.fit(df_train_cat_cb[cat_features],df_train_num_final['CANCELLED'] )\n",
        "\n",
        "\n",
        "# Transform the features, rename the columns with _target suffix, and join to dataframe\n",
        "cb_encoded = cb_enc.transform(df_train_cat_cb[cat_features]).add_suffix('_cb')"
      ],
      "execution_count": 86,
      "outputs": [
        {
          "output_type": "stream",
          "text": [
            "/usr/local/lib/python3.6/dist-packages/category_encoders/utils.py:21: FutureWarning: is_categorical is deprecated and will be removed in a future version.  Use is_categorical_dtype instead\n",
            "  elif pd.api.types.is_categorical(cols):\n"
          ],
          "name": "stderr"
        }
      ]
    },
    {
      "cell_type": "code",
      "metadata": {
        "id": "cY2JG-dAQKy7",
        "outputId": "6a5cf345-478f-4116-fdd9-9ed4ef16d645",
        "colab": {
          "base_uri": "https://localhost:8080/",
          "height": 215
        }
      },
      "source": [
        "# We collect all of these features (numerical and categorical) in a new dataframe that we can use to train a Target encoder-based model\n",
        "df_train_cb = df_train_num_final.join(cb_encoded)\n",
        "df_train_cb.head()"
      ],
      "execution_count": 87,
      "outputs": [
        {
          "output_type": "execute_result",
          "data": {
            "text/html": [
              "<div>\n",
              "<style scoped>\n",
              "    .dataframe tbody tr th:only-of-type {\n",
              "        vertical-align: middle;\n",
              "    }\n",
              "\n",
              "    .dataframe tbody tr th {\n",
              "        vertical-align: top;\n",
              "    }\n",
              "\n",
              "    .dataframe thead th {\n",
              "        text-align: right;\n",
              "    }\n",
              "</style>\n",
              "<table border=\"1\" class=\"dataframe\">\n",
              "  <thead>\n",
              "    <tr style=\"text-align: right;\">\n",
              "      <th></th>\n",
              "      <th>DISTANCE</th>\n",
              "      <th>YEAR</th>\n",
              "      <th>SCHEDULED_DEPARTURE</th>\n",
              "      <th>MONTH</th>\n",
              "      <th>CANCELLED</th>\n",
              "      <th>DAY_OF_WEEK</th>\n",
              "      <th>SCHEDULED_TIME_mean</th>\n",
              "      <th>DAY</th>\n",
              "      <th>FLIGHT_NUMBER</th>\n",
              "      <th>SCHEDULED_ARRIVAL</th>\n",
              "      <th>AIRLINE_cb</th>\n",
              "      <th>ORIGIN_AIRPORT_cb</th>\n",
              "      <th>DESTINATION_AIRPORT_cb</th>\n",
              "      <th>TAIL_NUMBER_mode_cb</th>\n",
              "    </tr>\n",
              "  </thead>\n",
              "  <tbody>\n",
              "    <tr>\n",
              "      <th>0</th>\n",
              "      <td>1448</td>\n",
              "      <td>2015</td>\n",
              "      <td>5</td>\n",
              "      <td>1</td>\n",
              "      <td>0</td>\n",
              "      <td>4</td>\n",
              "      <td>205.0</td>\n",
              "      <td>1</td>\n",
              "      <td>98</td>\n",
              "      <td>430</td>\n",
              "      <td>0.006149</td>\n",
              "      <td>0.009660</td>\n",
              "      <td>0.008436</td>\n",
              "      <td>0.000175</td>\n",
              "    </tr>\n",
              "    <tr>\n",
              "      <th>1</th>\n",
              "      <td>2330</td>\n",
              "      <td>2015</td>\n",
              "      <td>10</td>\n",
              "      <td>1</td>\n",
              "      <td>0</td>\n",
              "      <td>4</td>\n",
              "      <td>280.0</td>\n",
              "      <td>1</td>\n",
              "      <td>2336</td>\n",
              "      <td>750</td>\n",
              "      <td>0.032042</td>\n",
              "      <td>0.017333</td>\n",
              "      <td>0.040430</td>\n",
              "      <td>0.025372</td>\n",
              "    </tr>\n",
              "    <tr>\n",
              "      <th>2</th>\n",
              "      <td>2296</td>\n",
              "      <td>2015</td>\n",
              "      <td>20</td>\n",
              "      <td>1</td>\n",
              "      <td>0</td>\n",
              "      <td>4</td>\n",
              "      <td>286.0</td>\n",
              "      <td>1</td>\n",
              "      <td>840</td>\n",
              "      <td>806</td>\n",
              "      <td>0.037165</td>\n",
              "      <td>0.027171</td>\n",
              "      <td>0.030078</td>\n",
              "      <td>0.000174</td>\n",
              "    </tr>\n",
              "    <tr>\n",
              "      <th>3</th>\n",
              "      <td>2342</td>\n",
              "      <td>2015</td>\n",
              "      <td>20</td>\n",
              "      <td>1</td>\n",
              "      <td>0</td>\n",
              "      <td>4</td>\n",
              "      <td>285.0</td>\n",
              "      <td>1</td>\n",
              "      <td>258</td>\n",
              "      <td>805</td>\n",
              "      <td>0.032042</td>\n",
              "      <td>0.017333</td>\n",
              "      <td>0.024860</td>\n",
              "      <td>0.000223</td>\n",
              "    </tr>\n",
              "    <tr>\n",
              "      <th>4</th>\n",
              "      <td>1448</td>\n",
              "      <td>2015</td>\n",
              "      <td>25</td>\n",
              "      <td>1</td>\n",
              "      <td>0</td>\n",
              "      <td>4</td>\n",
              "      <td>235.0</td>\n",
              "      <td>1</td>\n",
              "      <td>135</td>\n",
              "      <td>320</td>\n",
              "      <td>0.006149</td>\n",
              "      <td>0.007238</td>\n",
              "      <td>0.012153</td>\n",
              "      <td>0.000185</td>\n",
              "    </tr>\n",
              "  </tbody>\n",
              "</table>\n",
              "</div>"
            ],
            "text/plain": [
              "   DISTANCE  YEAR  ...  DESTINATION_AIRPORT_cb  TAIL_NUMBER_mode_cb\n",
              "0      1448  2015  ...                0.008436             0.000175\n",
              "1      2330  2015  ...                0.040430             0.025372\n",
              "2      2296  2015  ...                0.030078             0.000174\n",
              "3      2342  2015  ...                0.024860             0.000223\n",
              "4      1448  2015  ...                0.012153             0.000185\n",
              "\n",
              "[5 rows x 14 columns]"
            ]
          },
          "metadata": {
            "tags": []
          },
          "execution_count": 87
        }
      ]
    },
    {
      "cell_type": "code",
      "metadata": {
        "id": "RjCD5Sr7Qn-T",
        "outputId": "4d0dc2ab-5659-43b6-bc19-91ec85356ced",
        "colab": {
          "base_uri": "https://localhost:8080/"
        }
      },
      "source": [
        "# Display details of dataframe\n",
        "print(\"The shape of the CatBoost-encoded train-set is:\", (df_train_cb.shape))\n",
        "print(\"The number of rows in the CatBoost-encoded train-set is:\", str(df_train_cb.shape[0]))\n",
        "print(\"The number of columns in the CatBoost-encoded train-set is:\", str(df_train_cb.shape[1]))\n",
        "\n",
        "missing_valuestrain = df_train_ce.isnull().sum().sum()\n",
        "\n",
        "print(\"The number of missing values in the CatBoost-encoded train-set is:\", str(missing_valuestrain))"
      ],
      "execution_count": 88,
      "outputs": [
        {
          "output_type": "stream",
          "text": [
            "The shape of the CatBoost-encoded train-set is: (838858, 14)\n",
            "The number of rows in the CatBoost-encoded train-set is: 838858\n",
            "The number of columns in the CatBoost-encoded train-set is: 14\n",
            "The number of missing values in the CatBoost-encoded train-set is: 0\n"
          ],
          "name": "stdout"
        }
      ]
    },
    {
      "cell_type": "markdown",
      "metadata": {
        "id": "oo28p9mNVDTZ"
      },
      "source": [
        "### Feature Selection"
      ]
    },
    {
      "cell_type": "markdown",
      "metadata": {
        "id": "Hvm6JSTV6zsw"
      },
      "source": [
        "##### Method 1: Univariate Feature Selection"
      ]
    },
    {
      "cell_type": "code",
      "metadata": {
        "id": "wYl__ldW8t0K",
        "outputId": "938cbb05-46d0-41ab-d239-9407fa988269",
        "colab": {
          "base_uri": "https://localhost:8080/",
          "height": 215
        }
      },
      "source": [
        "# Recall baseline dataframe\n",
        "df_train_bl.head()\n"
      ],
      "execution_count": 92,
      "outputs": [
        {
          "output_type": "execute_result",
          "data": {
            "text/html": [
              "<div>\n",
              "<style scoped>\n",
              "    .dataframe tbody tr th:only-of-type {\n",
              "        vertical-align: middle;\n",
              "    }\n",
              "\n",
              "    .dataframe tbody tr th {\n",
              "        vertical-align: top;\n",
              "    }\n",
              "\n",
              "    .dataframe thead th {\n",
              "        text-align: right;\n",
              "    }\n",
              "</style>\n",
              "<table border=\"1\" class=\"dataframe\">\n",
              "  <thead>\n",
              "    <tr style=\"text-align: right;\">\n",
              "      <th></th>\n",
              "      <th>DISTANCE</th>\n",
              "      <th>YEAR</th>\n",
              "      <th>SCHEDULED_DEPARTURE</th>\n",
              "      <th>MONTH</th>\n",
              "      <th>CANCELLED</th>\n",
              "      <th>DAY_OF_WEEK</th>\n",
              "      <th>SCHEDULED_TIME_mean</th>\n",
              "      <th>DAY</th>\n",
              "      <th>FLIGHT_NUMBER</th>\n",
              "      <th>SCHEDULED_ARRIVAL</th>\n",
              "      <th>AIRLINE</th>\n",
              "      <th>ORIGIN_AIRPORT</th>\n",
              "      <th>DESTINATION_AIRPORT</th>\n",
              "      <th>TAIL_NUMBER_mode</th>\n",
              "    </tr>\n",
              "  </thead>\n",
              "  <tbody>\n",
              "    <tr>\n",
              "      <th>0</th>\n",
              "      <td>1448</td>\n",
              "      <td>2015</td>\n",
              "      <td>5</td>\n",
              "      <td>1</td>\n",
              "      <td>0</td>\n",
              "      <td>4</td>\n",
              "      <td>205.0</td>\n",
              "      <td>1</td>\n",
              "      <td>98</td>\n",
              "      <td>430</td>\n",
              "      <td>1</td>\n",
              "      <td>15</td>\n",
              "      <td>271</td>\n",
              "      <td>1507</td>\n",
              "    </tr>\n",
              "    <tr>\n",
              "      <th>1</th>\n",
              "      <td>2330</td>\n",
              "      <td>2015</td>\n",
              "      <td>10</td>\n",
              "      <td>1</td>\n",
              "      <td>0</td>\n",
              "      <td>4</td>\n",
              "      <td>280.0</td>\n",
              "      <td>1</td>\n",
              "      <td>2336</td>\n",
              "      <td>750</td>\n",
              "      <td>0</td>\n",
              "      <td>171</td>\n",
              "      <td>229</td>\n",
              "      <td>1457</td>\n",
              "    </tr>\n",
              "    <tr>\n",
              "      <th>2</th>\n",
              "      <td>2296</td>\n",
              "      <td>2015</td>\n",
              "      <td>20</td>\n",
              "      <td>1</td>\n",
              "      <td>0</td>\n",
              "      <td>4</td>\n",
              "      <td>286.0</td>\n",
              "      <td>1</td>\n",
              "      <td>840</td>\n",
              "      <td>806</td>\n",
              "      <td>11</td>\n",
              "      <td>272</td>\n",
              "      <td>64</td>\n",
              "      <td>378</td>\n",
              "    </tr>\n",
              "    <tr>\n",
              "      <th>3</th>\n",
              "      <td>2342</td>\n",
              "      <td>2015</td>\n",
              "      <td>20</td>\n",
              "      <td>1</td>\n",
              "      <td>0</td>\n",
              "      <td>4</td>\n",
              "      <td>285.0</td>\n",
              "      <td>1</td>\n",
              "      <td>258</td>\n",
              "      <td>805</td>\n",
              "      <td>0</td>\n",
              "      <td>171</td>\n",
              "      <td>198</td>\n",
              "      <td>1417</td>\n",
              "    </tr>\n",
              "    <tr>\n",
              "      <th>4</th>\n",
              "      <td>1448</td>\n",
              "      <td>2015</td>\n",
              "      <td>25</td>\n",
              "      <td>1</td>\n",
              "      <td>0</td>\n",
              "      <td>4</td>\n",
              "      <td>235.0</td>\n",
              "      <td>1</td>\n",
              "      <td>135</td>\n",
              "      <td>320</td>\n",
              "      <td>1</td>\n",
              "      <td>271</td>\n",
              "      <td>15</td>\n",
              "      <td>2000</td>\n",
              "    </tr>\n",
              "  </tbody>\n",
              "</table>\n",
              "</div>"
            ],
            "text/plain": [
              "   DISTANCE  YEAR  ...  DESTINATION_AIRPORT  TAIL_NUMBER_mode\n",
              "0      1448  2015  ...                  271              1507\n",
              "1      2330  2015  ...                  229              1457\n",
              "2      2296  2015  ...                   64               378\n",
              "3      2342  2015  ...                  198              1417\n",
              "4      1448  2015  ...                   15              2000\n",
              "\n",
              "[5 rows x 14 columns]"
            ]
          },
          "metadata": {
            "tags": []
          },
          "execution_count": 92
        }
      ]
    },
    {
      "cell_type": "code",
      "metadata": {
        "id": "5BLGcUhT9osc",
        "outputId": "e49846f8-9012-42e9-97be-3aa6f98cc696",
        "colab": {
          "base_uri": "https://localhost:8080/"
        }
      },
      "source": [
        "# Extract feature columns from dataframe for further feature selection\n",
        "feature_cols = df_train_bl.columns.drop('CANCELLED')\n",
        "print(\"The total number of features in original dataframe is : \" , len(feature_cols))"
      ],
      "execution_count": 93,
      "outputs": [
        {
          "output_type": "stream",
          "text": [
            "The total number of features in original dataframe is :  13\n"
          ],
          "name": "stdout"
        }
      ]
    },
    {
      "cell_type": "code",
      "metadata": {
        "id": "qstyrUZLVHIM",
        "outputId": "1c265fcc-2f5c-4ae1-aabc-cd7c97f50fb3",
        "colab": {
          "base_uri": "https://localhost:8080/"
        }
      },
      "source": [
        "# implement the scikit learn feature selction with the select K best library\n",
        "from sklearn.feature_selection import SelectKBest, chi2, f_classif, mutual_info_classif, mutual_info_regression\n",
        "\n",
        "# Keep 5 features\n",
        "selector_fclass = SelectKBest(f_classif, 5)\n",
        "\n",
        "Xnew_fclass = selector_fclass.fit_transform(df_train_bl[feature_cols], df_train_bl['CANCELLED'])\n",
        "\n",
        "Xnew_fclass\n"
      ],
      "execution_count": 94,
      "outputs": [
        {
          "output_type": "stream",
          "text": [
            "/usr/local/lib/python3.6/dist-packages/sklearn/feature_selection/_univariate_selection.py:114: UserWarning: Features [1] are constant.\n",
            "  UserWarning)\n",
            "/usr/local/lib/python3.6/dist-packages/sklearn/feature_selection/_univariate_selection.py:115: RuntimeWarning: invalid value encountered in true_divide\n",
            "  f = msb / msw\n"
          ],
          "name": "stderr"
        },
        {
          "output_type": "execute_result",
          "data": {
            "text/plain": [
              "array([[1.448e+03, 1.000e+00, 4.000e+00, 9.800e+01, 1.507e+03],\n",
              "       [2.330e+03, 1.000e+00, 4.000e+00, 2.336e+03, 1.457e+03],\n",
              "       [2.296e+03, 1.000e+00, 4.000e+00, 8.400e+02, 3.780e+02],\n",
              "       ...,\n",
              "       [3.330e+02, 2.000e+00, 3.000e+00, 9.000e+00, 9.840e+02],\n",
              "       [1.052e+03, 2.000e+00, 3.000e+00, 5.840e+02, 3.853e+03],\n",
              "       [2.360e+02, 2.000e+00, 3.000e+00, 4.020e+03, 5.670e+02]])"
            ]
          },
          "metadata": {
            "tags": []
          },
          "execution_count": 94
        }
      ]
    },
    {
      "cell_type": "code",
      "metadata": {
        "id": "FOewR_vgAFP2",
        "outputId": "f43abc77-d3a8-4860-f1a2-598a310aaaf9",
        "colab": {
          "base_uri": "https://localhost:8080/",
          "height": 215
        }
      },
      "source": [
        "#Get back the features we've kept, zero out all other features\n",
        "selected_features_fclass = pd.DataFrame(selector_fclass.inverse_transform(Xnew_fclass), \n",
        "                                 index=df_train_bl.index, \n",
        "                                 columns=feature_cols)\n",
        "selected_features_fclass.head()"
      ],
      "execution_count": 95,
      "outputs": [
        {
          "output_type": "execute_result",
          "data": {
            "text/html": [
              "<div>\n",
              "<style scoped>\n",
              "    .dataframe tbody tr th:only-of-type {\n",
              "        vertical-align: middle;\n",
              "    }\n",
              "\n",
              "    .dataframe tbody tr th {\n",
              "        vertical-align: top;\n",
              "    }\n",
              "\n",
              "    .dataframe thead th {\n",
              "        text-align: right;\n",
              "    }\n",
              "</style>\n",
              "<table border=\"1\" class=\"dataframe\">\n",
              "  <thead>\n",
              "    <tr style=\"text-align: right;\">\n",
              "      <th></th>\n",
              "      <th>DISTANCE</th>\n",
              "      <th>YEAR</th>\n",
              "      <th>SCHEDULED_DEPARTURE</th>\n",
              "      <th>MONTH</th>\n",
              "      <th>DAY_OF_WEEK</th>\n",
              "      <th>SCHEDULED_TIME_mean</th>\n",
              "      <th>DAY</th>\n",
              "      <th>FLIGHT_NUMBER</th>\n",
              "      <th>SCHEDULED_ARRIVAL</th>\n",
              "      <th>AIRLINE</th>\n",
              "      <th>ORIGIN_AIRPORT</th>\n",
              "      <th>DESTINATION_AIRPORT</th>\n",
              "      <th>TAIL_NUMBER_mode</th>\n",
              "    </tr>\n",
              "  </thead>\n",
              "  <tbody>\n",
              "    <tr>\n",
              "      <th>0</th>\n",
              "      <td>1448.0</td>\n",
              "      <td>0.0</td>\n",
              "      <td>0.0</td>\n",
              "      <td>1.0</td>\n",
              "      <td>4.0</td>\n",
              "      <td>0.0</td>\n",
              "      <td>0.0</td>\n",
              "      <td>98.0</td>\n",
              "      <td>0.0</td>\n",
              "      <td>0.0</td>\n",
              "      <td>0.0</td>\n",
              "      <td>0.0</td>\n",
              "      <td>1507.0</td>\n",
              "    </tr>\n",
              "    <tr>\n",
              "      <th>1</th>\n",
              "      <td>2330.0</td>\n",
              "      <td>0.0</td>\n",
              "      <td>0.0</td>\n",
              "      <td>1.0</td>\n",
              "      <td>4.0</td>\n",
              "      <td>0.0</td>\n",
              "      <td>0.0</td>\n",
              "      <td>2336.0</td>\n",
              "      <td>0.0</td>\n",
              "      <td>0.0</td>\n",
              "      <td>0.0</td>\n",
              "      <td>0.0</td>\n",
              "      <td>1457.0</td>\n",
              "    </tr>\n",
              "    <tr>\n",
              "      <th>2</th>\n",
              "      <td>2296.0</td>\n",
              "      <td>0.0</td>\n",
              "      <td>0.0</td>\n",
              "      <td>1.0</td>\n",
              "      <td>4.0</td>\n",
              "      <td>0.0</td>\n",
              "      <td>0.0</td>\n",
              "      <td>840.0</td>\n",
              "      <td>0.0</td>\n",
              "      <td>0.0</td>\n",
              "      <td>0.0</td>\n",
              "      <td>0.0</td>\n",
              "      <td>378.0</td>\n",
              "    </tr>\n",
              "    <tr>\n",
              "      <th>3</th>\n",
              "      <td>2342.0</td>\n",
              "      <td>0.0</td>\n",
              "      <td>0.0</td>\n",
              "      <td>1.0</td>\n",
              "      <td>4.0</td>\n",
              "      <td>0.0</td>\n",
              "      <td>0.0</td>\n",
              "      <td>258.0</td>\n",
              "      <td>0.0</td>\n",
              "      <td>0.0</td>\n",
              "      <td>0.0</td>\n",
              "      <td>0.0</td>\n",
              "      <td>1417.0</td>\n",
              "    </tr>\n",
              "    <tr>\n",
              "      <th>4</th>\n",
              "      <td>1448.0</td>\n",
              "      <td>0.0</td>\n",
              "      <td>0.0</td>\n",
              "      <td>1.0</td>\n",
              "      <td>4.0</td>\n",
              "      <td>0.0</td>\n",
              "      <td>0.0</td>\n",
              "      <td>135.0</td>\n",
              "      <td>0.0</td>\n",
              "      <td>0.0</td>\n",
              "      <td>0.0</td>\n",
              "      <td>0.0</td>\n",
              "      <td>2000.0</td>\n",
              "    </tr>\n",
              "  </tbody>\n",
              "</table>\n",
              "</div>"
            ],
            "text/plain": [
              "   DISTANCE  YEAR  ...  DESTINATION_AIRPORT  TAIL_NUMBER_mode\n",
              "0    1448.0   0.0  ...                  0.0            1507.0\n",
              "1    2330.0   0.0  ...                  0.0            1457.0\n",
              "2    2296.0   0.0  ...                  0.0             378.0\n",
              "3    2342.0   0.0  ...                  0.0            1417.0\n",
              "4    1448.0   0.0  ...                  0.0            2000.0\n",
              "\n",
              "[5 rows x 13 columns]"
            ]
          },
          "metadata": {
            "tags": []
          },
          "execution_count": 95
        }
      ]
    },
    {
      "cell_type": "code",
      "metadata": {
        "id": "yFEcg8_OAxcO",
        "outputId": "d2061ade-7143-4e75-da4b-ffb44d40a096",
        "colab": {
          "base_uri": "https://localhost:8080/"
        }
      },
      "source": [
        "# Dropped columns have values of all 0s, so var is 0, drop them\n",
        "selected_columns = selected_features_fclass.columns[selected_features_fclass.var() != 0]\n",
        "selected_columns\n",
        "\n",
        "# Get the validation dataset with the selected features.\n",
        "#valid[selected_columns].head()"
      ],
      "execution_count": 96,
      "outputs": [
        {
          "output_type": "execute_result",
          "data": {
            "text/plain": [
              "Index(['DISTANCE', 'MONTH', 'DAY_OF_WEEK', 'FLIGHT_NUMBER',\n",
              "       'TAIL_NUMBER_mode'],\n",
              "      dtype='object')"
            ]
          },
          "metadata": {
            "tags": []
          },
          "execution_count": 96
        }
      ]
    },
    {
      "cell_type": "code",
      "metadata": {
        "id": "0aQgByS-Blm8",
        "outputId": "cf155299-9518-42aa-95bd-278892d7d06e",
        "colab": {
          "base_uri": "https://localhost:8080/",
          "height": 215
        }
      },
      "source": [
        "# Repating the above using chi-squared\n",
        "df_train_bl.head()"
      ],
      "execution_count": 97,
      "outputs": [
        {
          "output_type": "execute_result",
          "data": {
            "text/html": [
              "<div>\n",
              "<style scoped>\n",
              "    .dataframe tbody tr th:only-of-type {\n",
              "        vertical-align: middle;\n",
              "    }\n",
              "\n",
              "    .dataframe tbody tr th {\n",
              "        vertical-align: top;\n",
              "    }\n",
              "\n",
              "    .dataframe thead th {\n",
              "        text-align: right;\n",
              "    }\n",
              "</style>\n",
              "<table border=\"1\" class=\"dataframe\">\n",
              "  <thead>\n",
              "    <tr style=\"text-align: right;\">\n",
              "      <th></th>\n",
              "      <th>DISTANCE</th>\n",
              "      <th>YEAR</th>\n",
              "      <th>SCHEDULED_DEPARTURE</th>\n",
              "      <th>MONTH</th>\n",
              "      <th>CANCELLED</th>\n",
              "      <th>DAY_OF_WEEK</th>\n",
              "      <th>SCHEDULED_TIME_mean</th>\n",
              "      <th>DAY</th>\n",
              "      <th>FLIGHT_NUMBER</th>\n",
              "      <th>SCHEDULED_ARRIVAL</th>\n",
              "      <th>AIRLINE</th>\n",
              "      <th>ORIGIN_AIRPORT</th>\n",
              "      <th>DESTINATION_AIRPORT</th>\n",
              "      <th>TAIL_NUMBER_mode</th>\n",
              "    </tr>\n",
              "  </thead>\n",
              "  <tbody>\n",
              "    <tr>\n",
              "      <th>0</th>\n",
              "      <td>1448</td>\n",
              "      <td>2015</td>\n",
              "      <td>5</td>\n",
              "      <td>1</td>\n",
              "      <td>0</td>\n",
              "      <td>4</td>\n",
              "      <td>205.0</td>\n",
              "      <td>1</td>\n",
              "      <td>98</td>\n",
              "      <td>430</td>\n",
              "      <td>1</td>\n",
              "      <td>15</td>\n",
              "      <td>271</td>\n",
              "      <td>1507</td>\n",
              "    </tr>\n",
              "    <tr>\n",
              "      <th>1</th>\n",
              "      <td>2330</td>\n",
              "      <td>2015</td>\n",
              "      <td>10</td>\n",
              "      <td>1</td>\n",
              "      <td>0</td>\n",
              "      <td>4</td>\n",
              "      <td>280.0</td>\n",
              "      <td>1</td>\n",
              "      <td>2336</td>\n",
              "      <td>750</td>\n",
              "      <td>0</td>\n",
              "      <td>171</td>\n",
              "      <td>229</td>\n",
              "      <td>1457</td>\n",
              "    </tr>\n",
              "    <tr>\n",
              "      <th>2</th>\n",
              "      <td>2296</td>\n",
              "      <td>2015</td>\n",
              "      <td>20</td>\n",
              "      <td>1</td>\n",
              "      <td>0</td>\n",
              "      <td>4</td>\n",
              "      <td>286.0</td>\n",
              "      <td>1</td>\n",
              "      <td>840</td>\n",
              "      <td>806</td>\n",
              "      <td>11</td>\n",
              "      <td>272</td>\n",
              "      <td>64</td>\n",
              "      <td>378</td>\n",
              "    </tr>\n",
              "    <tr>\n",
              "      <th>3</th>\n",
              "      <td>2342</td>\n",
              "      <td>2015</td>\n",
              "      <td>20</td>\n",
              "      <td>1</td>\n",
              "      <td>0</td>\n",
              "      <td>4</td>\n",
              "      <td>285.0</td>\n",
              "      <td>1</td>\n",
              "      <td>258</td>\n",
              "      <td>805</td>\n",
              "      <td>0</td>\n",
              "      <td>171</td>\n",
              "      <td>198</td>\n",
              "      <td>1417</td>\n",
              "    </tr>\n",
              "    <tr>\n",
              "      <th>4</th>\n",
              "      <td>1448</td>\n",
              "      <td>2015</td>\n",
              "      <td>25</td>\n",
              "      <td>1</td>\n",
              "      <td>0</td>\n",
              "      <td>4</td>\n",
              "      <td>235.0</td>\n",
              "      <td>1</td>\n",
              "      <td>135</td>\n",
              "      <td>320</td>\n",
              "      <td>1</td>\n",
              "      <td>271</td>\n",
              "      <td>15</td>\n",
              "      <td>2000</td>\n",
              "    </tr>\n",
              "  </tbody>\n",
              "</table>\n",
              "</div>"
            ],
            "text/plain": [
              "   DISTANCE  YEAR  ...  DESTINATION_AIRPORT  TAIL_NUMBER_mode\n",
              "0      1448  2015  ...                  271              1507\n",
              "1      2330  2015  ...                  229              1457\n",
              "2      2296  2015  ...                   64               378\n",
              "3      2342  2015  ...                  198              1417\n",
              "4      1448  2015  ...                   15              2000\n",
              "\n",
              "[5 rows x 14 columns]"
            ]
          },
          "metadata": {
            "tags": []
          },
          "execution_count": 97
        }
      ]
    },
    {
      "cell_type": "code",
      "metadata": {
        "id": "7kyi3XBCC131",
        "outputId": "a7177ac0-5716-4202-f874-a246ad13c168",
        "colab": {
          "base_uri": "https://localhost:8080/"
        }
      },
      "source": [
        "#Get back the features we've kept, zero out all other features\n",
        "selector_chi = SelectKBest(chi2, 5)\n",
        "Xnew_chi = selector_chi.fit_transform(df_train_bl[feature_cols], df_train_bl['CANCELLED'])\n",
        "selected_features_chi = pd.DataFrame(selector_chi.inverse_transform(Xnew_chi), \n",
        "                                 index=df_train_bl.index, \n",
        "                                 columns=feature_cols)\n",
        "\n",
        "# Dropped columns have values of all 0s, so var is 0, drop them\n",
        "selected_columns_chi = selected_features_chi.columns[selected_features_fclass.var() != 0]\n",
        "selected_columns_chi"
      ],
      "execution_count": 104,
      "outputs": [
        {
          "output_type": "execute_result",
          "data": {
            "text/plain": [
              "Index(['DISTANCE', 'MONTH', 'DAY_OF_WEEK', 'FLIGHT_NUMBER',\n",
              "       'TAIL_NUMBER_mode'],\n",
              "      dtype='object')"
            ]
          },
          "metadata": {
            "tags": []
          },
          "execution_count": 104
        }
      ]
    },
    {
      "cell_type": "markdown",
      "metadata": {
        "id": "6me2fdrqBQZq"
      },
      "source": [
        "#### Method 2: L1 Regularization"
      ]
    },
    {
      "cell_type": "code",
      "metadata": {
        "id": "qCB6uw9OBVrj",
        "outputId": "684f3ba3-06df-4aa6-acda-0ef83b465003",
        "colab": {
          "base_uri": "https://localhost:8080/"
        }
      },
      "source": [
        "# Implemet Lasso regularization to perform feature selction\n",
        "from sklearn.linear_model import LogisticRegression\n",
        "#from sklearn.linear_model import Lasso       # for regression problem\n",
        "from sklearn.feature_selection import SelectFromModel\n",
        "\n",
        "X_bl, y_bl = df_train_bl[df_train_bl.columns.drop(\"CANCELLED\")], df_train_bl['CANCELLED']\n",
        "\n",
        "# Set the regularization parameter C=1\n",
        "logistic = LogisticRegression(C=1, penalty=\"l1\", solver='liblinear', random_state=7).fit(X_bl, y_bl)\n",
        "\n",
        "model = SelectFromModel(logistic, prefit=True)\n",
        "\n",
        "X_bl_L1 = model.transform(X_bl)\n",
        "X_bl_L1"
      ],
      "execution_count": 107,
      "outputs": [
        {
          "output_type": "execute_result",
          "data": {
            "text/plain": [
              "array([[1448., 2015.,    5., ...,   15.,  271., 1507.],\n",
              "       [2330., 2015.,   10., ...,  171.,  229., 1457.],\n",
              "       [2296., 2015.,   20., ...,  272.,   64.,  378.],\n",
              "       ...,\n",
              "       [ 333., 2015.,  700., ...,  147.,   79.,  984.],\n",
              "       [1052., 2015.,  700., ...,  155.,  229., 3853.],\n",
              "       [ 236., 2015.,  700., ...,  169.,  171.,  567.]])"
            ]
          },
          "metadata": {
            "tags": []
          },
          "execution_count": 107
        }
      ]
    },
    {
      "cell_type": "code",
      "metadata": {
        "id": "Ey5PwaFYHA7m",
        "outputId": "6bb5e522-535b-4099-8d41-072b93309aaf",
        "colab": {
          "base_uri": "https://localhost:8080/"
        }
      },
      "source": [
        "# Get back the kept features as a DataFrame with dropped columns as all 0s\n",
        "selected_features_L1 = pd.DataFrame(model.inverse_transform(X_bl_L1), \n",
        "                                 index=X_bl.index, \n",
        "                                 columns=feature_cols)\n",
        "\n",
        "# Dropped columns have values of all 0s, so var is 0, drop them\n",
        "selected_columns_L1 = selected_features_L1.columns[selected_features_L1.var() != 0]\n",
        "selected_columns_L1"
      ],
      "execution_count": 108,
      "outputs": [
        {
          "output_type": "execute_result",
          "data": {
            "text/plain": [
              "Index(['DISTANCE', 'SCHEDULED_DEPARTURE', 'MONTH', 'DAY_OF_WEEK',\n",
              "       'SCHEDULED_TIME_mean', 'DAY', 'FLIGHT_NUMBER', 'SCHEDULED_ARRIVAL',\n",
              "       'AIRLINE', 'ORIGIN_AIRPORT', 'DESTINATION_AIRPORT', 'TAIL_NUMBER_mode'],\n",
              "      dtype='object')"
            ]
          },
          "metadata": {
            "tags": []
          },
          "execution_count": 108
        }
      ]
    }
  ]
}
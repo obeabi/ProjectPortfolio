{
  "nbformat": 4,
  "nbformat_minor": 0,
  "metadata": {
    "colab": {
      "provenance": [],
      "name": "TA_Weekly_Entry_etf.ipynb",
      "authorship_tag": "ABX9TyOgFL/B/c0dv0Roi+8bBa/z",
      "include_colab_link": true
    },
    "kernelspec": {
      "name": "python3",
      "display_name": "Python 3"
    },
    "language_info": {
      "name": "python"
    }
  },
  "cells": [
    {
      "cell_type": "markdown",
      "metadata": {
        "id": "view-in-github",
        "colab_type": "text"
      },
      "source": [
        "<a href=\"https://colab.research.google.com/github/obeabi/ProjectPortfolio/blob/master/TA_Weekly_Entry_etf.ipynb\" target=\"_parent\"><img src=\"https://colab.research.google.com/assets/colab-badge.svg\" alt=\"Open In Colab\"/></a>"
      ]
    },
    {
      "cell_type": "code",
      "source": [
        "#!pip install --upgrade yfinance\n",
        "!pip install ta pandas_ta"
      ],
      "metadata": {
        "colab": {
          "base_uri": "https://localhost:8080/"
        },
        "id": "Klw2WIf4amxd",
        "outputId": "c704f58f-2b3c-43bb-83d4-76cb862fbc75"
      },
      "execution_count": 62,
      "outputs": [
        {
          "output_type": "stream",
          "name": "stdout",
          "text": [
            "Requirement already satisfied: ta in /usr/local/lib/python3.11/dist-packages (0.11.0)\n",
            "Requirement already satisfied: pandas_ta in /usr/local/lib/python3.11/dist-packages (0.3.14b0)\n",
            "Requirement already satisfied: numpy in /usr/local/lib/python3.11/dist-packages (from ta) (1.26.4)\n",
            "Requirement already satisfied: pandas in /usr/local/lib/python3.11/dist-packages (from ta) (2.2.2)\n",
            "Requirement already satisfied: python-dateutil>=2.8.2 in /usr/local/lib/python3.11/dist-packages (from pandas->ta) (2.8.2)\n",
            "Requirement already satisfied: pytz>=2020.1 in /usr/local/lib/python3.11/dist-packages (from pandas->ta) (2025.1)\n",
            "Requirement already satisfied: tzdata>=2022.7 in /usr/local/lib/python3.11/dist-packages (from pandas->ta) (2025.1)\n",
            "Requirement already satisfied: six>=1.5 in /usr/local/lib/python3.11/dist-packages (from python-dateutil>=2.8.2->pandas->ta) (1.17.0)\n"
          ]
        }
      ]
    },
    {
      "cell_type": "code",
      "execution_count": 63,
      "metadata": {
        "colab": {
          "base_uri": "https://localhost:8080/"
        },
        "id": "feLesZUfcB8j",
        "outputId": "7f26c3b0-6893-4cc2-ddbc-dd3a2af0640a"
      },
      "outputs": [
        {
          "output_type": "stream",
          "name": "stdout",
          "text": [
            "0.2.54\n",
            "Libraries Installed!\n"
          ]
        }
      ],
      "source": [
        "import yfinance as yf\n",
        "print(yf.__version__)\n",
        "import pandas as pd\n",
        "import pandas_ta as ta\n",
        "import numpy as np\n",
        "import time\n",
        "import ta\n",
        "print(\"Libraries Installed!\")"
      ]
    },
    {
      "cell_type": "code",
      "source": [
        "# List of ETFs to analyze\n",
        "df = pd.read_csv('etf_list.csv')\n",
        "etfs = df['ETF'].to_list()\n",
        "#etfs =['XLP', 'XLF']\n",
        "print(etfs)\n",
        "\n"
      ],
      "metadata": {
        "colab": {
          "base_uri": "https://localhost:8080/"
        },
        "id": "9IKx7dj9cT5K",
        "outputId": "744e5787-7bd3-4573-faa8-9ca5ca453595"
      },
      "execution_count": 64,
      "outputs": [
        {
          "output_type": "stream",
          "name": "stdout",
          "text": [
            "['TSLS', 'MCHI', 'TCHI', 'GXC', 'EWP', 'EWO', 'EUFN', 'MORT', 'EWH', 'EWG', 'IHE', 'EWI', 'MSFD', 'FEZ', 'PPH', 'HEZU', 'IEV', 'IEUR', 'EWL', 'VGK', 'SPEU', 'PPIE', 'EWK', 'EFA', 'VEU', 'EWU', 'EFAX', 'VEA', 'DWMF', 'SPDW', 'IDEV', 'SMOG', 'XLP', 'XLF', 'XLV']\n"
          ]
        }
      ]
    },
    {
      "cell_type": "code",
      "source": [
        "# Function to fetch historical weekly data\n",
        "def get_weekly_data(ticker):\n",
        "  try:\n",
        "      df = yf.download(ticker, period=\"2y\", interval=\"1wk\")\n",
        "      df['20_week_SMA'] = df['Close'].rolling(window=20).mean()\n",
        "      df['50_week_SMA'] = df['Close'].rolling(window=50).mean()\n",
        "      df['RSI'] = compute_rsi(df['Close'])\n",
        "      df['ATR'] = compute_atr(df, 14)\n",
        "      df['OBV'] = compute_obv(df)\n",
        "      df['10_week_avg_volume'] = df['Volume'].rolling(window=10).mean()\n",
        "      df['ma'] = calculate_ma(df['RSI'])\n",
        "      df['upper_band'], df['lower_band'] = calculate_bollinger_bands(df['RSI'])\n",
        "      # Calculate MACD and Signal Line\n",
        "      df['12_EMA'] = df['Close'].ewm(span=12, adjust=False).mean()\n",
        "      df['26_EMA'] = df['Close'].ewm(span=26, adjust=False).mean()\n",
        "      # Compute MACD Line\n",
        "      df['MACD_Line'] = df['12_EMA'] - df['26_EMA']\n",
        "      # Compute Signal Line (9-day EMA of MACD Line)\n",
        "      df['Signal_Line'] = df['MACD_Line'].ewm(span=9, adjust=False).mean()\n",
        "      return df\n",
        "  except Exception as e:\n",
        "      print(\"There is an error getting weekly data\", e)\n",
        "\n",
        "def is_macd_bullish(macd_line: pd.Series, signal_line: pd.Series) -> bool:\n",
        "    \"\"\"\n",
        "    Determines if there is a bullish signal on the MACD indicator.\n",
        "    A bullish signal occurs when the MACD line is above the signal line.\n",
        "\n",
        "    Parameters:\n",
        "    - macd_line (pd.Series): The MACD line values.\n",
        "    - signal_line (pd.Series): The signal line values.\n",
        "\n",
        "    Returns:\n",
        "    - bool: True if a bullish signal is detected, otherwise False.\n",
        "    \"\"\"\n",
        "    if len(macd_line) < 3 or len(signal_line) < 3:\n",
        "        return False  # Not enough data to evaluate\n",
        "\n",
        "    # Check if the MACD line is above the signal line\n",
        "    if macd_line.iloc[-1] <= signal_line.iloc[-1]:\n",
        "        return False\n",
        "\n",
        "    # Check if the difference between MACD and signal line is increasing\n",
        "    diff_now = macd_line.iloc[-1] - signal_line.iloc[-1]\n",
        "    diff_prev = macd_line.iloc[-2] - signal_line.iloc[-2]\n",
        "    diff_earlier = macd_line.iloc[-3] - signal_line.iloc[-3]\n",
        "\n",
        "    # Check if the MACD line is above the signal line\n",
        "    return diff_prev > diff_earlier or diff_now > diff_prev\n",
        "\n",
        "# Function to compute RSI\n",
        "def compute_rsi(series, period=10):\n",
        "  try:\n",
        "    delta = series.diff()\n",
        "    gain = (delta.where(delta > 0, 0)).rolling(window=period).mean()\n",
        "    loss = (-delta.where(delta < 0, 0)).rolling(window=period).mean()\n",
        "    rs = gain / loss\n",
        "    return 100 - (100 / (1 + rs))\n",
        "  except Exception as e:\n",
        "        print(\"Something went wrong while computing the RSI:\", e)\n",
        "        return None\n",
        "\n",
        "def calculate_ma(data, length=10, ma_type=\"WMA\"):\n",
        "    if ma_type == \"SMA\":\n",
        "        return data.rolling(window=length).mean()\n",
        "    elif ma_type == \"EMA\":\n",
        "        return data.ewm(span=length, adjust=False).mean()\n",
        "    elif ma_type == \"WMA\":\n",
        "        weights = np.arange(1, length+1)\n",
        "        return data.rolling(length).apply(lambda x: np.dot(x, weights)/weights.sum(), raw=True)\n",
        "    elif ma_type == \"VWMA\":\n",
        "        return ta.volume_weighted_average_price(data, length)\n",
        "\n",
        "def calculate_bollinger_bands(data, length=10, std_dev=2.0):\n",
        "    sma = data.rolling(window=length).mean()\n",
        "    std_dev = data.rolling(window=length).std()\n",
        "    upper_band = sma + (std_dev * std_dev)\n",
        "    lower_band = sma - (std_dev * std_dev)\n",
        "    return upper_band, lower_band\n",
        "\n",
        "# Function to compute ATR (Average True Range)\n",
        "def compute_atr(df, period=10):\n",
        "  try:\n",
        "    df['High-Low'] = df['High'] - df['Low']\n",
        "    df['High-Close'] = abs(df['High'] - df['Close'].shift(1))\n",
        "    df['Low-Close'] = abs(df['Low'] - df['Close'].shift(1))\n",
        "    df['TR'] = df[['High-Low', 'High-Close', 'Low-Close']].max(axis=1)\n",
        "    return df['TR'].rolling(window=period).mean()\n",
        "  except Exception as e:\n",
        "      print(\"Something went wrong whilecomputing the ATR\", e)\n",
        "\n",
        "\n",
        "# Function to compute On-Balance Volume (OBV)\n",
        "def compute_obv(df):\n",
        "  try:\n",
        "    # Calculate daily price change: 1 if price is up, -1 if down, 0 if unchanged\n",
        "    price_change = df['Close'].diff()\n",
        "\n",
        "    # Use price change to decide whether to add or subtract volume\n",
        "    obv = (price_change > 0).astype(int) * df['Volume']  # Volume when price goes up\n",
        "    obv -= (price_change < 0).astype(int) * df['Volume']  # Volume when price goes down\n",
        "\n",
        "    # We accumulate the OBV by taking the cumulative sum of the volume changes\n",
        "    obv = obv.cumsum()\n",
        "\n",
        "    return obv\n",
        "  except Exception as e:\n",
        "      print(\"Something went wrong while computing the OBV\", e)\n",
        "\n",
        "\n",
        "# Function to calculate risk-reward ratio\n",
        "def calculate_risk_reward(df):\n",
        "  try:\n",
        "    if df.empty or len(df) < 20:  # Ensure there are enough data points\n",
        "        return np.nan\n",
        "\n",
        "    latest_price = df['Close'].iloc[-1].iloc[0]\n",
        "\n",
        "    # Use the ATR for setting support level\n",
        "    atr = df['ATR'].iloc[-1]  # Latest ATR value\n",
        "    atr_multiple = 2  # You can adjust this multiplier based on your strategy\n",
        "\n",
        "    # Calculate the support level using the ATR\n",
        "    trailing = atr * atr_multiple\n",
        "    support_level = latest_price - trailing\n",
        "    resistance_level = latest_price + (2*trailing)\n",
        "    risk = latest_price- support_level\n",
        "    reward = resistance_level - latest_price\n",
        "\n",
        "    # Ensure risk is greater than zero before division\n",
        "    if risk > 0:\n",
        "        risk_reward_ratio = reward / risk\n",
        "        return risk_reward_ratio if risk_reward_ratio > 0 else np.nan , support_level, resistance_level, latest_price, trailing\n",
        "    else:\n",
        "        return np.nan,np.nan, np.nan, np.nan, np.nan\n",
        "  except Exception as e:\n",
        "      print(\"Something went wrong while computing the reward-risk ratio\", e)\n",
        "\n",
        "# Function to fetch daily data\n",
        "def get_daily_data(ticker):\n",
        "    df = yf.download(ticker, period=\"1y\", interval=\"1d\")\n",
        "    df['20_day_SMA'] = df['Close'].rolling(window=20).mean()\n",
        "    df['20_day_EMA'] = df['Close'].ewm(span=20, adjust=False).mean()\n",
        "    df[\"Distance_EMA\"] = (df['Close']/ df['Close'].ewm(span=20, adjust=False).mean() ) - 1\n",
        "    df['RSI'] = compute_rsi(df['Close'],period=10)\n",
        "    df['ATR'] = compute_atr(df, 20)\n",
        "    df['ma'] = calculate_ma(df['RSI'])\n",
        "    df['upper_band'], df['lower_band'] = calculate_bollinger_bands(df['RSI'])\n",
        "    # Calculate MACD and Signal Line\n",
        "    df['12_EMA'] = df['Close'].ewm(span=12, adjust=False).mean()\n",
        "    df['26_EMA'] = df['Close'].ewm(span=26, adjust=False).mean()\n",
        "    # Compute MACD Line\n",
        "    df['MACD_Line'] = df['12_EMA'] - df['26_EMA']\n",
        "    # Compute Signal Line (9-day EMA of MACD Line)\n",
        "    df['Signal_Line'] = df['MACD_Line'].ewm(span=9, adjust=False).mean()\n",
        "    return df\n",
        "\n",
        "# Function to check weekly trend\n",
        "def is_weekly_trend_bullish(df):\n",
        "    if df.empty:\n",
        "        return False\n",
        "\n",
        "    latest_price = df['Close'].iloc[-1].iloc[0]\n",
        "    latest_sma = df['20_week_SMA'].iloc[-1]\n",
        "    latest_rsi = df['RSI'].iloc[-1]\n",
        "    macd_bullish_signal = is_macd_bullish(df['MACD_Line'], df['Signal_Line'])\n",
        "\n",
        "    return (latest_price > latest_sma) and (latest_rsi > 50) and macd_bullish_signal\n",
        "\n",
        "# Function to check daily entry signal\n",
        "def is_daily_entry_signal(df):\n",
        "    if df.empty:\n",
        "        return False\n",
        "\n",
        "    latest_price = df['Close'].iloc[-1].iloc[0]\n",
        "    prev_price = df['Close'].iloc[-2].iloc[0]\n",
        "    latest_sma = df['20_day_SMA'].iloc[-1]\n",
        "    latest_rsi = df['RSI'].iloc[-1]\n",
        "    latest_distance_20ema = df['Distance_EMA'].iloc[-1]\n",
        "    macd_bullish_signal = is_macd_bullish(df['MACD_Line'], df['Signal_Line'])\n",
        "\n",
        "    # Look for a breakout above 20-day SMA & RSI > 50\n",
        "    return (latest_price > latest_sma) and (latest_rsi > 50) and (latest_rsi < 75) or macd_bullish_signal\n",
        "\n",
        "# Check entry conditions\n",
        "def check_entry_conditions(tickers):\n",
        "    results = []\n",
        "    for ticker in tickers:\n",
        "      df = get_daily_data(ticker)\n",
        "      latest_price = df['Close'].iloc[-1].iloc[0]\n",
        "      prev_price = df['Close'].iloc[-2].iloc[0]\n",
        "      latest_sma = df['20_day_SMA'].iloc[-1]\n",
        "      latest_rsi = df['RSI'].iloc[-1]\n",
        "      latest_distance_20ema = df['Distance_EMA'].iloc[-1]\n",
        "      #print(\"Latest RSI is\", latest_rsi)\n",
        "      #print('\\tIs latest price above latest 20 sma?', latest_price > latest_sma)\n",
        "\n",
        "\n",
        "      if (latest_price >= latest_sma) and (latest_rsi< 70) :\n",
        "        if (latest_distance_20ema <= 0.02):\n",
        "          entry_signal= \"Enter full position\"\n",
        "        elif latest_distance_20ema <= 0.04:\n",
        "          entry_signal = \"Enter 50% now and rest later\"\n",
        "        else:\n",
        "          entry_signal= \"Wait for pullback\"\n",
        "      else:\n",
        "        entry_signal = \"RSI is overbought- Wait for pullback or latest price is below 20 SMA\"\n",
        "      results.append([ticker, entry_signal])\n",
        "    # Convert results to DataFrame\n",
        "    df_results = pd.DataFrame(results, columns=[\"ETF\", \"Entry_Signal\"])\n",
        "    return df_results\n",
        "\n",
        "# Multi-timeframe strategy check returning a DataFrame\n",
        "def check_mtf_entry(tickers):\n",
        "    results = []\n",
        "\n",
        "    for ticker in tickers:\n",
        "        weekly_df = get_weekly_data(ticker)\n",
        "        daily_df = get_daily_data(ticker)\n",
        "\n",
        "        if is_weekly_trend_bullish(weekly_df):\n",
        "            if is_daily_entry_signal(daily_df):\n",
        "                entry_signal = \"Entry Confirmed ✅\"\n",
        "            else:\n",
        "                entry_signal = \"No Entry Yet ⏳\"\n",
        "        else:\n",
        "            entry_signal = \"Weekly Trend Not Bullish ❌\"\n",
        "\n",
        "        results.append([ticker, entry_signal])\n",
        "        time.sleep(2)  # Add a delay of 1 second between requests\n",
        "\n",
        "    # Convert results to DataFrame\n",
        "    df_results = pd.DataFrame(results, columns=[\"ETF\", \"Entry_Signal\"])\n",
        "    return df_results"
      ],
      "metadata": {
        "id": "UjGkzJcGcy17"
      },
      "execution_count": 65,
      "outputs": []
    },
    {
      "cell_type": "code",
      "source": [
        "# Apply TA filters and prioritize ETFs\n",
        "results = []\n",
        "for etf in etfs:\n",
        "  df =get_weekly_data(etf)\n",
        "  price = df['Close'].iloc[-1].iloc[0]\n",
        "  above_20SMA = price > df['20_week_SMA'].iloc[-1]\n",
        "  above_50SMA = price > df['50_week_SMA'].iloc[-1]\n",
        "  rsi_ok = 40 <= df['RSI'].iloc[-1] <= 70 # Not overbought or oversold\n",
        "  volume_ok = df['Volume'].iloc[-1] > df['10_week_avg_volume'].iloc[-1] # Institutional interest\n",
        "  volume_ok = volume_ok.iloc[0]\n",
        "\n",
        "  # Calculate the OBV Moving Average\n",
        "  df['OBV_EMA'] = df['OBV'].ewm(span=10, adjust=False).mean()\n",
        "\n",
        "  # OBV trending up if current OBV is above the 20-period EMA\n",
        "  obv_trending_up = df['OBV'].iloc[-1] > df['OBV_EMA'].iloc[-1]\n",
        "  # obv_trending_up = df['OBV'].iloc[-1] > df['OBV'].iloc[-5] # OBV increasing over last 5 weeks\n",
        "\n",
        "  # OBV trending down if current OBV is below the 20-period EMA\n",
        "  obv_trending_down = df['OBV'].iloc[-1] < df['OBV_EMA'].iloc[-1]\n",
        "\n",
        "  trend_ok = above_20SMA and above_50SMA\n",
        "\n",
        "\n",
        "  if trend_ok and rsi_ok and (volume_ok and obv_trending_up):\n",
        "    print(f\" {etf} passes the first check on weekly timeframe!\")\n",
        "    results.append({\"ETF\": etf })\n",
        "  else:\n",
        "    print(f\" {etf} does not pass the first check on weekly timeframe!\")\n",
        "  time.sleep(2)  # Add a delay of 1 second between requests\n",
        "\n",
        "\n",
        "# Multi-time frame entry Check\n",
        "df_results = pd.DataFrame(results).dropna()\n",
        "etfs_to_check = df_results['ETF'].tolist()\n",
        "df_signals = check_mtf_entry(etfs_to_check)\n",
        "\n",
        "df_signals.head()\n",
        "\n"
      ],
      "metadata": {
        "colab": {
          "base_uri": "https://localhost:8080/",
          "height": 1000
        },
        "id": "lppiGKsqeGzm",
        "outputId": "ae13a2c5-4089-4ad9-9c05-8284a9f8a566"
      },
      "execution_count": 66,
      "outputs": [
        {
          "output_type": "stream",
          "name": "stderr",
          "text": [
            "\r[*********************100%***********************]  1 of 1 completed\n"
          ]
        },
        {
          "output_type": "stream",
          "name": "stdout",
          "text": [
            " TSLS does not pass the first check on weekly timeframe!\n"
          ]
        },
        {
          "output_type": "stream",
          "name": "stderr",
          "text": [
            "\r[*********************100%***********************]  1 of 1 completed\n"
          ]
        },
        {
          "output_type": "stream",
          "name": "stdout",
          "text": [
            " MCHI does not pass the first check on weekly timeframe!\n"
          ]
        },
        {
          "output_type": "stream",
          "name": "stderr",
          "text": [
            "\r[*********************100%***********************]  1 of 1 completed\n"
          ]
        },
        {
          "output_type": "stream",
          "name": "stdout",
          "text": [
            " TCHI does not pass the first check on weekly timeframe!\n"
          ]
        },
        {
          "output_type": "stream",
          "name": "stderr",
          "text": [
            "\r[*********************100%***********************]  1 of 1 completed\n"
          ]
        },
        {
          "output_type": "stream",
          "name": "stdout",
          "text": [
            " GXC does not pass the first check on weekly timeframe!\n"
          ]
        },
        {
          "output_type": "stream",
          "name": "stderr",
          "text": [
            "\r[*********************100%***********************]  1 of 1 completed\n"
          ]
        },
        {
          "output_type": "stream",
          "name": "stdout",
          "text": [
            " EWP does not pass the first check on weekly timeframe!\n"
          ]
        },
        {
          "output_type": "stream",
          "name": "stderr",
          "text": [
            "\r[*********************100%***********************]  1 of 1 completed\n"
          ]
        },
        {
          "output_type": "stream",
          "name": "stdout",
          "text": [
            " EWO does not pass the first check on weekly timeframe!\n"
          ]
        },
        {
          "output_type": "stream",
          "name": "stderr",
          "text": [
            "\r[*********************100%***********************]  1 of 1 completed\n"
          ]
        },
        {
          "output_type": "stream",
          "name": "stdout",
          "text": [
            " EUFN does not pass the first check on weekly timeframe!\n"
          ]
        },
        {
          "output_type": "stream",
          "name": "stderr",
          "text": [
            "\r[*********************100%***********************]  1 of 1 completed\n"
          ]
        },
        {
          "output_type": "stream",
          "name": "stdout",
          "text": [
            " MORT does not pass the first check on weekly timeframe!\n"
          ]
        },
        {
          "output_type": "stream",
          "name": "stderr",
          "text": [
            "\r[*********************100%***********************]  1 of 1 completed\n"
          ]
        },
        {
          "output_type": "stream",
          "name": "stdout",
          "text": [
            " EWH passes the first check on weekly timeframe!\n"
          ]
        },
        {
          "output_type": "stream",
          "name": "stderr",
          "text": [
            "\r[*********************100%***********************]  1 of 1 completed\n"
          ]
        },
        {
          "output_type": "stream",
          "name": "stdout",
          "text": [
            " EWG does not pass the first check on weekly timeframe!\n"
          ]
        },
        {
          "output_type": "stream",
          "name": "stderr",
          "text": [
            "\r[*********************100%***********************]  1 of 1 completed\n"
          ]
        },
        {
          "output_type": "stream",
          "name": "stdout",
          "text": [
            " IHE does not pass the first check on weekly timeframe!\n"
          ]
        },
        {
          "output_type": "stream",
          "name": "stderr",
          "text": [
            "\r[*********************100%***********************]  1 of 1 completed\n"
          ]
        },
        {
          "output_type": "stream",
          "name": "stdout",
          "text": [
            " EWI does not pass the first check on weekly timeframe!\n"
          ]
        },
        {
          "output_type": "stream",
          "name": "stderr",
          "text": [
            "\r[*********************100%***********************]  1 of 1 completed\n"
          ]
        },
        {
          "output_type": "stream",
          "name": "stdout",
          "text": [
            " MSFD does not pass the first check on weekly timeframe!\n"
          ]
        },
        {
          "output_type": "stream",
          "name": "stderr",
          "text": [
            "\r[*********************100%***********************]  1 of 1 completed\n"
          ]
        },
        {
          "output_type": "stream",
          "name": "stdout",
          "text": [
            " FEZ does not pass the first check on weekly timeframe!\n"
          ]
        },
        {
          "output_type": "stream",
          "name": "stderr",
          "text": [
            "\r[*********************100%***********************]  1 of 1 completed\n"
          ]
        },
        {
          "output_type": "stream",
          "name": "stdout",
          "text": [
            " PPH does not pass the first check on weekly timeframe!\n"
          ]
        },
        {
          "output_type": "stream",
          "name": "stderr",
          "text": [
            "\r[*********************100%***********************]  1 of 1 completed\n"
          ]
        },
        {
          "output_type": "stream",
          "name": "stdout",
          "text": [
            " HEZU does not pass the first check on weekly timeframe!\n"
          ]
        },
        {
          "output_type": "stream",
          "name": "stderr",
          "text": [
            "\r[*********************100%***********************]  1 of 1 completed\n"
          ]
        },
        {
          "output_type": "stream",
          "name": "stdout",
          "text": [
            " IEV does not pass the first check on weekly timeframe!\n"
          ]
        },
        {
          "output_type": "stream",
          "name": "stderr",
          "text": [
            "\r[*********************100%***********************]  1 of 1 completed\n"
          ]
        },
        {
          "output_type": "stream",
          "name": "stdout",
          "text": [
            " IEUR does not pass the first check on weekly timeframe!\n"
          ]
        },
        {
          "output_type": "stream",
          "name": "stderr",
          "text": [
            "\r[*********************100%***********************]  1 of 1 completed\n"
          ]
        },
        {
          "output_type": "stream",
          "name": "stdout",
          "text": [
            " EWL does not pass the first check on weekly timeframe!\n"
          ]
        },
        {
          "output_type": "stream",
          "name": "stderr",
          "text": [
            "\r[*********************100%***********************]  1 of 1 completed\n"
          ]
        },
        {
          "output_type": "stream",
          "name": "stdout",
          "text": [
            " VGK does not pass the first check on weekly timeframe!\n"
          ]
        },
        {
          "output_type": "stream",
          "name": "stderr",
          "text": [
            "\r[*********************100%***********************]  1 of 1 completed\n"
          ]
        },
        {
          "output_type": "stream",
          "name": "stdout",
          "text": [
            " SPEU does not pass the first check on weekly timeframe!\n"
          ]
        },
        {
          "output_type": "stream",
          "name": "stderr",
          "text": [
            "\r[*********************100%***********************]  1 of 1 completed\n"
          ]
        },
        {
          "output_type": "stream",
          "name": "stdout",
          "text": [
            " PPIE does not pass the first check on weekly timeframe!\n"
          ]
        },
        {
          "output_type": "stream",
          "name": "stderr",
          "text": [
            "\r[*********************100%***********************]  1 of 1 completed\n"
          ]
        },
        {
          "output_type": "stream",
          "name": "stdout",
          "text": [
            " EWK does not pass the first check on weekly timeframe!\n"
          ]
        },
        {
          "output_type": "stream",
          "name": "stderr",
          "text": [
            "\r[*********************100%***********************]  1 of 1 completed\n"
          ]
        },
        {
          "output_type": "stream",
          "name": "stdout",
          "text": [
            " EFA does not pass the first check on weekly timeframe!\n"
          ]
        },
        {
          "output_type": "stream",
          "name": "stderr",
          "text": [
            "\r[*********************100%***********************]  1 of 1 completed\n"
          ]
        },
        {
          "output_type": "stream",
          "name": "stdout",
          "text": [
            " VEU does not pass the first check on weekly timeframe!\n"
          ]
        },
        {
          "output_type": "stream",
          "name": "stderr",
          "text": [
            "\r[*********************100%***********************]  1 of 1 completed\n"
          ]
        },
        {
          "output_type": "stream",
          "name": "stdout",
          "text": [
            " EWU does not pass the first check on weekly timeframe!\n"
          ]
        },
        {
          "output_type": "stream",
          "name": "stderr",
          "text": [
            "\r[*********************100%***********************]  1 of 1 completed\n"
          ]
        },
        {
          "output_type": "stream",
          "name": "stdout",
          "text": [
            " EFAX does not pass the first check on weekly timeframe!\n"
          ]
        },
        {
          "output_type": "stream",
          "name": "stderr",
          "text": [
            "\r[*********************100%***********************]  1 of 1 completed\n"
          ]
        },
        {
          "output_type": "stream",
          "name": "stdout",
          "text": [
            " VEA does not pass the first check on weekly timeframe!\n"
          ]
        },
        {
          "output_type": "stream",
          "name": "stderr",
          "text": [
            "\r[*********************100%***********************]  1 of 1 completed\n"
          ]
        },
        {
          "output_type": "stream",
          "name": "stdout",
          "text": [
            " DWMF does not pass the first check on weekly timeframe!\n"
          ]
        },
        {
          "output_type": "stream",
          "name": "stderr",
          "text": [
            "\r[*********************100%***********************]  1 of 1 completed\n"
          ]
        },
        {
          "output_type": "stream",
          "name": "stdout",
          "text": [
            " SPDW does not pass the first check on weekly timeframe!\n"
          ]
        },
        {
          "output_type": "stream",
          "name": "stderr",
          "text": [
            "\r[*********************100%***********************]  1 of 1 completed\n"
          ]
        },
        {
          "output_type": "stream",
          "name": "stdout",
          "text": [
            " IDEV does not pass the first check on weekly timeframe!\n"
          ]
        },
        {
          "output_type": "stream",
          "name": "stderr",
          "text": [
            "\r[*********************100%***********************]  1 of 1 completed\n"
          ]
        },
        {
          "output_type": "stream",
          "name": "stdout",
          "text": [
            " SMOG does not pass the first check on weekly timeframe!\n"
          ]
        },
        {
          "output_type": "stream",
          "name": "stderr",
          "text": [
            "\r[*********************100%***********************]  1 of 1 completed\n"
          ]
        },
        {
          "output_type": "stream",
          "name": "stdout",
          "text": [
            " XLP passes the first check on weekly timeframe!\n"
          ]
        },
        {
          "output_type": "stream",
          "name": "stderr",
          "text": [
            "\r[*********************100%***********************]  1 of 1 completed\n"
          ]
        },
        {
          "output_type": "stream",
          "name": "stdout",
          "text": [
            " XLF passes the first check on weekly timeframe!\n"
          ]
        },
        {
          "output_type": "stream",
          "name": "stderr",
          "text": [
            "\r[*********************100%***********************]  1 of 1 completed\n"
          ]
        },
        {
          "output_type": "stream",
          "name": "stdout",
          "text": [
            " XLV does not pass the first check on weekly timeframe!\n"
          ]
        },
        {
          "output_type": "stream",
          "name": "stderr",
          "text": [
            "[*********************100%***********************]  1 of 1 completed\n",
            "[*********************100%***********************]  1 of 1 completed\n",
            "[*********************100%***********************]  1 of 1 completed\n",
            "[*********************100%***********************]  1 of 1 completed\n",
            "[*********************100%***********************]  1 of 1 completed\n",
            "[*********************100%***********************]  1 of 1 completed\n"
          ]
        },
        {
          "output_type": "execute_result",
          "data": {
            "text/plain": [
              "   ETF                Entry_Signal\n",
              "0  EWH           Entry Confirmed ✅\n",
              "1  XLP           Entry Confirmed ✅\n",
              "2  XLF  Weekly Trend Not Bullish ❌"
            ],
            "text/html": [
              "\n",
              "  <div id=\"df-4d32b294-2f53-407d-902a-56c58e93a04e\" class=\"colab-df-container\">\n",
              "    <div>\n",
              "<style scoped>\n",
              "    .dataframe tbody tr th:only-of-type {\n",
              "        vertical-align: middle;\n",
              "    }\n",
              "\n",
              "    .dataframe tbody tr th {\n",
              "        vertical-align: top;\n",
              "    }\n",
              "\n",
              "    .dataframe thead th {\n",
              "        text-align: right;\n",
              "    }\n",
              "</style>\n",
              "<table border=\"1\" class=\"dataframe\">\n",
              "  <thead>\n",
              "    <tr style=\"text-align: right;\">\n",
              "      <th></th>\n",
              "      <th>ETF</th>\n",
              "      <th>Entry_Signal</th>\n",
              "    </tr>\n",
              "  </thead>\n",
              "  <tbody>\n",
              "    <tr>\n",
              "      <th>0</th>\n",
              "      <td>EWH</td>\n",
              "      <td>Entry Confirmed ✅</td>\n",
              "    </tr>\n",
              "    <tr>\n",
              "      <th>1</th>\n",
              "      <td>XLP</td>\n",
              "      <td>Entry Confirmed ✅</td>\n",
              "    </tr>\n",
              "    <tr>\n",
              "      <th>2</th>\n",
              "      <td>XLF</td>\n",
              "      <td>Weekly Trend Not Bullish ❌</td>\n",
              "    </tr>\n",
              "  </tbody>\n",
              "</table>\n",
              "</div>\n",
              "    <div class=\"colab-df-buttons\">\n",
              "\n",
              "  <div class=\"colab-df-container\">\n",
              "    <button class=\"colab-df-convert\" onclick=\"convertToInteractive('df-4d32b294-2f53-407d-902a-56c58e93a04e')\"\n",
              "            title=\"Convert this dataframe to an interactive table.\"\n",
              "            style=\"display:none;\">\n",
              "\n",
              "  <svg xmlns=\"http://www.w3.org/2000/svg\" height=\"24px\" viewBox=\"0 -960 960 960\">\n",
              "    <path d=\"M120-120v-720h720v720H120Zm60-500h600v-160H180v160Zm220 220h160v-160H400v160Zm0 220h160v-160H400v160ZM180-400h160v-160H180v160Zm440 0h160v-160H620v160ZM180-180h160v-160H180v160Zm440 0h160v-160H620v160Z\"/>\n",
              "  </svg>\n",
              "    </button>\n",
              "\n",
              "  <style>\n",
              "    .colab-df-container {\n",
              "      display:flex;\n",
              "      gap: 12px;\n",
              "    }\n",
              "\n",
              "    .colab-df-convert {\n",
              "      background-color: #E8F0FE;\n",
              "      border: none;\n",
              "      border-radius: 50%;\n",
              "      cursor: pointer;\n",
              "      display: none;\n",
              "      fill: #1967D2;\n",
              "      height: 32px;\n",
              "      padding: 0 0 0 0;\n",
              "      width: 32px;\n",
              "    }\n",
              "\n",
              "    .colab-df-convert:hover {\n",
              "      background-color: #E2EBFA;\n",
              "      box-shadow: 0px 1px 2px rgba(60, 64, 67, 0.3), 0px 1px 3px 1px rgba(60, 64, 67, 0.15);\n",
              "      fill: #174EA6;\n",
              "    }\n",
              "\n",
              "    .colab-df-buttons div {\n",
              "      margin-bottom: 4px;\n",
              "    }\n",
              "\n",
              "    [theme=dark] .colab-df-convert {\n",
              "      background-color: #3B4455;\n",
              "      fill: #D2E3FC;\n",
              "    }\n",
              "\n",
              "    [theme=dark] .colab-df-convert:hover {\n",
              "      background-color: #434B5C;\n",
              "      box-shadow: 0px 1px 3px 1px rgba(0, 0, 0, 0.15);\n",
              "      filter: drop-shadow(0px 1px 2px rgba(0, 0, 0, 0.3));\n",
              "      fill: #FFFFFF;\n",
              "    }\n",
              "  </style>\n",
              "\n",
              "    <script>\n",
              "      const buttonEl =\n",
              "        document.querySelector('#df-4d32b294-2f53-407d-902a-56c58e93a04e button.colab-df-convert');\n",
              "      buttonEl.style.display =\n",
              "        google.colab.kernel.accessAllowed ? 'block' : 'none';\n",
              "\n",
              "      async function convertToInteractive(key) {\n",
              "        const element = document.querySelector('#df-4d32b294-2f53-407d-902a-56c58e93a04e');\n",
              "        const dataTable =\n",
              "          await google.colab.kernel.invokeFunction('convertToInteractive',\n",
              "                                                    [key], {});\n",
              "        if (!dataTable) return;\n",
              "\n",
              "        const docLinkHtml = 'Like what you see? Visit the ' +\n",
              "          '<a target=\"_blank\" href=https://colab.research.google.com/notebooks/data_table.ipynb>data table notebook</a>'\n",
              "          + ' to learn more about interactive tables.';\n",
              "        element.innerHTML = '';\n",
              "        dataTable['output_type'] = 'display_data';\n",
              "        await google.colab.output.renderOutput(dataTable, element);\n",
              "        const docLink = document.createElement('div');\n",
              "        docLink.innerHTML = docLinkHtml;\n",
              "        element.appendChild(docLink);\n",
              "      }\n",
              "    </script>\n",
              "  </div>\n",
              "\n",
              "\n",
              "<div id=\"df-c2f48c9c-3df6-4dcc-be4c-70a4945ead36\">\n",
              "  <button class=\"colab-df-quickchart\" onclick=\"quickchart('df-c2f48c9c-3df6-4dcc-be4c-70a4945ead36')\"\n",
              "            title=\"Suggest charts\"\n",
              "            style=\"display:none;\">\n",
              "\n",
              "<svg xmlns=\"http://www.w3.org/2000/svg\" height=\"24px\"viewBox=\"0 0 24 24\"\n",
              "     width=\"24px\">\n",
              "    <g>\n",
              "        <path d=\"M19 3H5c-1.1 0-2 .9-2 2v14c0 1.1.9 2 2 2h14c1.1 0 2-.9 2-2V5c0-1.1-.9-2-2-2zM9 17H7v-7h2v7zm4 0h-2V7h2v10zm4 0h-2v-4h2v4z\"/>\n",
              "    </g>\n",
              "</svg>\n",
              "  </button>\n",
              "\n",
              "<style>\n",
              "  .colab-df-quickchart {\n",
              "      --bg-color: #E8F0FE;\n",
              "      --fill-color: #1967D2;\n",
              "      --hover-bg-color: #E2EBFA;\n",
              "      --hover-fill-color: #174EA6;\n",
              "      --disabled-fill-color: #AAA;\n",
              "      --disabled-bg-color: #DDD;\n",
              "  }\n",
              "\n",
              "  [theme=dark] .colab-df-quickchart {\n",
              "      --bg-color: #3B4455;\n",
              "      --fill-color: #D2E3FC;\n",
              "      --hover-bg-color: #434B5C;\n",
              "      --hover-fill-color: #FFFFFF;\n",
              "      --disabled-bg-color: #3B4455;\n",
              "      --disabled-fill-color: #666;\n",
              "  }\n",
              "\n",
              "  .colab-df-quickchart {\n",
              "    background-color: var(--bg-color);\n",
              "    border: none;\n",
              "    border-radius: 50%;\n",
              "    cursor: pointer;\n",
              "    display: none;\n",
              "    fill: var(--fill-color);\n",
              "    height: 32px;\n",
              "    padding: 0;\n",
              "    width: 32px;\n",
              "  }\n",
              "\n",
              "  .colab-df-quickchart:hover {\n",
              "    background-color: var(--hover-bg-color);\n",
              "    box-shadow: 0 1px 2px rgba(60, 64, 67, 0.3), 0 1px 3px 1px rgba(60, 64, 67, 0.15);\n",
              "    fill: var(--button-hover-fill-color);\n",
              "  }\n",
              "\n",
              "  .colab-df-quickchart-complete:disabled,\n",
              "  .colab-df-quickchart-complete:disabled:hover {\n",
              "    background-color: var(--disabled-bg-color);\n",
              "    fill: var(--disabled-fill-color);\n",
              "    box-shadow: none;\n",
              "  }\n",
              "\n",
              "  .colab-df-spinner {\n",
              "    border: 2px solid var(--fill-color);\n",
              "    border-color: transparent;\n",
              "    border-bottom-color: var(--fill-color);\n",
              "    animation:\n",
              "      spin 1s steps(1) infinite;\n",
              "  }\n",
              "\n",
              "  @keyframes spin {\n",
              "    0% {\n",
              "      border-color: transparent;\n",
              "      border-bottom-color: var(--fill-color);\n",
              "      border-left-color: var(--fill-color);\n",
              "    }\n",
              "    20% {\n",
              "      border-color: transparent;\n",
              "      border-left-color: var(--fill-color);\n",
              "      border-top-color: var(--fill-color);\n",
              "    }\n",
              "    30% {\n",
              "      border-color: transparent;\n",
              "      border-left-color: var(--fill-color);\n",
              "      border-top-color: var(--fill-color);\n",
              "      border-right-color: var(--fill-color);\n",
              "    }\n",
              "    40% {\n",
              "      border-color: transparent;\n",
              "      border-right-color: var(--fill-color);\n",
              "      border-top-color: var(--fill-color);\n",
              "    }\n",
              "    60% {\n",
              "      border-color: transparent;\n",
              "      border-right-color: var(--fill-color);\n",
              "    }\n",
              "    80% {\n",
              "      border-color: transparent;\n",
              "      border-right-color: var(--fill-color);\n",
              "      border-bottom-color: var(--fill-color);\n",
              "    }\n",
              "    90% {\n",
              "      border-color: transparent;\n",
              "      border-bottom-color: var(--fill-color);\n",
              "    }\n",
              "  }\n",
              "</style>\n",
              "\n",
              "  <script>\n",
              "    async function quickchart(key) {\n",
              "      const quickchartButtonEl =\n",
              "        document.querySelector('#' + key + ' button');\n",
              "      quickchartButtonEl.disabled = true;  // To prevent multiple clicks.\n",
              "      quickchartButtonEl.classList.add('colab-df-spinner');\n",
              "      try {\n",
              "        const charts = await google.colab.kernel.invokeFunction(\n",
              "            'suggestCharts', [key], {});\n",
              "      } catch (error) {\n",
              "        console.error('Error during call to suggestCharts:', error);\n",
              "      }\n",
              "      quickchartButtonEl.classList.remove('colab-df-spinner');\n",
              "      quickchartButtonEl.classList.add('colab-df-quickchart-complete');\n",
              "    }\n",
              "    (() => {\n",
              "      let quickchartButtonEl =\n",
              "        document.querySelector('#df-c2f48c9c-3df6-4dcc-be4c-70a4945ead36 button');\n",
              "      quickchartButtonEl.style.display =\n",
              "        google.colab.kernel.accessAllowed ? 'block' : 'none';\n",
              "    })();\n",
              "  </script>\n",
              "</div>\n",
              "\n",
              "    </div>\n",
              "  </div>\n"
            ],
            "application/vnd.google.colaboratory.intrinsic+json": {
              "type": "dataframe",
              "variable_name": "df_signals",
              "summary": "{\n  \"name\": \"df_signals\",\n  \"rows\": 3,\n  \"fields\": [\n    {\n      \"column\": \"ETF\",\n      \"properties\": {\n        \"dtype\": \"string\",\n        \"num_unique_values\": 3,\n        \"samples\": [\n          \"EWH\",\n          \"XLP\",\n          \"XLF\"\n        ],\n        \"semantic_type\": \"\",\n        \"description\": \"\"\n      }\n    },\n    {\n      \"column\": \"Entry_Signal\",\n      \"properties\": {\n        \"dtype\": \"string\",\n        \"num_unique_values\": 2,\n        \"samples\": [\n          \"Weekly Trend Not Bullish \\u274c\",\n          \"Entry Confirmed \\u2705\"\n        ],\n        \"semantic_type\": \"\",\n        \"description\": \"\"\n      }\n    }\n  ]\n}"
            }
          },
          "metadata": {},
          "execution_count": 66
        }
      ]
    },
    {
      "cell_type": "markdown",
      "source": [
        "## Generate buy list"
      ],
      "metadata": {
        "id": "d7huoxuBlbOJ"
      }
    },
    {
      "cell_type": "code",
      "source": [
        "df_final = df_signals[df_signals['Entry_Signal'] ==\"Entry Confirmed ✅\"]\n",
        "final_etfs_to_check = df_final['ETF'].tolist()\n",
        "\n",
        "\n",
        "buy_list = check_entry_conditions(final_etfs_to_check)\n",
        "\n",
        "buy_list"
      ],
      "metadata": {
        "colab": {
          "base_uri": "https://localhost:8080/",
          "height": 160
        },
        "id": "6ZkXo-EzIHyZ",
        "outputId": "1b576909-d8c3-4632-ccb5-a7394561da78"
      },
      "execution_count": 67,
      "outputs": [
        {
          "output_type": "stream",
          "name": "stderr",
          "text": [
            "[*********************100%***********************]  1 of 1 completed\n",
            "[*********************100%***********************]  1 of 1 completed\n"
          ]
        },
        {
          "output_type": "execute_result",
          "data": {
            "text/plain": [
              "   ETF                                       Entry_Signal\n",
              "0  EWH  RSI is overbought- Wait for pullback or latest...\n",
              "1  XLP                                Enter full position"
            ],
            "text/html": [
              "\n",
              "  <div id=\"df-19c270d0-e37f-4dcf-9e58-ca542dccf10a\" class=\"colab-df-container\">\n",
              "    <div>\n",
              "<style scoped>\n",
              "    .dataframe tbody tr th:only-of-type {\n",
              "        vertical-align: middle;\n",
              "    }\n",
              "\n",
              "    .dataframe tbody tr th {\n",
              "        vertical-align: top;\n",
              "    }\n",
              "\n",
              "    .dataframe thead th {\n",
              "        text-align: right;\n",
              "    }\n",
              "</style>\n",
              "<table border=\"1\" class=\"dataframe\">\n",
              "  <thead>\n",
              "    <tr style=\"text-align: right;\">\n",
              "      <th></th>\n",
              "      <th>ETF</th>\n",
              "      <th>Entry_Signal</th>\n",
              "    </tr>\n",
              "  </thead>\n",
              "  <tbody>\n",
              "    <tr>\n",
              "      <th>0</th>\n",
              "      <td>EWH</td>\n",
              "      <td>RSI is overbought- Wait for pullback or latest...</td>\n",
              "    </tr>\n",
              "    <tr>\n",
              "      <th>1</th>\n",
              "      <td>XLP</td>\n",
              "      <td>Enter full position</td>\n",
              "    </tr>\n",
              "  </tbody>\n",
              "</table>\n",
              "</div>\n",
              "    <div class=\"colab-df-buttons\">\n",
              "\n",
              "  <div class=\"colab-df-container\">\n",
              "    <button class=\"colab-df-convert\" onclick=\"convertToInteractive('df-19c270d0-e37f-4dcf-9e58-ca542dccf10a')\"\n",
              "            title=\"Convert this dataframe to an interactive table.\"\n",
              "            style=\"display:none;\">\n",
              "\n",
              "  <svg xmlns=\"http://www.w3.org/2000/svg\" height=\"24px\" viewBox=\"0 -960 960 960\">\n",
              "    <path d=\"M120-120v-720h720v720H120Zm60-500h600v-160H180v160Zm220 220h160v-160H400v160Zm0 220h160v-160H400v160ZM180-400h160v-160H180v160Zm440 0h160v-160H620v160ZM180-180h160v-160H180v160Zm440 0h160v-160H620v160Z\"/>\n",
              "  </svg>\n",
              "    </button>\n",
              "\n",
              "  <style>\n",
              "    .colab-df-container {\n",
              "      display:flex;\n",
              "      gap: 12px;\n",
              "    }\n",
              "\n",
              "    .colab-df-convert {\n",
              "      background-color: #E8F0FE;\n",
              "      border: none;\n",
              "      border-radius: 50%;\n",
              "      cursor: pointer;\n",
              "      display: none;\n",
              "      fill: #1967D2;\n",
              "      height: 32px;\n",
              "      padding: 0 0 0 0;\n",
              "      width: 32px;\n",
              "    }\n",
              "\n",
              "    .colab-df-convert:hover {\n",
              "      background-color: #E2EBFA;\n",
              "      box-shadow: 0px 1px 2px rgba(60, 64, 67, 0.3), 0px 1px 3px 1px rgba(60, 64, 67, 0.15);\n",
              "      fill: #174EA6;\n",
              "    }\n",
              "\n",
              "    .colab-df-buttons div {\n",
              "      margin-bottom: 4px;\n",
              "    }\n",
              "\n",
              "    [theme=dark] .colab-df-convert {\n",
              "      background-color: #3B4455;\n",
              "      fill: #D2E3FC;\n",
              "    }\n",
              "\n",
              "    [theme=dark] .colab-df-convert:hover {\n",
              "      background-color: #434B5C;\n",
              "      box-shadow: 0px 1px 3px 1px rgba(0, 0, 0, 0.15);\n",
              "      filter: drop-shadow(0px 1px 2px rgba(0, 0, 0, 0.3));\n",
              "      fill: #FFFFFF;\n",
              "    }\n",
              "  </style>\n",
              "\n",
              "    <script>\n",
              "      const buttonEl =\n",
              "        document.querySelector('#df-19c270d0-e37f-4dcf-9e58-ca542dccf10a button.colab-df-convert');\n",
              "      buttonEl.style.display =\n",
              "        google.colab.kernel.accessAllowed ? 'block' : 'none';\n",
              "\n",
              "      async function convertToInteractive(key) {\n",
              "        const element = document.querySelector('#df-19c270d0-e37f-4dcf-9e58-ca542dccf10a');\n",
              "        const dataTable =\n",
              "          await google.colab.kernel.invokeFunction('convertToInteractive',\n",
              "                                                    [key], {});\n",
              "        if (!dataTable) return;\n",
              "\n",
              "        const docLinkHtml = 'Like what you see? Visit the ' +\n",
              "          '<a target=\"_blank\" href=https://colab.research.google.com/notebooks/data_table.ipynb>data table notebook</a>'\n",
              "          + ' to learn more about interactive tables.';\n",
              "        element.innerHTML = '';\n",
              "        dataTable['output_type'] = 'display_data';\n",
              "        await google.colab.output.renderOutput(dataTable, element);\n",
              "        const docLink = document.createElement('div');\n",
              "        docLink.innerHTML = docLinkHtml;\n",
              "        element.appendChild(docLink);\n",
              "      }\n",
              "    </script>\n",
              "  </div>\n",
              "\n",
              "\n",
              "<div id=\"df-cc9b4825-ae1a-4fb5-a0db-f5a051076b71\">\n",
              "  <button class=\"colab-df-quickchart\" onclick=\"quickchart('df-cc9b4825-ae1a-4fb5-a0db-f5a051076b71')\"\n",
              "            title=\"Suggest charts\"\n",
              "            style=\"display:none;\">\n",
              "\n",
              "<svg xmlns=\"http://www.w3.org/2000/svg\" height=\"24px\"viewBox=\"0 0 24 24\"\n",
              "     width=\"24px\">\n",
              "    <g>\n",
              "        <path d=\"M19 3H5c-1.1 0-2 .9-2 2v14c0 1.1.9 2 2 2h14c1.1 0 2-.9 2-2V5c0-1.1-.9-2-2-2zM9 17H7v-7h2v7zm4 0h-2V7h2v10zm4 0h-2v-4h2v4z\"/>\n",
              "    </g>\n",
              "</svg>\n",
              "  </button>\n",
              "\n",
              "<style>\n",
              "  .colab-df-quickchart {\n",
              "      --bg-color: #E8F0FE;\n",
              "      --fill-color: #1967D2;\n",
              "      --hover-bg-color: #E2EBFA;\n",
              "      --hover-fill-color: #174EA6;\n",
              "      --disabled-fill-color: #AAA;\n",
              "      --disabled-bg-color: #DDD;\n",
              "  }\n",
              "\n",
              "  [theme=dark] .colab-df-quickchart {\n",
              "      --bg-color: #3B4455;\n",
              "      --fill-color: #D2E3FC;\n",
              "      --hover-bg-color: #434B5C;\n",
              "      --hover-fill-color: #FFFFFF;\n",
              "      --disabled-bg-color: #3B4455;\n",
              "      --disabled-fill-color: #666;\n",
              "  }\n",
              "\n",
              "  .colab-df-quickchart {\n",
              "    background-color: var(--bg-color);\n",
              "    border: none;\n",
              "    border-radius: 50%;\n",
              "    cursor: pointer;\n",
              "    display: none;\n",
              "    fill: var(--fill-color);\n",
              "    height: 32px;\n",
              "    padding: 0;\n",
              "    width: 32px;\n",
              "  }\n",
              "\n",
              "  .colab-df-quickchart:hover {\n",
              "    background-color: var(--hover-bg-color);\n",
              "    box-shadow: 0 1px 2px rgba(60, 64, 67, 0.3), 0 1px 3px 1px rgba(60, 64, 67, 0.15);\n",
              "    fill: var(--button-hover-fill-color);\n",
              "  }\n",
              "\n",
              "  .colab-df-quickchart-complete:disabled,\n",
              "  .colab-df-quickchart-complete:disabled:hover {\n",
              "    background-color: var(--disabled-bg-color);\n",
              "    fill: var(--disabled-fill-color);\n",
              "    box-shadow: none;\n",
              "  }\n",
              "\n",
              "  .colab-df-spinner {\n",
              "    border: 2px solid var(--fill-color);\n",
              "    border-color: transparent;\n",
              "    border-bottom-color: var(--fill-color);\n",
              "    animation:\n",
              "      spin 1s steps(1) infinite;\n",
              "  }\n",
              "\n",
              "  @keyframes spin {\n",
              "    0% {\n",
              "      border-color: transparent;\n",
              "      border-bottom-color: var(--fill-color);\n",
              "      border-left-color: var(--fill-color);\n",
              "    }\n",
              "    20% {\n",
              "      border-color: transparent;\n",
              "      border-left-color: var(--fill-color);\n",
              "      border-top-color: var(--fill-color);\n",
              "    }\n",
              "    30% {\n",
              "      border-color: transparent;\n",
              "      border-left-color: var(--fill-color);\n",
              "      border-top-color: var(--fill-color);\n",
              "      border-right-color: var(--fill-color);\n",
              "    }\n",
              "    40% {\n",
              "      border-color: transparent;\n",
              "      border-right-color: var(--fill-color);\n",
              "      border-top-color: var(--fill-color);\n",
              "    }\n",
              "    60% {\n",
              "      border-color: transparent;\n",
              "      border-right-color: var(--fill-color);\n",
              "    }\n",
              "    80% {\n",
              "      border-color: transparent;\n",
              "      border-right-color: var(--fill-color);\n",
              "      border-bottom-color: var(--fill-color);\n",
              "    }\n",
              "    90% {\n",
              "      border-color: transparent;\n",
              "      border-bottom-color: var(--fill-color);\n",
              "    }\n",
              "  }\n",
              "</style>\n",
              "\n",
              "  <script>\n",
              "    async function quickchart(key) {\n",
              "      const quickchartButtonEl =\n",
              "        document.querySelector('#' + key + ' button');\n",
              "      quickchartButtonEl.disabled = true;  // To prevent multiple clicks.\n",
              "      quickchartButtonEl.classList.add('colab-df-spinner');\n",
              "      try {\n",
              "        const charts = await google.colab.kernel.invokeFunction(\n",
              "            'suggestCharts', [key], {});\n",
              "      } catch (error) {\n",
              "        console.error('Error during call to suggestCharts:', error);\n",
              "      }\n",
              "      quickchartButtonEl.classList.remove('colab-df-spinner');\n",
              "      quickchartButtonEl.classList.add('colab-df-quickchart-complete');\n",
              "    }\n",
              "    (() => {\n",
              "      let quickchartButtonEl =\n",
              "        document.querySelector('#df-cc9b4825-ae1a-4fb5-a0db-f5a051076b71 button');\n",
              "      quickchartButtonEl.style.display =\n",
              "        google.colab.kernel.accessAllowed ? 'block' : 'none';\n",
              "    })();\n",
              "  </script>\n",
              "</div>\n",
              "\n",
              "  <div id=\"id_69a3cdac-d221-4140-84c4-181e942584a9\">\n",
              "    <style>\n",
              "      .colab-df-generate {\n",
              "        background-color: #E8F0FE;\n",
              "        border: none;\n",
              "        border-radius: 50%;\n",
              "        cursor: pointer;\n",
              "        display: none;\n",
              "        fill: #1967D2;\n",
              "        height: 32px;\n",
              "        padding: 0 0 0 0;\n",
              "        width: 32px;\n",
              "      }\n",
              "\n",
              "      .colab-df-generate:hover {\n",
              "        background-color: #E2EBFA;\n",
              "        box-shadow: 0px 1px 2px rgba(60, 64, 67, 0.3), 0px 1px 3px 1px rgba(60, 64, 67, 0.15);\n",
              "        fill: #174EA6;\n",
              "      }\n",
              "\n",
              "      [theme=dark] .colab-df-generate {\n",
              "        background-color: #3B4455;\n",
              "        fill: #D2E3FC;\n",
              "      }\n",
              "\n",
              "      [theme=dark] .colab-df-generate:hover {\n",
              "        background-color: #434B5C;\n",
              "        box-shadow: 0px 1px 3px 1px rgba(0, 0, 0, 0.15);\n",
              "        filter: drop-shadow(0px 1px 2px rgba(0, 0, 0, 0.3));\n",
              "        fill: #FFFFFF;\n",
              "      }\n",
              "    </style>\n",
              "    <button class=\"colab-df-generate\" onclick=\"generateWithVariable('buy_list')\"\n",
              "            title=\"Generate code using this dataframe.\"\n",
              "            style=\"display:none;\">\n",
              "\n",
              "  <svg xmlns=\"http://www.w3.org/2000/svg\" height=\"24px\"viewBox=\"0 0 24 24\"\n",
              "       width=\"24px\">\n",
              "    <path d=\"M7,19H8.4L18.45,9,17,7.55,7,17.6ZM5,21V16.75L18.45,3.32a2,2,0,0,1,2.83,0l1.4,1.43a1.91,1.91,0,0,1,.58,1.4,1.91,1.91,0,0,1-.58,1.4L9.25,21ZM18.45,9,17,7.55Zm-12,3A5.31,5.31,0,0,0,4.9,8.1,5.31,5.31,0,0,0,1,6.5,5.31,5.31,0,0,0,4.9,4.9,5.31,5.31,0,0,0,6.5,1,5.31,5.31,0,0,0,8.1,4.9,5.31,5.31,0,0,0,12,6.5,5.46,5.46,0,0,0,6.5,12Z\"/>\n",
              "  </svg>\n",
              "    </button>\n",
              "    <script>\n",
              "      (() => {\n",
              "      const buttonEl =\n",
              "        document.querySelector('#id_69a3cdac-d221-4140-84c4-181e942584a9 button.colab-df-generate');\n",
              "      buttonEl.style.display =\n",
              "        google.colab.kernel.accessAllowed ? 'block' : 'none';\n",
              "\n",
              "      buttonEl.onclick = () => {\n",
              "        google.colab.notebook.generateWithVariable('buy_list');\n",
              "      }\n",
              "      })();\n",
              "    </script>\n",
              "  </div>\n",
              "\n",
              "    </div>\n",
              "  </div>\n"
            ],
            "application/vnd.google.colaboratory.intrinsic+json": {
              "type": "dataframe",
              "variable_name": "buy_list",
              "summary": "{\n  \"name\": \"buy_list\",\n  \"rows\": 2,\n  \"fields\": [\n    {\n      \"column\": \"ETF\",\n      \"properties\": {\n        \"dtype\": \"string\",\n        \"num_unique_values\": 2,\n        \"samples\": [\n          \"XLP\",\n          \"EWH\"\n        ],\n        \"semantic_type\": \"\",\n        \"description\": \"\"\n      }\n    },\n    {\n      \"column\": \"Entry_Signal\",\n      \"properties\": {\n        \"dtype\": \"string\",\n        \"num_unique_values\": 2,\n        \"samples\": [\n          \"Enter full position\",\n          \"RSI is overbought- Wait for pullback or latest price is below 20 SMA\"\n        ],\n        \"semantic_type\": \"\",\n        \"description\": \"\"\n      }\n    }\n  ]\n}"
            }
          },
          "metadata": {},
          "execution_count": 67
        }
      ]
    },
    {
      "cell_type": "code",
      "source": [
        "# Apply TA filters and prioritize ETFs\n",
        "results = []\n",
        "buy_list = buy_list[buy_list['Entry_Signal'] !=\"RSI is overbought- Wait for pullback\"]\n",
        "for etf in buy_list['ETF'].to_list():\n",
        "  df =get_daily_data(etf)\n",
        "  price = df['Close'].iloc[-1].iloc[0]\n",
        "  above_20SMA = price > df['20_day_SMA'].iloc[-1]\n",
        "\n",
        "\n",
        "  if  above_20SMA :\n",
        "    rr_ratio,support_level, resistance_level, latest_price,trail = calculate_risk_reward(df)\n",
        "    results.append({\"ETF\": etf ,\"Risk-Reward\": rr_ratio, \"Support\": support_level, \"Resistance\": resistance_level, \"Current Price\": latest_price, \"Trail Price\": trail})\n",
        "  time.sleep(2)  # Add a delay of 1 second between requests\n",
        "\n",
        "\n",
        "# Sort ETFs by highest risk-to-reward ratio\n",
        "df_results = pd.DataFrame(results).dropna().sort_values(by=\"Risk-Reward\", ascending=False).reset_index(drop = True)\n",
        "df_results\n"
      ],
      "metadata": {
        "colab": {
          "base_uri": "https://localhost:8080/",
          "height": 160
        },
        "id": "uBBD38QcWImG",
        "outputId": "d135ed74-c92e-442f-a2f0-d463e3ca7f6d"
      },
      "execution_count": 68,
      "outputs": [
        {
          "output_type": "stream",
          "name": "stderr",
          "text": [
            "[*********************100%***********************]  1 of 1 completed\n",
            "[*********************100%***********************]  1 of 1 completed\n"
          ]
        },
        {
          "output_type": "execute_result",
          "data": {
            "text/plain": [
              "   ETF  Risk-Reward    Support  Resistance  Current Price  Trail Price\n",
              "0  EWH          2.0  17.148170   18.653659      17.650000     0.501830\n",
              "1  XLP          2.0  80.002999   85.963995      81.989998     1.986999"
            ],
            "text/html": [
              "\n",
              "  <div id=\"df-440cf105-1155-472f-8dd5-939db1075f7b\" class=\"colab-df-container\">\n",
              "    <div>\n",
              "<style scoped>\n",
              "    .dataframe tbody tr th:only-of-type {\n",
              "        vertical-align: middle;\n",
              "    }\n",
              "\n",
              "    .dataframe tbody tr th {\n",
              "        vertical-align: top;\n",
              "    }\n",
              "\n",
              "    .dataframe thead th {\n",
              "        text-align: right;\n",
              "    }\n",
              "</style>\n",
              "<table border=\"1\" class=\"dataframe\">\n",
              "  <thead>\n",
              "    <tr style=\"text-align: right;\">\n",
              "      <th></th>\n",
              "      <th>ETF</th>\n",
              "      <th>Risk-Reward</th>\n",
              "      <th>Support</th>\n",
              "      <th>Resistance</th>\n",
              "      <th>Current Price</th>\n",
              "      <th>Trail Price</th>\n",
              "    </tr>\n",
              "  </thead>\n",
              "  <tbody>\n",
              "    <tr>\n",
              "      <th>0</th>\n",
              "      <td>EWH</td>\n",
              "      <td>2.0</td>\n",
              "      <td>17.148170</td>\n",
              "      <td>18.653659</td>\n",
              "      <td>17.650000</td>\n",
              "      <td>0.501830</td>\n",
              "    </tr>\n",
              "    <tr>\n",
              "      <th>1</th>\n",
              "      <td>XLP</td>\n",
              "      <td>2.0</td>\n",
              "      <td>80.002999</td>\n",
              "      <td>85.963995</td>\n",
              "      <td>81.989998</td>\n",
              "      <td>1.986999</td>\n",
              "    </tr>\n",
              "  </tbody>\n",
              "</table>\n",
              "</div>\n",
              "    <div class=\"colab-df-buttons\">\n",
              "\n",
              "  <div class=\"colab-df-container\">\n",
              "    <button class=\"colab-df-convert\" onclick=\"convertToInteractive('df-440cf105-1155-472f-8dd5-939db1075f7b')\"\n",
              "            title=\"Convert this dataframe to an interactive table.\"\n",
              "            style=\"display:none;\">\n",
              "\n",
              "  <svg xmlns=\"http://www.w3.org/2000/svg\" height=\"24px\" viewBox=\"0 -960 960 960\">\n",
              "    <path d=\"M120-120v-720h720v720H120Zm60-500h600v-160H180v160Zm220 220h160v-160H400v160Zm0 220h160v-160H400v160ZM180-400h160v-160H180v160Zm440 0h160v-160H620v160ZM180-180h160v-160H180v160Zm440 0h160v-160H620v160Z\"/>\n",
              "  </svg>\n",
              "    </button>\n",
              "\n",
              "  <style>\n",
              "    .colab-df-container {\n",
              "      display:flex;\n",
              "      gap: 12px;\n",
              "    }\n",
              "\n",
              "    .colab-df-convert {\n",
              "      background-color: #E8F0FE;\n",
              "      border: none;\n",
              "      border-radius: 50%;\n",
              "      cursor: pointer;\n",
              "      display: none;\n",
              "      fill: #1967D2;\n",
              "      height: 32px;\n",
              "      padding: 0 0 0 0;\n",
              "      width: 32px;\n",
              "    }\n",
              "\n",
              "    .colab-df-convert:hover {\n",
              "      background-color: #E2EBFA;\n",
              "      box-shadow: 0px 1px 2px rgba(60, 64, 67, 0.3), 0px 1px 3px 1px rgba(60, 64, 67, 0.15);\n",
              "      fill: #174EA6;\n",
              "    }\n",
              "\n",
              "    .colab-df-buttons div {\n",
              "      margin-bottom: 4px;\n",
              "    }\n",
              "\n",
              "    [theme=dark] .colab-df-convert {\n",
              "      background-color: #3B4455;\n",
              "      fill: #D2E3FC;\n",
              "    }\n",
              "\n",
              "    [theme=dark] .colab-df-convert:hover {\n",
              "      background-color: #434B5C;\n",
              "      box-shadow: 0px 1px 3px 1px rgba(0, 0, 0, 0.15);\n",
              "      filter: drop-shadow(0px 1px 2px rgba(0, 0, 0, 0.3));\n",
              "      fill: #FFFFFF;\n",
              "    }\n",
              "  </style>\n",
              "\n",
              "    <script>\n",
              "      const buttonEl =\n",
              "        document.querySelector('#df-440cf105-1155-472f-8dd5-939db1075f7b button.colab-df-convert');\n",
              "      buttonEl.style.display =\n",
              "        google.colab.kernel.accessAllowed ? 'block' : 'none';\n",
              "\n",
              "      async function convertToInteractive(key) {\n",
              "        const element = document.querySelector('#df-440cf105-1155-472f-8dd5-939db1075f7b');\n",
              "        const dataTable =\n",
              "          await google.colab.kernel.invokeFunction('convertToInteractive',\n",
              "                                                    [key], {});\n",
              "        if (!dataTable) return;\n",
              "\n",
              "        const docLinkHtml = 'Like what you see? Visit the ' +\n",
              "          '<a target=\"_blank\" href=https://colab.research.google.com/notebooks/data_table.ipynb>data table notebook</a>'\n",
              "          + ' to learn more about interactive tables.';\n",
              "        element.innerHTML = '';\n",
              "        dataTable['output_type'] = 'display_data';\n",
              "        await google.colab.output.renderOutput(dataTable, element);\n",
              "        const docLink = document.createElement('div');\n",
              "        docLink.innerHTML = docLinkHtml;\n",
              "        element.appendChild(docLink);\n",
              "      }\n",
              "    </script>\n",
              "  </div>\n",
              "\n",
              "\n",
              "<div id=\"df-62c19301-ad98-47e2-9f1c-cdb9ee6b541c\">\n",
              "  <button class=\"colab-df-quickchart\" onclick=\"quickchart('df-62c19301-ad98-47e2-9f1c-cdb9ee6b541c')\"\n",
              "            title=\"Suggest charts\"\n",
              "            style=\"display:none;\">\n",
              "\n",
              "<svg xmlns=\"http://www.w3.org/2000/svg\" height=\"24px\"viewBox=\"0 0 24 24\"\n",
              "     width=\"24px\">\n",
              "    <g>\n",
              "        <path d=\"M19 3H5c-1.1 0-2 .9-2 2v14c0 1.1.9 2 2 2h14c1.1 0 2-.9 2-2V5c0-1.1-.9-2-2-2zM9 17H7v-7h2v7zm4 0h-2V7h2v10zm4 0h-2v-4h2v4z\"/>\n",
              "    </g>\n",
              "</svg>\n",
              "  </button>\n",
              "\n",
              "<style>\n",
              "  .colab-df-quickchart {\n",
              "      --bg-color: #E8F0FE;\n",
              "      --fill-color: #1967D2;\n",
              "      --hover-bg-color: #E2EBFA;\n",
              "      --hover-fill-color: #174EA6;\n",
              "      --disabled-fill-color: #AAA;\n",
              "      --disabled-bg-color: #DDD;\n",
              "  }\n",
              "\n",
              "  [theme=dark] .colab-df-quickchart {\n",
              "      --bg-color: #3B4455;\n",
              "      --fill-color: #D2E3FC;\n",
              "      --hover-bg-color: #434B5C;\n",
              "      --hover-fill-color: #FFFFFF;\n",
              "      --disabled-bg-color: #3B4455;\n",
              "      --disabled-fill-color: #666;\n",
              "  }\n",
              "\n",
              "  .colab-df-quickchart {\n",
              "    background-color: var(--bg-color);\n",
              "    border: none;\n",
              "    border-radius: 50%;\n",
              "    cursor: pointer;\n",
              "    display: none;\n",
              "    fill: var(--fill-color);\n",
              "    height: 32px;\n",
              "    padding: 0;\n",
              "    width: 32px;\n",
              "  }\n",
              "\n",
              "  .colab-df-quickchart:hover {\n",
              "    background-color: var(--hover-bg-color);\n",
              "    box-shadow: 0 1px 2px rgba(60, 64, 67, 0.3), 0 1px 3px 1px rgba(60, 64, 67, 0.15);\n",
              "    fill: var(--button-hover-fill-color);\n",
              "  }\n",
              "\n",
              "  .colab-df-quickchart-complete:disabled,\n",
              "  .colab-df-quickchart-complete:disabled:hover {\n",
              "    background-color: var(--disabled-bg-color);\n",
              "    fill: var(--disabled-fill-color);\n",
              "    box-shadow: none;\n",
              "  }\n",
              "\n",
              "  .colab-df-spinner {\n",
              "    border: 2px solid var(--fill-color);\n",
              "    border-color: transparent;\n",
              "    border-bottom-color: var(--fill-color);\n",
              "    animation:\n",
              "      spin 1s steps(1) infinite;\n",
              "  }\n",
              "\n",
              "  @keyframes spin {\n",
              "    0% {\n",
              "      border-color: transparent;\n",
              "      border-bottom-color: var(--fill-color);\n",
              "      border-left-color: var(--fill-color);\n",
              "    }\n",
              "    20% {\n",
              "      border-color: transparent;\n",
              "      border-left-color: var(--fill-color);\n",
              "      border-top-color: var(--fill-color);\n",
              "    }\n",
              "    30% {\n",
              "      border-color: transparent;\n",
              "      border-left-color: var(--fill-color);\n",
              "      border-top-color: var(--fill-color);\n",
              "      border-right-color: var(--fill-color);\n",
              "    }\n",
              "    40% {\n",
              "      border-color: transparent;\n",
              "      border-right-color: var(--fill-color);\n",
              "      border-top-color: var(--fill-color);\n",
              "    }\n",
              "    60% {\n",
              "      border-color: transparent;\n",
              "      border-right-color: var(--fill-color);\n",
              "    }\n",
              "    80% {\n",
              "      border-color: transparent;\n",
              "      border-right-color: var(--fill-color);\n",
              "      border-bottom-color: var(--fill-color);\n",
              "    }\n",
              "    90% {\n",
              "      border-color: transparent;\n",
              "      border-bottom-color: var(--fill-color);\n",
              "    }\n",
              "  }\n",
              "</style>\n",
              "\n",
              "  <script>\n",
              "    async function quickchart(key) {\n",
              "      const quickchartButtonEl =\n",
              "        document.querySelector('#' + key + ' button');\n",
              "      quickchartButtonEl.disabled = true;  // To prevent multiple clicks.\n",
              "      quickchartButtonEl.classList.add('colab-df-spinner');\n",
              "      try {\n",
              "        const charts = await google.colab.kernel.invokeFunction(\n",
              "            'suggestCharts', [key], {});\n",
              "      } catch (error) {\n",
              "        console.error('Error during call to suggestCharts:', error);\n",
              "      }\n",
              "      quickchartButtonEl.classList.remove('colab-df-spinner');\n",
              "      quickchartButtonEl.classList.add('colab-df-quickchart-complete');\n",
              "    }\n",
              "    (() => {\n",
              "      let quickchartButtonEl =\n",
              "        document.querySelector('#df-62c19301-ad98-47e2-9f1c-cdb9ee6b541c button');\n",
              "      quickchartButtonEl.style.display =\n",
              "        google.colab.kernel.accessAllowed ? 'block' : 'none';\n",
              "    })();\n",
              "  </script>\n",
              "</div>\n",
              "\n",
              "  <div id=\"id_10d6bce7-9c19-49bf-be2b-08599a064f16\">\n",
              "    <style>\n",
              "      .colab-df-generate {\n",
              "        background-color: #E8F0FE;\n",
              "        border: none;\n",
              "        border-radius: 50%;\n",
              "        cursor: pointer;\n",
              "        display: none;\n",
              "        fill: #1967D2;\n",
              "        height: 32px;\n",
              "        padding: 0 0 0 0;\n",
              "        width: 32px;\n",
              "      }\n",
              "\n",
              "      .colab-df-generate:hover {\n",
              "        background-color: #E2EBFA;\n",
              "        box-shadow: 0px 1px 2px rgba(60, 64, 67, 0.3), 0px 1px 3px 1px rgba(60, 64, 67, 0.15);\n",
              "        fill: #174EA6;\n",
              "      }\n",
              "\n",
              "      [theme=dark] .colab-df-generate {\n",
              "        background-color: #3B4455;\n",
              "        fill: #D2E3FC;\n",
              "      }\n",
              "\n",
              "      [theme=dark] .colab-df-generate:hover {\n",
              "        background-color: #434B5C;\n",
              "        box-shadow: 0px 1px 3px 1px rgba(0, 0, 0, 0.15);\n",
              "        filter: drop-shadow(0px 1px 2px rgba(0, 0, 0, 0.3));\n",
              "        fill: #FFFFFF;\n",
              "      }\n",
              "    </style>\n",
              "    <button class=\"colab-df-generate\" onclick=\"generateWithVariable('df_results')\"\n",
              "            title=\"Generate code using this dataframe.\"\n",
              "            style=\"display:none;\">\n",
              "\n",
              "  <svg xmlns=\"http://www.w3.org/2000/svg\" height=\"24px\"viewBox=\"0 0 24 24\"\n",
              "       width=\"24px\">\n",
              "    <path d=\"M7,19H8.4L18.45,9,17,7.55,7,17.6ZM5,21V16.75L18.45,3.32a2,2,0,0,1,2.83,0l1.4,1.43a1.91,1.91,0,0,1,.58,1.4,1.91,1.91,0,0,1-.58,1.4L9.25,21ZM18.45,9,17,7.55Zm-12,3A5.31,5.31,0,0,0,4.9,8.1,5.31,5.31,0,0,0,1,6.5,5.31,5.31,0,0,0,4.9,4.9,5.31,5.31,0,0,0,6.5,1,5.31,5.31,0,0,0,8.1,4.9,5.31,5.31,0,0,0,12,6.5,5.46,5.46,0,0,0,6.5,12Z\"/>\n",
              "  </svg>\n",
              "    </button>\n",
              "    <script>\n",
              "      (() => {\n",
              "      const buttonEl =\n",
              "        document.querySelector('#id_10d6bce7-9c19-49bf-be2b-08599a064f16 button.colab-df-generate');\n",
              "      buttonEl.style.display =\n",
              "        google.colab.kernel.accessAllowed ? 'block' : 'none';\n",
              "\n",
              "      buttonEl.onclick = () => {\n",
              "        google.colab.notebook.generateWithVariable('df_results');\n",
              "      }\n",
              "      })();\n",
              "    </script>\n",
              "  </div>\n",
              "\n",
              "    </div>\n",
              "  </div>\n"
            ],
            "application/vnd.google.colaboratory.intrinsic+json": {
              "type": "dataframe",
              "variable_name": "df_results",
              "summary": "{\n  \"name\": \"df_results\",\n  \"rows\": 2,\n  \"fields\": [\n    {\n      \"column\": \"ETF\",\n      \"properties\": {\n        \"dtype\": \"string\",\n        \"num_unique_values\": 2,\n        \"samples\": [\n          \"XLP\",\n          \"EWH\"\n        ],\n        \"semantic_type\": \"\",\n        \"description\": \"\"\n      }\n    },\n    {\n      \"column\": \"Risk-Reward\",\n      \"properties\": {\n        \"dtype\": \"number\",\n        \"std\": 0.0,\n        \"min\": 2.0,\n        \"max\": 2.0,\n        \"num_unique_values\": 1,\n        \"samples\": [\n          2.0\n        ],\n        \"semantic_type\": \"\",\n        \"description\": \"\"\n      }\n    },\n    {\n      \"column\": \"Support\",\n      \"properties\": {\n        \"dtype\": \"number\",\n        \"std\": 44.44507610382826,\n        \"min\": 17.148169708251952,\n        \"max\": 80.00299911499023,\n        \"num_unique_values\": 2,\n        \"samples\": [\n          80.00299911499023\n        ],\n        \"semantic_type\": \"\",\n        \"description\": \"\"\n      }\n    },\n    {\n      \"column\": \"Resistance\",\n      \"properties\": {\n        \"dtype\": \"number\",\n        \"std\": 47.59559497456122,\n        \"min\": 18.653659439086915,\n        \"max\": 85.96399536132813,\n        \"num_unique_values\": 2,\n        \"samples\": [\n          85.96399536132813\n        ],\n        \"semantic_type\": \"\",\n        \"description\": \"\"\n      }\n    },\n    {\n      \"column\": \"Current Price\",\n      \"properties\": {\n        \"dtype\": \"number\",\n        \"std\": 45.49524906073925,\n        \"min\": 17.649999618530273,\n        \"max\": 81.98999786376953,\n        \"num_unique_values\": 2,\n        \"samples\": [\n          81.98999786376953\n        ],\n        \"semantic_type\": \"\",\n        \"description\": \"\"\n      }\n    },\n    {\n      \"column\": \"Trail Price\",\n      \"properties\": {\n        \"dtype\": \"number\",\n        \"std\": 1.050172956910989,\n        \"min\": 0.5018299102783204,\n        \"max\": 1.9869987487792968,\n        \"num_unique_values\": 2,\n        \"samples\": [\n          1.9869987487792968\n        ],\n        \"semantic_type\": \"\",\n        \"description\": \"\"\n      }\n    }\n  ]\n}"
            }
          },
          "metadata": {},
          "execution_count": 68
        }
      ]
    }
  ]
}
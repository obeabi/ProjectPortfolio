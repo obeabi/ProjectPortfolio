{
  "nbformat": 4,
  "nbformat_minor": 0,
  "metadata": {
    "colab": {
      "provenance": [],
      "name": "TA_Weekly_Entry_etf.ipynb",
      "authorship_tag": "ABX9TyPqxn3ibARpy/FUzBrBi/wo",
      "include_colab_link": true
    },
    "kernelspec": {
      "name": "python3",
      "display_name": "Python 3"
    },
    "language_info": {
      "name": "python"
    }
  },
  "cells": [
    {
      "cell_type": "markdown",
      "metadata": {
        "id": "view-in-github",
        "colab_type": "text"
      },
      "source": [
        "<a href=\"https://colab.research.google.com/github/obeabi/ProjectPortfolio/blob/master/TA_Weekly_Entry_etf.ipynb\" target=\"_parent\"><img src=\"https://colab.research.google.com/assets/colab-badge.svg\" alt=\"Open In Colab\"/></a>"
      ]
    },
    {
      "cell_type": "code",
      "source": [
        "#!pip install --upgrade yfinance\n",
        "!pip install ta"
      ],
      "metadata": {
        "colab": {
          "base_uri": "https://localhost:8080/"
        },
        "id": "Klw2WIf4amxd",
        "outputId": "a320bfbf-8958-4954-bcb5-da5499712413"
      },
      "execution_count": 1,
      "outputs": [
        {
          "output_type": "stream",
          "name": "stdout",
          "text": [
            "Collecting ta\n",
            "  Downloading ta-0.11.0.tar.gz (25 kB)\n",
            "  Preparing metadata (setup.py) ... \u001b[?25l\u001b[?25hdone\n",
            "Requirement already satisfied: numpy in /usr/local/lib/python3.11/dist-packages (from ta) (1.26.4)\n",
            "Requirement already satisfied: pandas in /usr/local/lib/python3.11/dist-packages (from ta) (2.2.2)\n",
            "Requirement already satisfied: python-dateutil>=2.8.2 in /usr/local/lib/python3.11/dist-packages (from pandas->ta) (2.8.2)\n",
            "Requirement already satisfied: pytz>=2020.1 in /usr/local/lib/python3.11/dist-packages (from pandas->ta) (2025.1)\n",
            "Requirement already satisfied: tzdata>=2022.7 in /usr/local/lib/python3.11/dist-packages (from pandas->ta) (2025.1)\n",
            "Requirement already satisfied: six>=1.5 in /usr/local/lib/python3.11/dist-packages (from python-dateutil>=2.8.2->pandas->ta) (1.17.0)\n",
            "Building wheels for collected packages: ta\n",
            "  Building wheel for ta (setup.py) ... \u001b[?25l\u001b[?25hdone\n",
            "  Created wheel for ta: filename=ta-0.11.0-py3-none-any.whl size=29412 sha256=a30411f64487146ec69df5450d7cae1f8bf103f7737af77ab558f6683900b009\n",
            "  Stored in directory: /root/.cache/pip/wheels/a1/d7/29/7781cc5eb9a3659d032d7d15bdd0f49d07d2b24fec29f44bc4\n",
            "Successfully built ta\n",
            "Installing collected packages: ta\n",
            "Successfully installed ta-0.11.0\n"
          ]
        }
      ]
    },
    {
      "cell_type": "code",
      "execution_count": 2,
      "metadata": {
        "colab": {
          "base_uri": "https://localhost:8080/"
        },
        "id": "feLesZUfcB8j",
        "outputId": "db4e4c95-2400-4bfe-bf35-ec5d414657cb"
      },
      "outputs": [
        {
          "output_type": "stream",
          "name": "stdout",
          "text": [
            "0.2.54\n",
            "Libraries Installed!\n"
          ]
        }
      ],
      "source": [
        "import yfinance as yf\n",
        "print(yf.__version__)\n",
        "import pandas as pd\n",
        "import numpy as np\n",
        "import time\n",
        "import ta\n",
        "print(\"Libraries Installed!\")"
      ]
    },
    {
      "cell_type": "code",
      "source": [
        "# List of ETFs to analyze\n",
        "df = pd.read_csv('etf_list.csv')\n",
        "etfs = df['ETF'].to_list()\n",
        "print(etfs)"
      ],
      "metadata": {
        "colab": {
          "base_uri": "https://localhost:8080/"
        },
        "id": "9IKx7dj9cT5K",
        "outputId": "8501e5e9-ad11-4b1b-f0bc-1921901a9319"
      },
      "execution_count": 3,
      "outputs": [
        {
          "output_type": "stream",
          "name": "stdout",
          "text": [
            "['UNG', 'DRAG', 'UNL', 'CQQQ', 'ECNS', 'GXC', 'EWP', 'EWO', 'CNXT', 'EUFN', 'IHE', 'EWI', 'MORT', 'EFNL', 'IYK', 'PPH', 'XLP', 'VDC', 'KXI', 'IEV', 'EWH', 'IEUR', 'EWL', 'VGK', 'SPEU', 'VNM', 'VFMV', 'AIVI', 'EWK', 'IXJ', 'XLV', 'CNYA', 'BIDD', 'SMOG', 'EIRL', 'SCJ', 'IYH', 'VHT']\n"
          ]
        }
      ]
    },
    {
      "cell_type": "code",
      "source": [
        "# Function to fetch historical weekly data\n",
        "def get_weekly_data(ticker):\n",
        "  try:\n",
        "      df = yf.download(ticker, period=\"2y\", interval=\"1wk\")\n",
        "      df['20_week_SMA'] = df['Close'].rolling(window=20).mean()\n",
        "      df['50_week_SMA'] = df['Close'].rolling(window=50).mean()\n",
        "      df['RSI'] = compute_rsi(df['Close'])\n",
        "      df['ATR'] = compute_atr(df, 14)\n",
        "      df['OBV'] = compute_obv(df)\n",
        "      df['10_week_avg_volume'] = df['Volume'].rolling(window=10).mean()\n",
        "      df['ma'] = calculate_ma(df['RSI'])\n",
        "      df['upper_band'], df['lower_band'] = calculate_bollinger_bands(df['RSI'])\n",
        "      return df\n",
        "  except Exception as e:\n",
        "      print(\"There is an error getting weekly data\", e)\n",
        "\n",
        "# Function to compute RSI\n",
        "def compute_rsi(series, period=14):\n",
        "  try:\n",
        "    delta = series.diff()\n",
        "    gain = (delta.where(delta > 0, 0)).rolling(window=period).mean()\n",
        "    loss = (-delta.where(delta < 0, 0)).rolling(window=period).mean()\n",
        "    rs = gain / loss\n",
        "    return 100 - (100 / (1 + rs))\n",
        "  except Exception as e:\n",
        "        print(\"Something went wrong while computing the RSI:\", e)\n",
        "        return None\n",
        "\n",
        "def calculate_ma(data, length=14, ma_type=\"WMA\"):\n",
        "    if ma_type == \"SMA\":\n",
        "        return data.rolling(window=length).mean()\n",
        "    elif ma_type == \"EMA\":\n",
        "        return data.ewm(span=length, adjust=False).mean()\n",
        "    elif ma_type == \"WMA\":\n",
        "        weights = np.arange(1, length+1)\n",
        "        return data.rolling(length).apply(lambda x: np.dot(x, weights)/weights.sum(), raw=True)\n",
        "    elif ma_type == \"VWMA\":\n",
        "        return ta.volume_weighted_average_price(data, length)\n",
        "\n",
        "def calculate_bollinger_bands(data, length=14, std_dev=2.0):\n",
        "    sma = data.rolling(window=length).mean()\n",
        "    std_dev = data.rolling(window=length).std()\n",
        "    upper_band = sma + (std_dev * std_dev)\n",
        "    lower_band = sma - (std_dev * std_dev)\n",
        "    return upper_band, lower_band\n",
        "\n",
        "# Function to compute ATR (Average True Range)\n",
        "def compute_atr(df, period=14):\n",
        "  try:\n",
        "    df['High-Low'] = df['High'] - df['Low']\n",
        "    df['High-Close'] = abs(df['High'] - df['Close'].shift(1))\n",
        "    df['Low-Close'] = abs(df['Low'] - df['Close'].shift(1))\n",
        "    df['TR'] = df[['High-Low', 'High-Close', 'Low-Close']].max(axis=1)\n",
        "    return df['TR'].rolling(window=period).mean()\n",
        "  except Exception as e:\n",
        "      print(\"Something went wrong whilecomputing the ATR\", e)\n",
        "\n",
        "\n",
        "# Function to compute On-Balance Volume (OBV)\n",
        "def compute_obv(df):\n",
        "  try:\n",
        "    # Calculate daily price change: 1 if price is up, -1 if down, 0 if unchanged\n",
        "    price_change = df['Close'].diff()\n",
        "\n",
        "    # Use price change to decide whether to add or subtract volume\n",
        "    obv = (price_change > 0).astype(int) * df['Volume']  # Volume when price goes up\n",
        "    obv -= (price_change < 0).astype(int) * df['Volume']  # Volume when price goes down\n",
        "\n",
        "    # We accumulate the OBV by taking the cumulative sum of the volume changes\n",
        "    obv = obv.cumsum()\n",
        "\n",
        "    return obv\n",
        "  except Exception as e:\n",
        "      print(\"Something went wrong while computing the OBV\", e)\n",
        "\n",
        "\n",
        "# Function to calculate risk-reward ratio\n",
        "def calculate_risk_reward(df):\n",
        "  try:\n",
        "    if df.empty or len(df) < 20:  # Ensure there are enough data points\n",
        "        return np.nan\n",
        "\n",
        "    latest_price = df['Close'].iloc[-1].iloc[0]\n",
        "\n",
        "    # Use the ATR for setting support level\n",
        "    atr = df['ATR'].iloc[-1]  # Latest ATR value\n",
        "    atr_multiple = 1.25  # You can adjust this multiplier based on your strategy\n",
        "\n",
        "    # Calculate the support level using the ATR\n",
        "    trailing = atr * atr_multiple\n",
        "    support_level = latest_price - trailing\n",
        "    resistance_level = latest_price + (2*trailing)\n",
        "    risk = latest_price- support_level\n",
        "    reward = resistance_level - latest_price\n",
        "\n",
        "    # Ensure risk is greater than zero before division\n",
        "    if risk > 0:\n",
        "        risk_reward_ratio = reward / risk\n",
        "        return risk_reward_ratio if risk_reward_ratio > 0 else np.nan , support_level, resistance_level, latest_price, trailing\n",
        "    else:\n",
        "        return np.nan,np.nan, np.nan, np.nan, np.nan\n",
        "  except Exception as e:\n",
        "      print(\"Something went wrong while computing the reward-risk ratio\", e)\n",
        "\n",
        "# Function to fetch daily data\n",
        "def get_daily_data(ticker):\n",
        "    df = yf.download(ticker, period=\"1y\", interval=\"1d\")\n",
        "    df['20_day_SMA'] = df['Close'].rolling(window=20).mean()\n",
        "    df['20_day_EMA'] = df['Close'].ewm(span=20, adjust=False).mean()\n",
        "    df[\"Distance_EMA\"] = (df['Close']/ df['Close'].ewm(span=20, adjust=False).mean() ) - 1\n",
        "    df['RSI'] = compute_rsi(df['Close'])\n",
        "    df['ATR'] = compute_atr(df, 20)\n",
        "    df['ma'] = calculate_ma(df['RSI'])\n",
        "    df['upper_band'], df['lower_band'] = calculate_bollinger_bands(df['RSI'])\n",
        "    return df\n",
        "\n",
        "# Function to check weekly trend\n",
        "def is_weekly_trend_bullish(df):\n",
        "    if df.empty:\n",
        "        return False\n",
        "\n",
        "    latest_price = df['Close'].iloc[-1].iloc[0]\n",
        "    latest_sma = df['20_week_SMA'].iloc[-1]\n",
        "    latest_rsi = df['RSI'].iloc[-1]\n",
        "\n",
        "    return (latest_price > latest_sma) and (latest_rsi > 50)\n",
        "\n",
        "# Function to check daily entry signal\n",
        "def is_daily_entry_signal(df):\n",
        "    if df.empty:\n",
        "        return False\n",
        "\n",
        "    latest_price = df['Close'].iloc[-1].iloc[0]\n",
        "    prev_price = df['Close'].iloc[-2].iloc[0]\n",
        "    latest_sma = df['20_day_SMA'].iloc[-1]\n",
        "    latest_rsi = df['RSI'].iloc[-1]\n",
        "    latest_distance_20ema = df['Distance_EMA'].iloc[-1]\n",
        "\n",
        "    # Look for a breakout above 20-day SMA & RSI > 50\n",
        "    return (latest_price > latest_sma) and (latest_rsi > 50) and (latest_rsi < 75)\n",
        "\n",
        "# Check entry conditions\n",
        "def check_entry_conditions(tickers):\n",
        "    results = []\n",
        "    for ticker in tickers:\n",
        "      df = get_daily_data(ticker)\n",
        "      latest_price = df['Close'].iloc[-1].iloc[0]\n",
        "      prev_price = df['Close'].iloc[-2].iloc[0]\n",
        "      latest_sma = df['20_day_SMA'].iloc[-1]\n",
        "      latest_rsi = df['RSI'].iloc[-1]\n",
        "      latest_distance_20ema = df['Distance_EMA'].iloc[-1]\n",
        "\n",
        "      if (latest_price >= latest_sma) and (latest_rsi< 70) :\n",
        "        if (latest_distance_20ema <= 0.02):\n",
        "          entry_signal= \"Enter full position\"\n",
        "        elif latest_distance_20ema <= 0.04:\n",
        "          entry_signal = \"Enter 50% now and rest later\"\n",
        "        else:\n",
        "          entry_signal= \"Wait for pullback\"\n",
        "      else:\n",
        "        entry_signal = \"RSI is overbought- Wait for pullback\"\n",
        "      results.append([ticker, entry_signal])\n",
        "    # Convert results to DataFrame\n",
        "    df_results = pd.DataFrame(results, columns=[\"ETF\", \"Entry_Signal\"])\n",
        "    return df_results\n",
        "\n",
        "# Multi-timeframe strategy check returning a DataFrame\n",
        "def check_mtf_entry(tickers):\n",
        "    results = []\n",
        "\n",
        "    for ticker in tickers:\n",
        "        weekly_df = get_weekly_data(ticker)\n",
        "        daily_df = get_daily_data(ticker)\n",
        "\n",
        "        if is_weekly_trend_bullish(weekly_df):\n",
        "            if is_daily_entry_signal(daily_df):\n",
        "                entry_signal = \"Entry Confirmed ✅\"\n",
        "            else:\n",
        "                entry_signal = \"No Entry Yet ⏳\"\n",
        "        else:\n",
        "            entry_signal = \"Weekly Trend Not Bullish ❌\"\n",
        "\n",
        "        results.append([ticker, entry_signal])\n",
        "        time.sleep(2)  # Add a delay of 1 second between requests\n",
        "\n",
        "    # Convert results to DataFrame\n",
        "    df_results = pd.DataFrame(results, columns=[\"ETF\", \"Entry_Signal\"])\n",
        "    return df_results"
      ],
      "metadata": {
        "id": "UjGkzJcGcy17"
      },
      "execution_count": 4,
      "outputs": []
    },
    {
      "cell_type": "code",
      "source": [
        "# Apply TA filters and prioritize ETFs\n",
        "results = []\n",
        "for etf in etfs:\n",
        "  df =get_weekly_data(etf)\n",
        "  price = df['Close'].iloc[-1].iloc[0]\n",
        "  above_20SMA = price > df['20_week_SMA'].iloc[-1]\n",
        "  above_50SMA = price > df['50_week_SMA'].iloc[-1]\n",
        "  rsi_ok = 40 <= df['RSI'].iloc[-1] <= 70 # Not overbought or oversold\n",
        "  volume_ok = df['Volume'].iloc[-1] > df['10_week_avg_volume'].iloc[-1] # Institutional interest\n",
        "  volume_ok = volume_ok.iloc[0]\n",
        "\n",
        "  # Calculate the OBV Moving Average\n",
        "  df['OBV_EMA'] = df['OBV'].ewm(span=10, adjust=False).mean()\n",
        "\n",
        "  # OBV trending up if current OBV is above the 20-period EMA\n",
        "  obv_trending_up = df['OBV'].iloc[-1] > df['OBV_EMA'].iloc[-1]\n",
        "  # obv_trending_up = df['OBV'].iloc[-1] > df['OBV'].iloc[-5] # OBV increasing over last 5 weeks\n",
        "\n",
        "  # OBV trending down if current OBV is below the 20-period EMA\n",
        "  obv_trending_down = df['OBV'].iloc[-1] < df['OBV_EMA'].iloc[-1]\n",
        "\n",
        "  trend_ok = above_20SMA and above_50SMA\n",
        "\n",
        "\n",
        "  if trend_ok and rsi_ok and (volume_ok and obv_trending_up):\n",
        "    print(f\" {etf} passes the first check on weekly timeframe!\")\n",
        "    results.append({\"ETF\": etf })\n",
        "  else:\n",
        "    print(f\" {etf} does not pass the first check on weekly timeframe!\")\n",
        "  time.sleep(2)  # Add a delay of 1 second between requests\n",
        "\n",
        "\n",
        "# Multi-time frame entry Check\n",
        "df_results = pd.DataFrame(results).dropna()\n",
        "etfs_to_check = df_results['ETF'].tolist()\n",
        "df_signals = check_mtf_entry(etfs_to_check)\n",
        "\n",
        "df_signals.head()\n",
        "\n"
      ],
      "metadata": {
        "colab": {
          "base_uri": "https://localhost:8080/",
          "height": 1000
        },
        "id": "lppiGKsqeGzm",
        "outputId": "7795bdfa-1b8e-4850-a427-8251be4895bc"
      },
      "execution_count": 8,
      "outputs": [
        {
          "output_type": "stream",
          "name": "stderr",
          "text": [
            "\r[*********************100%***********************]  1 of 1 completed\n"
          ]
        },
        {
          "output_type": "stream",
          "name": "stdout",
          "text": [
            " UNG does not pass the first check on weekly timeframe!\n"
          ]
        },
        {
          "output_type": "stream",
          "name": "stderr",
          "text": [
            "\r[*********************100%***********************]  1 of 1 completed\n"
          ]
        },
        {
          "output_type": "stream",
          "name": "stdout",
          "text": [
            " DRAG does not pass the first check on weekly timeframe!\n"
          ]
        },
        {
          "output_type": "stream",
          "name": "stderr",
          "text": [
            "\r[*********************100%***********************]  1 of 1 completed\n"
          ]
        },
        {
          "output_type": "stream",
          "name": "stdout",
          "text": [
            " UNL does not pass the first check on weekly timeframe!\n"
          ]
        },
        {
          "output_type": "stream",
          "name": "stderr",
          "text": [
            "\r[*********************100%***********************]  1 of 1 completed\n"
          ]
        },
        {
          "output_type": "stream",
          "name": "stdout",
          "text": [
            " CQQQ passes the first check on weekly timeframe!\n"
          ]
        },
        {
          "output_type": "stream",
          "name": "stderr",
          "text": [
            "\r[*********************100%***********************]  1 of 1 completed\n"
          ]
        },
        {
          "output_type": "stream",
          "name": "stdout",
          "text": [
            " ECNS passes the first check on weekly timeframe!\n"
          ]
        },
        {
          "output_type": "stream",
          "name": "stderr",
          "text": [
            "\r[*********************100%***********************]  1 of 1 completed\n"
          ]
        },
        {
          "output_type": "stream",
          "name": "stdout",
          "text": [
            " GXC does not pass the first check on weekly timeframe!\n"
          ]
        },
        {
          "output_type": "stream",
          "name": "stderr",
          "text": [
            "\r[*********************100%***********************]  1 of 1 completed\n"
          ]
        },
        {
          "output_type": "stream",
          "name": "stdout",
          "text": [
            " EWP does not pass the first check on weekly timeframe!\n"
          ]
        },
        {
          "output_type": "stream",
          "name": "stderr",
          "text": [
            "\r[*********************100%***********************]  1 of 1 completed\n"
          ]
        },
        {
          "output_type": "stream",
          "name": "stdout",
          "text": [
            " EWO does not pass the first check on weekly timeframe!\n"
          ]
        },
        {
          "output_type": "stream",
          "name": "stderr",
          "text": [
            "\r[*********************100%***********************]  1 of 1 completed\n"
          ]
        },
        {
          "output_type": "stream",
          "name": "stdout",
          "text": [
            " CNXT does not pass the first check on weekly timeframe!\n"
          ]
        },
        {
          "output_type": "stream",
          "name": "stderr",
          "text": [
            "\r[*********************100%***********************]  1 of 1 completed\n"
          ]
        },
        {
          "output_type": "stream",
          "name": "stdout",
          "text": [
            " EUFN does not pass the first check on weekly timeframe!\n"
          ]
        },
        {
          "output_type": "stream",
          "name": "stderr",
          "text": [
            "\r[*********************100%***********************]  1 of 1 completed\n"
          ]
        },
        {
          "output_type": "stream",
          "name": "stdout",
          "text": [
            " IHE does not pass the first check on weekly timeframe!\n"
          ]
        },
        {
          "output_type": "stream",
          "name": "stderr",
          "text": [
            "\r[*********************100%***********************]  1 of 1 completed\n"
          ]
        },
        {
          "output_type": "stream",
          "name": "stdout",
          "text": [
            " EWI does not pass the first check on weekly timeframe!\n"
          ]
        },
        {
          "output_type": "stream",
          "name": "stderr",
          "text": [
            "\r[*********************100%***********************]  1 of 1 completed\n"
          ]
        },
        {
          "output_type": "stream",
          "name": "stdout",
          "text": [
            " MORT does not pass the first check on weekly timeframe!\n"
          ]
        },
        {
          "output_type": "stream",
          "name": "stderr",
          "text": [
            "\r[*********************100%***********************]  1 of 1 completed\n"
          ]
        },
        {
          "output_type": "stream",
          "name": "stdout",
          "text": [
            " EFNL does not pass the first check on weekly timeframe!\n"
          ]
        },
        {
          "output_type": "stream",
          "name": "stderr",
          "text": [
            "\r[*********************100%***********************]  1 of 1 completed\n"
          ]
        },
        {
          "output_type": "stream",
          "name": "stdout",
          "text": [
            " IYK does not pass the first check on weekly timeframe!\n"
          ]
        },
        {
          "output_type": "stream",
          "name": "stderr",
          "text": [
            "\r[*********************100%***********************]  1 of 1 completed\n"
          ]
        },
        {
          "output_type": "stream",
          "name": "stdout",
          "text": [
            " PPH does not pass the first check on weekly timeframe!\n"
          ]
        },
        {
          "output_type": "stream",
          "name": "stderr",
          "text": [
            "\r[*********************100%***********************]  1 of 1 completed\n"
          ]
        },
        {
          "output_type": "stream",
          "name": "stdout",
          "text": [
            " XLP does not pass the first check on weekly timeframe!\n"
          ]
        },
        {
          "output_type": "stream",
          "name": "stderr",
          "text": [
            "\r[*********************100%***********************]  1 of 1 completed\n"
          ]
        },
        {
          "output_type": "stream",
          "name": "stdout",
          "text": [
            " VDC does not pass the first check on weekly timeframe!\n"
          ]
        },
        {
          "output_type": "stream",
          "name": "stderr",
          "text": [
            "\r[*********************100%***********************]  1 of 1 completed\n"
          ]
        },
        {
          "output_type": "stream",
          "name": "stdout",
          "text": [
            " KXI does not pass the first check on weekly timeframe!\n"
          ]
        },
        {
          "output_type": "stream",
          "name": "stderr",
          "text": [
            "\r[*********************100%***********************]  1 of 1 completed\n"
          ]
        },
        {
          "output_type": "stream",
          "name": "stdout",
          "text": [
            " IEV does not pass the first check on weekly timeframe!\n"
          ]
        },
        {
          "output_type": "stream",
          "name": "stderr",
          "text": [
            "\r[*********************100%***********************]  1 of 1 completed\n"
          ]
        },
        {
          "output_type": "stream",
          "name": "stdout",
          "text": [
            " EWH does not pass the first check on weekly timeframe!\n"
          ]
        },
        {
          "output_type": "stream",
          "name": "stderr",
          "text": [
            "\r[*********************100%***********************]  1 of 1 completed\n"
          ]
        },
        {
          "output_type": "stream",
          "name": "stdout",
          "text": [
            " IEUR does not pass the first check on weekly timeframe!\n"
          ]
        },
        {
          "output_type": "stream",
          "name": "stderr",
          "text": [
            "\r[*********************100%***********************]  1 of 1 completed\n"
          ]
        },
        {
          "output_type": "stream",
          "name": "stdout",
          "text": [
            " EWL does not pass the first check on weekly timeframe!\n"
          ]
        },
        {
          "output_type": "stream",
          "name": "stderr",
          "text": [
            "\r[*********************100%***********************]  1 of 1 completed\n"
          ]
        },
        {
          "output_type": "stream",
          "name": "stdout",
          "text": [
            " VGK does not pass the first check on weekly timeframe!\n"
          ]
        },
        {
          "output_type": "stream",
          "name": "stderr",
          "text": [
            "\r[*********************100%***********************]  1 of 1 completed\n"
          ]
        },
        {
          "output_type": "stream",
          "name": "stdout",
          "text": [
            " SPEU does not pass the first check on weekly timeframe!\n"
          ]
        },
        {
          "output_type": "stream",
          "name": "stderr",
          "text": [
            "\r[*********************100%***********************]  1 of 1 completed\n"
          ]
        },
        {
          "output_type": "stream",
          "name": "stdout",
          "text": [
            " VNM does not pass the first check on weekly timeframe!\n"
          ]
        },
        {
          "output_type": "stream",
          "name": "stderr",
          "text": [
            "\r[*********************100%***********************]  1 of 1 completed\n"
          ]
        },
        {
          "output_type": "stream",
          "name": "stdout",
          "text": [
            " VFMV does not pass the first check on weekly timeframe!\n"
          ]
        },
        {
          "output_type": "stream",
          "name": "stderr",
          "text": [
            "\r[*********************100%***********************]  1 of 1 completed\n"
          ]
        },
        {
          "output_type": "stream",
          "name": "stdout",
          "text": [
            " AIVI does not pass the first check on weekly timeframe!\n"
          ]
        },
        {
          "output_type": "stream",
          "name": "stderr",
          "text": [
            "\r[*********************100%***********************]  1 of 1 completed\n"
          ]
        },
        {
          "output_type": "stream",
          "name": "stdout",
          "text": [
            " EWK does not pass the first check on weekly timeframe!\n"
          ]
        },
        {
          "output_type": "stream",
          "name": "stderr",
          "text": [
            "\r[*********************100%***********************]  1 of 1 completed\n"
          ]
        },
        {
          "output_type": "stream",
          "name": "stdout",
          "text": [
            " IXJ does not pass the first check on weekly timeframe!\n"
          ]
        },
        {
          "output_type": "stream",
          "name": "stderr",
          "text": [
            "\r[*********************100%***********************]  1 of 1 completed\n"
          ]
        },
        {
          "output_type": "stream",
          "name": "stdout",
          "text": [
            " XLV does not pass the first check on weekly timeframe!\n"
          ]
        },
        {
          "output_type": "stream",
          "name": "stderr",
          "text": [
            "\r[*********************100%***********************]  1 of 1 completed\n"
          ]
        },
        {
          "output_type": "stream",
          "name": "stdout",
          "text": [
            " CNYA does not pass the first check on weekly timeframe!\n"
          ]
        },
        {
          "output_type": "stream",
          "name": "stderr",
          "text": [
            "\r[*********************100%***********************]  1 of 1 completed\n"
          ]
        },
        {
          "output_type": "stream",
          "name": "stdout",
          "text": [
            " BIDD does not pass the first check on weekly timeframe!\n"
          ]
        },
        {
          "output_type": "stream",
          "name": "stderr",
          "text": [
            "\r[*********************100%***********************]  1 of 1 completed\n"
          ]
        },
        {
          "output_type": "stream",
          "name": "stdout",
          "text": [
            " SMOG does not pass the first check on weekly timeframe!\n"
          ]
        },
        {
          "output_type": "stream",
          "name": "stderr",
          "text": [
            "\r[*********************100%***********************]  1 of 1 completed\n"
          ]
        },
        {
          "output_type": "stream",
          "name": "stdout",
          "text": [
            " EIRL does not pass the first check on weekly timeframe!\n"
          ]
        },
        {
          "output_type": "stream",
          "name": "stderr",
          "text": [
            "\r[*********************100%***********************]  1 of 1 completed\n"
          ]
        },
        {
          "output_type": "stream",
          "name": "stdout",
          "text": [
            " SCJ does not pass the first check on weekly timeframe!\n"
          ]
        },
        {
          "output_type": "stream",
          "name": "stderr",
          "text": [
            "\r[*********************100%***********************]  1 of 1 completed\n"
          ]
        },
        {
          "output_type": "stream",
          "name": "stdout",
          "text": [
            " IYH does not pass the first check on weekly timeframe!\n"
          ]
        },
        {
          "output_type": "stream",
          "name": "stderr",
          "text": [
            "\r[*********************100%***********************]  1 of 1 completed\n"
          ]
        },
        {
          "output_type": "stream",
          "name": "stdout",
          "text": [
            " VHT does not pass the first check on weekly timeframe!\n"
          ]
        },
        {
          "output_type": "stream",
          "name": "stderr",
          "text": [
            "[*********************100%***********************]  1 of 1 completed\n",
            "[*********************100%***********************]  1 of 1 completed\n",
            "[*********************100%***********************]  1 of 1 completed\n",
            "[*********************100%***********************]  1 of 1 completed\n"
          ]
        },
        {
          "output_type": "execute_result",
          "data": {
            "text/plain": [
              "    ETF    Entry_Signal\n",
              "0  CQQQ  No Entry Yet ⏳\n",
              "1  ECNS  No Entry Yet ⏳"
            ],
            "text/html": [
              "\n",
              "  <div id=\"df-5d345e05-1ed1-491b-945c-ebd1535bc978\" class=\"colab-df-container\">\n",
              "    <div>\n",
              "<style scoped>\n",
              "    .dataframe tbody tr th:only-of-type {\n",
              "        vertical-align: middle;\n",
              "    }\n",
              "\n",
              "    .dataframe tbody tr th {\n",
              "        vertical-align: top;\n",
              "    }\n",
              "\n",
              "    .dataframe thead th {\n",
              "        text-align: right;\n",
              "    }\n",
              "</style>\n",
              "<table border=\"1\" class=\"dataframe\">\n",
              "  <thead>\n",
              "    <tr style=\"text-align: right;\">\n",
              "      <th></th>\n",
              "      <th>ETF</th>\n",
              "      <th>Entry_Signal</th>\n",
              "    </tr>\n",
              "  </thead>\n",
              "  <tbody>\n",
              "    <tr>\n",
              "      <th>0</th>\n",
              "      <td>CQQQ</td>\n",
              "      <td>No Entry Yet ⏳</td>\n",
              "    </tr>\n",
              "    <tr>\n",
              "      <th>1</th>\n",
              "      <td>ECNS</td>\n",
              "      <td>No Entry Yet ⏳</td>\n",
              "    </tr>\n",
              "  </tbody>\n",
              "</table>\n",
              "</div>\n",
              "    <div class=\"colab-df-buttons\">\n",
              "\n",
              "  <div class=\"colab-df-container\">\n",
              "    <button class=\"colab-df-convert\" onclick=\"convertToInteractive('df-5d345e05-1ed1-491b-945c-ebd1535bc978')\"\n",
              "            title=\"Convert this dataframe to an interactive table.\"\n",
              "            style=\"display:none;\">\n",
              "\n",
              "  <svg xmlns=\"http://www.w3.org/2000/svg\" height=\"24px\" viewBox=\"0 -960 960 960\">\n",
              "    <path d=\"M120-120v-720h720v720H120Zm60-500h600v-160H180v160Zm220 220h160v-160H400v160Zm0 220h160v-160H400v160ZM180-400h160v-160H180v160Zm440 0h160v-160H620v160ZM180-180h160v-160H180v160Zm440 0h160v-160H620v160Z\"/>\n",
              "  </svg>\n",
              "    </button>\n",
              "\n",
              "  <style>\n",
              "    .colab-df-container {\n",
              "      display:flex;\n",
              "      gap: 12px;\n",
              "    }\n",
              "\n",
              "    .colab-df-convert {\n",
              "      background-color: #E8F0FE;\n",
              "      border: none;\n",
              "      border-radius: 50%;\n",
              "      cursor: pointer;\n",
              "      display: none;\n",
              "      fill: #1967D2;\n",
              "      height: 32px;\n",
              "      padding: 0 0 0 0;\n",
              "      width: 32px;\n",
              "    }\n",
              "\n",
              "    .colab-df-convert:hover {\n",
              "      background-color: #E2EBFA;\n",
              "      box-shadow: 0px 1px 2px rgba(60, 64, 67, 0.3), 0px 1px 3px 1px rgba(60, 64, 67, 0.15);\n",
              "      fill: #174EA6;\n",
              "    }\n",
              "\n",
              "    .colab-df-buttons div {\n",
              "      margin-bottom: 4px;\n",
              "    }\n",
              "\n",
              "    [theme=dark] .colab-df-convert {\n",
              "      background-color: #3B4455;\n",
              "      fill: #D2E3FC;\n",
              "    }\n",
              "\n",
              "    [theme=dark] .colab-df-convert:hover {\n",
              "      background-color: #434B5C;\n",
              "      box-shadow: 0px 1px 3px 1px rgba(0, 0, 0, 0.15);\n",
              "      filter: drop-shadow(0px 1px 2px rgba(0, 0, 0, 0.3));\n",
              "      fill: #FFFFFF;\n",
              "    }\n",
              "  </style>\n",
              "\n",
              "    <script>\n",
              "      const buttonEl =\n",
              "        document.querySelector('#df-5d345e05-1ed1-491b-945c-ebd1535bc978 button.colab-df-convert');\n",
              "      buttonEl.style.display =\n",
              "        google.colab.kernel.accessAllowed ? 'block' : 'none';\n",
              "\n",
              "      async function convertToInteractive(key) {\n",
              "        const element = document.querySelector('#df-5d345e05-1ed1-491b-945c-ebd1535bc978');\n",
              "        const dataTable =\n",
              "          await google.colab.kernel.invokeFunction('convertToInteractive',\n",
              "                                                    [key], {});\n",
              "        if (!dataTable) return;\n",
              "\n",
              "        const docLinkHtml = 'Like what you see? Visit the ' +\n",
              "          '<a target=\"_blank\" href=https://colab.research.google.com/notebooks/data_table.ipynb>data table notebook</a>'\n",
              "          + ' to learn more about interactive tables.';\n",
              "        element.innerHTML = '';\n",
              "        dataTable['output_type'] = 'display_data';\n",
              "        await google.colab.output.renderOutput(dataTable, element);\n",
              "        const docLink = document.createElement('div');\n",
              "        docLink.innerHTML = docLinkHtml;\n",
              "        element.appendChild(docLink);\n",
              "      }\n",
              "    </script>\n",
              "  </div>\n",
              "\n",
              "\n",
              "<div id=\"df-92522679-4881-4690-8556-baace96c2b81\">\n",
              "  <button class=\"colab-df-quickchart\" onclick=\"quickchart('df-92522679-4881-4690-8556-baace96c2b81')\"\n",
              "            title=\"Suggest charts\"\n",
              "            style=\"display:none;\">\n",
              "\n",
              "<svg xmlns=\"http://www.w3.org/2000/svg\" height=\"24px\"viewBox=\"0 0 24 24\"\n",
              "     width=\"24px\">\n",
              "    <g>\n",
              "        <path d=\"M19 3H5c-1.1 0-2 .9-2 2v14c0 1.1.9 2 2 2h14c1.1 0 2-.9 2-2V5c0-1.1-.9-2-2-2zM9 17H7v-7h2v7zm4 0h-2V7h2v10zm4 0h-2v-4h2v4z\"/>\n",
              "    </g>\n",
              "</svg>\n",
              "  </button>\n",
              "\n",
              "<style>\n",
              "  .colab-df-quickchart {\n",
              "      --bg-color: #E8F0FE;\n",
              "      --fill-color: #1967D2;\n",
              "      --hover-bg-color: #E2EBFA;\n",
              "      --hover-fill-color: #174EA6;\n",
              "      --disabled-fill-color: #AAA;\n",
              "      --disabled-bg-color: #DDD;\n",
              "  }\n",
              "\n",
              "  [theme=dark] .colab-df-quickchart {\n",
              "      --bg-color: #3B4455;\n",
              "      --fill-color: #D2E3FC;\n",
              "      --hover-bg-color: #434B5C;\n",
              "      --hover-fill-color: #FFFFFF;\n",
              "      --disabled-bg-color: #3B4455;\n",
              "      --disabled-fill-color: #666;\n",
              "  }\n",
              "\n",
              "  .colab-df-quickchart {\n",
              "    background-color: var(--bg-color);\n",
              "    border: none;\n",
              "    border-radius: 50%;\n",
              "    cursor: pointer;\n",
              "    display: none;\n",
              "    fill: var(--fill-color);\n",
              "    height: 32px;\n",
              "    padding: 0;\n",
              "    width: 32px;\n",
              "  }\n",
              "\n",
              "  .colab-df-quickchart:hover {\n",
              "    background-color: var(--hover-bg-color);\n",
              "    box-shadow: 0 1px 2px rgba(60, 64, 67, 0.3), 0 1px 3px 1px rgba(60, 64, 67, 0.15);\n",
              "    fill: var(--button-hover-fill-color);\n",
              "  }\n",
              "\n",
              "  .colab-df-quickchart-complete:disabled,\n",
              "  .colab-df-quickchart-complete:disabled:hover {\n",
              "    background-color: var(--disabled-bg-color);\n",
              "    fill: var(--disabled-fill-color);\n",
              "    box-shadow: none;\n",
              "  }\n",
              "\n",
              "  .colab-df-spinner {\n",
              "    border: 2px solid var(--fill-color);\n",
              "    border-color: transparent;\n",
              "    border-bottom-color: var(--fill-color);\n",
              "    animation:\n",
              "      spin 1s steps(1) infinite;\n",
              "  }\n",
              "\n",
              "  @keyframes spin {\n",
              "    0% {\n",
              "      border-color: transparent;\n",
              "      border-bottom-color: var(--fill-color);\n",
              "      border-left-color: var(--fill-color);\n",
              "    }\n",
              "    20% {\n",
              "      border-color: transparent;\n",
              "      border-left-color: var(--fill-color);\n",
              "      border-top-color: var(--fill-color);\n",
              "    }\n",
              "    30% {\n",
              "      border-color: transparent;\n",
              "      border-left-color: var(--fill-color);\n",
              "      border-top-color: var(--fill-color);\n",
              "      border-right-color: var(--fill-color);\n",
              "    }\n",
              "    40% {\n",
              "      border-color: transparent;\n",
              "      border-right-color: var(--fill-color);\n",
              "      border-top-color: var(--fill-color);\n",
              "    }\n",
              "    60% {\n",
              "      border-color: transparent;\n",
              "      border-right-color: var(--fill-color);\n",
              "    }\n",
              "    80% {\n",
              "      border-color: transparent;\n",
              "      border-right-color: var(--fill-color);\n",
              "      border-bottom-color: var(--fill-color);\n",
              "    }\n",
              "    90% {\n",
              "      border-color: transparent;\n",
              "      border-bottom-color: var(--fill-color);\n",
              "    }\n",
              "  }\n",
              "</style>\n",
              "\n",
              "  <script>\n",
              "    async function quickchart(key) {\n",
              "      const quickchartButtonEl =\n",
              "        document.querySelector('#' + key + ' button');\n",
              "      quickchartButtonEl.disabled = true;  // To prevent multiple clicks.\n",
              "      quickchartButtonEl.classList.add('colab-df-spinner');\n",
              "      try {\n",
              "        const charts = await google.colab.kernel.invokeFunction(\n",
              "            'suggestCharts', [key], {});\n",
              "      } catch (error) {\n",
              "        console.error('Error during call to suggestCharts:', error);\n",
              "      }\n",
              "      quickchartButtonEl.classList.remove('colab-df-spinner');\n",
              "      quickchartButtonEl.classList.add('colab-df-quickchart-complete');\n",
              "    }\n",
              "    (() => {\n",
              "      let quickchartButtonEl =\n",
              "        document.querySelector('#df-92522679-4881-4690-8556-baace96c2b81 button');\n",
              "      quickchartButtonEl.style.display =\n",
              "        google.colab.kernel.accessAllowed ? 'block' : 'none';\n",
              "    })();\n",
              "  </script>\n",
              "</div>\n",
              "\n",
              "    </div>\n",
              "  </div>\n"
            ],
            "application/vnd.google.colaboratory.intrinsic+json": {
              "type": "dataframe",
              "variable_name": "df_signals",
              "summary": "{\n  \"name\": \"df_signals\",\n  \"rows\": 2,\n  \"fields\": [\n    {\n      \"column\": \"ETF\",\n      \"properties\": {\n        \"dtype\": \"string\",\n        \"num_unique_values\": 2,\n        \"samples\": [\n          \"ECNS\",\n          \"CQQQ\"\n        ],\n        \"semantic_type\": \"\",\n        \"description\": \"\"\n      }\n    },\n    {\n      \"column\": \"Entry_Signal\",\n      \"properties\": {\n        \"dtype\": \"string\",\n        \"num_unique_values\": 1,\n        \"samples\": [\n          \"No Entry Yet \\u23f3\"\n        ],\n        \"semantic_type\": \"\",\n        \"description\": \"\"\n      }\n    }\n  ]\n}"
            }
          },
          "metadata": {},
          "execution_count": 8
        }
      ]
    },
    {
      "cell_type": "markdown",
      "source": [
        "## Generate buy list"
      ],
      "metadata": {
        "id": "d7huoxuBlbOJ"
      }
    },
    {
      "cell_type": "code",
      "source": [
        "df_final = df_signals[df_signals['Entry_Signal'] ==\"Entry Confirmed ✅\"]\n",
        "final_etfs_to_check = df_final['ETF'].tolist()\n",
        "\n",
        "buy_list = check_entry_conditions(final_etfs_to_check)\n",
        "\n",
        "buy_list"
      ],
      "metadata": {
        "colab": {
          "base_uri": "https://localhost:8080/",
          "height": 89
        },
        "id": "6ZkXo-EzIHyZ",
        "outputId": "38cc8b0b-4b78-4832-e9e1-692ec097fb79"
      },
      "execution_count": 6,
      "outputs": [
        {
          "output_type": "execute_result",
          "data": {
            "text/plain": [
              "Empty DataFrame\n",
              "Columns: [ETF, Entry_Signal]\n",
              "Index: []"
            ],
            "text/html": [
              "\n",
              "  <div id=\"df-361db9ee-3b51-4462-8d79-ab879f6537b5\" class=\"colab-df-container\">\n",
              "    <div>\n",
              "<style scoped>\n",
              "    .dataframe tbody tr th:only-of-type {\n",
              "        vertical-align: middle;\n",
              "    }\n",
              "\n",
              "    .dataframe tbody tr th {\n",
              "        vertical-align: top;\n",
              "    }\n",
              "\n",
              "    .dataframe thead th {\n",
              "        text-align: right;\n",
              "    }\n",
              "</style>\n",
              "<table border=\"1\" class=\"dataframe\">\n",
              "  <thead>\n",
              "    <tr style=\"text-align: right;\">\n",
              "      <th></th>\n",
              "      <th>ETF</th>\n",
              "      <th>Entry_Signal</th>\n",
              "    </tr>\n",
              "  </thead>\n",
              "  <tbody>\n",
              "  </tbody>\n",
              "</table>\n",
              "</div>\n",
              "    <div class=\"colab-df-buttons\">\n",
              "\n",
              "  <div class=\"colab-df-container\">\n",
              "    <button class=\"colab-df-convert\" onclick=\"convertToInteractive('df-361db9ee-3b51-4462-8d79-ab879f6537b5')\"\n",
              "            title=\"Convert this dataframe to an interactive table.\"\n",
              "            style=\"display:none;\">\n",
              "\n",
              "  <svg xmlns=\"http://www.w3.org/2000/svg\" height=\"24px\" viewBox=\"0 -960 960 960\">\n",
              "    <path d=\"M120-120v-720h720v720H120Zm60-500h600v-160H180v160Zm220 220h160v-160H400v160Zm0 220h160v-160H400v160ZM180-400h160v-160H180v160Zm440 0h160v-160H620v160ZM180-180h160v-160H180v160Zm440 0h160v-160H620v160Z\"/>\n",
              "  </svg>\n",
              "    </button>\n",
              "\n",
              "  <style>\n",
              "    .colab-df-container {\n",
              "      display:flex;\n",
              "      gap: 12px;\n",
              "    }\n",
              "\n",
              "    .colab-df-convert {\n",
              "      background-color: #E8F0FE;\n",
              "      border: none;\n",
              "      border-radius: 50%;\n",
              "      cursor: pointer;\n",
              "      display: none;\n",
              "      fill: #1967D2;\n",
              "      height: 32px;\n",
              "      padding: 0 0 0 0;\n",
              "      width: 32px;\n",
              "    }\n",
              "\n",
              "    .colab-df-convert:hover {\n",
              "      background-color: #E2EBFA;\n",
              "      box-shadow: 0px 1px 2px rgba(60, 64, 67, 0.3), 0px 1px 3px 1px rgba(60, 64, 67, 0.15);\n",
              "      fill: #174EA6;\n",
              "    }\n",
              "\n",
              "    .colab-df-buttons div {\n",
              "      margin-bottom: 4px;\n",
              "    }\n",
              "\n",
              "    [theme=dark] .colab-df-convert {\n",
              "      background-color: #3B4455;\n",
              "      fill: #D2E3FC;\n",
              "    }\n",
              "\n",
              "    [theme=dark] .colab-df-convert:hover {\n",
              "      background-color: #434B5C;\n",
              "      box-shadow: 0px 1px 3px 1px rgba(0, 0, 0, 0.15);\n",
              "      filter: drop-shadow(0px 1px 2px rgba(0, 0, 0, 0.3));\n",
              "      fill: #FFFFFF;\n",
              "    }\n",
              "  </style>\n",
              "\n",
              "    <script>\n",
              "      const buttonEl =\n",
              "        document.querySelector('#df-361db9ee-3b51-4462-8d79-ab879f6537b5 button.colab-df-convert');\n",
              "      buttonEl.style.display =\n",
              "        google.colab.kernel.accessAllowed ? 'block' : 'none';\n",
              "\n",
              "      async function convertToInteractive(key) {\n",
              "        const element = document.querySelector('#df-361db9ee-3b51-4462-8d79-ab879f6537b5');\n",
              "        const dataTable =\n",
              "          await google.colab.kernel.invokeFunction('convertToInteractive',\n",
              "                                                    [key], {});\n",
              "        if (!dataTable) return;\n",
              "\n",
              "        const docLinkHtml = 'Like what you see? Visit the ' +\n",
              "          '<a target=\"_blank\" href=https://colab.research.google.com/notebooks/data_table.ipynb>data table notebook</a>'\n",
              "          + ' to learn more about interactive tables.';\n",
              "        element.innerHTML = '';\n",
              "        dataTable['output_type'] = 'display_data';\n",
              "        await google.colab.output.renderOutput(dataTable, element);\n",
              "        const docLink = document.createElement('div');\n",
              "        docLink.innerHTML = docLinkHtml;\n",
              "        element.appendChild(docLink);\n",
              "      }\n",
              "    </script>\n",
              "  </div>\n",
              "\n",
              "\n",
              "  <div id=\"id_ce827e2f-c533-4354-b2aa-531aad38c3f7\">\n",
              "    <style>\n",
              "      .colab-df-generate {\n",
              "        background-color: #E8F0FE;\n",
              "        border: none;\n",
              "        border-radius: 50%;\n",
              "        cursor: pointer;\n",
              "        display: none;\n",
              "        fill: #1967D2;\n",
              "        height: 32px;\n",
              "        padding: 0 0 0 0;\n",
              "        width: 32px;\n",
              "      }\n",
              "\n",
              "      .colab-df-generate:hover {\n",
              "        background-color: #E2EBFA;\n",
              "        box-shadow: 0px 1px 2px rgba(60, 64, 67, 0.3), 0px 1px 3px 1px rgba(60, 64, 67, 0.15);\n",
              "        fill: #174EA6;\n",
              "      }\n",
              "\n",
              "      [theme=dark] .colab-df-generate {\n",
              "        background-color: #3B4455;\n",
              "        fill: #D2E3FC;\n",
              "      }\n",
              "\n",
              "      [theme=dark] .colab-df-generate:hover {\n",
              "        background-color: #434B5C;\n",
              "        box-shadow: 0px 1px 3px 1px rgba(0, 0, 0, 0.15);\n",
              "        filter: drop-shadow(0px 1px 2px rgba(0, 0, 0, 0.3));\n",
              "        fill: #FFFFFF;\n",
              "      }\n",
              "    </style>\n",
              "    <button class=\"colab-df-generate\" onclick=\"generateWithVariable('buy_list')\"\n",
              "            title=\"Generate code using this dataframe.\"\n",
              "            style=\"display:none;\">\n",
              "\n",
              "  <svg xmlns=\"http://www.w3.org/2000/svg\" height=\"24px\"viewBox=\"0 0 24 24\"\n",
              "       width=\"24px\">\n",
              "    <path d=\"M7,19H8.4L18.45,9,17,7.55,7,17.6ZM5,21V16.75L18.45,3.32a2,2,0,0,1,2.83,0l1.4,1.43a1.91,1.91,0,0,1,.58,1.4,1.91,1.91,0,0,1-.58,1.4L9.25,21ZM18.45,9,17,7.55Zm-12,3A5.31,5.31,0,0,0,4.9,8.1,5.31,5.31,0,0,0,1,6.5,5.31,5.31,0,0,0,4.9,4.9,5.31,5.31,0,0,0,6.5,1,5.31,5.31,0,0,0,8.1,4.9,5.31,5.31,0,0,0,12,6.5,5.46,5.46,0,0,0,6.5,12Z\"/>\n",
              "  </svg>\n",
              "    </button>\n",
              "    <script>\n",
              "      (() => {\n",
              "      const buttonEl =\n",
              "        document.querySelector('#id_ce827e2f-c533-4354-b2aa-531aad38c3f7 button.colab-df-generate');\n",
              "      buttonEl.style.display =\n",
              "        google.colab.kernel.accessAllowed ? 'block' : 'none';\n",
              "\n",
              "      buttonEl.onclick = () => {\n",
              "        google.colab.notebook.generateWithVariable('buy_list');\n",
              "      }\n",
              "      })();\n",
              "    </script>\n",
              "  </div>\n",
              "\n",
              "    </div>\n",
              "  </div>\n"
            ],
            "application/vnd.google.colaboratory.intrinsic+json": {
              "type": "dataframe",
              "variable_name": "buy_list",
              "repr_error": "Out of range float values are not JSON compliant: nan"
            }
          },
          "metadata": {},
          "execution_count": 6
        }
      ]
    },
    {
      "cell_type": "code",
      "source": [
        "# Apply TA filters and prioritize ETFs\n",
        "results = []\n",
        "buy_list = buy_list[buy_list['Entry_Signal'] !=\"RSI is overbought- Wait for pullback\"]\n",
        "for etf in buy_list['ETF'].to_list():\n",
        "  df =get_weekly_data(etf)\n",
        "  price = df['Close'].iloc[-1].iloc[0]\n",
        "  above_20SMA = price > df['20_week_SMA'].iloc[-1]\n",
        "\n",
        "\n",
        "  if  above_20SMA :\n",
        "    rr_ratio,support_level, resistance_level, latest_price,trail = calculate_risk_reward(df)\n",
        "    results.append({\"ETF\": etf ,\"Risk-Reward\": rr_ratio, \"Support\": support_level, \"Resistance\": resistance_level, \"Current Price\": latest_price, \"Trail Price\": trail})\n",
        "  time.sleep(2)  # Add a delay of 1 second between requests\n",
        "\n",
        "\n",
        "# Sort ETFs by highest risk-to-reward ratio\n",
        "df_results = pd.DataFrame(results).dropna().sort_values(by=\"Risk-Reward\", ascending=False).reset_index(drop = True)\n",
        "df_results\n"
      ],
      "metadata": {
        "colab": {
          "base_uri": "https://localhost:8080/",
          "height": 338
        },
        "id": "uBBD38QcWImG",
        "outputId": "02c4d7a5-c95c-4978-ffc0-1de8c5f6a9ba"
      },
      "execution_count": 7,
      "outputs": [
        {
          "output_type": "error",
          "ename": "KeyError",
          "evalue": "'Risk-Reward'",
          "traceback": [
            "\u001b[0;31m---------------------------------------------------------------------------\u001b[0m",
            "\u001b[0;31mKeyError\u001b[0m                                  Traceback (most recent call last)",
            "\u001b[0;32m<ipython-input-7-05f02fbb9c50>\u001b[0m in \u001b[0;36m<cell line: 0>\u001b[0;34m()\u001b[0m\n\u001b[1;32m     15\u001b[0m \u001b[0;34m\u001b[0m\u001b[0m\n\u001b[1;32m     16\u001b[0m \u001b[0;31m# Sort ETFs by highest risk-to-reward ratio\u001b[0m\u001b[0;34m\u001b[0m\u001b[0;34m\u001b[0m\u001b[0m\n\u001b[0;32m---> 17\u001b[0;31m \u001b[0mdf_results\u001b[0m \u001b[0;34m=\u001b[0m \u001b[0mpd\u001b[0m\u001b[0;34m.\u001b[0m\u001b[0mDataFrame\u001b[0m\u001b[0;34m(\u001b[0m\u001b[0mresults\u001b[0m\u001b[0;34m)\u001b[0m\u001b[0;34m.\u001b[0m\u001b[0mdropna\u001b[0m\u001b[0;34m(\u001b[0m\u001b[0;34m)\u001b[0m\u001b[0;34m.\u001b[0m\u001b[0msort_values\u001b[0m\u001b[0;34m(\u001b[0m\u001b[0mby\u001b[0m\u001b[0;34m=\u001b[0m\u001b[0;34m\"Risk-Reward\"\u001b[0m\u001b[0;34m,\u001b[0m \u001b[0mascending\u001b[0m\u001b[0;34m=\u001b[0m\u001b[0;32mFalse\u001b[0m\u001b[0;34m)\u001b[0m\u001b[0;34m.\u001b[0m\u001b[0mreset_index\u001b[0m\u001b[0;34m(\u001b[0m\u001b[0mdrop\u001b[0m \u001b[0;34m=\u001b[0m \u001b[0;32mTrue\u001b[0m\u001b[0;34m)\u001b[0m\u001b[0;34m\u001b[0m\u001b[0;34m\u001b[0m\u001b[0m\n\u001b[0m\u001b[1;32m     18\u001b[0m \u001b[0mdf_results\u001b[0m\u001b[0;34m\u001b[0m\u001b[0;34m\u001b[0m\u001b[0m\n",
            "\u001b[0;32m/usr/local/lib/python3.11/dist-packages/pandas/core/frame.py\u001b[0m in \u001b[0;36msort_values\u001b[0;34m(self, by, axis, ascending, inplace, kind, na_position, ignore_index, key)\u001b[0m\n\u001b[1;32m   7187\u001b[0m             \u001b[0;31m# len(by) == 1\u001b[0m\u001b[0;34m\u001b[0m\u001b[0;34m\u001b[0m\u001b[0m\n\u001b[1;32m   7188\u001b[0m \u001b[0;34m\u001b[0m\u001b[0m\n\u001b[0;32m-> 7189\u001b[0;31m             \u001b[0mk\u001b[0m \u001b[0;34m=\u001b[0m \u001b[0mself\u001b[0m\u001b[0;34m.\u001b[0m\u001b[0m_get_label_or_level_values\u001b[0m\u001b[0;34m(\u001b[0m\u001b[0mby\u001b[0m\u001b[0;34m[\u001b[0m\u001b[0;36m0\u001b[0m\u001b[0;34m]\u001b[0m\u001b[0;34m,\u001b[0m \u001b[0maxis\u001b[0m\u001b[0;34m=\u001b[0m\u001b[0maxis\u001b[0m\u001b[0;34m)\u001b[0m\u001b[0;34m\u001b[0m\u001b[0;34m\u001b[0m\u001b[0m\n\u001b[0m\u001b[1;32m   7190\u001b[0m \u001b[0;34m\u001b[0m\u001b[0m\n\u001b[1;32m   7191\u001b[0m             \u001b[0;31m# need to rewrap column in Series to apply key function\u001b[0m\u001b[0;34m\u001b[0m\u001b[0;34m\u001b[0m\u001b[0m\n",
            "\u001b[0;32m/usr/local/lib/python3.11/dist-packages/pandas/core/generic.py\u001b[0m in \u001b[0;36m_get_label_or_level_values\u001b[0;34m(self, key, axis)\u001b[0m\n\u001b[1;32m   1909\u001b[0m             \u001b[0mvalues\u001b[0m \u001b[0;34m=\u001b[0m \u001b[0mself\u001b[0m\u001b[0;34m.\u001b[0m\u001b[0maxes\u001b[0m\u001b[0;34m[\u001b[0m\u001b[0maxis\u001b[0m\u001b[0;34m]\u001b[0m\u001b[0;34m.\u001b[0m\u001b[0mget_level_values\u001b[0m\u001b[0;34m(\u001b[0m\u001b[0mkey\u001b[0m\u001b[0;34m)\u001b[0m\u001b[0;34m.\u001b[0m\u001b[0m_values\u001b[0m\u001b[0;34m\u001b[0m\u001b[0;34m\u001b[0m\u001b[0m\n\u001b[1;32m   1910\u001b[0m         \u001b[0;32melse\u001b[0m\u001b[0;34m:\u001b[0m\u001b[0;34m\u001b[0m\u001b[0;34m\u001b[0m\u001b[0m\n\u001b[0;32m-> 1911\u001b[0;31m             \u001b[0;32mraise\u001b[0m \u001b[0mKeyError\u001b[0m\u001b[0;34m(\u001b[0m\u001b[0mkey\u001b[0m\u001b[0;34m)\u001b[0m\u001b[0;34m\u001b[0m\u001b[0;34m\u001b[0m\u001b[0m\n\u001b[0m\u001b[1;32m   1912\u001b[0m \u001b[0;34m\u001b[0m\u001b[0m\n\u001b[1;32m   1913\u001b[0m         \u001b[0;31m# Check for duplicates\u001b[0m\u001b[0;34m\u001b[0m\u001b[0;34m\u001b[0m\u001b[0m\n",
            "\u001b[0;31mKeyError\u001b[0m: 'Risk-Reward'"
          ]
        }
      ]
    }
  ]
}
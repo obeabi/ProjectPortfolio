{
 "cells": [
  {
   "cell_type": "markdown",
   "metadata": {},
   "source": [
    "# Energy efficiency Data Set\n",
    "# Abstract: This study looked into assessing the heating load and cooling load requirements of buildings as a function of building parameters.\n",
    "## Written by Abiola Obembe\n",
    "### Date: 17-06-2020"
   ]
  },
  {
   "cell_type": "code",
   "execution_count": 77,
   "metadata": {},
   "outputs": [
    {
     "name": "stdout",
     "output_type": "stream",
     "text": [
      "libraries installed!\n"
     ]
    }
   ],
   "source": [
    "# impot libaries\n",
    "import numpy as np\n",
    "import matplotlib.pyplot as plt\n",
    "import pandas as pd\n",
    "import seaborn as sns\n",
    "%matplotlib inline\n",
    "print(\"libraries installed!\")"
   ]
  },
  {
   "cell_type": "code",
   "execution_count": 78,
   "metadata": {},
   "outputs": [
    {
     "data": {
      "text/html": [
       "<div>\n",
       "<style scoped>\n",
       "    .dataframe tbody tr th:only-of-type {\n",
       "        vertical-align: middle;\n",
       "    }\n",
       "\n",
       "    .dataframe tbody tr th {\n",
       "        vertical-align: top;\n",
       "    }\n",
       "\n",
       "    .dataframe thead th {\n",
       "        text-align: right;\n",
       "    }\n",
       "</style>\n",
       "<table border=\"1\" class=\"dataframe\">\n",
       "  <thead>\n",
       "    <tr style=\"text-align: right;\">\n",
       "      <th></th>\n",
       "      <th>X1</th>\n",
       "      <th>X2</th>\n",
       "      <th>X3</th>\n",
       "      <th>X4</th>\n",
       "      <th>X5</th>\n",
       "      <th>X6</th>\n",
       "      <th>X7</th>\n",
       "      <th>X8</th>\n",
       "      <th>Y1</th>\n",
       "      <th>Y2</th>\n",
       "    </tr>\n",
       "  </thead>\n",
       "  <tbody>\n",
       "    <tr>\n",
       "      <th>0</th>\n",
       "      <td>0.98</td>\n",
       "      <td>514.5</td>\n",
       "      <td>294.0</td>\n",
       "      <td>110.25</td>\n",
       "      <td>7.0</td>\n",
       "      <td>2</td>\n",
       "      <td>0.0</td>\n",
       "      <td>0</td>\n",
       "      <td>15.55</td>\n",
       "      <td>21.33</td>\n",
       "    </tr>\n",
       "    <tr>\n",
       "      <th>1</th>\n",
       "      <td>0.98</td>\n",
       "      <td>514.5</td>\n",
       "      <td>294.0</td>\n",
       "      <td>110.25</td>\n",
       "      <td>7.0</td>\n",
       "      <td>3</td>\n",
       "      <td>0.0</td>\n",
       "      <td>0</td>\n",
       "      <td>15.55</td>\n",
       "      <td>21.33</td>\n",
       "    </tr>\n",
       "    <tr>\n",
       "      <th>2</th>\n",
       "      <td>0.98</td>\n",
       "      <td>514.5</td>\n",
       "      <td>294.0</td>\n",
       "      <td>110.25</td>\n",
       "      <td>7.0</td>\n",
       "      <td>4</td>\n",
       "      <td>0.0</td>\n",
       "      <td>0</td>\n",
       "      <td>15.55</td>\n",
       "      <td>21.33</td>\n",
       "    </tr>\n",
       "    <tr>\n",
       "      <th>3</th>\n",
       "      <td>0.98</td>\n",
       "      <td>514.5</td>\n",
       "      <td>294.0</td>\n",
       "      <td>110.25</td>\n",
       "      <td>7.0</td>\n",
       "      <td>5</td>\n",
       "      <td>0.0</td>\n",
       "      <td>0</td>\n",
       "      <td>15.55</td>\n",
       "      <td>21.33</td>\n",
       "    </tr>\n",
       "    <tr>\n",
       "      <th>4</th>\n",
       "      <td>0.90</td>\n",
       "      <td>563.5</td>\n",
       "      <td>318.5</td>\n",
       "      <td>122.50</td>\n",
       "      <td>7.0</td>\n",
       "      <td>2</td>\n",
       "      <td>0.0</td>\n",
       "      <td>0</td>\n",
       "      <td>20.84</td>\n",
       "      <td>28.28</td>\n",
       "    </tr>\n",
       "  </tbody>\n",
       "</table>\n",
       "</div>"
      ],
      "text/plain": [
       "     X1     X2     X3      X4   X5  X6   X7  X8     Y1     Y2\n",
       "0  0.98  514.5  294.0  110.25  7.0   2  0.0   0  15.55  21.33\n",
       "1  0.98  514.5  294.0  110.25  7.0   3  0.0   0  15.55  21.33\n",
       "2  0.98  514.5  294.0  110.25  7.0   4  0.0   0  15.55  21.33\n",
       "3  0.98  514.5  294.0  110.25  7.0   5  0.0   0  15.55  21.33\n",
       "4  0.90  563.5  318.5  122.50  7.0   2  0.0   0  20.84  28.28"
      ]
     },
     "execution_count": 78,
     "metadata": {},
     "output_type": "execute_result"
    }
   ],
   "source": [
    "# load dataset\n",
    "dataset = pd.read_excel('data.xlsx')\n",
    "dataset.head()"
   ]
  },
  {
   "cell_type": "code",
   "execution_count": 79,
   "metadata": {},
   "outputs": [
    {
     "name": "stdout",
     "output_type": "stream",
     "text": [
      "The number of missing values in dataframe is 0\n"
     ]
    }
   ],
   "source": [
    "# Check for missing values\n",
    "missing_columns= dataset.isnull().sum()\n",
    "print('The number of missing values in dataframe is', missing_columns.sum())"
   ]
  },
  {
   "cell_type": "code",
   "execution_count": 80,
   "metadata": {},
   "outputs": [
    {
     "name": "stdout",
     "output_type": "stream",
     "text": [
      "Shape of datframe is 768 rows and 10 columns\n"
     ]
    }
   ],
   "source": [
    "# Print the shape of the dataframe\n",
    "print(\"Shape of datframe is\", dataset.shape[0], 'rows','and', dataset.shape[1], 'columns')"
   ]
  },
  {
   "cell_type": "code",
   "execution_count": 81,
   "metadata": {},
   "outputs": [
    {
     "data": {
      "text/plain": [
       "X1    float64\n",
       "X2    float64\n",
       "X3    float64\n",
       "X4    float64\n",
       "X5    float64\n",
       "X6      int64\n",
       "X7    float64\n",
       "X8      int64\n",
       "Y1    float64\n",
       "Y2    float64\n",
       "dtype: object"
      ]
     },
     "execution_count": 81,
     "metadata": {},
     "output_type": "execute_result"
    }
   ],
   "source": [
    "# Examine data types\n",
    "dataset.dtypes"
   ]
  },
  {
   "cell_type": "markdown",
   "metadata": {},
   "source": [
    "## Exploratory analysis of dataframe"
   ]
  },
  {
   "cell_type": "code",
   "execution_count": 82,
   "metadata": {},
   "outputs": [
    {
     "data": {
      "text/html": [
       "<div>\n",
       "<style scoped>\n",
       "    .dataframe tbody tr th:only-of-type {\n",
       "        vertical-align: middle;\n",
       "    }\n",
       "\n",
       "    .dataframe tbody tr th {\n",
       "        vertical-align: top;\n",
       "    }\n",
       "\n",
       "    .dataframe thead th {\n",
       "        text-align: right;\n",
       "    }\n",
       "</style>\n",
       "<table border=\"1\" class=\"dataframe\">\n",
       "  <thead>\n",
       "    <tr style=\"text-align: right;\">\n",
       "      <th></th>\n",
       "      <th>X1</th>\n",
       "      <th>X2</th>\n",
       "      <th>X3</th>\n",
       "      <th>X4</th>\n",
       "      <th>X5</th>\n",
       "      <th>X6</th>\n",
       "      <th>X7</th>\n",
       "      <th>X8</th>\n",
       "      <th>Y1</th>\n",
       "      <th>Y2</th>\n",
       "    </tr>\n",
       "  </thead>\n",
       "  <tbody>\n",
       "    <tr>\n",
       "      <th>count</th>\n",
       "      <td>768.000000</td>\n",
       "      <td>768.000000</td>\n",
       "      <td>768.000000</td>\n",
       "      <td>768.000000</td>\n",
       "      <td>768.00000</td>\n",
       "      <td>768.000000</td>\n",
       "      <td>768.000000</td>\n",
       "      <td>768.00000</td>\n",
       "      <td>768.000000</td>\n",
       "      <td>768.000000</td>\n",
       "    </tr>\n",
       "    <tr>\n",
       "      <th>mean</th>\n",
       "      <td>0.764167</td>\n",
       "      <td>671.708333</td>\n",
       "      <td>318.500000</td>\n",
       "      <td>176.604167</td>\n",
       "      <td>5.25000</td>\n",
       "      <td>3.500000</td>\n",
       "      <td>0.234375</td>\n",
       "      <td>2.81250</td>\n",
       "      <td>22.307195</td>\n",
       "      <td>24.587760</td>\n",
       "    </tr>\n",
       "    <tr>\n",
       "      <th>std</th>\n",
       "      <td>0.105777</td>\n",
       "      <td>88.086116</td>\n",
       "      <td>43.626481</td>\n",
       "      <td>45.165950</td>\n",
       "      <td>1.75114</td>\n",
       "      <td>1.118763</td>\n",
       "      <td>0.133221</td>\n",
       "      <td>1.55096</td>\n",
       "      <td>10.090204</td>\n",
       "      <td>9.513306</td>\n",
       "    </tr>\n",
       "    <tr>\n",
       "      <th>min</th>\n",
       "      <td>0.620000</td>\n",
       "      <td>514.500000</td>\n",
       "      <td>245.000000</td>\n",
       "      <td>110.250000</td>\n",
       "      <td>3.50000</td>\n",
       "      <td>2.000000</td>\n",
       "      <td>0.000000</td>\n",
       "      <td>0.00000</td>\n",
       "      <td>6.010000</td>\n",
       "      <td>10.900000</td>\n",
       "    </tr>\n",
       "    <tr>\n",
       "      <th>25%</th>\n",
       "      <td>0.682500</td>\n",
       "      <td>606.375000</td>\n",
       "      <td>294.000000</td>\n",
       "      <td>140.875000</td>\n",
       "      <td>3.50000</td>\n",
       "      <td>2.750000</td>\n",
       "      <td>0.100000</td>\n",
       "      <td>1.75000</td>\n",
       "      <td>12.992500</td>\n",
       "      <td>15.620000</td>\n",
       "    </tr>\n",
       "    <tr>\n",
       "      <th>50%</th>\n",
       "      <td>0.750000</td>\n",
       "      <td>673.750000</td>\n",
       "      <td>318.500000</td>\n",
       "      <td>183.750000</td>\n",
       "      <td>5.25000</td>\n",
       "      <td>3.500000</td>\n",
       "      <td>0.250000</td>\n",
       "      <td>3.00000</td>\n",
       "      <td>18.950000</td>\n",
       "      <td>22.080000</td>\n",
       "    </tr>\n",
       "    <tr>\n",
       "      <th>75%</th>\n",
       "      <td>0.830000</td>\n",
       "      <td>741.125000</td>\n",
       "      <td>343.000000</td>\n",
       "      <td>220.500000</td>\n",
       "      <td>7.00000</td>\n",
       "      <td>4.250000</td>\n",
       "      <td>0.400000</td>\n",
       "      <td>4.00000</td>\n",
       "      <td>31.667500</td>\n",
       "      <td>33.132500</td>\n",
       "    </tr>\n",
       "    <tr>\n",
       "      <th>max</th>\n",
       "      <td>0.980000</td>\n",
       "      <td>808.500000</td>\n",
       "      <td>416.500000</td>\n",
       "      <td>220.500000</td>\n",
       "      <td>7.00000</td>\n",
       "      <td>5.000000</td>\n",
       "      <td>0.400000</td>\n",
       "      <td>5.00000</td>\n",
       "      <td>43.100000</td>\n",
       "      <td>48.030000</td>\n",
       "    </tr>\n",
       "  </tbody>\n",
       "</table>\n",
       "</div>"
      ],
      "text/plain": [
       "               X1          X2          X3          X4         X5          X6  \\\n",
       "count  768.000000  768.000000  768.000000  768.000000  768.00000  768.000000   \n",
       "mean     0.764167  671.708333  318.500000  176.604167    5.25000    3.500000   \n",
       "std      0.105777   88.086116   43.626481   45.165950    1.75114    1.118763   \n",
       "min      0.620000  514.500000  245.000000  110.250000    3.50000    2.000000   \n",
       "25%      0.682500  606.375000  294.000000  140.875000    3.50000    2.750000   \n",
       "50%      0.750000  673.750000  318.500000  183.750000    5.25000    3.500000   \n",
       "75%      0.830000  741.125000  343.000000  220.500000    7.00000    4.250000   \n",
       "max      0.980000  808.500000  416.500000  220.500000    7.00000    5.000000   \n",
       "\n",
       "               X7         X8          Y1          Y2  \n",
       "count  768.000000  768.00000  768.000000  768.000000  \n",
       "mean     0.234375    2.81250   22.307195   24.587760  \n",
       "std      0.133221    1.55096   10.090204    9.513306  \n",
       "min      0.000000    0.00000    6.010000   10.900000  \n",
       "25%      0.100000    1.75000   12.992500   15.620000  \n",
       "50%      0.250000    3.00000   18.950000   22.080000  \n",
       "75%      0.400000    4.00000   31.667500   33.132500  \n",
       "max      0.400000    5.00000   43.100000   48.030000  "
      ]
     },
     "execution_count": 82,
     "metadata": {},
     "output_type": "execute_result"
    }
   ],
   "source": [
    "# Statistical analysis on dataset\n",
    "dataset.describe()"
   ]
  },
  {
   "cell_type": "code",
   "execution_count": 83,
   "metadata": {},
   "outputs": [
    {
     "data": {
      "image/png": "[encoded data removed]",
      "text/plain": [
       "<Figure size 576x288 with 1 Axes>"
      ]
     },
     "metadata": {
      "needs_background": "light"
     },
     "output_type": "display_data"
    }
   ],
   "source": [
    "# Boxplot of feature X1\n",
    "plt.figure(figsize=(8,4))\n",
    "sns.boxplot(x= 'X1', orient = 'v', data = dataset)\n",
    "plt.show()"
   ]
  },
  {
   "cell_type": "code",
   "execution_count": 84,
   "metadata": {},
   "outputs": [
    {
     "data": {
      "image/png": "[encoded data removed]",
      "text/plain": [
       "<Figure size 576x288 with 1 Axes>"
      ]
     },
     "metadata": {
      "needs_background": "light"
     },
     "output_type": "display_data"
    }
   ],
   "source": [
    "# Boxplot of feature X1\n",
    "plt.figure(figsize=(8,4))\n",
    "sns.boxplot(x= 'X2', orient = 'v', data = dataset)\n",
    "plt.show()"
   ]
  },
  {
   "cell_type": "markdown",
   "metadata": {},
   "source": [
    "### We clearly see that x1, x2, x3,x4,x5 and X7 have reasonable correllation wit Y1 and Y2 \n"
   ]
  },
  {
   "cell_type": "code",
   "execution_count": 85,
   "metadata": {},
   "outputs": [
    {
     "data": {
      "image/png": "[encoded data removed]",
      "text/plain": [
       "<Figure size 432x288 with 1 Axes>"
      ]
     },
     "metadata": {
      "needs_background": "light"
     },
     "output_type": "display_data"
    }
   ],
   "source": [
    "# Plot feature X1 versus target variable Y1\n",
    "sns.regplot(x= 'X1', y= 'Y1', data = dataset)\n",
    "plt.show()"
   ]
  },
  {
   "cell_type": "code",
   "execution_count": 86,
   "metadata": {},
   "outputs": [
    {
     "data": {
      "image/png": "[encoded data removed]",
      "text/plain": [
       "<Figure size 432x288 with 1 Axes>"
      ]
     },
     "metadata": {
      "needs_background": "light"
     },
     "output_type": "display_data"
    }
   ],
   "source": [
    "# Plot feature X1 versus target variable Y2\n",
    "sns.regplot(x= 'X1', y= 'Y2', data = dataset)\n",
    "plt.show()"
   ]
  },
  {
   "cell_type": "code",
   "execution_count": 87,
   "metadata": {},
   "outputs": [
    {
     "data": {
      "image/png": "[encoded data removed]",
      "text/plain": [
       "<Figure size 432x288 with 1 Axes>"
      ]
     },
     "metadata": {
      "needs_background": "light"
     },
     "output_type": "display_data"
    }
   ],
   "source": [
    "# Plot feature X2 versus target variable Y1\n",
    "sns.regplot(x= 'X2', y= 'Y1', data = dataset)\n",
    "plt.show()"
   ]
  },
  {
   "cell_type": "code",
   "execution_count": 88,
   "metadata": {},
   "outputs": [
    {
     "data": {
      "image/png": "[encoded data removed]",
      "text/plain": [
       "<Figure size 432x288 with 1 Axes>"
      ]
     },
     "metadata": {
      "needs_background": "light"
     },
     "output_type": "display_data"
    }
   ],
   "source": [
    "# Plot feature X2 versus target variable Y2\n",
    "sns.regplot(x= 'X2', y= 'Y2', data = dataset)\n",
    "plt.show()"
   ]
  },
  {
   "cell_type": "code",
   "execution_count": 89,
   "metadata": {},
   "outputs": [
    {
     "data": {
      "image/png": "[encoded data removed]",
      "text/plain": [
       "<Figure size 432x288 with 1 Axes>"
      ]
     },
     "metadata": {
      "needs_background": "light"
     },
     "output_type": "display_data"
    }
   ],
   "source": [
    "# Plot feature X3 versus target variable Y1\n",
    "sns.regplot(x= 'X3', y= 'Y1', data = dataset)\n",
    "plt.show()"
   ]
  },
  {
   "cell_type": "code",
   "execution_count": 90,
   "metadata": {},
   "outputs": [
    {
     "data": {
      "image/png": "[encoded data removed]",
      "text/plain": [
       "<Figure size 432x288 with 1 Axes>"
      ]
     },
     "metadata": {
      "needs_background": "light"
     },
     "output_type": "display_data"
    }
   ],
   "source": [
    "# Plot feature X3 versus target variable Y2\n",
    "sns.regplot(x= 'X3', y= 'Y2', data = dataset)\n",
    "plt.show()"
   ]
  },
  {
   "cell_type": "code",
   "execution_count": 91,
   "metadata": {},
   "outputs": [
    {
     "data": {
      "image/png": "[encoded data removed]",
      "text/plain": [
       "<Figure size 432x288 with 1 Axes>"
      ]
     },
     "metadata": {
      "needs_background": "light"
     },
     "output_type": "display_data"
    }
   ],
   "source": [
    "# Plot feature X4 versus target variable Y1\n",
    "sns.regplot(x= 'X4', y= 'Y1', data = dataset)\n",
    "plt.show()"
   ]
  },
  {
   "cell_type": "code",
   "execution_count": 92,
   "metadata": {},
   "outputs": [
    {
     "data": {
      "image/png": "[encoded data removed]",
      "text/plain": [
       "<Figure size 432x288 with 1 Axes>"
      ]
     },
     "metadata": {
      "needs_background": "light"
     },
     "output_type": "display_data"
    }
   ],
   "source": [
    "# Plot feature X4 versus target variable Y2\n",
    "sns.regplot(x= 'X4', y= 'Y2', data = dataset)\n",
    "plt.show()"
   ]
  },
  {
   "cell_type": "code",
   "execution_count": 93,
   "metadata": {},
   "outputs": [
    {
     "data": {
      "image/png": "[encoded data removed]",
      "text/plain": [
       "<Figure size 432x288 with 1 Axes>"
      ]
     },
     "metadata": {
      "needs_background": "light"
     },
     "output_type": "display_data"
    }
   ],
   "source": [
    "# Plot feature X5 versus target variable Y1\n",
    "sns.regplot(x= 'X5', y= 'Y1', data = dataset)\n",
    "plt.show()"
   ]
  },
  {
   "cell_type": "code",
   "execution_count": 94,
   "metadata": {},
   "outputs": [
    {
     "data": {
      "image/png": "[encoded data removed]",
      "text/plain": [
       "<Figure size 432x288 with 1 Axes>"
      ]
     },
     "metadata": {
      "needs_background": "light"
     },
     "output_type": "display_data"
    }
   ],
   "source": [
    "# Plot feature X5 versus target variable Y2\n",
    "sns.regplot(x= 'X5', y= 'Y1', data = dataset)\n",
    "plt.show()"
   ]
  },
  {
   "cell_type": "code",
   "execution_count": 95,
   "metadata": {},
   "outputs": [
    {
     "data": {
      "image/png": "[encoded data removed]",
      "text/plain": [
       "<Figure size 432x288 with 1 Axes>"
      ]
     },
     "metadata": {
      "needs_background": "light"
     },
     "output_type": "display_data"
    }
   ],
   "source": [
    "# Plot feature X6 versus target variable Y1\n",
    "sns.regplot(x= 'X6', y= 'Y1', data = dataset)\n",
    "plt.show()"
   ]
  },
  {
   "cell_type": "code",
   "execution_count": 96,
   "metadata": {},
   "outputs": [
    {
     "data": {
      "image/png": "[encoded data removed]",
      "text/plain": [
       "<Figure size 432x288 with 1 Axes>"
      ]
     },
     "metadata": {
      "needs_background": "light"
     },
     "output_type": "display_data"
    }
   ],
   "source": [
    "# Plot feature X6 versus target variable Y2\n",
    "sns.regplot(x= 'X6', y= 'Y1', data = dataset)\n",
    "plt.show()"
   ]
  },
  {
   "cell_type": "code",
   "execution_count": 97,
   "metadata": {},
   "outputs": [
    {
     "data": {
      "image/png": "[encoded data removed]",
      "text/plain": [
       "<Figure size 432x288 with 1 Axes>"
      ]
     },
     "metadata": {
      "needs_background": "light"
     },
     "output_type": "display_data"
    }
   ],
   "source": [
    "# Plot feature X7 versus target variable Y1\n",
    "sns.regplot(x= 'X7', y= 'Y1', data = dataset)\n",
    "plt.show()"
   ]
  },
  {
   "cell_type": "code",
   "execution_count": 98,
   "metadata": {},
   "outputs": [
    {
     "data": {
      "image/png": "[encoded data removed]",
      "text/plain": [
       "<Figure size 432x288 with 1 Axes>"
      ]
     },
     "metadata": {
      "needs_background": "light"
     },
     "output_type": "display_data"
    }
   ],
   "source": [
    "# Plot feature X7 versus target variable Y2\n",
    "sns.regplot(x= 'X7', y= 'Y2', data = dataset)\n",
    "plt.show()"
   ]
  },
  {
   "cell_type": "code",
   "execution_count": 99,
   "metadata": {},
   "outputs": [
    {
     "data": {
      "image/png": "[encoded data removed]",
      "text/plain": [
       "<Figure size 432x288 with 1 Axes>"
      ]
     },
     "metadata": {
      "needs_background": "light"
     },
     "output_type": "display_data"
    }
   ],
   "source": [
    "# Plot feature X8 versus target variable Y1\n",
    "sns.regplot(x= 'X8', y= 'Y1', data = dataset)\n",
    "plt.show()"
   ]
  },
  {
   "cell_type": "code",
   "execution_count": 100,
   "metadata": {},
   "outputs": [
    {
     "data": {
      "image/png": "[encoded data removed]",
      "text/plain": [
       "<Figure size 432x288 with 1 Axes>"
      ]
     },
     "metadata": {
      "needs_background": "light"
     },
     "output_type": "display_data"
    }
   ],
   "source": [
    "# Plot feature X8 versus target variable Y2\n",
    "sns.regplot(x= 'X8', y= 'Y2', data = dataset)\n",
    "plt.show()"
   ]
  },
  {
   "cell_type": "code",
   "execution_count": 101,
   "metadata": {},
   "outputs": [],
   "source": [
    "# Split dataframe into features and target variables\n",
    "X = dataset.iloc[:, :-2].values\n",
    "y = dataset.iloc[:, -2:].values"
   ]
  },
  {
   "cell_type": "code",
   "execution_count": 102,
   "metadata": {},
   "outputs": [
    {
     "name": "stdout",
     "output_type": "stream",
     "text": [
      "[[  0.98 514.5  294.   110.25   7.     2.     0.     0.  ]\n",
      " [  0.98 514.5  294.   110.25   7.     3.     0.     0.  ]\n",
      " [  0.98 514.5  294.   110.25   7.     4.     0.     0.  ]\n",
      " [  0.98 514.5  294.   110.25   7.     5.     0.     0.  ]\n",
      " [  0.9  563.5  318.5  122.5    7.     2.     0.     0.  ]]\n"
     ]
    }
   ],
   "source": [
    "# print first five rows of X\n",
    "print(X[0:5])"
   ]
  },
  {
   "cell_type": "code",
   "execution_count": 103,
   "metadata": {},
   "outputs": [
    {
     "name": "stdout",
     "output_type": "stream",
     "text": [
      "[[15.55 21.33]\n",
      " [15.55 21.33]\n",
      " [15.55 21.33]\n",
      " [15.55 21.33]\n",
      " [20.84 28.28]]\n"
     ]
    }
   ],
   "source": [
    "# print first five rows of target variable y\n",
    "print(y[0:5])"
   ]
  },
  {
   "cell_type": "code",
   "execution_count": 104,
   "metadata": {},
   "outputs": [],
   "source": [
    "# Splitting the dataset into the Training set and Test set\n",
    "from sklearn.model_selection import train_test_split\n",
    "X_train, X_test, y_train, y_test = train_test_split(X, y, test_size = 0.2, random_state = 0)"
   ]
  },
  {
   "cell_type": "code",
   "execution_count": 105,
   "metadata": {},
   "outputs": [
    {
     "name": "stdout",
     "output_type": "stream",
     "text": [
      "Shape of Train set (614, 8) (614, 2)\n",
      "Shape of Test set (154, 8) (154, 2)\n"
     ]
    }
   ],
   "source": [
    "# Examine train and test X and y\n",
    "print('Shape of Train set', X_train.shape, y_train.shape)\n",
    "print('Shape of Test set', X_test.shape, y_test.shape)"
   ]
  },
  {
   "cell_type": "markdown",
   "metadata": {},
   "source": [
    "## Build and Train models"
   ]
  },
  {
   "cell_type": "code",
   "execution_count": 106,
   "metadata": {},
   "outputs": [
    {
     "name": "stdout",
     "output_type": "stream",
     "text": [
      "[[17.41 19.2  15.18 17.63]\n",
      " [ 8.01 12.26 10.32 13.57]\n",
      " [29.44 32.25 37.26 34.62]\n",
      " [25.83 29.78 16.95 21.16]\n",
      " [31.09 32.09 32.26 33.34]\n",
      " [27.46 30.22 27.9  34.2 ]\n",
      " [28.26 29.99 28.18 30.18]\n",
      " [34.11 35.56 28.95 30.34]\n",
      " [29.38 32.05 29.07 29.82]\n",
      " [28.49 31.09 23.8  24.61]\n",
      " [ 6.97 11.91  6.4  11.67]\n",
      " [35.2  36.89 42.5  38.35]\n",
      " [11.77 14.87 11.22 14.65]\n",
      " [35.38 36.77 43.1  39.41]\n",
      " [35.86 36.84 41.96 37.7 ]\n",
      " [26.59 29.67 26.33 31.06]\n",
      " [ 9.43 13.49 10.7  13.87]\n",
      " [27.3  30.19 28.09 34.33]\n",
      " [15.98 18.08 14.65 15.38]\n",
      " [12.29 15.44 12.29 15.4 ]\n",
      " [13.16 15.88 12.46 14.38]\n",
      " [31.25 32.11 32.71 33.13]\n",
      " [ 9.5  13.06 10.77 14.14]\n",
      " [32.43 34.37 38.57 43.86]\n",
      " [ 5.69 10.85  6.04 11.17]\n",
      " [15.26 17.7  14.66 17.37]\n",
      " [13.01 15.82 13.   14.47]\n",
      " [14.47 16.57 14.41 16.69]\n",
      " [ 9.11 13.44 10.75 14.27]\n",
      " [32.91 34.44 39.89 37.54]\n",
      " [13.21 15.56 12.74 13.97]\n",
      " [14.42 17.08 12.74 16.14]\n",
      " [35.56 36.65 41.26 46.44]\n",
      " [14.26 17.06 12.77 16.22]\n",
      " [28.44 29.87 28.56 29.78]\n",
      " [36.94 37.62 35.99 36.07]\n",
      " [14.15 16.52 13.97 16.08]\n",
      " [37.26 37.66 35.69 36.93]\n",
      " [18.47 20.27 17.14 17.2 ]\n",
      " [ 9.74 13.37 10.85 16.78]\n",
      " [11.47 14.68 11.6  13.7 ]\n",
      " [32.39 34.65 39.97 36.77]\n",
      " [15.77 18.38 14.42 17.2 ]\n",
      " [31.24 33.76 25.17 26.41]\n",
      " [24.01 27.78 19.5  27.3 ]\n",
      " [25.47 27.61 24.4  26.02]\n",
      " [ 9.75 13.54 13.69 13.89]\n",
      " [13.11 16.17 12.12 15.17]\n",
      " [27.8  30.12 28.86 32.83]\n",
      " [32.51 34.33 32.75 31.  ]\n",
      " [31.23 32.25 32.24 33.94]\n",
      " [12.71 15.63 12.97 14.27]\n",
      " [34.07 35.81 32.31 34.05]\n",
      " [17.75 19.11 14.96 17.64]\n",
      " [37.1  37.64 36.95 37.2 ]\n",
      " [ 7.83 12.38 10.39 13.7 ]\n",
      " [23.01 26.04 15.55 21.33]\n",
      " [30.92 33.71 26.19 31.39]\n",
      " [32.68 34.84 40.12 37.26]\n",
      " [16.27 18.31 14.53 16.9 ]\n",
      " [17.39 19.34 14.72 18.1 ]\n",
      " [12.31 15.3  12.33 14.91]\n",
      " [31.39 32.28 32.23 33.86]\n",
      " [ 8.49 12.33 10.34 13.72]\n",
      " [12.13 15.42 12.65 15.85]\n",
      " [11.18 14.26 11.8  14.49]\n",
      " [32.37 34.8  38.98 45.97]\n",
      " [10.52 13.52 11.21 14.55]\n",
      " [26.75 29.69 25.36 32.04]\n",
      " [32.52 34.82 39.83 36.87]\n",
      " [31.43 31.99 32.82 32.78]\n",
      " [ 9.61 13.37 10.53 13.79]\n",
      " [28.63 31.26 23.89 24.77]\n",
      " [18.65 20.15 17.26 16.86]\n",
      " [12.3  15.41 15.16 19.48]\n",
      " [31.08 33.73 24.94 29.88]\n",
      " [31.59 32.02 32.85 32.95]\n",
      " [32.84 34.87 38.65 43.73]\n",
      " [31.75 32.04 32.84 32.88]\n",
      " [15.12 17.53 14.51 17.1 ]\n",
      " [33.4  34.74 35.69 40.66]\n",
      " [27.64 30.1  29.62 30.08]\n",
      " [11.15 14.63 11.69 13.72]\n",
      " [16.16 17.96 14.16 14.61]\n",
      " [34.53 36.07 29.92 32.54]\n",
      " [31.1  33.59 25.38 26.72]\n",
      " [25.77 27.81 24.03 25.88]\n",
      " [27.11 30.84 29.63 30.93]\n",
      " [13.07 15.39 12.85 14.37]\n",
      " [18.63 20.29 17.15 16.99]\n",
      " [13.95 16.78 14.18 16.99]\n",
      " [26.72 29.83 26.45 31.28]\n",
      " [10.84 14.36 12.5  15.5 ]\n",
      " [25.13 27.71 24.63 26.44]\n",
      " [39.6  39.83 40.78 39.55]\n",
      " [18.53 19.84 15.09 17.2 ]\n",
      " [34.23 35.87 29.47 29.77]\n",
      " [15.99 17.97 14.75 16.44]\n",
      " [ 8.97 13.39  7.1  12.14]\n",
      " [36.9  37.9  35.64 37.28]\n",
      " [29.57 32.42 36.97 35.1 ]\n",
      " [28.33 31.07 22.93 28.68]\n",
      " [23.97 28.07 19.34 23.49]\n",
      " [33.65 35.31 32.96 33.87]\n",
      " [ 8.47 12.48 10.39 13.5 ]\n",
      " [29.54 32.07 29.88 28.31]\n",
      " [35.88 36.7  42.11 38.56]\n",
      " [14.56 17.25 12.92 16.14]\n",
      " [12.15 15.27 12.57 15.42]\n",
      " [22.99 26.18 15.55 21.33]\n",
      " [18.46 19.52 17.69 20.82]\n",
      " [34.09 35.67 33.09 33.89]\n",
      " [32.21 34.14 32.13 32.28]\n",
      " [12.14 15.38 15.36 19.29]\n",
      " [12.41 15.75 12.19 14.94]\n",
      " [12.46 15.43 15.36 19.29]\n",
      " [11.75 15.02 11.34 14.87]\n",
      " [29.89 32.46 36.77 43.14]\n",
      " [26.77 29.55 26.45 27.33]\n",
      " [40.24 39.92 38.82 39.37]\n",
      " [33.92 34.52 35.01 33.14]\n",
      " [10.98 14.52 12.16 15.18]\n",
      " [12.11 15.56 12.57 15.44]\n",
      " [33.42 34.59 36.06 34.94]\n",
      " [12.45 15.47 12.28 14.74]\n",
      " [40.03 40.19 40.6  39.85]\n",
      " [14.27 16.83 14.32 16.9 ]\n",
      " [28.42 30.02 28.17 30.1 ]\n",
      " [11.34 14.28 12.32 14.92]\n",
      " [32.73 33.92 32.31 29.69]\n",
      " [33.59 35.74 32.21 33.67]\n",
      " [25.15 27.57 24.63 26.37]\n",
      " [29.73 32.44 35.45 41.86]\n",
      " [11.16 14.4  12.03 13.79]\n",
      " [37.2  38.09 36.7  36.15]\n",
      " [ 9.01 13.1   7.1  12.23]\n",
      " [34.37 36.04 29.52 28.43]\n",
      " [25.17 27.42 24.58 26.47]\n",
      " [34.27 35.55 33.21 34.35]\n",
      " [15.42 17.73 14.03 15.47]\n",
      " [14.79 17.59 17.37 21.08]\n",
      " [17.82 19.42 19.52 22.72]\n",
      " [27.84 29.83 29.06 29.34]\n",
      " [ 9.18 13.01 10.71 13.8 ]\n",
      " [29.3  32.08 35.56 41.68]\n",
      " [18.79 20.32 16.74 16.  ]\n",
      " [27.36 29.76 29.03 32.92]\n",
      " [36.58 37.86 36.91 37.45]\n",
      " [13.18 15.74 12.34 14.92]\n",
      " [16.04 17.65 14.33 15.41]\n",
      " [28.74 30.07 28.15 30.  ]\n",
      " [11.61 14.85 11.33 15.  ]\n",
      " [16.14 18.1  13.86 14.75]\n",
      " [15.72 17.6  14.34 15.32]]\n"
     ]
    }
   ],
   "source": [
    "# Multiple regression model\n",
    "from sklearn.multioutput import MultiOutputRegressor\n",
    "from sklearn.linear_model import LinearRegression\n",
    "regressor = MultiOutputRegressor(LinearRegression())\n",
    "regressor.fit(X_train, y_train)\n",
    "\n",
    "# Predicting the Test set results\n",
    "y_pred = regressor.predict(X_test)\n",
    "np.set_printoptions(precision=2)\n",
    "print(np.concatenate((y_pred.reshape(len(y_pred),2), y_test.reshape(len(y_test),2)),1))"
   ]
  },
  {
   "cell_type": "code",
   "execution_count": 107,
   "metadata": {},
   "outputs": [
    {
     "name": "stdout",
     "output_type": "stream",
     "text": [
      "The accuracy of the multiple linera regression model is : 0.8973911074905536\n"
     ]
    }
   ],
   "source": [
    "# Accuracy of multiple regression model based on R_square\n",
    "accuracy= regressor.score(X_test,y_test)\n",
    "print(\"The accuracy of the multiple linera regression model is :\", accuracy)"
   ]
  },
  {
   "cell_type": "markdown",
   "metadata": {},
   "source": [
    "## The accuracy of MLR is 89.7%"
   ]
  },
  {
   "cell_type": "markdown",
   "metadata": {},
   "source": [
    "### Build and train Ridge Regression Model"
   ]
  },
  {
   "cell_type": "code",
   "execution_count": 108,
   "metadata": {},
   "outputs": [
    {
     "name": "stdout",
     "output_type": "stream",
     "text": [
      "[[17.39 19.18 15.18 17.63]\n",
      " [ 7.92 12.16 10.32 13.57]\n",
      " [29.42 32.23 37.26 34.62]\n",
      " [25.82 29.76 16.95 21.16]\n",
      " [31.19 32.2  32.26 33.34]\n",
      " [27.47 30.23 27.9  34.2 ]\n",
      " [28.36 30.11 28.18 30.18]\n",
      " [34.1  35.55 28.95 30.34]\n",
      " [29.45 32.13 29.07 29.82]\n",
      " [28.48 31.08 23.8  24.61]\n",
      " [ 6.89 11.82  6.4  11.67]\n",
      " [35.18 36.87 42.5  38.35]\n",
      " [11.76 14.86 11.22 14.65]\n",
      " [35.36 36.75 43.1  39.41]\n",
      " [35.84 36.82 41.96 37.7 ]\n",
      " [26.66 29.75 26.33 31.06]\n",
      " [ 9.35 13.39 10.7  13.87]\n",
      " [27.31 30.21 28.09 34.33]\n",
      " [16.12 18.24 14.65 15.38]\n",
      " [12.2  15.34 12.29 15.4 ]\n",
      " [13.14 15.86 12.46 14.38]\n",
      " [31.35 32.22 32.71 33.13]\n",
      " [ 9.41 12.96 10.77 14.14]\n",
      " [32.41 34.35 38.57 43.86]\n",
      " [ 5.6  10.76  6.04 11.17]\n",
      " [15.17 17.6  14.66 17.37]\n",
      " [13.15 15.98 13.   14.47]\n",
      " [14.38 16.46 14.41 16.69]\n",
      " [ 9.03 13.35 10.75 14.27]\n",
      " [32.89 34.42 39.89 37.54]\n",
      " [13.35 15.71 12.74 13.97]\n",
      " [14.41 17.07 12.74 16.14]\n",
      " [35.54 36.63 41.26 46.44]\n",
      " [14.25 17.04 12.77 16.22]\n",
      " [28.54 29.99 28.56 29.78]\n",
      " [36.79 37.44 35.99 36.07]\n",
      " [14.06 16.42 13.97 16.08]\n",
      " [37.11 37.49 35.69 36.93]\n",
      " [18.61 20.42 17.14 17.2 ]\n",
      " [ 9.8  13.44 10.85 16.78]\n",
      " [11.46 14.66 11.6  13.7 ]\n",
      " [32.37 34.64 39.97 36.77]\n",
      " [15.75 18.36 14.42 17.2 ]\n",
      " [31.23 33.75 25.17 26.41]\n",
      " [24.08 27.86 19.5  27.3 ]\n",
      " [25.57 27.73 24.4  26.02]\n",
      " [ 9.67 13.44 13.69 13.89]\n",
      " [13.1  16.15 12.12 15.17]\n",
      " [27.81 30.14 28.86 32.83]\n",
      " [32.58 34.41 32.75 31.  ]\n",
      " [31.33 32.37 32.24 33.94]\n",
      " [12.85 15.78 12.97 14.27]\n",
      " [33.92 35.64 32.31 34.05]\n",
      " [17.73 19.08 14.96 17.64]\n",
      " [36.95 37.46 36.95 37.2 ]\n",
      " [ 7.74 12.29 10.39 13.7 ]\n",
      " [23.11 26.15 15.55 21.33]\n",
      " [30.91 33.7  26.19 31.39]\n",
      " [32.67 34.83 40.12 37.26]\n",
      " [16.25 18.29 14.53 16.9 ]\n",
      " [17.37 19.33 14.72 18.1 ]\n",
      " [12.22 15.19 12.33 14.91]\n",
      " [31.49 32.39 32.23 33.86]\n",
      " [ 8.4  12.24 10.34 13.72]\n",
      " [12.04 15.31 12.65 15.85]\n",
      " [11.09 14.16 11.8  14.49]\n",
      " [32.35 34.78 38.98 45.97]\n",
      " [10.51 13.51 11.21 14.55]\n",
      " [26.82 29.77 25.36 32.04]\n",
      " [32.51 34.81 39.83 36.87]\n",
      " [31.53 32.1  32.82 32.78]\n",
      " [ 9.53 13.27 10.53 13.79]\n",
      " [28.62 31.25 23.89 24.77]\n",
      " [18.79 20.3  17.26 16.86]\n",
      " [12.36 15.48 15.16 19.48]\n",
      " [31.07 33.72 24.94 29.88]\n",
      " [31.69 32.13 32.85 32.95]\n",
      " [32.83 34.85 38.65 43.73]\n",
      " [31.85 32.15 32.84 32.88]\n",
      " [15.02 17.43 14.51 17.1 ]\n",
      " [33.41 34.75 35.69 40.66]\n",
      " [27.65 30.11 29.62 30.08]\n",
      " [11.14 14.62 11.69 13.72]\n",
      " [16.3  18.12 14.16 14.61]\n",
      " [34.52 36.05 29.92 32.54]\n",
      " [31.09 33.58 25.38 26.72]\n",
      " [25.87 27.92 24.03 25.88]\n",
      " [27.1  30.82 29.63 30.93]\n",
      " [13.21 15.54 12.85 14.37]\n",
      " [18.77 20.45 17.15 16.99]\n",
      " [13.86 16.68 14.18 16.99]\n",
      " [26.8  29.92 26.45 31.28]\n",
      " [10.75 14.25 12.5  15.5 ]\n",
      " [25.23 27.83 24.63 26.44]\n",
      " [39.44 39.65 40.78 39.55]\n",
      " [18.66 19.99 15.09 17.2 ]\n",
      " [34.22 35.86 29.47 29.77]\n",
      " [15.97 17.95 14.75 16.44]\n",
      " [ 8.96 13.38  7.1  12.14]\n",
      " [36.75 37.73 35.64 37.28]\n",
      " [29.56 32.4  36.97 35.1 ]\n",
      " [28.32 31.05 22.93 28.68]\n",
      " [24.04 28.14 19.34 23.49]\n",
      " [33.5  35.13 32.96 33.87]\n",
      " [ 8.38 12.38 10.39 13.5 ]\n",
      " [29.61 32.15 29.88 28.31]\n",
      " [35.86 36.68 42.11 38.56]\n",
      " [14.55 17.24 12.92 16.14]\n",
      " [12.06 15.17 12.57 15.42]\n",
      " [23.09 26.3  15.55 21.33]\n",
      " [18.52 19.58 17.69 20.82]\n",
      " [33.94 35.5  33.09 33.89]\n",
      " [32.28 34.22 32.13 32.28]\n",
      " [12.2  15.45 15.36 19.29]\n",
      " [12.32 15.65 12.19 14.94]\n",
      " [12.52 15.5  15.36 19.29]\n",
      " [11.74 15.   11.34 14.87]\n",
      " [29.88 32.45 36.77 43.14]\n",
      " [26.84 29.63 26.45 27.33]\n",
      " [40.08 39.75 38.82 39.37]\n",
      " [33.93 34.53 35.01 33.14]\n",
      " [10.89 14.42 12.16 15.18]\n",
      " [12.02 15.46 12.57 15.44]\n",
      " [33.43 34.61 36.06 34.94]\n",
      " [12.36 15.36 12.28 14.74]\n",
      " [39.88 40.01 40.6  39.85]\n",
      " [14.18 16.73 14.32 16.9 ]\n",
      " [28.52 30.14 28.17 30.1 ]\n",
      " [11.25 14.18 12.32 14.92]\n",
      " [32.8  34.   32.31 29.69]\n",
      " [33.44 35.57 32.21 33.67]\n",
      " [25.25 27.68 24.63 26.37]\n",
      " [29.72 32.43 35.45 41.86]\n",
      " [11.07 14.3  12.03 13.79]\n",
      " [37.05 37.92 36.7  36.15]\n",
      " [ 9.   13.09  7.1  12.23]\n",
      " [34.36 36.03 29.52 28.43]\n",
      " [25.27 27.54 24.58 26.47]\n",
      " [34.12 35.37 33.21 34.35]\n",
      " [15.33 17.62 14.03 15.47]\n",
      " [14.85 17.66 17.37 21.08]\n",
      " [17.88 19.49 19.52 22.72]\n",
      " [27.85 29.85 29.06 29.34]\n",
      " [ 9.09 12.91 10.71 13.8 ]\n",
      " [29.28 32.06 35.56 41.68]\n",
      " [18.93 20.47 16.74 16.  ]\n",
      " [27.37 29.77 29.03 32.92]\n",
      " [36.43 37.68 36.91 37.45]\n",
      " [13.16 15.72 12.34 14.92]\n",
      " [16.18 17.8  14.33 15.41]\n",
      " [28.84 30.18 28.15 30.  ]\n",
      " [11.6  14.83 11.33 15.  ]\n",
      " [16.28 18.26 13.86 14.75]\n",
      " [15.86 17.75 14.34 15.32]]\n"
     ]
    }
   ],
   "source": [
    "from sklearn.multioutput import MultiOutputRegressor\n",
    "from sklearn.linear_model import Ridge\n",
    "regressor = MultiOutputRegressor(Ridge(random_state=0, alpha = 1e-2))\n",
    "regressor.fit(X_train, y_train)\n",
    "\n",
    "# Predicting the Test set results\n",
    "y_pred = regressor.predict(X_test)\n",
    "np.set_printoptions(precision=2)\n",
    "print(np.concatenate((y_pred.reshape(len(y_pred),2), y_test.reshape(len(y_test),2)),1))"
   ]
  },
  {
   "cell_type": "code",
   "execution_count": 109,
   "metadata": {},
   "outputs": [
    {
     "name": "stdout",
     "output_type": "stream",
     "text": [
      "The accuracy of the ridge regression model is : 0.8967383547920822\n"
     ]
    }
   ],
   "source": [
    "# Accuracy of ridge regression model based on R_square\n",
    "accuracy= regressor.score(X_test,y_test)\n",
    "print(\"The accuracy of the ridge regression model is :\", accuracy)"
   ]
  },
  {
   "cell_type": "markdown",
   "metadata": {},
   "source": [
    "## The accuracy of ridge regression model is 89.7%"
   ]
  },
  {
   "cell_type": "markdown",
   "metadata": {},
   "source": [
    "## Build and train a Lasso regression model"
   ]
  },
  {
   "cell_type": "code",
   "execution_count": 110,
   "metadata": {},
   "outputs": [
    {
     "name": "stdout",
     "output_type": "stream",
     "text": [
      "[[17.2  18.98 15.18 17.63]\n",
      " [ 7.45 11.61 10.32 13.57]\n",
      " [29.35 32.16 37.26 34.62]\n",
      " [25.82 29.75 16.95 21.16]\n",
      " [31.78 32.88 32.26 33.34]\n",
      " [27.65 30.4  27.9  34.2 ]\n",
      " [29.06 30.88 28.18 30.18]\n",
      " [33.86 35.33 28.95 30.34]\n",
      " [29.87 32.58 29.07 29.82]\n",
      " [28.42 31.03 23.8  24.61]\n",
      " [ 6.45 11.29  6.4  11.67]\n",
      " [34.96 36.64 42.5  38.35]\n",
      " [11.76 14.84 11.22 14.65]\n",
      " [35.13 36.52 43.1  39.41]\n",
      " [35.63 36.61 41.96 37.7 ]\n",
      " [27.15 30.28 26.33 31.06]\n",
      " [ 8.88 12.83 10.7  13.87]\n",
      " [27.49 30.37 28.09 34.33]\n",
      " [17.02 19.22 14.65 15.38]\n",
      " [11.61 14.68 12.29 15.4 ]\n",
      " [13.04 15.76 12.46 14.38]\n",
      " [31.95 32.91 32.71 33.13]\n",
      " [ 8.88 12.39 10.77 14.14]\n",
      " [32.25 34.19 38.57 43.86]\n",
      " [ 5.18 10.24  6.04 11.17]\n",
      " [14.49 16.86 14.66 17.37]\n",
      " [14.13 17.04 13.   14.47]\n",
      " [13.73 15.76 14.41 16.69]\n",
      " [ 8.55 12.77 10.75 14.27]\n",
      " [32.75 34.29 39.89 37.54]\n",
      " [14.3  16.78 12.74 13.97]\n",
      " [14.31 16.95 12.74 16.14]\n",
      " [35.3  36.4  41.26 46.44]\n",
      " [14.15 16.92 12.77 16.22]\n",
      " [29.23 30.76 28.56 29.78]\n",
      " [35.79 36.35 35.99 36.07]\n",
      " [13.39 15.7  13.97 16.08]\n",
      " [36.13 36.41 35.69 36.93]\n",
      " [19.41 21.31 17.14 17.2 ]\n",
      " [10.27 13.98 10.85 16.78]\n",
      " [11.42 14.63 11.6  13.7 ]\n",
      " [32.24 34.49 39.97 36.77]\n",
      " [15.6  18.17 14.42 17.2 ]\n",
      " [31.14 33.62 25.17 26.41]\n",
      " [24.56 28.41 19.5  27.3 ]\n",
      " [26.34 28.58 24.4  26.02]\n",
      " [ 9.21 12.89 13.69 13.89]\n",
      " [13.04 16.06 12.12 15.17]\n",
      " [27.99 30.31 28.86 32.83]\n",
      " [32.92 34.79 32.75 31.  ]\n",
      " [31.95 33.06 32.24 33.94]\n",
      " [13.8  16.83 12.97 14.27]\n",
      " [33.07 34.64 32.31 34.05]\n",
      " [17.54 18.9  14.96 17.64]\n",
      " [35.96 36.38 36.95 37.2 ]\n",
      " [ 7.28 11.72 10.39 13.7 ]\n",
      " [23.91 27.04 15.55 21.33]\n",
      " [30.8  33.56 26.19 31.39]\n",
      " [32.58 34.7  40.12 37.26]\n",
      " [16.1  18.12 14.53 16.9 ]\n",
      " [17.2  19.13 14.72 18.1 ]\n",
      " [11.61 14.54 12.33 14.91]\n",
      " [32.11 33.09 32.23 33.86]\n",
      " [ 7.95 11.7  10.34 13.72]\n",
      " [11.44 14.65 12.65 15.85]\n",
      " [10.5  13.52 11.8  14.49]\n",
      " [32.24 34.64 38.98 45.97]\n",
      " [10.49 13.5  11.21 14.55]\n",
      " [27.31 30.31 25.36 32.04]\n",
      " [32.41 34.67 39.83 36.87]\n",
      " [32.12 32.8  32.82 32.78]\n",
      " [ 9.05 12.71 10.53 13.79]\n",
      " [28.59 31.21 23.89 24.77]\n",
      " [19.58 21.19 17.26 16.86]\n",
      " [12.86 16.   15.16 19.48]\n",
      " [30.97 33.59 24.94 29.88]\n",
      " [32.28 32.83 32.85 32.95]\n",
      " [32.74 34.73 38.65 43.73]\n",
      " [32.45 32.86 32.84 32.88]\n",
      " [14.33 16.69 14.51 17.1 ]\n",
      " [33.43 34.76 35.69 40.66]\n",
      " [27.82 30.28 29.62 30.08]\n",
      " [11.09 14.56 11.69 13.72]\n",
      " [17.19 19.11 14.16 14.61]\n",
      " [34.36 35.86 29.92 32.54]\n",
      " [30.97 33.44 25.38 26.72]\n",
      " [26.67 28.79 24.03 25.88]\n",
      " [27.09 30.79 29.63 30.93]\n",
      " [14.13 16.6  12.85 14.37]\n",
      " [19.57 21.34 17.15 16.99]\n",
      " [13.22 15.97 14.18 16.99]\n",
      " [27.31 30.46 26.45 31.28]\n",
      " [10.17 13.61 12.5  15.5 ]\n",
      " [26.   28.67 24.63 26.44]\n",
      " [38.35 38.47 40.78 39.55]\n",
      " [19.41 20.87 15.09 17.2 ]\n",
      " [34.03 35.65 29.47 29.77]\n",
      " [15.77 17.76 14.75 16.44]\n",
      " [ 9.   13.38  7.1  12.14]\n",
      " [35.79 36.64 35.64 37.28]\n",
      " [29.52 32.34 36.97 35.1 ]\n",
      " [28.25 31.   22.93 28.68]\n",
      " [24.55 28.7  19.34 23.49]\n",
      " [32.57 34.11 32.96 33.87]\n",
      " [ 7.94 11.85 10.39 13.5 ]\n",
      " [30.03 32.61 29.88 28.31]\n",
      " [35.63 36.46 42.11 38.56]\n",
      " [14.48 17.13 12.92 16.14]\n",
      " [11.44 14.51 12.57 15.42]\n",
      " [23.91 27.19 15.55 21.33]\n",
      " [18.81 19.94 17.69 20.82]\n",
      " [33.07 34.49 33.09 33.89]\n",
      " [32.59 34.58 32.13 32.28]\n",
      " [12.69 15.97 15.36 19.29]\n",
      " [11.77 15.01 12.19 14.94]\n",
      " [13.03 16.03 15.36 19.29]\n",
      " [11.76 14.98 11.34 14.87]\n",
      " [29.85 32.4  36.77 43.14]\n",
      " [27.31 30.16 26.45 27.33]\n",
      " [39.02 38.59 38.82 39.37]\n",
      " [33.93 34.56 35.01 33.14]\n",
      " [10.33 13.79 12.16 15.18]\n",
      " [11.44 14.8  12.57 15.44]\n",
      " [33.43 34.61 36.06 34.94]\n",
      " [11.77 14.72 12.28 14.74]\n",
      " [38.85 38.85 40.6  39.85]\n",
      " [13.56 16.03 14.32 16.9 ]\n",
      " [29.22 30.91 28.17 30.1 ]\n",
      " [10.67 13.55 12.32 14.92]\n",
      " [33.09 34.37 32.31 29.69]\n",
      " [32.57 34.55 32.21 33.67]\n",
      " [26.   28.52 24.63 26.37]\n",
      " [29.69 32.37 35.45 41.86]\n",
      " [10.5  13.67 12.03 13.79]\n",
      " [36.12 36.85 36.7  36.15]\n",
      " [ 9.   13.08  7.1  12.23]\n",
      " [34.19 35.83 29.52 28.43]\n",
      " [26.   28.38 24.58 26.47]\n",
      " [33.24 34.38 33.21 34.35]\n",
      " [14.66 16.89 14.03 15.47]\n",
      " [15.25 18.08 17.37 21.08]\n",
      " [18.14 19.82 19.52 22.72]\n",
      " [27.99 30.02 29.06 29.34]\n",
      " [ 8.55 12.33 10.71 13.8 ]\n",
      " [29.19 31.98 35.56 41.68]\n",
      " [19.74 21.37 16.74 16.  ]\n",
      " [27.49 29.93 29.03 32.92]\n",
      " [35.46 36.58 36.91 37.45]\n",
      " [13.04 15.61 12.34 14.92]\n",
      " [17.02 18.78 14.33 15.41]\n",
      " [29.56 30.97 28.15 30.  ]\n",
      " [11.59 14.81 11.33 15.  ]\n",
      " [17.19 19.25 13.86 14.75]\n",
      " [16.69 18.72 14.34 15.32]]\n"
     ]
    }
   ],
   "source": [
    "from sklearn.multioutput import MultiOutputRegressor\n",
    "from sklearn.linear_model import Lasso\n",
    "regressor = MultiOutputRegressor(Lasso(random_state=0, alpha = 1e-2))\n",
    "regressor.fit(X_train, y_train)\n",
    "\n",
    "# Predicting the Test set results\n",
    "y_pred = regressor.predict(X_test)\n",
    "np.set_printoptions(precision=2)\n",
    "print(np.concatenate((y_pred.reshape(len(y_pred),2), y_test.reshape(len(y_test),2)),1))"
   ]
  },
  {
   "cell_type": "code",
   "execution_count": 111,
   "metadata": {},
   "outputs": [
    {
     "name": "stdout",
     "output_type": "stream",
     "text": [
      "The accuracy of the Lasso regression model is : 0.8886454236144606\n"
     ]
    }
   ],
   "source": [
    "# Accuracy of Lasso regression model based on R_square\n",
    "accuracy= regressor.score(X_test,y_test)\n",
    "print(\"The accuracy of the Lasso regression model is :\", accuracy)"
   ]
  },
  {
   "cell_type": "markdown",
   "metadata": {},
   "source": [
    "## The accuracy of the Lasso regression model is 88.9%"
   ]
  },
  {
   "cell_type": "code",
   "execution_count": 112,
   "metadata": {},
   "outputs": [
    {
     "name": "stdout",
     "output_type": "stream",
     "text": [
      "[[15.21 17.27 15.18 17.63]\n",
      " [10.16 13.81 10.32 13.57]\n",
      " [36.66 38.31 37.26 34.62]\n",
      " [18.03 19.01 16.95 21.16]\n",
      " [33.21 32.25 32.26 33.34]\n",
      " [28.36 31.76 27.9  34.2 ]\n",
      " [27.99 29.89 28.18 30.18]\n",
      " [28.61 32.47 28.95 30.34]\n",
      " [28.95 31.69 29.07 29.82]\n",
      " [23.19 27.94 23.8  24.61]\n",
      " [ 7.58  9.86  6.4  11.67]\n",
      " [42.89 39.37 42.5  38.35]\n",
      " [11.87 14.58 11.22 14.65]\n",
      " [42.5  41.11 43.1  39.41]\n",
      " [42.99 43.08 41.96 37.7 ]\n",
      " [25.83 29.95 26.33 31.06]\n",
      " [10.44 14.16 10.7  13.87]\n",
      " [28.25 32.64 28.09 34.33]\n",
      " [14.33 14.68 14.65 15.38]\n",
      " [12.74 15.23 12.29 15.4 ]\n",
      " [12.7  15.14 12.46 14.38]\n",
      " [32.71 32.89 32.71 33.13]\n",
      " [10.26 13.72 10.77 14.14]\n",
      " [38.86 43.07 38.57 43.86]\n",
      " [ 7.8   9.11  6.04 11.17]\n",
      " [14.78 16.72 14.66 17.37]\n",
      " [12.91 13.49 13.   14.47]\n",
      " [13.43 16.4  14.41 16.69]\n",
      " [11.25 13.82 10.75 14.27]\n",
      " [40.43 35.46 39.89 37.54]\n",
      " [12.91 13.66 12.74 13.97]\n",
      " [12.95 15.76 12.74 16.14]\n",
      " [42.03 43.39 41.26 46.44]\n",
      " [13.14 15.92 12.77 16.22]\n",
      " [28.17 30.   28.56 29.78]\n",
      " [36.53 37.02 35.99 36.07]\n",
      " [14.5  15.75 13.97 16.08]\n",
      " [37.23 36.2  35.69 36.93]\n",
      " [17.89 17.23 17.14 17.2 ]\n",
      " [11.3  17.43 10.85 16.78]\n",
      " [11.17 14.43 11.6  13.7 ]\n",
      " [39.88 39.23 39.97 36.77]\n",
      " [13.9  18.51 14.42 17.2 ]\n",
      " [25.05 27.99 25.17 26.41]\n",
      " [19.76 26.88 19.5  27.3 ]\n",
      " [24.33 25.93 24.4  26.02]\n",
      " [10.2  15.28 13.69 13.89]\n",
      " [12.21 15.65 12.12 15.17]\n",
      " [29.07 31.63 28.86 32.83]\n",
      " [33.27 32.63 32.75 31.  ]\n",
      " [32.42 33.   32.24 33.94]\n",
      " [12.92 14.35 12.97 14.27]\n",
      " [34.06 33.69 32.31 34.05]\n",
      " [14.53 17.19 14.96 17.64]\n",
      " [37.17 37.07 36.95 37.2 ]\n",
      " [11.2  13.15 10.39 13.7 ]\n",
      " [15.6  20.27 15.55 21.33]\n",
      " [24.74 33.61 26.19 31.39]\n",
      " [38.59 42.14 40.12 37.26]\n",
      " [14.71 17.15 14.53 16.9 ]\n",
      " [15.17 17.62 14.72 18.1 ]\n",
      " [12.78 14.98 12.33 14.91]\n",
      " [31.92 33.76 32.23 33.86]\n",
      " [ 9.49 14.33 10.34 13.72]\n",
      " [12.98 15.31 12.65 15.85]\n",
      " [12.42 14.31 11.8  14.49]\n",
      " [38.83 43.18 38.98 45.97]\n",
      " [11.65 14.22 11.21 14.55]\n",
      " [25.06 32.   25.36 32.04]\n",
      " [38.47 41.81 39.83 36.87]\n",
      " [32.26 32.65 32.82 32.78]\n",
      " [10.85 14.33 10.53 13.79]\n",
      " [22.85 29.05 23.89 24.77]\n",
      " [16.88 16.89 17.26 16.86]\n",
      " [15.05 19.06 15.16 19.48]\n",
      " [24.93 30.25 24.94 29.88]\n",
      " [33.05 32.26 32.85 32.95]\n",
      " [37.83 43.44 38.65 43.73]\n",
      " [32.86 31.29 32.84 32.88]\n",
      " [15.29 16.99 14.51 17.1 ]\n",
      " [35.51 37.16 35.69 40.66]\n",
      " [28.65 30.77 29.62 30.08]\n",
      " [11.33 14.58 11.69 13.72]\n",
      " [13.69 15.32 14.16 14.61]\n",
      " [29.09 29.91 29.92 32.54]\n",
      " [25.97 26.78 25.38 26.72]\n",
      " [23.48 26.71 24.03 25.88]\n",
      " [30.05 30.86 29.63 30.93]\n",
      " [13.24 13.73 12.85 14.37]\n",
      " [17.51 16.34 17.15 16.99]\n",
      " [14.18 17.06 14.18 16.99]\n",
      " [26.73 29.35 26.45 31.28]\n",
      " [12.37 15.4  12.5  15.5 ]\n",
      " [23.96 25.09 24.63 26.44]\n",
      " [39.42 41.54 40.78 39.55]\n",
      " [17.19 18.07 15.09 17.2 ]\n",
      " [28.75 29.39 29.47 29.77]\n",
      " [14.62 16.12 14.75 16.44]\n",
      " [ 6.95 10.46  7.1  12.14]\n",
      " [36.2  37.07 35.64 37.28]\n",
      " [36.67 37.37 36.97 35.1 ]\n",
      " [22.7  28.93 22.93 28.68]\n",
      " [19.4  20.02 19.34 23.49]\n",
      " [33.17 32.79 32.96 33.87]\n",
      " [ 9.51 14.7  10.39 13.5 ]\n",
      " [29.54 31.75 29.88 28.31]\n",
      " [44.62 37.91 42.11 38.56]\n",
      " [12.97 16.48 12.92 16.14]\n",
      " [13.27 15.14 12.57 15.42]\n",
      " [14.83 20.61 15.55 21.33]\n",
      " [18.26 21.12 17.69 20.82]\n",
      " [33.1  34.18 33.09 33.89]\n",
      " [32.01 31.17 32.13 32.28]\n",
      " [14.92 18.55 15.36 19.29]\n",
      " [11.92 15.29 12.19 14.94]\n",
      " [14.62 19.97 15.36 19.29]\n",
      " [11.39 15.8  11.34 14.87]\n",
      " [35.62 39.85 36.77 43.14]\n",
      " [25.39 30.53 26.45 27.33]\n",
      " [42.38 37.06 38.82 39.37]\n",
      " [35.27 36.7  35.01 33.14]\n",
      " [12.04 15.28 12.16 15.18]\n",
      " [12.7  15.15 12.57 15.44]\n",
      " [35.96 35.84 36.06 34.94]\n",
      " [12.34 14.93 12.28 14.74]\n",
      " [40.09 39.92 40.6  39.85]\n",
      " [14.46 17.28 14.32 16.9 ]\n",
      " [27.58 30.44 28.17 30.1 ]\n",
      " [12.76 14.61 12.32 14.92]\n",
      " [33.26 28.19 32.31 29.69]\n",
      " [32.8  33.7  32.21 33.67]\n",
      " [24.5  24.72 24.63 26.37]\n",
      " [36.56 38.61 35.45 41.86]\n",
      " [12.08 14.86 12.03 13.79]\n",
      " [36.26 36.83 36.7  36.15]\n",
      " [ 6.38 12.87  7.1  12.23]\n",
      " [29.17 29.22 29.52 28.43]\n",
      " [24.31 25.23 24.58 26.47]\n",
      " [31.52 33.68 33.21 34.35]\n",
      " [14.35 16.45 14.03 15.47]\n",
      " [17.41 20.55 17.37 21.08]\n",
      " [19.61 22.23 19.52 22.72]\n",
      " [29.33 31.59 29.06 29.34]\n",
      " [10.9  13.15 10.71 13.8 ]\n",
      " [35.36 41.11 35.56 41.68]\n",
      " [17.1  15.61 16.74 16.  ]\n",
      " [29.06 31.96 29.03 32.92]\n",
      " [37.04 36.23 36.91 37.45]\n",
      " [12.51 15.21 12.34 14.92]\n",
      " [14.29 15.37 14.33 15.41]\n",
      " [27.34 31.52 28.15 30.  ]\n",
      " [11.88 14.56 11.33 15.  ]\n",
      " [13.7  15.11 13.86 14.75]\n",
      " [14.74 15.41 14.34 15.32]]\n"
     ]
    }
   ],
   "source": [
    "## Build a polynomial regression model\n",
    "from sklearn.multioutput import MultiOutputRegressor\n",
    "from sklearn.preprocessing import PolynomialFeatures\n",
    "from sklearn.linear_model import LinearRegression\n",
    "poly_reg = PolynomialFeatures(degree = 4)\n",
    "X_poly = poly_reg.fit_transform(X_train)\n",
    "lin_reg_2 = MultiOutputRegressor(LinearRegression())\n",
    "lin_reg_2.fit(X_poly, y_train)\n",
    "\n",
    "# Predicting the Test set results\n",
    "y_pred = lin_reg_2.predict(poly_reg.transform(X_test))\n",
    "np.set_printoptions(precision=2)\n",
    "print(np.concatenate((y_pred.reshape(len(y_pred),2), y_test.reshape(len(y_test),2)),1))"
   ]
  },
  {
   "cell_type": "code",
   "execution_count": 113,
   "metadata": {},
   "outputs": [
    {
     "name": "stdout",
     "output_type": "stream",
     "text": [
      "The accuracy of the 4th order polynomial regression model is : 0.9850071060424206\n"
     ]
    }
   ],
   "source": [
    "# Accuracy of polynomial regression model based on R_square\n",
    "accuracy= lin_reg_2.score(poly_reg.transform(X_test),y_test)\n",
    "print(\"The accuracy of the 4th order polynomial regression model is :\", accuracy)"
   ]
  },
  {
   "cell_type": "markdown",
   "metadata": {},
   "source": [
    "## The accuracy for the 4th order polynomail regression model is 98.5%"
   ]
  },
  {
   "cell_type": "code",
   "execution_count": null,
   "metadata": {},
   "outputs": [],
   "source": []
  }
 ],
 "metadata": {
  "kernelspec": {
   "display_name": "Python 3",
   "language": "python",
   "name": "python3"
  },
  "language_info": {
   "codemirror_mode": {
    "name": "ipython",
    "version": 3
   },
   "file_extension": ".py",
   "mimetype": "text/x-python",
   "name": "python",
   "nbconvert_exporter": "python",
   "pygments_lexer": "ipython3",
   "version": "3.7.6"
  }
 },
 "nbformat": 4,
 "nbformat_minor": 4
}

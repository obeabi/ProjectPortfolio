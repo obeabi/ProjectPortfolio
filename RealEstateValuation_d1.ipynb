{
 "cells": [
  {
   "cell_type": "markdown",
   "metadata": {},
   "source": [
    "# Real estate valuation data set Data Set\n",
    "## Written by Abiola Obembe\n",
    "### Date : 10 -06-2020"
   ]
  },
  {
   "cell_type": "code",
   "execution_count": 1,
   "metadata": {},
   "outputs": [
    {
     "name": "stdout",
     "output_type": "stream",
     "text": [
      "Libraries installed successfully!\n"
     ]
    }
   ],
   "source": [
    "# install dependencies\n",
    "import numpy as np\n",
    "import scipy\n",
    "import pandas as pd\n",
    "import seaborn as sns\n",
    "import matplotlib.pyplot as plt\n",
    "%matplotlib inline\n",
    "print(\"Libraries installed successfully!\")"
   ]
  },
  {
   "cell_type": "code",
   "execution_count": 2,
   "metadata": {},
   "outputs": [
    {
     "data": {
      "text/html": [
       "<div>\n",
       "<style scoped>\n",
       "    .dataframe tbody tr th:only-of-type {\n",
       "        vertical-align: middle;\n",
       "    }\n",
       "\n",
       "    .dataframe tbody tr th {\n",
       "        vertical-align: top;\n",
       "    }\n",
       "\n",
       "    .dataframe thead th {\n",
       "        text-align: right;\n",
       "    }\n",
       "</style>\n",
       "<table border=\"1\" class=\"dataframe\">\n",
       "  <thead>\n",
       "    <tr style=\"text-align: right;\">\n",
       "      <th></th>\n",
       "      <th>No</th>\n",
       "      <th>X1 transaction date</th>\n",
       "      <th>X2 house age</th>\n",
       "      <th>X3 distance to the nearest MRT station</th>\n",
       "      <th>X4 number of convenience stores</th>\n",
       "      <th>X5 latitude</th>\n",
       "      <th>X6 longitude</th>\n",
       "      <th>Y house price of unit area</th>\n",
       "    </tr>\n",
       "  </thead>\n",
       "  <tbody>\n",
       "    <tr>\n",
       "      <th>0</th>\n",
       "      <td>1</td>\n",
       "      <td>1905-07-04 22:00:00.003</td>\n",
       "      <td>32.0</td>\n",
       "      <td>84.87882</td>\n",
       "      <td>10</td>\n",
       "      <td>24.98298</td>\n",
       "      <td>121.54024</td>\n",
       "      <td>37.9</td>\n",
       "    </tr>\n",
       "    <tr>\n",
       "      <th>1</th>\n",
       "      <td>2</td>\n",
       "      <td>1905-07-04 22:00:00.003</td>\n",
       "      <td>19.5</td>\n",
       "      <td>306.59470</td>\n",
       "      <td>9</td>\n",
       "      <td>24.98034</td>\n",
       "      <td>121.53951</td>\n",
       "      <td>42.2</td>\n",
       "    </tr>\n",
       "    <tr>\n",
       "      <th>2</th>\n",
       "      <td>3</td>\n",
       "      <td>1905-07-05 13:59:59.997</td>\n",
       "      <td>13.3</td>\n",
       "      <td>561.98450</td>\n",
       "      <td>5</td>\n",
       "      <td>24.98746</td>\n",
       "      <td>121.54391</td>\n",
       "      <td>47.3</td>\n",
       "    </tr>\n",
       "    <tr>\n",
       "      <th>3</th>\n",
       "      <td>4</td>\n",
       "      <td>1905-07-05 12:00:00.000</td>\n",
       "      <td>13.3</td>\n",
       "      <td>561.98450</td>\n",
       "      <td>5</td>\n",
       "      <td>24.98746</td>\n",
       "      <td>121.54391</td>\n",
       "      <td>54.8</td>\n",
       "    </tr>\n",
       "    <tr>\n",
       "      <th>4</th>\n",
       "      <td>5</td>\n",
       "      <td>1905-07-04 19:59:59.997</td>\n",
       "      <td>5.0</td>\n",
       "      <td>390.56840</td>\n",
       "      <td>5</td>\n",
       "      <td>24.97937</td>\n",
       "      <td>121.54245</td>\n",
       "      <td>43.1</td>\n",
       "    </tr>\n",
       "  </tbody>\n",
       "</table>\n",
       "</div>"
      ],
      "text/plain": [
       "   No     X1 transaction date  X2 house age  \\\n",
       "0   1 1905-07-04 22:00:00.003          32.0   \n",
       "1   2 1905-07-04 22:00:00.003          19.5   \n",
       "2   3 1905-07-05 13:59:59.997          13.3   \n",
       "3   4 1905-07-05 12:00:00.000          13.3   \n",
       "4   5 1905-07-04 19:59:59.997           5.0   \n",
       "\n",
       "   X3 distance to the nearest MRT station  X4 number of convenience stores  \\\n",
       "0                                84.87882                               10   \n",
       "1                               306.59470                                9   \n",
       "2                               561.98450                                5   \n",
       "3                               561.98450                                5   \n",
       "4                               390.56840                                5   \n",
       "\n",
       "   X5 latitude  X6 longitude  Y house price of unit area  \n",
       "0     24.98298     121.54024                        37.9  \n",
       "1     24.98034     121.53951                        42.2  \n",
       "2     24.98746     121.54391                        47.3  \n",
       "3     24.98746     121.54391                        54.8  \n",
       "4     24.97937     121.54245                        43.1  "
      ]
     },
     "execution_count": 2,
     "metadata": {},
     "output_type": "execute_result"
    }
   ],
   "source": [
    "# load dataset\n",
    "dataset = pd.read_excel('Real estate valuation data set.xlsx')\n",
    "dataset.head()"
   ]
  },
  {
   "cell_type": "code",
   "execution_count": 3,
   "metadata": {},
   "outputs": [
    {
     "data": {
      "text/plain": [
       "No                                        0\n",
       "X1 transaction date                       0\n",
       "X2 house age                              0\n",
       "X3 distance to the nearest MRT station    0\n",
       "X4 number of convenience stores           0\n",
       "X5 latitude                               0\n",
       "X6 longitude                              0\n",
       "Y house price of unit area                0\n",
       "dtype: int64"
      ]
     },
     "execution_count": 3,
     "metadata": {},
     "output_type": "execute_result"
    }
   ],
   "source": [
    "# Check for missing data\n",
    "dataset.isnull().sum()"
   ]
  },
  {
   "cell_type": "code",
   "execution_count": 4,
   "metadata": {},
   "outputs": [
    {
     "data": {
      "text/html": [
       "<div>\n",
       "<style scoped>\n",
       "    .dataframe tbody tr th:only-of-type {\n",
       "        vertical-align: middle;\n",
       "    }\n",
       "\n",
       "    .dataframe tbody tr th {\n",
       "        vertical-align: top;\n",
       "    }\n",
       "\n",
       "    .dataframe thead th {\n",
       "        text-align: right;\n",
       "    }\n",
       "</style>\n",
       "<table border=\"1\" class=\"dataframe\">\n",
       "  <thead>\n",
       "    <tr style=\"text-align: right;\">\n",
       "      <th></th>\n",
       "      <th>No</th>\n",
       "      <th>X2 house age</th>\n",
       "      <th>X3 distance to the nearest MRT station</th>\n",
       "      <th>X4 number of convenience stores</th>\n",
       "      <th>X5 latitude</th>\n",
       "      <th>X6 longitude</th>\n",
       "      <th>Y house price of unit area</th>\n",
       "    </tr>\n",
       "  </thead>\n",
       "  <tbody>\n",
       "    <tr>\n",
       "      <th>count</th>\n",
       "      <td>414.000000</td>\n",
       "      <td>414.000000</td>\n",
       "      <td>414.000000</td>\n",
       "      <td>414.000000</td>\n",
       "      <td>414.000000</td>\n",
       "      <td>414.000000</td>\n",
       "      <td>414.000000</td>\n",
       "    </tr>\n",
       "    <tr>\n",
       "      <th>mean</th>\n",
       "      <td>207.500000</td>\n",
       "      <td>17.712560</td>\n",
       "      <td>1083.885689</td>\n",
       "      <td>4.094203</td>\n",
       "      <td>24.969030</td>\n",
       "      <td>121.533361</td>\n",
       "      <td>37.980193</td>\n",
       "    </tr>\n",
       "    <tr>\n",
       "      <th>std</th>\n",
       "      <td>119.655756</td>\n",
       "      <td>11.392485</td>\n",
       "      <td>1262.109595</td>\n",
       "      <td>2.945562</td>\n",
       "      <td>0.012410</td>\n",
       "      <td>0.015347</td>\n",
       "      <td>13.606488</td>\n",
       "    </tr>\n",
       "    <tr>\n",
       "      <th>min</th>\n",
       "      <td>1.000000</td>\n",
       "      <td>0.000000</td>\n",
       "      <td>23.382840</td>\n",
       "      <td>0.000000</td>\n",
       "      <td>24.932070</td>\n",
       "      <td>121.473530</td>\n",
       "      <td>7.600000</td>\n",
       "    </tr>\n",
       "    <tr>\n",
       "      <th>25%</th>\n",
       "      <td>104.250000</td>\n",
       "      <td>9.025000</td>\n",
       "      <td>289.324800</td>\n",
       "      <td>1.000000</td>\n",
       "      <td>24.963000</td>\n",
       "      <td>121.528085</td>\n",
       "      <td>27.700000</td>\n",
       "    </tr>\n",
       "    <tr>\n",
       "      <th>50%</th>\n",
       "      <td>207.500000</td>\n",
       "      <td>16.100000</td>\n",
       "      <td>492.231300</td>\n",
       "      <td>4.000000</td>\n",
       "      <td>24.971100</td>\n",
       "      <td>121.538630</td>\n",
       "      <td>38.450000</td>\n",
       "    </tr>\n",
       "    <tr>\n",
       "      <th>75%</th>\n",
       "      <td>310.750000</td>\n",
       "      <td>28.150000</td>\n",
       "      <td>1454.279000</td>\n",
       "      <td>6.000000</td>\n",
       "      <td>24.977455</td>\n",
       "      <td>121.543305</td>\n",
       "      <td>46.600000</td>\n",
       "    </tr>\n",
       "    <tr>\n",
       "      <th>max</th>\n",
       "      <td>414.000000</td>\n",
       "      <td>43.800000</td>\n",
       "      <td>6488.021000</td>\n",
       "      <td>10.000000</td>\n",
       "      <td>25.014590</td>\n",
       "      <td>121.566270</td>\n",
       "      <td>117.500000</td>\n",
       "    </tr>\n",
       "  </tbody>\n",
       "</table>\n",
       "</div>"
      ],
      "text/plain": [
       "               No  X2 house age  X3 distance to the nearest MRT station  \\\n",
       "count  414.000000    414.000000                              414.000000   \n",
       "mean   207.500000     17.712560                             1083.885689   \n",
       "std    119.655756     11.392485                             1262.109595   \n",
       "min      1.000000      0.000000                               23.382840   \n",
       "25%    104.250000      9.025000                              289.324800   \n",
       "50%    207.500000     16.100000                              492.231300   \n",
       "75%    310.750000     28.150000                             1454.279000   \n",
       "max    414.000000     43.800000                             6488.021000   \n",
       "\n",
       "       X4 number of convenience stores  X5 latitude  X6 longitude  \\\n",
       "count                       414.000000   414.000000    414.000000   \n",
       "mean                          4.094203    24.969030    121.533361   \n",
       "std                           2.945562     0.012410      0.015347   \n",
       "min                           0.000000    24.932070    121.473530   \n",
       "25%                           1.000000    24.963000    121.528085   \n",
       "50%                           4.000000    24.971100    121.538630   \n",
       "75%                           6.000000    24.977455    121.543305   \n",
       "max                          10.000000    25.014590    121.566270   \n",
       "\n",
       "       Y house price of unit area  \n",
       "count                  414.000000  \n",
       "mean                    37.980193  \n",
       "std                     13.606488  \n",
       "min                      7.600000  \n",
       "25%                     27.700000  \n",
       "50%                     38.450000  \n",
       "75%                     46.600000  \n",
       "max                    117.500000  "
      ]
     },
     "execution_count": 4,
     "metadata": {},
     "output_type": "execute_result"
    }
   ],
   "source": [
    "# Statistical analysis\n",
    "dataset.describe()"
   ]
  },
  {
   "cell_type": "code",
   "execution_count": 5,
   "metadata": {},
   "outputs": [
    {
     "data": {
      "text/plain": [
       "No                                                 int64\n",
       "X1 transaction date                       datetime64[ns]\n",
       "X2 house age                                     float64\n",
       "X3 distance to the nearest MRT station           float64\n",
       "X4 number of convenience stores                    int64\n",
       "X5 latitude                                      float64\n",
       "X6 longitude                                     float64\n",
       "Y house price of unit area                       float64\n",
       "dtype: object"
      ]
     },
     "execution_count": 5,
     "metadata": {},
     "output_type": "execute_result"
    }
   ],
   "source": [
    "# Statistical analysis\n",
    "dataset.dtypes"
   ]
  },
  {
   "cell_type": "code",
   "execution_count": 6,
   "metadata": {},
   "outputs": [
    {
     "data": {
      "text/html": [
       "<div>\n",
       "<style scoped>\n",
       "    .dataframe tbody tr th:only-of-type {\n",
       "        vertical-align: middle;\n",
       "    }\n",
       "\n",
       "    .dataframe tbody tr th {\n",
       "        vertical-align: top;\n",
       "    }\n",
       "\n",
       "    .dataframe thead th {\n",
       "        text-align: right;\n",
       "    }\n",
       "</style>\n",
       "<table border=\"1\" class=\"dataframe\">\n",
       "  <thead>\n",
       "    <tr style=\"text-align: right;\">\n",
       "      <th></th>\n",
       "      <th>No</th>\n",
       "      <th>X2 house age</th>\n",
       "      <th>X3 distance to the nearest MRT station</th>\n",
       "      <th>X4 number of convenience stores</th>\n",
       "      <th>X5 latitude</th>\n",
       "      <th>X6 longitude</th>\n",
       "      <th>Y house price of unit area</th>\n",
       "    </tr>\n",
       "  </thead>\n",
       "  <tbody>\n",
       "    <tr>\n",
       "      <th>No</th>\n",
       "      <td>1.000000</td>\n",
       "      <td>-0.032808</td>\n",
       "      <td>-0.013573</td>\n",
       "      <td>-0.012699</td>\n",
       "      <td>-0.010110</td>\n",
       "      <td>-0.011059</td>\n",
       "      <td>-0.028587</td>\n",
       "    </tr>\n",
       "    <tr>\n",
       "      <th>X2 house age</th>\n",
       "      <td>-0.032808</td>\n",
       "      <td>1.000000</td>\n",
       "      <td>0.025622</td>\n",
       "      <td>0.049593</td>\n",
       "      <td>0.054420</td>\n",
       "      <td>-0.048520</td>\n",
       "      <td>-0.210567</td>\n",
       "    </tr>\n",
       "    <tr>\n",
       "      <th>X3 distance to the nearest MRT station</th>\n",
       "      <td>-0.013573</td>\n",
       "      <td>0.025622</td>\n",
       "      <td>1.000000</td>\n",
       "      <td>-0.602519</td>\n",
       "      <td>-0.591067</td>\n",
       "      <td>-0.806317</td>\n",
       "      <td>-0.673613</td>\n",
       "    </tr>\n",
       "    <tr>\n",
       "      <th>X4 number of convenience stores</th>\n",
       "      <td>-0.012699</td>\n",
       "      <td>0.049593</td>\n",
       "      <td>-0.602519</td>\n",
       "      <td>1.000000</td>\n",
       "      <td>0.444143</td>\n",
       "      <td>0.449099</td>\n",
       "      <td>0.571005</td>\n",
       "    </tr>\n",
       "    <tr>\n",
       "      <th>X5 latitude</th>\n",
       "      <td>-0.010110</td>\n",
       "      <td>0.054420</td>\n",
       "      <td>-0.591067</td>\n",
       "      <td>0.444143</td>\n",
       "      <td>1.000000</td>\n",
       "      <td>0.412924</td>\n",
       "      <td>0.546307</td>\n",
       "    </tr>\n",
       "    <tr>\n",
       "      <th>X6 longitude</th>\n",
       "      <td>-0.011059</td>\n",
       "      <td>-0.048520</td>\n",
       "      <td>-0.806317</td>\n",
       "      <td>0.449099</td>\n",
       "      <td>0.412924</td>\n",
       "      <td>1.000000</td>\n",
       "      <td>0.523287</td>\n",
       "    </tr>\n",
       "    <tr>\n",
       "      <th>Y house price of unit area</th>\n",
       "      <td>-0.028587</td>\n",
       "      <td>-0.210567</td>\n",
       "      <td>-0.673613</td>\n",
       "      <td>0.571005</td>\n",
       "      <td>0.546307</td>\n",
       "      <td>0.523287</td>\n",
       "      <td>1.000000</td>\n",
       "    </tr>\n",
       "  </tbody>\n",
       "</table>\n",
       "</div>"
      ],
      "text/plain": [
       "                                              No  X2 house age  \\\n",
       "No                                      1.000000     -0.032808   \n",
       "X2 house age                           -0.032808      1.000000   \n",
       "X3 distance to the nearest MRT station -0.013573      0.025622   \n",
       "X4 number of convenience stores        -0.012699      0.049593   \n",
       "X5 latitude                            -0.010110      0.054420   \n",
       "X6 longitude                           -0.011059     -0.048520   \n",
       "Y house price of unit area             -0.028587     -0.210567   \n",
       "\n",
       "                                        X3 distance to the nearest MRT station  \\\n",
       "No                                                                   -0.013573   \n",
       "X2 house age                                                          0.025622   \n",
       "X3 distance to the nearest MRT station                                1.000000   \n",
       "X4 number of convenience stores                                      -0.602519   \n",
       "X5 latitude                                                          -0.591067   \n",
       "X6 longitude                                                         -0.806317   \n",
       "Y house price of unit area                                           -0.673613   \n",
       "\n",
       "                                        X4 number of convenience stores  \\\n",
       "No                                                            -0.012699   \n",
       "X2 house age                                                   0.049593   \n",
       "X3 distance to the nearest MRT station                        -0.602519   \n",
       "X4 number of convenience stores                                1.000000   \n",
       "X5 latitude                                                    0.444143   \n",
       "X6 longitude                                                   0.449099   \n",
       "Y house price of unit area                                     0.571005   \n",
       "\n",
       "                                        X5 latitude  X6 longitude  \\\n",
       "No                                        -0.010110     -0.011059   \n",
       "X2 house age                               0.054420     -0.048520   \n",
       "X3 distance to the nearest MRT station    -0.591067     -0.806317   \n",
       "X4 number of convenience stores            0.444143      0.449099   \n",
       "X5 latitude                                1.000000      0.412924   \n",
       "X6 longitude                               0.412924      1.000000   \n",
       "Y house price of unit area                 0.546307      0.523287   \n",
       "\n",
       "                                        Y house price of unit area  \n",
       "No                                                       -0.028587  \n",
       "X2 house age                                             -0.210567  \n",
       "X3 distance to the nearest MRT station                   -0.673613  \n",
       "X4 number of convenience stores                           0.571005  \n",
       "X5 latitude                                               0.546307  \n",
       "X6 longitude                                              0.523287  \n",
       "Y house price of unit area                                1.000000  "
      ]
     },
     "execution_count": 6,
     "metadata": {},
     "output_type": "execute_result"
    }
   ],
   "source": [
    "# Statitsical analysis\n",
    "dataset.corr()"
   ]
  },
  {
   "cell_type": "code",
   "execution_count": 7,
   "metadata": {},
   "outputs": [
    {
     "data": {
      "text/plain": [
       "<matplotlib.axes._subplots.AxesSubplot at 0x2b05d54d908>"
      ]
     },
     "execution_count": 7,
     "metadata": {},
     "output_type": "execute_result"
    },
    {
     "data": {
      "image/png": "[encoded data removed]",
      "text/plain": [
       "<Figure size 432x288 with 1 Axes>"
      ]
     },
     "metadata": {
      "needs_background": "light"
     },
     "output_type": "display_data"
    }
   ],
   "source": [
    "# Visual Exploration Analysis ( Age vs Price)\n",
    "sns.regplot(x = 'X2 house age', y = 'Y house price of unit area', data = dataset )"
   ]
  },
  {
   "cell_type": "code",
   "execution_count": 8,
   "metadata": {},
   "outputs": [
    {
     "data": {
      "text/plain": [
       "<matplotlib.axes._subplots.AxesSubplot at 0x2b05dcbed88>"
      ]
     },
     "execution_count": 8,
     "metadata": {},
     "output_type": "execute_result"
    },
    {
     "data": {
      "image/png": "[encoded data removed]",
      "text/plain": [
       "<Figure size 432x288 with 1 Axes>"
      ]
     },
     "metadata": {
      "needs_background": "light"
     },
     "output_type": "display_data"
    }
   ],
   "source": [
    "# Visual Exploration Analysis ( Distance to nearest MRT Station vs Price)\n",
    "sns.regplot(x = 'X3 distance to the nearest MRT station', y = 'Y house price of unit area', data = dataset )"
   ]
  },
  {
   "cell_type": "code",
   "execution_count": 9,
   "metadata": {},
   "outputs": [
    {
     "data": {
      "text/plain": [
       "<matplotlib.axes._subplots.AxesSubplot at 0x2b05dd65948>"
      ]
     },
     "execution_count": 9,
     "metadata": {},
     "output_type": "execute_result"
    },
    {
     "data": {
      "image/png": "[encoded data removed]",
      "text/plain": [
       "<Figure size 432x288 with 1 Axes>"
      ]
     },
     "metadata": {
      "needs_background": "light"
     },
     "output_type": "display_data"
    }
   ],
   "source": [
    "# Visual Exploration Analysis ( Number of convenient stores vs Price)\n",
    "sns.regplot(x = 'X4 number of convenience stores', y = 'Y house price of unit area', data = dataset )"
   ]
  },
  {
   "cell_type": "code",
   "execution_count": 10,
   "metadata": {},
   "outputs": [
    {
     "data": {
      "text/plain": [
       "<matplotlib.axes._subplots.AxesSubplot at 0x2b05ddd6388>"
      ]
     },
     "execution_count": 10,
     "metadata": {},
     "output_type": "execute_result"
    },
    {
     "data": {
      "image/png": "[encoded data removed]",
      "text/plain": [
       "<Figure size 432x288 with 1 Axes>"
      ]
     },
     "metadata": {
      "needs_background": "light"
     },
     "output_type": "display_data"
    }
   ],
   "source": [
    "# Visual Exploration Analysis ( Latitude vs Price)\n",
    "sns.regplot(x = 'X5 latitude', y = 'Y house price of unit area', data = dataset )"
   ]
  },
  {
   "cell_type": "code",
   "execution_count": 11,
   "metadata": {},
   "outputs": [
    {
     "data": {
      "text/plain": [
       "<matplotlib.axes._subplots.AxesSubplot at 0x2b05ddcdf08>"
      ]
     },
     "execution_count": 11,
     "metadata": {},
     "output_type": "execute_result"
    },
    {
     "data": {
      "image/png": "[encoded data removed]",
      "text/plain": [
       "<Figure size 432x288 with 1 Axes>"
      ]
     },
     "metadata": {
      "needs_background": "light"
     },
     "output_type": "display_data"
    }
   ],
   "source": [
    "# Visual Exploration Analysis ( Longitude vs Price)\n",
    "sns.regplot(x = 'X6 longitude', y = 'Y house price of unit area', data = dataset )"
   ]
  },
  {
   "cell_type": "code",
   "execution_count": 98,
   "metadata": {},
   "outputs": [],
   "source": [
    "# Split dataset to features and target\n",
    "y = dataset.iloc[:,-1].values\n",
    "X = dataset.iloc[:,2:-1].values\n",
    "#X = dataset.iloc[:,2:5].values"
   ]
  },
  {
   "cell_type": "code",
   "execution_count": 99,
   "metadata": {},
   "outputs": [
    {
     "name": "stdout",
     "output_type": "stream",
     "text": [
      "[37.9 42.2 47.3 54.8 43.1]\n"
     ]
    }
   ],
   "source": [
    "print(y[0:5])"
   ]
  },
  {
   "cell_type": "code",
   "execution_count": 100,
   "metadata": {},
   "outputs": [
    {
     "name": "stdout",
     "output_type": "stream",
     "text": [
      "[[ 32.       84.87882  10.       24.98298 121.54024]\n",
      " [ 19.5     306.5947    9.       24.98034 121.53951]\n",
      " [ 13.3     561.9845    5.       24.98746 121.54391]\n",
      " [ 13.3     561.9845    5.       24.98746 121.54391]\n",
      " [  5.      390.5684    5.       24.97937 121.54245]]\n"
     ]
    }
   ],
   "source": [
    "print(X[0:5])"
   ]
  },
  {
   "cell_type": "code",
   "execution_count": 101,
   "metadata": {},
   "outputs": [],
   "source": [
    "# Train dataset int o train and test set\n",
    "from sklearn.model_selection import train_test_split\n",
    "X_train, X_test, y_train, y_test = train_test_split(X, y, test_size=0.2, random_state=42)"
   ]
  },
  {
   "cell_type": "code",
   "execution_count": 102,
   "metadata": {},
   "outputs": [
    {
     "name": "stdout",
     "output_type": "stream",
     "text": [
      "(331, 5) (331,)\n",
      "(83, 5) (83,)\n"
     ]
    }
   ],
   "source": [
    "# Quality assessment of train test split\n",
    "print(X_train.shape, y_train.shape)\n",
    "print(X_test.shape, y_test.shape)"
   ]
  },
  {
   "cell_type": "code",
   "execution_count": 103,
   "metadata": {},
   "outputs": [
    {
     "name": "stdout",
     "output_type": "stream",
     "text": [
      "[[  43.8       57.58945    7.        24.9675   121.54069]\n",
      " [   8.      2216.612      4.        24.96007  121.51361]\n",
      " [   7.1     2175.03       3.        24.96305  121.51254]\n",
      " [  36.6      488.8193     8.        24.97015  121.54494]\n",
      " [   7.5      639.6198     5.        24.97258  121.54814]]\n"
     ]
    }
   ],
   "source": [
    "print(X_train[0:5])\n",
    "X_train_orig = X_train\n",
    "X_test_orig  = X_test"
   ]
  },
  {
   "cell_type": "code",
   "execution_count": 104,
   "metadata": {},
   "outputs": [
    {
     "name": "stdout",
     "output_type": "stream",
     "text": [
      "[42.7 23.9 32.1 38.3 40.8]\n"
     ]
    }
   ],
   "source": [
    "print(y_train[0:5])\n",
    "y_train_orig = y_train\n",
    "y_test_orig  = y_test"
   ]
  },
  {
   "cell_type": "markdown",
   "metadata": {},
   "source": [
    "## Multiple linear regreesion"
   ]
  },
  {
   "cell_type": "code",
   "execution_count": 105,
   "metadata": {},
   "outputs": [
    {
     "data": {
      "text/plain": [
       "LinearRegression(copy_X=True, fit_intercept=True, n_jobs=None, normalize=False)"
      ]
     },
     "execution_count": 105,
     "metadata": {},
     "output_type": "execute_result"
    }
   ],
   "source": [
    "# Training the Linear Regression model on the whole dataset\n",
    "from sklearn.linear_model import LinearRegression\n",
    "lin_reg = LinearRegression()\n",
    "lin_reg.fit(X_train, y_train)"
   ]
  },
  {
   "cell_type": "code",
   "execution_count": 106,
   "metadata": {},
   "outputs": [
    {
     "name": "stdout",
     "output_type": "stream",
     "text": [
      " Inbuilt function train set r2 score is: 0.5457883393347687\n"
     ]
    }
   ],
   "source": [
    "# In sample accuracy\n",
    "y_pred = lin_reg.predict(X_train)\n",
    "\n",
    "print(\" Inbuilt function train set r2 score is:\",lin_reg.score(X_train, y_train))"
   ]
  },
  {
   "cell_type": "code",
   "execution_count": 107,
   "metadata": {},
   "outputs": [
    {
     "name": "stdout",
     "output_type": "stream",
     "text": [
      " Inbuilt function test set r2 score is: 0.6746481382828039\n"
     ]
    }
   ],
   "source": [
    "yhat = lin_reg.predict(X_test)\n",
    "# test set accuracy\n",
    "print(\" Inbuilt function test set r2 score is:\",lin_reg.score(X_test, y_test))"
   ]
  },
  {
   "cell_type": "code",
   "execution_count": 108,
   "metadata": {},
   "outputs": [
    {
     "data": {
      "image/png": "[encoded data removed]",
      "text/plain": [
       "<Figure size 432x288 with 1 Axes>"
      ]
     },
     "metadata": {
      "needs_background": "light"
     },
     "output_type": "display_data"
    }
   ],
   "source": [
    "# Visualising the Regression results\n",
    "plt.plot(yhat, y_test, color = 'red')\n",
    "plt.title('y_observed versus y_predicted')\n",
    "plt.xlabel('Predicted y')\n",
    "plt.ylabel('Observed y')\n",
    "plt.show()"
   ]
  },
  {
   "cell_type": "markdown",
   "metadata": {},
   "source": [
    "## Polynomial regression"
   ]
  },
  {
   "cell_type": "code",
   "execution_count": 123,
   "metadata": {},
   "outputs": [
    {
     "data": {
      "text/plain": [
       "LinearRegression(copy_X=True, fit_intercept=True, n_jobs=None, normalize=False)"
      ]
     },
     "execution_count": 123,
     "metadata": {},
     "output_type": "execute_result"
    }
   ],
   "source": [
    "from sklearn.preprocessing import PolynomialFeatures\n",
    "poly_reg = PolynomialFeatures(degree = 2)\n",
    "X_poly = poly_reg.fit_transform(X_train)\n",
    "lin_reg_2 = LinearRegression()\n",
    "lin_reg_2.fit(X_poly, y_train)"
   ]
  },
  {
   "cell_type": "code",
   "execution_count": 124,
   "metadata": {},
   "outputs": [
    {
     "name": "stdout",
     "output_type": "stream",
     "text": [
      "The inbuilt  r2 score for train set is: 0.6680804070187771\n"
     ]
    }
   ],
   "source": [
    "# In sample accuracy\n",
    "y_pred_2 = lin_reg_2.predict(poly_reg.transform(X_train))\n",
    "\n",
    "print(\"The inbuilt  r2 score for train set is:\",  lin_reg_2.score(X_poly, y_train))"
   ]
  },
  {
   "cell_type": "code",
   "execution_count": 125,
   "metadata": {},
   "outputs": [
    {
     "name": "stdout",
     "output_type": "stream",
     "text": [
      "The inbuilt  r2 score for test set is: 0.7505332190108072\n"
     ]
    }
   ],
   "source": [
    "# test set accuracy\n",
    "yhat_2 = lin_reg_2.predict(poly_reg.transform(X_test))\n",
    "print(\"The inbuilt  r2 score for test set is:\",  lin_reg_2.score(poly_reg.transform(X_test), y_test))"
   ]
  },
  {
   "cell_type": "code",
   "execution_count": 126,
   "metadata": {},
   "outputs": [
    {
     "data": {
      "image/png": "[encoded data removed]",
      "text/plain": [
       "<Figure size 432x288 with 1 Axes>"
      ]
     },
     "metadata": {
      "needs_background": "light"
     },
     "output_type": "display_data"
    }
   ],
   "source": [
    "# Visualising the Regression results\n",
    "plt.plot(yhat_2, y_test, color = 'red')\n",
    "plt.title('y_observed versus y_predicted')\n",
    "plt.xlabel('Predicted y')\n",
    "plt.ylabel('Observed y')\n",
    "plt.show()"
   ]
  },
  {
   "cell_type": "markdown",
   "metadata": {},
   "source": [
    "## Support Vector Regreesion"
   ]
  },
  {
   "cell_type": "code",
   "execution_count": 127,
   "metadata": {},
   "outputs": [
    {
     "data": {
      "text/plain": [
       "(331,)"
      ]
     },
     "execution_count": 127,
     "metadata": {},
     "output_type": "execute_result"
    }
   ],
   "source": [
    "y_train_sv = y_train\n",
    "y_train_sv.shape"
   ]
  },
  {
   "cell_type": "code",
   "execution_count": 128,
   "metadata": {},
   "outputs": [
    {
     "data": {
      "text/plain": [
       "(331, 1)"
      ]
     },
     "execution_count": 128,
     "metadata": {},
     "output_type": "execute_result"
    }
   ],
   "source": [
    "y_train_sv = y_train_sv.reshape(len(y_train_sv),1)\n",
    "y_train_sv.shape"
   ]
  },
  {
   "cell_type": "code",
   "execution_count": 129,
   "metadata": {},
   "outputs": [],
   "source": [
    "# Feature Scaling\n",
    "from sklearn.preprocessing import StandardScaler\n",
    "sc_X = StandardScaler()\n",
    "sc_y = StandardScaler()\n",
    "\n",
    "X_train_sc = sc_X.fit_transform(X_train)\n",
    "y_train_sc = sc_y.fit_transform(y_train_sv)\n"
   ]
  },
  {
   "cell_type": "code",
   "execution_count": 130,
   "metadata": {},
   "outputs": [
    {
     "name": "stdout",
     "output_type": "stream",
     "text": [
      "[[ 2.34401494 -0.82396519  0.96804159 -0.14706597  0.45505725]\n",
      " [-0.82128138  0.9514177  -0.04917037 -0.74311697 -1.35592638]\n",
      " [-0.90085586  0.91722447 -0.38824102 -0.50405479 -1.42748297]\n",
      " ...\n",
      " [-0.5737163  -0.66362097 -1.06638232  0.4225117  -0.22907726]\n",
      " [-1.12189611 -0.65780025  0.62897094  0.52278946  0.75398992]\n",
      " [-1.43135245 -0.71213528  0.62897094 -0.29066372  0.46843231]]\n"
     ]
    }
   ],
   "source": [
    "print(X_train_sc)"
   ]
  },
  {
   "cell_type": "code",
   "execution_count": 131,
   "metadata": {},
   "outputs": [
    {
     "name": "stdout",
     "output_type": "stream",
     "text": [
      "[[ 3.14151077e-01]\n",
      " [-1.05664993e+00]\n",
      " [-4.58747365e-01]\n",
      " [-6.67469156e-03]\n",
      " [ 1.75612677e-01]\n",
      " [-5.53536797e-01]\n",
      " [-2.76459997e-01]\n",
      " [-6.62909218e-01]\n",
      " [-2.10836544e-01]\n",
      " [-3.12917471e-01]\n",
      " [ 1.19642194e+00]\n",
      " [ 2.84985098e-01]\n",
      " [-6.11868755e-01]\n",
      " [-1.24622880e+00]\n",
      " [ 1.51997927e-02]\n",
      " [-7.50407155e-01]\n",
      " [ 1.21100493e+00]\n",
      " [-1.02019246e+00]\n",
      " [-7.21241176e-01]\n",
      " [-2.24516358e+00]\n",
      " [-1.17331385e+00]\n",
      " [ 1.72870106e+00]\n",
      " [ 8.46430193e-01]\n",
      " [-5.17079323e-01]\n",
      " [-9.25403028e-01]\n",
      " [-6.50066495e-02]\n",
      " [ 4.43657716e-02]\n",
      " [-3.12917471e-01]\n",
      " [-4.00415407e-01]\n",
      " [ 7.95389730e-01]\n",
      " [ 1.36412632e+00]\n",
      " [-9.98317976e-01]\n",
      " [ 1.23287941e+00]\n",
      " [ 1.21100493e+00]\n",
      " [ 1.08704952e+00]\n",
      " [-1.11498189e+00]\n",
      " [-6.48326228e-01]\n",
      " [ 1.24572214e-01]\n",
      " [ 4.89146951e-01]\n",
      " [ 2.31202064e+00]\n",
      " [ 8.97470656e-01]\n",
      " [-1.01464123e-01]\n",
      " [ 6.05810866e-01]\n",
      " [-6.62909218e-01]\n",
      " [ 6.78725814e-01]\n",
      " [-1.39935019e+00]\n",
      " [-1.27539478e+00]\n",
      " [-6.55617723e-01]\n",
      " [ 5.16572663e-02]\n",
      " [ 5.18312930e-01]\n",
      " [-2.12576810e-02]\n",
      " [-7.28532671e-01]\n",
      " [-5.02496334e-01]\n",
      " [-1.30630102e-01]\n",
      " [-4.73330355e-01]\n",
      " [-6.33743239e-01]\n",
      " [-1.50872261e+00]\n",
      " [-7.22981442e-02]\n",
      " [ 2.99568087e-01]\n",
      " [ 1.16725596e+00]\n",
      " [ 1.39155203e-01]\n",
      " [ 1.54641369e+00]\n",
      " [ 1.82904172e-01]\n",
      " [ 1.31863708e-01]\n",
      " [ 1.82904172e-01]\n",
      " [ 2.63110614e-01]\n",
      " [-9.32694523e-01]\n",
      " [ 9.70385603e-01]\n",
      " [-1.12956488e+00]\n",
      " [ 2.99568087e-01]\n",
      " [-1.52504586e-01]\n",
      " [ 1.43704127e+00]\n",
      " [ 3.72483035e-01]\n",
      " [ 8.81147400e-02]\n",
      " [ 2.92276593e-01]\n",
      " [ 7.35317506e-02]\n",
      " [-2.91042986e-01]\n",
      " [-2.12576810e-02]\n",
      " [ 1.39155203e-01]\n",
      " [ 5.62061898e-01]\n",
      " [ 1.23287941e+00]\n",
      " [ 7.35317506e-02]\n",
      " [ 7.37057772e-01]\n",
      " [ 2.19361645e-01]\n",
      " [-1.66184400e+00]\n",
      " [ 5.32895919e-01]\n",
      " [-1.16047113e-01]\n",
      " [ 4.08940508e-01]\n",
      " [ 1.81619899e+00]\n",
      " [ 3.65191540e-01]\n",
      " [-8.08739113e-01]\n",
      " [ 2.84985098e-01]\n",
      " [-1.41393318e+00]\n",
      " [ 1.27662838e+00]\n",
      " [ 1.31863708e-01]\n",
      " [-9.54569007e-01]\n",
      " [ 2.13702476e+00]\n",
      " [ 1.24746240e+00]\n",
      " [ 3.50608551e-01]\n",
      " [ 1.61029687e-01]\n",
      " [-1.20977132e+00]\n",
      " [ 2.63110614e-01]\n",
      " [ 5.18312930e-01]\n",
      " [ 1.53912219e+00]\n",
      " [ 1.24572214e-01]\n",
      " [ 1.17280719e-01]\n",
      " [-2.76459997e-01]\n",
      " [-1.70559297e+00]\n",
      " [-1.59796081e-01]\n",
      " [ 6.93308803e-01]\n",
      " [-9.54569007e-01]\n",
      " [-7.28532671e-01]\n",
      " [-4.29581386e-01]\n",
      " [ 5.98519372e-01]\n",
      " [-1.07852442e+00]\n",
      " [ 1.34225183e+00]\n",
      " [ 3.28734066e-01]\n",
      " [-1.21706282e+00]\n",
      " [-9.98317976e-01]\n",
      " [-1.85871435e+00]\n",
      " [-1.39935019e+00]\n",
      " [ 1.00684308e+00]\n",
      " [ 7.44349266e-01]\n",
      " [ 1.00684308e+00]\n",
      " [ 4.45397982e-01]\n",
      " [-8.30613597e-01]\n",
      " [ 1.02871756e+00]\n",
      " [ 2.90992320e+00]\n",
      " [ 6.27685351e-01]\n",
      " [-1.23338607e-01]\n",
      " [ 5.03729940e-01]\n",
      " [ 2.33944635e-01]\n",
      " [-1.42851617e+00]\n",
      " [ 3.94357519e-01]\n",
      " [-2.12576810e-02]\n",
      " [ 6.16803180e-04]\n",
      " [-2.25419534e-01]\n",
      " [ 1.90195666e-01]\n",
      " [ 6.78725814e-01]\n",
      " [ 1.43704127e+00]\n",
      " [ 5.11021435e-01]\n",
      " [-1.23164581e+00]\n",
      " [ 4.67272466e-01]\n",
      " [-1.11498189e+00]\n",
      " [ 3.06859582e-01]\n",
      " [-1.96253555e-01]\n",
      " [-9.91026481e-01]\n",
      " [-5.46245302e-01]\n",
      " [-1.85142286e+00]\n",
      " [ 6.49559835e-01]\n",
      " [-4.00415407e-01]\n",
      " [-1.12227339e+00]\n",
      " [-1.58163755e+00]\n",
      " [-4.36872881e-01]\n",
      " [-1.06394143e+00]\n",
      " [-1.53059709e+00]\n",
      " [ 1.22558792e+00]\n",
      " [-6.04577260e-01]\n",
      " [ 6.13102361e-01]\n",
      " [-1.28997777e+00]\n",
      " [-4.95204839e-01]\n",
      " [ 7.15183287e-01]\n",
      " [ 1.53738193e-01]\n",
      " [ 6.49559835e-01]\n",
      " [-1.53059709e+00]\n",
      " [-8.59779576e-01]\n",
      " [ 5.83936382e-01]\n",
      " [-9.10820039e-01]\n",
      " [-5.04236600e-02]\n",
      " [ 1.29850287e+00]\n",
      " [-5.17079323e-01]\n",
      " [ 8.31847203e-01]\n",
      " [ 5.54770403e-01]\n",
      " [-1.13685638e+00]\n",
      " [-7.79573134e-01]\n",
      " [ 1.21100493e+00]\n",
      " [ 1.10163251e+00]\n",
      " [-8.59779576e-01]\n",
      " [ 2.99568087e-01]\n",
      " [ 8.08232453e-02]\n",
      " [-1.10769040e+00]\n",
      " [ 1.13079849e+00]\n",
      " [ 1.08704952e+00]\n",
      " [ 4.30814993e-01]\n",
      " [ 9.04762151e-01]\n",
      " [-3.63957934e-01]\n",
      " [-9.25403028e-01]\n",
      " [-7.22981442e-02]\n",
      " [ 6.62402558e-02]\n",
      " [-8.08739113e-01]\n",
      " [ 6.27685351e-01]\n",
      " [-1.74934193e+00]\n",
      " [-6.50066495e-02]\n",
      " [ 9.54062348e-02]\n",
      " [ 2.88804872e+00]\n",
      " [ 7.90829792e-03]\n",
      " [ 9.77677098e-01]\n",
      " [-1.28997777e+00]\n",
      " [-6.99366692e-01]\n",
      " [-9.98317976e-01]\n",
      " [ 2.63110614e-01]\n",
      " [-1.23338607e-01]\n",
      " [-1.47226513e+00]\n",
      " [-3.85832418e-01]\n",
      " [ 4.08940508e-01]\n",
      " [-9.32694523e-01]\n",
      " [ 9.77677098e-01]\n",
      " [ 1.39155203e-01]\n",
      " [ 3.43317056e-01]\n",
      " [-8.67071071e-01]\n",
      " [ 2.70402108e-01]\n",
      " [-1.39661863e-02]\n",
      " [-1.86600585e+00]\n",
      " [-5.17079323e-01]\n",
      " [ 1.42974977e+00]\n",
      " [ 1.48808173e+00]\n",
      " [ 9.19345140e-01]\n",
      " [-1.01290097e+00]\n",
      " [ 7.07891793e-01]\n",
      " [ 1.80890750e+00]\n",
      " [ 1.68495209e+00]\n",
      " [-3.05625976e-01]\n",
      " [ 1.97487161e-01]\n",
      " [-9.39986018e-01]\n",
      " [ 3.43317056e-01]\n",
      " [-3.49374944e-01]\n",
      " [-5.17079323e-01]\n",
      " [-3.63957934e-01]\n",
      " [-5.60828292e-01]\n",
      " [ 9.19345140e-01]\n",
      " [-1.95350379e+00]\n",
      " [-7.13949681e-01]\n",
      " [ 3.72483035e-01]\n",
      " [-7.79573134e-01]\n",
      " [-1.28268627e+00]\n",
      " [ 1.62662013e+00]\n",
      " [-1.42851617e+00]\n",
      " [-9.54569007e-01]\n",
      " [-1.08755618e-01]\n",
      " [-2.98334481e-01]\n",
      " [-1.46497364e+00]\n",
      " [-1.63996951e+00]\n",
      " [ 2.28285466e+00]\n",
      " [-1.37921597e-01]\n",
      " [ 9.54062348e-02]\n",
      " [-5.31662313e-01]\n",
      " [ 4.74563961e-01]\n",
      " [ 1.71411807e+00]\n",
      " [-3.05625976e-01]\n",
      " [-5.31662313e-01]\n",
      " [-1.20977132e+00]\n",
      " [ 1.34225183e+00]\n",
      " [-1.79309090e+00]\n",
      " [ 2.04778656e-01]\n",
      " [-7.22981442e-02]\n",
      " [ 6.16803180e-04]\n",
      " [-1.12227339e+00]\n",
      " [ 5.47478909e-01]\n",
      " [ 8.81147400e-02]\n",
      " [-3.12917471e-01]\n",
      " [ 1.75612677e-01]\n",
      " [ 2.84985098e-01]\n",
      " [-1.40664168e+00]\n",
      " [-6.99366692e-01]\n",
      " [ 2.37764409e+00]\n",
      " [ 3.70742769e-02]\n",
      " [ 2.77693603e-01]\n",
      " [-1.83683987e+00]\n",
      " [ 1.39155203e-01]\n",
      " [-1.23893730e+00]\n",
      " [ 1.21829642e+00]\n",
      " [-4.87913344e-01]\n",
      " [ 3.50608551e-01]\n",
      " [ 8.75596172e-01]\n",
      " [-8.30613597e-01]\n",
      " [-3.58406705e-02]\n",
      " [ 1.61029687e-01]\n",
      " [ 2.19361645e-01]\n",
      " [-1.06394143e+00]\n",
      " [-8.08739113e-01]\n",
      " [ 7.00600298e-01]\n",
      " [-6.62909218e-01]\n",
      " [ 2.56722295e+00]\n",
      " [-1.07852442e+00]\n",
      " [-1.17331385e+00]\n",
      " [ 2.77693603e-01]\n",
      " [ 8.61013182e-01]\n",
      " [-4.51455871e-01]\n",
      " [-8.37905092e-01]\n",
      " [ 7.15183287e-01]\n",
      " [ 9.70385603e-01]\n",
      " [ 7.00600298e-01]\n",
      " [ 4.23523498e-01]\n",
      " [ 4.96438445e-01]\n",
      " [-1.30456075e+00]\n",
      " [ 1.61029687e-01]\n",
      " [-1.19518833e+00]\n",
      " [-1.08581591e+00]\n",
      " [-1.15143937e+00]\n",
      " [-1.82225688e+00]\n",
      " [ 2.04778656e-01]\n",
      " [ 6.62402558e-02]\n",
      " [ 1.04330055e+00]\n",
      " [ 9.63094109e-01]\n",
      " [ 3.21442572e-01]\n",
      " [ 1.41516678e+00]\n",
      " [-3.20208965e-01]\n",
      " [-4.31321652e-02]\n",
      " [ 5.98519372e-01]\n",
      " [ 2.99568087e-01]\n",
      " [ 5.98519372e-01]\n",
      " [ 4.01649014e-01]\n",
      " [ 1.06517503e+00]\n",
      " [ 9.54062348e-02]\n",
      " [-6.50066495e-02]\n",
      " [ 4.59980972e-01]\n",
      " [-9.98317976e-01]\n",
      " [ 1.73599255e+00]\n",
      " [ 2.26653140e-01]\n",
      " [-1.46497364e+00]\n",
      " [-1.86600585e+00]\n",
      " [-1.27539478e+00]\n",
      " [ 7.00600298e-01]\n",
      " [ 1.85994796e+00]\n",
      " [-6.62909218e-01]\n",
      " [ 4.30814993e-01]\n",
      " [ 1.75612677e-01]\n",
      " [ 6.34976845e-01]\n",
      " [ 5.76818914e+00]\n",
      " [ 1.11621550e+00]\n",
      " [ 1.16725596e+00]]\n"
     ]
    }
   ],
   "source": [
    "print(y_train_sc)"
   ]
  },
  {
   "cell_type": "code",
   "execution_count": 132,
   "metadata": {},
   "outputs": [
    {
     "name": "stderr",
     "output_type": "stream",
     "text": [
      "C:\\Users\\obemb\\anaconda3\\lib\\site-packages\\sklearn\\utils\\validation.py:760: DataConversionWarning: A column-vector y was passed when a 1d array was expected. Please change the shape of y to (n_samples, ), for example using ravel().\n",
      "  y = column_or_1d(y, warn=True)\n"
     ]
    },
    {
     "data": {
      "text/plain": [
       "SVR(C=1.0, cache_size=200, coef0=0.0, degree=3, epsilon=0.1, gamma='scale',\n",
       "    kernel='rbf', max_iter=-1, shrinking=True, tol=0.001, verbose=False)"
      ]
     },
     "execution_count": 132,
     "metadata": {},
     "output_type": "execute_result"
    }
   ],
   "source": [
    "# Training the SVR model on the whole dataset\n",
    "from sklearn.svm import SVR\n",
    "regressor = SVR(kernel = 'rbf')\n",
    "regressor.fit(X_train_sc, y_train_sc)"
   ]
  },
  {
   "cell_type": "code",
   "execution_count": 142,
   "metadata": {},
   "outputs": [
    {
     "name": "stdout",
     "output_type": "stream",
     "text": [
      "The inbuilt  r2 score for test set is: 0.6895799580124238\n"
     ]
    }
   ],
   "source": [
    "# In sample test\n",
    "y_pred_3 = sc_y.inverse_transform(regressor.predict(sc_X.transform(X_train)))\n",
    "\n",
    "print(\"The inbuilt  r2 score for train set is:\",  regressor.score(X_train_sc, y_train_sc))"
   ]
  },
  {
   "cell_type": "code",
   "execution_count": 144,
   "metadata": {},
   "outputs": [
    {
     "name": "stdout",
     "output_type": "stream",
     "text": [
      "The train set r2 score is: 0.6793333448235002\n",
      "The inbuilt  r2 score for test set is: 0.7795811983919388\n"
     ]
    }
   ],
   "source": [
    "# test set accuracy\n",
    "X_test_sc = sc_X.transform(X_test)\n",
    "y_test_sc = sc_y.transform(y_test.reshape(-1,1))\n",
    "\n",
    "yhat_3 = sc_y.inverse_transform(regressor.predict(X_test_sc))\n",
    "print(\"The inbuilt  r2 score for test set is:\",  regressor.score(X_test_sc, y_test_sc))"
   ]
  },
  {
   "cell_type": "code",
   "execution_count": 145,
   "metadata": {},
   "outputs": [
    {
     "data": {
      "image/png": "[encoded data removed]",
      "text/plain": [
       "<Figure size 432x288 with 1 Axes>"
      ]
     },
     "metadata": {
      "needs_background": "light"
     },
     "output_type": "display_data"
    }
   ],
   "source": [
    "# Visualising the Regression results\n",
    "plt.plot(yhat_3, y_test, color = 'red')\n",
    "plt.title('y_observed versus y_predicted')\n",
    "plt.xlabel('Predicted y')\n",
    "plt.ylabel('Observed y')\n",
    "plt.show()"
   ]
  },
  {
   "cell_type": "markdown",
   "metadata": {},
   "source": [
    "## Decision Tree Regressor"
   ]
  },
  {
   "cell_type": "code",
   "execution_count": 146,
   "metadata": {},
   "outputs": [],
   "source": [
    "X_train = X_train_orig\n",
    "y_train = y_train_orig\n",
    "y_test = y_test_orig\n",
    "X_test = X_test_orig"
   ]
  },
  {
   "cell_type": "code",
   "execution_count": 147,
   "metadata": {},
   "outputs": [
    {
     "data": {
      "text/plain": [
       "DecisionTreeRegressor(ccp_alpha=0.0, criterion='mse', max_depth=None,\n",
       "                      max_features=None, max_leaf_nodes=None,\n",
       "                      min_impurity_decrease=0.0, min_impurity_split=None,\n",
       "                      min_samples_leaf=1, min_samples_split=2,\n",
       "                      min_weight_fraction_leaf=0.0, presort='deprecated',\n",
       "                      random_state=0, splitter='best')"
      ]
     },
     "execution_count": 147,
     "metadata": {},
     "output_type": "execute_result"
    }
   ],
   "source": [
    "# Training the Decision Tree Regression model on the whole dataset\n",
    "from sklearn.tree import DecisionTreeRegressor\n",
    "regressor = DecisionTreeRegressor(random_state = 0)\n",
    "regressor.fit(X_train, y_train)"
   ]
  },
  {
   "cell_type": "code",
   "execution_count": 148,
   "metadata": {},
   "outputs": [
    {
     "name": "stdout",
     "output_type": "stream",
     "text": [
      "The inbuilt  r2 score for train set is: 0.9908801749964097\n"
     ]
    }
   ],
   "source": [
    "# In sample test\n",
    "y_pred4 = regressor.predict(X_train)\n",
    "print(\"The inbuilt  r2 score for train set is:\",  regressor.score(X_train, y_train))"
   ]
  },
  {
   "cell_type": "code",
   "execution_count": 149,
   "metadata": {},
   "outputs": [
    {
     "name": "stdout",
     "output_type": "stream",
     "text": [
      "The inbuilt  r2 score for test set is: 0.6929760163408938\n"
     ]
    }
   ],
   "source": [
    "# Test case accuracy\n",
    "yhat_4 = regressor.predict(X_test)\n",
    "\n",
    "print(\"The inbuilt  r2 score for test set is:\",  regressor.score(X_test, y_test))"
   ]
  },
  {
   "cell_type": "code",
   "execution_count": 150,
   "metadata": {},
   "outputs": [
    {
     "data": {
      "image/png": "[encoded data removed]",
      "text/plain": [
       "<Figure size 432x288 with 1 Axes>"
      ]
     },
     "metadata": {
      "needs_background": "light"
     },
     "output_type": "display_data"
    }
   ],
   "source": [
    "# Visualising the Regression results\n",
    "plt.plot(yhat_4, y_test, color = 'red')\n",
    "plt.title('y_observed versus y_predicted')\n",
    "plt.xlabel('Predicted y')\n",
    "plt.ylabel('Observed y')\n",
    "plt.show()"
   ]
  },
  {
   "cell_type": "code",
   "execution_count": 151,
   "metadata": {},
   "outputs": [
    {
     "data": {
      "text/plain": [
       "RandomForestRegressor(bootstrap=True, ccp_alpha=0.0, criterion='mse',\n",
       "                      max_depth=None, max_features='auto', max_leaf_nodes=None,\n",
       "                      max_samples=None, min_impurity_decrease=0.0,\n",
       "                      min_impurity_split=None, min_samples_leaf=1,\n",
       "                      min_samples_split=2, min_weight_fraction_leaf=0.0,\n",
       "                      n_estimators=20, n_jobs=None, oob_score=False,\n",
       "                      random_state=0, verbose=0, warm_start=False)"
      ]
     },
     "execution_count": 151,
     "metadata": {},
     "output_type": "execute_result"
    }
   ],
   "source": [
    "# Random Forest\n",
    "# Training the Random Forest Regression model on the whole dataset\n",
    "from sklearn.ensemble import RandomForestRegressor\n",
    "regressor = RandomForestRegressor(n_estimators = 20, random_state = 0)\n",
    "regressor.fit(X_train, y_train)"
   ]
  },
  {
   "cell_type": "code",
   "execution_count": 153,
   "metadata": {},
   "outputs": [
    {
     "name": "stdout",
     "output_type": "stream",
     "text": [
      "The inbuilt  r2 score for train set is: 0.9281175641730647\n"
     ]
    }
   ],
   "source": [
    "# In sample test\n",
    "y_pred5 = regressor.predict(X_train)\n",
    "print(\"The inbuilt  r2 score for train set is:\",  regressor.score(X_train, y_train))"
   ]
  },
  {
   "cell_type": "code",
   "execution_count": 154,
   "metadata": {},
   "outputs": [
    {
     "name": "stdout",
     "output_type": "stream",
     "text": [
      " Inbuilt function test set r2 score is: 0.790121110766142\n"
     ]
    }
   ],
   "source": [
    "# Test set case accuracy\n",
    "yhat_5 = regressor.predict(X_test)\n",
    "print(\" Inbuilt function test set r2 score is:\",regressor.score(X_test, y_test))"
   ]
  },
  {
   "cell_type": "code",
   "execution_count": 44,
   "metadata": {},
   "outputs": [
    {
     "data": {
      "image/png": "[encoded data removed]",
      "text/plain": [
       "<Figure size 432x288 with 1 Axes>"
      ]
     },
     "metadata": {
      "needs_background": "light"
     },
     "output_type": "display_data"
    }
   ],
   "source": [
    "# Visualising the Regression results\n",
    "plt.plot(yhat_5, y_test, color = 'blue')\n",
    "plt.title('y_observed versus y_predicted')\n",
    "plt.xlabel('Predicted y')\n",
    "plt.ylabel('Observed y')\n",
    "plt.show()"
   ]
  },
  {
   "cell_type": "markdown",
   "metadata": {},
   "source": [
    "## XGBOOST"
   ]
  },
  {
   "cell_type": "code",
   "execution_count": 163,
   "metadata": {},
   "outputs": [
    {
     "data": {
      "text/plain": [
       "GradientBoostingRegressor(alpha=0.9, ccp_alpha=0.0, criterion='friedman_mse',\n",
       "                          init=None, learning_rate=0.1, loss='ls', max_depth=3,\n",
       "                          max_features=None, max_leaf_nodes=None,\n",
       "                          min_impurity_decrease=0.0, min_impurity_split=None,\n",
       "                          min_samples_leaf=1, min_samples_split=2,\n",
       "                          min_weight_fraction_leaf=0.0, n_estimators=100,\n",
       "                          n_iter_no_change=None, presort='deprecated',\n",
       "                          random_state=0, subsample=1.0, tol=0.0001,\n",
       "                          validation_fraction=0.1, verbose=0, warm_start=False)"
      ]
     },
     "execution_count": 163,
     "metadata": {},
     "output_type": "execute_result"
    }
   ],
   "source": [
    "# Train the XGBoost regressor\n",
    "from sklearn.ensemble import GradientBoostingRegressor\n",
    "reg = GradientBoostingRegressor(random_state=0, learning_rate=0.1)\n",
    "reg.fit(X_train, y_train)"
   ]
  },
  {
   "cell_type": "code",
   "execution_count": 164,
   "metadata": {},
   "outputs": [
    {
     "name": "stdout",
     "output_type": "stream",
     "text": [
      " Inbuilt function train set r2 score is: 0.9259589537837151\n"
     ]
    }
   ],
   "source": [
    "# In sample test\n",
    "y_pred6 = reg.predict(X_train)\n",
    "print(\" Inbuilt function train set r2 score is:\",reg.score(X_train, y_train))"
   ]
  },
  {
   "cell_type": "code",
   "execution_count": 165,
   "metadata": {},
   "outputs": [
    {
     "name": "stdout",
     "output_type": "stream",
     "text": [
      " Inbuilt function test set r2 score is: 0.8096820242875933\n"
     ]
    }
   ],
   "source": [
    "# Test set case accuracy\n",
    "yhat_6 = reg.predict(X_test)\n",
    "\n",
    "print(\" Inbuilt function test set r2 score is:\",reg.score(X_test, y_test))\n",
    "# Best model"
   ]
  },
  {
   "cell_type": "code",
   "execution_count": 166,
   "metadata": {},
   "outputs": [
    {
     "data": {
      "image/png": "[encoded data removed]",
      "text/plain": [
       "<Figure size 432x288 with 1 Axes>"
      ]
     },
     "metadata": {
      "needs_background": "light"
     },
     "output_type": "display_data"
    }
   ],
   "source": [
    "# Visualising the Regression results\n",
    "plt.plot(yhat_6, y_test, color = 'blue')\n",
    "plt.title('y_observed versus y_predicted')\n",
    "plt.xlabel('Predicted y')\n",
    "plt.ylabel('Observed y')\n",
    "plt.show()"
   ]
  },
  {
   "cell_type": "markdown",
   "metadata": {},
   "source": [
    "## Adam boost regressor"
   ]
  },
  {
   "cell_type": "code",
   "execution_count": 173,
   "metadata": {},
   "outputs": [
    {
     "data": {
      "text/plain": [
       "AdaBoostRegressor(base_estimator=None, learning_rate=1.0, loss='exponential',\n",
       "                  n_estimators=100, random_state=0)"
      ]
     },
     "execution_count": 173,
     "metadata": {},
     "output_type": "execute_result"
    }
   ],
   "source": [
    "from sklearn.ensemble import AdaBoostRegressor\n",
    "regr = AdaBoostRegressor(random_state=0, n_estimators=100, loss = 'exponential')\n",
    "regr.fit(X_train, y_train)"
   ]
  },
  {
   "cell_type": "code",
   "execution_count": 174,
   "metadata": {},
   "outputs": [
    {
     "name": "stdout",
     "output_type": "stream",
     "text": [
      " Inbuilt function train set r2 score is: 0.8050991652297936\n"
     ]
    }
   ],
   "source": [
    "# In sample test\n",
    "y_pred7 = regr.predict(X_train)\n",
    "print(\" Inbuilt function train set r2 score is:\",regr.score(X_train, y_train))"
   ]
  },
  {
   "cell_type": "code",
   "execution_count": 175,
   "metadata": {},
   "outputs": [
    {
     "name": "stdout",
     "output_type": "stream",
     "text": [
      " Inbuilt function test set r2 score is: 0.7319686353528576\n"
     ]
    }
   ],
   "source": [
    "# Test set case accuracy\n",
    "yhat_7 = regr.predict(X_test)\n",
    "\n",
    "print(\" Inbuilt function test set r2 score is:\",regr.score(X_test, y_test))"
   ]
  },
  {
   "cell_type": "markdown",
   "metadata": {},
   "source": [
    "## Lasso Regression"
   ]
  },
  {
   "cell_type": "code",
   "execution_count": 178,
   "metadata": {},
   "outputs": [
    {
     "data": {
      "text/plain": [
       "Lasso(alpha=0.001, copy_X=True, fit_intercept=True, max_iter=1000,\n",
       "      normalize=False, positive=False, precompute=False, random_state=None,\n",
       "      selection='cyclic', tol=0.0001, warm_start=False)"
      ]
     },
     "execution_count": 178,
     "metadata": {},
     "output_type": "execute_result"
    }
   ],
   "source": [
    "from sklearn import linear_model\n",
    "clf = linear_model.Lasso(alpha=0.001)   \n",
    "clf.fit(X_train, y_train)"
   ]
  },
  {
   "cell_type": "code",
   "execution_count": 179,
   "metadata": {},
   "outputs": [
    {
     "name": "stdout",
     "output_type": "stream",
     "text": [
      " Inbuilt function train set r2 score is: 0.5456829770473841\n"
     ]
    }
   ],
   "source": [
    "# In sample test\n",
    "y_pred8 = clf.predict(X_train)\n",
    "\n",
    "print(\" Inbuilt function train set r2 score is:\",clf.score(X_train, y_train))"
   ]
  },
  {
   "cell_type": "code",
   "execution_count": 180,
   "metadata": {},
   "outputs": [
    {
     "name": "stdout",
     "output_type": "stream",
     "text": [
      " Inbuilt function test set r2 score is: 0.675407427620851\n"
     ]
    }
   ],
   "source": [
    "# Test set case accuracy\n",
    "yhat_8 = clf.predict(X_test)\n",
    "print(\" Inbuilt function test set r2 score is:\",clf.score(X_test, y_test))"
   ]
  },
  {
   "cell_type": "markdown",
   "metadata": {},
   "source": [
    "## Ridge Ression"
   ]
  },
  {
   "cell_type": "code",
   "execution_count": 181,
   "metadata": {},
   "outputs": [
    {
     "data": {
      "text/plain": [
       "Ridge(alpha=0.1, copy_X=True, fit_intercept=True, max_iter=None,\n",
       "      normalize=False, random_state=None, solver='auto', tol=0.001)"
      ]
     },
     "execution_count": 181,
     "metadata": {},
     "output_type": "execute_result"
    }
   ],
   "source": [
    "from sklearn.linear_model import Ridge\n",
    "clf =Ridge(alpha=0.1)\n",
    "clf.fit(X_train, y_train)"
   ]
  },
  {
   "cell_type": "code",
   "execution_count": 182,
   "metadata": {},
   "outputs": [
    {
     "name": "stdout",
     "output_type": "stream",
     "text": [
      " Inbuilt function train set r2 score is: 0.5285856518256821\n"
     ]
    }
   ],
   "source": [
    "# In sample test\n",
    "y_pred9 = clf.predict(X_train)\n",
    "print(\" Inbuilt function train set r2 score is:\",clf.score(X_train, y_train))"
   ]
  },
  {
   "cell_type": "code",
   "execution_count": 183,
   "metadata": {},
   "outputs": [
    {
     "name": "stdout",
     "output_type": "stream",
     "text": [
      " Inbuilt function test set r2 score is: 0.6606148717862209\n"
     ]
    }
   ],
   "source": [
    "# Test set case accuracy\n",
    "yhat_9 = clf.predict(X_test)\n",
    "print(\" Inbuilt function test set r2 score is:\",clf.score(X_test, y_test))"
   ]
  },
  {
   "cell_type": "markdown",
   "metadata": {},
   "source": [
    "### From the machine learning algorthims trained, the XGBoost model returned the highest  accuracy with train set accuracy of 93% and  test set accuracy of 81%"
   ]
  },
  {
   "cell_type": "code",
   "execution_count": null,
   "metadata": {},
   "outputs": [],
   "source": []
  }
 ],
 "metadata": {
  "kernelspec": {
   "display_name": "Python 3",
   "language": "python",
   "name": "python3"
  },
  "language_info": {
   "codemirror_mode": {
    "name": "ipython",
    "version": 3
   },
   "file_extension": ".py",
   "mimetype": "text/x-python",
   "name": "python",
   "nbconvert_exporter": "python",
   "pygments_lexer": "ipython3",
   "version": "3.7.6"
  }
 },
 "nbformat": 4,
 "nbformat_minor": 4
}

{
  "nbformat": 4,
  "nbformat_minor": 0,
  "metadata": {
    "colab": {
      "name": "MainForestFires.ipynb",
      "provenance": [],
      "toc_visible": true,
      "authorship_tag": "ABX9TyNfn43n/WzMGZbO4WhAx/JX",
      "include_colab_link": true
    },
    "kernelspec": {
      "name": "python3",
      "display_name": "Python 3"
    }
  },
  "cells": [
    {
      "cell_type": "markdown",
      "metadata": {
        "id": "view-in-github",
        "colab_type": "text"
      },
      "source": [
        "<a href=\"https://colab.research.google.com/github/obeabi/ProjectPortfolio/blob/master/MainForestFires.ipynb\" target=\"_parent\"><img src=\"https://colab.research.google.com/assets/colab-badge.svg\" alt=\"Open In Colab\"/></a>"
      ]
    },
    {
      "cell_type": "markdown",
      "metadata": {
        "id": "bFmDu-j8FXor",
        "colab_type": "text"
      },
      "source": [
        "## Project Title: Forest Fires \n",
        "### Written by: Abiola Obembe\n",
        "### Date: 25-08-2020\n",
        "### Project Objective : to predict the burned area of forest fires, in the northeast region of Portugal, by using meteorological and other data\n"
      ]
    },
    {
      "cell_type": "markdown",
      "metadata": {
        "id": "ka0FXnrdGGTU",
        "colab_type": "text"
      },
      "source": [
        "## Data Preprocessing"
      ]
    },
    {
      "cell_type": "code",
      "metadata": {
        "id": "FMyX3v76GLlb",
        "colab_type": "code",
        "colab": {
          "base_uri": "https://localhost:8080/",
          "height": 34
        },
        "outputId": "a00c7fcf-7c16-4f99-de5b-0225564a4294"
      },
      "source": [
        "# Install packages\n",
        "import numpy as np\n",
        "import matplotlib.pyplot as plt\n",
        "import pandas as pd\n",
        "%matplotlib inline\n",
        "print(\"libraries installed successfully!\")"
      ],
      "execution_count": 1,
      "outputs": [
        {
          "output_type": "stream",
          "text": [
            "libraries installed successfully!\n"
          ],
          "name": "stdout"
        }
      ]
    },
    {
      "cell_type": "code",
      "metadata": {
        "id": "I_eJsVYgG1nK",
        "colab_type": "code",
        "colab": {
          "base_uri": "https://localhost:8080/",
          "height": 34
        },
        "outputId": "6f78b649-f209-4c0b-b820-099fee8463b1"
      },
      "source": [
        "# Load dataset\n",
        "dataset = pd.read_csv('forestfires.csv')\n",
        "\n",
        "print(\"The total number of missing values is\" , dataset.isnull().sum().sum())\n"
      ],
      "execution_count": 2,
      "outputs": [
        {
          "output_type": "stream",
          "text": [
            "The total number of missing values is 0\n"
          ],
          "name": "stdout"
        }
      ]
    },
    {
      "cell_type": "code",
      "metadata": {
        "id": "waYVfKUeLbQX",
        "colab_type": "code",
        "colab": {
          "base_uri": "https://localhost:8080/",
          "height": 252
        },
        "outputId": "a6f01edf-87a6-4556-ed92-8d4b44daef63"
      },
      "source": [
        "# Examine data types in dataframe\n",
        "dataset.dtypes"
      ],
      "execution_count": 3,
      "outputs": [
        {
          "output_type": "execute_result",
          "data": {
            "text/plain": [
              "X          int64\n",
              "Y          int64\n",
              "month     object\n",
              "day       object\n",
              "FFMC     float64\n",
              "DMC      float64\n",
              "DC       float64\n",
              "ISI      float64\n",
              "temp     float64\n",
              "RH         int64\n",
              "wind     float64\n",
              "rain     float64\n",
              "area     float64\n",
              "dtype: object"
            ]
          },
          "metadata": {
            "tags": []
          },
          "execution_count": 3
        }
      ]
    },
    {
      "cell_type": "code",
      "metadata": {
        "id": "inSvaN6BO7zk",
        "colab_type": "code",
        "colab": {
          "base_uri": "https://localhost:8080/",
          "height": 195
        },
        "outputId": "b2eddda2-d1fd-4e59-dad7-1f5b2c59186c"
      },
      "source": [
        "# Extract the non-text data type and perform exploratory analysis\n",
        "df = dataset[['FFMC', 'DMC','DC', 'ISI', 'temp','RH', 'wind','rain','area']]\n",
        "df.head()"
      ],
      "execution_count": 4,
      "outputs": [
        {
          "output_type": "execute_result",
          "data": {
            "text/html": [
              "<div>\n",
              "<style scoped>\n",
              "    .dataframe tbody tr th:only-of-type {\n",
              "        vertical-align: middle;\n",
              "    }\n",
              "\n",
              "    .dataframe tbody tr th {\n",
              "        vertical-align: top;\n",
              "    }\n",
              "\n",
              "    .dataframe thead th {\n",
              "        text-align: right;\n",
              "    }\n",
              "</style>\n",
              "<table border=\"1\" class=\"dataframe\">\n",
              "  <thead>\n",
              "    <tr style=\"text-align: right;\">\n",
              "      <th></th>\n",
              "      <th>FFMC</th>\n",
              "      <th>DMC</th>\n",
              "      <th>DC</th>\n",
              "      <th>ISI</th>\n",
              "      <th>temp</th>\n",
              "      <th>RH</th>\n",
              "      <th>wind</th>\n",
              "      <th>rain</th>\n",
              "      <th>area</th>\n",
              "    </tr>\n",
              "  </thead>\n",
              "  <tbody>\n",
              "    <tr>\n",
              "      <th>0</th>\n",
              "      <td>86.2</td>\n",
              "      <td>26.2</td>\n",
              "      <td>94.3</td>\n",
              "      <td>5.1</td>\n",
              "      <td>8.2</td>\n",
              "      <td>51</td>\n",
              "      <td>6.7</td>\n",
              "      <td>0.0</td>\n",
              "      <td>0.0</td>\n",
              "    </tr>\n",
              "    <tr>\n",
              "      <th>1</th>\n",
              "      <td>90.6</td>\n",
              "      <td>35.4</td>\n",
              "      <td>669.1</td>\n",
              "      <td>6.7</td>\n",
              "      <td>18.0</td>\n",
              "      <td>33</td>\n",
              "      <td>0.9</td>\n",
              "      <td>0.0</td>\n",
              "      <td>0.0</td>\n",
              "    </tr>\n",
              "    <tr>\n",
              "      <th>2</th>\n",
              "      <td>90.6</td>\n",
              "      <td>43.7</td>\n",
              "      <td>686.9</td>\n",
              "      <td>6.7</td>\n",
              "      <td>14.6</td>\n",
              "      <td>33</td>\n",
              "      <td>1.3</td>\n",
              "      <td>0.0</td>\n",
              "      <td>0.0</td>\n",
              "    </tr>\n",
              "    <tr>\n",
              "      <th>3</th>\n",
              "      <td>91.7</td>\n",
              "      <td>33.3</td>\n",
              "      <td>77.5</td>\n",
              "      <td>9.0</td>\n",
              "      <td>8.3</td>\n",
              "      <td>97</td>\n",
              "      <td>4.0</td>\n",
              "      <td>0.2</td>\n",
              "      <td>0.0</td>\n",
              "    </tr>\n",
              "    <tr>\n",
              "      <th>4</th>\n",
              "      <td>89.3</td>\n",
              "      <td>51.3</td>\n",
              "      <td>102.2</td>\n",
              "      <td>9.6</td>\n",
              "      <td>11.4</td>\n",
              "      <td>99</td>\n",
              "      <td>1.8</td>\n",
              "      <td>0.0</td>\n",
              "      <td>0.0</td>\n",
              "    </tr>\n",
              "  </tbody>\n",
              "</table>\n",
              "</div>"
            ],
            "text/plain": [
              "   FFMC   DMC     DC  ISI  temp  RH  wind  rain  area\n",
              "0  86.2  26.2   94.3  5.1   8.2  51   6.7   0.0   0.0\n",
              "1  90.6  35.4  669.1  6.7  18.0  33   0.9   0.0   0.0\n",
              "2  90.6  43.7  686.9  6.7  14.6  33   1.3   0.0   0.0\n",
              "3  91.7  33.3   77.5  9.0   8.3  97   4.0   0.2   0.0\n",
              "4  89.3  51.3  102.2  9.6  11.4  99   1.8   0.0   0.0"
            ]
          },
          "metadata": {
            "tags": []
          },
          "execution_count": 4
        }
      ]
    },
    {
      "cell_type": "code",
      "metadata": {
        "id": "IjR51IKdP9bH",
        "colab_type": "code",
        "colab": {
          "base_uri": "https://localhost:8080/",
          "height": 284
        },
        "outputId": "53ca2077-2bbf-4b7d-ca2a-50f365fe5b1c"
      },
      "source": [
        "# obtain statiscticall summary\n",
        "df.describe()"
      ],
      "execution_count": 5,
      "outputs": [
        {
          "output_type": "execute_result",
          "data": {
            "text/html": [
              "<div>\n",
              "<style scoped>\n",
              "    .dataframe tbody tr th:only-of-type {\n",
              "        vertical-align: middle;\n",
              "    }\n",
              "\n",
              "    .dataframe tbody tr th {\n",
              "        vertical-align: top;\n",
              "    }\n",
              "\n",
              "    .dataframe thead th {\n",
              "        text-align: right;\n",
              "    }\n",
              "</style>\n",
              "<table border=\"1\" class=\"dataframe\">\n",
              "  <thead>\n",
              "    <tr style=\"text-align: right;\">\n",
              "      <th></th>\n",
              "      <th>FFMC</th>\n",
              "      <th>DMC</th>\n",
              "      <th>DC</th>\n",
              "      <th>ISI</th>\n",
              "      <th>temp</th>\n",
              "      <th>RH</th>\n",
              "      <th>wind</th>\n",
              "      <th>rain</th>\n",
              "      <th>area</th>\n",
              "    </tr>\n",
              "  </thead>\n",
              "  <tbody>\n",
              "    <tr>\n",
              "      <th>count</th>\n",
              "      <td>517.000000</td>\n",
              "      <td>517.000000</td>\n",
              "      <td>517.000000</td>\n",
              "      <td>517.000000</td>\n",
              "      <td>517.000000</td>\n",
              "      <td>517.000000</td>\n",
              "      <td>517.000000</td>\n",
              "      <td>517.000000</td>\n",
              "      <td>517.000000</td>\n",
              "    </tr>\n",
              "    <tr>\n",
              "      <th>mean</th>\n",
              "      <td>90.644681</td>\n",
              "      <td>110.872340</td>\n",
              "      <td>547.940039</td>\n",
              "      <td>9.021663</td>\n",
              "      <td>18.889168</td>\n",
              "      <td>44.288201</td>\n",
              "      <td>4.017602</td>\n",
              "      <td>0.021663</td>\n",
              "      <td>12.847292</td>\n",
              "    </tr>\n",
              "    <tr>\n",
              "      <th>std</th>\n",
              "      <td>5.520111</td>\n",
              "      <td>64.046482</td>\n",
              "      <td>248.066192</td>\n",
              "      <td>4.559477</td>\n",
              "      <td>5.806625</td>\n",
              "      <td>16.317469</td>\n",
              "      <td>1.791653</td>\n",
              "      <td>0.295959</td>\n",
              "      <td>63.655818</td>\n",
              "    </tr>\n",
              "    <tr>\n",
              "      <th>min</th>\n",
              "      <td>18.700000</td>\n",
              "      <td>1.100000</td>\n",
              "      <td>7.900000</td>\n",
              "      <td>0.000000</td>\n",
              "      <td>2.200000</td>\n",
              "      <td>15.000000</td>\n",
              "      <td>0.400000</td>\n",
              "      <td>0.000000</td>\n",
              "      <td>0.000000</td>\n",
              "    </tr>\n",
              "    <tr>\n",
              "      <th>25%</th>\n",
              "      <td>90.200000</td>\n",
              "      <td>68.600000</td>\n",
              "      <td>437.700000</td>\n",
              "      <td>6.500000</td>\n",
              "      <td>15.500000</td>\n",
              "      <td>33.000000</td>\n",
              "      <td>2.700000</td>\n",
              "      <td>0.000000</td>\n",
              "      <td>0.000000</td>\n",
              "    </tr>\n",
              "    <tr>\n",
              "      <th>50%</th>\n",
              "      <td>91.600000</td>\n",
              "      <td>108.300000</td>\n",
              "      <td>664.200000</td>\n",
              "      <td>8.400000</td>\n",
              "      <td>19.300000</td>\n",
              "      <td>42.000000</td>\n",
              "      <td>4.000000</td>\n",
              "      <td>0.000000</td>\n",
              "      <td>0.520000</td>\n",
              "    </tr>\n",
              "    <tr>\n",
              "      <th>75%</th>\n",
              "      <td>92.900000</td>\n",
              "      <td>142.400000</td>\n",
              "      <td>713.900000</td>\n",
              "      <td>10.800000</td>\n",
              "      <td>22.800000</td>\n",
              "      <td>53.000000</td>\n",
              "      <td>4.900000</td>\n",
              "      <td>0.000000</td>\n",
              "      <td>6.570000</td>\n",
              "    </tr>\n",
              "    <tr>\n",
              "      <th>max</th>\n",
              "      <td>96.200000</td>\n",
              "      <td>291.300000</td>\n",
              "      <td>860.600000</td>\n",
              "      <td>56.100000</td>\n",
              "      <td>33.300000</td>\n",
              "      <td>100.000000</td>\n",
              "      <td>9.400000</td>\n",
              "      <td>6.400000</td>\n",
              "      <td>1090.840000</td>\n",
              "    </tr>\n",
              "  </tbody>\n",
              "</table>\n",
              "</div>"
            ],
            "text/plain": [
              "             FFMC         DMC          DC  ...        wind        rain         area\n",
              "count  517.000000  517.000000  517.000000  ...  517.000000  517.000000   517.000000\n",
              "mean    90.644681  110.872340  547.940039  ...    4.017602    0.021663    12.847292\n",
              "std      5.520111   64.046482  248.066192  ...    1.791653    0.295959    63.655818\n",
              "min     18.700000    1.100000    7.900000  ...    0.400000    0.000000     0.000000\n",
              "25%     90.200000   68.600000  437.700000  ...    2.700000    0.000000     0.000000\n",
              "50%     91.600000  108.300000  664.200000  ...    4.000000    0.000000     0.520000\n",
              "75%     92.900000  142.400000  713.900000  ...    4.900000    0.000000     6.570000\n",
              "max     96.200000  291.300000  860.600000  ...    9.400000    6.400000  1090.840000\n",
              "\n",
              "[8 rows x 9 columns]"
            ]
          },
          "metadata": {
            "tags": []
          },
          "execution_count": 5
        }
      ]
    },
    {
      "cell_type": "code",
      "metadata": {
        "id": "iMb9HTpDQFCn",
        "colab_type": "code",
        "colab": {
          "base_uri": "https://localhost:8080/",
          "height": 314
        },
        "outputId": "3cf37136-68ae-441b-9beb-443f6d711448"
      },
      "source": [
        "# Evaluate correlation matrix\n",
        "df.corr()"
      ],
      "execution_count": 6,
      "outputs": [
        {
          "output_type": "execute_result",
          "data": {
            "text/html": [
              "<div>\n",
              "<style scoped>\n",
              "    .dataframe tbody tr th:only-of-type {\n",
              "        vertical-align: middle;\n",
              "    }\n",
              "\n",
              "    .dataframe tbody tr th {\n",
              "        vertical-align: top;\n",
              "    }\n",
              "\n",
              "    .dataframe thead th {\n",
              "        text-align: right;\n",
              "    }\n",
              "</style>\n",
              "<table border=\"1\" class=\"dataframe\">\n",
              "  <thead>\n",
              "    <tr style=\"text-align: right;\">\n",
              "      <th></th>\n",
              "      <th>FFMC</th>\n",
              "      <th>DMC</th>\n",
              "      <th>DC</th>\n",
              "      <th>ISI</th>\n",
              "      <th>temp</th>\n",
              "      <th>RH</th>\n",
              "      <th>wind</th>\n",
              "      <th>rain</th>\n",
              "      <th>area</th>\n",
              "    </tr>\n",
              "  </thead>\n",
              "  <tbody>\n",
              "    <tr>\n",
              "      <th>FFMC</th>\n",
              "      <td>1.000000</td>\n",
              "      <td>0.382619</td>\n",
              "      <td>0.330512</td>\n",
              "      <td>0.531805</td>\n",
              "      <td>0.431532</td>\n",
              "      <td>-0.300995</td>\n",
              "      <td>-0.028485</td>\n",
              "      <td>0.056702</td>\n",
              "      <td>0.040122</td>\n",
              "    </tr>\n",
              "    <tr>\n",
              "      <th>DMC</th>\n",
              "      <td>0.382619</td>\n",
              "      <td>1.000000</td>\n",
              "      <td>0.682192</td>\n",
              "      <td>0.305128</td>\n",
              "      <td>0.469594</td>\n",
              "      <td>0.073795</td>\n",
              "      <td>-0.105342</td>\n",
              "      <td>0.074790</td>\n",
              "      <td>0.072994</td>\n",
              "    </tr>\n",
              "    <tr>\n",
              "      <th>DC</th>\n",
              "      <td>0.330512</td>\n",
              "      <td>0.682192</td>\n",
              "      <td>1.000000</td>\n",
              "      <td>0.229154</td>\n",
              "      <td>0.496208</td>\n",
              "      <td>-0.039192</td>\n",
              "      <td>-0.203466</td>\n",
              "      <td>0.035861</td>\n",
              "      <td>0.049383</td>\n",
              "    </tr>\n",
              "    <tr>\n",
              "      <th>ISI</th>\n",
              "      <td>0.531805</td>\n",
              "      <td>0.305128</td>\n",
              "      <td>0.229154</td>\n",
              "      <td>1.000000</td>\n",
              "      <td>0.394287</td>\n",
              "      <td>-0.132517</td>\n",
              "      <td>0.106826</td>\n",
              "      <td>0.067668</td>\n",
              "      <td>0.008258</td>\n",
              "    </tr>\n",
              "    <tr>\n",
              "      <th>temp</th>\n",
              "      <td>0.431532</td>\n",
              "      <td>0.469594</td>\n",
              "      <td>0.496208</td>\n",
              "      <td>0.394287</td>\n",
              "      <td>1.000000</td>\n",
              "      <td>-0.527390</td>\n",
              "      <td>-0.227116</td>\n",
              "      <td>0.069491</td>\n",
              "      <td>0.097844</td>\n",
              "    </tr>\n",
              "    <tr>\n",
              "      <th>RH</th>\n",
              "      <td>-0.300995</td>\n",
              "      <td>0.073795</td>\n",
              "      <td>-0.039192</td>\n",
              "      <td>-0.132517</td>\n",
              "      <td>-0.527390</td>\n",
              "      <td>1.000000</td>\n",
              "      <td>0.069410</td>\n",
              "      <td>0.099751</td>\n",
              "      <td>-0.075519</td>\n",
              "    </tr>\n",
              "    <tr>\n",
              "      <th>wind</th>\n",
              "      <td>-0.028485</td>\n",
              "      <td>-0.105342</td>\n",
              "      <td>-0.203466</td>\n",
              "      <td>0.106826</td>\n",
              "      <td>-0.227116</td>\n",
              "      <td>0.069410</td>\n",
              "      <td>1.000000</td>\n",
              "      <td>0.061119</td>\n",
              "      <td>0.012317</td>\n",
              "    </tr>\n",
              "    <tr>\n",
              "      <th>rain</th>\n",
              "      <td>0.056702</td>\n",
              "      <td>0.074790</td>\n",
              "      <td>0.035861</td>\n",
              "      <td>0.067668</td>\n",
              "      <td>0.069491</td>\n",
              "      <td>0.099751</td>\n",
              "      <td>0.061119</td>\n",
              "      <td>1.000000</td>\n",
              "      <td>-0.007366</td>\n",
              "    </tr>\n",
              "    <tr>\n",
              "      <th>area</th>\n",
              "      <td>0.040122</td>\n",
              "      <td>0.072994</td>\n",
              "      <td>0.049383</td>\n",
              "      <td>0.008258</td>\n",
              "      <td>0.097844</td>\n",
              "      <td>-0.075519</td>\n",
              "      <td>0.012317</td>\n",
              "      <td>-0.007366</td>\n",
              "      <td>1.000000</td>\n",
              "    </tr>\n",
              "  </tbody>\n",
              "</table>\n",
              "</div>"
            ],
            "text/plain": [
              "          FFMC       DMC        DC  ...      wind      rain      area\n",
              "FFMC  1.000000  0.382619  0.330512  ... -0.028485  0.056702  0.040122\n",
              "DMC   0.382619  1.000000  0.682192  ... -0.105342  0.074790  0.072994\n",
              "DC    0.330512  0.682192  1.000000  ... -0.203466  0.035861  0.049383\n",
              "ISI   0.531805  0.305128  0.229154  ...  0.106826  0.067668  0.008258\n",
              "temp  0.431532  0.469594  0.496208  ... -0.227116  0.069491  0.097844\n",
              "RH   -0.300995  0.073795 -0.039192  ...  0.069410  0.099751 -0.075519\n",
              "wind -0.028485 -0.105342 -0.203466  ...  1.000000  0.061119  0.012317\n",
              "rain  0.056702  0.074790  0.035861  ...  0.061119  1.000000 -0.007366\n",
              "area  0.040122  0.072994  0.049383  ...  0.012317 -0.007366  1.000000\n",
              "\n",
              "[9 rows x 9 columns]"
            ]
          },
          "metadata": {
            "tags": []
          },
          "execution_count": 6
        }
      ]
    },
    {
      "cell_type": "code",
      "metadata": {
        "id": "iqa35eqgQQbQ",
        "colab_type": "code",
        "colab": {
          "base_uri": "https://localhost:8080/",
          "height": 390
        },
        "outputId": "bcf2a263-1c5d-4965-f9c0-7b86bc127cb4"
      },
      "source": [
        "# Visual exploration via histograms\n",
        "df.hist(figsize=(8,6))\n",
        "plt.show()"
      ],
      "execution_count": 7,
      "outputs": [
        {
          "output_type": "display_data",
          "data": {
            "image/png": "[encoded data removed]",
            "text/plain": [
              "<Figure size 576x432 with 9 Axes>"
            ]
          },
          "metadata": {
            "tags": [],
            "needs_background": "light"
          }
        }
      ]
    },
    {
      "cell_type": "code",
      "metadata": {
        "id": "4zrQ7_2bQqL-",
        "colab_type": "code",
        "colab": {
          "base_uri": "https://localhost:8080/",
          "height": 279
        },
        "outputId": "e206d4b8-9846-4c27-b7df-78b0ee1e176d"
      },
      "source": [
        "# Visual exploration via scatter plots\n",
        "plt.scatter(df.DC, df.area, c = 'blue')\n",
        "plt.xlabel('DC index from the FWI system')\n",
        "plt.ylabel(' the burned area of the forest (in ha)')\n",
        "plt.show()"
      ],
      "execution_count": 8,
      "outputs": [
        {
          "output_type": "display_data",
          "data": {
            "image/png": "[encoded data removed]",
            "text/plain": [
              "<Figure size 432x288 with 1 Axes>"
            ]
          },
          "metadata": {
            "tags": [],
            "needs_background": "light"
          }
        }
      ]
    },
    {
      "cell_type": "code",
      "metadata": {
        "id": "hxG49Jg9ROEW",
        "colab_type": "code",
        "colab": {
          "base_uri": "https://localhost:8080/",
          "height": 279
        },
        "outputId": "a2f6c045-ff63-432c-fbb5-e45245aea289"
      },
      "source": [
        "# Visual exploration via scatter plots\n",
        "plt.scatter(df.temp, df.area, c = 'blue')\n",
        "plt.xlabel('temperature in Celsius degrees')\n",
        "plt.ylabel(' the burned area of the forest (in ha)')\n",
        "plt.show()"
      ],
      "execution_count": 9,
      "outputs": [
        {
          "output_type": "display_data",
          "data": {
            "image/png": "[encoded data removed]",
            "text/plain": [
              "<Figure size 432x288 with 1 Axes>"
            ]
          },
          "metadata": {
            "tags": [],
            "needs_background": "light"
          }
        }
      ]
    },
    {
      "cell_type": "code",
      "metadata": {
        "id": "ZVcydhqWLkpw",
        "colab_type": "code",
        "colab": {
          "base_uri": "https://localhost:8080/",
          "height": 284
        },
        "outputId": "9a874103-11ef-42a0-fffa-d7f3c0c415fb"
      },
      "source": [
        "# Statistical summary of complete dataset\n",
        "dataset.describe()"
      ],
      "execution_count": 10,
      "outputs": [
        {
          "output_type": "execute_result",
          "data": {
            "text/html": [
              "<div>\n",
              "<style scoped>\n",
              "    .dataframe tbody tr th:only-of-type {\n",
              "        vertical-align: middle;\n",
              "    }\n",
              "\n",
              "    .dataframe tbody tr th {\n",
              "        vertical-align: top;\n",
              "    }\n",
              "\n",
              "    .dataframe thead th {\n",
              "        text-align: right;\n",
              "    }\n",
              "</style>\n",
              "<table border=\"1\" class=\"dataframe\">\n",
              "  <thead>\n",
              "    <tr style=\"text-align: right;\">\n",
              "      <th></th>\n",
              "      <th>X</th>\n",
              "      <th>Y</th>\n",
              "      <th>FFMC</th>\n",
              "      <th>DMC</th>\n",
              "      <th>DC</th>\n",
              "      <th>ISI</th>\n",
              "      <th>temp</th>\n",
              "      <th>RH</th>\n",
              "      <th>wind</th>\n",
              "      <th>rain</th>\n",
              "      <th>area</th>\n",
              "    </tr>\n",
              "  </thead>\n",
              "  <tbody>\n",
              "    <tr>\n",
              "      <th>count</th>\n",
              "      <td>517.000000</td>\n",
              "      <td>517.000000</td>\n",
              "      <td>517.000000</td>\n",
              "      <td>517.000000</td>\n",
              "      <td>517.000000</td>\n",
              "      <td>517.000000</td>\n",
              "      <td>517.000000</td>\n",
              "      <td>517.000000</td>\n",
              "      <td>517.000000</td>\n",
              "      <td>517.000000</td>\n",
              "      <td>517.000000</td>\n",
              "    </tr>\n",
              "    <tr>\n",
              "      <th>mean</th>\n",
              "      <td>4.669246</td>\n",
              "      <td>4.299807</td>\n",
              "      <td>90.644681</td>\n",
              "      <td>110.872340</td>\n",
              "      <td>547.940039</td>\n",
              "      <td>9.021663</td>\n",
              "      <td>18.889168</td>\n",
              "      <td>44.288201</td>\n",
              "      <td>4.017602</td>\n",
              "      <td>0.021663</td>\n",
              "      <td>12.847292</td>\n",
              "    </tr>\n",
              "    <tr>\n",
              "      <th>std</th>\n",
              "      <td>2.313778</td>\n",
              "      <td>1.229900</td>\n",
              "      <td>5.520111</td>\n",
              "      <td>64.046482</td>\n",
              "      <td>248.066192</td>\n",
              "      <td>4.559477</td>\n",
              "      <td>5.806625</td>\n",
              "      <td>16.317469</td>\n",
              "      <td>1.791653</td>\n",
              "      <td>0.295959</td>\n",
              "      <td>63.655818</td>\n",
              "    </tr>\n",
              "    <tr>\n",
              "      <th>min</th>\n",
              "      <td>1.000000</td>\n",
              "      <td>2.000000</td>\n",
              "      <td>18.700000</td>\n",
              "      <td>1.100000</td>\n",
              "      <td>7.900000</td>\n",
              "      <td>0.000000</td>\n",
              "      <td>2.200000</td>\n",
              "      <td>15.000000</td>\n",
              "      <td>0.400000</td>\n",
              "      <td>0.000000</td>\n",
              "      <td>0.000000</td>\n",
              "    </tr>\n",
              "    <tr>\n",
              "      <th>25%</th>\n",
              "      <td>3.000000</td>\n",
              "      <td>4.000000</td>\n",
              "      <td>90.200000</td>\n",
              "      <td>68.600000</td>\n",
              "      <td>437.700000</td>\n",
              "      <td>6.500000</td>\n",
              "      <td>15.500000</td>\n",
              "      <td>33.000000</td>\n",
              "      <td>2.700000</td>\n",
              "      <td>0.000000</td>\n",
              "      <td>0.000000</td>\n",
              "    </tr>\n",
              "    <tr>\n",
              "      <th>50%</th>\n",
              "      <td>4.000000</td>\n",
              "      <td>4.000000</td>\n",
              "      <td>91.600000</td>\n",
              "      <td>108.300000</td>\n",
              "      <td>664.200000</td>\n",
              "      <td>8.400000</td>\n",
              "      <td>19.300000</td>\n",
              "      <td>42.000000</td>\n",
              "      <td>4.000000</td>\n",
              "      <td>0.000000</td>\n",
              "      <td>0.520000</td>\n",
              "    </tr>\n",
              "    <tr>\n",
              "      <th>75%</th>\n",
              "      <td>7.000000</td>\n",
              "      <td>5.000000</td>\n",
              "      <td>92.900000</td>\n",
              "      <td>142.400000</td>\n",
              "      <td>713.900000</td>\n",
              "      <td>10.800000</td>\n",
              "      <td>22.800000</td>\n",
              "      <td>53.000000</td>\n",
              "      <td>4.900000</td>\n",
              "      <td>0.000000</td>\n",
              "      <td>6.570000</td>\n",
              "    </tr>\n",
              "    <tr>\n",
              "      <th>max</th>\n",
              "      <td>9.000000</td>\n",
              "      <td>9.000000</td>\n",
              "      <td>96.200000</td>\n",
              "      <td>291.300000</td>\n",
              "      <td>860.600000</td>\n",
              "      <td>56.100000</td>\n",
              "      <td>33.300000</td>\n",
              "      <td>100.000000</td>\n",
              "      <td>9.400000</td>\n",
              "      <td>6.400000</td>\n",
              "      <td>1090.840000</td>\n",
              "    </tr>\n",
              "  </tbody>\n",
              "</table>\n",
              "</div>"
            ],
            "text/plain": [
              "                X           Y        FFMC  ...        wind        rain         area\n",
              "count  517.000000  517.000000  517.000000  ...  517.000000  517.000000   517.000000\n",
              "mean     4.669246    4.299807   90.644681  ...    4.017602    0.021663    12.847292\n",
              "std      2.313778    1.229900    5.520111  ...    1.791653    0.295959    63.655818\n",
              "min      1.000000    2.000000   18.700000  ...    0.400000    0.000000     0.000000\n",
              "25%      3.000000    4.000000   90.200000  ...    2.700000    0.000000     0.000000\n",
              "50%      4.000000    4.000000   91.600000  ...    4.000000    0.000000     0.520000\n",
              "75%      7.000000    5.000000   92.900000  ...    4.900000    0.000000     6.570000\n",
              "max      9.000000    9.000000   96.200000  ...    9.400000    6.400000  1090.840000\n",
              "\n",
              "[8 rows x 11 columns]"
            ]
          },
          "metadata": {
            "tags": []
          },
          "execution_count": 10
        }
      ]
    },
    {
      "cell_type": "code",
      "metadata": {
        "id": "jeciUjLFJBBk",
        "colab_type": "code",
        "colab": {
          "base_uri": "https://localhost:8080/",
          "height": 101
        },
        "outputId": "2c5a468e-ecd3-4992-a3d4-726669e65283"
      },
      "source": [
        "# Split dataframe into X and y\n",
        "X = dataset.iloc[:, :-1].values\n",
        "y = dataset.iloc[:, -1].values\n",
        "print(X.shape)\n",
        "print(y.shape)\n",
        "print(\"The total number of rows in the feature X dataset is\" + \" \" +  str(X.shape[0]))\n",
        "print(\"The total number of attributes in X is\" + \" \" +  str(X.shape[1]))\n",
        "print(\"The total number of observations in y is\" + \" \" + str(X.shape[1]))"
      ],
      "execution_count": 11,
      "outputs": [
        {
          "output_type": "stream",
          "text": [
            "(517, 12)\n",
            "(517,)\n",
            "The total number of rows in the feature X dataset is 517\n",
            "The total number of attributes in X is 12\n",
            "The total number of observations in y is 12\n"
          ],
          "name": "stdout"
        }
      ]
    },
    {
      "cell_type": "code",
      "metadata": {
        "id": "-myTBL-QIp56",
        "colab_type": "code",
        "colab": {
          "base_uri": "https://localhost:8080/",
          "height": 67
        },
        "outputId": "7d2dde8d-5329-4a16-e164-e3979d5827de"
      },
      "source": [
        "# print first few rows of X\n",
        "print(X[0:3,:])"
      ],
      "execution_count": 12,
      "outputs": [
        {
          "output_type": "stream",
          "text": [
            "[[7 5 'mar' 'fri' 86.2 26.2 94.3 5.1 8.2 51 6.7 0.0]\n",
            " [7 4 'oct' 'tue' 90.6 35.4 669.1 6.7 18.0 33 0.9 0.0]\n",
            " [7 4 'oct' 'sat' 90.6 43.7 686.9 6.7 14.6 33 1.3 0.0]]\n"
          ],
          "name": "stdout"
        }
      ]
    },
    {
      "cell_type": "code",
      "metadata": {
        "id": "pN-NZQ9mIzqq",
        "colab_type": "code",
        "colab": {
          "base_uri": "https://localhost:8080/",
          "height": 34
        },
        "outputId": "ddb0b054-4f47-4dc9-e1fe-2df14c17d081"
      },
      "source": [
        "# print first few rows of y\n",
        "print(y[0:5])"
      ],
      "execution_count": 13,
      "outputs": [
        {
          "output_type": "stream",
          "text": [
            "[0. 0. 0. 0. 0.]\n"
          ],
          "name": "stdout"
        }
      ]
    },
    {
      "cell_type": "code",
      "metadata": {
        "id": "pE-Wu_9OI8zl",
        "colab_type": "code",
        "colab": {
          "base_uri": "https://localhost:8080/",
          "height": 134
        },
        "outputId": "8dafe7c8-1434-4cf6-e428-bcdebbfdd16a"
      },
      "source": [
        "# Taking care of categorical data in X (i.e. Encoding the Independent Variable)\n",
        "from sklearn.compose import ColumnTransformer\n",
        "from sklearn.preprocessing import OneHotEncoder\n",
        "ct = ColumnTransformer(transformers=[('encoder', OneHotEncoder(), [2, 3])], remainder='passthrough')\n",
        "X = np.array(ct.fit_transform(X))\n",
        "print(X[0:3])\n",
        "print(\"The new shape of feature matrix X after encoding is \",  X.shape)"
      ],
      "execution_count": 14,
      "outputs": [
        {
          "output_type": "stream",
          "text": [
            "[[0.0 0.0 0.0 0.0 0.0 0.0 0.0 1.0 0.0 0.0 0.0 0.0 1.0 0.0 0.0 0.0 0.0 0.0\n",
            "  0.0 7 5 86.2 26.2 94.3 5.1 8.2 51 6.7 0.0]\n",
            " [0.0 0.0 0.0 0.0 0.0 0.0 0.0 0.0 0.0 0.0 1.0 0.0 0.0 0.0 0.0 0.0 0.0 1.0\n",
            "  0.0 7 4 90.6 35.4 669.1 6.7 18.0 33 0.9 0.0]\n",
            " [0.0 0.0 0.0 0.0 0.0 0.0 0.0 0.0 0.0 0.0 1.0 0.0 0.0 0.0 1.0 0.0 0.0 0.0\n",
            "  0.0 7 4 90.6 43.7 686.9 6.7 14.6 33 1.3 0.0]]\n",
            "The new shape of feature matrix X after encoding is  (517, 29)\n"
          ],
          "name": "stdout"
        }
      ]
    },
    {
      "cell_type": "code",
      "metadata": {
        "id": "ClnJJNzONoPP",
        "colab_type": "code",
        "colab": {
          "base_uri": "https://localhost:8080/",
          "height": 84
        },
        "outputId": "79ee7584-abbe-49e4-9ece-b2e97e61e19b"
      },
      "source": [
        "# Splitting the dataset into the Training set and Test set\n",
        "from sklearn.model_selection import train_test_split\n",
        "X_train, X_test, y_train, y_test = train_test_split(X, y, test_size = 0.2, random_state = 1)\n",
        "print(X_train.shape)\n",
        "print(X_test.shape)\n",
        "print(y_train.shape)\n",
        "print(y_test.shape)"
      ],
      "execution_count": 15,
      "outputs": [
        {
          "output_type": "stream",
          "text": [
            "(413, 29)\n",
            "(104, 29)\n",
            "(413,)\n",
            "(104,)\n"
          ],
          "name": "stdout"
        }
      ]
    },
    {
      "cell_type": "markdown",
      "metadata": {
        "id": "d9Vr0cXoVHUR",
        "colab_type": "text"
      },
      "source": [
        "## Model 1: Multiple Linear Regression"
      ]
    },
    {
      "cell_type": "code",
      "metadata": {
        "id": "3pQ0tX4LVNu7",
        "colab_type": "code",
        "colab": {
          "base_uri": "https://localhost:8080/",
          "height": 34
        },
        "outputId": "3c49d28d-a65e-40ba-eaee-e2edf368cd07"
      },
      "source": [
        "# Train Model \n",
        "from sklearn.linear_model import LinearRegression\n",
        "regressor = LinearRegression()\n",
        "regressor.fit(X_train, y_train)\n",
        "print(\"\tThe coefficient of determination R^2 of the prediction.:\", regressor.score(X_train,y_train))"
      ],
      "execution_count": 16,
      "outputs": [
        {
          "output_type": "stream",
          "text": [
            "\tThe coefficient of determination R^2 of the prediction.: 0.05293535775223334\n"
          ],
          "name": "stdout"
        }
      ]
    },
    {
      "cell_type": "code",
      "metadata": {
        "id": "set3f9Xue5A4",
        "colab_type": "code",
        "colab": {
          "base_uri": "https://localhost:8080/",
          "height": 1000
        },
        "outputId": "9a1f1a66-0671-4a4d-f8c4-7b9253290f98"
      },
      "source": [
        "# Predicting the Test set results\n",
        "y_pred = regressor.predict(X_test)\n",
        "np.set_printoptions(precision=2)\n",
        "print(np.concatenate((y_pred.reshape(len(y_pred),1), y_test.reshape(len(y_test),1)),1))"
      ],
      "execution_count": 17,
      "outputs": [
        {
          "output_type": "stream",
          "text": [
            "[[-7.93e-01  5.20e-01]\n",
            " [ 1.82e+01  0.00e+00]\n",
            " [-1.78e+00  0.00e+00]\n",
            " [ 1.08e+01  3.59e+01]\n",
            " [ 1.15e+01  3.77e+01]\n",
            " [ 1.21e+01  0.00e+00]\n",
            " [ 2.74e+01  1.69e+00]\n",
            " [ 6.34e+00  0.00e+00]\n",
            " [ 2.22e+00  0.00e+00]\n",
            " [ 5.05e+01  3.95e+00]\n",
            " [ 2.04e+01  0.00e+00]\n",
            " [ 1.79e+01  0.00e+00]\n",
            " [ 3.96e+00  1.10e+00]\n",
            " [ 5.36e+00  0.00e+00]\n",
            " [ 3.95e+01  0.00e+00]\n",
            " [ 1.28e+01  0.00e+00]\n",
            " [ 1.72e+01  0.00e+00]\n",
            " [ 5.90e+00  7.31e+00]\n",
            " [ 3.10e+00  6.44e+00]\n",
            " [-6.68e+00  3.19e+00]\n",
            " [ 3.62e+01  1.11e+01]\n",
            " [-9.67e+00  0.00e+00]\n",
            " [-3.21e+00  3.71e+00]\n",
            " [ 1.93e+01  3.20e+00]\n",
            " [ 9.38e+00  0.00e+00]\n",
            " [ 1.58e+01  0.00e+00]\n",
            " [ 2.03e+01  0.00e+00]\n",
            " [ 2.65e+01  7.80e+00]\n",
            " [ 3.01e+00  0.00e+00]\n",
            " [ 1.90e+01  3.70e+01]\n",
            " [ 1.47e+01  9.96e+00]\n",
            " [ 6.65e+00  0.00e+00]\n",
            " [ 1.12e+01  0.00e+00]\n",
            " [ 1.66e+01  7.04e+00]\n",
            " [ 2.71e+01  1.03e+02]\n",
            " [ 1.81e+01  7.30e+00]\n",
            " [ 5.81e+00  1.58e+00]\n",
            " [ 2.91e+01  1.94e+00]\n",
            " [ 8.12e-01  8.71e+00]\n",
            " [ 1.09e+01  9.00e-02]\n",
            " [ 1.12e+01  2.46e+01]\n",
            " [-7.79e+00  0.00e+00]\n",
            " [ 3.00e+01  4.85e+01]\n",
            " [-7.09e+00  2.47e+00]\n",
            " [ 3.23e+01  3.32e+00]\n",
            " [-7.34e+00  0.00e+00]\n",
            " [ 4.05e+00  4.67e+01]\n",
            " [ 3.50e+01  1.94e+00]\n",
            " [ 6.78e+00  2.82e+01]\n",
            " [ 9.00e+00  5.83e+00]\n",
            " [ 2.57e+01  0.00e+00]\n",
            " [ 1.48e+01  7.46e+02]\n",
            " [ 3.68e+01  9.60e-01]\n",
            " [ 6.54e+00  0.00e+00]\n",
            " [ 3.45e+01  0.00e+00]\n",
            " [ 1.10e+01  1.60e+01]\n",
            " [ 2.11e+01  0.00e+00]\n",
            " [ 2.30e+01  0.00e+00]\n",
            " [ 2.08e+01  5.40e-01]\n",
            " [ 2.26e+01  0.00e+00]\n",
            " [ 1.20e+01  0.00e+00]\n",
            " [ 1.07e+01  6.10e+00]\n",
            " [ 2.48e+01  0.00e+00]\n",
            " [ 1.14e+01  1.75e+00]\n",
            " [ 1.12e+01  0.00e+00]\n",
            " [-6.03e+00  3.30e+00]\n",
            " [ 4.39e-01  0.00e+00]\n",
            " [ 2.19e+01  0.00e+00]\n",
            " [ 1.58e+01  6.11e+01]\n",
            " [ 7.94e+00  5.23e+00]\n",
            " [ 1.85e+01  1.86e+02]\n",
            " [ 3.04e+01  0.00e+00]\n",
            " [ 6.75e+00  6.57e+00]\n",
            " [ 4.80e+00  2.53e+00]\n",
            " [ 1.21e+01  8.85e+00]\n",
            " [-4.46e+00  1.08e+01]\n",
            " [ 1.96e+01  2.74e+00]\n",
            " [ 3.39e+01  0.00e+00]\n",
            " [ 2.29e+01  0.00e+00]\n",
            " [ 1.21e+01  1.29e+00]\n",
            " [-3.56e+00  0.00e+00]\n",
            " [ 8.78e-01  2.64e+00]\n",
            " [ 4.13e+00  8.28e+01]\n",
            " [ 2.71e+01  0.00e+00]\n",
            " [-4.35e+00  0.00e+00]\n",
            " [ 5.60e+00  8.24e+00]\n",
            " [-7.59e+00  0.00e+00]\n",
            " [ 9.76e+00  0.00e+00]\n",
            " [ 8.00e+00  1.01e+00]\n",
            " [ 3.52e+01  1.06e+02]\n",
            " [ 3.23e+01  0.00e+00]\n",
            " [ 3.53e+00  0.00e+00]\n",
            " [ 1.64e+01  1.40e+01]\n",
            " [ 8.27e+00  0.00e+00]\n",
            " [ 1.36e+00  0.00e+00]\n",
            " [ 8.17e+00  2.14e+00]\n",
            " [ 1.10e+01  6.80e-01]\n",
            " [-3.49e+00  0.00e+00]\n",
            " [ 2.49e+01  0.00e+00]\n",
            " [ 2.62e+01  6.43e+00]\n",
            " [ 2.78e+01  0.00e+00]\n",
            " [ 9.96e+00  0.00e+00]\n",
            " [ 2.27e+01  0.00e+00]\n",
            " [-1.17e+00  5.20e-01]]\n"
          ],
          "name": "stdout"
        }
      ]
    },
    {
      "cell_type": "code",
      "metadata": {
        "id": "8kAeniP0WLVL",
        "colab_type": "code",
        "colab": {
          "base_uri": "https://localhost:8080/",
          "height": 34
        },
        "outputId": "1e14eb1e-e030-4e68-ed5b-b51b95b6ca00"
      },
      "source": [
        "# Evaluate accuracy of model for training set\n",
        "from sklearn.metrics import r2_score\n",
        "print(\"The r2_score for linear regression model is:\", r2_score(y_pred,y_test))"
      ],
      "execution_count": 18,
      "outputs": [
        {
          "output_type": "stream",
          "text": [
            "The r2_score for linear regression model is: -36.9466077018298\n"
          ],
          "name": "stdout"
        }
      ]
    },
    {
      "cell_type": "markdown",
      "metadata": {
        "id": "F3JauYVsbVUE",
        "colab_type": "text"
      },
      "source": [
        "##### Evaluating the fit of the model on the training set, we can clearly note that the model is bias (i.e. it fits the training set poorly). Therefore, it is not surprising to observe the poor result from the test set."
      ]
    },
    {
      "cell_type": "markdown",
      "metadata": {
        "id": "4_FGo_nIbyUU",
        "colab_type": "text"
      },
      "source": [
        "## Model 2: Polynomial Regression"
      ]
    },
    {
      "cell_type": "code",
      "metadata": {
        "id": "RI-rypOxcuoi",
        "colab_type": "code",
        "colab": {
          "base_uri": "https://localhost:8080/",
          "height": 34
        },
        "outputId": "d845ec1f-0d24-4d89-afdb-4fa9e405c11f"
      },
      "source": [
        "# Training the Polynomial Regression model on the whole dataset\n",
        "from sklearn.preprocessing import PolynomialFeatures\n",
        "poly_reg = PolynomialFeatures(degree = 3)\n",
        "X_poly = poly_reg.fit_transform(X_train)\n",
        "lin_reg_2 = LinearRegression()\n",
        "lin_reg_2.fit(X_poly, y_train)\n",
        "print(\"The coefficient of determination R^2 of the prediction:\",lin_reg_2.score(X_poly, y_train))"
      ],
      "execution_count": 19,
      "outputs": [
        {
          "output_type": "stream",
          "text": [
            "The coefficient of determination R^2 of the prediction: 0.9998871774268282\n"
          ],
          "name": "stdout"
        }
      ]
    },
    {
      "cell_type": "code",
      "metadata": {
        "id": "OqTSdMzofCvf",
        "colab_type": "code",
        "colab": {
          "base_uri": "https://localhost:8080/",
          "height": 1000
        },
        "outputId": "4665e01c-6c6a-4cc0-92e0-35396a73d433"
      },
      "source": [
        "# Predicting the Test set results\n",
        "y_pred = lin_reg_2.predict(poly_reg.transform(X_test))\n",
        "np.set_printoptions(precision=2)\n",
        "print(np.concatenate((y_pred.reshape(len(y_pred),1), y_test.reshape(len(y_test),1)),1))"
      ],
      "execution_count": 20,
      "outputs": [
        {
          "output_type": "stream",
          "text": [
            "[[ 1.48e+03  5.20e-01]\n",
            " [ 1.66e+02  0.00e+00]\n",
            " [ 1.20e+03  0.00e+00]\n",
            " [-5.69e+02  3.59e+01]\n",
            " [ 3.24e+02  3.77e+01]\n",
            " [-6.97e+03  0.00e+00]\n",
            " [ 5.28e-10  1.69e+00]\n",
            " [-1.89e+03  0.00e+00]\n",
            " [ 5.03e+03  0.00e+00]\n",
            " [-4.37e+03  3.95e+00]\n",
            " [-4.62e+02  0.00e+00]\n",
            " [ 3.52e+02  0.00e+00]\n",
            " [ 7.21e+02  1.10e+00]\n",
            " [ 1.87e+02  0.00e+00]\n",
            " [ 1.39e+02  0.00e+00]\n",
            " [-4.27e+01  0.00e+00]\n",
            " [-2.98e+02  0.00e+00]\n",
            " [ 6.76e+01  7.31e+00]\n",
            " [-1.50e+03  6.44e+00]\n",
            " [ 1.48e+03  3.19e+00]\n",
            " [ 1.70e+02  1.11e+01]\n",
            " [-4.42e+02  0.00e+00]\n",
            " [ 3.80e-10  3.71e+00]\n",
            " [-4.35e+02  3.20e+00]\n",
            " [-4.21e+02  0.00e+00]\n",
            " [ 4.59e+02  0.00e+00]\n",
            " [ 1.38e+02  0.00e+00]\n",
            " [-4.72e+02  7.80e+00]\n",
            " [ 1.45e+01  0.00e+00]\n",
            " [-1.19e+04  3.70e+01]\n",
            " [ 8.82e+02  9.96e+00]\n",
            " [-1.77e+03  0.00e+00]\n",
            " [ 4.98e+01  0.00e+00]\n",
            " [-2.82e+02  7.04e+00]\n",
            " [-8.43e+00  1.03e+02]\n",
            " [-1.21e+02  7.30e+00]\n",
            " [-3.01e+02  1.58e+00]\n",
            " [-1.36e+02  1.94e+00]\n",
            " [ 1.00e+01  8.71e+00]\n",
            " [ 8.84e+01  9.00e-02]\n",
            " [-3.05e+02  2.46e+01]\n",
            " [-9.50e+02  0.00e+00]\n",
            " [-1.24e+02  4.85e+01]\n",
            " [ 4.51e+02  2.47e+00]\n",
            " [-6.51e+02  3.32e+00]\n",
            " [-1.74e+02  0.00e+00]\n",
            " [ 1.09e+03  4.67e+01]\n",
            " [ 5.77e+02  1.94e+00]\n",
            " [-1.04e+02  2.82e+01]\n",
            " [-4.99e+01  5.83e+00]\n",
            " [ 8.14e+02  0.00e+00]\n",
            " [ 6.95e+01  7.46e+02]\n",
            " [ 1.07e+03  9.60e-01]\n",
            " [ 8.16e+00  0.00e+00]\n",
            " [-1.02e+02  0.00e+00]\n",
            " [-2.55e+02  1.60e+01]\n",
            " [ 8.91e+00  0.00e+00]\n",
            " [ 1.82e+02  0.00e+00]\n",
            " [-1.71e+02  5.40e-01]\n",
            " [ 4.73e+01  0.00e+00]\n",
            " [-6.15e+02  0.00e+00]\n",
            " [-6.45e+02  6.10e+00]\n",
            " [ 4.87e+01  0.00e+00]\n",
            " [-7.47e+00  1.75e+00]\n",
            " [-9.48e+02  0.00e+00]\n",
            " [ 8.50e+02  3.30e+00]\n",
            " [-6.12e+02  0.00e+00]\n",
            " [ 2.23e+02  0.00e+00]\n",
            " [-1.47e+03  6.11e+01]\n",
            " [-5.89e+02  5.23e+00]\n",
            " [-1.85e+03  1.86e+02]\n",
            " [-4.14e+02  0.00e+00]\n",
            " [-2.86e+03  6.57e+00]\n",
            " [-5.74e+02  2.53e+00]\n",
            " [ 8.58e+02  8.85e+00]\n",
            " [-2.40e+03  1.08e+01]\n",
            " [ 2.71e+02  2.74e+00]\n",
            " [ 3.50e+02  0.00e+00]\n",
            " [-2.00e+02  0.00e+00]\n",
            " [-5.19e+02  1.29e+00]\n",
            " [-2.91e+03  0.00e+00]\n",
            " [-4.22e+02  2.64e+00]\n",
            " [ 2.94e+02  8.28e+01]\n",
            " [-1.74e+02  0.00e+00]\n",
            " [ 1.22e+03  0.00e+00]\n",
            " [-2.85e+02  8.24e+00]\n",
            " [ 1.38e+03  0.00e+00]\n",
            " [-2.11e+03  0.00e+00]\n",
            " [-3.07e+02  1.01e+00]\n",
            " [ 8.89e+02  1.06e+02]\n",
            " [-6.51e+02  0.00e+00]\n",
            " [-5.65e+00  0.00e+00]\n",
            " [-4.31e+02  1.40e+01]\n",
            " [-4.17e+02  0.00e+00]\n",
            " [-2.94e+02  0.00e+00]\n",
            " [-5.60e+02  2.14e+00]\n",
            " [-4.10e+02  6.80e-01]\n",
            " [-1.65e+02  0.00e+00]\n",
            " [ 5.87e+02  0.00e+00]\n",
            " [-6.48e+02  6.43e+00]\n",
            " [ 7.62e+03  0.00e+00]\n",
            " [-4.13e+01  0.00e+00]\n",
            " [-8.23e+01  0.00e+00]\n",
            " [ 1.47e+03  5.20e-01]]\n"
          ],
          "name": "stdout"
        }
      ]
    },
    {
      "cell_type": "code",
      "metadata": {
        "id": "SU9ctOJTdIJo",
        "colab_type": "code",
        "colab": {
          "base_uri": "https://localhost:8080/",
          "height": 34
        },
        "outputId": "79b97d45-4dc5-4a9b-b97f-dd8da6f0aa91"
      },
      "source": [
        "# Evaluate accuracy of model for test set\n",
        "from sklearn.metrics import r2_score\n",
        "print(\"The r2_score for polynomial regression model of degree 3  is:\", r2_score(y_pred,y_test))"
      ],
      "execution_count": 21,
      "outputs": [
        {
          "output_type": "stream",
          "text": [
            "The r2_score for polynomial regression model of degree 3  is: -0.023646537072645524\n"
          ],
          "name": "stdout"
        }
      ]
    },
    {
      "cell_type": "markdown",
      "metadata": {
        "id": "67bSk0KEfgPJ",
        "colab_type": "text"
      },
      "source": [
        "##### Evaluating the fit of the model on the training set, we can clearly note that the model fits well with the trianing data; however, the test set accuracy indicates the model does not genarluze well to untrained data. In fact, the negative value for R squared indicates an arbitarirly worse model. "
      ]
    },
    {
      "cell_type": "markdown",
      "metadata": {
        "id": "CySJso0UcFJr",
        "colab_type": "text"
      },
      "source": [
        "## Model 3: Decision Tree Regression"
      ]
    },
    {
      "cell_type": "code",
      "metadata": {
        "id": "zC7NteRxgcBh",
        "colab_type": "code",
        "colab": {
          "base_uri": "https://localhost:8080/",
          "height": 34
        },
        "outputId": "889b6c04-8b8e-45da-80c6-6b364806d929"
      },
      "source": [
        "# Training the Decision Tree Regression model on the whole dataset\n",
        "from sklearn.tree import DecisionTreeRegressor\n",
        "regressor = DecisionTreeRegressor(random_state = 0)\n",
        "regressor.fit(X_train, y_train)\n",
        "print(\"\tThe coefficient of determination R^2 of the prediction.:\", regressor.score(X_train,y_train))"
      ],
      "execution_count": 22,
      "outputs": [
        {
          "output_type": "stream",
          "text": [
            "\tThe coefficient of determination R^2 of the prediction.: 0.9998871774268282\n"
          ],
          "name": "stdout"
        }
      ]
    },
    {
      "cell_type": "code",
      "metadata": {
        "id": "D1SmK4NqgfKB",
        "colab_type": "code",
        "colab": {
          "base_uri": "https://localhost:8080/",
          "height": 1000
        },
        "outputId": "98e24cab-4166-4241-b249-7f33b99b24d7"
      },
      "source": [
        "# Predicting the Test set results\n",
        "y_pred = regressor.predict(X_test)\n",
        "np.set_printoptions(precision=2)\n",
        "print(np.concatenate((y_pred.reshape(len(y_pred),1), y_test.reshape(len(y_test),1)),1))"
      ],
      "execution_count": 23,
      "outputs": [
        {
          "output_type": "stream",
          "text": [
            "[[3.09e+00 5.20e-01]\n",
            " [3.50e+00 0.00e+00]\n",
            " [0.00e+00 0.00e+00]\n",
            " [0.00e+00 3.59e+01]\n",
            " [4.88e+00 3.77e+01]\n",
            " [2.21e+00 0.00e+00]\n",
            " [0.00e+00 1.69e+00]\n",
            " [0.00e+00 0.00e+00]\n",
            " [1.96e+02 0.00e+00]\n",
            " [0.00e+00 3.95e+00]\n",
            " [1.22e+01 0.00e+00]\n",
            " [2.74e+01 0.00e+00]\n",
            " [3.35e+00 1.10e+00]\n",
            " [8.68e+00 0.00e+00]\n",
            " [0.00e+00 0.00e+00]\n",
            " [2.13e+00 0.00e+00]\n",
            " [3.44e+01 0.00e+00]\n",
            " [1.75e+00 7.31e+00]\n",
            " [0.00e+00 6.44e+00]\n",
            " [7.50e-01 3.19e+00]\n",
            " [2.21e+00 1.11e+01]\n",
            " [7.50e-01 0.00e+00]\n",
            " [0.00e+00 3.71e+00]\n",
            " [2.44e+00 3.20e+00]\n",
            " [4.41e+00 0.00e+00]\n",
            " [0.00e+00 0.00e+00]\n",
            " [1.46e+01 0.00e+00]\n",
            " [0.00e+00 7.80e+00]\n",
            " [0.00e+00 0.00e+00]\n",
            " [0.00e+00 3.70e+01]\n",
            " [0.00e+00 9.96e+00]\n",
            " [7.02e+00 0.00e+00]\n",
            " [0.00e+00 0.00e+00]\n",
            " [0.00e+00 7.04e+00]\n",
            " [5.97e+00 1.03e+02]\n",
            " [1.15e+01 7.30e+00]\n",
            " [1.47e+00 1.58e+00]\n",
            " [2.60e+01 1.94e+00]\n",
            " [1.00e+01 8.71e+00]\n",
            " [2.44e+00 9.00e-02]\n",
            " [4.95e+00 2.46e+01]\n",
            " [0.00e+00 0.00e+00]\n",
            " [2.57e+00 4.85e+01]\n",
            " [0.00e+00 2.47e+00]\n",
            " [8.02e+00 3.32e+00]\n",
            " [0.00e+00 0.00e+00]\n",
            " [0.00e+00 4.67e+01]\n",
            " [7.40e+00 1.94e+00]\n",
            " [1.47e+00 2.82e+01]\n",
            " [2.18e+00 5.83e+00]\n",
            " [2.07e+00 0.00e+00]\n",
            " [0.00e+00 7.46e+02]\n",
            " [1.12e+01 9.60e-01]\n",
            " [8.16e+00 0.00e+00]\n",
            " [0.00e+00 0.00e+00]\n",
            " [2.87e+00 1.60e+01]\n",
            " [0.00e+00 0.00e+00]\n",
            " [1.63e+00 0.00e+00]\n",
            " [1.64e+01 5.40e-01]\n",
            " [4.53e+00 0.00e+00]\n",
            " [1.38e+00 0.00e+00]\n",
            " [5.55e+00 6.10e+00]\n",
            " [2.03e+00 0.00e+00]\n",
            " [3.19e+01 1.75e+00]\n",
            " [4.94e+01 0.00e+00]\n",
            " [0.00e+00 3.30e+00]\n",
            " [0.00e+00 0.00e+00]\n",
            " [0.00e+00 0.00e+00]\n",
            " [4.42e+00 6.11e+01]\n",
            " [0.00e+00 5.23e+00]\n",
            " [1.23e+00 1.86e+02]\n",
            " [1.43e+00 0.00e+00]\n",
            " [0.00e+00 6.57e+00]\n",
            " [0.00e+00 2.53e+00]\n",
            " [1.95e+00 8.85e+00]\n",
            " [5.86e+00 1.08e+01]\n",
            " [0.00e+00 2.74e+00]\n",
            " [0.00e+00 0.00e+00]\n",
            " [0.00e+00 0.00e+00]\n",
            " [1.00e+01 1.29e+00]\n",
            " [0.00e+00 0.00e+00]\n",
            " [7.02e+00 2.64e+00]\n",
            " [2.87e+00 8.28e+01]\n",
            " [0.00e+00 0.00e+00]\n",
            " [0.00e+00 0.00e+00]\n",
            " [0.00e+00 8.24e+00]\n",
            " [0.00e+00 0.00e+00]\n",
            " [4.40e+00 0.00e+00]\n",
            " [7.21e+00 1.01e+00]\n",
            " [0.00e+00 1.06e+02]\n",
            " [8.02e+00 0.00e+00]\n",
            " [2.10e-01 0.00e+00]\n",
            " [7.40e+00 1.40e+01]\n",
            " [5.18e+00 0.00e+00]\n",
            " [0.00e+00 0.00e+00]\n",
            " [5.39e+00 2.14e+00]\n",
            " [8.65e+01 6.80e-01]\n",
            " [0.00e+00 0.00e+00]\n",
            " [1.12e+00 0.00e+00]\n",
            " [0.00e+00 6.43e+00]\n",
            " [0.00e+00 0.00e+00]\n",
            " [3.44e+01 0.00e+00]\n",
            " [2.55e+00 0.00e+00]\n",
            " [0.00e+00 5.20e-01]]\n"
          ],
          "name": "stdout"
        }
      ]
    },
    {
      "cell_type": "code",
      "metadata": {
        "id": "19uee3aTgflP",
        "colab_type": "code",
        "colab": {
          "base_uri": "https://localhost:8080/",
          "height": 34
        },
        "outputId": "b5e28346-7ddf-4e6b-835b-020748995b6a"
      },
      "source": [
        "# Evaluate accuracy of model for test set\n",
        "from sklearn.metrics import r2_score\n",
        "print(\"The r2_score for decison tree regression model is:\", r2_score(y_pred,y_test))"
      ],
      "execution_count": 24,
      "outputs": [
        {
          "output_type": "stream",
          "text": [
            "The r2_score for decison tree regression model is: -12.731453460711872\n"
          ],
          "name": "stdout"
        }
      ]
    },
    {
      "cell_type": "markdown",
      "metadata": {
        "id": "YisUDRTQhR13",
        "colab_type": "text"
      },
      "source": [
        "##### Evaluating the fit of the model on the training set, we can clearly note that the model fits well with the trianing data; however, the test set accuracy indicates the model does not genarluze well to untrained data. In fact, the negative value for R squared indicates an arbitarirly worse model. It is clear that something special needs to be done to improve the model from fitting with untrained data."
      ]
    },
    {
      "cell_type": "markdown",
      "metadata": {
        "id": "kylM4s_pcHEW",
        "colab_type": "text"
      },
      "source": [
        "## Model 4: Multiple Linear Regression but with log transformation on target variable"
      ]
    },
    {
      "cell_type": "code",
      "metadata": {
        "id": "NG25UHs0lImR",
        "colab_type": "code",
        "colab": {
          "base_uri": "https://localhost:8080/",
          "height": 151
        },
        "outputId": "6d043d51-734c-4ac2-8ad5-f4822043f27e"
      },
      "source": [
        "# Examine X dataset\n",
        "print(X)\n",
        "print(X.shape)\n"
      ],
      "execution_count": 25,
      "outputs": [
        {
          "output_type": "stream",
          "text": [
            "[[0.0 0.0 0.0 ... 51 6.7 0.0]\n",
            " [0.0 0.0 0.0 ... 33 0.9 0.0]\n",
            " [0.0 0.0 0.0 ... 33 1.3 0.0]\n",
            " ...\n",
            " [0.0 1.0 0.0 ... 70 6.7 0.0]\n",
            " [0.0 1.0 0.0 ... 42 4.0 0.0]\n",
            " [0.0 0.0 0.0 ... 31 4.5 0.0]]\n",
            "(517, 29)\n"
          ],
          "name": "stdout"
        }
      ]
    },
    {
      "cell_type": "code",
      "metadata": {
        "id": "83Pd9vLnl3j3",
        "colab_type": "code",
        "colab": {
          "base_uri": "https://localhost:8080/",
          "height": 282
        },
        "outputId": "2e01ae44-b7e5-4a04-b8cf-045a226af5c5"
      },
      "source": [
        "# Examine and plot the  target variable y\n",
        "print(y.shape)\n",
        "dataset[\"area\"].hist()\n",
        "plt.show()"
      ],
      "execution_count": 26,
      "outputs": [
        {
          "output_type": "stream",
          "text": [
            "(517,)\n"
          ],
          "name": "stdout"
        },
        {
          "output_type": "display_data",
          "data": {
            "image/png": "[encoded data removed]",
            "text/plain": [
              "<Figure size 432x288 with 1 Axes>"
            ]
          },
          "metadata": {
            "tags": [],
            "needs_background": "light"
          }
        }
      ]
    },
    {
      "cell_type": "code",
      "metadata": {
        "id": "G3IYdZ33mX-V",
        "colab_type": "code",
        "colab": {
          "base_uri": "https://localhost:8080/",
          "height": 229
        },
        "outputId": "c6c8450d-5652-45a4-cc88-a20181e0a821"
      },
      "source": [
        "# Transform the y varaible using a log transformation\n",
        "y_trans = np.log2(y)\n",
        "dataset[\"area_trans\"] = y_trans\n",
        "dataset.head()"
      ],
      "execution_count": 29,
      "outputs": [
        {
          "output_type": "stream",
          "text": [
            "/usr/local/lib/python3.6/dist-packages/ipykernel_launcher.py:2: RuntimeWarning: divide by zero encountered in log2\n",
            "  \n"
          ],
          "name": "stderr"
        },
        {
          "output_type": "execute_result",
          "data": {
            "text/html": [
              "<div>\n",
              "<style scoped>\n",
              "    .dataframe tbody tr th:only-of-type {\n",
              "        vertical-align: middle;\n",
              "    }\n",
              "\n",
              "    .dataframe tbody tr th {\n",
              "        vertical-align: top;\n",
              "    }\n",
              "\n",
              "    .dataframe thead th {\n",
              "        text-align: right;\n",
              "    }\n",
              "</style>\n",
              "<table border=\"1\" class=\"dataframe\">\n",
              "  <thead>\n",
              "    <tr style=\"text-align: right;\">\n",
              "      <th></th>\n",
              "      <th>X</th>\n",
              "      <th>Y</th>\n",
              "      <th>month</th>\n",
              "      <th>day</th>\n",
              "      <th>FFMC</th>\n",
              "      <th>DMC</th>\n",
              "      <th>DC</th>\n",
              "      <th>ISI</th>\n",
              "      <th>temp</th>\n",
              "      <th>RH</th>\n",
              "      <th>wind</th>\n",
              "      <th>rain</th>\n",
              "      <th>area</th>\n",
              "      <th>area_trans</th>\n",
              "    </tr>\n",
              "  </thead>\n",
              "  <tbody>\n",
              "    <tr>\n",
              "      <th>0</th>\n",
              "      <td>7</td>\n",
              "      <td>5</td>\n",
              "      <td>mar</td>\n",
              "      <td>fri</td>\n",
              "      <td>86.2</td>\n",
              "      <td>26.2</td>\n",
              "      <td>94.3</td>\n",
              "      <td>5.1</td>\n",
              "      <td>8.2</td>\n",
              "      <td>51</td>\n",
              "      <td>6.7</td>\n",
              "      <td>0.0</td>\n",
              "      <td>0.0</td>\n",
              "      <td>-inf</td>\n",
              "    </tr>\n",
              "    <tr>\n",
              "      <th>1</th>\n",
              "      <td>7</td>\n",
              "      <td>4</td>\n",
              "      <td>oct</td>\n",
              "      <td>tue</td>\n",
              "      <td>90.6</td>\n",
              "      <td>35.4</td>\n",
              "      <td>669.1</td>\n",
              "      <td>6.7</td>\n",
              "      <td>18.0</td>\n",
              "      <td>33</td>\n",
              "      <td>0.9</td>\n",
              "      <td>0.0</td>\n",
              "      <td>0.0</td>\n",
              "      <td>-inf</td>\n",
              "    </tr>\n",
              "    <tr>\n",
              "      <th>2</th>\n",
              "      <td>7</td>\n",
              "      <td>4</td>\n",
              "      <td>oct</td>\n",
              "      <td>sat</td>\n",
              "      <td>90.6</td>\n",
              "      <td>43.7</td>\n",
              "      <td>686.9</td>\n",
              "      <td>6.7</td>\n",
              "      <td>14.6</td>\n",
              "      <td>33</td>\n",
              "      <td>1.3</td>\n",
              "      <td>0.0</td>\n",
              "      <td>0.0</td>\n",
              "      <td>-inf</td>\n",
              "    </tr>\n",
              "    <tr>\n",
              "      <th>3</th>\n",
              "      <td>8</td>\n",
              "      <td>6</td>\n",
              "      <td>mar</td>\n",
              "      <td>fri</td>\n",
              "      <td>91.7</td>\n",
              "      <td>33.3</td>\n",
              "      <td>77.5</td>\n",
              "      <td>9.0</td>\n",
              "      <td>8.3</td>\n",
              "      <td>97</td>\n",
              "      <td>4.0</td>\n",
              "      <td>0.2</td>\n",
              "      <td>0.0</td>\n",
              "      <td>-inf</td>\n",
              "    </tr>\n",
              "    <tr>\n",
              "      <th>4</th>\n",
              "      <td>8</td>\n",
              "      <td>6</td>\n",
              "      <td>mar</td>\n",
              "      <td>sun</td>\n",
              "      <td>89.3</td>\n",
              "      <td>51.3</td>\n",
              "      <td>102.2</td>\n",
              "      <td>9.6</td>\n",
              "      <td>11.4</td>\n",
              "      <td>99</td>\n",
              "      <td>1.8</td>\n",
              "      <td>0.0</td>\n",
              "      <td>0.0</td>\n",
              "      <td>-inf</td>\n",
              "    </tr>\n",
              "  </tbody>\n",
              "</table>\n",
              "</div>"
            ],
            "text/plain": [
              "   X  Y month  day  FFMC   DMC  ...  temp  RH  wind  rain  area  area_trans\n",
              "0  7  5   mar  fri  86.2  26.2  ...   8.2  51   6.7   0.0   0.0        -inf\n",
              "1  7  4   oct  tue  90.6  35.4  ...  18.0  33   0.9   0.0   0.0        -inf\n",
              "2  7  4   oct  sat  90.6  43.7  ...  14.6  33   1.3   0.0   0.0        -inf\n",
              "3  8  6   mar  fri  91.7  33.3  ...   8.3  97   4.0   0.2   0.0        -inf\n",
              "4  8  6   mar  sun  89.3  51.3  ...  11.4  99   1.8   0.0   0.0        -inf\n",
              "\n",
              "[5 rows x 14 columns]"
            ]
          },
          "metadata": {
            "tags": []
          },
          "execution_count": 29
        }
      ]
    },
    {
      "cell_type": "code",
      "metadata": {
        "id": "QtMwARVcm_m6",
        "colab_type": "code",
        "colab": {}
      },
      "source": [
        "# Examine and plot the transformed target variable y\n",
        "dataset[\"area_trans\"].hist()\n",
        "plt.show()"
      ],
      "execution_count": null,
      "outputs": []
    },
    {
      "cell_type": "code",
      "metadata": {
        "id": "B90IlQdAndyM",
        "colab_type": "code",
        "colab": {}
      },
      "source": [
        "# Splitting the dataset into the Training set and Test set\n",
        "from sklearn.model_selection import train_test_split\n",
        "X_train, X_test, y_train, y_test = train_test_split(X, y_trans, test_size = 0.2, random_state = 1)\n",
        "print(X_train.shape)\n",
        "print(X_test.shape)\n",
        "print(y_train.shape)\n",
        "print(y_test.shape)"
      ],
      "execution_count": null,
      "outputs": []
    },
    {
      "cell_type": "code",
      "metadata": {
        "id": "rwRatzywnxma",
        "colab_type": "code",
        "colab": {}
      },
      "source": [
        "# Train Model \n",
        "from sklearn.linear_model import LinearRegression\n",
        "regressor = LinearRegression()\n",
        "regressor.fit(X_train, y_train)\n",
        "print(\"\tThe coefficient of determination R^2 of the prediction.:\", regressor.score(X_train,y_train))"
      ],
      "execution_count": null,
      "outputs": []
    },
    {
      "cell_type": "markdown",
      "metadata": {
        "id": "j3hyDOSXcJHQ",
        "colab_type": "text"
      },
      "source": [
        "## Model 5: Multiple Linear Regression"
      ]
    },
    {
      "cell_type": "markdown",
      "metadata": {
        "id": "aSc_IN5JcKln",
        "colab_type": "text"
      },
      "source": [
        "## Model 6: Multiple Linear Regression"
      ]
    }
  ]
}
{
  "nbformat": 4,
  "nbformat_minor": 0,
  "metadata": {
    "colab": {
      "name": "MainForestFires.ipynb",
      "provenance": [],
      "collapsed_sections": [],
      "toc_visible": true,
      "authorship_tag": "ABX9TyOKfGBmve7vWJ+bK0XJPLvx",
      "include_colab_link": true
    },
    "kernelspec": {
      "name": "python3",
      "display_name": "Python 3"
    }
  },
  "cells": [
    {
      "cell_type": "markdown",
      "metadata": {
        "id": "view-in-github",
        "colab_type": "text"
      },
      "source": [
        "<a href=\"https://colab.research.google.com/github/obeabi/ProjectPortfolio/blob/master/MainForestFires.ipynb\" target=\"_parent\"><img src=\"https://colab.research.google.com/assets/colab-badge.svg\" alt=\"Open In Colab\"/></a>"
      ]
    },
    {
      "cell_type": "markdown",
      "metadata": {
        "id": "bFmDu-j8FXor",
        "colab_type": "text"
      },
      "source": [
        "## Project Title: Forest Fires \n",
        "### Written by: Abiola Obembe\n",
        "### Date: 25-08-2020\n",
        "### Project Objective : to predict the burned area of forest fires, in the northeast region of Portugal, by using meteorological and other data\n"
      ]
    },
    {
      "cell_type": "markdown",
      "metadata": {
        "id": "ka0FXnrdGGTU",
        "colab_type": "text"
      },
      "source": [
        "## Data Preprocessing"
      ]
    },
    {
      "cell_type": "code",
      "metadata": {
        "id": "FMyX3v76GLlb",
        "colab_type": "code",
        "colab": {
          "base_uri": "https://localhost:8080/",
          "height": 87
        },
        "outputId": "c7f99a82-90f0-4951-8d95-b385575ec117"
      },
      "source": [
        "# Install packages\n",
        "import numpy as np\n",
        "import matplotlib.pyplot as plt\n",
        "import pandas as pd\n",
        "from scipy.stats import  zscore\n",
        "import seaborn as sns\n",
        "plt.style.use('ggplot')\n",
        "%matplotlib inline\n",
        "plt.rcParams['axes.labelsize'] = 14\n",
        "plt.rcParams['xtick.labelsize'] = 12\n",
        "plt.rcParams['ytick.labelsize'] = 12\n",
        "print(\"libraries installed successfully!\")"
      ],
      "execution_count": 1,
      "outputs": [
        {
          "output_type": "stream",
          "text": [
            "libraries installed successfully!\n"
          ],
          "name": "stdout"
        },
        {
          "output_type": "stream",
          "text": [
            "/usr/local/lib/python3.6/dist-packages/statsmodels/tools/_testing.py:19: FutureWarning: pandas.util.testing is deprecated. Use the functions in the public API at pandas.testing instead.\n",
            "  import pandas.util.testing as tm\n"
          ],
          "name": "stderr"
        }
      ]
    },
    {
      "cell_type": "code",
      "metadata": {
        "id": "I_eJsVYgG1nK",
        "colab_type": "code",
        "colab": {
          "base_uri": "https://localhost:8080/",
          "height": 370
        },
        "outputId": "b750cfcb-634d-408e-844d-828ed92bce63"
      },
      "source": [
        "# Load dataset and check for missing values\n",
        "dataset = pd.read_csv('forestfires.csv')\n",
        "\n",
        "print(\"The total number of missing values is\" , dataset.isnull().sum().sum())\n",
        "# dataset.FFMC[np.random.choice(dataset.index,15)] = np.nan\n",
        "dataset.info() #now we have 15 missing values for attribute FFMC"
      ],
      "execution_count": 61,
      "outputs": [
        {
          "output_type": "stream",
          "text": [
            "The total number of missing values is 0\n",
            "<class 'pandas.core.frame.DataFrame'>\n",
            "RangeIndex: 517 entries, 0 to 516\n",
            "Data columns (total 13 columns):\n",
            " #   Column  Non-Null Count  Dtype  \n",
            "---  ------  --------------  -----  \n",
            " 0   X       517 non-null    int64  \n",
            " 1   Y       517 non-null    int64  \n",
            " 2   month   517 non-null    object \n",
            " 3   day     517 non-null    object \n",
            " 4   FFMC    517 non-null    float64\n",
            " 5   DMC     517 non-null    float64\n",
            " 6   DC      517 non-null    float64\n",
            " 7   ISI     517 non-null    float64\n",
            " 8   temp    517 non-null    float64\n",
            " 9   RH      517 non-null    int64  \n",
            " 10  wind    517 non-null    float64\n",
            " 11  rain    517 non-null    float64\n",
            " 12  area    517 non-null    float64\n",
            "dtypes: float64(8), int64(3), object(2)\n",
            "memory usage: 52.6+ KB\n"
          ],
          "name": "stdout"
        }
      ]
    },
    {
      "cell_type": "code",
      "metadata": {
        "id": "MGGSHi4wCVAW",
        "colab_type": "code",
        "colab": {
          "base_uri": "https://localhost:8080/",
          "height": 252
        },
        "outputId": "0e1bf5ef-50f4-4816-bdcb-d7cc66c81990"
      },
      "source": [
        "# columns datatypes\n",
        "dataset.dtypes"
      ],
      "execution_count": 5,
      "outputs": [
        {
          "output_type": "execute_result",
          "data": {
            "text/plain": [
              "X          int64\n",
              "Y          int64\n",
              "month     object\n",
              "day       object\n",
              "FFMC     float64\n",
              "DMC      float64\n",
              "DC       float64\n",
              "ISI      float64\n",
              "temp     float64\n",
              "RH         int64\n",
              "wind     float64\n",
              "rain     float64\n",
              "area     float64\n",
              "dtype: object"
            ]
          },
          "metadata": {
            "tags": []
          },
          "execution_count": 5
        }
      ]
    },
    {
      "cell_type": "code",
      "metadata": {
        "id": "pHmi7oROChBw",
        "colab_type": "code",
        "colab": {
          "base_uri": "https://localhost:8080/",
          "height": 34
        },
        "outputId": "4899168b-3ee7-41f5-e8a9-4aa2b3c99677"
      },
      "source": [
        "# Shape of dataframe\n",
        "dataset.shape"
      ],
      "execution_count": 6,
      "outputs": [
        {
          "output_type": "execute_result",
          "data": {
            "text/plain": [
              "(517, 13)"
            ]
          },
          "metadata": {
            "tags": []
          },
          "execution_count": 6
        }
      ]
    },
    {
      "cell_type": "code",
      "metadata": {
        "id": "9WufTgQiSpEB",
        "colab_type": "code",
        "colab": {
          "base_uri": "https://localhost:8080/",
          "height": 373
        },
        "outputId": "739117cc-eb34-42a4-fb24-d31b8b1f7c1b"
      },
      "source": [
        "#some attributes skewed to the right(mean>median) some to the left(mean<median)\n",
        "dataset.describe().T"
      ],
      "execution_count": 3,
      "outputs": [
        {
          "output_type": "execute_result",
          "data": {
            "text/html": [
              "<div>\n",
              "<style scoped>\n",
              "    .dataframe tbody tr th:only-of-type {\n",
              "        vertical-align: middle;\n",
              "    }\n",
              "\n",
              "    .dataframe tbody tr th {\n",
              "        vertical-align: top;\n",
              "    }\n",
              "\n",
              "    .dataframe thead th {\n",
              "        text-align: right;\n",
              "    }\n",
              "</style>\n",
              "<table border=\"1\" class=\"dataframe\">\n",
              "  <thead>\n",
              "    <tr style=\"text-align: right;\">\n",
              "      <th></th>\n",
              "      <th>count</th>\n",
              "      <th>mean</th>\n",
              "      <th>std</th>\n",
              "      <th>min</th>\n",
              "      <th>25%</th>\n",
              "      <th>50%</th>\n",
              "      <th>75%</th>\n",
              "      <th>max</th>\n",
              "    </tr>\n",
              "  </thead>\n",
              "  <tbody>\n",
              "    <tr>\n",
              "      <th>X</th>\n",
              "      <td>517.0</td>\n",
              "      <td>4.669246</td>\n",
              "      <td>2.313778</td>\n",
              "      <td>1.0</td>\n",
              "      <td>3.0</td>\n",
              "      <td>4.00</td>\n",
              "      <td>7.00</td>\n",
              "      <td>9.00</td>\n",
              "    </tr>\n",
              "    <tr>\n",
              "      <th>Y</th>\n",
              "      <td>517.0</td>\n",
              "      <td>4.299807</td>\n",
              "      <td>1.229900</td>\n",
              "      <td>2.0</td>\n",
              "      <td>4.0</td>\n",
              "      <td>4.00</td>\n",
              "      <td>5.00</td>\n",
              "      <td>9.00</td>\n",
              "    </tr>\n",
              "    <tr>\n",
              "      <th>FFMC</th>\n",
              "      <td>517.0</td>\n",
              "      <td>90.644681</td>\n",
              "      <td>5.520111</td>\n",
              "      <td>18.7</td>\n",
              "      <td>90.2</td>\n",
              "      <td>91.60</td>\n",
              "      <td>92.90</td>\n",
              "      <td>96.20</td>\n",
              "    </tr>\n",
              "    <tr>\n",
              "      <th>DMC</th>\n",
              "      <td>517.0</td>\n",
              "      <td>110.872340</td>\n",
              "      <td>64.046482</td>\n",
              "      <td>1.1</td>\n",
              "      <td>68.6</td>\n",
              "      <td>108.30</td>\n",
              "      <td>142.40</td>\n",
              "      <td>291.30</td>\n",
              "    </tr>\n",
              "    <tr>\n",
              "      <th>DC</th>\n",
              "      <td>517.0</td>\n",
              "      <td>547.940039</td>\n",
              "      <td>248.066192</td>\n",
              "      <td>7.9</td>\n",
              "      <td>437.7</td>\n",
              "      <td>664.20</td>\n",
              "      <td>713.90</td>\n",
              "      <td>860.60</td>\n",
              "    </tr>\n",
              "    <tr>\n",
              "      <th>ISI</th>\n",
              "      <td>517.0</td>\n",
              "      <td>9.021663</td>\n",
              "      <td>4.559477</td>\n",
              "      <td>0.0</td>\n",
              "      <td>6.5</td>\n",
              "      <td>8.40</td>\n",
              "      <td>10.80</td>\n",
              "      <td>56.10</td>\n",
              "    </tr>\n",
              "    <tr>\n",
              "      <th>temp</th>\n",
              "      <td>517.0</td>\n",
              "      <td>18.889168</td>\n",
              "      <td>5.806625</td>\n",
              "      <td>2.2</td>\n",
              "      <td>15.5</td>\n",
              "      <td>19.30</td>\n",
              "      <td>22.80</td>\n",
              "      <td>33.30</td>\n",
              "    </tr>\n",
              "    <tr>\n",
              "      <th>RH</th>\n",
              "      <td>517.0</td>\n",
              "      <td>44.288201</td>\n",
              "      <td>16.317469</td>\n",
              "      <td>15.0</td>\n",
              "      <td>33.0</td>\n",
              "      <td>42.00</td>\n",
              "      <td>53.00</td>\n",
              "      <td>100.00</td>\n",
              "    </tr>\n",
              "    <tr>\n",
              "      <th>wind</th>\n",
              "      <td>517.0</td>\n",
              "      <td>4.017602</td>\n",
              "      <td>1.791653</td>\n",
              "      <td>0.4</td>\n",
              "      <td>2.7</td>\n",
              "      <td>4.00</td>\n",
              "      <td>4.90</td>\n",
              "      <td>9.40</td>\n",
              "    </tr>\n",
              "    <tr>\n",
              "      <th>rain</th>\n",
              "      <td>517.0</td>\n",
              "      <td>0.021663</td>\n",
              "      <td>0.295959</td>\n",
              "      <td>0.0</td>\n",
              "      <td>0.0</td>\n",
              "      <td>0.00</td>\n",
              "      <td>0.00</td>\n",
              "      <td>6.40</td>\n",
              "    </tr>\n",
              "    <tr>\n",
              "      <th>area</th>\n",
              "      <td>517.0</td>\n",
              "      <td>12.847292</td>\n",
              "      <td>63.655818</td>\n",
              "      <td>0.0</td>\n",
              "      <td>0.0</td>\n",
              "      <td>0.52</td>\n",
              "      <td>6.57</td>\n",
              "      <td>1090.84</td>\n",
              "    </tr>\n",
              "  </tbody>\n",
              "</table>\n",
              "</div>"
            ],
            "text/plain": [
              "      count        mean         std   min    25%     50%     75%      max\n",
              "X     517.0    4.669246    2.313778   1.0    3.0    4.00    7.00     9.00\n",
              "Y     517.0    4.299807    1.229900   2.0    4.0    4.00    5.00     9.00\n",
              "FFMC  517.0   90.644681    5.520111  18.7   90.2   91.60   92.90    96.20\n",
              "DMC   517.0  110.872340   64.046482   1.1   68.6  108.30  142.40   291.30\n",
              "DC    517.0  547.940039  248.066192   7.9  437.7  664.20  713.90   860.60\n",
              "ISI   517.0    9.021663    4.559477   0.0    6.5    8.40   10.80    56.10\n",
              "temp  517.0   18.889168    5.806625   2.2   15.5   19.30   22.80    33.30\n",
              "RH    517.0   44.288201   16.317469  15.0   33.0   42.00   53.00   100.00\n",
              "wind  517.0    4.017602    1.791653   0.4    2.7    4.00    4.90     9.40\n",
              "rain  517.0    0.021663    0.295959   0.0    0.0    0.00    0.00     6.40\n",
              "area  517.0   12.847292   63.655818   0.0    0.0    0.52    6.57  1090.84"
            ]
          },
          "metadata": {
            "tags": []
          },
          "execution_count": 3
        }
      ]
    },
    {
      "cell_type": "code",
      "metadata": {
        "id": "Q1Fc2HTQDQzV",
        "colab_type": "code",
        "colab": {
          "base_uri": "https://localhost:8080/",
          "height": 185
        },
        "outputId": "775597dc-2e6d-43ca-ad9e-9c6452048268"
      },
      "source": [
        "# Examine column X\n",
        "dataset['X'].value_counts()"
      ],
      "execution_count": 7,
      "outputs": [
        {
          "output_type": "execute_result",
          "data": {
            "text/plain": [
              "4    91\n",
              "6    86\n",
              "2    73\n",
              "8    61\n",
              "7    60\n",
              "3    55\n",
              "1    48\n",
              "5    30\n",
              "9    13\n",
              "Name: X, dtype: int64"
            ]
          },
          "metadata": {
            "tags": []
          },
          "execution_count": 7
        }
      ]
    },
    {
      "cell_type": "code",
      "metadata": {
        "id": "jc-Q1Bz8Dh87",
        "colab_type": "code",
        "colab": {
          "base_uri": "https://localhost:8080/",
          "height": 151
        },
        "outputId": "c384caca-a1e2-4c4c-e0e6-49b1ed9761a8"
      },
      "source": [
        "# Examine column Y\n",
        "dataset['Y'].value_counts()"
      ],
      "execution_count": 8,
      "outputs": [
        {
          "output_type": "execute_result",
          "data": {
            "text/plain": [
              "4    203\n",
              "5    125\n",
              "6     74\n",
              "3     64\n",
              "2     44\n",
              "9      6\n",
              "8      1\n",
              "Name: Y, dtype: int64"
            ]
          },
          "metadata": {
            "tags": []
          },
          "execution_count": 8
        }
      ]
    },
    {
      "cell_type": "code",
      "metadata": {
        "id": "RisAGm53DnK1",
        "colab_type": "code",
        "colab": {
          "base_uri": "https://localhost:8080/",
          "height": 235
        },
        "outputId": "f7939867-3841-420b-bff2-875974f867e4"
      },
      "source": [
        "# Examine column month\n",
        "dataset['month'].value_counts()"
      ],
      "execution_count": 9,
      "outputs": [
        {
          "output_type": "execute_result",
          "data": {
            "text/plain": [
              "aug    184\n",
              "sep    172\n",
              "mar     54\n",
              "jul     32\n",
              "feb     20\n",
              "jun     17\n",
              "oct     15\n",
              "dec      9\n",
              "apr      9\n",
              "jan      2\n",
              "may      2\n",
              "nov      1\n",
              "Name: month, dtype: int64"
            ]
          },
          "metadata": {
            "tags": []
          },
          "execution_count": 9
        }
      ]
    },
    {
      "cell_type": "code",
      "metadata": {
        "id": "hDrC-7mpDwj9",
        "colab_type": "code",
        "colab": {
          "base_uri": "https://localhost:8080/",
          "height": 151
        },
        "outputId": "5a7e5661-5492-4ad6-ddb0-ad32c06ad8ea"
      },
      "source": [
        "# Examine column rain\n",
        "dataset['rain'].value_counts()"
      ],
      "execution_count": 10,
      "outputs": [
        {
          "output_type": "execute_result",
          "data": {
            "text/plain": [
              "0.0    509\n",
              "0.8      2\n",
              "0.2      2\n",
              "0.4      1\n",
              "6.4      1\n",
              "1.4      1\n",
              "1.0      1\n",
              "Name: rain, dtype: int64"
            ]
          },
          "metadata": {
            "tags": []
          },
          "execution_count": 10
        }
      ]
    },
    {
      "cell_type": "code",
      "metadata": {
        "id": "sPUExFDUD0ZR",
        "colab_type": "code",
        "colab": {
          "base_uri": "https://localhost:8080/",
          "height": 218
        },
        "outputId": "62bb2e7f-c145-4208-a25a-0f00050b8869"
      },
      "source": [
        "# Examine column temp\n",
        "dataset['temp'].value_counts()"
      ],
      "execution_count": 11,
      "outputs": [
        {
          "output_type": "execute_result",
          "data": {
            "text/plain": [
              "17.4    8\n",
              "19.6    8\n",
              "15.4    7\n",
              "20.6    7\n",
              "23.4    6\n",
              "       ..\n",
              "29.6    1\n",
              "8.7     1\n",
              "25.7    1\n",
              "31.0    1\n",
              "4.8     1\n",
              "Name: temp, Length: 192, dtype: int64"
            ]
          },
          "metadata": {
            "tags": []
          },
          "execution_count": 11
        }
      ]
    },
    {
      "cell_type": "code",
      "metadata": {
        "id": "mJNVMGShD6lh",
        "colab_type": "code",
        "colab": {
          "base_uri": "https://localhost:8080/",
          "height": 218
        },
        "outputId": "e80e9ae7-2e06-4d29-be80-7ea611d0d60f"
      },
      "source": [
        "# Examine column ISI\n",
        "dataset['ISI'].value_counts()"
      ],
      "execution_count": 12,
      "outputs": [
        {
          "output_type": "execute_result",
          "data": {
            "text/plain": [
              "9.6     23\n",
              "7.1     21\n",
              "6.3     20\n",
              "7.0     17\n",
              "8.4     17\n",
              "        ..\n",
              "7.3      1\n",
              "12.1     1\n",
              "14.6     1\n",
              "56.1     1\n",
              "22.7     1\n",
              "Name: ISI, Length: 119, dtype: int64"
            ]
          },
          "metadata": {
            "tags": []
          },
          "execution_count": 12
        }
      ]
    },
    {
      "cell_type": "code",
      "metadata": {
        "id": "wV1EPVkSEAw0",
        "colab_type": "code",
        "colab": {
          "base_uri": "https://localhost:8080/",
          "height": 218
        },
        "outputId": "e2a02db5-9cdf-4016-f609-4c2a5d2de170"
      },
      "source": [
        "# Examine column FFMC\n",
        "dataset['FFMC'].value_counts()"
      ],
      "execution_count": 13,
      "outputs": [
        {
          "output_type": "execute_result",
          "data": {
            "text/plain": [
              "91.6    28\n",
              "92.1    28\n",
              "91.0    22\n",
              "91.7    19\n",
              "93.7    16\n",
              "        ..\n",
              "50.4     1\n",
              "82.1     1\n",
              "86.3     1\n",
              "85.1     1\n",
              "87.1     1\n",
              "Name: FFMC, Length: 106, dtype: int64"
            ]
          },
          "metadata": {
            "tags": []
          },
          "execution_count": 13
        }
      ]
    },
    {
      "cell_type": "code",
      "metadata": {
        "id": "2ITTJ62-EEkQ",
        "colab_type": "code",
        "colab": {
          "base_uri": "https://localhost:8080/",
          "height": 218
        },
        "outputId": "e9b85304-8594-4dea-d9a5-fb9d9146a61f"
      },
      "source": [
        "# Examine column DMC\n",
        "dataset['DMC'].value_counts()"
      ],
      "execution_count": 14,
      "outputs": [
        {
          "output_type": "execute_result",
          "data": {
            "text/plain": [
              "99.0     10\n",
              "129.5     9\n",
              "142.4     8\n",
              "231.1     8\n",
              "137.0     7\n",
              "         ..\n",
              "4.6       1\n",
              "24.9      1\n",
              "133.6     1\n",
              "96.3      1\n",
              "3.2       1\n",
              "Name: DMC, Length: 215, dtype: int64"
            ]
          },
          "metadata": {
            "tags": []
          },
          "execution_count": 14
        }
      ]
    },
    {
      "cell_type": "code",
      "metadata": {
        "id": "r4rdoU4zEM4s",
        "colab_type": "code",
        "colab": {
          "base_uri": "https://localhost:8080/",
          "height": 386
        },
        "outputId": "ab59d2e2-f113-44d7-8646-94cf9418d8c5"
      },
      "source": [
        "# Examine column wind\n",
        "dataset['wind'].value_counts()"
      ],
      "execution_count": 15,
      "outputs": [
        {
          "output_type": "execute_result",
          "data": {
            "text/plain": [
              "2.2    53\n",
              "3.1    53\n",
              "4.0    51\n",
              "4.9    48\n",
              "2.7    44\n",
              "4.5    41\n",
              "5.4    41\n",
              "3.6    40\n",
              "1.8    31\n",
              "5.8    24\n",
              "6.3    19\n",
              "7.6    14\n",
              "1.3    14\n",
              "0.9    13\n",
              "6.7     8\n",
              "8.5     8\n",
              "8.0     5\n",
              "7.2     4\n",
              "9.4     4\n",
              "8.9     1\n",
              "0.4     1\n",
              "Name: wind, dtype: int64"
            ]
          },
          "metadata": {
            "tags": []
          },
          "execution_count": 15
        }
      ]
    },
    {
      "cell_type": "code",
      "metadata": {
        "id": "_vgNKUVbERGH",
        "colab_type": "code",
        "colab": {
          "base_uri": "https://localhost:8080/",
          "height": 218
        },
        "outputId": "63886586-fe0c-4314-982b-cbef7787acc4"
      },
      "source": [
        "# Examine column area\n",
        "dataset['area'].value_counts()"
      ],
      "execution_count": 16,
      "outputs": [
        {
          "output_type": "execute_result",
          "data": {
            "text/plain": [
              "0.00     247\n",
              "1.94       3\n",
              "3.71       2\n",
              "0.90       2\n",
              "1.95       2\n",
              "        ... \n",
              "1.26       1\n",
              "2.44       1\n",
              "2.03       1\n",
              "2.21       1\n",
              "24.24      1\n",
              "Name: area, Length: 251, dtype: int64"
            ]
          },
          "metadata": {
            "tags": []
          },
          "execution_count": 16
        }
      ]
    },
    {
      "cell_type": "code",
      "metadata": {
        "id": "7aTqiC2XDx3o",
        "colab_type": "code",
        "colab": {
          "base_uri": "https://localhost:8080/",
          "height": 503
        },
        "outputId": "cf286f79-f81c-4136-bfa1-1692d543ef18"
      },
      "source": [
        "# Visualize histogram of dataset\n",
        "dataset.hist(figsize= (15,8), bins= 100)\n",
        "plt.show()"
      ],
      "execution_count": 25,
      "outputs": [
        {
          "output_type": "display_data",
          "data": {
            "image/png": "[encoded data removed]",
            "text/plain": [
              "<Figure size 1080x576 with 12 Axes>"
            ]
          },
          "metadata": {
            "tags": [],
            "needs_background": "light"
          }
        }
      ]
    },
    {
      "cell_type": "code",
      "metadata": {
        "id": "gpYutgDCEC1m",
        "colab_type": "code",
        "colab": {
          "base_uri": "https://localhost:8080/",
          "height": 569
        },
        "outputId": "b2203511-f363-4d6d-a7cc-dac407d2fa68"
      },
      "source": [
        "# the histograms show some skewness in the dataset for the following columns; DC, DMC,FFMC,Y,area, wind,rain.\n",
        "# However, we will study this later quantitatively\n",
        "# Boxplot of dataframe\n",
        "dataset.boxplot(figsize= (20,10))\n",
        "plt.show()"
      ],
      "execution_count": 21,
      "outputs": [
        {
          "output_type": "display_data",
          "data": {
            "image/png": "[encoded data removed]",
            "text/plain": [
              "<Figure size 1440x720 with 1 Axes>"
            ]
          },
          "metadata": {
            "tags": [],
            "needs_background": "light"
          }
        }
      ]
    },
    {
      "cell_type": "code",
      "metadata": {
        "id": "PT4LbEKdE8gL",
        "colab_type": "code",
        "colab": {}
      },
      "source": [
        "# Once again, we note outliers in a couple of columns and most notably in FFMC, DMC,area"
      ],
      "execution_count": null,
      "outputs": []
    },
    {
      "cell_type": "code",
      "metadata": {
        "id": "F7d0zb36wRSR",
        "colab_type": "code",
        "colab": {
          "base_uri": "https://localhost:8080/",
          "height": 410
        },
        "outputId": "c199961b-060c-4f16-a2cf-c0a28bb3e85c"
      },
      "source": [
        "# Statistical analysis on target variable (area)\n",
        "print(\"The skewness of the target variable is:\", dataset['area'].skew())\n",
        "print(\"The kurtosis of the target variable is:\", dataset['area'].kurtosis())\n",
        "plt.figure(figsize= (8,6))\n",
        "ax = sns.kdeplot(dataset['area'], shade=True, color=\"r\")\n",
        "plt.show()"
      ],
      "execution_count": 24,
      "outputs": [
        {
          "output_type": "stream",
          "text": [
            "The skewness of the target variable is: 12.846933533934868\n",
            "The kurtosis of the target variable is: 194.1407210942299\n"
          ],
          "name": "stdout"
        },
        {
          "output_type": "display_data",
          "data": {
            "image/png": "[encoded data removed]",
            "text/plain": [
              "<Figure size 576x432 with 1 Axes>"
            ]
          },
          "metadata": {
            "tags": [],
            "needs_background": "light"
          }
        }
      ]
    },
    {
      "cell_type": "markdown",
      "metadata": {
        "id": "c18AAvwsUi8k",
        "colab_type": "text"
      },
      "source": [
        "##### The high value of skewness implies the distribution is highly skewed. Specifically, the positive value implies poistively skewed distribution. The large kurtosis value indicates heavy tails/outliers. It is therfore important to transform the target variable to address the skewness. In addition address the large kurtosis value."
      ]
    },
    {
      "cell_type": "code",
      "metadata": {
        "id": "CXzAo1cVGaHz",
        "colab_type": "code",
        "colab": {
          "base_uri": "https://localhost:8080/",
          "height": 429
        },
        "outputId": "627056d4-50fb-44b2-9395-2f2c97851ef3"
      },
      "source": [
        "# Let us transform the area column into four categories: ( low, moderate and high damage)\n",
        "plt.figure(figsize= (8,6))\n",
        "plt.hist(dataset['area'], orientation='horizontal', bins = 50 )\n",
        "plt.xlabel(\"area burnt (ha)\")\n",
        "plt.ylabel(\"Count\")\n",
        "plt.title(\"Area bins\")"
      ],
      "execution_count": 33,
      "outputs": [
        {
          "output_type": "execute_result",
          "data": {
            "text/plain": [
              "Text(0.5, 1.0, 'Area bins')"
            ]
          },
          "metadata": {
            "tags": []
          },
          "execution_count": 33
        },
        {
          "output_type": "display_data",
          "data": {
            "image/png": "[encoded data removed]",
            "text/plain": [
              "<Figure size 576x432 with 1 Axes>"
            ]
          },
          "metadata": {
            "tags": [],
            "needs_background": "light"
          }
        }
      ]
    },
    {
      "cell_type": "code",
      "metadata": {
        "id": "YTYzcYp7IqSo",
        "colab_type": "code",
        "colab": {
          "base_uri": "https://localhost:8080/",
          "height": 343
        },
        "outputId": "2397bf09-133b-4b21-ace4-0fd1b6e1dffb"
      },
      "source": [
        "# Create bins\n",
        "bins = np.linspace( min(dataset['area']), max(dataset['area']), 5)\n",
        "group_names = ['Very Low', 'Moderatly Low','Medium', 'High']\n",
        "\n",
        "dataset['area_binned'] = pd.cut(dataset['area'], bins, labels = group_names, include_lowest= True)\n",
        "\n",
        "dataset.head(10)"
      ],
      "execution_count": 37,
      "outputs": [
        {
          "output_type": "execute_result",
          "data": {
            "text/html": [
              "<div>\n",
              "<style scoped>\n",
              "    .dataframe tbody tr th:only-of-type {\n",
              "        vertical-align: middle;\n",
              "    }\n",
              "\n",
              "    .dataframe tbody tr th {\n",
              "        vertical-align: top;\n",
              "    }\n",
              "\n",
              "    .dataframe thead th {\n",
              "        text-align: right;\n",
              "    }\n",
              "</style>\n",
              "<table border=\"1\" class=\"dataframe\">\n",
              "  <thead>\n",
              "    <tr style=\"text-align: right;\">\n",
              "      <th></th>\n",
              "      <th>X</th>\n",
              "      <th>Y</th>\n",
              "      <th>month</th>\n",
              "      <th>day</th>\n",
              "      <th>FFMC</th>\n",
              "      <th>DMC</th>\n",
              "      <th>DC</th>\n",
              "      <th>ISI</th>\n",
              "      <th>temp</th>\n",
              "      <th>RH</th>\n",
              "      <th>wind</th>\n",
              "      <th>rain</th>\n",
              "      <th>area</th>\n",
              "      <th>area_binned</th>\n",
              "    </tr>\n",
              "  </thead>\n",
              "  <tbody>\n",
              "    <tr>\n",
              "      <th>0</th>\n",
              "      <td>7</td>\n",
              "      <td>5</td>\n",
              "      <td>mar</td>\n",
              "      <td>fri</td>\n",
              "      <td>86.2</td>\n",
              "      <td>26.2</td>\n",
              "      <td>94.3</td>\n",
              "      <td>5.1</td>\n",
              "      <td>8.2</td>\n",
              "      <td>51</td>\n",
              "      <td>6.7</td>\n",
              "      <td>0.0</td>\n",
              "      <td>0.0</td>\n",
              "      <td>Very Low</td>\n",
              "    </tr>\n",
              "    <tr>\n",
              "      <th>1</th>\n",
              "      <td>7</td>\n",
              "      <td>4</td>\n",
              "      <td>oct</td>\n",
              "      <td>tue</td>\n",
              "      <td>90.6</td>\n",
              "      <td>35.4</td>\n",
              "      <td>669.1</td>\n",
              "      <td>6.7</td>\n",
              "      <td>18.0</td>\n",
              "      <td>33</td>\n",
              "      <td>0.9</td>\n",
              "      <td>0.0</td>\n",
              "      <td>0.0</td>\n",
              "      <td>Very Low</td>\n",
              "    </tr>\n",
              "    <tr>\n",
              "      <th>2</th>\n",
              "      <td>7</td>\n",
              "      <td>4</td>\n",
              "      <td>oct</td>\n",
              "      <td>sat</td>\n",
              "      <td>90.6</td>\n",
              "      <td>43.7</td>\n",
              "      <td>686.9</td>\n",
              "      <td>6.7</td>\n",
              "      <td>14.6</td>\n",
              "      <td>33</td>\n",
              "      <td>1.3</td>\n",
              "      <td>0.0</td>\n",
              "      <td>0.0</td>\n",
              "      <td>Very Low</td>\n",
              "    </tr>\n",
              "    <tr>\n",
              "      <th>3</th>\n",
              "      <td>8</td>\n",
              "      <td>6</td>\n",
              "      <td>mar</td>\n",
              "      <td>fri</td>\n",
              "      <td>91.7</td>\n",
              "      <td>33.3</td>\n",
              "      <td>77.5</td>\n",
              "      <td>9.0</td>\n",
              "      <td>8.3</td>\n",
              "      <td>97</td>\n",
              "      <td>4.0</td>\n",
              "      <td>0.2</td>\n",
              "      <td>0.0</td>\n",
              "      <td>Very Low</td>\n",
              "    </tr>\n",
              "    <tr>\n",
              "      <th>4</th>\n",
              "      <td>8</td>\n",
              "      <td>6</td>\n",
              "      <td>mar</td>\n",
              "      <td>sun</td>\n",
              "      <td>89.3</td>\n",
              "      <td>51.3</td>\n",
              "      <td>102.2</td>\n",
              "      <td>9.6</td>\n",
              "      <td>11.4</td>\n",
              "      <td>99</td>\n",
              "      <td>1.8</td>\n",
              "      <td>0.0</td>\n",
              "      <td>0.0</td>\n",
              "      <td>Very Low</td>\n",
              "    </tr>\n",
              "    <tr>\n",
              "      <th>5</th>\n",
              "      <td>8</td>\n",
              "      <td>6</td>\n",
              "      <td>aug</td>\n",
              "      <td>sun</td>\n",
              "      <td>92.3</td>\n",
              "      <td>85.3</td>\n",
              "      <td>488.0</td>\n",
              "      <td>14.7</td>\n",
              "      <td>22.2</td>\n",
              "      <td>29</td>\n",
              "      <td>5.4</td>\n",
              "      <td>0.0</td>\n",
              "      <td>0.0</td>\n",
              "      <td>Very Low</td>\n",
              "    </tr>\n",
              "    <tr>\n",
              "      <th>6</th>\n",
              "      <td>8</td>\n",
              "      <td>6</td>\n",
              "      <td>aug</td>\n",
              "      <td>mon</td>\n",
              "      <td>92.3</td>\n",
              "      <td>88.9</td>\n",
              "      <td>495.6</td>\n",
              "      <td>8.5</td>\n",
              "      <td>24.1</td>\n",
              "      <td>27</td>\n",
              "      <td>3.1</td>\n",
              "      <td>0.0</td>\n",
              "      <td>0.0</td>\n",
              "      <td>Very Low</td>\n",
              "    </tr>\n",
              "    <tr>\n",
              "      <th>7</th>\n",
              "      <td>8</td>\n",
              "      <td>6</td>\n",
              "      <td>aug</td>\n",
              "      <td>mon</td>\n",
              "      <td>91.5</td>\n",
              "      <td>145.4</td>\n",
              "      <td>608.2</td>\n",
              "      <td>10.7</td>\n",
              "      <td>8.0</td>\n",
              "      <td>86</td>\n",
              "      <td>2.2</td>\n",
              "      <td>0.0</td>\n",
              "      <td>0.0</td>\n",
              "      <td>Very Low</td>\n",
              "    </tr>\n",
              "    <tr>\n",
              "      <th>8</th>\n",
              "      <td>8</td>\n",
              "      <td>6</td>\n",
              "      <td>sep</td>\n",
              "      <td>tue</td>\n",
              "      <td>91.0</td>\n",
              "      <td>129.5</td>\n",
              "      <td>692.6</td>\n",
              "      <td>7.0</td>\n",
              "      <td>13.1</td>\n",
              "      <td>63</td>\n",
              "      <td>5.4</td>\n",
              "      <td>0.0</td>\n",
              "      <td>0.0</td>\n",
              "      <td>Very Low</td>\n",
              "    </tr>\n",
              "    <tr>\n",
              "      <th>9</th>\n",
              "      <td>7</td>\n",
              "      <td>5</td>\n",
              "      <td>sep</td>\n",
              "      <td>sat</td>\n",
              "      <td>92.5</td>\n",
              "      <td>88.0</td>\n",
              "      <td>698.6</td>\n",
              "      <td>7.1</td>\n",
              "      <td>22.8</td>\n",
              "      <td>40</td>\n",
              "      <td>4.0</td>\n",
              "      <td>0.0</td>\n",
              "      <td>0.0</td>\n",
              "      <td>Very Low</td>\n",
              "    </tr>\n",
              "  </tbody>\n",
              "</table>\n",
              "</div>"
            ],
            "text/plain": [
              "   X  Y month  day  FFMC    DMC  ...  temp  RH  wind  rain  area  area_binned\n",
              "0  7  5   mar  fri  86.2   26.2  ...   8.2  51   6.7   0.0   0.0     Very Low\n",
              "1  7  4   oct  tue  90.6   35.4  ...  18.0  33   0.9   0.0   0.0     Very Low\n",
              "2  7  4   oct  sat  90.6   43.7  ...  14.6  33   1.3   0.0   0.0     Very Low\n",
              "3  8  6   mar  fri  91.7   33.3  ...   8.3  97   4.0   0.2   0.0     Very Low\n",
              "4  8  6   mar  sun  89.3   51.3  ...  11.4  99   1.8   0.0   0.0     Very Low\n",
              "5  8  6   aug  sun  92.3   85.3  ...  22.2  29   5.4   0.0   0.0     Very Low\n",
              "6  8  6   aug  mon  92.3   88.9  ...  24.1  27   3.1   0.0   0.0     Very Low\n",
              "7  8  6   aug  mon  91.5  145.4  ...   8.0  86   2.2   0.0   0.0     Very Low\n",
              "8  8  6   sep  tue  91.0  129.5  ...  13.1  63   5.4   0.0   0.0     Very Low\n",
              "9  7  5   sep  sat  92.5   88.0  ...  22.8  40   4.0   0.0   0.0     Very Low\n",
              "\n",
              "[10 rows x 14 columns]"
            ]
          },
          "metadata": {
            "tags": []
          },
          "execution_count": 37
        }
      ]
    },
    {
      "cell_type": "code",
      "metadata": {
        "id": "Mq8sen4ZJgqs",
        "colab_type": "code",
        "colab": {
          "base_uri": "https://localhost:8080/",
          "height": 268
        },
        "outputId": "60e9b2f1-ca63-4972-e556-46fb0a944d9e"
      },
      "source": [
        "# Visualize the above category\n",
        "plt.bar(group_names, dataset['area_binned'].value_counts())\n",
        "plt.show()"
      ],
      "execution_count": 38,
      "outputs": [
        {
          "output_type": "display_data",
          "data": {
            "image/png": "[encoded data removed]",
            "text/plain": [
              "<Figure size 432x288 with 1 Axes>"
            ]
          },
          "metadata": {
            "tags": [],
            "needs_background": "light"
          }
        }
      ]
    },
    {
      "cell_type": "code",
      "metadata": {
        "id": "ZF_vRmyrJ8VM",
        "colab_type": "code",
        "colab": {
          "base_uri": "https://localhost:8080/",
          "height": 101
        },
        "outputId": "43f4b370-d1c0-43b3-e236-c8af32f2bf11"
      },
      "source": [
        "# Display categories and counts for created category\n",
        "dataset['area_binned'].value_counts()\n"
      ],
      "execution_count": 49,
      "outputs": [
        {
          "output_type": "execute_result",
          "data": {
            "text/plain": [
              "Very Low         514\n",
              "High               1\n",
              "Medium             1\n",
              "Moderatly Low      1\n",
              "Name: area_binned, dtype: int64"
            ]
          },
          "metadata": {
            "tags": []
          },
          "execution_count": 49
        }
      ]
    },
    {
      "cell_type": "code",
      "metadata": {
        "id": "bciqm8ysLDFN",
        "colab_type": "code",
        "colab": {
          "base_uri": "https://localhost:8080/",
          "height": 225
        },
        "outputId": "0a23bd43-4313-4c20-f859-5c92dee4918d"
      },
      "source": [
        "# create new datframe for month category\n",
        "months_fire_counts = dataset['month'].value_counts().to_frame()\n",
        "months_fire_counts.rename(columns=  {'month': 'value_counts'}, inplace = True)\n",
        "\n",
        "months_fire_counts.index.name = 'months'\n",
        "\n",
        "months_fire_counts.head()"
      ],
      "execution_count": 50,
      "outputs": [
        {
          "output_type": "execute_result",
          "data": {
            "text/html": [
              "<div>\n",
              "<style scoped>\n",
              "    .dataframe tbody tr th:only-of-type {\n",
              "        vertical-align: middle;\n",
              "    }\n",
              "\n",
              "    .dataframe tbody tr th {\n",
              "        vertical-align: top;\n",
              "    }\n",
              "\n",
              "    .dataframe thead th {\n",
              "        text-align: right;\n",
              "    }\n",
              "</style>\n",
              "<table border=\"1\" class=\"dataframe\">\n",
              "  <thead>\n",
              "    <tr style=\"text-align: right;\">\n",
              "      <th></th>\n",
              "      <th>value_counts</th>\n",
              "    </tr>\n",
              "    <tr>\n",
              "      <th>months</th>\n",
              "      <th></th>\n",
              "    </tr>\n",
              "  </thead>\n",
              "  <tbody>\n",
              "    <tr>\n",
              "      <th>aug</th>\n",
              "      <td>184</td>\n",
              "    </tr>\n",
              "    <tr>\n",
              "      <th>sep</th>\n",
              "      <td>172</td>\n",
              "    </tr>\n",
              "    <tr>\n",
              "      <th>mar</th>\n",
              "      <td>54</td>\n",
              "    </tr>\n",
              "    <tr>\n",
              "      <th>jul</th>\n",
              "      <td>32</td>\n",
              "    </tr>\n",
              "    <tr>\n",
              "      <th>feb</th>\n",
              "      <td>20</td>\n",
              "    </tr>\n",
              "  </tbody>\n",
              "</table>\n",
              "</div>"
            ],
            "text/plain": [
              "        value_counts\n",
              "months              \n",
              "aug              184\n",
              "sep              172\n",
              "mar               54\n",
              "jul               32\n",
              "feb               20"
            ]
          },
          "metadata": {
            "tags": []
          },
          "execution_count": 50
        }
      ]
    },
    {
      "cell_type": "code",
      "metadata": {
        "id": "ALPzHgLdNSiL",
        "colab_type": "code",
        "colab": {
          "base_uri": "https://localhost:8080/",
          "height": 402
        },
        "outputId": "7c72da4a-5ba0-48aa-95d7-c93555466303"
      },
      "source": [
        "# Lets analyze how month and days affect forest fires\n",
        "df_test = dataset[['day', 'month', 'area']]\n",
        "df_grp = df_test.groupby(['day','month'], as_index = False).mean()\n",
        "df_grp"
      ],
      "execution_count": 51,
      "outputs": [
        {
          "output_type": "execute_result",
          "data": {
            "text/html": [
              "<div>\n",
              "<style scoped>\n",
              "    .dataframe tbody tr th:only-of-type {\n",
              "        vertical-align: middle;\n",
              "    }\n",
              "\n",
              "    .dataframe tbody tr th {\n",
              "        vertical-align: top;\n",
              "    }\n",
              "\n",
              "    .dataframe thead th {\n",
              "        text-align: right;\n",
              "    }\n",
              "</style>\n",
              "<table border=\"1\" class=\"dataframe\">\n",
              "  <thead>\n",
              "    <tr style=\"text-align: right;\">\n",
              "      <th></th>\n",
              "      <th>day</th>\n",
              "      <th>month</th>\n",
              "      <th>area</th>\n",
              "    </tr>\n",
              "  </thead>\n",
              "  <tbody>\n",
              "    <tr>\n",
              "      <th>0</th>\n",
              "      <td>fri</td>\n",
              "      <td>apr</td>\n",
              "      <td>0.000000</td>\n",
              "    </tr>\n",
              "    <tr>\n",
              "      <th>1</th>\n",
              "      <td>fri</td>\n",
              "      <td>aug</td>\n",
              "      <td>5.600476</td>\n",
              "    </tr>\n",
              "    <tr>\n",
              "      <th>2</th>\n",
              "      <td>fri</td>\n",
              "      <td>dec</td>\n",
              "      <td>9.270000</td>\n",
              "    </tr>\n",
              "    <tr>\n",
              "      <th>3</th>\n",
              "      <td>fri</td>\n",
              "      <td>feb</td>\n",
              "      <td>5.772000</td>\n",
              "    </tr>\n",
              "    <tr>\n",
              "      <th>4</th>\n",
              "      <td>fri</td>\n",
              "      <td>jul</td>\n",
              "      <td>13.220000</td>\n",
              "    </tr>\n",
              "    <tr>\n",
              "      <th>...</th>\n",
              "      <td>...</td>\n",
              "      <td>...</td>\n",
              "      <td>...</td>\n",
              "    </tr>\n",
              "    <tr>\n",
              "      <th>59</th>\n",
              "      <td>wed</td>\n",
              "      <td>jul</td>\n",
              "      <td>2.576667</td>\n",
              "    </tr>\n",
              "    <tr>\n",
              "      <th>60</th>\n",
              "      <td>wed</td>\n",
              "      <td>jun</td>\n",
              "      <td>2.720000</td>\n",
              "    </tr>\n",
              "    <tr>\n",
              "      <th>61</th>\n",
              "      <td>wed</td>\n",
              "      <td>mar</td>\n",
              "      <td>1.387500</td>\n",
              "    </tr>\n",
              "    <tr>\n",
              "      <th>62</th>\n",
              "      <td>wed</td>\n",
              "      <td>oct</td>\n",
              "      <td>6.850000</td>\n",
              "    </tr>\n",
              "    <tr>\n",
              "      <th>63</th>\n",
              "      <td>wed</td>\n",
              "      <td>sep</td>\n",
              "      <td>13.028571</td>\n",
              "    </tr>\n",
              "  </tbody>\n",
              "</table>\n",
              "<p>64 rows × 3 columns</p>\n",
              "</div>"
            ],
            "text/plain": [
              "    day month       area\n",
              "0   fri   apr   0.000000\n",
              "1   fri   aug   5.600476\n",
              "2   fri   dec   9.270000\n",
              "3   fri   feb   5.772000\n",
              "4   fri   jul  13.220000\n",
              "..  ...   ...        ...\n",
              "59  wed   jul   2.576667\n",
              "60  wed   jun   2.720000\n",
              "61  wed   mar   1.387500\n",
              "62  wed   oct   6.850000\n",
              "63  wed   sep  13.028571\n",
              "\n",
              "[64 rows x 3 columns]"
            ]
          },
          "metadata": {
            "tags": []
          },
          "execution_count": 51
        }
      ]
    },
    {
      "cell_type": "code",
      "metadata": {
        "id": "B6SDQSWZOFS2",
        "colab_type": "code",
        "colab": {
          "base_uri": "https://localhost:8080/",
          "height": 314
        },
        "outputId": "f3278b1d-a85c-444d-b120-f4caca4b3a7b"
      },
      "source": [
        "# Since this is difficult to interpret we present the result in a pivoy table\n",
        "df_pivot = df_grp.pivot( index= 'day', columns= 'month')\n",
        "df_pivot"
      ],
      "execution_count": 52,
      "outputs": [
        {
          "output_type": "execute_result",
          "data": {
            "text/html": [
              "<div>\n",
              "<style scoped>\n",
              "    .dataframe tbody tr th:only-of-type {\n",
              "        vertical-align: middle;\n",
              "    }\n",
              "\n",
              "    .dataframe tbody tr th {\n",
              "        vertical-align: top;\n",
              "    }\n",
              "\n",
              "    .dataframe thead tr th {\n",
              "        text-align: left;\n",
              "    }\n",
              "\n",
              "    .dataframe thead tr:last-of-type th {\n",
              "        text-align: right;\n",
              "    }\n",
              "</style>\n",
              "<table border=\"1\" class=\"dataframe\">\n",
              "  <thead>\n",
              "    <tr>\n",
              "      <th></th>\n",
              "      <th colspan=\"12\" halign=\"left\">area</th>\n",
              "    </tr>\n",
              "    <tr>\n",
              "      <th>month</th>\n",
              "      <th>apr</th>\n",
              "      <th>aug</th>\n",
              "      <th>dec</th>\n",
              "      <th>feb</th>\n",
              "      <th>jan</th>\n",
              "      <th>jul</th>\n",
              "      <th>jun</th>\n",
              "      <th>mar</th>\n",
              "      <th>may</th>\n",
              "      <th>nov</th>\n",
              "      <th>oct</th>\n",
              "      <th>sep</th>\n",
              "    </tr>\n",
              "    <tr>\n",
              "      <th>day</th>\n",
              "      <th></th>\n",
              "      <th></th>\n",
              "      <th></th>\n",
              "      <th></th>\n",
              "      <th></th>\n",
              "      <th></th>\n",
              "      <th></th>\n",
              "      <th></th>\n",
              "      <th></th>\n",
              "      <th></th>\n",
              "      <th></th>\n",
              "      <th></th>\n",
              "    </tr>\n",
              "  </thead>\n",
              "  <tbody>\n",
              "    <tr>\n",
              "      <th>fri</th>\n",
              "      <td>0.000000</td>\n",
              "      <td>5.600476</td>\n",
              "      <td>9.270</td>\n",
              "      <td>5.7720</td>\n",
              "      <td>NaN</td>\n",
              "      <td>13.220000</td>\n",
              "      <td>0.396667</td>\n",
              "      <td>0.985455</td>\n",
              "      <td>38.48</td>\n",
              "      <td>NaN</td>\n",
              "      <td>0.000000</td>\n",
              "      <td>5.298158</td>\n",
              "    </tr>\n",
              "    <tr>\n",
              "      <th>mon</th>\n",
              "      <td>3.350000</td>\n",
              "      <td>1.187333</td>\n",
              "      <td>15.095</td>\n",
              "      <td>3.3200</td>\n",
              "      <td>NaN</td>\n",
              "      <td>70.040000</td>\n",
              "      <td>1.820000</td>\n",
              "      <td>8.495000</td>\n",
              "      <td>NaN</td>\n",
              "      <td>NaN</td>\n",
              "      <td>15.410000</td>\n",
              "      <td>5.922500</td>\n",
              "    </tr>\n",
              "    <tr>\n",
              "      <th>sat</th>\n",
              "      <td>0.000000</td>\n",
              "      <td>14.054138</td>\n",
              "      <td>NaN</td>\n",
              "      <td>1.7100</td>\n",
              "      <td>0.0</td>\n",
              "      <td>1.267500</td>\n",
              "      <td>35.160000</td>\n",
              "      <td>8.065000</td>\n",
              "      <td>0.00</td>\n",
              "      <td>NaN</td>\n",
              "      <td>8.076667</td>\n",
              "      <td>61.804400</td>\n",
              "    </tr>\n",
              "    <tr>\n",
              "      <th>sun</th>\n",
              "      <td>20.376667</td>\n",
              "      <td>9.866500</td>\n",
              "      <td>8.980</td>\n",
              "      <td>17.8025</td>\n",
              "      <td>0.0</td>\n",
              "      <td>3.446000</td>\n",
              "      <td>0.225000</td>\n",
              "      <td>3.932857</td>\n",
              "      <td>NaN</td>\n",
              "      <td>NaN</td>\n",
              "      <td>0.000000</td>\n",
              "      <td>14.010741</td>\n",
              "    </tr>\n",
              "    <tr>\n",
              "      <th>thu</th>\n",
              "      <td>7.770000</td>\n",
              "      <td>32.198846</td>\n",
              "      <td>5.380</td>\n",
              "      <td>0.0000</td>\n",
              "      <td>NaN</td>\n",
              "      <td>1.503333</td>\n",
              "      <td>6.635000</td>\n",
              "      <td>1.750000</td>\n",
              "      <td>NaN</td>\n",
              "      <td>NaN</td>\n",
              "      <td>NaN</td>\n",
              "      <td>5.356190</td>\n",
              "    </tr>\n",
              "    <tr>\n",
              "      <th>tue</th>\n",
              "      <td>NaN</td>\n",
              "      <td>6.228571</td>\n",
              "      <td>24.770</td>\n",
              "      <td>3.7650</td>\n",
              "      <td>NaN</td>\n",
              "      <td>16.733333</td>\n",
              "      <td>NaN</td>\n",
              "      <td>0.000000</td>\n",
              "      <td>NaN</td>\n",
              "      <td>0.0</td>\n",
              "      <td>0.000000</td>\n",
              "      <td>26.352105</td>\n",
              "    </tr>\n",
              "    <tr>\n",
              "      <th>wed</th>\n",
              "      <td>0.000000</td>\n",
              "      <td>13.950800</td>\n",
              "      <td>11.190</td>\n",
              "      <td>1.1000</td>\n",
              "      <td>NaN</td>\n",
              "      <td>2.576667</td>\n",
              "      <td>2.720000</td>\n",
              "      <td>1.387500</td>\n",
              "      <td>NaN</td>\n",
              "      <td>NaN</td>\n",
              "      <td>6.850000</td>\n",
              "      <td>13.028571</td>\n",
              "    </tr>\n",
              "  </tbody>\n",
              "</table>\n",
              "</div>"
            ],
            "text/plain": [
              "            area                              ...                                  \n",
              "month        apr        aug     dec      feb  ...    may  nov        oct        sep\n",
              "day                                           ...                                  \n",
              "fri     0.000000   5.600476   9.270   5.7720  ...  38.48  NaN   0.000000   5.298158\n",
              "mon     3.350000   1.187333  15.095   3.3200  ...    NaN  NaN  15.410000   5.922500\n",
              "sat     0.000000  14.054138     NaN   1.7100  ...   0.00  NaN   8.076667  61.804400\n",
              "sun    20.376667   9.866500   8.980  17.8025  ...    NaN  NaN   0.000000  14.010741\n",
              "thu     7.770000  32.198846   5.380   0.0000  ...    NaN  NaN        NaN   5.356190\n",
              "tue          NaN   6.228571  24.770   3.7650  ...    NaN  0.0   0.000000  26.352105\n",
              "wed     0.000000  13.950800  11.190   1.1000  ...    NaN  NaN   6.850000  13.028571\n",
              "\n",
              "[7 rows x 12 columns]"
            ]
          },
          "metadata": {
            "tags": []
          },
          "execution_count": 52
        }
      ]
    },
    {
      "cell_type": "code",
      "metadata": {
        "id": "U723-AwSOAZD",
        "colab_type": "code",
        "colab": {
          "base_uri": "https://localhost:8080/",
          "height": 871
        },
        "outputId": "2580eec5-38fb-47ce-fa83-c70e1a0c10e2"
      },
      "source": [
        "# Present result in the form of a heat map\n",
        "plt.figure(figsize=(15,15))\n",
        "plt.pcolor(df_pivot, cmap= 'RdBu')\n",
        "plt.colorbar()\n",
        "plt.yticks(np.arange(0.5, len(df_pivot.index), 1), df_pivot.index)\n",
        "plt.xticks(np.arange(0.5, len(df_pivot.columns), 1), df_pivot.columns)\n",
        "plt.show()"
      ],
      "execution_count": 57,
      "outputs": [
        {
          "output_type": "display_data",
          "data": {
            "image/png": "[encoded data removed]",
            "text/plain": [
              "<Figure size 1080x1080 with 2 Axes>"
            ]
          },
          "metadata": {
            "tags": [],
            "needs_background": "light"
          }
        }
      ]
    },
    {
      "cell_type": "code",
      "metadata": {
        "id": "zcNQG4Bhy6kW",
        "colab_type": "code",
        "colab": {
          "base_uri": "https://localhost:8080/",
          "height": 166
        },
        "outputId": "0ec93bd3-d9c0-4058-fd66-91c21a951f2f"
      },
      "source": [
        "# Checking for outliers in the target variable\n",
        "data_outliers = dataset[abs(zscore(dataset['area'])>=3)]\n",
        "data_outliers\n"
      ],
      "execution_count": 62,
      "outputs": [
        {
          "output_type": "execute_result",
          "data": {
            "text/html": [
              "<div>\n",
              "<style scoped>\n",
              "    .dataframe tbody tr th:only-of-type {\n",
              "        vertical-align: middle;\n",
              "    }\n",
              "\n",
              "    .dataframe tbody tr th {\n",
              "        vertical-align: top;\n",
              "    }\n",
              "\n",
              "    .dataframe thead th {\n",
              "        text-align: right;\n",
              "    }\n",
              "</style>\n",
              "<table border=\"1\" class=\"dataframe\">\n",
              "  <thead>\n",
              "    <tr style=\"text-align: right;\">\n",
              "      <th></th>\n",
              "      <th>X</th>\n",
              "      <th>Y</th>\n",
              "      <th>month</th>\n",
              "      <th>day</th>\n",
              "      <th>FFMC</th>\n",
              "      <th>DMC</th>\n",
              "      <th>DC</th>\n",
              "      <th>ISI</th>\n",
              "      <th>temp</th>\n",
              "      <th>RH</th>\n",
              "      <th>wind</th>\n",
              "      <th>rain</th>\n",
              "      <th>area</th>\n",
              "    </tr>\n",
              "  </thead>\n",
              "  <tbody>\n",
              "    <tr>\n",
              "      <th>237</th>\n",
              "      <td>1</td>\n",
              "      <td>2</td>\n",
              "      <td>sep</td>\n",
              "      <td>tue</td>\n",
              "      <td>91.0</td>\n",
              "      <td>129.5</td>\n",
              "      <td>692.6</td>\n",
              "      <td>7.0</td>\n",
              "      <td>18.8</td>\n",
              "      <td>40</td>\n",
              "      <td>2.2</td>\n",
              "      <td>0.0</td>\n",
              "      <td>212.88</td>\n",
              "    </tr>\n",
              "    <tr>\n",
              "      <th>238</th>\n",
              "      <td>6</td>\n",
              "      <td>5</td>\n",
              "      <td>sep</td>\n",
              "      <td>sat</td>\n",
              "      <td>92.5</td>\n",
              "      <td>121.1</td>\n",
              "      <td>674.4</td>\n",
              "      <td>8.6</td>\n",
              "      <td>25.1</td>\n",
              "      <td>27</td>\n",
              "      <td>4.0</td>\n",
              "      <td>0.0</td>\n",
              "      <td>1090.84</td>\n",
              "    </tr>\n",
              "    <tr>\n",
              "      <th>415</th>\n",
              "      <td>8</td>\n",
              "      <td>6</td>\n",
              "      <td>aug</td>\n",
              "      <td>thu</td>\n",
              "      <td>94.8</td>\n",
              "      <td>222.4</td>\n",
              "      <td>698.6</td>\n",
              "      <td>13.9</td>\n",
              "      <td>27.5</td>\n",
              "      <td>27</td>\n",
              "      <td>4.9</td>\n",
              "      <td>0.0</td>\n",
              "      <td>746.28</td>\n",
              "    </tr>\n",
              "    <tr>\n",
              "      <th>479</th>\n",
              "      <td>7</td>\n",
              "      <td>4</td>\n",
              "      <td>jul</td>\n",
              "      <td>mon</td>\n",
              "      <td>89.2</td>\n",
              "      <td>103.9</td>\n",
              "      <td>431.6</td>\n",
              "      <td>6.4</td>\n",
              "      <td>22.6</td>\n",
              "      <td>57</td>\n",
              "      <td>4.9</td>\n",
              "      <td>0.0</td>\n",
              "      <td>278.53</td>\n",
              "    </tr>\n",
              "  </tbody>\n",
              "</table>\n",
              "</div>"
            ],
            "text/plain": [
              "     X  Y month  day  FFMC    DMC     DC   ISI  temp  RH  wind  rain     area\n",
              "237  1  2   sep  tue  91.0  129.5  692.6   7.0  18.8  40   2.2   0.0   212.88\n",
              "238  6  5   sep  sat  92.5  121.1  674.4   8.6  25.1  27   4.0   0.0  1090.84\n",
              "415  8  6   aug  thu  94.8  222.4  698.6  13.9  27.5  27   4.9   0.0   746.28\n",
              "479  7  4   jul  mon  89.2  103.9  431.6   6.4  22.6  57   4.9   0.0   278.53"
            ]
          },
          "metadata": {
            "tags": []
          },
          "execution_count": 62
        }
      ]
    },
    {
      "cell_type": "code",
      "metadata": {
        "id": "X7KM6R5-U-cl",
        "colab_type": "code",
        "colab": {
          "base_uri": "https://localhost:8080/",
          "height": 50
        },
        "outputId": "0f6e0749-90ad-4b44-9f45-46bc7b35b691"
      },
      "source": [
        "# There are four points that are outliers in the area column\n",
        "# Let us drop these entries and we recheck for outliers\n",
        "print(\" Shape of original dataframe is: \", dataset.shape)\n",
        "dataset.drop([237,238,415,479], inplace= True)\n",
        "print(\" Shape of new dataframe is: \", dataset.shape)"
      ],
      "execution_count": 64,
      "outputs": [
        {
          "output_type": "stream",
          "text": [
            " Shape of original dataframe is:  (517, 13)\n",
            " Shape of new dataframe is:  (513, 13)\n"
          ],
          "name": "stdout"
        }
      ]
    },
    {
      "cell_type": "code",
      "metadata": {
        "id": "r-nkKQ5VU8zq",
        "colab_type": "code",
        "colab": {
          "base_uri": "https://localhost:8080/",
          "height": 34
        },
        "outputId": "32ff31e3-0da8-4b0d-b215-43c52345789c"
      },
      "source": [
        "dataset['area'].skew()"
      ],
      "execution_count": 66,
      "outputs": [
        {
          "output_type": "execute_result",
          "data": {
            "text/plain": [
              "5.323733714803447"
            ]
          },
          "metadata": {
            "tags": []
          },
          "execution_count": 66
        }
      ]
    },
    {
      "cell_type": "code",
      "metadata": {
        "id": "VOMwv4AtXV6S",
        "colab_type": "code",
        "colab": {
          "base_uri": "https://localhost:8080/",
          "height": 218
        },
        "outputId": "bb25c88c-dccc-4e68-96a9-10606c17074e"
      },
      "source": [
        "dataset['area'].value_counts()"
      ],
      "execution_count": null,
      "outputs": [
        {
          "output_type": "execute_result",
          "data": {
            "text/plain": [
              "0.00     247\n",
              "1.94       3\n",
              "3.71       2\n",
              "0.90       2\n",
              "1.95       2\n",
              "        ... \n",
              "1.26       1\n",
              "2.44       1\n",
              "2.03       1\n",
              "2.21       1\n",
              "24.24      1\n",
              "Name: area, Length: 251, dtype: int64"
            ]
          },
          "metadata": {
            "tags": []
          },
          "execution_count": 19
        }
      ]
    },
    {
      "cell_type": "code",
      "metadata": {
        "id": "SEN39IYOWpLP",
        "colab_type": "code",
        "colab": {
          "base_uri": "https://localhost:8080/",
          "height": 118
        },
        "outputId": "aaaa2bf0-6130-48de-a19c-629c7a587144"
      },
      "source": [
        "#Grouping the the burnt area to get a better understanding\n",
        "#dataset['area_cat'] = pd.cut(dataset['area'], bins=[0, 10, 50, 100, 1100], include_lowest=True, \n",
        " #                                labels=['very low area', ' low area', 'medium area', 'large'])\n",
        " #Grouping the the burnt area to get a better understanding\n",
        "dataset['area_cat'] = pd.cut(dataset['area'], bins=[0,5, 10, 50, 100, 1100], include_lowest=True, \n",
        "                                 labels=['0-5', '5-10', '10-50', '50-100', '>100'])\n",
        "\n",
        "dataset.area_cat.value_counts()"
      ],
      "execution_count": null,
      "outputs": [
        {
          "output_type": "execute_result",
          "data": {
            "text/plain": [
              "0-5       366\n",
              "10-50      71\n",
              "5-10       56\n",
              "50-100     13\n",
              ">100       11\n",
              "Name: area_cat, dtype: int64"
            ]
          },
          "metadata": {
            "tags": []
          },
          "execution_count": 22
        }
      ]
    },
    {
      "cell_type": "code",
      "metadata": {
        "id": "ia2qYIyVZFvR",
        "colab_type": "code",
        "colab": {
          "base_uri": "https://localhost:8080/",
          "height": 34
        },
        "outputId": "c5b03de9-84f9-41ad-cd72-93e3cecfa585"
      },
      "source": [
        "dataset.shape"
      ],
      "execution_count": null,
      "outputs": [
        {
          "output_type": "execute_result",
          "data": {
            "text/plain": [
              "(517, 14)"
            ]
          },
          "metadata": {
            "tags": []
          },
          "execution_count": 23
        }
      ]
    },
    {
      "cell_type": "code",
      "metadata": {
        "id": "xm65q2iRZa6m",
        "colab_type": "code",
        "colab": {
          "base_uri": "https://localhost:8080/",
          "height": 34
        },
        "outputId": "28b10330-914f-4af8-d6c6-b0c77efb353b"
      },
      "source": [
        "#Interquartile range\n",
        "Q1 = dataset.area.quantile(.25)\n",
        "Q3 = dataset.area.quantile(.75)\n",
        "IQR = 1.5*(Q3-Q1)\n",
        "IQR"
      ],
      "execution_count": null,
      "outputs": [
        {
          "output_type": "execute_result",
          "data": {
            "text/plain": [
              "9.855"
            ]
          },
          "metadata": {
            "tags": []
          },
          "execution_count": 24
        }
      ]
    },
    {
      "cell_type": "code",
      "metadata": {
        "id": "4Kz7gcrfaeeA",
        "colab_type": "code",
        "colab": {
          "base_uri": "https://localhost:8080/",
          "height": 118
        },
        "outputId": "f29fc23e-119a-409d-bf13-54f13af7f006"
      },
      "source": [
        "#we are loosing quite a number of data points in already a small data set if we remove all outliers\n",
        "dataset.query('(@Q1 - 1.5 * @IQR) <= area <= (@Q3 + 1.5 * @IQR)').area_cat.value_counts(sort=False)"
      ],
      "execution_count": null,
      "outputs": [
        {
          "output_type": "execute_result",
          "data": {
            "text/plain": [
              "0-5       366\n",
              "5-10       56\n",
              "10-50      37\n",
              "50-100      0\n",
              ">100        0\n",
              "Name: area_cat, dtype: int64"
            ]
          },
          "metadata": {
            "tags": []
          },
          "execution_count": 29
        }
      ]
    },
    {
      "cell_type": "code",
      "metadata": {
        "id": "9Lvh5VaKbHbx",
        "colab_type": "code",
        "colab": {
          "base_uri": "https://localhost:8080/",
          "height": 50
        },
        "outputId": "75a45ff5-8ba0-4648-8860-86672014df81"
      },
      "source": [
        "print(dataset['area'].skew())\n",
        "print(dataset['area'].kurtosis())"
      ],
      "execution_count": null,
      "outputs": [
        {
          "output_type": "stream",
          "text": [
            "5.323733714803447\n",
            "34.459324300305994\n"
          ],
          "name": "stdout"
        }
      ]
    },
    {
      "cell_type": "code",
      "metadata": {
        "id": "-K_rwPikao9x",
        "colab_type": "code",
        "colab": {
          "base_uri": "https://localhost:8080/",
          "height": 47
        },
        "outputId": "4517af72-4fe2-4863-e83f-489466463853"
      },
      "source": [
        "# Checking for outliers in the target variable\n",
        "data_outliers2 = dataset[abs(zscore(dataset['FFMC'])>=3)]\n",
        "data_outliers2"
      ],
      "execution_count": null,
      "outputs": [
        {
          "output_type": "execute_result",
          "data": {
            "text/html": [
              "<div>\n",
              "<style scoped>\n",
              "    .dataframe tbody tr th:only-of-type {\n",
              "        vertical-align: middle;\n",
              "    }\n",
              "\n",
              "    .dataframe tbody tr th {\n",
              "        vertical-align: top;\n",
              "    }\n",
              "\n",
              "    .dataframe thead th {\n",
              "        text-align: right;\n",
              "    }\n",
              "</style>\n",
              "<table border=\"1\" class=\"dataframe\">\n",
              "  <thead>\n",
              "    <tr style=\"text-align: right;\">\n",
              "      <th></th>\n",
              "      <th>X</th>\n",
              "      <th>Y</th>\n",
              "      <th>month</th>\n",
              "      <th>day</th>\n",
              "      <th>FFMC</th>\n",
              "      <th>DMC</th>\n",
              "      <th>DC</th>\n",
              "      <th>ISI</th>\n",
              "      <th>temp</th>\n",
              "      <th>RH</th>\n",
              "      <th>wind</th>\n",
              "      <th>rain</th>\n",
              "      <th>area</th>\n",
              "      <th>area_cat</th>\n",
              "    </tr>\n",
              "  </thead>\n",
              "  <tbody>\n",
              "  </tbody>\n",
              "</table>\n",
              "</div>"
            ],
            "text/plain": [
              "Empty DataFrame\n",
              "Columns: [X, Y, month, day, FFMC, DMC, DC, ISI, temp, RH, wind, rain, area, area_cat]\n",
              "Index: []"
            ]
          },
          "metadata": {
            "tags": []
          },
          "execution_count": 30
        }
      ]
    },
    {
      "cell_type": "markdown",
      "metadata": {
        "id": "HTv3u4Bs00Bz",
        "colab_type": "text"
      },
      "source": [
        "##### Results shows we have four points which are outliers. How would we address these points?"
      ]
    },
    {
      "cell_type": "code",
      "metadata": {
        "id": "aHtb1n6j2Xul",
        "colab_type": "code",
        "colab": {
          "base_uri": "https://localhost:8080/",
          "height": 195
        },
        "outputId": "5feed506-7166-4eaf-ffe0-01377972866c"
      },
      "source": [
        "## Remove target varaible from original dataframe\n",
        "target = 'area'\n",
        "dataset_a = dataset.drop(columns = target)\n",
        "dataset_a.head()"
      ],
      "execution_count": null,
      "outputs": [
        {
          "output_type": "execute_result",
          "data": {
            "text/html": [
              "<div>\n",
              "<style scoped>\n",
              "    .dataframe tbody tr th:only-of-type {\n",
              "        vertical-align: middle;\n",
              "    }\n",
              "\n",
              "    .dataframe tbody tr th {\n",
              "        vertical-align: top;\n",
              "    }\n",
              "\n",
              "    .dataframe thead th {\n",
              "        text-align: right;\n",
              "    }\n",
              "</style>\n",
              "<table border=\"1\" class=\"dataframe\">\n",
              "  <thead>\n",
              "    <tr style=\"text-align: right;\">\n",
              "      <th></th>\n",
              "      <th>X</th>\n",
              "      <th>Y</th>\n",
              "      <th>month</th>\n",
              "      <th>day</th>\n",
              "      <th>FFMC</th>\n",
              "      <th>DMC</th>\n",
              "      <th>DC</th>\n",
              "      <th>ISI</th>\n",
              "      <th>temp</th>\n",
              "      <th>RH</th>\n",
              "      <th>wind</th>\n",
              "      <th>rain</th>\n",
              "    </tr>\n",
              "  </thead>\n",
              "  <tbody>\n",
              "    <tr>\n",
              "      <th>0</th>\n",
              "      <td>7</td>\n",
              "      <td>5</td>\n",
              "      <td>mar</td>\n",
              "      <td>fri</td>\n",
              "      <td>86.2</td>\n",
              "      <td>26.2</td>\n",
              "      <td>94.3</td>\n",
              "      <td>5.1</td>\n",
              "      <td>8.2</td>\n",
              "      <td>51</td>\n",
              "      <td>6.7</td>\n",
              "      <td>0.0</td>\n",
              "    </tr>\n",
              "    <tr>\n",
              "      <th>1</th>\n",
              "      <td>7</td>\n",
              "      <td>4</td>\n",
              "      <td>oct</td>\n",
              "      <td>tue</td>\n",
              "      <td>90.6</td>\n",
              "      <td>35.4</td>\n",
              "      <td>669.1</td>\n",
              "      <td>6.7</td>\n",
              "      <td>18.0</td>\n",
              "      <td>33</td>\n",
              "      <td>0.9</td>\n",
              "      <td>0.0</td>\n",
              "    </tr>\n",
              "    <tr>\n",
              "      <th>2</th>\n",
              "      <td>7</td>\n",
              "      <td>4</td>\n",
              "      <td>oct</td>\n",
              "      <td>sat</td>\n",
              "      <td>90.6</td>\n",
              "      <td>43.7</td>\n",
              "      <td>686.9</td>\n",
              "      <td>6.7</td>\n",
              "      <td>14.6</td>\n",
              "      <td>33</td>\n",
              "      <td>1.3</td>\n",
              "      <td>0.0</td>\n",
              "    </tr>\n",
              "    <tr>\n",
              "      <th>3</th>\n",
              "      <td>8</td>\n",
              "      <td>6</td>\n",
              "      <td>mar</td>\n",
              "      <td>fri</td>\n",
              "      <td>91.7</td>\n",
              "      <td>33.3</td>\n",
              "      <td>77.5</td>\n",
              "      <td>9.0</td>\n",
              "      <td>8.3</td>\n",
              "      <td>97</td>\n",
              "      <td>4.0</td>\n",
              "      <td>0.2</td>\n",
              "    </tr>\n",
              "    <tr>\n",
              "      <th>4</th>\n",
              "      <td>8</td>\n",
              "      <td>6</td>\n",
              "      <td>mar</td>\n",
              "      <td>sun</td>\n",
              "      <td>89.3</td>\n",
              "      <td>51.3</td>\n",
              "      <td>102.2</td>\n",
              "      <td>9.6</td>\n",
              "      <td>11.4</td>\n",
              "      <td>99</td>\n",
              "      <td>1.8</td>\n",
              "      <td>0.0</td>\n",
              "    </tr>\n",
              "  </tbody>\n",
              "</table>\n",
              "</div>"
            ],
            "text/plain": [
              "   X  Y month  day  FFMC   DMC     DC  ISI  temp  RH  wind  rain\n",
              "0  7  5   mar  fri  86.2  26.2   94.3  5.1   8.2  51   6.7   0.0\n",
              "1  7  4   oct  tue  90.6  35.4  669.1  6.7  18.0  33   0.9   0.0\n",
              "2  7  4   oct  sat  90.6  43.7  686.9  6.7  14.6  33   1.3   0.0\n",
              "3  8  6   mar  fri  91.7  33.3   77.5  9.0   8.3  97   4.0   0.2\n",
              "4  8  6   mar  sun  89.3  51.3  102.2  9.6  11.4  99   1.8   0.0"
            ]
          },
          "metadata": {
            "tags": []
          },
          "execution_count": 17
        }
      ]
    },
    {
      "cell_type": "code",
      "metadata": {
        "id": "P_RYMrJ8235X",
        "colab_type": "code",
        "colab": {
          "base_uri": "https://localhost:8080/",
          "height": 50
        },
        "outputId": "df1459f0-718a-4bca-cfd8-78cd553b9b79"
      },
      "source": [
        "#  Finding numerical and categorical columns from original dataframe\n",
        "num_cols = dataset_a.select_dtypes(exclude ='object').columns.tolist()\n",
        "cat_cols = dataset_a.select_dtypes(include='object').columns.tolist()\n",
        "\n",
        "print(num_cols)\n",
        "print(cat_cols)"
      ],
      "execution_count": null,
      "outputs": [
        {
          "output_type": "stream",
          "text": [
            "['X', 'Y', 'FFMC', 'DMC', 'DC', 'ISI', 'temp', 'RH', 'wind', 'rain']\n",
            "['month', 'day']\n"
          ],
          "name": "stdout"
        }
      ]
    },
    {
      "cell_type": "code",
      "metadata": {
        "id": "2fLCHCxU4bZT",
        "colab_type": "code",
        "colab": {
          "base_uri": "https://localhost:8080/",
          "height": 710
        },
        "outputId": "dfa843d1-cd7f-4e46-f5f6-31c7c282397e"
      },
      "source": [
        "# Visual exploratory analysis on categorical columns\n",
        "plt.figure(figsize=(16,10))\n",
        "for i,col in enumerate(cat_cols,1):\n",
        "    plt.subplot(2,2,i)\n",
        "    sns.countplot(data=dataset_a,y=col)\n",
        "    plt.subplot(2,2,i+len(cat_cols))\n",
        "    dataset_a[col].value_counts(normalize=True).plot.bar()\n",
        "    plt.ylabel(col)\n",
        "    plt.xlabel('% distribution per category')\n",
        "plt.tight_layout()\n",
        "plt.show()  "
      ],
      "execution_count": null,
      "outputs": [
        {
          "output_type": "display_data",
          "data": {
            "image/png": "[encoded data removed]",
            "text/plain": [
              "<Figure size 1152x720 with 4 Axes>"
            ]
          },
          "metadata": {
            "tags": [],
            "needs_background": "light"
          }
        }
      ]
    },
    {
      "cell_type": "markdown",
      "metadata": {
        "id": "I9dyTzNo5Xea",
        "colab_type": "text"
      },
      "source": [
        "#### It is interesting to see that abnormally high number of the forest fires occur in the month of August and September. In addition, there seems to be an occurence of more fires between Friday to Monday as compared to Tuesday to Thursday."
      ]
    },
    {
      "cell_type": "code",
      "metadata": {
        "id": "P029JtIK6HAd",
        "colab_type": "code",
        "colab": {
          "base_uri": "https://localhost:8080/",
          "height": 1000
        },
        "outputId": "06946fd1-3ad1-40c3-ec96-236fbd1d67b2"
      },
      "source": [
        "# Visual exploration of numerical colums\n",
        "plt.figure(figsize= (18,40))\n",
        "for i,col in enumerate(num_cols,1):\n",
        "    plt.subplot(8,4,i)\n",
        "    sns.kdeplot(dataset_a[col],color='g',shade=True)\n",
        "    plt.subplot(8,4,i+len(num_cols))\n",
        "    dataset_a[col].plot.box()\n",
        "plt.tight_layout() \n",
        "plt.show()\n",
        "num_data = dataset_a[num_cols]\n",
        "pd.DataFrame(data=[num_data.skew(),num_data.kurtosis()],index=['skewness','kurtosis'])"
      ],
      "execution_count": null,
      "outputs": [
        {
          "output_type": "display_data",
          "data": {
            "image/png": "[encoded data removed]",
            "text/plain": [
              "<Figure size 1296x2880 with 20 Axes>"
            ]
          },
          "metadata": {
            "tags": [],
            "needs_background": "light"
          }
        },
        {
          "output_type": "execute_result",
          "data": {
            "text/html": [
              "<div>\n",
              "<style scoped>\n",
              "    .dataframe tbody tr th:only-of-type {\n",
              "        vertical-align: middle;\n",
              "    }\n",
              "\n",
              "    .dataframe tbody tr th {\n",
              "        vertical-align: top;\n",
              "    }\n",
              "\n",
              "    .dataframe thead th {\n",
              "        text-align: right;\n",
              "    }\n",
              "</style>\n",
              "<table border=\"1\" class=\"dataframe\">\n",
              "  <thead>\n",
              "    <tr style=\"text-align: right;\">\n",
              "      <th></th>\n",
              "      <th>X</th>\n",
              "      <th>Y</th>\n",
              "      <th>FFMC</th>\n",
              "      <th>DMC</th>\n",
              "      <th>DC</th>\n",
              "      <th>ISI</th>\n",
              "      <th>temp</th>\n",
              "      <th>RH</th>\n",
              "      <th>wind</th>\n",
              "      <th>rain</th>\n",
              "    </tr>\n",
              "  </thead>\n",
              "  <tbody>\n",
              "    <tr>\n",
              "      <th>skewness</th>\n",
              "      <td>0.036246</td>\n",
              "      <td>0.417296</td>\n",
              "      <td>-6.575606</td>\n",
              "      <td>0.547498</td>\n",
              "      <td>-1.100445</td>\n",
              "      <td>2.536325</td>\n",
              "      <td>-0.331172</td>\n",
              "      <td>0.862904</td>\n",
              "      <td>0.571001</td>\n",
              "      <td>19.816344</td>\n",
              "    </tr>\n",
              "    <tr>\n",
              "      <th>kurtosis</th>\n",
              "      <td>-1.172331</td>\n",
              "      <td>1.420553</td>\n",
              "      <td>67.066041</td>\n",
              "      <td>0.204822</td>\n",
              "      <td>-0.245244</td>\n",
              "      <td>21.458037</td>\n",
              "      <td>0.136166</td>\n",
              "      <td>0.438183</td>\n",
              "      <td>0.054324</td>\n",
              "      <td>421.295964</td>\n",
              "    </tr>\n",
              "  </tbody>\n",
              "</table>\n",
              "</div>"
            ],
            "text/plain": [
              "                 X         Y       FFMC  ...        RH      wind        rain\n",
              "skewness  0.036246  0.417296  -6.575606  ...  0.862904  0.571001   19.816344\n",
              "kurtosis -1.172331  1.420553  67.066041  ...  0.438183  0.054324  421.295964\n",
              "\n",
              "[2 rows x 10 columns]"
            ]
          },
          "metadata": {
            "tags": []
          },
          "execution_count": 20
        }
      ]
    },
    {
      "cell_type": "markdown",
      "metadata": {
        "id": "TJPiRguM_1fH",
        "colab_type": "text"
      },
      "source": [
        "#####  Outliers, Skewness and kurtosis (high positive or negative) was observed in FFMC, ISI and rain columns."
      ]
    },
    {
      "cell_type": "code",
      "metadata": {
        "id": "4z97HIFa-1ib",
        "colab_type": "code",
        "colab": {
          "base_uri": "https://localhost:8080/",
          "height": 195
        },
        "outputId": "fbade06f-9ae1-4408-b6ca-aba5164f66ca"
      },
      "source": [
        "# a categorical variable based on forest fire area damage\n",
        "# No damage, low, moderate, high, very high\n",
        "def area_cat(area):\n",
        "    if area == 0.0:\n",
        "        return \"No damage\"\n",
        "    elif area <= 1:\n",
        "        return \"low\"\n",
        "    elif area <= 25:\n",
        "        return \"moderate\"\n",
        "    elif area <= 100:\n",
        "        return \"high\"\n",
        "    else:\n",
        "        return \"very high\"\n",
        "\n",
        "dataset['damage_category'] = dataset['area'].apply(area_cat)\n",
        "dataset.head()"
      ],
      "execution_count": null,
      "outputs": [
        {
          "output_type": "execute_result",
          "data": {
            "text/html": [
              "<div>\n",
              "<style scoped>\n",
              "    .dataframe tbody tr th:only-of-type {\n",
              "        vertical-align: middle;\n",
              "    }\n",
              "\n",
              "    .dataframe tbody tr th {\n",
              "        vertical-align: top;\n",
              "    }\n",
              "\n",
              "    .dataframe thead th {\n",
              "        text-align: right;\n",
              "    }\n",
              "</style>\n",
              "<table border=\"1\" class=\"dataframe\">\n",
              "  <thead>\n",
              "    <tr style=\"text-align: right;\">\n",
              "      <th></th>\n",
              "      <th>X</th>\n",
              "      <th>Y</th>\n",
              "      <th>month</th>\n",
              "      <th>day</th>\n",
              "      <th>FFMC</th>\n",
              "      <th>DMC</th>\n",
              "      <th>DC</th>\n",
              "      <th>ISI</th>\n",
              "      <th>temp</th>\n",
              "      <th>RH</th>\n",
              "      <th>wind</th>\n",
              "      <th>rain</th>\n",
              "      <th>area</th>\n",
              "      <th>damage_category</th>\n",
              "    </tr>\n",
              "  </thead>\n",
              "  <tbody>\n",
              "    <tr>\n",
              "      <th>0</th>\n",
              "      <td>7</td>\n",
              "      <td>5</td>\n",
              "      <td>mar</td>\n",
              "      <td>fri</td>\n",
              "      <td>86.2</td>\n",
              "      <td>26.2</td>\n",
              "      <td>94.3</td>\n",
              "      <td>5.1</td>\n",
              "      <td>8.2</td>\n",
              "      <td>51</td>\n",
              "      <td>6.7</td>\n",
              "      <td>0.0</td>\n",
              "      <td>0.0</td>\n",
              "      <td>No damage</td>\n",
              "    </tr>\n",
              "    <tr>\n",
              "      <th>1</th>\n",
              "      <td>7</td>\n",
              "      <td>4</td>\n",
              "      <td>oct</td>\n",
              "      <td>tue</td>\n",
              "      <td>90.6</td>\n",
              "      <td>35.4</td>\n",
              "      <td>669.1</td>\n",
              "      <td>6.7</td>\n",
              "      <td>18.0</td>\n",
              "      <td>33</td>\n",
              "      <td>0.9</td>\n",
              "      <td>0.0</td>\n",
              "      <td>0.0</td>\n",
              "      <td>No damage</td>\n",
              "    </tr>\n",
              "    <tr>\n",
              "      <th>2</th>\n",
              "      <td>7</td>\n",
              "      <td>4</td>\n",
              "      <td>oct</td>\n",
              "      <td>sat</td>\n",
              "      <td>90.6</td>\n",
              "      <td>43.7</td>\n",
              "      <td>686.9</td>\n",
              "      <td>6.7</td>\n",
              "      <td>14.6</td>\n",
              "      <td>33</td>\n",
              "      <td>1.3</td>\n",
              "      <td>0.0</td>\n",
              "      <td>0.0</td>\n",
              "      <td>No damage</td>\n",
              "    </tr>\n",
              "    <tr>\n",
              "      <th>3</th>\n",
              "      <td>8</td>\n",
              "      <td>6</td>\n",
              "      <td>mar</td>\n",
              "      <td>fri</td>\n",
              "      <td>91.7</td>\n",
              "      <td>33.3</td>\n",
              "      <td>77.5</td>\n",
              "      <td>9.0</td>\n",
              "      <td>8.3</td>\n",
              "      <td>97</td>\n",
              "      <td>4.0</td>\n",
              "      <td>0.2</td>\n",
              "      <td>0.0</td>\n",
              "      <td>No damage</td>\n",
              "    </tr>\n",
              "    <tr>\n",
              "      <th>4</th>\n",
              "      <td>8</td>\n",
              "      <td>6</td>\n",
              "      <td>mar</td>\n",
              "      <td>sun</td>\n",
              "      <td>89.3</td>\n",
              "      <td>51.3</td>\n",
              "      <td>102.2</td>\n",
              "      <td>9.6</td>\n",
              "      <td>11.4</td>\n",
              "      <td>99</td>\n",
              "      <td>1.8</td>\n",
              "      <td>0.0</td>\n",
              "      <td>0.0</td>\n",
              "      <td>No damage</td>\n",
              "    </tr>\n",
              "  </tbody>\n",
              "</table>\n",
              "</div>"
            ],
            "text/plain": [
              "   X  Y month  day  FFMC   DMC  ...  temp  RH  wind  rain  area  damage_category\n",
              "0  7  5   mar  fri  86.2  26.2  ...   8.2  51   6.7   0.0   0.0        No damage\n",
              "1  7  4   oct  tue  90.6  35.4  ...  18.0  33   0.9   0.0   0.0        No damage\n",
              "2  7  4   oct  sat  90.6  43.7  ...  14.6  33   1.3   0.0   0.0        No damage\n",
              "3  8  6   mar  fri  91.7  33.3  ...   8.3  97   4.0   0.2   0.0        No damage\n",
              "4  8  6   mar  sun  89.3  51.3  ...  11.4  99   1.8   0.0   0.0        No damage\n",
              "\n",
              "[5 rows x 14 columns]"
            ]
          },
          "metadata": {
            "tags": []
          },
          "execution_count": 21
        }
      ]
    },
    {
      "cell_type": "code",
      "metadata": {
        "id": "nLYUN2DL_JMp",
        "colab_type": "code",
        "colab": {
          "base_uri": "https://localhost:8080/",
          "height": 581
        },
        "outputId": "ceef1b34-0510-49f1-9999-5aa91ecefa27"
      },
      "source": [
        "for col in cat_cols:\n",
        "    cross = pd.crosstab(index=dataset['damage_category'],columns=dataset[col],normalize='index')\n",
        "    cross.plot.barh(stacked=True,rot=40,cmap='hot')\n",
        "    plt.xlabel('% distribution per category')\n",
        "    plt.xticks(np.arange(0,1.1,0.1))\n",
        "    plt.title(\"Forestfire damage each {}\".format(col))\n",
        "plt.show()"
      ],
      "execution_count": null,
      "outputs": [
        {
          "output_type": "display_data",
          "data": {
            "image/png": "[encoded data removed]",
            "text/plain": [
              "<Figure size 432x288 with 1 Axes>"
            ]
          },
          "metadata": {
            "tags": [],
            "needs_background": "light"
          }
        },
        {
          "output_type": "display_data",
          "data": {
            "image/png": "[encoded data removed]",
            "text/plain": [
              "<Figure size 432x288 with 1 Axes>"
            ]
          },
          "metadata": {
            "tags": [],
            "needs_background": "light"
          }
        }
      ]
    },
    {
      "cell_type": "code",
      "metadata": {
        "id": "0XGGF-X2_hBU",
        "colab_type": "code",
        "colab": {
          "base_uri": "https://localhost:8080/",
          "height": 1000
        },
        "outputId": "81dc4736-4860-4aa3-80b7-0b4beed952c2"
      },
      "source": [
        "# numerical columns\n",
        "plt.figure(figsize=(20,40))\n",
        "for i,col in enumerate(num_cols,1):\n",
        "    plt.subplot(10,1,i)\n",
        "    if col in ['X','Y']:\n",
        "        sns.swarmplot(data=dataset,x=col,y=target,hue='damage_category')\n",
        "    else:\n",
        "        sns.scatterplot(data=dataset,x=col,y=target,hue='damage_category')\n",
        "plt.show()"
      ],
      "execution_count": null,
      "outputs": [
        {
          "output_type": "display_data",
          "data": {
            "image/png": "[encoded data removed]",
            "text/plain": [
              "<Figure size 1440x2880 with 10 Axes>"
            ]
          },
          "metadata": {
            "tags": [],
            "needs_background": "light"
          }
        }
      ]
    },
    {
      "cell_type": "markdown",
      "metadata": {
        "id": "nOq7gCt-9Xbr",
        "colab_type": "text"
      },
      "source": [
        "###### Outliers, Skewness and kurtosis (high positive or negative) was observed in FFMC, ISI and rain columns.In order to minimize the effect of outliers in our model we will transform the above features.\n"
      ]
    },
    {
      "cell_type": "code",
      "metadata": {
        "id": "ZVcydhqWLkpw",
        "colab_type": "code",
        "colab": {
          "base_uri": "https://localhost:8080/",
          "height": 393
        },
        "outputId": "b850899e-43c3-4bff-f2e2-15be5d94629d"
      },
      "source": [
        "# Statistical summary of complete dataset\n",
        "dataset.describe(include='all')"
      ],
      "execution_count": null,
      "outputs": [
        {
          "output_type": "execute_result",
          "data": {
            "text/html": [
              "<div>\n",
              "<style scoped>\n",
              "    .dataframe tbody tr th:only-of-type {\n",
              "        vertical-align: middle;\n",
              "    }\n",
              "\n",
              "    .dataframe tbody tr th {\n",
              "        vertical-align: top;\n",
              "    }\n",
              "\n",
              "    .dataframe thead th {\n",
              "        text-align: right;\n",
              "    }\n",
              "</style>\n",
              "<table border=\"1\" class=\"dataframe\">\n",
              "  <thead>\n",
              "    <tr style=\"text-align: right;\">\n",
              "      <th></th>\n",
              "      <th>X</th>\n",
              "      <th>Y</th>\n",
              "      <th>month</th>\n",
              "      <th>day</th>\n",
              "      <th>FFMC</th>\n",
              "      <th>DMC</th>\n",
              "      <th>DC</th>\n",
              "      <th>ISI</th>\n",
              "      <th>temp</th>\n",
              "      <th>RH</th>\n",
              "      <th>wind</th>\n",
              "      <th>rain</th>\n",
              "      <th>area</th>\n",
              "      <th>damage_category</th>\n",
              "    </tr>\n",
              "  </thead>\n",
              "  <tbody>\n",
              "    <tr>\n",
              "      <th>count</th>\n",
              "      <td>517.000000</td>\n",
              "      <td>517.000000</td>\n",
              "      <td>517</td>\n",
              "      <td>517</td>\n",
              "      <td>517.000000</td>\n",
              "      <td>517.000000</td>\n",
              "      <td>517.000000</td>\n",
              "      <td>517.000000</td>\n",
              "      <td>517.000000</td>\n",
              "      <td>517.000000</td>\n",
              "      <td>517.000000</td>\n",
              "      <td>517.000000</td>\n",
              "      <td>517.000000</td>\n",
              "      <td>517</td>\n",
              "    </tr>\n",
              "    <tr>\n",
              "      <th>unique</th>\n",
              "      <td>NaN</td>\n",
              "      <td>NaN</td>\n",
              "      <td>12</td>\n",
              "      <td>7</td>\n",
              "      <td>NaN</td>\n",
              "      <td>NaN</td>\n",
              "      <td>NaN</td>\n",
              "      <td>NaN</td>\n",
              "      <td>NaN</td>\n",
              "      <td>NaN</td>\n",
              "      <td>NaN</td>\n",
              "      <td>NaN</td>\n",
              "      <td>NaN</td>\n",
              "      <td>5</td>\n",
              "    </tr>\n",
              "    <tr>\n",
              "      <th>top</th>\n",
              "      <td>NaN</td>\n",
              "      <td>NaN</td>\n",
              "      <td>aug</td>\n",
              "      <td>sun</td>\n",
              "      <td>NaN</td>\n",
              "      <td>NaN</td>\n",
              "      <td>NaN</td>\n",
              "      <td>NaN</td>\n",
              "      <td>NaN</td>\n",
              "      <td>NaN</td>\n",
              "      <td>NaN</td>\n",
              "      <td>NaN</td>\n",
              "      <td>NaN</td>\n",
              "      <td>No damage</td>\n",
              "    </tr>\n",
              "    <tr>\n",
              "      <th>freq</th>\n",
              "      <td>NaN</td>\n",
              "      <td>NaN</td>\n",
              "      <td>184</td>\n",
              "      <td>95</td>\n",
              "      <td>NaN</td>\n",
              "      <td>NaN</td>\n",
              "      <td>NaN</td>\n",
              "      <td>NaN</td>\n",
              "      <td>NaN</td>\n",
              "      <td>NaN</td>\n",
              "      <td>NaN</td>\n",
              "      <td>NaN</td>\n",
              "      <td>NaN</td>\n",
              "      <td>247</td>\n",
              "    </tr>\n",
              "    <tr>\n",
              "      <th>mean</th>\n",
              "      <td>4.669246</td>\n",
              "      <td>4.299807</td>\n",
              "      <td>NaN</td>\n",
              "      <td>NaN</td>\n",
              "      <td>90.644681</td>\n",
              "      <td>110.872340</td>\n",
              "      <td>547.940039</td>\n",
              "      <td>9.021663</td>\n",
              "      <td>18.889168</td>\n",
              "      <td>44.288201</td>\n",
              "      <td>4.017602</td>\n",
              "      <td>0.021663</td>\n",
              "      <td>12.847292</td>\n",
              "      <td>NaN</td>\n",
              "    </tr>\n",
              "    <tr>\n",
              "      <th>std</th>\n",
              "      <td>2.313778</td>\n",
              "      <td>1.229900</td>\n",
              "      <td>NaN</td>\n",
              "      <td>NaN</td>\n",
              "      <td>5.520111</td>\n",
              "      <td>64.046482</td>\n",
              "      <td>248.066192</td>\n",
              "      <td>4.559477</td>\n",
              "      <td>5.806625</td>\n",
              "      <td>16.317469</td>\n",
              "      <td>1.791653</td>\n",
              "      <td>0.295959</td>\n",
              "      <td>63.655818</td>\n",
              "      <td>NaN</td>\n",
              "    </tr>\n",
              "    <tr>\n",
              "      <th>min</th>\n",
              "      <td>1.000000</td>\n",
              "      <td>2.000000</td>\n",
              "      <td>NaN</td>\n",
              "      <td>NaN</td>\n",
              "      <td>18.700000</td>\n",
              "      <td>1.100000</td>\n",
              "      <td>7.900000</td>\n",
              "      <td>0.000000</td>\n",
              "      <td>2.200000</td>\n",
              "      <td>15.000000</td>\n",
              "      <td>0.400000</td>\n",
              "      <td>0.000000</td>\n",
              "      <td>0.000000</td>\n",
              "      <td>NaN</td>\n",
              "    </tr>\n",
              "    <tr>\n",
              "      <th>25%</th>\n",
              "      <td>3.000000</td>\n",
              "      <td>4.000000</td>\n",
              "      <td>NaN</td>\n",
              "      <td>NaN</td>\n",
              "      <td>90.200000</td>\n",
              "      <td>68.600000</td>\n",
              "      <td>437.700000</td>\n",
              "      <td>6.500000</td>\n",
              "      <td>15.500000</td>\n",
              "      <td>33.000000</td>\n",
              "      <td>2.700000</td>\n",
              "      <td>0.000000</td>\n",
              "      <td>0.000000</td>\n",
              "      <td>NaN</td>\n",
              "    </tr>\n",
              "    <tr>\n",
              "      <th>50%</th>\n",
              "      <td>4.000000</td>\n",
              "      <td>4.000000</td>\n",
              "      <td>NaN</td>\n",
              "      <td>NaN</td>\n",
              "      <td>91.600000</td>\n",
              "      <td>108.300000</td>\n",
              "      <td>664.200000</td>\n",
              "      <td>8.400000</td>\n",
              "      <td>19.300000</td>\n",
              "      <td>42.000000</td>\n",
              "      <td>4.000000</td>\n",
              "      <td>0.000000</td>\n",
              "      <td>0.520000</td>\n",
              "      <td>NaN</td>\n",
              "    </tr>\n",
              "    <tr>\n",
              "      <th>75%</th>\n",
              "      <td>7.000000</td>\n",
              "      <td>5.000000</td>\n",
              "      <td>NaN</td>\n",
              "      <td>NaN</td>\n",
              "      <td>92.900000</td>\n",
              "      <td>142.400000</td>\n",
              "      <td>713.900000</td>\n",
              "      <td>10.800000</td>\n",
              "      <td>22.800000</td>\n",
              "      <td>53.000000</td>\n",
              "      <td>4.900000</td>\n",
              "      <td>0.000000</td>\n",
              "      <td>6.570000</td>\n",
              "      <td>NaN</td>\n",
              "    </tr>\n",
              "    <tr>\n",
              "      <th>max</th>\n",
              "      <td>9.000000</td>\n",
              "      <td>9.000000</td>\n",
              "      <td>NaN</td>\n",
              "      <td>NaN</td>\n",
              "      <td>96.200000</td>\n",
              "      <td>291.300000</td>\n",
              "      <td>860.600000</td>\n",
              "      <td>56.100000</td>\n",
              "      <td>33.300000</td>\n",
              "      <td>100.000000</td>\n",
              "      <td>9.400000</td>\n",
              "      <td>6.400000</td>\n",
              "      <td>1090.840000</td>\n",
              "      <td>NaN</td>\n",
              "    </tr>\n",
              "  </tbody>\n",
              "</table>\n",
              "</div>"
            ],
            "text/plain": [
              "                 X           Y month  ...        rain         area  damage_category\n",
              "count   517.000000  517.000000   517  ...  517.000000   517.000000              517\n",
              "unique         NaN         NaN    12  ...         NaN          NaN                5\n",
              "top            NaN         NaN   aug  ...         NaN          NaN        No damage\n",
              "freq           NaN         NaN   184  ...         NaN          NaN              247\n",
              "mean      4.669246    4.299807   NaN  ...    0.021663    12.847292              NaN\n",
              "std       2.313778    1.229900   NaN  ...    0.295959    63.655818              NaN\n",
              "min       1.000000    2.000000   NaN  ...    0.000000     0.000000              NaN\n",
              "25%       3.000000    4.000000   NaN  ...    0.000000     0.000000              NaN\n",
              "50%       4.000000    4.000000   NaN  ...    0.000000     0.520000              NaN\n",
              "75%       7.000000    5.000000   NaN  ...    0.000000     6.570000              NaN\n",
              "max       9.000000    9.000000   NaN  ...    6.400000  1090.840000              NaN\n",
              "\n",
              "[11 rows x 14 columns]"
            ]
          },
          "metadata": {
            "tags": []
          },
          "execution_count": 24
        }
      ]
    },
    {
      "cell_type": "code",
      "metadata": {
        "id": "jfhlvVF0MuFw",
        "colab_type": "code",
        "colab": {
          "base_uri": "https://localhost:8080/",
          "height": 195
        },
        "outputId": "ada35eee-7460-479d-e8e8-fc5fe397c2aa"
      },
      "source": [
        "dataset.drop(columns= ['damage_category'], axis = 1, inplace = True)\n",
        "dataset.head()"
      ],
      "execution_count": null,
      "outputs": [
        {
          "output_type": "execute_result",
          "data": {
            "text/html": [
              "<div>\n",
              "<style scoped>\n",
              "    .dataframe tbody tr th:only-of-type {\n",
              "        vertical-align: middle;\n",
              "    }\n",
              "\n",
              "    .dataframe tbody tr th {\n",
              "        vertical-align: top;\n",
              "    }\n",
              "\n",
              "    .dataframe thead th {\n",
              "        text-align: right;\n",
              "    }\n",
              "</style>\n",
              "<table border=\"1\" class=\"dataframe\">\n",
              "  <thead>\n",
              "    <tr style=\"text-align: right;\">\n",
              "      <th></th>\n",
              "      <th>X</th>\n",
              "      <th>Y</th>\n",
              "      <th>month</th>\n",
              "      <th>day</th>\n",
              "      <th>FFMC</th>\n",
              "      <th>DMC</th>\n",
              "      <th>DC</th>\n",
              "      <th>ISI</th>\n",
              "      <th>temp</th>\n",
              "      <th>RH</th>\n",
              "      <th>wind</th>\n",
              "      <th>rain</th>\n",
              "      <th>area</th>\n",
              "    </tr>\n",
              "  </thead>\n",
              "  <tbody>\n",
              "    <tr>\n",
              "      <th>0</th>\n",
              "      <td>7</td>\n",
              "      <td>5</td>\n",
              "      <td>mar</td>\n",
              "      <td>fri</td>\n",
              "      <td>86.2</td>\n",
              "      <td>26.2</td>\n",
              "      <td>94.3</td>\n",
              "      <td>5.1</td>\n",
              "      <td>8.2</td>\n",
              "      <td>51</td>\n",
              "      <td>6.7</td>\n",
              "      <td>0.0</td>\n",
              "      <td>0.0</td>\n",
              "    </tr>\n",
              "    <tr>\n",
              "      <th>1</th>\n",
              "      <td>7</td>\n",
              "      <td>4</td>\n",
              "      <td>oct</td>\n",
              "      <td>tue</td>\n",
              "      <td>90.6</td>\n",
              "      <td>35.4</td>\n",
              "      <td>669.1</td>\n",
              "      <td>6.7</td>\n",
              "      <td>18.0</td>\n",
              "      <td>33</td>\n",
              "      <td>0.9</td>\n",
              "      <td>0.0</td>\n",
              "      <td>0.0</td>\n",
              "    </tr>\n",
              "    <tr>\n",
              "      <th>2</th>\n",
              "      <td>7</td>\n",
              "      <td>4</td>\n",
              "      <td>oct</td>\n",
              "      <td>sat</td>\n",
              "      <td>90.6</td>\n",
              "      <td>43.7</td>\n",
              "      <td>686.9</td>\n",
              "      <td>6.7</td>\n",
              "      <td>14.6</td>\n",
              "      <td>33</td>\n",
              "      <td>1.3</td>\n",
              "      <td>0.0</td>\n",
              "      <td>0.0</td>\n",
              "    </tr>\n",
              "    <tr>\n",
              "      <th>3</th>\n",
              "      <td>8</td>\n",
              "      <td>6</td>\n",
              "      <td>mar</td>\n",
              "      <td>fri</td>\n",
              "      <td>91.7</td>\n",
              "      <td>33.3</td>\n",
              "      <td>77.5</td>\n",
              "      <td>9.0</td>\n",
              "      <td>8.3</td>\n",
              "      <td>97</td>\n",
              "      <td>4.0</td>\n",
              "      <td>0.2</td>\n",
              "      <td>0.0</td>\n",
              "    </tr>\n",
              "    <tr>\n",
              "      <th>4</th>\n",
              "      <td>8</td>\n",
              "      <td>6</td>\n",
              "      <td>mar</td>\n",
              "      <td>sun</td>\n",
              "      <td>89.3</td>\n",
              "      <td>51.3</td>\n",
              "      <td>102.2</td>\n",
              "      <td>9.6</td>\n",
              "      <td>11.4</td>\n",
              "      <td>99</td>\n",
              "      <td>1.8</td>\n",
              "      <td>0.0</td>\n",
              "      <td>0.0</td>\n",
              "    </tr>\n",
              "  </tbody>\n",
              "</table>\n",
              "</div>"
            ],
            "text/plain": [
              "   X  Y month  day  FFMC   DMC     DC  ISI  temp  RH  wind  rain  area\n",
              "0  7  5   mar  fri  86.2  26.2   94.3  5.1   8.2  51   6.7   0.0   0.0\n",
              "1  7  4   oct  tue  90.6  35.4  669.1  6.7  18.0  33   0.9   0.0   0.0\n",
              "2  7  4   oct  sat  90.6  43.7  686.9  6.7  14.6  33   1.3   0.0   0.0\n",
              "3  8  6   mar  fri  91.7  33.3   77.5  9.0   8.3  97   4.0   0.2   0.0\n",
              "4  8  6   mar  sun  89.3  51.3  102.2  9.6  11.4  99   1.8   0.0   0.0"
            ]
          },
          "metadata": {
            "tags": []
          },
          "execution_count": 25
        }
      ]
    },
    {
      "cell_type": "code",
      "metadata": {
        "id": "pAvdDeJTLihq",
        "colab_type": "code",
        "colab": {
          "base_uri": "https://localhost:8080/",
          "height": 215
        },
        "outputId": "7743ec6f-5e1f-4290-b566-935d236fe5b8"
      },
      "source": [
        "# oN HOT ENCODING\n",
        "dataset = pd.get_dummies(dataset,columns=['day','month'],drop_first=True)\n",
        "dataset.head()"
      ],
      "execution_count": null,
      "outputs": [
        {
          "output_type": "execute_result",
          "data": {
            "text/html": [
              "<div>\n",
              "<style scoped>\n",
              "    .dataframe tbody tr th:only-of-type {\n",
              "        vertical-align: middle;\n",
              "    }\n",
              "\n",
              "    .dataframe tbody tr th {\n",
              "        vertical-align: top;\n",
              "    }\n",
              "\n",
              "    .dataframe thead th {\n",
              "        text-align: right;\n",
              "    }\n",
              "</style>\n",
              "<table border=\"1\" class=\"dataframe\">\n",
              "  <thead>\n",
              "    <tr style=\"text-align: right;\">\n",
              "      <th></th>\n",
              "      <th>X</th>\n",
              "      <th>Y</th>\n",
              "      <th>FFMC</th>\n",
              "      <th>DMC</th>\n",
              "      <th>DC</th>\n",
              "      <th>ISI</th>\n",
              "      <th>temp</th>\n",
              "      <th>RH</th>\n",
              "      <th>wind</th>\n",
              "      <th>rain</th>\n",
              "      <th>area</th>\n",
              "      <th>day_mon</th>\n",
              "      <th>day_sat</th>\n",
              "      <th>day_sun</th>\n",
              "      <th>day_thu</th>\n",
              "      <th>day_tue</th>\n",
              "      <th>day_wed</th>\n",
              "      <th>month_aug</th>\n",
              "      <th>month_dec</th>\n",
              "      <th>month_feb</th>\n",
              "      <th>month_jan</th>\n",
              "      <th>month_jul</th>\n",
              "      <th>month_jun</th>\n",
              "      <th>month_mar</th>\n",
              "      <th>month_may</th>\n",
              "      <th>month_nov</th>\n",
              "      <th>month_oct</th>\n",
              "      <th>month_sep</th>\n",
              "    </tr>\n",
              "  </thead>\n",
              "  <tbody>\n",
              "    <tr>\n",
              "      <th>0</th>\n",
              "      <td>7</td>\n",
              "      <td>5</td>\n",
              "      <td>86.2</td>\n",
              "      <td>26.2</td>\n",
              "      <td>94.3</td>\n",
              "      <td>5.1</td>\n",
              "      <td>8.2</td>\n",
              "      <td>51</td>\n",
              "      <td>6.7</td>\n",
              "      <td>0.0</td>\n",
              "      <td>0.0</td>\n",
              "      <td>0</td>\n",
              "      <td>0</td>\n",
              "      <td>0</td>\n",
              "      <td>0</td>\n",
              "      <td>0</td>\n",
              "      <td>0</td>\n",
              "      <td>0</td>\n",
              "      <td>0</td>\n",
              "      <td>0</td>\n",
              "      <td>0</td>\n",
              "      <td>0</td>\n",
              "      <td>0</td>\n",
              "      <td>1</td>\n",
              "      <td>0</td>\n",
              "      <td>0</td>\n",
              "      <td>0</td>\n",
              "      <td>0</td>\n",
              "    </tr>\n",
              "    <tr>\n",
              "      <th>1</th>\n",
              "      <td>7</td>\n",
              "      <td>4</td>\n",
              "      <td>90.6</td>\n",
              "      <td>35.4</td>\n",
              "      <td>669.1</td>\n",
              "      <td>6.7</td>\n",
              "      <td>18.0</td>\n",
              "      <td>33</td>\n",
              "      <td>0.9</td>\n",
              "      <td>0.0</td>\n",
              "      <td>0.0</td>\n",
              "      <td>0</td>\n",
              "      <td>0</td>\n",
              "      <td>0</td>\n",
              "      <td>0</td>\n",
              "      <td>1</td>\n",
              "      <td>0</td>\n",
              "      <td>0</td>\n",
              "      <td>0</td>\n",
              "      <td>0</td>\n",
              "      <td>0</td>\n",
              "      <td>0</td>\n",
              "      <td>0</td>\n",
              "      <td>0</td>\n",
              "      <td>0</td>\n",
              "      <td>0</td>\n",
              "      <td>1</td>\n",
              "      <td>0</td>\n",
              "    </tr>\n",
              "    <tr>\n",
              "      <th>2</th>\n",
              "      <td>7</td>\n",
              "      <td>4</td>\n",
              "      <td>90.6</td>\n",
              "      <td>43.7</td>\n",
              "      <td>686.9</td>\n",
              "      <td>6.7</td>\n",
              "      <td>14.6</td>\n",
              "      <td>33</td>\n",
              "      <td>1.3</td>\n",
              "      <td>0.0</td>\n",
              "      <td>0.0</td>\n",
              "      <td>0</td>\n",
              "      <td>1</td>\n",
              "      <td>0</td>\n",
              "      <td>0</td>\n",
              "      <td>0</td>\n",
              "      <td>0</td>\n",
              "      <td>0</td>\n",
              "      <td>0</td>\n",
              "      <td>0</td>\n",
              "      <td>0</td>\n",
              "      <td>0</td>\n",
              "      <td>0</td>\n",
              "      <td>0</td>\n",
              "      <td>0</td>\n",
              "      <td>0</td>\n",
              "      <td>1</td>\n",
              "      <td>0</td>\n",
              "    </tr>\n",
              "    <tr>\n",
              "      <th>3</th>\n",
              "      <td>8</td>\n",
              "      <td>6</td>\n",
              "      <td>91.7</td>\n",
              "      <td>33.3</td>\n",
              "      <td>77.5</td>\n",
              "      <td>9.0</td>\n",
              "      <td>8.3</td>\n",
              "      <td>97</td>\n",
              "      <td>4.0</td>\n",
              "      <td>0.2</td>\n",
              "      <td>0.0</td>\n",
              "      <td>0</td>\n",
              "      <td>0</td>\n",
              "      <td>0</td>\n",
              "      <td>0</td>\n",
              "      <td>0</td>\n",
              "      <td>0</td>\n",
              "      <td>0</td>\n",
              "      <td>0</td>\n",
              "      <td>0</td>\n",
              "      <td>0</td>\n",
              "      <td>0</td>\n",
              "      <td>0</td>\n",
              "      <td>1</td>\n",
              "      <td>0</td>\n",
              "      <td>0</td>\n",
              "      <td>0</td>\n",
              "      <td>0</td>\n",
              "    </tr>\n",
              "    <tr>\n",
              "      <th>4</th>\n",
              "      <td>8</td>\n",
              "      <td>6</td>\n",
              "      <td>89.3</td>\n",
              "      <td>51.3</td>\n",
              "      <td>102.2</td>\n",
              "      <td>9.6</td>\n",
              "      <td>11.4</td>\n",
              "      <td>99</td>\n",
              "      <td>1.8</td>\n",
              "      <td>0.0</td>\n",
              "      <td>0.0</td>\n",
              "      <td>0</td>\n",
              "      <td>0</td>\n",
              "      <td>1</td>\n",
              "      <td>0</td>\n",
              "      <td>0</td>\n",
              "      <td>0</td>\n",
              "      <td>0</td>\n",
              "      <td>0</td>\n",
              "      <td>0</td>\n",
              "      <td>0</td>\n",
              "      <td>0</td>\n",
              "      <td>0</td>\n",
              "      <td>1</td>\n",
              "      <td>0</td>\n",
              "      <td>0</td>\n",
              "      <td>0</td>\n",
              "      <td>0</td>\n",
              "    </tr>\n",
              "  </tbody>\n",
              "</table>\n",
              "</div>"
            ],
            "text/plain": [
              "   X  Y  FFMC   DMC  ...  month_may  month_nov  month_oct  month_sep\n",
              "0  7  5  86.2  26.2  ...          0          0          0          0\n",
              "1  7  4  90.6  35.4  ...          0          0          1          0\n",
              "2  7  4  90.6  43.7  ...          0          0          1          0\n",
              "3  8  6  91.7  33.3  ...          0          0          0          0\n",
              "4  8  6  89.3  51.3  ...          0          0          0          0\n",
              "\n",
              "[5 rows x 28 columns]"
            ]
          },
          "metadata": {
            "tags": []
          },
          "execution_count": 26
        }
      ]
    },
    {
      "cell_type": "code",
      "metadata": {
        "id": "VDReLygHAVkV",
        "colab_type": "code",
        "colab": {
          "base_uri": "https://localhost:8080/",
          "height": 166
        },
        "outputId": "4acd58a3-ae04-4f3f-d729-c2fbddfddaa2"
      },
      "source": [
        "# Addressing columns with outliers\n",
        "out_cols = ['area','FFMC','ISI', 'rain']\n",
        "\n",
        "dataset[out_cols].describe().T\n",
        "\n"
      ],
      "execution_count": null,
      "outputs": [
        {
          "output_type": "execute_result",
          "data": {
            "text/html": [
              "<div>\n",
              "<style scoped>\n",
              "    .dataframe tbody tr th:only-of-type {\n",
              "        vertical-align: middle;\n",
              "    }\n",
              "\n",
              "    .dataframe tbody tr th {\n",
              "        vertical-align: top;\n",
              "    }\n",
              "\n",
              "    .dataframe thead th {\n",
              "        text-align: right;\n",
              "    }\n",
              "</style>\n",
              "<table border=\"1\" class=\"dataframe\">\n",
              "  <thead>\n",
              "    <tr style=\"text-align: right;\">\n",
              "      <th></th>\n",
              "      <th>count</th>\n",
              "      <th>mean</th>\n",
              "      <th>std</th>\n",
              "      <th>min</th>\n",
              "      <th>25%</th>\n",
              "      <th>50%</th>\n",
              "      <th>75%</th>\n",
              "      <th>max</th>\n",
              "    </tr>\n",
              "  </thead>\n",
              "  <tbody>\n",
              "    <tr>\n",
              "      <th>area</th>\n",
              "      <td>517.0</td>\n",
              "      <td>12.847292</td>\n",
              "      <td>63.655818</td>\n",
              "      <td>0.0</td>\n",
              "      <td>0.0</td>\n",
              "      <td>0.52</td>\n",
              "      <td>6.57</td>\n",
              "      <td>1090.84</td>\n",
              "    </tr>\n",
              "    <tr>\n",
              "      <th>FFMC</th>\n",
              "      <td>517.0</td>\n",
              "      <td>90.644681</td>\n",
              "      <td>5.520111</td>\n",
              "      <td>18.7</td>\n",
              "      <td>90.2</td>\n",
              "      <td>91.60</td>\n",
              "      <td>92.90</td>\n",
              "      <td>96.20</td>\n",
              "    </tr>\n",
              "    <tr>\n",
              "      <th>ISI</th>\n",
              "      <td>517.0</td>\n",
              "      <td>9.021663</td>\n",
              "      <td>4.559477</td>\n",
              "      <td>0.0</td>\n",
              "      <td>6.5</td>\n",
              "      <td>8.40</td>\n",
              "      <td>10.80</td>\n",
              "      <td>56.10</td>\n",
              "    </tr>\n",
              "    <tr>\n",
              "      <th>rain</th>\n",
              "      <td>517.0</td>\n",
              "      <td>0.021663</td>\n",
              "      <td>0.295959</td>\n",
              "      <td>0.0</td>\n",
              "      <td>0.0</td>\n",
              "      <td>0.00</td>\n",
              "      <td>0.00</td>\n",
              "      <td>6.40</td>\n",
              "    </tr>\n",
              "  </tbody>\n",
              "</table>\n",
              "</div>"
            ],
            "text/plain": [
              "      count       mean        std   min   25%    50%    75%      max\n",
              "area  517.0  12.847292  63.655818   0.0   0.0   0.52   6.57  1090.84\n",
              "FFMC  517.0  90.644681   5.520111  18.7  90.2  91.60  92.90    96.20\n",
              "ISI   517.0   9.021663   4.559477   0.0   6.5   8.40  10.80    56.10\n",
              "rain  517.0   0.021663   0.295959   0.0   0.0   0.00   0.00     6.40"
            ]
          },
          "metadata": {
            "tags": []
          },
          "execution_count": 27
        }
      ]
    },
    {
      "cell_type": "code",
      "metadata": {
        "id": "Oy7ODW09BkLs",
        "colab_type": "code",
        "colab": {
          "base_uri": "https://localhost:8080/",
          "height": 101
        },
        "outputId": "df06c893-0e0a-4a9a-ec48-bb29d710ad64"
      },
      "source": [
        "# Using the log transformation check for skewness\n",
        "np.log1p(dataset[out_cols]).skew()"
      ],
      "execution_count": null,
      "outputs": [
        {
          "output_type": "execute_result",
          "data": {
            "text/plain": [
              "area     1.217838\n",
              "FFMC   -11.675394\n",
              "ISI     -0.937218\n",
              "rain    14.173028\n",
              "dtype: float64"
            ]
          },
          "metadata": {
            "tags": []
          },
          "execution_count": 28
        }
      ]
    },
    {
      "cell_type": "code",
      "metadata": {
        "id": "i1EsDSCDBnc3",
        "colab_type": "code",
        "colab": {
          "base_uri": "https://localhost:8080/",
          "height": 101
        },
        "outputId": "8b51785c-8338-4c13-8737-5fef8b71f22e"
      },
      "source": [
        "# using the log transformation check for outleirs/heavy tail\n",
        "np.log1p(dataset[out_cols]).kurtosis()"
      ],
      "execution_count": null,
      "outputs": [
        {
          "output_type": "execute_result",
          "data": {
            "text/plain": [
              "area      0.945668\n",
              "FFMC    185.482383\n",
              "ISI       2.584588\n",
              "rain    234.240025\n",
              "dtype: float64"
            ]
          },
          "metadata": {
            "tags": []
          },
          "execution_count": 29
        }
      ]
    },
    {
      "cell_type": "code",
      "metadata": {
        "id": "1wlcCpmJKmxL",
        "colab_type": "code",
        "colab": {
          "base_uri": "https://localhost:8080/",
          "height": 67
        },
        "outputId": "1461ea33-7a60-4431-8c22-c84535f916ed"
      },
      "source": [
        "# Checking for outliers in the target variable\n",
        "data_outliers2 = dataset[abs(zscore(dataset['FFMC'])>=3)]\n",
        "data_outliers2"
      ],
      "execution_count": null,
      "outputs": [
        {
          "output_type": "execute_result",
          "data": {
            "text/html": [
              "<div>\n",
              "<style scoped>\n",
              "    .dataframe tbody tr th:only-of-type {\n",
              "        vertical-align: middle;\n",
              "    }\n",
              "\n",
              "    .dataframe tbody tr th {\n",
              "        vertical-align: top;\n",
              "    }\n",
              "\n",
              "    .dataframe thead th {\n",
              "        text-align: right;\n",
              "    }\n",
              "</style>\n",
              "<table border=\"1\" class=\"dataframe\">\n",
              "  <thead>\n",
              "    <tr style=\"text-align: right;\">\n",
              "      <th></th>\n",
              "      <th>X</th>\n",
              "      <th>Y</th>\n",
              "      <th>FFMC</th>\n",
              "      <th>DMC</th>\n",
              "      <th>DC</th>\n",
              "      <th>ISI</th>\n",
              "      <th>temp</th>\n",
              "      <th>RH</th>\n",
              "      <th>wind</th>\n",
              "      <th>rain</th>\n",
              "      <th>area</th>\n",
              "      <th>day_mon</th>\n",
              "      <th>day_sat</th>\n",
              "      <th>day_sun</th>\n",
              "      <th>day_thu</th>\n",
              "      <th>day_tue</th>\n",
              "      <th>day_wed</th>\n",
              "      <th>month_aug</th>\n",
              "      <th>month_dec</th>\n",
              "      <th>month_feb</th>\n",
              "      <th>month_jan</th>\n",
              "      <th>month_jul</th>\n",
              "      <th>month_jun</th>\n",
              "      <th>month_mar</th>\n",
              "      <th>month_may</th>\n",
              "      <th>month_nov</th>\n",
              "      <th>month_oct</th>\n",
              "      <th>month_sep</th>\n",
              "    </tr>\n",
              "  </thead>\n",
              "  <tbody>\n",
              "  </tbody>\n",
              "</table>\n",
              "</div>"
            ],
            "text/plain": [
              "Empty DataFrame\n",
              "Columns: [X, Y, FFMC, DMC, DC, ISI, temp, RH, wind, rain, area, day_mon, day_sat, day_sun, day_thu, day_tue, day_wed, month_aug, month_dec, month_feb, month_jan, month_jul, month_jun, month_mar, month_may, month_nov, month_oct, month_sep]\n",
              "Index: []"
            ]
          },
          "metadata": {
            "tags": []
          },
          "execution_count": 30
        }
      ]
    },
    {
      "cell_type": "code",
      "metadata": {
        "id": "AYwQ9V5dCW9N",
        "colab_type": "code",
        "colab": {
          "base_uri": "https://localhost:8080/",
          "height": 215
        },
        "outputId": "4a241ecb-19f2-480e-d634-d171241adf9c"
      },
      "source": [
        "# FFMC and rain are still having high skew and kurtosis values and acknowledging that Linear regression models cannot operate with such high values\n",
        "# we thus choose to remove these points as outliers using the z-score criterion\n",
        "\n",
        "mask = dataset.loc[:,['FFMC']].apply(zscore).abs() < 3\n",
        "\n",
        "# Since most of the values in rain are 0.0, we can convert it as a categorical column\n",
        "dataset['rain'] = dataset['rain'].apply(lambda x: int(x > 0.0))\n",
        "\n",
        "dataset[mask.values]\n",
        "dataset.head()"
      ],
      "execution_count": null,
      "outputs": [
        {
          "output_type": "execute_result",
          "data": {
            "text/html": [
              "<div>\n",
              "<style scoped>\n",
              "    .dataframe tbody tr th:only-of-type {\n",
              "        vertical-align: middle;\n",
              "    }\n",
              "\n",
              "    .dataframe tbody tr th {\n",
              "        vertical-align: top;\n",
              "    }\n",
              "\n",
              "    .dataframe thead th {\n",
              "        text-align: right;\n",
              "    }\n",
              "</style>\n",
              "<table border=\"1\" class=\"dataframe\">\n",
              "  <thead>\n",
              "    <tr style=\"text-align: right;\">\n",
              "      <th></th>\n",
              "      <th>X</th>\n",
              "      <th>Y</th>\n",
              "      <th>FFMC</th>\n",
              "      <th>DMC</th>\n",
              "      <th>DC</th>\n",
              "      <th>ISI</th>\n",
              "      <th>temp</th>\n",
              "      <th>RH</th>\n",
              "      <th>wind</th>\n",
              "      <th>rain</th>\n",
              "      <th>area</th>\n",
              "      <th>day_mon</th>\n",
              "      <th>day_sat</th>\n",
              "      <th>day_sun</th>\n",
              "      <th>day_thu</th>\n",
              "      <th>day_tue</th>\n",
              "      <th>day_wed</th>\n",
              "      <th>month_aug</th>\n",
              "      <th>month_dec</th>\n",
              "      <th>month_feb</th>\n",
              "      <th>month_jan</th>\n",
              "      <th>month_jul</th>\n",
              "      <th>month_jun</th>\n",
              "      <th>month_mar</th>\n",
              "      <th>month_may</th>\n",
              "      <th>month_nov</th>\n",
              "      <th>month_oct</th>\n",
              "      <th>month_sep</th>\n",
              "    </tr>\n",
              "  </thead>\n",
              "  <tbody>\n",
              "    <tr>\n",
              "      <th>0</th>\n",
              "      <td>7</td>\n",
              "      <td>5</td>\n",
              "      <td>86.2</td>\n",
              "      <td>26.2</td>\n",
              "      <td>94.3</td>\n",
              "      <td>5.1</td>\n",
              "      <td>8.2</td>\n",
              "      <td>51</td>\n",
              "      <td>6.7</td>\n",
              "      <td>0</td>\n",
              "      <td>0.0</td>\n",
              "      <td>0</td>\n",
              "      <td>0</td>\n",
              "      <td>0</td>\n",
              "      <td>0</td>\n",
              "      <td>0</td>\n",
              "      <td>0</td>\n",
              "      <td>0</td>\n",
              "      <td>0</td>\n",
              "      <td>0</td>\n",
              "      <td>0</td>\n",
              "      <td>0</td>\n",
              "      <td>0</td>\n",
              "      <td>1</td>\n",
              "      <td>0</td>\n",
              "      <td>0</td>\n",
              "      <td>0</td>\n",
              "      <td>0</td>\n",
              "    </tr>\n",
              "    <tr>\n",
              "      <th>1</th>\n",
              "      <td>7</td>\n",
              "      <td>4</td>\n",
              "      <td>90.6</td>\n",
              "      <td>35.4</td>\n",
              "      <td>669.1</td>\n",
              "      <td>6.7</td>\n",
              "      <td>18.0</td>\n",
              "      <td>33</td>\n",
              "      <td>0.9</td>\n",
              "      <td>0</td>\n",
              "      <td>0.0</td>\n",
              "      <td>0</td>\n",
              "      <td>0</td>\n",
              "      <td>0</td>\n",
              "      <td>0</td>\n",
              "      <td>1</td>\n",
              "      <td>0</td>\n",
              "      <td>0</td>\n",
              "      <td>0</td>\n",
              "      <td>0</td>\n",
              "      <td>0</td>\n",
              "      <td>0</td>\n",
              "      <td>0</td>\n",
              "      <td>0</td>\n",
              "      <td>0</td>\n",
              "      <td>0</td>\n",
              "      <td>1</td>\n",
              "      <td>0</td>\n",
              "    </tr>\n",
              "    <tr>\n",
              "      <th>2</th>\n",
              "      <td>7</td>\n",
              "      <td>4</td>\n",
              "      <td>90.6</td>\n",
              "      <td>43.7</td>\n",
              "      <td>686.9</td>\n",
              "      <td>6.7</td>\n",
              "      <td>14.6</td>\n",
              "      <td>33</td>\n",
              "      <td>1.3</td>\n",
              "      <td>0</td>\n",
              "      <td>0.0</td>\n",
              "      <td>0</td>\n",
              "      <td>1</td>\n",
              "      <td>0</td>\n",
              "      <td>0</td>\n",
              "      <td>0</td>\n",
              "      <td>0</td>\n",
              "      <td>0</td>\n",
              "      <td>0</td>\n",
              "      <td>0</td>\n",
              "      <td>0</td>\n",
              "      <td>0</td>\n",
              "      <td>0</td>\n",
              "      <td>0</td>\n",
              "      <td>0</td>\n",
              "      <td>0</td>\n",
              "      <td>1</td>\n",
              "      <td>0</td>\n",
              "    </tr>\n",
              "    <tr>\n",
              "      <th>3</th>\n",
              "      <td>8</td>\n",
              "      <td>6</td>\n",
              "      <td>91.7</td>\n",
              "      <td>33.3</td>\n",
              "      <td>77.5</td>\n",
              "      <td>9.0</td>\n",
              "      <td>8.3</td>\n",
              "      <td>97</td>\n",
              "      <td>4.0</td>\n",
              "      <td>1</td>\n",
              "      <td>0.0</td>\n",
              "      <td>0</td>\n",
              "      <td>0</td>\n",
              "      <td>0</td>\n",
              "      <td>0</td>\n",
              "      <td>0</td>\n",
              "      <td>0</td>\n",
              "      <td>0</td>\n",
              "      <td>0</td>\n",
              "      <td>0</td>\n",
              "      <td>0</td>\n",
              "      <td>0</td>\n",
              "      <td>0</td>\n",
              "      <td>1</td>\n",
              "      <td>0</td>\n",
              "      <td>0</td>\n",
              "      <td>0</td>\n",
              "      <td>0</td>\n",
              "    </tr>\n",
              "    <tr>\n",
              "      <th>4</th>\n",
              "      <td>8</td>\n",
              "      <td>6</td>\n",
              "      <td>89.3</td>\n",
              "      <td>51.3</td>\n",
              "      <td>102.2</td>\n",
              "      <td>9.6</td>\n",
              "      <td>11.4</td>\n",
              "      <td>99</td>\n",
              "      <td>1.8</td>\n",
              "      <td>0</td>\n",
              "      <td>0.0</td>\n",
              "      <td>0</td>\n",
              "      <td>0</td>\n",
              "      <td>1</td>\n",
              "      <td>0</td>\n",
              "      <td>0</td>\n",
              "      <td>0</td>\n",
              "      <td>0</td>\n",
              "      <td>0</td>\n",
              "      <td>0</td>\n",
              "      <td>0</td>\n",
              "      <td>0</td>\n",
              "      <td>0</td>\n",
              "      <td>1</td>\n",
              "      <td>0</td>\n",
              "      <td>0</td>\n",
              "      <td>0</td>\n",
              "      <td>0</td>\n",
              "    </tr>\n",
              "  </tbody>\n",
              "</table>\n",
              "</div>"
            ],
            "text/plain": [
              "   X  Y  FFMC   DMC  ...  month_may  month_nov  month_oct  month_sep\n",
              "0  7  5  86.2  26.2  ...          0          0          0          0\n",
              "1  7  4  90.6  35.4  ...          0          0          1          0\n",
              "2  7  4  90.6  43.7  ...          0          0          1          0\n",
              "3  8  6  91.7  33.3  ...          0          0          0          0\n",
              "4  8  6  89.3  51.3  ...          0          0          0          0\n",
              "\n",
              "[5 rows x 28 columns]"
            ]
          },
          "metadata": {
            "tags": []
          },
          "execution_count": 31
        }
      ]
    },
    {
      "cell_type": "code",
      "metadata": {
        "id": "pKxopDhYHtiz",
        "colab_type": "code",
        "colab": {}
      },
      "source": [
        "out_cols.remove('rain')\n",
        "dataset[out_cols] = np.log1p(dataset[out_cols])\n",
        "\n",
        "\n"
      ],
      "execution_count": null,
      "outputs": []
    },
    {
      "cell_type": "code",
      "metadata": {
        "id": "A3iCdX0xIxfD",
        "colab_type": "code",
        "colab": {
          "base_uri": "https://localhost:8080/",
          "height": 84
        },
        "outputId": "ecf00d70-afb7-4260-ec8e-b03d62bfecd2"
      },
      "source": [
        "dataset[out_cols].skew()"
      ],
      "execution_count": null,
      "outputs": [
        {
          "output_type": "execute_result",
          "data": {
            "text/plain": [
              "area     1.217838\n",
              "FFMC   -11.675394\n",
              "ISI     -0.937218\n",
              "dtype: float64"
            ]
          },
          "metadata": {
            "tags": []
          },
          "execution_count": 33
        }
      ]
    },
    {
      "cell_type": "code",
      "metadata": {
        "id": "3OhdmHw_OJ-N",
        "colab_type": "code",
        "colab": {
          "base_uri": "https://localhost:8080/",
          "height": 84
        },
        "outputId": "dfc777dc-7753-414e-ecaa-84f378c8e0ea"
      },
      "source": [
        "dataset[out_cols].kurtosis()"
      ],
      "execution_count": null,
      "outputs": [
        {
          "output_type": "execute_result",
          "data": {
            "text/plain": [
              "area      0.945668\n",
              "FFMC    185.482383\n",
              "ISI       2.584588\n",
              "dtype: float64"
            ]
          },
          "metadata": {
            "tags": []
          },
          "execution_count": 34
        }
      ]
    },
    {
      "cell_type": "code",
      "metadata": {
        "id": "ur4ihEBDOWQh",
        "colab_type": "code",
        "colab": {
          "base_uri": "https://localhost:8080/",
          "height": 67
        },
        "outputId": "85a9c11e-da3c-485a-b0b7-52bb19f6ff01"
      },
      "source": [
        "# Checking for outliers in the target variable\n",
        "data_outliers = dataset[abs(zscore(dataset['FFMC'])>=3)]\n",
        "data_outliers"
      ],
      "execution_count": null,
      "outputs": [
        {
          "output_type": "execute_result",
          "data": {
            "text/html": [
              "<div>\n",
              "<style scoped>\n",
              "    .dataframe tbody tr th:only-of-type {\n",
              "        vertical-align: middle;\n",
              "    }\n",
              "\n",
              "    .dataframe tbody tr th {\n",
              "        vertical-align: top;\n",
              "    }\n",
              "\n",
              "    .dataframe thead th {\n",
              "        text-align: right;\n",
              "    }\n",
              "</style>\n",
              "<table border=\"1\" class=\"dataframe\">\n",
              "  <thead>\n",
              "    <tr style=\"text-align: right;\">\n",
              "      <th></th>\n",
              "      <th>X</th>\n",
              "      <th>Y</th>\n",
              "      <th>FFMC</th>\n",
              "      <th>DMC</th>\n",
              "      <th>DC</th>\n",
              "      <th>ISI</th>\n",
              "      <th>temp</th>\n",
              "      <th>RH</th>\n",
              "      <th>wind</th>\n",
              "      <th>rain</th>\n",
              "      <th>area</th>\n",
              "      <th>day_mon</th>\n",
              "      <th>day_sat</th>\n",
              "      <th>day_sun</th>\n",
              "      <th>day_thu</th>\n",
              "      <th>day_tue</th>\n",
              "      <th>day_wed</th>\n",
              "      <th>month_aug</th>\n",
              "      <th>month_dec</th>\n",
              "      <th>month_feb</th>\n",
              "      <th>month_jan</th>\n",
              "      <th>month_jul</th>\n",
              "      <th>month_jun</th>\n",
              "      <th>month_mar</th>\n",
              "      <th>month_may</th>\n",
              "      <th>month_nov</th>\n",
              "      <th>month_oct</th>\n",
              "      <th>month_sep</th>\n",
              "    </tr>\n",
              "  </thead>\n",
              "  <tbody>\n",
              "  </tbody>\n",
              "</table>\n",
              "</div>"
            ],
            "text/plain": [
              "Empty DataFrame\n",
              "Columns: [X, Y, FFMC, DMC, DC, ISI, temp, RH, wind, rain, area, day_mon, day_sat, day_sun, day_thu, day_tue, day_wed, month_aug, month_dec, month_feb, month_jan, month_jul, month_jun, month_mar, month_may, month_nov, month_oct, month_sep]\n",
              "Index: []"
            ]
          },
          "metadata": {
            "tags": []
          },
          "execution_count": 35
        }
      ]
    },
    {
      "cell_type": "code",
      "metadata": {
        "id": "jeciUjLFJBBk",
        "colab_type": "code",
        "colab": {
          "base_uri": "https://localhost:8080/",
          "height": 101
        },
        "outputId": "2c5a468e-ecd3-4992-a3d4-726669e65283"
      },
      "source": [
        "# Split dataframe into X and y\n",
        "X = dataset.iloc[:, :-1].values\n",
        "y = dataset.iloc[:, -1].values\n",
        "print(X.shape)\n",
        "print(y.shape)\n",
        "print(\"The total number of rows in the feature X dataset is\" + \" \" +  str(X.shape[0]))\n",
        "print(\"The total number of attributes in X is\" + \" \" +  str(X.shape[1]))\n",
        "print(\"The total number of observations in y is\" + \" \" + str(X.shape[1]))"
      ],
      "execution_count": null,
      "outputs": [
        {
          "output_type": "stream",
          "text": [
            "(517, 12)\n",
            "(517,)\n",
            "The total number of rows in the feature X dataset is 517\n",
            "The total number of attributes in X is 12\n",
            "The total number of observations in y is 12\n"
          ],
          "name": "stdout"
        }
      ]
    },
    {
      "cell_type": "code",
      "metadata": {
        "id": "NLzvJTqWJ5uZ",
        "colab_type": "code",
        "colab": {}
      },
      "source": [
        ""
      ],
      "execution_count": null,
      "outputs": []
    },
    {
      "cell_type": "code",
      "metadata": {
        "id": "-myTBL-QIp56",
        "colab_type": "code",
        "colab": {
          "base_uri": "https://localhost:8080/",
          "height": 67
        },
        "outputId": "7d2dde8d-5329-4a16-e164-e3979d5827de"
      },
      "source": [
        "# print first few rows of X\n",
        "print(X[0:3,:])"
      ],
      "execution_count": null,
      "outputs": [
        {
          "output_type": "stream",
          "text": [
            "[[7 5 'mar' 'fri' 86.2 26.2 94.3 5.1 8.2 51 6.7 0.0]\n",
            " [7 4 'oct' 'tue' 90.6 35.4 669.1 6.7 18.0 33 0.9 0.0]\n",
            " [7 4 'oct' 'sat' 90.6 43.7 686.9 6.7 14.6 33 1.3 0.0]]\n"
          ],
          "name": "stdout"
        }
      ]
    },
    {
      "cell_type": "code",
      "metadata": {
        "id": "pN-NZQ9mIzqq",
        "colab_type": "code",
        "colab": {
          "base_uri": "https://localhost:8080/",
          "height": 34
        },
        "outputId": "ddb0b054-4f47-4dc9-e1fe-2df14c17d081"
      },
      "source": [
        "# print first few rows of y\n",
        "print(y[0:5])"
      ],
      "execution_count": null,
      "outputs": [
        {
          "output_type": "stream",
          "text": [
            "[0. 0. 0. 0. 0.]\n"
          ],
          "name": "stdout"
        }
      ]
    },
    {
      "cell_type": "code",
      "metadata": {
        "id": "pE-Wu_9OI8zl",
        "colab_type": "code",
        "colab": {
          "base_uri": "https://localhost:8080/",
          "height": 134
        },
        "outputId": "8dafe7c8-1434-4cf6-e428-bcdebbfdd16a"
      },
      "source": [
        "# Taking care of categorical data in X (i.e. Encoding the Independent Variable)\n",
        "from sklearn.compose import ColumnTransformer\n",
        "from sklearn.preprocessing import OneHotEncoder\n",
        "ct = ColumnTransformer(transformers=[('encoder', OneHotEncoder(), [2, 3])], remainder='passthrough')\n",
        "X = np.array(ct.fit_transform(X))\n",
        "print(X[0:3])\n",
        "print(\"The new shape of feature matrix X after encoding is \",  X.shape)"
      ],
      "execution_count": null,
      "outputs": [
        {
          "output_type": "stream",
          "text": [
            "[[0.0 0.0 0.0 0.0 0.0 0.0 0.0 1.0 0.0 0.0 0.0 0.0 1.0 0.0 0.0 0.0 0.0 0.0\n",
            "  0.0 7 5 86.2 26.2 94.3 5.1 8.2 51 6.7 0.0]\n",
            " [0.0 0.0 0.0 0.0 0.0 0.0 0.0 0.0 0.0 0.0 1.0 0.0 0.0 0.0 0.0 0.0 0.0 1.0\n",
            "  0.0 7 4 90.6 35.4 669.1 6.7 18.0 33 0.9 0.0]\n",
            " [0.0 0.0 0.0 0.0 0.0 0.0 0.0 0.0 0.0 0.0 1.0 0.0 0.0 0.0 1.0 0.0 0.0 0.0\n",
            "  0.0 7 4 90.6 43.7 686.9 6.7 14.6 33 1.3 0.0]]\n",
            "The new shape of feature matrix X after encoding is  (517, 29)\n"
          ],
          "name": "stdout"
        }
      ]
    },
    {
      "cell_type": "code",
      "metadata": {
        "id": "ClnJJNzONoPP",
        "colab_type": "code",
        "colab": {
          "base_uri": "https://localhost:8080/",
          "height": 84
        },
        "outputId": "79ee7584-abbe-49e4-9ece-b2e97e61e19b"
      },
      "source": [
        "# Splitting the dataset into the Training set and Test set\n",
        "from sklearn.model_selection import train_test_split\n",
        "X_train, X_test, y_train, y_test = train_test_split(X, y, test_size = 0.2, random_state = 1)\n",
        "print(X_train.shape)\n",
        "print(X_test.shape)\n",
        "print(y_train.shape)\n",
        "print(y_test.shape)"
      ],
      "execution_count": null,
      "outputs": [
        {
          "output_type": "stream",
          "text": [
            "(413, 29)\n",
            "(104, 29)\n",
            "(413,)\n",
            "(104,)\n"
          ],
          "name": "stdout"
        }
      ]
    },
    {
      "cell_type": "markdown",
      "metadata": {
        "id": "d9Vr0cXoVHUR",
        "colab_type": "text"
      },
      "source": [
        "## Model 1: Multiple Linear Regression"
      ]
    },
    {
      "cell_type": "code",
      "metadata": {
        "id": "3pQ0tX4LVNu7",
        "colab_type": "code",
        "colab": {
          "base_uri": "https://localhost:8080/",
          "height": 34
        },
        "outputId": "3c49d28d-a65e-40ba-eaee-e2edf368cd07"
      },
      "source": [
        "# Train Model \n",
        "from sklearn.linear_model import LinearRegression\n",
        "regressor = LinearRegression()\n",
        "regressor.fit(X_train, y_train)\n",
        "print(\"\tThe coefficient of determination R^2 of the prediction.:\", regressor.score(X_train,y_train))"
      ],
      "execution_count": null,
      "outputs": [
        {
          "output_type": "stream",
          "text": [
            "\tThe coefficient of determination R^2 of the prediction.: 0.05293535775223334\n"
          ],
          "name": "stdout"
        }
      ]
    },
    {
      "cell_type": "code",
      "metadata": {
        "id": "set3f9Xue5A4",
        "colab_type": "code",
        "colab": {
          "base_uri": "https://localhost:8080/",
          "height": 1000
        },
        "outputId": "9a1f1a66-0671-4a4d-f8c4-7b9253290f98"
      },
      "source": [
        "# Predicting the Test set results\n",
        "y_pred = regressor.predict(X_test)\n",
        "np.set_printoptions(precision=2)\n",
        "print(np.concatenate((y_pred.reshape(len(y_pred),1), y_test.reshape(len(y_test),1)),1))"
      ],
      "execution_count": null,
      "outputs": [
        {
          "output_type": "stream",
          "text": [
            "[[-7.93e-01  5.20e-01]\n",
            " [ 1.82e+01  0.00e+00]\n",
            " [-1.78e+00  0.00e+00]\n",
            " [ 1.08e+01  3.59e+01]\n",
            " [ 1.15e+01  3.77e+01]\n",
            " [ 1.21e+01  0.00e+00]\n",
            " [ 2.74e+01  1.69e+00]\n",
            " [ 6.34e+00  0.00e+00]\n",
            " [ 2.22e+00  0.00e+00]\n",
            " [ 5.05e+01  3.95e+00]\n",
            " [ 2.04e+01  0.00e+00]\n",
            " [ 1.79e+01  0.00e+00]\n",
            " [ 3.96e+00  1.10e+00]\n",
            " [ 5.36e+00  0.00e+00]\n",
            " [ 3.95e+01  0.00e+00]\n",
            " [ 1.28e+01  0.00e+00]\n",
            " [ 1.72e+01  0.00e+00]\n",
            " [ 5.90e+00  7.31e+00]\n",
            " [ 3.10e+00  6.44e+00]\n",
            " [-6.68e+00  3.19e+00]\n",
            " [ 3.62e+01  1.11e+01]\n",
            " [-9.67e+00  0.00e+00]\n",
            " [-3.21e+00  3.71e+00]\n",
            " [ 1.93e+01  3.20e+00]\n",
            " [ 9.38e+00  0.00e+00]\n",
            " [ 1.58e+01  0.00e+00]\n",
            " [ 2.03e+01  0.00e+00]\n",
            " [ 2.65e+01  7.80e+00]\n",
            " [ 3.01e+00  0.00e+00]\n",
            " [ 1.90e+01  3.70e+01]\n",
            " [ 1.47e+01  9.96e+00]\n",
            " [ 6.65e+00  0.00e+00]\n",
            " [ 1.12e+01  0.00e+00]\n",
            " [ 1.66e+01  7.04e+00]\n",
            " [ 2.71e+01  1.03e+02]\n",
            " [ 1.81e+01  7.30e+00]\n",
            " [ 5.81e+00  1.58e+00]\n",
            " [ 2.91e+01  1.94e+00]\n",
            " [ 8.12e-01  8.71e+00]\n",
            " [ 1.09e+01  9.00e-02]\n",
            " [ 1.12e+01  2.46e+01]\n",
            " [-7.79e+00  0.00e+00]\n",
            " [ 3.00e+01  4.85e+01]\n",
            " [-7.09e+00  2.47e+00]\n",
            " [ 3.23e+01  3.32e+00]\n",
            " [-7.34e+00  0.00e+00]\n",
            " [ 4.05e+00  4.67e+01]\n",
            " [ 3.50e+01  1.94e+00]\n",
            " [ 6.78e+00  2.82e+01]\n",
            " [ 9.00e+00  5.83e+00]\n",
            " [ 2.57e+01  0.00e+00]\n",
            " [ 1.48e+01  7.46e+02]\n",
            " [ 3.68e+01  9.60e-01]\n",
            " [ 6.54e+00  0.00e+00]\n",
            " [ 3.45e+01  0.00e+00]\n",
            " [ 1.10e+01  1.60e+01]\n",
            " [ 2.11e+01  0.00e+00]\n",
            " [ 2.30e+01  0.00e+00]\n",
            " [ 2.08e+01  5.40e-01]\n",
            " [ 2.26e+01  0.00e+00]\n",
            " [ 1.20e+01  0.00e+00]\n",
            " [ 1.07e+01  6.10e+00]\n",
            " [ 2.48e+01  0.00e+00]\n",
            " [ 1.14e+01  1.75e+00]\n",
            " [ 1.12e+01  0.00e+00]\n",
            " [-6.03e+00  3.30e+00]\n",
            " [ 4.39e-01  0.00e+00]\n",
            " [ 2.19e+01  0.00e+00]\n",
            " [ 1.58e+01  6.11e+01]\n",
            " [ 7.94e+00  5.23e+00]\n",
            " [ 1.85e+01  1.86e+02]\n",
            " [ 3.04e+01  0.00e+00]\n",
            " [ 6.75e+00  6.57e+00]\n",
            " [ 4.80e+00  2.53e+00]\n",
            " [ 1.21e+01  8.85e+00]\n",
            " [-4.46e+00  1.08e+01]\n",
            " [ 1.96e+01  2.74e+00]\n",
            " [ 3.39e+01  0.00e+00]\n",
            " [ 2.29e+01  0.00e+00]\n",
            " [ 1.21e+01  1.29e+00]\n",
            " [-3.56e+00  0.00e+00]\n",
            " [ 8.78e-01  2.64e+00]\n",
            " [ 4.13e+00  8.28e+01]\n",
            " [ 2.71e+01  0.00e+00]\n",
            " [-4.35e+00  0.00e+00]\n",
            " [ 5.60e+00  8.24e+00]\n",
            " [-7.59e+00  0.00e+00]\n",
            " [ 9.76e+00  0.00e+00]\n",
            " [ 8.00e+00  1.01e+00]\n",
            " [ 3.52e+01  1.06e+02]\n",
            " [ 3.23e+01  0.00e+00]\n",
            " [ 3.53e+00  0.00e+00]\n",
            " [ 1.64e+01  1.40e+01]\n",
            " [ 8.27e+00  0.00e+00]\n",
            " [ 1.36e+00  0.00e+00]\n",
            " [ 8.17e+00  2.14e+00]\n",
            " [ 1.10e+01  6.80e-01]\n",
            " [-3.49e+00  0.00e+00]\n",
            " [ 2.49e+01  0.00e+00]\n",
            " [ 2.62e+01  6.43e+00]\n",
            " [ 2.78e+01  0.00e+00]\n",
            " [ 9.96e+00  0.00e+00]\n",
            " [ 2.27e+01  0.00e+00]\n",
            " [-1.17e+00  5.20e-01]]\n"
          ],
          "name": "stdout"
        }
      ]
    },
    {
      "cell_type": "code",
      "metadata": {
        "id": "8kAeniP0WLVL",
        "colab_type": "code",
        "colab": {
          "base_uri": "https://localhost:8080/",
          "height": 34
        },
        "outputId": "1e14eb1e-e030-4e68-ed5b-b51b95b6ca00"
      },
      "source": [
        "# Evaluate accuracy of model for training set\n",
        "from sklearn.metrics import r2_score\n",
        "print(\"The r2_score for linear regression model is:\", r2_score(y_pred,y_test))"
      ],
      "execution_count": null,
      "outputs": [
        {
          "output_type": "stream",
          "text": [
            "The r2_score for linear regression model is: -36.9466077018298\n"
          ],
          "name": "stdout"
        }
      ]
    },
    {
      "cell_type": "markdown",
      "metadata": {
        "id": "F3JauYVsbVUE",
        "colab_type": "text"
      },
      "source": [
        "##### Evaluating the fit of the model on the training set, we can clearly note that the model is bias (i.e. it fits the training set poorly). Therefore, it is not surprising to observe the poor result from the test set."
      ]
    },
    {
      "cell_type": "markdown",
      "metadata": {
        "id": "4_FGo_nIbyUU",
        "colab_type": "text"
      },
      "source": [
        "## Model 2: Polynomial Regression"
      ]
    },
    {
      "cell_type": "code",
      "metadata": {
        "id": "RI-rypOxcuoi",
        "colab_type": "code",
        "colab": {
          "base_uri": "https://localhost:8080/",
          "height": 34
        },
        "outputId": "d845ec1f-0d24-4d89-afdb-4fa9e405c11f"
      },
      "source": [
        "# Training the Polynomial Regression model on the whole dataset\n",
        "from sklearn.preprocessing import PolynomialFeatures\n",
        "poly_reg = PolynomialFeatures(degree = 3)\n",
        "X_poly = poly_reg.fit_transform(X_train)\n",
        "lin_reg_2 = LinearRegression()\n",
        "lin_reg_2.fit(X_poly, y_train)\n",
        "print(\"The coefficient of determination R^2 of the prediction:\",lin_reg_2.score(X_poly, y_train))"
      ],
      "execution_count": null,
      "outputs": [
        {
          "output_type": "stream",
          "text": [
            "The coefficient of determination R^2 of the prediction: 0.9998871774268282\n"
          ],
          "name": "stdout"
        }
      ]
    },
    {
      "cell_type": "code",
      "metadata": {
        "id": "OqTSdMzofCvf",
        "colab_type": "code",
        "colab": {
          "base_uri": "https://localhost:8080/",
          "height": 1000
        },
        "outputId": "4665e01c-6c6a-4cc0-92e0-35396a73d433"
      },
      "source": [
        "# Predicting the Test set results\n",
        "y_pred = lin_reg_2.predict(poly_reg.transform(X_test))\n",
        "np.set_printoptions(precision=2)\n",
        "print(np.concatenate((y_pred.reshape(len(y_pred),1), y_test.reshape(len(y_test),1)),1))"
      ],
      "execution_count": null,
      "outputs": [
        {
          "output_type": "stream",
          "text": [
            "[[ 1.48e+03  5.20e-01]\n",
            " [ 1.66e+02  0.00e+00]\n",
            " [ 1.20e+03  0.00e+00]\n",
            " [-5.69e+02  3.59e+01]\n",
            " [ 3.24e+02  3.77e+01]\n",
            " [-6.97e+03  0.00e+00]\n",
            " [ 5.28e-10  1.69e+00]\n",
            " [-1.89e+03  0.00e+00]\n",
            " [ 5.03e+03  0.00e+00]\n",
            " [-4.37e+03  3.95e+00]\n",
            " [-4.62e+02  0.00e+00]\n",
            " [ 3.52e+02  0.00e+00]\n",
            " [ 7.21e+02  1.10e+00]\n",
            " [ 1.87e+02  0.00e+00]\n",
            " [ 1.39e+02  0.00e+00]\n",
            " [-4.27e+01  0.00e+00]\n",
            " [-2.98e+02  0.00e+00]\n",
            " [ 6.76e+01  7.31e+00]\n",
            " [-1.50e+03  6.44e+00]\n",
            " [ 1.48e+03  3.19e+00]\n",
            " [ 1.70e+02  1.11e+01]\n",
            " [-4.42e+02  0.00e+00]\n",
            " [ 3.80e-10  3.71e+00]\n",
            " [-4.35e+02  3.20e+00]\n",
            " [-4.21e+02  0.00e+00]\n",
            " [ 4.59e+02  0.00e+00]\n",
            " [ 1.38e+02  0.00e+00]\n",
            " [-4.72e+02  7.80e+00]\n",
            " [ 1.45e+01  0.00e+00]\n",
            " [-1.19e+04  3.70e+01]\n",
            " [ 8.82e+02  9.96e+00]\n",
            " [-1.77e+03  0.00e+00]\n",
            " [ 4.98e+01  0.00e+00]\n",
            " [-2.82e+02  7.04e+00]\n",
            " [-8.43e+00  1.03e+02]\n",
            " [-1.21e+02  7.30e+00]\n",
            " [-3.01e+02  1.58e+00]\n",
            " [-1.36e+02  1.94e+00]\n",
            " [ 1.00e+01  8.71e+00]\n",
            " [ 8.84e+01  9.00e-02]\n",
            " [-3.05e+02  2.46e+01]\n",
            " [-9.50e+02  0.00e+00]\n",
            " [-1.24e+02  4.85e+01]\n",
            " [ 4.51e+02  2.47e+00]\n",
            " [-6.51e+02  3.32e+00]\n",
            " [-1.74e+02  0.00e+00]\n",
            " [ 1.09e+03  4.67e+01]\n",
            " [ 5.77e+02  1.94e+00]\n",
            " [-1.04e+02  2.82e+01]\n",
            " [-4.99e+01  5.83e+00]\n",
            " [ 8.14e+02  0.00e+00]\n",
            " [ 6.95e+01  7.46e+02]\n",
            " [ 1.07e+03  9.60e-01]\n",
            " [ 8.16e+00  0.00e+00]\n",
            " [-1.02e+02  0.00e+00]\n",
            " [-2.55e+02  1.60e+01]\n",
            " [ 8.91e+00  0.00e+00]\n",
            " [ 1.82e+02  0.00e+00]\n",
            " [-1.71e+02  5.40e-01]\n",
            " [ 4.73e+01  0.00e+00]\n",
            " [-6.15e+02  0.00e+00]\n",
            " [-6.45e+02  6.10e+00]\n",
            " [ 4.87e+01  0.00e+00]\n",
            " [-7.47e+00  1.75e+00]\n",
            " [-9.48e+02  0.00e+00]\n",
            " [ 8.50e+02  3.30e+00]\n",
            " [-6.12e+02  0.00e+00]\n",
            " [ 2.23e+02  0.00e+00]\n",
            " [-1.47e+03  6.11e+01]\n",
            " [-5.89e+02  5.23e+00]\n",
            " [-1.85e+03  1.86e+02]\n",
            " [-4.14e+02  0.00e+00]\n",
            " [-2.86e+03  6.57e+00]\n",
            " [-5.74e+02  2.53e+00]\n",
            " [ 8.58e+02  8.85e+00]\n",
            " [-2.40e+03  1.08e+01]\n",
            " [ 2.71e+02  2.74e+00]\n",
            " [ 3.50e+02  0.00e+00]\n",
            " [-2.00e+02  0.00e+00]\n",
            " [-5.19e+02  1.29e+00]\n",
            " [-2.91e+03  0.00e+00]\n",
            " [-4.22e+02  2.64e+00]\n",
            " [ 2.94e+02  8.28e+01]\n",
            " [-1.74e+02  0.00e+00]\n",
            " [ 1.22e+03  0.00e+00]\n",
            " [-2.85e+02  8.24e+00]\n",
            " [ 1.38e+03  0.00e+00]\n",
            " [-2.11e+03  0.00e+00]\n",
            " [-3.07e+02  1.01e+00]\n",
            " [ 8.89e+02  1.06e+02]\n",
            " [-6.51e+02  0.00e+00]\n",
            " [-5.65e+00  0.00e+00]\n",
            " [-4.31e+02  1.40e+01]\n",
            " [-4.17e+02  0.00e+00]\n",
            " [-2.94e+02  0.00e+00]\n",
            " [-5.60e+02  2.14e+00]\n",
            " [-4.10e+02  6.80e-01]\n",
            " [-1.65e+02  0.00e+00]\n",
            " [ 5.87e+02  0.00e+00]\n",
            " [-6.48e+02  6.43e+00]\n",
            " [ 7.62e+03  0.00e+00]\n",
            " [-4.13e+01  0.00e+00]\n",
            " [-8.23e+01  0.00e+00]\n",
            " [ 1.47e+03  5.20e-01]]\n"
          ],
          "name": "stdout"
        }
      ]
    },
    {
      "cell_type": "code",
      "metadata": {
        "id": "SU9ctOJTdIJo",
        "colab_type": "code",
        "colab": {
          "base_uri": "https://localhost:8080/",
          "height": 34
        },
        "outputId": "79b97d45-4dc5-4a9b-b97f-dd8da6f0aa91"
      },
      "source": [
        "# Evaluate accuracy of model for test set\n",
        "from sklearn.metrics import r2_score\n",
        "print(\"The r2_score for polynomial regression model of degree 3  is:\", r2_score(y_pred,y_test))"
      ],
      "execution_count": null,
      "outputs": [
        {
          "output_type": "stream",
          "text": [
            "The r2_score for polynomial regression model of degree 3  is: -0.023646537072645524\n"
          ],
          "name": "stdout"
        }
      ]
    },
    {
      "cell_type": "markdown",
      "metadata": {
        "id": "67bSk0KEfgPJ",
        "colab_type": "text"
      },
      "source": [
        "##### Evaluating the fit of the model on the training set, we can clearly note that the model fits well with the trianing data; however, the test set accuracy indicates the model does not genarluze well to untrained data. In fact, the negative value for R squared indicates an arbitarirly worse model. "
      ]
    },
    {
      "cell_type": "markdown",
      "metadata": {
        "id": "CySJso0UcFJr",
        "colab_type": "text"
      },
      "source": [
        "## Model 3: Decision Tree Regression"
      ]
    },
    {
      "cell_type": "code",
      "metadata": {
        "id": "zC7NteRxgcBh",
        "colab_type": "code",
        "colab": {
          "base_uri": "https://localhost:8080/",
          "height": 34
        },
        "outputId": "889b6c04-8b8e-45da-80c6-6b364806d929"
      },
      "source": [
        "# Training the Decision Tree Regression model on the whole dataset\n",
        "from sklearn.tree import DecisionTreeRegressor\n",
        "regressor = DecisionTreeRegressor(random_state = 0)\n",
        "regressor.fit(X_train, y_train)\n",
        "print(\"\tThe coefficient of determination R^2 of the prediction.:\", regressor.score(X_train,y_train))"
      ],
      "execution_count": null,
      "outputs": [
        {
          "output_type": "stream",
          "text": [
            "\tThe coefficient of determination R^2 of the prediction.: 0.9998871774268282\n"
          ],
          "name": "stdout"
        }
      ]
    },
    {
      "cell_type": "code",
      "metadata": {
        "id": "D1SmK4NqgfKB",
        "colab_type": "code",
        "colab": {
          "base_uri": "https://localhost:8080/",
          "height": 1000
        },
        "outputId": "98e24cab-4166-4241-b249-7f33b99b24d7"
      },
      "source": [
        "# Predicting the Test set results\n",
        "y_pred = regressor.predict(X_test)\n",
        "np.set_printoptions(precision=2)\n",
        "print(np.concatenate((y_pred.reshape(len(y_pred),1), y_test.reshape(len(y_test),1)),1))"
      ],
      "execution_count": null,
      "outputs": [
        {
          "output_type": "stream",
          "text": [
            "[[3.09e+00 5.20e-01]\n",
            " [3.50e+00 0.00e+00]\n",
            " [0.00e+00 0.00e+00]\n",
            " [0.00e+00 3.59e+01]\n",
            " [4.88e+00 3.77e+01]\n",
            " [2.21e+00 0.00e+00]\n",
            " [0.00e+00 1.69e+00]\n",
            " [0.00e+00 0.00e+00]\n",
            " [1.96e+02 0.00e+00]\n",
            " [0.00e+00 3.95e+00]\n",
            " [1.22e+01 0.00e+00]\n",
            " [2.74e+01 0.00e+00]\n",
            " [3.35e+00 1.10e+00]\n",
            " [8.68e+00 0.00e+00]\n",
            " [0.00e+00 0.00e+00]\n",
            " [2.13e+00 0.00e+00]\n",
            " [3.44e+01 0.00e+00]\n",
            " [1.75e+00 7.31e+00]\n",
            " [0.00e+00 6.44e+00]\n",
            " [7.50e-01 3.19e+00]\n",
            " [2.21e+00 1.11e+01]\n",
            " [7.50e-01 0.00e+00]\n",
            " [0.00e+00 3.71e+00]\n",
            " [2.44e+00 3.20e+00]\n",
            " [4.41e+00 0.00e+00]\n",
            " [0.00e+00 0.00e+00]\n",
            " [1.46e+01 0.00e+00]\n",
            " [0.00e+00 7.80e+00]\n",
            " [0.00e+00 0.00e+00]\n",
            " [0.00e+00 3.70e+01]\n",
            " [0.00e+00 9.96e+00]\n",
            " [7.02e+00 0.00e+00]\n",
            " [0.00e+00 0.00e+00]\n",
            " [0.00e+00 7.04e+00]\n",
            " [5.97e+00 1.03e+02]\n",
            " [1.15e+01 7.30e+00]\n",
            " [1.47e+00 1.58e+00]\n",
            " [2.60e+01 1.94e+00]\n",
            " [1.00e+01 8.71e+00]\n",
            " [2.44e+00 9.00e-02]\n",
            " [4.95e+00 2.46e+01]\n",
            " [0.00e+00 0.00e+00]\n",
            " [2.57e+00 4.85e+01]\n",
            " [0.00e+00 2.47e+00]\n",
            " [8.02e+00 3.32e+00]\n",
            " [0.00e+00 0.00e+00]\n",
            " [0.00e+00 4.67e+01]\n",
            " [7.40e+00 1.94e+00]\n",
            " [1.47e+00 2.82e+01]\n",
            " [2.18e+00 5.83e+00]\n",
            " [2.07e+00 0.00e+00]\n",
            " [0.00e+00 7.46e+02]\n",
            " [1.12e+01 9.60e-01]\n",
            " [8.16e+00 0.00e+00]\n",
            " [0.00e+00 0.00e+00]\n",
            " [2.87e+00 1.60e+01]\n",
            " [0.00e+00 0.00e+00]\n",
            " [1.63e+00 0.00e+00]\n",
            " [1.64e+01 5.40e-01]\n",
            " [4.53e+00 0.00e+00]\n",
            " [1.38e+00 0.00e+00]\n",
            " [5.55e+00 6.10e+00]\n",
            " [2.03e+00 0.00e+00]\n",
            " [3.19e+01 1.75e+00]\n",
            " [4.94e+01 0.00e+00]\n",
            " [0.00e+00 3.30e+00]\n",
            " [0.00e+00 0.00e+00]\n",
            " [0.00e+00 0.00e+00]\n",
            " [4.42e+00 6.11e+01]\n",
            " [0.00e+00 5.23e+00]\n",
            " [1.23e+00 1.86e+02]\n",
            " [1.43e+00 0.00e+00]\n",
            " [0.00e+00 6.57e+00]\n",
            " [0.00e+00 2.53e+00]\n",
            " [1.95e+00 8.85e+00]\n",
            " [5.86e+00 1.08e+01]\n",
            " [0.00e+00 2.74e+00]\n",
            " [0.00e+00 0.00e+00]\n",
            " [0.00e+00 0.00e+00]\n",
            " [1.00e+01 1.29e+00]\n",
            " [0.00e+00 0.00e+00]\n",
            " [7.02e+00 2.64e+00]\n",
            " [2.87e+00 8.28e+01]\n",
            " [0.00e+00 0.00e+00]\n",
            " [0.00e+00 0.00e+00]\n",
            " [0.00e+00 8.24e+00]\n",
            " [0.00e+00 0.00e+00]\n",
            " [4.40e+00 0.00e+00]\n",
            " [7.21e+00 1.01e+00]\n",
            " [0.00e+00 1.06e+02]\n",
            " [8.02e+00 0.00e+00]\n",
            " [2.10e-01 0.00e+00]\n",
            " [7.40e+00 1.40e+01]\n",
            " [5.18e+00 0.00e+00]\n",
            " [0.00e+00 0.00e+00]\n",
            " [5.39e+00 2.14e+00]\n",
            " [8.65e+01 6.80e-01]\n",
            " [0.00e+00 0.00e+00]\n",
            " [1.12e+00 0.00e+00]\n",
            " [0.00e+00 6.43e+00]\n",
            " [0.00e+00 0.00e+00]\n",
            " [3.44e+01 0.00e+00]\n",
            " [2.55e+00 0.00e+00]\n",
            " [0.00e+00 5.20e-01]]\n"
          ],
          "name": "stdout"
        }
      ]
    },
    {
      "cell_type": "code",
      "metadata": {
        "id": "19uee3aTgflP",
        "colab_type": "code",
        "colab": {
          "base_uri": "https://localhost:8080/",
          "height": 34
        },
        "outputId": "b5e28346-7ddf-4e6b-835b-020748995b6a"
      },
      "source": [
        "# Evaluate accuracy of model for test set\n",
        "from sklearn.metrics import r2_score\n",
        "print(\"The r2_score for decison tree regression model is:\", r2_score(y_pred,y_test))"
      ],
      "execution_count": null,
      "outputs": [
        {
          "output_type": "stream",
          "text": [
            "The r2_score for decison tree regression model is: -12.731453460711872\n"
          ],
          "name": "stdout"
        }
      ]
    },
    {
      "cell_type": "markdown",
      "metadata": {
        "id": "YisUDRTQhR13",
        "colab_type": "text"
      },
      "source": [
        "##### Evaluating the fit of the model on the training set, we can clearly note that the model fits well with the trianing data; however, the test set accuracy indicates the model does not genarluze well to untrained data. In fact, the negative value for R squared indicates an arbitarirly worse model. It is clear that something special needs to be done to improve the model from fitting with untrained data."
      ]
    },
    {
      "cell_type": "markdown",
      "metadata": {
        "id": "kylM4s_pcHEW",
        "colab_type": "text"
      },
      "source": [
        "## Model 4: Multiple Linear Regression but with log transformation on target variable"
      ]
    },
    {
      "cell_type": "code",
      "metadata": {
        "id": "NG25UHs0lImR",
        "colab_type": "code",
        "colab": {
          "base_uri": "https://localhost:8080/",
          "height": 151
        },
        "outputId": "6d043d51-734c-4ac2-8ad5-f4822043f27e"
      },
      "source": [
        "# Examine X dataset\n",
        "print(X)\n",
        "print(X.shape)\n"
      ],
      "execution_count": null,
      "outputs": [
        {
          "output_type": "stream",
          "text": [
            "[[0.0 0.0 0.0 ... 51 6.7 0.0]\n",
            " [0.0 0.0 0.0 ... 33 0.9 0.0]\n",
            " [0.0 0.0 0.0 ... 33 1.3 0.0]\n",
            " ...\n",
            " [0.0 1.0 0.0 ... 70 6.7 0.0]\n",
            " [0.0 1.0 0.0 ... 42 4.0 0.0]\n",
            " [0.0 0.0 0.0 ... 31 4.5 0.0]]\n",
            "(517, 29)\n"
          ],
          "name": "stdout"
        }
      ]
    },
    {
      "cell_type": "code",
      "metadata": {
        "id": "83Pd9vLnl3j3",
        "colab_type": "code",
        "colab": {
          "base_uri": "https://localhost:8080/",
          "height": 282
        },
        "outputId": "2e01ae44-b7e5-4a04-b8cf-045a226af5c5"
      },
      "source": [
        "# Examine and plot the  target variable y\n",
        "print(y.shape)\n",
        "dataset[\"area\"].hist()\n",
        "plt.show()"
      ],
      "execution_count": null,
      "outputs": [
        {
          "output_type": "stream",
          "text": [
            "(517,)\n"
          ],
          "name": "stdout"
        },
        {
          "output_type": "display_data",
          "data": {
            "image/png": "[encoded data removed]",
            "text/plain": [
              "<Figure size 432x288 with 1 Axes>"
            ]
          },
          "metadata": {
            "tags": [],
            "needs_background": "light"
          }
        }
      ]
    },
    {
      "cell_type": "code",
      "metadata": {
        "id": "G3IYdZ33mX-V",
        "colab_type": "code",
        "colab": {
          "base_uri": "https://localhost:8080/",
          "height": 229
        },
        "outputId": "c6c8450d-5652-45a4-cc88-a20181e0a821"
      },
      "source": [
        "# Transform the y varaible using a log transformation\n",
        "y_trans = np.log2(y)\n",
        "dataset[\"area_trans\"] = y_trans\n",
        "dataset.head()"
      ],
      "execution_count": null,
      "outputs": [
        {
          "output_type": "stream",
          "text": [
            "/usr/local/lib/python3.6/dist-packages/ipykernel_launcher.py:2: RuntimeWarning: divide by zero encountered in log2\n",
            "  \n"
          ],
          "name": "stderr"
        },
        {
          "output_type": "execute_result",
          "data": {
            "text/html": [
              "<div>\n",
              "<style scoped>\n",
              "    .dataframe tbody tr th:only-of-type {\n",
              "        vertical-align: middle;\n",
              "    }\n",
              "\n",
              "    .dataframe tbody tr th {\n",
              "        vertical-align: top;\n",
              "    }\n",
              "\n",
              "    .dataframe thead th {\n",
              "        text-align: right;\n",
              "    }\n",
              "</style>\n",
              "<table border=\"1\" class=\"dataframe\">\n",
              "  <thead>\n",
              "    <tr style=\"text-align: right;\">\n",
              "      <th></th>\n",
              "      <th>X</th>\n",
              "      <th>Y</th>\n",
              "      <th>month</th>\n",
              "      <th>day</th>\n",
              "      <th>FFMC</th>\n",
              "      <th>DMC</th>\n",
              "      <th>DC</th>\n",
              "      <th>ISI</th>\n",
              "      <th>temp</th>\n",
              "      <th>RH</th>\n",
              "      <th>wind</th>\n",
              "      <th>rain</th>\n",
              "      <th>area</th>\n",
              "      <th>area_trans</th>\n",
              "    </tr>\n",
              "  </thead>\n",
              "  <tbody>\n",
              "    <tr>\n",
              "      <th>0</th>\n",
              "      <td>7</td>\n",
              "      <td>5</td>\n",
              "      <td>mar</td>\n",
              "      <td>fri</td>\n",
              "      <td>86.2</td>\n",
              "      <td>26.2</td>\n",
              "      <td>94.3</td>\n",
              "      <td>5.1</td>\n",
              "      <td>8.2</td>\n",
              "      <td>51</td>\n",
              "      <td>6.7</td>\n",
              "      <td>0.0</td>\n",
              "      <td>0.0</td>\n",
              "      <td>-inf</td>\n",
              "    </tr>\n",
              "    <tr>\n",
              "      <th>1</th>\n",
              "      <td>7</td>\n",
              "      <td>4</td>\n",
              "      <td>oct</td>\n",
              "      <td>tue</td>\n",
              "      <td>90.6</td>\n",
              "      <td>35.4</td>\n",
              "      <td>669.1</td>\n",
              "      <td>6.7</td>\n",
              "      <td>18.0</td>\n",
              "      <td>33</td>\n",
              "      <td>0.9</td>\n",
              "      <td>0.0</td>\n",
              "      <td>0.0</td>\n",
              "      <td>-inf</td>\n",
              "    </tr>\n",
              "    <tr>\n",
              "      <th>2</th>\n",
              "      <td>7</td>\n",
              "      <td>4</td>\n",
              "      <td>oct</td>\n",
              "      <td>sat</td>\n",
              "      <td>90.6</td>\n",
              "      <td>43.7</td>\n",
              "      <td>686.9</td>\n",
              "      <td>6.7</td>\n",
              "      <td>14.6</td>\n",
              "      <td>33</td>\n",
              "      <td>1.3</td>\n",
              "      <td>0.0</td>\n",
              "      <td>0.0</td>\n",
              "      <td>-inf</td>\n",
              "    </tr>\n",
              "    <tr>\n",
              "      <th>3</th>\n",
              "      <td>8</td>\n",
              "      <td>6</td>\n",
              "      <td>mar</td>\n",
              "      <td>fri</td>\n",
              "      <td>91.7</td>\n",
              "      <td>33.3</td>\n",
              "      <td>77.5</td>\n",
              "      <td>9.0</td>\n",
              "      <td>8.3</td>\n",
              "      <td>97</td>\n",
              "      <td>4.0</td>\n",
              "      <td>0.2</td>\n",
              "      <td>0.0</td>\n",
              "      <td>-inf</td>\n",
              "    </tr>\n",
              "    <tr>\n",
              "      <th>4</th>\n",
              "      <td>8</td>\n",
              "      <td>6</td>\n",
              "      <td>mar</td>\n",
              "      <td>sun</td>\n",
              "      <td>89.3</td>\n",
              "      <td>51.3</td>\n",
              "      <td>102.2</td>\n",
              "      <td>9.6</td>\n",
              "      <td>11.4</td>\n",
              "      <td>99</td>\n",
              "      <td>1.8</td>\n",
              "      <td>0.0</td>\n",
              "      <td>0.0</td>\n",
              "      <td>-inf</td>\n",
              "    </tr>\n",
              "  </tbody>\n",
              "</table>\n",
              "</div>"
            ],
            "text/plain": [
              "   X  Y month  day  FFMC   DMC  ...  temp  RH  wind  rain  area  area_trans\n",
              "0  7  5   mar  fri  86.2  26.2  ...   8.2  51   6.7   0.0   0.0        -inf\n",
              "1  7  4   oct  tue  90.6  35.4  ...  18.0  33   0.9   0.0   0.0        -inf\n",
              "2  7  4   oct  sat  90.6  43.7  ...  14.6  33   1.3   0.0   0.0        -inf\n",
              "3  8  6   mar  fri  91.7  33.3  ...   8.3  97   4.0   0.2   0.0        -inf\n",
              "4  8  6   mar  sun  89.3  51.3  ...  11.4  99   1.8   0.0   0.0        -inf\n",
              "\n",
              "[5 rows x 14 columns]"
            ]
          },
          "metadata": {
            "tags": []
          },
          "execution_count": 29
        }
      ]
    },
    {
      "cell_type": "code",
      "metadata": {
        "id": "QtMwARVcm_m6",
        "colab_type": "code",
        "colab": {}
      },
      "source": [
        "# Examine and plot the transformed target variable y\n",
        "dataset[\"area_trans\"].hist()\n",
        "plt.show()"
      ],
      "execution_count": null,
      "outputs": []
    },
    {
      "cell_type": "code",
      "metadata": {
        "id": "B90IlQdAndyM",
        "colab_type": "code",
        "colab": {}
      },
      "source": [
        "# Splitting the dataset into the Training set and Test set\n",
        "from sklearn.model_selection import train_test_split\n",
        "X_train, X_test, y_train, y_test = train_test_split(X, y_trans, test_size = 0.2, random_state = 1)\n",
        "print(X_train.shape)\n",
        "print(X_test.shape)\n",
        "print(y_train.shape)\n",
        "print(y_test.shape)"
      ],
      "execution_count": null,
      "outputs": []
    },
    {
      "cell_type": "code",
      "metadata": {
        "id": "rwRatzywnxma",
        "colab_type": "code",
        "colab": {}
      },
      "source": [
        "# Train Model \n",
        "from sklearn.linear_model import LinearRegression\n",
        "regressor = LinearRegression()\n",
        "regressor.fit(X_train, y_train)\n",
        "print(\"\tThe coefficient of determination R^2 of the prediction.:\", regressor.score(X_train,y_train))"
      ],
      "execution_count": null,
      "outputs": []
    },
    {
      "cell_type": "markdown",
      "metadata": {
        "id": "j3hyDOSXcJHQ",
        "colab_type": "text"
      },
      "source": [
        "## Model 5: Multiple Linear Regression"
      ]
    },
    {
      "cell_type": "markdown",
      "metadata": {
        "id": "aSc_IN5JcKln",
        "colab_type": "text"
      },
      "source": [
        "## Model 6: Multiple Linear Regression"
      ]
    }
  ]
}
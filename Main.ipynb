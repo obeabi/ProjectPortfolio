{
 "cells": [
  {
   "cell_type": "markdown",
   "metadata": {},
   "source": [
    "# Acute Inflammations Data Set\n",
    "## Written by Abiola Obembe\n",
    "### Date: 13-06-2020"
   ]
  },
  {
   "cell_type": "code",
   "execution_count": 96,
   "metadata": {},
   "outputs": [
    {
     "name": "stdout",
     "output_type": "stream",
     "text": [
      "libraries installed!\n"
     ]
    }
   ],
   "source": [
    "# import dependencies\n",
    "import pandas as pd\n",
    "import numpy as np\n",
    "import matplotlib.pyplot as plt\n",
    "%matplotlib inline\n",
    "print('libraries installed!')"
   ]
  },
  {
   "cell_type": "code",
   "execution_count": 97,
   "metadata": {},
   "outputs": [
    {
     "data": {
      "text/html": [
       "<div>\n",
       "<style scoped>\n",
       "    .dataframe tbody tr th:only-of-type {\n",
       "        vertical-align: middle;\n",
       "    }\n",
       "\n",
       "    .dataframe tbody tr th {\n",
       "        vertical-align: top;\n",
       "    }\n",
       "\n",
       "    .dataframe thead th {\n",
       "        text-align: right;\n",
       "    }\n",
       "</style>\n",
       "<table border=\"1\" class=\"dataframe\">\n",
       "  <thead>\n",
       "    <tr style=\"text-align: right;\">\n",
       "      <th></th>\n",
       "      <th>Temperature of patient</th>\n",
       "      <th>Occurrence of nausea</th>\n",
       "      <th>Lumbar pain</th>\n",
       "      <th>Urine pushing (continuous need for urination)</th>\n",
       "      <th>Micturition pains</th>\n",
       "      <th>Burning of urethra. itch. swelling of urethra outlet</th>\n",
       "      <th>Inflammation of urinary bladder</th>\n",
       "      <th>Nephritis of renal pelvis origin</th>\n",
       "    </tr>\n",
       "  </thead>\n",
       "  <tbody>\n",
       "    <tr>\n",
       "      <th>0</th>\n",
       "      <td>35.5</td>\n",
       "      <td>no</td>\n",
       "      <td>yes</td>\n",
       "      <td>no</td>\n",
       "      <td>no</td>\n",
       "      <td>no</td>\n",
       "      <td>no</td>\n",
       "      <td>no</td>\n",
       "    </tr>\n",
       "    <tr>\n",
       "      <th>1</th>\n",
       "      <td>35.9</td>\n",
       "      <td>no</td>\n",
       "      <td>no</td>\n",
       "      <td>yes</td>\n",
       "      <td>yes</td>\n",
       "      <td>yes</td>\n",
       "      <td>yes</td>\n",
       "      <td>no</td>\n",
       "    </tr>\n",
       "    <tr>\n",
       "      <th>2</th>\n",
       "      <td>35.9</td>\n",
       "      <td>no</td>\n",
       "      <td>yes</td>\n",
       "      <td>no</td>\n",
       "      <td>no</td>\n",
       "      <td>no</td>\n",
       "      <td>no</td>\n",
       "      <td>no</td>\n",
       "    </tr>\n",
       "    <tr>\n",
       "      <th>3</th>\n",
       "      <td>36.0</td>\n",
       "      <td>no</td>\n",
       "      <td>no</td>\n",
       "      <td>yes</td>\n",
       "      <td>yes</td>\n",
       "      <td>yes</td>\n",
       "      <td>yes</td>\n",
       "      <td>no</td>\n",
       "    </tr>\n",
       "    <tr>\n",
       "      <th>4</th>\n",
       "      <td>36.0</td>\n",
       "      <td>no</td>\n",
       "      <td>yes</td>\n",
       "      <td>no</td>\n",
       "      <td>no</td>\n",
       "      <td>no</td>\n",
       "      <td>no</td>\n",
       "      <td>no</td>\n",
       "    </tr>\n",
       "  </tbody>\n",
       "</table>\n",
       "</div>"
      ],
      "text/plain": [
       "    Temperature of patient Occurrence of nausea  Lumbar pain  \\\n",
       "0                     35.5                    no         yes   \n",
       "1                     35.9                    no          no   \n",
       "2                     35.9                    no         yes   \n",
       "3                     36.0                    no          no   \n",
       "4                     36.0                    no         yes   \n",
       "\n",
       "  Urine pushing (continuous need for urination) Micturition pains  \\\n",
       "0                                            no                no   \n",
       "1                                           yes               yes   \n",
       "2                                            no                no   \n",
       "3                                           yes               yes   \n",
       "4                                            no                no   \n",
       "\n",
       "   Burning of urethra. itch. swelling of urethra outlet  \\\n",
       "0                                                 no      \n",
       "1                                                yes      \n",
       "2                                                 no      \n",
       "3                                                yes      \n",
       "4                                                 no      \n",
       "\n",
       "  Inflammation of urinary bladder Nephritis of renal pelvis origin  \n",
       "0                              no                               no  \n",
       "1                             yes                               no  \n",
       "2                              no                               no  \n",
       "3                             yes                               no  \n",
       "4                              no                               no  "
      ]
     },
     "execution_count": 97,
     "metadata": {},
     "output_type": "execute_result"
    }
   ],
   "source": [
    "# import dataset\n",
    "df = pd.read_csv('diagnosis_data.csv')\n",
    "df.head()"
   ]
  },
  {
   "cell_type": "markdown",
   "metadata": {},
   "source": [
    "## Data Cleaning and preprocessing"
   ]
  },
  {
   "cell_type": "code",
   "execution_count": 98,
   "metadata": {},
   "outputs": [
    {
     "name": "stdout",
     "output_type": "stream",
     "text": [
      "The number of missing values in the dataframe is: 0\n"
     ]
    }
   ],
   "source": [
    "# Check for missing values\n",
    "\n",
    "missing_values = df.isnull().sum()\n",
    "print(\"The number of missing values in the dataframe is:\",missing_values.sum())"
   ]
  },
  {
   "cell_type": "code",
   "execution_count": 99,
   "metadata": {},
   "outputs": [
    {
     "data": {
      "text/plain": [
       " Temperature of patient                                  float64\n",
       "Occurrence of nausea                                      object\n",
       "Lumbar pain                                               object\n",
       "Urine pushing (continuous need for urination)             object\n",
       "Micturition pains                                         object\n",
       " Burning of urethra. itch. swelling of urethra outlet     object\n",
       "Inflammation of urinary bladder                           object\n",
       "Nephritis of renal pelvis origin                          object\n",
       "dtype: object"
      ]
     },
     "execution_count": 99,
     "metadata": {},
     "output_type": "execute_result"
    }
   ],
   "source": [
    "# List the datatypes or object on dataframe\n",
    "df.dtypes"
   ]
  },
  {
   "cell_type": "code",
   "execution_count": 100,
   "metadata": {},
   "outputs": [
    {
     "name": "stdout",
     "output_type": "stream",
     "text": [
      "The number of rows in the raw dataframe is 120 and columns is 8\n"
     ]
    }
   ],
   "source": [
    "# Number of rows and columns\n",
    "print(\"The number of rows in the raw dataframe is\", df.shape[0], \"and columns is\", df.shape[1])"
   ]
  },
  {
   "cell_type": "code",
   "execution_count": 101,
   "metadata": {},
   "outputs": [],
   "source": [
    "# Split dataframe to X and y variables\n",
    "X = df.iloc[:,:-2].values\n",
    "y = df.iloc[:,-2:].values"
   ]
  },
  {
   "cell_type": "code",
   "execution_count": 102,
   "metadata": {},
   "outputs": [
    {
     "name": "stdout",
     "output_type": "stream",
     "text": [
      "[[35.5 'no' 'yes' 'no' 'no' 'no']\n",
      " [35.9 'no' 'no' 'yes' 'yes' 'yes']\n",
      " [35.9 'no' 'yes' 'no' 'no' 'no']]\n",
      "The shape of X before encoding is: (120, 6)\n"
     ]
    }
   ],
   "source": [
    "# Print first three rows of X\n",
    "print(X[0:3])\n",
    "print(\"The shape of X before encoding is:\", np.shape(X))"
   ]
  },
  {
   "cell_type": "code",
   "execution_count": 103,
   "metadata": {},
   "outputs": [
    {
     "name": "stdout",
     "output_type": "stream",
     "text": [
      "[['no' 'no']\n",
      " ['yes' 'no']\n",
      " ['no' 'no']]\n",
      "The shape of y before encoding is: (120, 2)\n"
     ]
    }
   ],
   "source": [
    "# Print first three rows of y\n",
    "print(y[0:3])\n",
    "print(\"The shape of y before encoding is:\", np.shape(y))"
   ]
  },
  {
   "cell_type": "code",
   "execution_count": 104,
   "metadata": {},
   "outputs": [
    {
     "name": "stdout",
     "output_type": "stream",
     "text": [
      "[[1.0 0.0 0.0 1.0 1.0 0.0 1.0 0.0 1.0 0.0 35.5]\n",
      " [1.0 0.0 1.0 0.0 0.0 1.0 0.0 1.0 0.0 1.0 35.9]\n",
      " [1.0 0.0 0.0 1.0 1.0 0.0 1.0 0.0 1.0 0.0 35.9]]\n",
      "The new shape of X is: (120, 11)\n"
     ]
    }
   ],
   "source": [
    "# Encoding categorical data\n",
    "# Encoding the Independent Variable\n",
    "from sklearn.compose import ColumnTransformer\n",
    "from sklearn.preprocessing import OneHotEncoder,MultiLabelBinarizer,LabelEncoder\n",
    "ct = ColumnTransformer(transformers=[('encoder', OneHotEncoder(), [1,2,3,4,5])], remainder='passthrough')\n",
    "X = np.array(ct.fit_transform(X))\n",
    "print(X[0:3])\n",
    "print(\"The new shape of X is:\", np.shape(X))"
   ]
  },
  {
   "cell_type": "code",
   "execution_count": 105,
   "metadata": {},
   "outputs": [],
   "source": [
    "# Encoding the target variables (Inflammation of urinary bladder and Nephritis of renal pelvis origin)\n",
    "#lb  = LabelEncoder()\n",
    "#y[:,0] = lb.fit_transform(y[:,0])\n",
    "#y[:,1] = lb.fit_transform(y[:,1])\n",
    "#print(y[0:3])\n",
    "#print(\"The new shape of y is:\", np.shape(y))\n",
    "#lb.classes_"
   ]
  },
  {
   "cell_type": "code",
   "execution_count": 106,
   "metadata": {},
   "outputs": [
    {
     "name": "stdout",
     "output_type": "stream",
     "text": [
      "[[1 0]\n",
      " [1 1]\n",
      " [1 0]]\n",
      "The new shape of y is: (120, 2)\n"
     ]
    },
    {
     "data": {
      "text/plain": [
       "array(['no', 'yes'], dtype=object)"
      ]
     },
     "execution_count": 106,
     "metadata": {},
     "output_type": "execute_result"
    }
   ],
   "source": [
    "# Encoding the target variables (Inflammation of urinary bladder and Nephritis of renal pelvis origin)\n",
    "mlb = MultiLabelBinarizer()\n",
    "y = mlb.fit_transform(y)\n",
    "print(y[0:3])\n",
    "print(\"The new shape of y is:\", np.shape(y))\n",
    "mlb.classes_"
   ]
  },
  {
   "cell_type": "code",
   "execution_count": 107,
   "metadata": {},
   "outputs": [
    {
     "name": "stdout",
     "output_type": "stream",
     "text": [
      "train set shape: (96, 11) (96, 2)\n",
      "test set shape: (24, 11) (24, 2)\n"
     ]
    }
   ],
   "source": [
    "# Splitting the dataset into the Training set and Test set\n",
    "from sklearn.model_selection import train_test_split\n",
    "X_train, X_test, y_train, y_test = train_test_split(X, y, test_size = 0.2, random_state = 0)\n",
    "\n",
    "print('train set shape:', X_train.shape, y_train.shape)\n",
    "print('test set shape:', X_test.shape, y_test.shape)"
   ]
  },
  {
   "cell_type": "code",
   "execution_count": 108,
   "metadata": {},
   "outputs": [],
   "source": [
    "# Scale the last column of X_train and X_test\n",
    "from sklearn.preprocessing import StandardScaler\n",
    "sc = StandardScaler()\n",
    "X_train[:,-1:] = sc.fit_transform(X_train[:,-1:])\n",
    "X_test[:,-1:] = sc.transform(X_test[:,-1:])\n"
   ]
  },
  {
   "cell_type": "code",
   "execution_count": 109,
   "metadata": {},
   "outputs": [
    {
     "name": "stdout",
     "output_type": "stream",
     "text": [
      "[[0.0 1.0 0.0 1.0 0.0 1.0 0.0 1.0 0.0 1.0 1.3153554620019605]\n",
      " [1.0 0.0 1.0 0.0 0.0 1.0 0.0 1.0 0.0 1.0 -1.1703556472930816]\n",
      " [1.0 0.0 1.0 0.0 0.0 1.0 1.0 0.0 1.0 0.0 -0.5627373761320744]]\n"
     ]
    }
   ],
   "source": [
    "# print first three rows of scaled X_train \n",
    "print(X_train[0:3])\n"
   ]
  },
  {
   "cell_type": "code",
   "execution_count": 110,
   "metadata": {},
   "outputs": [
    {
     "name": "stdout",
     "output_type": "stream",
     "text": [
      "[[1.0 0.0 1.0 0.0 0.0 1.0 0.0 1.0 1.0 0.0 -0.6179754007830722]\n",
      " [1.0 0.0 1.0 0.0 1.0 0.0 1.0 0.0 1.0 0.0 1.039165338746956]\n",
      " [0.0 1.0 0.0 1.0 1.0 0.0 0.0 1.0 1.0 0.0 1.039165338746956]]\n"
     ]
    }
   ],
   "source": [
    "# print first three rows of scaled X_test\n",
    "print(X_test[0:3])"
   ]
  },
  {
   "cell_type": "markdown",
   "metadata": {},
   "source": [
    "## Model training and testing"
   ]
  },
  {
   "cell_type": "markdown",
   "metadata": {},
   "source": [
    "### Model 1: KNN algorthim"
   ]
  },
  {
   "cell_type": "code",
   "execution_count": 111,
   "metadata": {},
   "outputs": [
    {
     "name": "stdout",
     "output_type": "stream",
     "text": [
      "[[1 1 1 1]\n",
      " [1 0 1 0]\n",
      " [1 1 1 1]\n",
      " [1 1 1 1]\n",
      " [1 1 1 1]\n",
      " [1 0 1 0]\n",
      " [1 0 1 0]\n",
      " [1 1 1 1]\n",
      " [1 1 1 1]\n",
      " [0 1 0 1]\n",
      " [1 1 1 1]\n",
      " [1 0 1 0]\n",
      " [1 0 1 0]\n",
      " [1 1 1 1]\n",
      " [1 1 1 1]\n",
      " [1 0 1 0]\n",
      " [1 1 1 1]\n",
      " [1 1 1 1]\n",
      " [1 0 1 0]\n",
      " [1 1 1 1]\n",
      " [1 1 1 1]\n",
      " [1 1 1 1]\n",
      " [1 1 1 1]\n",
      " [1 1 1 1]]\n"
     ]
    }
   ],
   "source": [
    "# Train with KNN \n",
    "from sklearn.multioutput import MultiOutputClassifier\n",
    "from sklearn.neighbors import KNeighborsClassifier\n",
    "clf = MultiOutputClassifier(KNeighborsClassifier(n_neighbors = 5, metric = 'minkowski', p = 2))\n",
    "clf.fit(X_train, y_train)\n",
    "\n",
    "\n",
    "# Predicting the Test set results\n",
    "y_pred = clf.predict(X_test)\n",
    "print(np.concatenate((y_pred.reshape(len(y_pred),2), y_test.reshape(len(y_test),2)),1))\n"
   ]
  },
  {
   "cell_type": "code",
   "execution_count": 112,
   "metadata": {},
   "outputs": [
    {
     "data": {
      "text/plain": [
       "1.0"
      ]
     },
     "execution_count": 112,
     "metadata": {},
     "output_type": "execute_result"
    }
   ],
   "source": [
    "# Checking for accuracy\n",
    "from sklearn.metrics import accuracy_score\n",
    "accuracy_score(y_test, y_pred)\n"
   ]
  },
  {
   "cell_type": "markdown",
   "metadata": {},
   "source": [
    "#### Model 1 accuracy (KNN algorthim) is 100%"
   ]
  },
  {
   "cell_type": "markdown",
   "metadata": {},
   "source": [
    "### Model 2: Logistic regression"
   ]
  },
  {
   "cell_type": "code",
   "execution_count": 113,
   "metadata": {},
   "outputs": [
    {
     "name": "stdout",
     "output_type": "stream",
     "text": [
      "[[1 1 1 1]\n",
      " [1 0 1 0]\n",
      " [1 1 1 1]\n",
      " [1 1 1 1]\n",
      " [1 1 1 1]\n",
      " [1 0 1 0]\n",
      " [1 0 1 0]\n",
      " [1 1 1 1]\n",
      " [1 1 1 1]\n",
      " [0 1 0 1]\n",
      " [1 1 1 1]\n",
      " [1 0 1 0]\n",
      " [1 0 1 0]\n",
      " [1 1 1 1]\n",
      " [1 1 1 1]\n",
      " [1 0 1 0]\n",
      " [1 1 1 1]\n",
      " [1 1 1 1]\n",
      " [1 0 1 0]\n",
      " [1 1 1 1]\n",
      " [1 1 1 1]\n",
      " [1 1 1 1]\n",
      " [1 1 1 1]\n",
      " [1 1 1 1]]\n"
     ]
    }
   ],
   "source": [
    "# Training the Logistic Regression model on the Training set\n",
    "from sklearn.multioutput import MultiOutputClassifier\n",
    "from sklearn.linear_model import LogisticRegression\n",
    "clf = MultiOutputClassifier(LogisticRegression(random_state = 0))\n",
    "clf.fit(X_train, y_train)\n",
    "\n",
    "# Predicting the Test set results\n",
    "y_pred = clf.predict(X_test)\n",
    "print(np.concatenate((y_pred.reshape(len(y_pred),2), y_test.reshape(len(y_test),2)),1))"
   ]
  },
  {
   "cell_type": "code",
   "execution_count": 114,
   "metadata": {},
   "outputs": [
    {
     "data": {
      "text/plain": [
       "1.0"
      ]
     },
     "execution_count": 114,
     "metadata": {},
     "output_type": "execute_result"
    }
   ],
   "source": [
    "# Checking for accuracy\n",
    "from sklearn.metrics import accuracy_score\n",
    "accuracy_score(y_test, y_pred)"
   ]
  },
  {
   "cell_type": "markdown",
   "metadata": {},
   "source": [
    "#### Model 2 accuracy for (Logistic Regression algorthim) is 100%"
   ]
  },
  {
   "cell_type": "markdown",
   "metadata": {},
   "source": [
    "### Model 3 : Random Forrest Classifier"
   ]
  },
  {
   "cell_type": "code",
   "execution_count": 115,
   "metadata": {},
   "outputs": [
    {
     "name": "stdout",
     "output_type": "stream",
     "text": [
      "[[1 1 1 1]\n",
      " [1 0 1 0]\n",
      " [1 1 1 1]\n",
      " [1 1 1 1]\n",
      " [1 1 1 1]\n",
      " [1 0 1 0]\n",
      " [1 0 1 0]\n",
      " [1 1 1 1]\n",
      " [1 1 1 1]\n",
      " [0 1 0 1]\n",
      " [1 1 1 1]\n",
      " [1 0 1 0]\n",
      " [1 0 1 0]\n",
      " [1 1 1 1]\n",
      " [1 1 1 1]\n",
      " [1 0 1 0]\n",
      " [1 1 1 1]\n",
      " [1 1 1 1]\n",
      " [1 0 1 0]\n",
      " [1 1 1 1]\n",
      " [1 1 1 1]\n",
      " [1 1 1 1]\n",
      " [1 1 1 1]\n",
      " [1 1 1 1]]\n"
     ]
    }
   ],
   "source": [
    "# Training the random classifier on the Training set\n",
    "from sklearn.ensemble import RandomForestClassifier\n",
    "clf = RandomForestClassifier(n_estimators=10, criterion='entropy', max_depth=None, random_state=0)\n",
    "clf.fit(X_train, y_train)\n",
    "\n",
    "# Predicting the Test set results\n",
    "y_pred = clf.predict(X_test)\n",
    "print(np.concatenate((y_pred.reshape(len(y_pred),2), y_test.reshape(len(y_test),2)),1))"
   ]
  },
  {
   "cell_type": "code",
   "execution_count": 116,
   "metadata": {},
   "outputs": [
    {
     "data": {
      "text/plain": [
       "1.0"
      ]
     },
     "execution_count": 116,
     "metadata": {},
     "output_type": "execute_result"
    }
   ],
   "source": [
    "# Checking for accuracy\n",
    "from sklearn.metrics import accuracy_score\n",
    "accuracy_score(y_test, y_pred)"
   ]
  },
  {
   "cell_type": "markdown",
   "metadata": {},
   "source": [
    "#### Model 3 accuracy  (random forest classifier) is 100%"
   ]
  },
  {
   "cell_type": "markdown",
   "metadata": {},
   "source": [
    "## Model 4: Naive-Bayes Classifier"
   ]
  },
  {
   "cell_type": "code",
   "execution_count": 117,
   "metadata": {},
   "outputs": [
    {
     "name": "stdout",
     "output_type": "stream",
     "text": [
      "[[1 1 1 1]\n",
      " [1 0 1 0]\n",
      " [1 1 1 1]\n",
      " [1 1 1 1]\n",
      " [1 1 1 1]\n",
      " [1 0 1 0]\n",
      " [1 0 1 0]\n",
      " [1 1 1 1]\n",
      " [1 1 1 1]\n",
      " [0 1 0 1]\n",
      " [1 1 1 1]\n",
      " [1 0 1 0]\n",
      " [1 0 1 0]\n",
      " [1 1 1 1]\n",
      " [1 1 1 1]\n",
      " [1 0 1 0]\n",
      " [1 1 1 1]\n",
      " [1 1 1 1]\n",
      " [1 0 1 0]\n",
      " [1 1 1 1]\n",
      " [1 1 1 1]\n",
      " [1 1 1 1]\n",
      " [1 1 1 1]\n",
      " [1 1 1 1]]\n"
     ]
    }
   ],
   "source": [
    "# Training the Naive-Bayes classifier on the Training set\n",
    "from sklearn.multioutput import MultiOutputClassifier\n",
    "from sklearn.naive_bayes import GaussianNB\n",
    "clf = MultiOutputClassifier(GaussianNB())\n",
    "clf.fit(X_train, y_train)\n",
    "\n",
    "# Predicting the Test set results\n",
    "y_pred = clf.predict(X_test)\n",
    "print(np.concatenate((y_pred.reshape(len(y_pred),2), y_test.reshape(len(y_test),2)),1))"
   ]
  },
  {
   "cell_type": "code",
   "execution_count": 118,
   "metadata": {},
   "outputs": [
    {
     "data": {
      "text/plain": [
       "1.0"
      ]
     },
     "execution_count": 118,
     "metadata": {},
     "output_type": "execute_result"
    }
   ],
   "source": [
    "# Checking for accuracy\n",
    "from sklearn.metrics import accuracy_score\n",
    "accuracy_score(y_test, y_pred)"
   ]
  },
  {
   "cell_type": "markdown",
   "metadata": {},
   "source": [
    "### Model 4 accuracy (Naive- Bayes) is 100%"
   ]
  },
  {
   "cell_type": "code",
   "execution_count": null,
   "metadata": {},
   "outputs": [],
   "source": []
  }
 ],
 "metadata": {
  "kernelspec": {
   "display_name": "Python 3",
   "language": "python",
   "name": "python3"
  },
  "language_info": {
   "codemirror_mode": {
    "name": "ipython",
    "version": 3
   },
   "file_extension": ".py",
   "mimetype": "text/x-python",
   "name": "python",
   "nbconvert_exporter": "python",
   "pygments_lexer": "ipython3",
   "version": "3.7.6"
  }
 },
 "nbformat": 4,
 "nbformat_minor": 4
}

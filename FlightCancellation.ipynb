{
  "nbformat": 4,
  "nbformat_minor": 0,
  "metadata": {
    "colab": {
      "name": "FlightCancellation.ipynb",
      "provenance": [],
      "authorship_tag": "ABX9TyMotJhitEacJ2I/JKL0buja",
      "include_colab_link": true
    },
    "kernelspec": {
      "name": "python3",
      "display_name": "Python 3"
    }
  },
  "cells": [
    {
      "cell_type": "markdown",
      "metadata": {
        "id": "view-in-github",
        "colab_type": "text"
      },
      "source": [
        "<a href=\"https://colab.research.google.com/github/obeabi/ProjectPortfolio/blob/master/FlightCancellation.ipynb\" target=\"_parent\"><img src=\"https://colab.research.google.com/assets/colab-badge.svg\" alt=\"Open In Colab\"/></a>"
      ]
    },
    {
      "cell_type": "markdown",
      "metadata": {
        "id": "gW-CD9qPUXiR"
      },
      "source": [
        "# Written by Abiola Obembe\n",
        "# SDS Challenge #1 - Flight Cancellations\n",
        "## 2020-10-30\n",
        "\n"
      ]
    },
    {
      "cell_type": "markdown",
      "metadata": {
        "id": "BaT4o-v0Up4V"
      },
      "source": [
        "## Problem Statement\n",
        "I have been hired by the US Department of Transportation (DOT) to analyze data from multiple airline carriers in the United States. The DOT wants to help airline carriers reduce the number of flight cancellations and improve travelers' experiences. My job is to help the DOT predict whether or not a flight will be canceled based on the data provided."
      ]
    },
    {
      "cell_type": "markdown",
      "metadata": {
        "id": "Nvyy8tV7VEZ5"
      },
      "source": [
        "### Data Preprocessing Tools"
      ]
    },
    {
      "cell_type": "code",
      "metadata": {
        "id": "UsUbaYb6VCZ_",
        "outputId": "24bbebae-4995-4622-90ff-41d9a01117a2",
        "colab": {
          "base_uri": "https://localhost:8080/"
        }
      },
      "source": [
        "\n",
        "# Importing the libraries\n",
        "import numpy as np\n",
        "import matplotlib.pyplot as plt\n",
        "import pandas as pd\n",
        "import seaborn as sns\n",
        "\n",
        "%matplotlib inline\n",
        "plt.rcParams['figure.figsize'] = (5.0, 4.0) # set default size of plots\n",
        "plt.rcParams['image.interpolation'] = 'nearest'\n",
        "plt.rcParams['image.cmap'] = 'gray'\n",
        "\n",
        "print('Libraries installed successfully!')"
      ],
      "execution_count": 43,
      "outputs": [
        {
          "output_type": "stream",
          "text": [
            "Libraries installed successfully!\n"
          ],
          "name": "stdout"
        }
      ]
    },
    {
      "cell_type": "code",
      "metadata": {
        "id": "IAN_VFooV8lb"
      },
      "source": [
        "# Importing the dataset and check the shape and total number of missing values\n",
        "\n",
        "df_train = pd.read_csv('public_flights.csv')\n",
        "\n",
        "df_train.head()\n",
        "target = 'CANCELLED'\n"
      ],
      "execution_count": 98,
      "outputs": []
    },
    {
      "cell_type": "code",
      "metadata": {
        "id": "Qy0G7oUKh0wV",
        "outputId": "4f2fa22b-669f-4c6e-ee68-fdb6b87ae9a6",
        "colab": {
          "base_uri": "https://localhost:8080/"
        }
      },
      "source": [
        "# Importing the train-set nd check the shape and total number of missing values\n",
        "\n",
        "print(\"The shape of the train-set is:\", (df_train.shape))\n",
        "print(\"The number of rows in the train-set is:\", str(df_train.shape[0]))\n",
        "print(\"The number of columns in the train-set is:\", str(df_train.shape[1]))\n",
        "\n",
        "missing_valuestrain = df_train.isnull().sum().sum()\n",
        "\n",
        "print(\"The number of missing values in the train-set is:\", str(missing_valuestrain))"
      ],
      "execution_count": 45,
      "outputs": [
        {
          "output_type": "stream",
          "text": [
            "The shape of the train-set is: (838858, 14)\n",
            "The number of rows in the train-set is: 838858\n",
            "The number of columns in the train-set is: 14\n",
            "The number of missing values in the train-set is: 5983\n"
          ],
          "name": "stdout"
        }
      ]
    },
    {
      "cell_type": "code",
      "metadata": {
        "id": "xCbWRNp_n7RS",
        "outputId": "3811235f-4784-44a5-8925-67b0b09dfd7f",
        "colab": {
          "base_uri": "https://localhost:8080/",
          "height": 195
        }
      },
      "source": [
        "# create dataframe for test test\n",
        "df_test = pd.read_csv('pred_flights.csv')\n",
        "df_test.head()"
      ],
      "execution_count": 46,
      "outputs": [
        {
          "output_type": "execute_result",
          "data": {
            "text/html": [
              "<div>\n",
              "<style scoped>\n",
              "    .dataframe tbody tr th:only-of-type {\n",
              "        vertical-align: middle;\n",
              "    }\n",
              "\n",
              "    .dataframe tbody tr th {\n",
              "        vertical-align: top;\n",
              "    }\n",
              "\n",
              "    .dataframe thead th {\n",
              "        text-align: right;\n",
              "    }\n",
              "</style>\n",
              "<table border=\"1\" class=\"dataframe\">\n",
              "  <thead>\n",
              "    <tr style=\"text-align: right;\">\n",
              "      <th></th>\n",
              "      <th>2015</th>\n",
              "      <th>2</th>\n",
              "      <th>25</th>\n",
              "      <th>3</th>\n",
              "      <th>WN</th>\n",
              "      <th>1046</th>\n",
              "      <th>N731SA</th>\n",
              "      <th>LAS</th>\n",
              "      <th>PHX</th>\n",
              "      <th>700</th>\n",
              "      <th>65</th>\n",
              "      <th>255</th>\n",
              "      <th>905</th>\n",
              "    </tr>\n",
              "  </thead>\n",
              "  <tbody>\n",
              "    <tr>\n",
              "      <th>0</th>\n",
              "      <td>2015</td>\n",
              "      <td>2</td>\n",
              "      <td>25</td>\n",
              "      <td>3</td>\n",
              "      <td>WN</td>\n",
              "      <td>2251</td>\n",
              "      <td>N279WN</td>\n",
              "      <td>LAS</td>\n",
              "      <td>RNO</td>\n",
              "      <td>700</td>\n",
              "      <td>80</td>\n",
              "      <td>345</td>\n",
              "      <td>820</td>\n",
              "    </tr>\n",
              "    <tr>\n",
              "      <th>1</th>\n",
              "      <td>2015</td>\n",
              "      <td>2</td>\n",
              "      <td>25</td>\n",
              "      <td>3</td>\n",
              "      <td>WN</td>\n",
              "      <td>857</td>\n",
              "      <td>N277WN</td>\n",
              "      <td>LAS</td>\n",
              "      <td>SMF</td>\n",
              "      <td>700</td>\n",
              "      <td>90</td>\n",
              "      <td>397</td>\n",
              "      <td>830</td>\n",
              "    </tr>\n",
              "    <tr>\n",
              "      <th>2</th>\n",
              "      <td>2015</td>\n",
              "      <td>2</td>\n",
              "      <td>25</td>\n",
              "      <td>3</td>\n",
              "      <td>WN</td>\n",
              "      <td>2864</td>\n",
              "      <td>N8632A</td>\n",
              "      <td>LAX</td>\n",
              "      <td>BWI</td>\n",
              "      <td>700</td>\n",
              "      <td>295</td>\n",
              "      <td>2329</td>\n",
              "      <td>1455</td>\n",
              "    </tr>\n",
              "    <tr>\n",
              "      <th>3</th>\n",
              "      <td>2015</td>\n",
              "      <td>2</td>\n",
              "      <td>25</td>\n",
              "      <td>3</td>\n",
              "      <td>WN</td>\n",
              "      <td>3220</td>\n",
              "      <td>N8659D</td>\n",
              "      <td>LAX</td>\n",
              "      <td>PHX</td>\n",
              "      <td>700</td>\n",
              "      <td>80</td>\n",
              "      <td>370</td>\n",
              "      <td>920</td>\n",
              "    </tr>\n",
              "    <tr>\n",
              "      <th>4</th>\n",
              "      <td>2015</td>\n",
              "      <td>2</td>\n",
              "      <td>25</td>\n",
              "      <td>3</td>\n",
              "      <td>WN</td>\n",
              "      <td>2954</td>\n",
              "      <td>N789SW</td>\n",
              "      <td>LGA</td>\n",
              "      <td>HOU</td>\n",
              "      <td>700</td>\n",
              "      <td>265</td>\n",
              "      <td>1428</td>\n",
              "      <td>1025</td>\n",
              "    </tr>\n",
              "  </tbody>\n",
              "</table>\n",
              "</div>"
            ],
            "text/plain": [
              "   2015  2  25  3  WN  1046  N731SA  LAS  PHX  700   65   255   905\n",
              "0  2015  2  25  3  WN  2251  N279WN  LAS  RNO  700   80   345   820\n",
              "1  2015  2  25  3  WN   857  N277WN  LAS  SMF  700   90   397   830\n",
              "2  2015  2  25  3  WN  2864  N8632A  LAX  BWI  700  295  2329  1455\n",
              "3  2015  2  25  3  WN  3220  N8659D  LAX  PHX  700   80   370   920\n",
              "4  2015  2  25  3  WN  2954  N789SW  LGA  HOU  700  265  1428  1025"
            ]
          },
          "metadata": {
            "tags": []
          },
          "execution_count": 46
        }
      ]
    },
    {
      "cell_type": "code",
      "metadata": {
        "id": "IYQNQY7on7s3",
        "outputId": "442c4a92-46f8-4865-9a2d-835449b1e0fe",
        "colab": {
          "base_uri": "https://localhost:8080/",
          "height": 195
        }
      },
      "source": [
        "# test set dataframe is missing headers information so we will re-initailize it, deleting the target column label\n",
        "new_label= labels[:-1]\n",
        "\n",
        "df_test = pd.read_csv('pred_flights.csv', header =None, names = new_label)\n",
        "\n",
        "df_test.head()"
      ],
      "execution_count": 47,
      "outputs": [
        {
          "output_type": "execute_result",
          "data": {
            "text/html": [
              "<div>\n",
              "<style scoped>\n",
              "    .dataframe tbody tr th:only-of-type {\n",
              "        vertical-align: middle;\n",
              "    }\n",
              "\n",
              "    .dataframe tbody tr th {\n",
              "        vertical-align: top;\n",
              "    }\n",
              "\n",
              "    .dataframe thead th {\n",
              "        text-align: right;\n",
              "    }\n",
              "</style>\n",
              "<table border=\"1\" class=\"dataframe\">\n",
              "  <thead>\n",
              "    <tr style=\"text-align: right;\">\n",
              "      <th></th>\n",
              "      <th></th>\n",
              "      <th></th>\n",
              "      <th></th>\n",
              "      <th></th>\n",
              "      <th></th>\n",
              "      <th></th>\n",
              "      <th></th>\n",
              "      <th></th>\n",
              "      <th></th>\n",
              "      <th></th>\n",
              "      <th></th>\n",
              "      <th>SCHEDULED_TIME</th>\n",
              "    </tr>\n",
              "  </thead>\n",
              "  <tbody>\n",
              "    <tr>\n",
              "      <th rowspan=\"5\" valign=\"top\">2015</th>\n",
              "      <th rowspan=\"5\" valign=\"top\">2</th>\n",
              "      <th rowspan=\"5\" valign=\"top\">25</th>\n",
              "      <th rowspan=\"5\" valign=\"top\">3</th>\n",
              "      <th rowspan=\"5\" valign=\"top\">WN</th>\n",
              "      <th>1046</th>\n",
              "      <th>N731SA</th>\n",
              "      <th>LAS</th>\n",
              "      <th>PHX</th>\n",
              "      <th>700</th>\n",
              "      <th>65</th>\n",
              "      <th>255</th>\n",
              "      <td>905</td>\n",
              "    </tr>\n",
              "    <tr>\n",
              "      <th>2251</th>\n",
              "      <th>N279WN</th>\n",
              "      <th>LAS</th>\n",
              "      <th>RNO</th>\n",
              "      <th>700</th>\n",
              "      <th>80</th>\n",
              "      <th>345</th>\n",
              "      <td>820</td>\n",
              "    </tr>\n",
              "    <tr>\n",
              "      <th>857</th>\n",
              "      <th>N277WN</th>\n",
              "      <th>LAS</th>\n",
              "      <th>SMF</th>\n",
              "      <th>700</th>\n",
              "      <th>90</th>\n",
              "      <th>397</th>\n",
              "      <td>830</td>\n",
              "    </tr>\n",
              "    <tr>\n",
              "      <th>2864</th>\n",
              "      <th>N8632A</th>\n",
              "      <th>LAX</th>\n",
              "      <th>BWI</th>\n",
              "      <th>700</th>\n",
              "      <th>295</th>\n",
              "      <th>2329</th>\n",
              "      <td>1455</td>\n",
              "    </tr>\n",
              "    <tr>\n",
              "      <th>3220</th>\n",
              "      <th>N8659D</th>\n",
              "      <th>LAX</th>\n",
              "      <th>PHX</th>\n",
              "      <th>700</th>\n",
              "      <th>80</th>\n",
              "      <th>370</th>\n",
              "      <td>920</td>\n",
              "    </tr>\n",
              "  </tbody>\n",
              "</table>\n",
              "</div>"
            ],
            "text/plain": [
              "                                                 SCHEDULED_TIME\n",
              "2015 2 25 3 WN 1046 N731SA LAS PHX 700 65  255              905\n",
              "               2251 N279WN LAS RNO 700 80  345              820\n",
              "               857  N277WN LAS SMF 700 90  397              830\n",
              "               2864 N8632A LAX BWI 700 295 2329            1455\n",
              "               3220 N8659D LAX PHX 700 80  370              920"
            ]
          },
          "metadata": {
            "tags": []
          },
          "execution_count": 47
        }
      ]
    },
    {
      "cell_type": "code",
      "metadata": {
        "id": "3dGjL3dCoEq0",
        "outputId": "c7a7aec1-90c0-473d-918f-f7b600ac8f0d",
        "colab": {
          "base_uri": "https://localhost:8080/"
        }
      },
      "source": [
        "# Importing the test-set and check the shape and total number of missing values\n",
        "\n",
        "print(\"The shape of the test-set is:\", (df_test.shape))\n",
        "print(\"The number of rows in the test-set is:\", str(df_test.shape[0]))\n",
        "print(\"The number of columns in the test-set is:\", str(df_test.shape[1]))\n",
        "\n",
        "missing_valuestest = df_test.isnull().sum().sum()\n",
        "\n",
        "print(\"The number of missing values in the test-set is:\", str(missing_valuestest))"
      ],
      "execution_count": 48,
      "outputs": [
        {
          "output_type": "stream",
          "text": [
            "The shape of the test-set is: (209717, 1)\n",
            "The number of rows in the test-set is: 209717\n",
            "The number of columns in the test-set is: 1\n",
            "The number of missing values in the test-set is: 0\n"
          ],
          "name": "stdout"
        }
      ]
    },
    {
      "cell_type": "markdown",
      "metadata": {
        "id": "qDQCCXw1oIWW"
      },
      "source": [
        "### Feature Engineering"
      ]
    },
    {
      "cell_type": "code",
      "metadata": {
        "id": "s52a-YA9gWqc",
        "outputId": "b02a0089-4124-46f2-e7ac-d84fbea89413",
        "colab": {
          "base_uri": "https://localhost:8080/"
        }
      },
      "source": [
        "# obtain headers from dataframe\n",
        "labels = df_train.columns \n",
        "labels"
      ],
      "execution_count": 49,
      "outputs": [
        {
          "output_type": "execute_result",
          "data": {
            "text/plain": [
              "Index(['YEAR', 'MONTH', 'DAY', 'DAY_OF_WEEK', 'AIRLINE', 'FLIGHT_NUMBER',\n",
              "       'TAIL_NUMBER', 'ORIGIN_AIRPORT', 'DESTINATION_AIRPORT',\n",
              "       'SCHEDULED_DEPARTURE', 'SCHEDULED_TIME', 'DISTANCE',\n",
              "       'SCHEDULED_ARRIVAL', 'CANCELLED'],\n",
              "      dtype='object')"
            ]
          },
          "metadata": {
            "tags": []
          },
          "execution_count": 49
        }
      ]
    },
    {
      "cell_type": "code",
      "metadata": {
        "id": "7EuLlcgtk9IV",
        "outputId": "8e082b4b-4b65-4bca-93c7-07b6c9f83f21",
        "colab": {
          "base_uri": "https://localhost:8080/"
        }
      },
      "source": [
        "# Examine the data types for train dataframe\n",
        "df_train.dtypes"
      ],
      "execution_count": 50,
      "outputs": [
        {
          "output_type": "execute_result",
          "data": {
            "text/plain": [
              "YEAR                     int64\n",
              "MONTH                    int64\n",
              "DAY                      int64\n",
              "DAY_OF_WEEK              int64\n",
              "AIRLINE                 object\n",
              "FLIGHT_NUMBER            int64\n",
              "TAIL_NUMBER             object\n",
              "ORIGIN_AIRPORT          object\n",
              "DESTINATION_AIRPORT     object\n",
              "SCHEDULED_DEPARTURE      int64\n",
              "SCHEDULED_TIME         float64\n",
              "DISTANCE                 int64\n",
              "SCHEDULED_ARRIVAL        int64\n",
              "CANCELLED                int64\n",
              "dtype: object"
            ]
          },
          "metadata": {
            "tags": []
          },
          "execution_count": 50
        }
      ]
    },
    {
      "cell_type": "code",
      "metadata": {
        "id": "iiFcG975h-XS",
        "outputId": "c44625f7-c897-4669-d521-0062b193cdd9",
        "colab": {
          "base_uri": "https://localhost:8080/"
        }
      },
      "source": [
        "# Dealing with missing values in the train-set\n",
        "\n",
        "df_train.isnull().sum()"
      ],
      "execution_count": 51,
      "outputs": [
        {
          "output_type": "execute_result",
          "data": {
            "text/plain": [
              "YEAR                      0\n",
              "MONTH                     0\n",
              "DAY                       0\n",
              "DAY_OF_WEEK               0\n",
              "AIRLINE                   0\n",
              "FLIGHT_NUMBER             0\n",
              "TAIL_NUMBER            5981\n",
              "ORIGIN_AIRPORT            0\n",
              "DESTINATION_AIRPORT       0\n",
              "SCHEDULED_DEPARTURE       0\n",
              "SCHEDULED_TIME            2\n",
              "DISTANCE                  0\n",
              "SCHEDULED_ARRIVAL         0\n",
              "CANCELLED                 0\n",
              "dtype: int64"
            ]
          },
          "metadata": {
            "tags": []
          },
          "execution_count": 51
        }
      ]
    },
    {
      "cell_type": "code",
      "metadata": {
        "id": "FaEhKXddme6f",
        "outputId": "4803628e-8181-4948-9742-828f1106bb00",
        "colab": {
          "base_uri": "https://localhost:8080/",
          "height": 215
        }
      },
      "source": [
        "# create a copy of train dataframe for subsequent missing values analysis\n",
        "\n",
        "dataset_train = df_train.copy()\n",
        "\n",
        "dataset_train.head()"
      ],
      "execution_count": 52,
      "outputs": [
        {
          "output_type": "execute_result",
          "data": {
            "text/html": [
              "<div>\n",
              "<style scoped>\n",
              "    .dataframe tbody tr th:only-of-type {\n",
              "        vertical-align: middle;\n",
              "    }\n",
              "\n",
              "    .dataframe tbody tr th {\n",
              "        vertical-align: top;\n",
              "    }\n",
              "\n",
              "    .dataframe thead th {\n",
              "        text-align: right;\n",
              "    }\n",
              "</style>\n",
              "<table border=\"1\" class=\"dataframe\">\n",
              "  <thead>\n",
              "    <tr style=\"text-align: right;\">\n",
              "      <th></th>\n",
              "      <th>YEAR</th>\n",
              "      <th>MONTH</th>\n",
              "      <th>DAY</th>\n",
              "      <th>DAY_OF_WEEK</th>\n",
              "      <th>AIRLINE</th>\n",
              "      <th>FLIGHT_NUMBER</th>\n",
              "      <th>TAIL_NUMBER</th>\n",
              "      <th>ORIGIN_AIRPORT</th>\n",
              "      <th>DESTINATION_AIRPORT</th>\n",
              "      <th>SCHEDULED_DEPARTURE</th>\n",
              "      <th>SCHEDULED_TIME</th>\n",
              "      <th>DISTANCE</th>\n",
              "      <th>SCHEDULED_ARRIVAL</th>\n",
              "      <th>CANCELLED</th>\n",
              "    </tr>\n",
              "  </thead>\n",
              "  <tbody>\n",
              "    <tr>\n",
              "      <th>0</th>\n",
              "      <td>2015</td>\n",
              "      <td>1</td>\n",
              "      <td>1</td>\n",
              "      <td>4</td>\n",
              "      <td>AS</td>\n",
              "      <td>98</td>\n",
              "      <td>N407AS</td>\n",
              "      <td>ANC</td>\n",
              "      <td>SEA</td>\n",
              "      <td>5</td>\n",
              "      <td>205.0</td>\n",
              "      <td>1448</td>\n",
              "      <td>430</td>\n",
              "      <td>0</td>\n",
              "    </tr>\n",
              "    <tr>\n",
              "      <th>1</th>\n",
              "      <td>2015</td>\n",
              "      <td>1</td>\n",
              "      <td>1</td>\n",
              "      <td>4</td>\n",
              "      <td>AA</td>\n",
              "      <td>2336</td>\n",
              "      <td>N3KUAA</td>\n",
              "      <td>LAX</td>\n",
              "      <td>PBI</td>\n",
              "      <td>10</td>\n",
              "      <td>280.0</td>\n",
              "      <td>2330</td>\n",
              "      <td>750</td>\n",
              "      <td>0</td>\n",
              "    </tr>\n",
              "    <tr>\n",
              "      <th>2</th>\n",
              "      <td>2015</td>\n",
              "      <td>1</td>\n",
              "      <td>1</td>\n",
              "      <td>4</td>\n",
              "      <td>US</td>\n",
              "      <td>840</td>\n",
              "      <td>N171US</td>\n",
              "      <td>SFO</td>\n",
              "      <td>CLT</td>\n",
              "      <td>20</td>\n",
              "      <td>286.0</td>\n",
              "      <td>2296</td>\n",
              "      <td>806</td>\n",
              "      <td>0</td>\n",
              "    </tr>\n",
              "    <tr>\n",
              "      <th>3</th>\n",
              "      <td>2015</td>\n",
              "      <td>1</td>\n",
              "      <td>1</td>\n",
              "      <td>4</td>\n",
              "      <td>AA</td>\n",
              "      <td>258</td>\n",
              "      <td>N3HYAA</td>\n",
              "      <td>LAX</td>\n",
              "      <td>MIA</td>\n",
              "      <td>20</td>\n",
              "      <td>285.0</td>\n",
              "      <td>2342</td>\n",
              "      <td>805</td>\n",
              "      <td>0</td>\n",
              "    </tr>\n",
              "    <tr>\n",
              "      <th>4</th>\n",
              "      <td>2015</td>\n",
              "      <td>1</td>\n",
              "      <td>1</td>\n",
              "      <td>4</td>\n",
              "      <td>AS</td>\n",
              "      <td>135</td>\n",
              "      <td>N527AS</td>\n",
              "      <td>SEA</td>\n",
              "      <td>ANC</td>\n",
              "      <td>25</td>\n",
              "      <td>235.0</td>\n",
              "      <td>1448</td>\n",
              "      <td>320</td>\n",
              "      <td>0</td>\n",
              "    </tr>\n",
              "  </tbody>\n",
              "</table>\n",
              "</div>"
            ],
            "text/plain": [
              "   YEAR  MONTH  DAY  ...  DISTANCE SCHEDULED_ARRIVAL  CANCELLED\n",
              "0  2015      1    1  ...      1448               430          0\n",
              "1  2015      1    1  ...      2330               750          0\n",
              "2  2015      1    1  ...      2296               806          0\n",
              "3  2015      1    1  ...      2342               805          0\n",
              "4  2015      1    1  ...      1448               320          0\n",
              "\n",
              "[5 rows x 14 columns]"
            ]
          },
          "metadata": {
            "tags": []
          },
          "execution_count": 52
        }
      ]
    },
    {
      "cell_type": "code",
      "metadata": {
        "id": "uP_AtIj5iPII",
        "outputId": "b7beabc9-8084-4265-cfec-d1d64ec076e4",
        "colab": {
          "base_uri": "https://localhost:8080/",
          "height": 126
        }
      },
      "source": [
        "# Inspect the data in the \"SCHEDULED_TIME\" columns with missing values\n",
        "dataset_train[dataset_train['SCHEDULED_TIME'].isnull()]"
      ],
      "execution_count": 53,
      "outputs": [
        {
          "output_type": "execute_result",
          "data": {
            "text/html": [
              "<div>\n",
              "<style scoped>\n",
              "    .dataframe tbody tr th:only-of-type {\n",
              "        vertical-align: middle;\n",
              "    }\n",
              "\n",
              "    .dataframe tbody tr th {\n",
              "        vertical-align: top;\n",
              "    }\n",
              "\n",
              "    .dataframe thead th {\n",
              "        text-align: right;\n",
              "    }\n",
              "</style>\n",
              "<table border=\"1\" class=\"dataframe\">\n",
              "  <thead>\n",
              "    <tr style=\"text-align: right;\">\n",
              "      <th></th>\n",
              "      <th>YEAR</th>\n",
              "      <th>MONTH</th>\n",
              "      <th>DAY</th>\n",
              "      <th>DAY_OF_WEEK</th>\n",
              "      <th>AIRLINE</th>\n",
              "      <th>FLIGHT_NUMBER</th>\n",
              "      <th>TAIL_NUMBER</th>\n",
              "      <th>ORIGIN_AIRPORT</th>\n",
              "      <th>DESTINATION_AIRPORT</th>\n",
              "      <th>SCHEDULED_DEPARTURE</th>\n",
              "      <th>SCHEDULED_TIME</th>\n",
              "      <th>DISTANCE</th>\n",
              "      <th>SCHEDULED_ARRIVAL</th>\n",
              "      <th>CANCELLED</th>\n",
              "    </tr>\n",
              "  </thead>\n",
              "  <tbody>\n",
              "    <tr>\n",
              "      <th>483174</th>\n",
              "      <td>2015</td>\n",
              "      <td>2</td>\n",
              "      <td>1</td>\n",
              "      <td>7</td>\n",
              "      <td>NK</td>\n",
              "      <td>416</td>\n",
              "      <td>N627NK</td>\n",
              "      <td>FLL</td>\n",
              "      <td>IAG</td>\n",
              "      <td>2215</td>\n",
              "      <td>NaN</td>\n",
              "      <td>1176</td>\n",
              "      <td>107</td>\n",
              "      <td>1</td>\n",
              "    </tr>\n",
              "    <tr>\n",
              "      <th>619941</th>\n",
              "      <td>2015</td>\n",
              "      <td>2</td>\n",
              "      <td>10</td>\n",
              "      <td>2</td>\n",
              "      <td>NK</td>\n",
              "      <td>416</td>\n",
              "      <td>N632NK</td>\n",
              "      <td>FLL</td>\n",
              "      <td>IAG</td>\n",
              "      <td>2215</td>\n",
              "      <td>NaN</td>\n",
              "      <td>1176</td>\n",
              "      <td>107</td>\n",
              "      <td>1</td>\n",
              "    </tr>\n",
              "  </tbody>\n",
              "</table>\n",
              "</div>"
            ],
            "text/plain": [
              "        YEAR  MONTH  DAY  ...  DISTANCE SCHEDULED_ARRIVAL  CANCELLED\n",
              "483174  2015      2    1  ...      1176               107          1\n",
              "619941  2015      2   10  ...      1176               107          1\n",
              "\n",
              "[2 rows x 14 columns]"
            ]
          },
          "metadata": {
            "tags": []
          },
          "execution_count": 53
        }
      ]
    },
    {
      "cell_type": "code",
      "metadata": {
        "id": "cVefPfKOiy2e",
        "outputId": "6b191e75-4d05-4761-920d-4daca8dd82ed",
        "colab": {
          "base_uri": "https://localhost:8080/"
        }
      },
      "source": [
        "# Let's investigate if Missing Data Not At Random(MNAR): Systematic missing Values\n",
        "dataset_train['SCHEDULED_TIME_NULL']=np.where(dataset_train['SCHEDULED_TIME'].isnull(),1,0)\n",
        "\n",
        "##find the percentage of null values in specific column\n",
        "dataset_train['SCHEDULED_TIME_NULL'].mean()\n",
        "\n"
      ],
      "execution_count": 54,
      "outputs": [
        {
          "output_type": "execute_result",
          "data": {
            "text/plain": [
              "2.3841937491208285e-06"
            ]
          },
          "metadata": {
            "tags": []
          },
          "execution_count": 54
        }
      ]
    },
    {
      "cell_type": "code",
      "metadata": {
        "id": "pM-N34Nbj-wY",
        "outputId": "ce2a509c-1e2a-4f71-b8b8-8c3dad285f73",
        "colab": {
          "base_uri": "https://localhost:8080/"
        }
      },
      "source": [
        "# Let's check how the missing values affect the target variable\n",
        "dataset_train.groupby(['CANCELLED'])['SCHEDULED_TIME_NULL'].mean()"
      ],
      "execution_count": 55,
      "outputs": [
        {
          "output_type": "execute_result",
          "data": {
            "text/plain": [
              "CANCELLED\n",
              "0    0.00000\n",
              "1    0.00007\n",
              "Name: SCHEDULED_TIME_NULL, dtype: float64"
            ]
          },
          "metadata": {
            "tags": []
          },
          "execution_count": 55
        }
      ]
    },
    {
      "cell_type": "code",
      "metadata": {
        "id": "KPSdKeGljeWP",
        "outputId": "1a3ad428-0d28-49bf-a1a9-35881c340760",
        "colab": {
          "base_uri": "https://localhost:8080/"
        }
      },
      "source": [
        "# Inspect the data in the \"TAIL_NUMBER\" columns with missing values\n",
        "dataset_train[df_train['TAIL_NUMBER'].isnull()]\n",
        "\n",
        "# Let's investigate if Missing Data Not At Random(MNAR): Systematic missing Values\n",
        "dataset_train['TAIL_NUMBER_NULL']=np.where(dataset_train['TAIL_NUMBER'].isnull(),1,0)\n",
        "\n",
        "##find the percentage of null values in specific column\n",
        "dataset_train['TAIL_NUMBER_NULL'].mean()"
      ],
      "execution_count": 56,
      "outputs": [
        {
          "output_type": "execute_result",
          "data": {
            "text/plain": [
              "0.0071299314067458375"
            ]
          },
          "metadata": {
            "tags": []
          },
          "execution_count": 56
        }
      ]
    },
    {
      "cell_type": "code",
      "metadata": {
        "id": "i0bgSKotj7v_",
        "outputId": "548626b6-489f-4dd9-b1fb-abc43304edee",
        "colab": {
          "base_uri": "https://localhost:8080/"
        }
      },
      "source": [
        "# Let's check how the missing values affect the traget variable\n",
        "dataset_train.groupby(['CANCELLED'])['TAIL_NUMBER_NULL'].mean()"
      ],
      "execution_count": 57,
      "outputs": [
        {
          "output_type": "execute_result",
          "data": {
            "text/plain": [
              "CANCELLED\n",
              "0    0.000000\n",
              "1    0.208528\n",
              "Name: TAIL_NUMBER_NULL, dtype: float64"
            ]
          },
          "metadata": {
            "tags": []
          },
          "execution_count": 57
        }
      ]
    },
    {
      "cell_type": "code",
      "metadata": {
        "id": "k9XgL0c5iDqW",
        "outputId": "1b43e656-065a-40eb-c1a6-c71db4e6d5c3",
        "colab": {
          "base_uri": "https://localhost:8080/",
          "height": 195
        }
      },
      "source": [
        "# Working specifically with the two columns with missing values and traget variable\n",
        "\n",
        "train_missing_df = dataset_train[['TAIL_NUMBER', 'SCHEDULED_TIME', 'CANCELLED']].copy()\n",
        "\n",
        "train_missing_df.head()"
      ],
      "execution_count": 58,
      "outputs": [
        {
          "output_type": "execute_result",
          "data": {
            "text/html": [
              "<div>\n",
              "<style scoped>\n",
              "    .dataframe tbody tr th:only-of-type {\n",
              "        vertical-align: middle;\n",
              "    }\n",
              "\n",
              "    .dataframe tbody tr th {\n",
              "        vertical-align: top;\n",
              "    }\n",
              "\n",
              "    .dataframe thead th {\n",
              "        text-align: right;\n",
              "    }\n",
              "</style>\n",
              "<table border=\"1\" class=\"dataframe\">\n",
              "  <thead>\n",
              "    <tr style=\"text-align: right;\">\n",
              "      <th></th>\n",
              "      <th>TAIL_NUMBER</th>\n",
              "      <th>SCHEDULED_TIME</th>\n",
              "      <th>CANCELLED</th>\n",
              "    </tr>\n",
              "  </thead>\n",
              "  <tbody>\n",
              "    <tr>\n",
              "      <th>0</th>\n",
              "      <td>N407AS</td>\n",
              "      <td>205.0</td>\n",
              "      <td>0</td>\n",
              "    </tr>\n",
              "    <tr>\n",
              "      <th>1</th>\n",
              "      <td>N3KUAA</td>\n",
              "      <td>280.0</td>\n",
              "      <td>0</td>\n",
              "    </tr>\n",
              "    <tr>\n",
              "      <th>2</th>\n",
              "      <td>N171US</td>\n",
              "      <td>286.0</td>\n",
              "      <td>0</td>\n",
              "    </tr>\n",
              "    <tr>\n",
              "      <th>3</th>\n",
              "      <td>N3HYAA</td>\n",
              "      <td>285.0</td>\n",
              "      <td>0</td>\n",
              "    </tr>\n",
              "    <tr>\n",
              "      <th>4</th>\n",
              "      <td>N527AS</td>\n",
              "      <td>235.0</td>\n",
              "      <td>0</td>\n",
              "    </tr>\n",
              "  </tbody>\n",
              "</table>\n",
              "</div>"
            ],
            "text/plain": [
              "  TAIL_NUMBER  SCHEDULED_TIME  CANCELLED\n",
              "0      N407AS           205.0          0\n",
              "1      N3KUAA           280.0          0\n",
              "2      N171US           286.0          0\n",
              "3      N3HYAA           285.0          0\n",
              "4      N527AS           235.0          0"
            ]
          },
          "metadata": {
            "tags": []
          },
          "execution_count": 58
        }
      ]
    },
    {
      "cell_type": "code",
      "metadata": {
        "id": "2ln18_G9oinj",
        "outputId": "237173f0-a0ab-4db4-d7cb-cbfdb3600692",
        "colab": {
          "base_uri": "https://localhost:8080/"
        }
      },
      "source": [
        "## Lets go and see the percentage of missing values\n",
        "train_missing_df.isnull().mean()"
      ],
      "execution_count": 59,
      "outputs": [
        {
          "output_type": "execute_result",
          "data": {
            "text/plain": [
              "TAIL_NUMBER       0.007130\n",
              "SCHEDULED_TIME    0.000002\n",
              "CANCELLED         0.000000\n",
              "dtype: float64"
            ]
          },
          "metadata": {
            "tags": []
          },
          "execution_count": 59
        }
      ]
    },
    {
      "cell_type": "markdown",
      "metadata": {
        "id": "v47C0PRloUg1"
      },
      "source": [
        "#### Dealing with Missing Values"
      ]
    },
    {
      "cell_type": "markdown",
      "metadata": {
        "id": "hJoAAPpvzyBV"
      },
      "source": [
        "##### Numerical columns"
      ]
    },
    {
      "cell_type": "code",
      "metadata": {
        "id": "dNQ6nCRB8pwM"
      },
      "source": [
        "# Handling missing values by creating a new feature\n",
        "train_missing_df['SCHEDULED_TIME_NAN'] = np.where(train_missing_df['SCHEDULED_TIME'] isnull(),1,0)"
      ],
      "execution_count": null,
      "outputs": []
    },
    {
      "cell_type": "code",
      "metadata": {
        "id": "ZHyrdpeOoTye"
      },
      "source": [
        "# Mean/Median/Mode, Random, End of distribution Imputation\n",
        "def impute_nan(df, variable):\n",
        "  df[variable+\"_median\"] = df[variable].fillna(df[variable].median() )\n",
        "  df[variable+\"_mean\"] = df[variable].fillna(df[variable].mean() )\n",
        "  df[variable+\"_mode\"] = df[variable].fillna(df[variable].mode() )\n",
        "  df[variable+\"_random\"]=df[variable]\n",
        "  df[variable+\"_end_distribution\"]=df[variable].fillna(df[variable].mean()+3*df[variable].std() )\n",
        "  df[variable+'_zero']=df[variable].fillna(0)\n",
        "  df[variable+'_hundred']=df[variable].fillna(100)\n",
        "  ##It will have the random sample to fill the na\n",
        "  random_sample=df[variable].dropna().sample(df[variable].isnull().sum(),random_state=0)\n",
        "  ##pandas need to have same index in order to merge the dataset\n",
        "  random_sample.index=df[df[variable].isnull()].index\n",
        "  df.loc[df[variable].isnull(),variable+'_random']=random_sample"
      ],
      "execution_count": 92,
      "outputs": []
    },
    {
      "cell_type": "code",
      "metadata": {
        "id": "p70rH74c2yKR",
        "outputId": "4c79844f-b22e-4efe-af4e-ff52850e91d2",
        "colab": {
          "base_uri": "https://localhost:8080/"
        }
      },
      "source": [
        "# Find the extreme value for specific column\n",
        "#extreme=train_missing_df['SCHEDULED_TIME'].mean()+3*train_missing_df['SCHEDULED_TIME'].std()\n",
        "#extreme"
      ],
      "execution_count": 76,
      "outputs": [
        {
          "output_type": "execute_result",
          "data": {
            "text/plain": [
              "363.99376717155707"
            ]
          },
          "metadata": {
            "tags": []
          },
          "execution_count": 76
        }
      ]
    },
    {
      "cell_type": "code",
      "metadata": {
        "id": "s3kbrITL3DcU",
        "outputId": "094e8179-fe5a-442d-910c-bede55ad1112",
        "colab": {
          "base_uri": "https://localhost:8080/",
          "height": 334
        }
      },
      "source": [
        "# Boxplot of column\n",
        "sns.boxplot('SCHEDULED_TIME',data=train_missing_df)\n",
        "plt.show()"
      ],
      "execution_count": 77,
      "outputs": [
        {
          "output_type": "stream",
          "text": [
            "/usr/local/lib/python3.6/dist-packages/seaborn/_decorators.py:43: FutureWarning: Pass the following variable as a keyword arg: x. From version 0.12, the only valid positional argument will be `data`, and passing other arguments without an explicit keyword will result in an error or misinterpretation.\n",
            "  FutureWarning\n"
          ],
          "name": "stderr"
        },
        {
          "output_type": "display_data",
          "data": {
            "image/png": "[encoded data removed]",
            "text/plain": [
              "<Figure size 360x288 with 1 Axes>"
            ]
          },
          "metadata": {
            "tags": [],
            "needs_background": "light"
          }
        }
      ]
    },
    {
      "cell_type": "code",
      "metadata": {
        "id": "v_zs7Vql1fnQ"
      },
      "source": [
        "# Handling missing values by creating a new feature\n",
        "train_missing_df['SCHEDULED_TIME_NAN'] = np.where(train_missing_df['SCHEDULED_TIME'].isnull(),1,0)"
      ],
      "execution_count": 71,
      "outputs": []
    },
    {
      "cell_type": "code",
      "metadata": {
        "id": "0v7wueyFppzi",
        "outputId": "67a21918-3ecf-4c00-e2fc-0634083bcb6c",
        "colab": {
          "base_uri": "https://localhost:8080/",
          "height": 215
        }
      },
      "source": [
        "# Fill missing values of the \"SCHEDULED_TIME\" train_missing_df with median values\n",
        "impute_nan(train_missing_df, \"SCHEDULED_TIME\")\n",
        "train_missing_df.head()"
      ],
      "execution_count": 93,
      "outputs": [
        {
          "output_type": "execute_result",
          "data": {
            "text/html": [
              "<div>\n",
              "<style scoped>\n",
              "    .dataframe tbody tr th:only-of-type {\n",
              "        vertical-align: middle;\n",
              "    }\n",
              "\n",
              "    .dataframe tbody tr th {\n",
              "        vertical-align: top;\n",
              "    }\n",
              "\n",
              "    .dataframe thead th {\n",
              "        text-align: right;\n",
              "    }\n",
              "</style>\n",
              "<table border=\"1\" class=\"dataframe\">\n",
              "  <thead>\n",
              "    <tr style=\"text-align: right;\">\n",
              "      <th></th>\n",
              "      <th>TAIL_NUMBER</th>\n",
              "      <th>SCHEDULED_TIME</th>\n",
              "      <th>CANCELLED</th>\n",
              "      <th>SCHEDULED_TIME_median</th>\n",
              "      <th>SCHEDULED_TIME_random</th>\n",
              "      <th>SCHEDULED_TIME_NAN</th>\n",
              "      <th>SCHEDULED_TIME_end_distribution</th>\n",
              "      <th>SCHEDULED_TIME_mean</th>\n",
              "      <th>SCHEDULED_TIME_mode</th>\n",
              "    </tr>\n",
              "  </thead>\n",
              "  <tbody>\n",
              "    <tr>\n",
              "      <th>0</th>\n",
              "      <td>N407AS</td>\n",
              "      <td>205.0</td>\n",
              "      <td>0</td>\n",
              "      <td>205.0</td>\n",
              "      <td>205.0</td>\n",
              "      <td>0</td>\n",
              "      <td>205.0</td>\n",
              "      <td>205.0</td>\n",
              "      <td>205.0</td>\n",
              "    </tr>\n",
              "    <tr>\n",
              "      <th>1</th>\n",
              "      <td>N3KUAA</td>\n",
              "      <td>280.0</td>\n",
              "      <td>0</td>\n",
              "      <td>280.0</td>\n",
              "      <td>280.0</td>\n",
              "      <td>0</td>\n",
              "      <td>280.0</td>\n",
              "      <td>280.0</td>\n",
              "      <td>280.0</td>\n",
              "    </tr>\n",
              "    <tr>\n",
              "      <th>2</th>\n",
              "      <td>N171US</td>\n",
              "      <td>286.0</td>\n",
              "      <td>0</td>\n",
              "      <td>286.0</td>\n",
              "      <td>286.0</td>\n",
              "      <td>0</td>\n",
              "      <td>286.0</td>\n",
              "      <td>286.0</td>\n",
              "      <td>286.0</td>\n",
              "    </tr>\n",
              "    <tr>\n",
              "      <th>3</th>\n",
              "      <td>N3HYAA</td>\n",
              "      <td>285.0</td>\n",
              "      <td>0</td>\n",
              "      <td>285.0</td>\n",
              "      <td>285.0</td>\n",
              "      <td>0</td>\n",
              "      <td>285.0</td>\n",
              "      <td>285.0</td>\n",
              "      <td>285.0</td>\n",
              "    </tr>\n",
              "    <tr>\n",
              "      <th>4</th>\n",
              "      <td>N527AS</td>\n",
              "      <td>235.0</td>\n",
              "      <td>0</td>\n",
              "      <td>235.0</td>\n",
              "      <td>235.0</td>\n",
              "      <td>0</td>\n",
              "      <td>235.0</td>\n",
              "      <td>235.0</td>\n",
              "      <td>235.0</td>\n",
              "    </tr>\n",
              "  </tbody>\n",
              "</table>\n",
              "</div>"
            ],
            "text/plain": [
              "  TAIL_NUMBER  SCHEDULED_TIME  ...  SCHEDULED_TIME_mean  SCHEDULED_TIME_mode\n",
              "0      N407AS           205.0  ...                205.0                205.0\n",
              "1      N3KUAA           280.0  ...                280.0                280.0\n",
              "2      N171US           286.0  ...                286.0                286.0\n",
              "3      N3HYAA           285.0  ...                285.0                285.0\n",
              "4      N527AS           235.0  ...                235.0                235.0\n",
              "\n",
              "[5 rows x 9 columns]"
            ]
          },
          "metadata": {
            "tags": []
          },
          "execution_count": 93
        }
      ]
    },
    {
      "cell_type": "code",
      "metadata": {
        "id": "azb6GfvnqlAP",
        "outputId": "1c8a37ac-e793-442a-fc73-c7f21c8fd3be",
        "colab": {
          "base_uri": "https://localhost:8080/"
        }
      },
      "source": [
        "# Check of missing values still exist\n",
        "train_missing_df.isnull().sum()"
      ],
      "execution_count": 63,
      "outputs": [
        {
          "output_type": "execute_result",
          "data": {
            "text/plain": [
              "TAIL_NUMBER              5981\n",
              "SCHEDULED_TIME              2\n",
              "CANCELLED                   0\n",
              "SCHEDULED_TIME_median       0\n",
              "SCHEDULED_TIME_random       0\n",
              "dtype: int64"
            ]
          },
          "metadata": {
            "tags": []
          },
          "execution_count": 63
        }
      ]
    },
    {
      "cell_type": "code",
      "metadata": {
        "id": "AxI-dedenrcC",
        "outputId": "02e71fa6-8460-4368-ce6b-5d29fa9f056c",
        "colab": {
          "base_uri": "https://localhost:8080/"
        }
      },
      "source": [
        "# Let's investigate the std of the newly created column and original column\n",
        "print(\"The standard deviation for the orignal column is\", train_missing_df.SCHEDULED_TIME.std())\n",
        "print(\"The standard deviation for the newly encoded column (median imputter) is\", train_missing_df.SCHEDULED_TIME_median.std())\n",
        "print(\"The standard deviation for the newly encoded column (random imputter) is\", train_missing_df.SCHEDULED_TIME_random.std())\n",
        "print(\"The standard deviation for the newly encoded column (end of distribution imputter) is\", train_missing_df.SCHEDULED_TIME_end_distribution.std())"
      ],
      "execution_count": 81,
      "outputs": [
        {
          "output_type": "stream",
          "text": [
            "The standard deviation for the orignal column is 74.62359831105842\n",
            "The standard deviation for the newly encoded column (median imputter) is 74.62351519412839\n",
            "The standard deviation for the newly encoded column (random imputter) is 74.62400509233825\n",
            "The standard deviation for the newly encoded column (end of distribution imputter) is 74.62430997497674\n"
          ],
          "name": "stdout"
        }
      ]
    },
    {
      "cell_type": "code",
      "metadata": {
        "id": "cvY2V5zUrRJW",
        "outputId": "2dbb1314-6fe2-4d4a-a88f-dd0e3a15e37c",
        "colab": {
          "base_uri": "https://localhost:8080/",
          "height": 374
        }
      },
      "source": [
        "# Plot kde distributions of both distributions\n",
        "fig = plt.figure(figsize= (8,6))\n",
        "ax = fig.add_subplot(111)\n",
        "train_missing_df['SCHEDULED_TIME'].plot(kind='kde', ax=ax, color = 'blue')\n",
        "train_missing_df['SCHEDULED_TIME_median'].plot(kind='kde', ax=ax, color='red')\n",
        "train_missing_df['SCHEDULED_TIME_random'].plot(kind='kde', ax=ax, color='green')\n",
        "train_missing_df['SCHEDULED_TIME_end_distribution'].plot(kind='kde', ax=ax, color='yellow')\n",
        "train_missing_df['SCHEDULED_TIME_mean'].plot(kind='kde', ax=ax, color='black')\n",
        "train_missing_df['SCHEDULED_TIME_mode'].plot(kind='kde', ax=ax, color='purple')\n",
        "lines, labels = ax.get_legend_handles_labels()\n",
        "ax.legend(lines, labels, loc='best')\n",
        "plt.show()"
      ],
      "execution_count": 94,
      "outputs": [
        {
          "output_type": "display_data",
          "data": {
            "image/png": "[encoded data removed]",
            "text/plain": [
              "<Figure size 576x432 with 1 Axes>"
            ]
          },
          "metadata": {
            "tags": [],
            "needs_background": "light"
          }
        }
      ]
    },
    {
      "cell_type": "code",
      "metadata": {
        "id": "87AixG0v4zKW",
        "outputId": "25597425-4706-4d32-a7ac-8a1812f9c639",
        "colab": {
          "base_uri": "https://localhost:8080/",
          "height": 265
        }
      },
      "source": [
        "# Plot histogram of SCHEDULED_TIME\n",
        "train_missing_df['SCHEDULED_TIME'].hist(bins=50)\n",
        "plt.show()"
      ],
      "execution_count": 83,
      "outputs": [
        {
          "output_type": "display_data",
          "data": {
            "image/png": "[encoded data removed]",
            "text/plain": [
              "<Figure size 360x288 with 1 Axes>"
            ]
          },
          "metadata": {
            "tags": [],
            "needs_background": "light"
          }
        }
      ]
    },
    {
      "cell_type": "code",
      "metadata": {
        "id": "wTVydx8r46kH",
        "outputId": "6ae56ded-490f-42c4-8ca5-c09ffcbf54a6",
        "colab": {
          "base_uri": "https://localhost:8080/",
          "height": 265
        }
      },
      "source": [
        "# Plot histogram of SCHEDULED_TIME_end_distribution\n",
        "train_missing_df['SCHEDULED_TIME_end_distribution'].hist(bins=50)\n",
        "plt.show()"
      ],
      "execution_count": 84,
      "outputs": [
        {
          "output_type": "display_data",
          "data": {
            "image/png": "[encoded data removed]",
            "text/plain": [
              "<Figure size 360x288 with 1 Axes>"
            ]
          },
          "metadata": {
            "tags": [],
            "needs_background": "light"
          }
        }
      ]
    },
    {
      "cell_type": "code",
      "metadata": {
        "id": "8RlKHO8V45hZ",
        "outputId": "dd687377-d176-40df-ad57-76ba4f3f2f9a",
        "colab": {
          "base_uri": "https://localhost:8080/",
          "height": 334
        }
      },
      "source": [
        "# Boxplot of column\n",
        "sns.boxplot('SCHEDULED_TIME',data=train_missing_df)\n",
        "plt.show()"
      ],
      "execution_count": 85,
      "outputs": [
        {
          "output_type": "stream",
          "text": [
            "/usr/local/lib/python3.6/dist-packages/seaborn/_decorators.py:43: FutureWarning: Pass the following variable as a keyword arg: x. From version 0.12, the only valid positional argument will be `data`, and passing other arguments without an explicit keyword will result in an error or misinterpretation.\n",
            "  FutureWarning\n"
          ],
          "name": "stderr"
        },
        {
          "output_type": "display_data",
          "data": {
            "image/png": "[encoded data removed]",
            "text/plain": [
              "<Figure size 360x288 with 1 Axes>"
            ]
          },
          "metadata": {
            "tags": [],
            "needs_background": "light"
          }
        }
      ]
    },
    {
      "cell_type": "code",
      "metadata": {
        "id": "ARaYe1yh5MbO",
        "outputId": "ecb4752d-8aca-42a5-efb5-a59d0653b529",
        "colab": {
          "base_uri": "https://localhost:8080/",
          "height": 334
        }
      },
      "source": [
        "# Boxplot of column\n",
        "sns.boxplot('SCHEDULED_TIME_end_distribution',data=train_missing_df)\n",
        "plt.show()"
      ],
      "execution_count": 86,
      "outputs": [
        {
          "output_type": "stream",
          "text": [
            "/usr/local/lib/python3.6/dist-packages/seaborn/_decorators.py:43: FutureWarning: Pass the following variable as a keyword arg: x. From version 0.12, the only valid positional argument will be `data`, and passing other arguments without an explicit keyword will result in an error or misinterpretation.\n",
            "  FutureWarning\n"
          ],
          "name": "stderr"
        },
        {
          "output_type": "display_data",
          "data": {
            "image/png": "[encoded data removed]",
            "text/plain": [
              "<Figure size 360x288 with 1 Axes>"
            ]
          },
          "metadata": {
            "tags": [],
            "needs_background": "light"
          }
        }
      ]
    },
    {
      "cell_type": "markdown",
      "metadata": {
        "id": "WLl9U-038yZh"
      },
      "source": [
        "##### Categorical Columns"
      ]
    },
    {
      "cell_type": "code",
      "metadata": {
        "id": "sWqfq-nG-iR-",
        "outputId": "1f78e4f9-c60b-4b46-fd36-d0f3b49b17b2",
        "colab": {
          "base_uri": "https://localhost:8080/",
          "height": 215
        }
      },
      "source": [
        "# Print the dataframe\n",
        "train_missing_df.head()"
      ],
      "execution_count": 102,
      "outputs": [
        {
          "output_type": "execute_result",
          "data": {
            "text/html": [
              "<div>\n",
              "<style scoped>\n",
              "    .dataframe tbody tr th:only-of-type {\n",
              "        vertical-align: middle;\n",
              "    }\n",
              "\n",
              "    .dataframe tbody tr th {\n",
              "        vertical-align: top;\n",
              "    }\n",
              "\n",
              "    .dataframe thead th {\n",
              "        text-align: right;\n",
              "    }\n",
              "</style>\n",
              "<table border=\"1\" class=\"dataframe\">\n",
              "  <thead>\n",
              "    <tr style=\"text-align: right;\">\n",
              "      <th></th>\n",
              "      <th>TAIL_NUMBER</th>\n",
              "      <th>SCHEDULED_TIME</th>\n",
              "      <th>CANCELLED</th>\n",
              "      <th>SCHEDULED_TIME_median</th>\n",
              "      <th>SCHEDULED_TIME_random</th>\n",
              "      <th>SCHEDULED_TIME_NAN</th>\n",
              "      <th>SCHEDULED_TIME_end_distribution</th>\n",
              "      <th>SCHEDULED_TIME_mean</th>\n",
              "      <th>SCHEDULED_TIME_mode</th>\n",
              "    </tr>\n",
              "  </thead>\n",
              "  <tbody>\n",
              "    <tr>\n",
              "      <th>0</th>\n",
              "      <td>N407AS</td>\n",
              "      <td>205.0</td>\n",
              "      <td>0</td>\n",
              "      <td>205.0</td>\n",
              "      <td>205.0</td>\n",
              "      <td>0</td>\n",
              "      <td>205.0</td>\n",
              "      <td>205.0</td>\n",
              "      <td>205.0</td>\n",
              "    </tr>\n",
              "    <tr>\n",
              "      <th>1</th>\n",
              "      <td>N3KUAA</td>\n",
              "      <td>280.0</td>\n",
              "      <td>0</td>\n",
              "      <td>280.0</td>\n",
              "      <td>280.0</td>\n",
              "      <td>0</td>\n",
              "      <td>280.0</td>\n",
              "      <td>280.0</td>\n",
              "      <td>280.0</td>\n",
              "    </tr>\n",
              "    <tr>\n",
              "      <th>2</th>\n",
              "      <td>N171US</td>\n",
              "      <td>286.0</td>\n",
              "      <td>0</td>\n",
              "      <td>286.0</td>\n",
              "      <td>286.0</td>\n",
              "      <td>0</td>\n",
              "      <td>286.0</td>\n",
              "      <td>286.0</td>\n",
              "      <td>286.0</td>\n",
              "    </tr>\n",
              "    <tr>\n",
              "      <th>3</th>\n",
              "      <td>N3HYAA</td>\n",
              "      <td>285.0</td>\n",
              "      <td>0</td>\n",
              "      <td>285.0</td>\n",
              "      <td>285.0</td>\n",
              "      <td>0</td>\n",
              "      <td>285.0</td>\n",
              "      <td>285.0</td>\n",
              "      <td>285.0</td>\n",
              "    </tr>\n",
              "    <tr>\n",
              "      <th>4</th>\n",
              "      <td>N527AS</td>\n",
              "      <td>235.0</td>\n",
              "      <td>0</td>\n",
              "      <td>235.0</td>\n",
              "      <td>235.0</td>\n",
              "      <td>0</td>\n",
              "      <td>235.0</td>\n",
              "      <td>235.0</td>\n",
              "      <td>235.0</td>\n",
              "    </tr>\n",
              "  </tbody>\n",
              "</table>\n",
              "</div>"
            ],
            "text/plain": [
              "  TAIL_NUMBER  SCHEDULED_TIME  ...  SCHEDULED_TIME_mean  SCHEDULED_TIME_mode\n",
              "0      N407AS           205.0  ...                205.0                205.0\n",
              "1      N3KUAA           280.0  ...                280.0                280.0\n",
              "2      N171US           286.0  ...                286.0                286.0\n",
              "3      N3HYAA           285.0  ...                285.0                285.0\n",
              "4      N527AS           235.0  ...                235.0                235.0\n",
              "\n",
              "[5 rows x 9 columns]"
            ]
          },
          "metadata": {
            "tags": []
          },
          "execution_count": 102
        }
      ]
    },
    {
      "cell_type": "code",
      "metadata": {
        "id": "qBksJth7_Byo",
        "outputId": "8b2c1921-0b23-468b-a992-5987773c740e",
        "colab": {
          "base_uri": "https://localhost:8080/"
        }
      },
      "source": [
        "# Select categorical columns\n",
        "cat_cols = train_missing_df.select_dtypes(exclude=['int', 'float']).columns\n",
        "cat_cols = set(cat_cols) - {target}\n",
        "cat_cols"
      ],
      "execution_count": 105,
      "outputs": [
        {
          "output_type": "execute_result",
          "data": {
            "text/plain": [
              "{'TAIL_NUMBER'}"
            ]
          },
          "metadata": {
            "tags": []
          },
          "execution_count": 105
        }
      ]
    },
    {
      "cell_type": "code",
      "metadata": {
        "id": "hbd9RGCk-RQ0",
        "outputId": "9cc6ed22-f907-4c82-ad6d-013ed3cb736c",
        "colab": {
          "base_uri": "https://localhost:8080/",
          "height": 195
        }
      },
      "source": [
        "# Create datframe with caregorical column\n",
        "df_cat = train_missing_df[['TAIL_NUMBER', 'CANCELLED']]\n",
        "df_cat.head()"
      ],
      "execution_count": 107,
      "outputs": [
        {
          "output_type": "execute_result",
          "data": {
            "text/html": [
              "<div>\n",
              "<style scoped>\n",
              "    .dataframe tbody tr th:only-of-type {\n",
              "        vertical-align: middle;\n",
              "    }\n",
              "\n",
              "    .dataframe tbody tr th {\n",
              "        vertical-align: top;\n",
              "    }\n",
              "\n",
              "    .dataframe thead th {\n",
              "        text-align: right;\n",
              "    }\n",
              "</style>\n",
              "<table border=\"1\" class=\"dataframe\">\n",
              "  <thead>\n",
              "    <tr style=\"text-align: right;\">\n",
              "      <th></th>\n",
              "      <th>TAIL_NUMBER</th>\n",
              "      <th>CANCELLED</th>\n",
              "    </tr>\n",
              "  </thead>\n",
              "  <tbody>\n",
              "    <tr>\n",
              "      <th>0</th>\n",
              "      <td>N407AS</td>\n",
              "      <td>0</td>\n",
              "    </tr>\n",
              "    <tr>\n",
              "      <th>1</th>\n",
              "      <td>N3KUAA</td>\n",
              "      <td>0</td>\n",
              "    </tr>\n",
              "    <tr>\n",
              "      <th>2</th>\n",
              "      <td>N171US</td>\n",
              "      <td>0</td>\n",
              "    </tr>\n",
              "    <tr>\n",
              "      <th>3</th>\n",
              "      <td>N3HYAA</td>\n",
              "      <td>0</td>\n",
              "    </tr>\n",
              "    <tr>\n",
              "      <th>4</th>\n",
              "      <td>N527AS</td>\n",
              "      <td>0</td>\n",
              "    </tr>\n",
              "  </tbody>\n",
              "</table>\n",
              "</div>"
            ],
            "text/plain": [
              "  TAIL_NUMBER  CANCELLED\n",
              "0      N407AS          0\n",
              "1      N3KUAA          0\n",
              "2      N171US          0\n",
              "3      N3HYAA          0\n",
              "4      N527AS          0"
            ]
          },
          "metadata": {
            "tags": []
          },
          "execution_count": 107
        }
      ]
    },
    {
      "cell_type": "code",
      "metadata": {
        "id": "C1U832qy_oYP",
        "outputId": "810925f6-3809-47c3-8c6f-d8650ea02a76",
        "colab": {
          "base_uri": "https://localhost:8080/"
        }
      },
      "source": [
        "# Check for missing values\n",
        "df_cat.isnull().sum()"
      ],
      "execution_count": 108,
      "outputs": [
        {
          "output_type": "execute_result",
          "data": {
            "text/plain": [
              "TAIL_NUMBER    5981\n",
              "CANCELLED         0\n",
              "dtype: int64"
            ]
          },
          "metadata": {
            "tags": []
          },
          "execution_count": 108
        }
      ]
    },
    {
      "cell_type": "code",
      "metadata": {
        "id": "JWxaLUgT_0MH",
        "outputId": "8a26aef3-57ce-4d9f-8f5f-059f4238c8cc",
        "colab": {
          "base_uri": "https://localhost:8080/"
        }
      },
      "source": [
        "# check for missing values and sort mean in ascending order\n",
        "df_cat.isnull().mean().sort_values(ascending=True)"
      ],
      "execution_count": 109,
      "outputs": [
        {
          "output_type": "execute_result",
          "data": {
            "text/plain": [
              "CANCELLED      0.00000\n",
              "TAIL_NUMBER    0.00713\n",
              "dtype: float64"
            ]
          },
          "metadata": {
            "tags": []
          },
          "execution_count": 109
        }
      ]
    },
    {
      "cell_type": "code",
      "metadata": {
        "id": "rc-HgTt2AnX1",
        "outputId": "3f60d25c-a1b0-4c05-b34d-049bc60eccd5",
        "colab": {
          "base_uri": "https://localhost:8080/",
          "height": 302
        }
      },
      "source": [
        "# Compute frequency of each feature\n",
        "fig = plt.figure()\n",
        "df_cat['TAIL_NUMBER'].value_counts().plot.bar()\n",
        "plt.show()"
      ],
      "execution_count": 114,
      "outputs": [
        {
          "output_type": "display_data",
          "data": {
            "image/png": "[encoded data removed]",
            "text/plain": [
              "<Figure size 360x288 with 1 Axes>"
            ]
          },
          "metadata": {
            "tags": [],
            "needs_background": "light"
          }
        }
      ]
    },
    {
      "cell_type": "code",
      "metadata": {
        "id": "aJhubdXxBSqS",
        "outputId": "dadb9eef-dd2c-447c-d2bb-e7ae3ce44545",
        "colab": {
          "base_uri": "https://localhost:8080/"
        }
      },
      "source": [
        "# Check for the mode of the distribution\n",
        "print(df_cat['TAIL_NUMBER'].value_counts().index[0])\n",
        "print(df_cat['TAIL_NUMBER'].mode()[0])\n"
      ],
      "execution_count": 117,
      "outputs": [
        {
          "output_type": "stream",
          "text": [
            "N477HA\n",
            "N477HA\n"
          ],
          "name": "stdout"
        }
      ]
    },
    {
      "cell_type": "code",
      "metadata": {
        "id": "onuDxyq1CAMD"
      },
      "source": [
        "# create imputer function for categorical columns\n",
        "def impute_nan(df,variable):\n",
        "    most_frequent_category=df[variable].mode()[0]\n",
        "    df[variable].fillna(most_frequent_category,inplace=True)"
      ],
      "execution_count": 118,
      "outputs": []
    },
    {
      "cell_type": "code",
      "metadata": {
        "id": "77rJglkYCOw3",
        "outputId": "27254dd2-e2b3-48cc-d1f5-139c1cdb9008",
        "colab": {
          "base_uri": "https://localhost:8080/"
        }
      },
      "source": [
        "# Apply function on categorical columns\n",
        "cat_new_col = list(cat_cols)\n",
        "cat_new_col\n",
        "for feature in cat_new_col:\n",
        "    impute_nan(df_cat,feature)"
      ],
      "execution_count": 127,
      "outputs": [
        {
          "output_type": "stream",
          "text": [
            "/usr/local/lib/python3.6/dist-packages/pandas/core/series.py:4523: SettingWithCopyWarning: \n",
            "A value is trying to be set on a copy of a slice from a DataFrame\n",
            "\n",
            "See the caveats in the documentation: https://pandas.pydata.org/pandas-docs/stable/user_guide/indexing.html#returning-a-view-versus-a-copy\n",
            "  downcast=downcast,\n"
          ],
          "name": "stderr"
        }
      ]
    },
    {
      "cell_type": "code",
      "metadata": {
        "id": "--nWD2lmDSjH",
        "outputId": "ea4fbf26-2f0a-4310-c28e-3de3172616fb",
        "colab": {
          "base_uri": "https://localhost:8080/"
        }
      },
      "source": [
        "# Check for missing values\n",
        "df_cat.isnull().sum()"
      ],
      "execution_count": 128,
      "outputs": [
        {
          "output_type": "execute_result",
          "data": {
            "text/plain": [
              "TAIL_NUMBER    0\n",
              "CANCELLED      0\n",
              "dtype: int64"
            ]
          },
          "metadata": {
            "tags": []
          },
          "execution_count": 128
        }
      ]
    },
    {
      "cell_type": "code",
      "metadata": {
        "id": "0WgKH9BTEw92",
        "outputId": "1cfe4823-4162-44a6-f76d-2c5500e0a83c",
        "colab": {
          "base_uri": "https://localhost:8080/",
          "height": 296
        }
      },
      "source": [
        "# Adding a varaible to capture missing value\n",
        "df_cat = train_missing_df[['TAIL_NUMBER', 'CANCELLED']]\n",
        "df_cat['TAIL_NUMBER_Var']=np.where(df_cat['TAIL_NUMBER'].isnull(),1,0)\n",
        "df_cat.head()"
      ],
      "execution_count": 131,
      "outputs": [
        {
          "output_type": "stream",
          "text": [
            "/usr/local/lib/python3.6/dist-packages/ipykernel_launcher.py:3: SettingWithCopyWarning: \n",
            "A value is trying to be set on a copy of a slice from a DataFrame.\n",
            "Try using .loc[row_indexer,col_indexer] = value instead\n",
            "\n",
            "See the caveats in the documentation: https://pandas.pydata.org/pandas-docs/stable/user_guide/indexing.html#returning-a-view-versus-a-copy\n",
            "  This is separate from the ipykernel package so we can avoid doing imports until\n"
          ],
          "name": "stderr"
        },
        {
          "output_type": "execute_result",
          "data": {
            "text/html": [
              "<div>\n",
              "<style scoped>\n",
              "    .dataframe tbody tr th:only-of-type {\n",
              "        vertical-align: middle;\n",
              "    }\n",
              "\n",
              "    .dataframe tbody tr th {\n",
              "        vertical-align: top;\n",
              "    }\n",
              "\n",
              "    .dataframe thead th {\n",
              "        text-align: right;\n",
              "    }\n",
              "</style>\n",
              "<table border=\"1\" class=\"dataframe\">\n",
              "  <thead>\n",
              "    <tr style=\"text-align: right;\">\n",
              "      <th></th>\n",
              "      <th>TAIL_NUMBER</th>\n",
              "      <th>CANCELLED</th>\n",
              "      <th>TAIL_NUMBER_Var</th>\n",
              "    </tr>\n",
              "  </thead>\n",
              "  <tbody>\n",
              "    <tr>\n",
              "      <th>0</th>\n",
              "      <td>N407AS</td>\n",
              "      <td>0</td>\n",
              "      <td>0</td>\n",
              "    </tr>\n",
              "    <tr>\n",
              "      <th>1</th>\n",
              "      <td>N3KUAA</td>\n",
              "      <td>0</td>\n",
              "      <td>0</td>\n",
              "    </tr>\n",
              "    <tr>\n",
              "      <th>2</th>\n",
              "      <td>N171US</td>\n",
              "      <td>0</td>\n",
              "      <td>0</td>\n",
              "    </tr>\n",
              "    <tr>\n",
              "      <th>3</th>\n",
              "      <td>N3HYAA</td>\n",
              "      <td>0</td>\n",
              "      <td>0</td>\n",
              "    </tr>\n",
              "    <tr>\n",
              "      <th>4</th>\n",
              "      <td>N527AS</td>\n",
              "      <td>0</td>\n",
              "      <td>0</td>\n",
              "    </tr>\n",
              "  </tbody>\n",
              "</table>\n",
              "</div>"
            ],
            "text/plain": [
              "  TAIL_NUMBER  CANCELLED  TAIL_NUMBER_Var\n",
              "0      N407AS          0                0\n",
              "1      N3KUAA          0                0\n",
              "2      N171US          0                0\n",
              "3      N3HYAA          0                0\n",
              "4      N527AS          0                0"
            ]
          },
          "metadata": {
            "tags": []
          },
          "execution_count": 131
        }
      ]
    },
    {
      "cell_type": "code",
      "metadata": {
        "id": "ervsktq3FmJP",
        "outputId": "0d874547-7933-4590-8fb9-ad9b1b0b8881",
        "colab": {
          "base_uri": "https://localhost:8080/"
        }
      },
      "source": [
        "# Using the mode to replace missing values\n",
        "df_cat['TAIL_NUMBER'].fillna(df_cat['TAIL_NUMBER'].mode()[0],inplace=True)\n",
        "df_cat.head()\n",
        "\n",
        "df_cat.isnull().sum()"
      ],
      "execution_count": 133,
      "outputs": [
        {
          "output_type": "stream",
          "text": [
            "/usr/local/lib/python3.6/dist-packages/pandas/core/series.py:4523: SettingWithCopyWarning: \n",
            "A value is trying to be set on a copy of a slice from a DataFrame\n",
            "\n",
            "See the caveats in the documentation: https://pandas.pydata.org/pandas-docs/stable/user_guide/indexing.html#returning-a-view-versus-a-copy\n",
            "  downcast=downcast,\n"
          ],
          "name": "stderr"
        },
        {
          "output_type": "execute_result",
          "data": {
            "text/plain": [
              "TAIL_NUMBER        0\n",
              "CANCELLED          0\n",
              "TAIL_NUMBER_Var    0\n",
              "dtype: int64"
            ]
          },
          "metadata": {
            "tags": []
          },
          "execution_count": 133
        }
      ]
    },
    {
      "cell_type": "markdown",
      "metadata": {
        "id": "_XiUtgWGIOL4"
      },
      "source": [
        "#### Handling Categorical Data"
      ]
    },
    {
      "cell_type": "code",
      "metadata": {
        "id": "-iHc9HMOH7We"
      },
      "source": [
        "# one-hot encoding without many categories\n",
        "df_cat = train_missing_df[['TAIL_NUMBER', 'CANCELLED']]\n",
        "\n"
      ],
      "execution_count": null,
      "outputs": []
    },
    {
      "cell_type": "code",
      "metadata": {
        "id": "vvJ4ILZwGl4R",
        "outputId": "8b17aead-cc6f-45c4-ab19-67b11d38a71c",
        "colab": {
          "base_uri": "https://localhost:8080/"
        }
      },
      "source": [
        "# one-hot encoding with many categories\n",
        "df_cat = train_missing_df[['TAIL_NUMBER', 'CANCELLED']]\n",
        "for i in df_cat.columns:\n",
        "    print(len(df_cat[i].unique()))"
      ],
      "execution_count": 134,
      "outputs": [
        {
          "output_type": "stream",
          "text": [
            "4479\n",
            "2\n"
          ],
          "name": "stdout"
        }
      ]
    },
    {
      "cell_type": "code",
      "metadata": {
        "id": "YG_OdKSGHLAi",
        "outputId": "1de30ac9-56ed-4887-b42d-37e8f496daee",
        "colab": {
          "base_uri": "https://localhost:8080/"
        }
      },
      "source": [
        "# Show the TOP 10 categories in descending order\n",
        "df_cat.TAIL_NUMBER.value_counts().sort_values(ascending=False).head(10)"
      ],
      "execution_count": 135,
      "outputs": [
        {
          "output_type": "execute_result",
          "data": {
            "text/plain": [
              "N477HA    651\n",
              "N476HA    637\n",
              "N485HA    637\n",
              "N488HA    635\n",
              "N489HA    622\n",
              "N491HA    616\n",
              "N487HA    603\n",
              "N486HA    597\n",
              "N483HA    588\n",
              "N493HA    577\n",
              "Name: TAIL_NUMBER, dtype: int64"
            ]
          },
          "metadata": {
            "tags": []
          },
          "execution_count": 135
        }
      ]
    }
  ]
}
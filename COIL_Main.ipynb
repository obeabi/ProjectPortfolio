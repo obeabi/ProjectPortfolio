{
 "cells": [
  {
   "cell_type": "markdown",
   "metadata": {},
   "source": [
    "# Insurance Company Benchmark (COIL 2000) Data Set\n",
    "## Written by Abiola Obembe\n",
    "### Date 25-06-2020\n",
    "### Abstract: This data set used in the CoIL 2000 Challenge contains information on customers of an insurance company. \n",
    "### The data consists of 86 variables and includes product usage data and socio-demographic data"
   ]
  },
  {
   "cell_type": "markdown",
   "metadata": {},
   "source": [
    "## Data pre-processing"
   ]
  },
  {
   "cell_type": "code",
   "execution_count": 244,
   "metadata": {},
   "outputs": [
    {
     "name": "stdout",
     "output_type": "stream",
     "text": [
      "libraries installed!\n"
     ]
    }
   ],
   "source": [
    "# Importing the libraries\n",
    "import numpy as np\n",
    "import matplotlib.pyplot as plt\n",
    "import pandas as pd\n",
    "%matplotlib inline\n",
    "print(\"libraries installed!\")"
   ]
  },
  {
   "cell_type": "code",
   "execution_count": 245,
   "metadata": {},
   "outputs": [
    {
     "data": {
      "text/html": [
       "<div>\n",
       "<style scoped>\n",
       "    .dataframe tbody tr th:only-of-type {\n",
       "        vertical-align: middle;\n",
       "    }\n",
       "\n",
       "    .dataframe tbody tr th {\n",
       "        vertical-align: top;\n",
       "    }\n",
       "\n",
       "    .dataframe thead th {\n",
       "        text-align: right;\n",
       "    }\n",
       "</style>\n",
       "<table border=\"1\" class=\"dataframe\">\n",
       "  <thead>\n",
       "    <tr style=\"text-align: right;\">\n",
       "      <th></th>\n",
       "      <th>Customer Subtype</th>\n",
       "      <th>Number of houses</th>\n",
       "      <th>Avg size household</th>\n",
       "      <th>Avg age</th>\n",
       "      <th>Customer main type</th>\n",
       "      <th>Roman catholic</th>\n",
       "      <th>Protestant</th>\n",
       "      <th>Other religon</th>\n",
       "      <th>No religon</th>\n",
       "      <th>Married</th>\n",
       "      <th>...</th>\n",
       "      <th>Number of private accident insurance policies</th>\n",
       "      <th>Number of family accidents insurance policies</th>\n",
       "      <th>Number of disability insurance policies</th>\n",
       "      <th>Number of fire policies</th>\n",
       "      <th>Number of surfboard policies</th>\n",
       "      <th>Number of boat policies</th>\n",
       "      <th>Number of bicycle policies</th>\n",
       "      <th>Number of property insurance policies</th>\n",
       "      <th>Number of social security insurance policies</th>\n",
       "      <th>CARAVAN Number of mobile home policies</th>\n",
       "    </tr>\n",
       "  </thead>\n",
       "  <tbody>\n",
       "    <tr>\n",
       "      <th>0</th>\n",
       "      <td>33</td>\n",
       "      <td>1</td>\n",
       "      <td>3</td>\n",
       "      <td>2</td>\n",
       "      <td>8</td>\n",
       "      <td>0</td>\n",
       "      <td>5</td>\n",
       "      <td>1</td>\n",
       "      <td>3</td>\n",
       "      <td>7</td>\n",
       "      <td>...</td>\n",
       "      <td>0</td>\n",
       "      <td>0</td>\n",
       "      <td>0</td>\n",
       "      <td>1</td>\n",
       "      <td>0</td>\n",
       "      <td>0</td>\n",
       "      <td>0</td>\n",
       "      <td>0</td>\n",
       "      <td>0</td>\n",
       "      <td>0</td>\n",
       "    </tr>\n",
       "    <tr>\n",
       "      <th>1</th>\n",
       "      <td>37</td>\n",
       "      <td>1</td>\n",
       "      <td>2</td>\n",
       "      <td>2</td>\n",
       "      <td>8</td>\n",
       "      <td>1</td>\n",
       "      <td>4</td>\n",
       "      <td>1</td>\n",
       "      <td>4</td>\n",
       "      <td>6</td>\n",
       "      <td>...</td>\n",
       "      <td>0</td>\n",
       "      <td>0</td>\n",
       "      <td>0</td>\n",
       "      <td>1</td>\n",
       "      <td>0</td>\n",
       "      <td>0</td>\n",
       "      <td>0</td>\n",
       "      <td>0</td>\n",
       "      <td>0</td>\n",
       "      <td>0</td>\n",
       "    </tr>\n",
       "    <tr>\n",
       "      <th>2</th>\n",
       "      <td>37</td>\n",
       "      <td>1</td>\n",
       "      <td>2</td>\n",
       "      <td>2</td>\n",
       "      <td>8</td>\n",
       "      <td>0</td>\n",
       "      <td>4</td>\n",
       "      <td>2</td>\n",
       "      <td>4</td>\n",
       "      <td>3</td>\n",
       "      <td>...</td>\n",
       "      <td>0</td>\n",
       "      <td>0</td>\n",
       "      <td>0</td>\n",
       "      <td>1</td>\n",
       "      <td>0</td>\n",
       "      <td>0</td>\n",
       "      <td>0</td>\n",
       "      <td>0</td>\n",
       "      <td>0</td>\n",
       "      <td>0</td>\n",
       "    </tr>\n",
       "    <tr>\n",
       "      <th>3</th>\n",
       "      <td>9</td>\n",
       "      <td>1</td>\n",
       "      <td>3</td>\n",
       "      <td>3</td>\n",
       "      <td>3</td>\n",
       "      <td>2</td>\n",
       "      <td>3</td>\n",
       "      <td>2</td>\n",
       "      <td>4</td>\n",
       "      <td>5</td>\n",
       "      <td>...</td>\n",
       "      <td>0</td>\n",
       "      <td>0</td>\n",
       "      <td>0</td>\n",
       "      <td>1</td>\n",
       "      <td>0</td>\n",
       "      <td>0</td>\n",
       "      <td>0</td>\n",
       "      <td>0</td>\n",
       "      <td>0</td>\n",
       "      <td>0</td>\n",
       "    </tr>\n",
       "    <tr>\n",
       "      <th>4</th>\n",
       "      <td>40</td>\n",
       "      <td>1</td>\n",
       "      <td>4</td>\n",
       "      <td>2</td>\n",
       "      <td>10</td>\n",
       "      <td>1</td>\n",
       "      <td>4</td>\n",
       "      <td>1</td>\n",
       "      <td>4</td>\n",
       "      <td>7</td>\n",
       "      <td>...</td>\n",
       "      <td>0</td>\n",
       "      <td>0</td>\n",
       "      <td>0</td>\n",
       "      <td>1</td>\n",
       "      <td>0</td>\n",
       "      <td>0</td>\n",
       "      <td>0</td>\n",
       "      <td>0</td>\n",
       "      <td>0</td>\n",
       "      <td>0</td>\n",
       "    </tr>\n",
       "  </tbody>\n",
       "</table>\n",
       "<p>5 rows × 86 columns</p>\n",
       "</div>"
      ],
      "text/plain": [
       "   Customer Subtype  Number of houses  Avg size household  Avg age  \\\n",
       "0                33                 1                   3        2   \n",
       "1                37                 1                   2        2   \n",
       "2                37                 1                   2        2   \n",
       "3                 9                 1                   3        3   \n",
       "4                40                 1                   4        2   \n",
       "\n",
       "   Customer main type  Roman catholic  Protestant  Other religon  No religon  \\\n",
       "0                   8               0           5              1           3   \n",
       "1                   8               1           4              1           4   \n",
       "2                   8               0           4              2           4   \n",
       "3                   3               2           3              2           4   \n",
       "4                  10               1           4              1           4   \n",
       "\n",
       "   Married  ...  Number of private accident insurance policies  \\\n",
       "0        7  ...                                              0   \n",
       "1        6  ...                                              0   \n",
       "2        3  ...                                              0   \n",
       "3        5  ...                                              0   \n",
       "4        7  ...                                              0   \n",
       "\n",
       "   Number of family accidents insurance policies  \\\n",
       "0                                              0   \n",
       "1                                              0   \n",
       "2                                              0   \n",
       "3                                              0   \n",
       "4                                              0   \n",
       "\n",
       "   Number of disability insurance policies  Number of fire policies  \\\n",
       "0                                        0                        1   \n",
       "1                                        0                        1   \n",
       "2                                        0                        1   \n",
       "3                                        0                        1   \n",
       "4                                        0                        1   \n",
       "\n",
       "   Number of surfboard policies  Number of boat policies  \\\n",
       "0                             0                        0   \n",
       "1                             0                        0   \n",
       "2                             0                        0   \n",
       "3                             0                        0   \n",
       "4                             0                        0   \n",
       "\n",
       "   Number of bicycle policies  Number of property insurance policies  \\\n",
       "0                           0                                      0   \n",
       "1                           0                                      0   \n",
       "2                           0                                      0   \n",
       "3                           0                                      0   \n",
       "4                           0                                      0   \n",
       "\n",
       "   Number of social security insurance policies  \\\n",
       "0                                             0   \n",
       "1                                             0   \n",
       "2                                             0   \n",
       "3                                             0   \n",
       "4                                             0   \n",
       "\n",
       "   CARAVAN Number of mobile home policies  \n",
       "0                                       0  \n",
       "1                                       0  \n",
       "2                                       0  \n",
       "3                                       0  \n",
       "4                                       0  \n",
       "\n",
       "[5 rows x 86 columns]"
      ]
     },
     "execution_count": 245,
     "metadata": {},
     "output_type": "execute_result"
    }
   ],
   "source": [
    "# Importing the training dataset\n",
    "dataset_train = pd.read_excel('TrainingDatawithHeaders.xlsx')\n",
    "dataset_train.head()"
   ]
  },
  {
   "cell_type": "code",
   "execution_count": 246,
   "metadata": {},
   "outputs": [
    {
     "data": {
      "text/plain": [
       "Customer Subtype                                0\n",
       "Number of houses                                0\n",
       "Avg size household                              0\n",
       "Avg age                                         0\n",
       "Customer main type                              0\n",
       "                                               ..\n",
       "Number of boat policies                         0\n",
       "Number of bicycle policies                      0\n",
       "Number of property insurance policies           0\n",
       "Number of social security insurance policies    0\n",
       "CARAVAN Number of mobile home policies          0\n",
       "Length: 86, dtype: int64"
      ]
     },
     "execution_count": 246,
     "metadata": {},
     "output_type": "execute_result"
    }
   ],
   "source": [
    "# Check for missing values in training dataset\n",
    "dataset_train.isnull().sum()"
   ]
  },
  {
   "cell_type": "code",
   "execution_count": 247,
   "metadata": {},
   "outputs": [
    {
     "name": "stdout",
     "output_type": "stream",
     "text": [
      "The number of missing values in dataset_train is: 0\n"
     ]
    }
   ],
   "source": [
    "# print the total number of missing values in training dataset\n",
    "print(\"The number of missing values in dataset_train is:\",dataset_train.isnull().sum().sum() )"
   ]
  },
  {
   "cell_type": "code",
   "execution_count": 248,
   "metadata": {},
   "outputs": [
    {
     "data": {
      "text/html": [
       "<div>\n",
       "<style scoped>\n",
       "    .dataframe tbody tr th:only-of-type {\n",
       "        vertical-align: middle;\n",
       "    }\n",
       "\n",
       "    .dataframe tbody tr th {\n",
       "        vertical-align: top;\n",
       "    }\n",
       "\n",
       "    .dataframe thead th {\n",
       "        text-align: right;\n",
       "    }\n",
       "</style>\n",
       "<table border=\"1\" class=\"dataframe\">\n",
       "  <thead>\n",
       "    <tr style=\"text-align: right;\">\n",
       "      <th></th>\n",
       "      <th>Customer Subtype</th>\n",
       "      <th>Number of houses</th>\n",
       "      <th>Avg size household</th>\n",
       "      <th>Avg age</th>\n",
       "      <th>Customer main type</th>\n",
       "      <th>Roman catholic</th>\n",
       "      <th>Protestant</th>\n",
       "      <th>Other religon</th>\n",
       "      <th>No religon</th>\n",
       "      <th>Married</th>\n",
       "      <th>...</th>\n",
       "      <th>Number of private accident insurance policies</th>\n",
       "      <th>Number of family accidents insurance policies</th>\n",
       "      <th>Number of disability insurance policies</th>\n",
       "      <th>Number of fire policies</th>\n",
       "      <th>Number of surfboard policies</th>\n",
       "      <th>Number of boat policies</th>\n",
       "      <th>Number of bicycle policies</th>\n",
       "      <th>Number of property insurance policies</th>\n",
       "      <th>Number of social security insurance policies</th>\n",
       "      <th>CARAVAN Number of mobile home policies</th>\n",
       "    </tr>\n",
       "  </thead>\n",
       "  <tbody>\n",
       "    <tr>\n",
       "      <th>0</th>\n",
       "      <td>33</td>\n",
       "      <td>1</td>\n",
       "      <td>4</td>\n",
       "      <td>2</td>\n",
       "      <td>8</td>\n",
       "      <td>0</td>\n",
       "      <td>6</td>\n",
       "      <td>0</td>\n",
       "      <td>3</td>\n",
       "      <td>5</td>\n",
       "      <td>...</td>\n",
       "      <td>0</td>\n",
       "      <td>0</td>\n",
       "      <td>0</td>\n",
       "      <td>1</td>\n",
       "      <td>0</td>\n",
       "      <td>0</td>\n",
       "      <td>0</td>\n",
       "      <td>0</td>\n",
       "      <td>0</td>\n",
       "      <td>0</td>\n",
       "    </tr>\n",
       "    <tr>\n",
       "      <th>1</th>\n",
       "      <td>6</td>\n",
       "      <td>1</td>\n",
       "      <td>3</td>\n",
       "      <td>2</td>\n",
       "      <td>2</td>\n",
       "      <td>0</td>\n",
       "      <td>5</td>\n",
       "      <td>0</td>\n",
       "      <td>4</td>\n",
       "      <td>5</td>\n",
       "      <td>...</td>\n",
       "      <td>0</td>\n",
       "      <td>0</td>\n",
       "      <td>0</td>\n",
       "      <td>1</td>\n",
       "      <td>0</td>\n",
       "      <td>0</td>\n",
       "      <td>0</td>\n",
       "      <td>0</td>\n",
       "      <td>0</td>\n",
       "      <td>1</td>\n",
       "    </tr>\n",
       "    <tr>\n",
       "      <th>2</th>\n",
       "      <td>39</td>\n",
       "      <td>1</td>\n",
       "      <td>3</td>\n",
       "      <td>3</td>\n",
       "      <td>9</td>\n",
       "      <td>1</td>\n",
       "      <td>4</td>\n",
       "      <td>2</td>\n",
       "      <td>3</td>\n",
       "      <td>5</td>\n",
       "      <td>...</td>\n",
       "      <td>0</td>\n",
       "      <td>0</td>\n",
       "      <td>0</td>\n",
       "      <td>1</td>\n",
       "      <td>0</td>\n",
       "      <td>0</td>\n",
       "      <td>0</td>\n",
       "      <td>0</td>\n",
       "      <td>0</td>\n",
       "      <td>0</td>\n",
       "    </tr>\n",
       "    <tr>\n",
       "      <th>3</th>\n",
       "      <td>9</td>\n",
       "      <td>1</td>\n",
       "      <td>2</td>\n",
       "      <td>3</td>\n",
       "      <td>3</td>\n",
       "      <td>2</td>\n",
       "      <td>3</td>\n",
       "      <td>2</td>\n",
       "      <td>4</td>\n",
       "      <td>5</td>\n",
       "      <td>...</td>\n",
       "      <td>0</td>\n",
       "      <td>0</td>\n",
       "      <td>0</td>\n",
       "      <td>1</td>\n",
       "      <td>0</td>\n",
       "      <td>0</td>\n",
       "      <td>0</td>\n",
       "      <td>0</td>\n",
       "      <td>0</td>\n",
       "      <td>0</td>\n",
       "    </tr>\n",
       "    <tr>\n",
       "      <th>4</th>\n",
       "      <td>31</td>\n",
       "      <td>1</td>\n",
       "      <td>2</td>\n",
       "      <td>4</td>\n",
       "      <td>7</td>\n",
       "      <td>0</td>\n",
       "      <td>2</td>\n",
       "      <td>0</td>\n",
       "      <td>7</td>\n",
       "      <td>9</td>\n",
       "      <td>...</td>\n",
       "      <td>0</td>\n",
       "      <td>0</td>\n",
       "      <td>0</td>\n",
       "      <td>1</td>\n",
       "      <td>0</td>\n",
       "      <td>0</td>\n",
       "      <td>0</td>\n",
       "      <td>0</td>\n",
       "      <td>0</td>\n",
       "      <td>0</td>\n",
       "    </tr>\n",
       "  </tbody>\n",
       "</table>\n",
       "<p>5 rows × 86 columns</p>\n",
       "</div>"
      ],
      "text/plain": [
       "   Customer Subtype  Number of houses  Avg size household  Avg age  \\\n",
       "0                33                 1                   4        2   \n",
       "1                 6                 1                   3        2   \n",
       "2                39                 1                   3        3   \n",
       "3                 9                 1                   2        3   \n",
       "4                31                 1                   2        4   \n",
       "\n",
       "   Customer main type  Roman catholic  Protestant  Other religon  No religon  \\\n",
       "0                   8               0           6              0           3   \n",
       "1                   2               0           5              0           4   \n",
       "2                   9               1           4              2           3   \n",
       "3                   3               2           3              2           4   \n",
       "4                   7               0           2              0           7   \n",
       "\n",
       "   Married  ...  Number of private accident insurance policies  \\\n",
       "0        5  ...                                              0   \n",
       "1        5  ...                                              0   \n",
       "2        5  ...                                              0   \n",
       "3        5  ...                                              0   \n",
       "4        9  ...                                              0   \n",
       "\n",
       "   Number of family accidents insurance policies  \\\n",
       "0                                              0   \n",
       "1                                              0   \n",
       "2                                              0   \n",
       "3                                              0   \n",
       "4                                              0   \n",
       "\n",
       "   Number of disability insurance policies  Number of fire policies  \\\n",
       "0                                        0                        1   \n",
       "1                                        0                        1   \n",
       "2                                        0                        1   \n",
       "3                                        0                        1   \n",
       "4                                        0                        1   \n",
       "\n",
       "   Number of surfboard policies  Number of boat policies  \\\n",
       "0                             0                        0   \n",
       "1                             0                        0   \n",
       "2                             0                        0   \n",
       "3                             0                        0   \n",
       "4                             0                        0   \n",
       "\n",
       "   Number of bicycle policies  Number of property insurance policies  \\\n",
       "0                           0                                      0   \n",
       "1                           0                                      0   \n",
       "2                           0                                      0   \n",
       "3                           0                                      0   \n",
       "4                           0                                      0   \n",
       "\n",
       "   Number of social security insurance policies  \\\n",
       "0                                             0   \n",
       "1                                             0   \n",
       "2                                             0   \n",
       "3                                             0   \n",
       "4                                             0   \n",
       "\n",
       "   CARAVAN Number of mobile home policies  \n",
       "0                                       0  \n",
       "1                                       1  \n",
       "2                                       0  \n",
       "3                                       0  \n",
       "4                                       0  \n",
       "\n",
       "[5 rows x 86 columns]"
      ]
     },
     "execution_count": 248,
     "metadata": {},
     "output_type": "execute_result"
    }
   ],
   "source": [
    "# Importing the training dataset\n",
    "dataset_test = pd.read_excel('TestDatawithHeaders.xlsx')\n",
    "dataset_test.head()"
   ]
  },
  {
   "cell_type": "code",
   "execution_count": 249,
   "metadata": {},
   "outputs": [
    {
     "data": {
      "text/plain": [
       "Customer Subtype                                0\n",
       "Number of houses                                0\n",
       "Avg size household                              0\n",
       "Avg age                                         0\n",
       "Customer main type                              0\n",
       "                                               ..\n",
       "Number of boat policies                         0\n",
       "Number of bicycle policies                      0\n",
       "Number of property insurance policies           0\n",
       "Number of social security insurance policies    0\n",
       "CARAVAN Number of mobile home policies          0\n",
       "Length: 86, dtype: int64"
      ]
     },
     "execution_count": 249,
     "metadata": {},
     "output_type": "execute_result"
    }
   ],
   "source": [
    "# Check for missing values in test dataset\n",
    "dataset_test.isnull().sum()"
   ]
  },
  {
   "cell_type": "code",
   "execution_count": 250,
   "metadata": {},
   "outputs": [
    {
     "name": "stdout",
     "output_type": "stream",
     "text": [
      "The number of missing values in dataset_test is: 0\n"
     ]
    }
   ],
   "source": [
    "# print the total number of missing values in test dataset\n",
    "print(\"The number of missing values in dataset_test is:\",dataset_test.isnull().sum().sum() )"
   ]
  },
  {
   "cell_type": "code",
   "execution_count": 251,
   "metadata": {},
   "outputs": [
    {
     "data": {
      "text/plain": [
       "Customer Subtype                                int64\n",
       "Number of houses                                int64\n",
       "Avg size household                              int64\n",
       "Avg age                                         int64\n",
       "Customer main type                              int64\n",
       "                                                ...  \n",
       "Number of boat policies                         int64\n",
       "Number of bicycle policies                      int64\n",
       "Number of property insurance policies           int64\n",
       "Number of social security insurance policies    int64\n",
       "CARAVAN Number of mobile home policies          int64\n",
       "Length: 86, dtype: object"
      ]
     },
     "execution_count": 251,
     "metadata": {},
     "output_type": "execute_result"
    }
   ],
   "source": [
    "# Investigate datatypes\n",
    "dataset_train.dtypes"
   ]
  },
  {
   "cell_type": "code",
   "execution_count": 252,
   "metadata": {},
   "outputs": [
    {
     "data": {
      "text/plain": [
       "Index(['Customer Subtype', 'Number of houses', 'Avg size household', 'Avg age',\n",
       "       'Customer main type', 'Roman catholic', 'Protestant', 'Other religon',\n",
       "       'No religon', 'Married', 'Living together', 'Other relation', 'Singles',\n",
       "       'Household without children', 'Household with children',\n",
       "       'High level education', 'Medium level education',\n",
       "       'Lower level education', 'High status', 'Entrepreneur', 'Farmer',\n",
       "       'Middle management', 'Skilled labourers', 'Unskilled labourers',\n",
       "       'Social class A', 'Social class B1', 'Social class B2',\n",
       "       'Social class C', 'Social class D', 'Rented house', 'Home owners',\n",
       "       'One car', 'Two cars', 'No car', 'National Health Service',\n",
       "       'Private health insurance', 'Income less than 30',\n",
       "       'Income between 30 and 45', 'Income between 45 and 75',\n",
       "       'Income between 75 and 122', 'Income greater than 123',\n",
       "       'Average income', 'Purchasing power class',\n",
       "       ' Contribution private third party insurance',\n",
       "       'Contribution third party insurance (firms)',\n",
       "       'Contribution third party insurane (agriculture)',\n",
       "       'Contribution car policies', 'Contribution delivery van policies',\n",
       "       'Contribution motorcycle/scooter policies',\n",
       "       'Contribution lorry policies', 'Contribution trailer policies',\n",
       "       'Contribution tractor policies',\n",
       "       'Contribution agricultural machines policies ',\n",
       "       'Contribution moped policies', 'Contribution life insurances',\n",
       "       'Contribution private accident insurance policies',\n",
       "       'Contribution family accidents insurance policies',\n",
       "       'Contribution disability insurance policies',\n",
       "       'Contribution fire policies', 'Contribution surfboard policies',\n",
       "       'Contribution boat policies', 'Contribution bicycle policies',\n",
       "       'Contribution property insurance policies',\n",
       "       'Contribution social security insurance policies',\n",
       "       'Number of private third party insurance 1 - 12',\n",
       "       'Number of third party insurance (firms)',\n",
       "       'Number of third party insurane (agriculture)',\n",
       "       'Number of car policies', 'Number of delivery van policies',\n",
       "       'Number of motorcycle/scooter policies', 'Number of lorry policies',\n",
       "       'Number of trailer policies', 'Number of tractor policies',\n",
       "       'Number of agricultural machines policies', 'Number of moped policies',\n",
       "       'Number of life insurances',\n",
       "       'Number of private accident insurance policies',\n",
       "       'Number of family accidents insurance policies',\n",
       "       'Number of disability insurance policies', 'Number of fire policies',\n",
       "       'Number of surfboard policies', 'Number of boat policies',\n",
       "       'Number of bicycle policies', 'Number of property insurance policies',\n",
       "       'Number of social security insurance policies',\n",
       "       'CARAVAN Number of mobile home policies'],\n",
       "      dtype='object')"
      ]
     },
     "execution_count": 252,
     "metadata": {},
     "output_type": "execute_result"
    }
   ],
   "source": [
    "# print colums names\n",
    "dataset_train.columns"
   ]
  },
  {
   "cell_type": "markdown",
   "metadata": {},
   "source": [
    "## Prelimary Exploratory analysis"
   ]
  },
  {
   "cell_type": "code",
   "execution_count": 253,
   "metadata": {},
   "outputs": [
    {
     "data": {
      "text/plain": [
       "0    5474\n",
       "1     348\n",
       "Name: CARAVAN Number of mobile home policies, dtype: int64"
      ]
     },
     "execution_count": 253,
     "metadata": {},
     "output_type": "execute_result"
    }
   ],
   "source": [
    "# Simple analysis on number of caravan mobile home policies\n",
    "dataset_train['CARAVAN Number of mobile home policies'].value_counts()"
   ]
  },
  {
   "cell_type": "code",
   "execution_count": 254,
   "metadata": {},
   "outputs": [
    {
     "name": "stdout",
     "output_type": "stream",
     "text": [
      "348\n"
     ]
    }
   ],
   "source": [
    "y1= len(dataset_train[dataset_train['CARAVAN Number of mobile home policies']== 1])\n",
    "print(y1)"
   ]
  },
  {
   "cell_type": "code",
   "execution_count": 255,
   "metadata": {},
   "outputs": [
    {
     "data": {
      "text/html": [
       "<div>\n",
       "<style scoped>\n",
       "    .dataframe tbody tr th:only-of-type {\n",
       "        vertical-align: middle;\n",
       "    }\n",
       "\n",
       "    .dataframe tbody tr th {\n",
       "        vertical-align: top;\n",
       "    }\n",
       "\n",
       "    .dataframe thead th {\n",
       "        text-align: right;\n",
       "    }\n",
       "</style>\n",
       "<table border=\"1\" class=\"dataframe\">\n",
       "  <thead>\n",
       "    <tr style=\"text-align: right;\">\n",
       "      <th></th>\n",
       "      <th>Customer Subtype</th>\n",
       "      <th>Number of houses</th>\n",
       "      <th>Avg size household</th>\n",
       "      <th>Avg age</th>\n",
       "      <th>Customer main type</th>\n",
       "      <th>Roman catholic</th>\n",
       "      <th>Protestant</th>\n",
       "      <th>Other religon</th>\n",
       "      <th>No religon</th>\n",
       "      <th>Married</th>\n",
       "      <th>...</th>\n",
       "      <th>Number of private accident insurance policies</th>\n",
       "      <th>Number of family accidents insurance policies</th>\n",
       "      <th>Number of disability insurance policies</th>\n",
       "      <th>Number of fire policies</th>\n",
       "      <th>Number of surfboard policies</th>\n",
       "      <th>Number of boat policies</th>\n",
       "      <th>Number of bicycle policies</th>\n",
       "      <th>Number of property insurance policies</th>\n",
       "      <th>Number of social security insurance policies</th>\n",
       "      <th>CARAVAN Number of mobile home policies</th>\n",
       "    </tr>\n",
       "  </thead>\n",
       "  <tbody>\n",
       "    <tr>\n",
       "      <th>count</th>\n",
       "      <td>5822.000000</td>\n",
       "      <td>5822.000000</td>\n",
       "      <td>5822.000000</td>\n",
       "      <td>5822.000000</td>\n",
       "      <td>5822.000000</td>\n",
       "      <td>5822.000000</td>\n",
       "      <td>5822.000000</td>\n",
       "      <td>5822.000000</td>\n",
       "      <td>5822.000000</td>\n",
       "      <td>5822.000000</td>\n",
       "      <td>...</td>\n",
       "      <td>5822.000000</td>\n",
       "      <td>5822.000000</td>\n",
       "      <td>5822.000000</td>\n",
       "      <td>5822.000000</td>\n",
       "      <td>5822.000000</td>\n",
       "      <td>5822.000000</td>\n",
       "      <td>5822.000000</td>\n",
       "      <td>5822.000000</td>\n",
       "      <td>5822.000000</td>\n",
       "      <td>5822.000000</td>\n",
       "    </tr>\n",
       "    <tr>\n",
       "      <th>mean</th>\n",
       "      <td>24.253349</td>\n",
       "      <td>1.110615</td>\n",
       "      <td>2.678805</td>\n",
       "      <td>2.991240</td>\n",
       "      <td>5.773617</td>\n",
       "      <td>0.696496</td>\n",
       "      <td>4.626932</td>\n",
       "      <td>1.069907</td>\n",
       "      <td>3.258502</td>\n",
       "      <td>6.183442</td>\n",
       "      <td>...</td>\n",
       "      <td>0.005325</td>\n",
       "      <td>0.006527</td>\n",
       "      <td>0.004638</td>\n",
       "      <td>0.570079</td>\n",
       "      <td>0.000515</td>\n",
       "      <td>0.006012</td>\n",
       "      <td>0.031776</td>\n",
       "      <td>0.007901</td>\n",
       "      <td>0.014256</td>\n",
       "      <td>0.059773</td>\n",
       "    </tr>\n",
       "    <tr>\n",
       "      <th>std</th>\n",
       "      <td>12.846706</td>\n",
       "      <td>0.405842</td>\n",
       "      <td>0.789835</td>\n",
       "      <td>0.814589</td>\n",
       "      <td>2.856760</td>\n",
       "      <td>1.003234</td>\n",
       "      <td>1.715843</td>\n",
       "      <td>1.017503</td>\n",
       "      <td>1.597647</td>\n",
       "      <td>1.909482</td>\n",
       "      <td>...</td>\n",
       "      <td>0.072782</td>\n",
       "      <td>0.080532</td>\n",
       "      <td>0.077403</td>\n",
       "      <td>0.562058</td>\n",
       "      <td>0.022696</td>\n",
       "      <td>0.081632</td>\n",
       "      <td>0.210986</td>\n",
       "      <td>0.090463</td>\n",
       "      <td>0.119996</td>\n",
       "      <td>0.237087</td>\n",
       "    </tr>\n",
       "    <tr>\n",
       "      <th>min</th>\n",
       "      <td>1.000000</td>\n",
       "      <td>1.000000</td>\n",
       "      <td>1.000000</td>\n",
       "      <td>1.000000</td>\n",
       "      <td>1.000000</td>\n",
       "      <td>0.000000</td>\n",
       "      <td>0.000000</td>\n",
       "      <td>0.000000</td>\n",
       "      <td>0.000000</td>\n",
       "      <td>0.000000</td>\n",
       "      <td>...</td>\n",
       "      <td>0.000000</td>\n",
       "      <td>0.000000</td>\n",
       "      <td>0.000000</td>\n",
       "      <td>0.000000</td>\n",
       "      <td>0.000000</td>\n",
       "      <td>0.000000</td>\n",
       "      <td>0.000000</td>\n",
       "      <td>0.000000</td>\n",
       "      <td>0.000000</td>\n",
       "      <td>0.000000</td>\n",
       "    </tr>\n",
       "    <tr>\n",
       "      <th>25%</th>\n",
       "      <td>10.000000</td>\n",
       "      <td>1.000000</td>\n",
       "      <td>2.000000</td>\n",
       "      <td>2.000000</td>\n",
       "      <td>3.000000</td>\n",
       "      <td>0.000000</td>\n",
       "      <td>4.000000</td>\n",
       "      <td>0.000000</td>\n",
       "      <td>2.000000</td>\n",
       "      <td>5.000000</td>\n",
       "      <td>...</td>\n",
       "      <td>0.000000</td>\n",
       "      <td>0.000000</td>\n",
       "      <td>0.000000</td>\n",
       "      <td>0.000000</td>\n",
       "      <td>0.000000</td>\n",
       "      <td>0.000000</td>\n",
       "      <td>0.000000</td>\n",
       "      <td>0.000000</td>\n",
       "      <td>0.000000</td>\n",
       "      <td>0.000000</td>\n",
       "    </tr>\n",
       "    <tr>\n",
       "      <th>50%</th>\n",
       "      <td>30.000000</td>\n",
       "      <td>1.000000</td>\n",
       "      <td>3.000000</td>\n",
       "      <td>3.000000</td>\n",
       "      <td>7.000000</td>\n",
       "      <td>0.000000</td>\n",
       "      <td>5.000000</td>\n",
       "      <td>1.000000</td>\n",
       "      <td>3.000000</td>\n",
       "      <td>6.000000</td>\n",
       "      <td>...</td>\n",
       "      <td>0.000000</td>\n",
       "      <td>0.000000</td>\n",
       "      <td>0.000000</td>\n",
       "      <td>1.000000</td>\n",
       "      <td>0.000000</td>\n",
       "      <td>0.000000</td>\n",
       "      <td>0.000000</td>\n",
       "      <td>0.000000</td>\n",
       "      <td>0.000000</td>\n",
       "      <td>0.000000</td>\n",
       "    </tr>\n",
       "    <tr>\n",
       "      <th>75%</th>\n",
       "      <td>35.000000</td>\n",
       "      <td>1.000000</td>\n",
       "      <td>3.000000</td>\n",
       "      <td>3.000000</td>\n",
       "      <td>8.000000</td>\n",
       "      <td>1.000000</td>\n",
       "      <td>6.000000</td>\n",
       "      <td>2.000000</td>\n",
       "      <td>4.000000</td>\n",
       "      <td>7.000000</td>\n",
       "      <td>...</td>\n",
       "      <td>0.000000</td>\n",
       "      <td>0.000000</td>\n",
       "      <td>0.000000</td>\n",
       "      <td>1.000000</td>\n",
       "      <td>0.000000</td>\n",
       "      <td>0.000000</td>\n",
       "      <td>0.000000</td>\n",
       "      <td>0.000000</td>\n",
       "      <td>0.000000</td>\n",
       "      <td>0.000000</td>\n",
       "    </tr>\n",
       "    <tr>\n",
       "      <th>max</th>\n",
       "      <td>41.000000</td>\n",
       "      <td>10.000000</td>\n",
       "      <td>5.000000</td>\n",
       "      <td>6.000000</td>\n",
       "      <td>10.000000</td>\n",
       "      <td>9.000000</td>\n",
       "      <td>9.000000</td>\n",
       "      <td>5.000000</td>\n",
       "      <td>9.000000</td>\n",
       "      <td>9.000000</td>\n",
       "      <td>...</td>\n",
       "      <td>1.000000</td>\n",
       "      <td>1.000000</td>\n",
       "      <td>2.000000</td>\n",
       "      <td>7.000000</td>\n",
       "      <td>1.000000</td>\n",
       "      <td>2.000000</td>\n",
       "      <td>3.000000</td>\n",
       "      <td>2.000000</td>\n",
       "      <td>2.000000</td>\n",
       "      <td>1.000000</td>\n",
       "    </tr>\n",
       "  </tbody>\n",
       "</table>\n",
       "<p>8 rows × 86 columns</p>\n",
       "</div>"
      ],
      "text/plain": [
       "       Customer Subtype  Number of houses  Avg size household      Avg age  \\\n",
       "count       5822.000000       5822.000000         5822.000000  5822.000000   \n",
       "mean          24.253349          1.110615            2.678805     2.991240   \n",
       "std           12.846706          0.405842            0.789835     0.814589   \n",
       "min            1.000000          1.000000            1.000000     1.000000   \n",
       "25%           10.000000          1.000000            2.000000     2.000000   \n",
       "50%           30.000000          1.000000            3.000000     3.000000   \n",
       "75%           35.000000          1.000000            3.000000     3.000000   \n",
       "max           41.000000         10.000000            5.000000     6.000000   \n",
       "\n",
       "       Customer main type  Roman catholic   Protestant  Other religon  \\\n",
       "count         5822.000000     5822.000000  5822.000000    5822.000000   \n",
       "mean             5.773617        0.696496     4.626932       1.069907   \n",
       "std              2.856760        1.003234     1.715843       1.017503   \n",
       "min              1.000000        0.000000     0.000000       0.000000   \n",
       "25%              3.000000        0.000000     4.000000       0.000000   \n",
       "50%              7.000000        0.000000     5.000000       1.000000   \n",
       "75%              8.000000        1.000000     6.000000       2.000000   \n",
       "max             10.000000        9.000000     9.000000       5.000000   \n",
       "\n",
       "        No religon      Married  ...  \\\n",
       "count  5822.000000  5822.000000  ...   \n",
       "mean      3.258502     6.183442  ...   \n",
       "std       1.597647     1.909482  ...   \n",
       "min       0.000000     0.000000  ...   \n",
       "25%       2.000000     5.000000  ...   \n",
       "50%       3.000000     6.000000  ...   \n",
       "75%       4.000000     7.000000  ...   \n",
       "max       9.000000     9.000000  ...   \n",
       "\n",
       "       Number of private accident insurance policies  \\\n",
       "count                                    5822.000000   \n",
       "mean                                        0.005325   \n",
       "std                                         0.072782   \n",
       "min                                         0.000000   \n",
       "25%                                         0.000000   \n",
       "50%                                         0.000000   \n",
       "75%                                         0.000000   \n",
       "max                                         1.000000   \n",
       "\n",
       "       Number of family accidents insurance policies  \\\n",
       "count                                    5822.000000   \n",
       "mean                                        0.006527   \n",
       "std                                         0.080532   \n",
       "min                                         0.000000   \n",
       "25%                                         0.000000   \n",
       "50%                                         0.000000   \n",
       "75%                                         0.000000   \n",
       "max                                         1.000000   \n",
       "\n",
       "       Number of disability insurance policies  Number of fire policies  \\\n",
       "count                              5822.000000              5822.000000   \n",
       "mean                                  0.004638                 0.570079   \n",
       "std                                   0.077403                 0.562058   \n",
       "min                                   0.000000                 0.000000   \n",
       "25%                                   0.000000                 0.000000   \n",
       "50%                                   0.000000                 1.000000   \n",
       "75%                                   0.000000                 1.000000   \n",
       "max                                   2.000000                 7.000000   \n",
       "\n",
       "       Number of surfboard policies  Number of boat policies  \\\n",
       "count                   5822.000000              5822.000000   \n",
       "mean                       0.000515                 0.006012   \n",
       "std                        0.022696                 0.081632   \n",
       "min                        0.000000                 0.000000   \n",
       "25%                        0.000000                 0.000000   \n",
       "50%                        0.000000                 0.000000   \n",
       "75%                        0.000000                 0.000000   \n",
       "max                        1.000000                 2.000000   \n",
       "\n",
       "       Number of bicycle policies  Number of property insurance policies  \\\n",
       "count                 5822.000000                            5822.000000   \n",
       "mean                     0.031776                               0.007901   \n",
       "std                      0.210986                               0.090463   \n",
       "min                      0.000000                               0.000000   \n",
       "25%                      0.000000                               0.000000   \n",
       "50%                      0.000000                               0.000000   \n",
       "75%                      0.000000                               0.000000   \n",
       "max                      3.000000                               2.000000   \n",
       "\n",
       "       Number of social security insurance policies  \\\n",
       "count                                   5822.000000   \n",
       "mean                                       0.014256   \n",
       "std                                        0.119996   \n",
       "min                                        0.000000   \n",
       "25%                                        0.000000   \n",
       "50%                                        0.000000   \n",
       "75%                                        0.000000   \n",
       "max                                        2.000000   \n",
       "\n",
       "       CARAVAN Number of mobile home policies  \n",
       "count                             5822.000000  \n",
       "mean                                 0.059773  \n",
       "std                                  0.237087  \n",
       "min                                  0.000000  \n",
       "25%                                  0.000000  \n",
       "50%                                  0.000000  \n",
       "75%                                  0.000000  \n",
       "max                                  1.000000  \n",
       "\n",
       "[8 rows x 86 columns]"
      ]
     },
     "execution_count": 255,
     "metadata": {},
     "output_type": "execute_result"
    }
   ],
   "source": [
    "# statistical summary\n",
    "dataset_train.describe()"
   ]
  },
  {
   "cell_type": "code",
   "execution_count": 256,
   "metadata": {},
   "outputs": [
    {
     "data": {
      "text/html": [
       "<div>\n",
       "<style scoped>\n",
       "    .dataframe tbody tr th:only-of-type {\n",
       "        vertical-align: middle;\n",
       "    }\n",
       "\n",
       "    .dataframe tbody tr th {\n",
       "        vertical-align: top;\n",
       "    }\n",
       "\n",
       "    .dataframe thead th {\n",
       "        text-align: right;\n",
       "    }\n",
       "</style>\n",
       "<table border=\"1\" class=\"dataframe\">\n",
       "  <thead>\n",
       "    <tr style=\"text-align: right;\">\n",
       "      <th></th>\n",
       "      <th>Customer Subtype</th>\n",
       "      <th>Number of houses</th>\n",
       "      <th>Avg size household</th>\n",
       "      <th>Avg age</th>\n",
       "      <th>Customer main type</th>\n",
       "      <th>Roman catholic</th>\n",
       "      <th>Protestant</th>\n",
       "      <th>Other religon</th>\n",
       "      <th>No religon</th>\n",
       "      <th>Married</th>\n",
       "      <th>...</th>\n",
       "      <th>Number of private accident insurance policies</th>\n",
       "      <th>Number of family accidents insurance policies</th>\n",
       "      <th>Number of disability insurance policies</th>\n",
       "      <th>Number of fire policies</th>\n",
       "      <th>Number of surfboard policies</th>\n",
       "      <th>Number of boat policies</th>\n",
       "      <th>Number of bicycle policies</th>\n",
       "      <th>Number of property insurance policies</th>\n",
       "      <th>Number of social security insurance policies</th>\n",
       "      <th>CARAVAN Number of mobile home policies</th>\n",
       "    </tr>\n",
       "  </thead>\n",
       "  <tbody>\n",
       "    <tr>\n",
       "      <th>Customer Subtype</th>\n",
       "      <td>1.000000</td>\n",
       "      <td>-0.038721</td>\n",
       "      <td>-0.021997</td>\n",
       "      <td>0.009454</td>\n",
       "      <td>0.992672</td>\n",
       "      <td>-0.193613</td>\n",
       "      <td>0.090399</td>\n",
       "      <td>-0.025642</td>\n",
       "      <td>-0.019505</td>\n",
       "      <td>-0.065596</td>\n",
       "      <td>...</td>\n",
       "      <td>0.021707</td>\n",
       "      <td>-0.012060</td>\n",
       "      <td>-0.002909</td>\n",
       "      <td>-0.011512</td>\n",
       "      <td>0.007801</td>\n",
       "      <td>-0.018162</td>\n",
       "      <td>-0.015774</td>\n",
       "      <td>-0.021087</td>\n",
       "      <td>-0.053718</td>\n",
       "      <td>-0.069385</td>\n",
       "    </tr>\n",
       "    <tr>\n",
       "      <th>Number of houses</th>\n",
       "      <td>-0.038721</td>\n",
       "      <td>1.000000</td>\n",
       "      <td>0.010102</td>\n",
       "      <td>0.056975</td>\n",
       "      <td>-0.045817</td>\n",
       "      <td>-0.006136</td>\n",
       "      <td>-0.024360</td>\n",
       "      <td>0.012056</td>\n",
       "      <td>0.020540</td>\n",
       "      <td>0.023025</td>\n",
       "      <td>...</td>\n",
       "      <td>0.003321</td>\n",
       "      <td>0.009444</td>\n",
       "      <td>-0.016333</td>\n",
       "      <td>0.000655</td>\n",
       "      <td>-0.006189</td>\n",
       "      <td>0.000666</td>\n",
       "      <td>-0.020993</td>\n",
       "      <td>0.018304</td>\n",
       "      <td>-0.004166</td>\n",
       "      <td>-0.009809</td>\n",
       "    </tr>\n",
       "    <tr>\n",
       "      <th>Avg size household</th>\n",
       "      <td>-0.021997</td>\n",
       "      <td>0.010102</td>\n",
       "      <td>1.000000</td>\n",
       "      <td>-0.328257</td>\n",
       "      <td>0.016115</td>\n",
       "      <td>0.013105</td>\n",
       "      <td>0.049356</td>\n",
       "      <td>-0.108650</td>\n",
       "      <td>-0.005527</td>\n",
       "      <td>0.534798</td>\n",
       "      <td>...</td>\n",
       "      <td>-0.000128</td>\n",
       "      <td>0.016760</td>\n",
       "      <td>0.018749</td>\n",
       "      <td>-0.009269</td>\n",
       "      <td>0.009234</td>\n",
       "      <td>0.000644</td>\n",
       "      <td>0.030330</td>\n",
       "      <td>0.025907</td>\n",
       "      <td>0.028384</td>\n",
       "      <td>0.035573</td>\n",
       "    </tr>\n",
       "    <tr>\n",
       "      <th>Avg age</th>\n",
       "      <td>0.009454</td>\n",
       "      <td>0.056975</td>\n",
       "      <td>-0.328257</td>\n",
       "      <td>1.000000</td>\n",
       "      <td>0.003872</td>\n",
       "      <td>-0.037519</td>\n",
       "      <td>0.093654</td>\n",
       "      <td>0.057737</td>\n",
       "      <td>-0.119966</td>\n",
       "      <td>-0.040384</td>\n",
       "      <td>...</td>\n",
       "      <td>0.021070</td>\n",
       "      <td>-0.001747</td>\n",
       "      <td>0.000644</td>\n",
       "      <td>0.024417</td>\n",
       "      <td>0.000244</td>\n",
       "      <td>-0.001791</td>\n",
       "      <td>0.020612</td>\n",
       "      <td>-0.020042</td>\n",
       "      <td>-0.014540</td>\n",
       "      <td>0.004491</td>\n",
       "    </tr>\n",
       "    <tr>\n",
       "      <th>Customer main type</th>\n",
       "      <td>0.992672</td>\n",
       "      <td>-0.045817</td>\n",
       "      <td>0.016115</td>\n",
       "      <td>0.003872</td>\n",
       "      <td>1.000000</td>\n",
       "      <td>-0.199186</td>\n",
       "      <td>0.098493</td>\n",
       "      <td>-0.034566</td>\n",
       "      <td>-0.021466</td>\n",
       "      <td>-0.026619</td>\n",
       "      <td>...</td>\n",
       "      <td>0.023976</td>\n",
       "      <td>-0.010004</td>\n",
       "      <td>-0.002243</td>\n",
       "      <td>-0.012372</td>\n",
       "      <td>0.007099</td>\n",
       "      <td>-0.020683</td>\n",
       "      <td>-0.017990</td>\n",
       "      <td>-0.020997</td>\n",
       "      <td>-0.051723</td>\n",
       "      <td>-0.069300</td>\n",
       "    </tr>\n",
       "    <tr>\n",
       "      <th>...</th>\n",
       "      <td>...</td>\n",
       "      <td>...</td>\n",
       "      <td>...</td>\n",
       "      <td>...</td>\n",
       "      <td>...</td>\n",
       "      <td>...</td>\n",
       "      <td>...</td>\n",
       "      <td>...</td>\n",
       "      <td>...</td>\n",
       "      <td>...</td>\n",
       "      <td>...</td>\n",
       "      <td>...</td>\n",
       "      <td>...</td>\n",
       "      <td>...</td>\n",
       "      <td>...</td>\n",
       "      <td>...</td>\n",
       "      <td>...</td>\n",
       "      <td>...</td>\n",
       "      <td>...</td>\n",
       "      <td>...</td>\n",
       "      <td>...</td>\n",
       "    </tr>\n",
       "    <tr>\n",
       "      <th>Number of boat policies</th>\n",
       "      <td>-0.018162</td>\n",
       "      <td>0.000666</td>\n",
       "      <td>0.000644</td>\n",
       "      <td>-0.001791</td>\n",
       "      <td>-0.020683</td>\n",
       "      <td>0.011795</td>\n",
       "      <td>0.018468</td>\n",
       "      <td>0.009417</td>\n",
       "      <td>-0.026407</td>\n",
       "      <td>-0.001566</td>\n",
       "      <td>...</td>\n",
       "      <td>0.023526</td>\n",
       "      <td>-0.005970</td>\n",
       "      <td>-0.004413</td>\n",
       "      <td>0.000177</td>\n",
       "      <td>0.091052</td>\n",
       "      <td>1.000000</td>\n",
       "      <td>-0.011093</td>\n",
       "      <td>0.040094</td>\n",
       "      <td>0.026325</td>\n",
       "      <td>0.105700</td>\n",
       "    </tr>\n",
       "    <tr>\n",
       "      <th>Number of bicycle policies</th>\n",
       "      <td>-0.015774</td>\n",
       "      <td>-0.020993</td>\n",
       "      <td>0.030330</td>\n",
       "      <td>0.020612</td>\n",
       "      <td>-0.017990</td>\n",
       "      <td>-0.001503</td>\n",
       "      <td>0.001906</td>\n",
       "      <td>0.025661</td>\n",
       "      <td>-0.011122</td>\n",
       "      <td>0.020921</td>\n",
       "      <td>...</td>\n",
       "      <td>-0.011020</td>\n",
       "      <td>0.038345</td>\n",
       "      <td>-0.009025</td>\n",
       "      <td>-0.031095</td>\n",
       "      <td>-0.003420</td>\n",
       "      <td>-0.011093</td>\n",
       "      <td>1.000000</td>\n",
       "      <td>0.004845</td>\n",
       "      <td>0.009246</td>\n",
       "      <td>0.034144</td>\n",
       "    </tr>\n",
       "    <tr>\n",
       "      <th>Number of property insurance policies</th>\n",
       "      <td>-0.021087</td>\n",
       "      <td>0.018304</td>\n",
       "      <td>0.025907</td>\n",
       "      <td>-0.020042</td>\n",
       "      <td>-0.020997</td>\n",
       "      <td>-0.011431</td>\n",
       "      <td>0.002392</td>\n",
       "      <td>-0.009734</td>\n",
       "      <td>0.007261</td>\n",
       "      <td>-0.003420</td>\n",
       "      <td>...</td>\n",
       "      <td>-0.006391</td>\n",
       "      <td>0.016501</td>\n",
       "      <td>-0.005234</td>\n",
       "      <td>0.026274</td>\n",
       "      <td>0.081689</td>\n",
       "      <td>0.040094</td>\n",
       "      <td>0.004845</td>\n",
       "      <td>1.000000</td>\n",
       "      <td>0.021273</td>\n",
       "      <td>0.018026</td>\n",
       "    </tr>\n",
       "    <tr>\n",
       "      <th>Number of social security insurance policies</th>\n",
       "      <td>-0.053718</td>\n",
       "      <td>-0.004166</td>\n",
       "      <td>0.028384</td>\n",
       "      <td>-0.014540</td>\n",
       "      <td>-0.051723</td>\n",
       "      <td>-0.004009</td>\n",
       "      <td>0.016658</td>\n",
       "      <td>0.010127</td>\n",
       "      <td>-0.027291</td>\n",
       "      <td>0.036569</td>\n",
       "      <td>...</td>\n",
       "      <td>-0.008693</td>\n",
       "      <td>0.114810</td>\n",
       "      <td>-0.007119</td>\n",
       "      <td>0.034854</td>\n",
       "      <td>-0.002698</td>\n",
       "      <td>0.026325</td>\n",
       "      <td>0.009246</td>\n",
       "      <td>0.021273</td>\n",
       "      <td>1.000000</td>\n",
       "      <td>0.066658</td>\n",
       "    </tr>\n",
       "    <tr>\n",
       "      <th>CARAVAN Number of mobile home policies</th>\n",
       "      <td>-0.069385</td>\n",
       "      <td>-0.009809</td>\n",
       "      <td>0.035573</td>\n",
       "      <td>0.004491</td>\n",
       "      <td>-0.069300</td>\n",
       "      <td>0.006225</td>\n",
       "      <td>0.032866</td>\n",
       "      <td>0.004039</td>\n",
       "      <td>-0.041707</td>\n",
       "      <td>0.070264</td>\n",
       "      <td>...</td>\n",
       "      <td>-0.008492</td>\n",
       "      <td>0.033548</td>\n",
       "      <td>0.022337</td>\n",
       "      <td>0.061381</td>\n",
       "      <td>0.026201</td>\n",
       "      <td>0.105700</td>\n",
       "      <td>0.034144</td>\n",
       "      <td>0.018026</td>\n",
       "      <td>0.066658</td>\n",
       "      <td>1.000000</td>\n",
       "    </tr>\n",
       "  </tbody>\n",
       "</table>\n",
       "<p>86 rows × 86 columns</p>\n",
       "</div>"
      ],
      "text/plain": [
       "                                              Customer Subtype  \\\n",
       "Customer Subtype                                      1.000000   \n",
       "Number of houses                                     -0.038721   \n",
       "Avg size household                                   -0.021997   \n",
       "Avg age                                               0.009454   \n",
       "Customer main type                                    0.992672   \n",
       "...                                                        ...   \n",
       "Number of boat policies                              -0.018162   \n",
       "Number of bicycle policies                           -0.015774   \n",
       "Number of property insurance policies                -0.021087   \n",
       "Number of social security insurance policies         -0.053718   \n",
       "CARAVAN Number of mobile home policies               -0.069385   \n",
       "\n",
       "                                              Number of houses  \\\n",
       "Customer Subtype                                     -0.038721   \n",
       "Number of houses                                      1.000000   \n",
       "Avg size household                                    0.010102   \n",
       "Avg age                                               0.056975   \n",
       "Customer main type                                   -0.045817   \n",
       "...                                                        ...   \n",
       "Number of boat policies                               0.000666   \n",
       "Number of bicycle policies                           -0.020993   \n",
       "Number of property insurance policies                 0.018304   \n",
       "Number of social security insurance policies         -0.004166   \n",
       "CARAVAN Number of mobile home policies               -0.009809   \n",
       "\n",
       "                                              Avg size household   Avg age  \\\n",
       "Customer Subtype                                       -0.021997  0.009454   \n",
       "Number of houses                                        0.010102  0.056975   \n",
       "Avg size household                                      1.000000 -0.328257   \n",
       "Avg age                                                -0.328257  1.000000   \n",
       "Customer main type                                      0.016115  0.003872   \n",
       "...                                                          ...       ...   \n",
       "Number of boat policies                                 0.000644 -0.001791   \n",
       "Number of bicycle policies                              0.030330  0.020612   \n",
       "Number of property insurance policies                   0.025907 -0.020042   \n",
       "Number of social security insurance policies            0.028384 -0.014540   \n",
       "CARAVAN Number of mobile home policies                  0.035573  0.004491   \n",
       "\n",
       "                                              Customer main type  \\\n",
       "Customer Subtype                                        0.992672   \n",
       "Number of houses                                       -0.045817   \n",
       "Avg size household                                      0.016115   \n",
       "Avg age                                                 0.003872   \n",
       "Customer main type                                      1.000000   \n",
       "...                                                          ...   \n",
       "Number of boat policies                                -0.020683   \n",
       "Number of bicycle policies                             -0.017990   \n",
       "Number of property insurance policies                  -0.020997   \n",
       "Number of social security insurance policies           -0.051723   \n",
       "CARAVAN Number of mobile home policies                 -0.069300   \n",
       "\n",
       "                                              Roman catholic  Protestant  \\\n",
       "Customer Subtype                                   -0.193613    0.090399   \n",
       "Number of houses                                   -0.006136   -0.024360   \n",
       "Avg size household                                  0.013105    0.049356   \n",
       "Avg age                                            -0.037519    0.093654   \n",
       "Customer main type                                 -0.199186    0.098493   \n",
       "...                                                      ...         ...   \n",
       "Number of boat policies                             0.011795    0.018468   \n",
       "Number of bicycle policies                         -0.001503    0.001906   \n",
       "Number of property insurance policies              -0.011431    0.002392   \n",
       "Number of social security insurance policies       -0.004009    0.016658   \n",
       "CARAVAN Number of mobile home policies              0.006225    0.032866   \n",
       "\n",
       "                                              Other religon  No religon  \\\n",
       "Customer Subtype                                  -0.025642   -0.019505   \n",
       "Number of houses                                   0.012056    0.020540   \n",
       "Avg size household                                -0.108650   -0.005527   \n",
       "Avg age                                            0.057737   -0.119966   \n",
       "Customer main type                                -0.034566   -0.021466   \n",
       "...                                                     ...         ...   \n",
       "Number of boat policies                            0.009417   -0.026407   \n",
       "Number of bicycle policies                         0.025661   -0.011122   \n",
       "Number of property insurance policies             -0.009734    0.007261   \n",
       "Number of social security insurance policies       0.010127   -0.027291   \n",
       "CARAVAN Number of mobile home policies             0.004039   -0.041707   \n",
       "\n",
       "                                               Married  ...  \\\n",
       "Customer Subtype                             -0.065596  ...   \n",
       "Number of houses                              0.023025  ...   \n",
       "Avg size household                            0.534798  ...   \n",
       "Avg age                                      -0.040384  ...   \n",
       "Customer main type                           -0.026619  ...   \n",
       "...                                                ...  ...   \n",
       "Number of boat policies                      -0.001566  ...   \n",
       "Number of bicycle policies                    0.020921  ...   \n",
       "Number of property insurance policies        -0.003420  ...   \n",
       "Number of social security insurance policies  0.036569  ...   \n",
       "CARAVAN Number of mobile home policies        0.070264  ...   \n",
       "\n",
       "                                              Number of private accident insurance policies  \\\n",
       "Customer Subtype                                                                   0.021707   \n",
       "Number of houses                                                                   0.003321   \n",
       "Avg size household                                                                -0.000128   \n",
       "Avg age                                                                            0.021070   \n",
       "Customer main type                                                                 0.023976   \n",
       "...                                                                                     ...   \n",
       "Number of boat policies                                                            0.023526   \n",
       "Number of bicycle policies                                                        -0.011020   \n",
       "Number of property insurance policies                                             -0.006391   \n",
       "Number of social security insurance policies                                      -0.008693   \n",
       "CARAVAN Number of mobile home policies                                            -0.008492   \n",
       "\n",
       "                                              Number of family accidents insurance policies  \\\n",
       "Customer Subtype                                                                  -0.012060   \n",
       "Number of houses                                                                   0.009444   \n",
       "Avg size household                                                                 0.016760   \n",
       "Avg age                                                                           -0.001747   \n",
       "Customer main type                                                                -0.010004   \n",
       "...                                                                                     ...   \n",
       "Number of boat policies                                                           -0.005970   \n",
       "Number of bicycle policies                                                         0.038345   \n",
       "Number of property insurance policies                                              0.016501   \n",
       "Number of social security insurance policies                                       0.114810   \n",
       "CARAVAN Number of mobile home policies                                             0.033548   \n",
       "\n",
       "                                              Number of disability insurance policies  \\\n",
       "Customer Subtype                                                            -0.002909   \n",
       "Number of houses                                                            -0.016333   \n",
       "Avg size household                                                           0.018749   \n",
       "Avg age                                                                      0.000644   \n",
       "Customer main type                                                          -0.002243   \n",
       "...                                                                               ...   \n",
       "Number of boat policies                                                     -0.004413   \n",
       "Number of bicycle policies                                                  -0.009025   \n",
       "Number of property insurance policies                                       -0.005234   \n",
       "Number of social security insurance policies                                -0.007119   \n",
       "CARAVAN Number of mobile home policies                                       0.022337   \n",
       "\n",
       "                                              Number of fire policies  \\\n",
       "Customer Subtype                                            -0.011512   \n",
       "Number of houses                                             0.000655   \n",
       "Avg size household                                          -0.009269   \n",
       "Avg age                                                      0.024417   \n",
       "Customer main type                                          -0.012372   \n",
       "...                                                               ...   \n",
       "Number of boat policies                                      0.000177   \n",
       "Number of bicycle policies                                  -0.031095   \n",
       "Number of property insurance policies                        0.026274   \n",
       "Number of social security insurance policies                 0.034854   \n",
       "CARAVAN Number of mobile home policies                       0.061381   \n",
       "\n",
       "                                              Number of surfboard policies  \\\n",
       "Customer Subtype                                                  0.007801   \n",
       "Number of houses                                                 -0.006189   \n",
       "Avg size household                                                0.009234   \n",
       "Avg age                                                           0.000244   \n",
       "Customer main type                                                0.007099   \n",
       "...                                                                    ...   \n",
       "Number of boat policies                                           0.091052   \n",
       "Number of bicycle policies                                       -0.003420   \n",
       "Number of property insurance policies                             0.081689   \n",
       "Number of social security insurance policies                     -0.002698   \n",
       "CARAVAN Number of mobile home policies                            0.026201   \n",
       "\n",
       "                                              Number of boat policies  \\\n",
       "Customer Subtype                                            -0.018162   \n",
       "Number of houses                                             0.000666   \n",
       "Avg size household                                           0.000644   \n",
       "Avg age                                                     -0.001791   \n",
       "Customer main type                                          -0.020683   \n",
       "...                                                               ...   \n",
       "Number of boat policies                                      1.000000   \n",
       "Number of bicycle policies                                  -0.011093   \n",
       "Number of property insurance policies                        0.040094   \n",
       "Number of social security insurance policies                 0.026325   \n",
       "CARAVAN Number of mobile home policies                       0.105700   \n",
       "\n",
       "                                              Number of bicycle policies  \\\n",
       "Customer Subtype                                               -0.015774   \n",
       "Number of houses                                               -0.020993   \n",
       "Avg size household                                              0.030330   \n",
       "Avg age                                                         0.020612   \n",
       "Customer main type                                             -0.017990   \n",
       "...                                                                  ...   \n",
       "Number of boat policies                                        -0.011093   \n",
       "Number of bicycle policies                                      1.000000   \n",
       "Number of property insurance policies                           0.004845   \n",
       "Number of social security insurance policies                    0.009246   \n",
       "CARAVAN Number of mobile home policies                          0.034144   \n",
       "\n",
       "                                              Number of property insurance policies  \\\n",
       "Customer Subtype                                                          -0.021087   \n",
       "Number of houses                                                           0.018304   \n",
       "Avg size household                                                         0.025907   \n",
       "Avg age                                                                   -0.020042   \n",
       "Customer main type                                                        -0.020997   \n",
       "...                                                                             ...   \n",
       "Number of boat policies                                                    0.040094   \n",
       "Number of bicycle policies                                                 0.004845   \n",
       "Number of property insurance policies                                      1.000000   \n",
       "Number of social security insurance policies                               0.021273   \n",
       "CARAVAN Number of mobile home policies                                     0.018026   \n",
       "\n",
       "                                              Number of social security insurance policies  \\\n",
       "Customer Subtype                                                                 -0.053718   \n",
       "Number of houses                                                                 -0.004166   \n",
       "Avg size household                                                                0.028384   \n",
       "Avg age                                                                          -0.014540   \n",
       "Customer main type                                                               -0.051723   \n",
       "...                                                                                    ...   \n",
       "Number of boat policies                                                           0.026325   \n",
       "Number of bicycle policies                                                        0.009246   \n",
       "Number of property insurance policies                                             0.021273   \n",
       "Number of social security insurance policies                                      1.000000   \n",
       "CARAVAN Number of mobile home policies                                            0.066658   \n",
       "\n",
       "                                              CARAVAN Number of mobile home policies  \n",
       "Customer Subtype                                                           -0.069385  \n",
       "Number of houses                                                           -0.009809  \n",
       "Avg size household                                                          0.035573  \n",
       "Avg age                                                                     0.004491  \n",
       "Customer main type                                                         -0.069300  \n",
       "...                                                                              ...  \n",
       "Number of boat policies                                                     0.105700  \n",
       "Number of bicycle policies                                                  0.034144  \n",
       "Number of property insurance policies                                       0.018026  \n",
       "Number of social security insurance policies                                0.066658  \n",
       "CARAVAN Number of mobile home policies                                      1.000000  \n",
       "\n",
       "[86 rows x 86 columns]"
      ]
     },
     "execution_count": 256,
     "metadata": {},
     "output_type": "execute_result"
    }
   ],
   "source": [
    "# Correlation matrix\n",
    "dataset_train.corr()"
   ]
  },
  {
   "cell_type": "code",
   "execution_count": 257,
   "metadata": {},
   "outputs": [],
   "source": [
    "# Split datasets to features X_train, X_test and target variable y_train and y_test respectively\n",
    "\n",
    "X_train = dataset_train.iloc[:, :-1].values\n",
    "y_train = dataset_train.iloc[:, -1].values\n",
    "X_test = dataset_test.iloc[:, :-1].values\n",
    "y_test = dataset_test.iloc[:, -1].values"
   ]
  },
  {
   "cell_type": "code",
   "execution_count": 258,
   "metadata": {},
   "outputs": [
    {
     "name": "stdout",
     "output_type": "stream",
     "text": [
      "[[33  1  3  2  8  0  5  1  3  7  0  2  1  2  6  1  2  7  1  0  1  2  5  2\n",
      "   1  1  2  6  1  1  8  8  0  1  8  1  0  4  5  0  0  4  3  0  0  0  6  0\n",
      "   0  0  0  0  0  0  0  0  0  0  5  0  0  0  0  0  0  0  0  1  0  0  0  0\n",
      "   0  0  0  0  0  0  0  1  0  0  0  0  0]\n",
      " [37  1  2  2  8  1  4  1  4  6  2  2  0  4  5  0  5  4  0  0  0  5  0  4\n",
      "   0  2  3  5  0  2  7  7  1  2  6  3  2  0  5  2  0  5  4  2  0  0  0  0\n",
      "   0  0  0  0  0  0  0  0  0  0  2  0  0  0  0  0  2  0  0  0  0  0  0  0\n",
      "   0  0  0  0  0  0  0  1  0  0  0  0  0]]\n"
     ]
    }
   ],
   "source": [
    "# display first few values in X_train\n",
    "print(X_train[0:2])\n"
   ]
  },
  {
   "cell_type": "code",
   "execution_count": 259,
   "metadata": {},
   "outputs": [
    {
     "name": "stdout",
     "output_type": "stream",
     "text": [
      "[0 0]\n"
     ]
    }
   ],
   "source": [
    "# display first few values in y_train\n",
    "print(y_train[0:2])"
   ]
  },
  {
   "cell_type": "code",
   "execution_count": 260,
   "metadata": {},
   "outputs": [
    {
     "name": "stdout",
     "output_type": "stream",
     "text": [
      "[[33  1  4  2  8  0  6  0  3  5  0  4  1  1  8  2  2  6  0  0  1  2  6  1\n",
      "   0  2  1  5  3  1  8  8  1  1  8  1  3  3  3  0  0  3  3  1  0  0  0  0\n",
      "   0  0  0  0  0  0  0  0  0  0  4  0  0  0  0  0  1  0  0  0  0  0  0  0\n",
      "   0  0  0  0  0  0  0  1  0  0  0  0  0]\n",
      " [ 6  1  3  2  2  0  5  0  4  5  2  2  1  4  5  5  4  0  5  0  0  4  0  0\n",
      "   4  3  0  2  1  3  6  9  0  0  7  2  1  1  5  4  0  6  8  2  0  0  6  0\n",
      "   4  0  0  0  0  0  3  0  0  0  4  0  0  0  0  0  1  0  0  1  0  1  0  0\n",
      "   0  0  0  2  0  0  0  1  0  0  0  0  0]]\n"
     ]
    }
   ],
   "source": [
    "# display first few values in X_test\n",
    "print(X_test[0:2])"
   ]
  },
  {
   "cell_type": "code",
   "execution_count": 261,
   "metadata": {},
   "outputs": [
    {
     "name": "stdout",
     "output_type": "stream",
     "text": [
      "[0 1]\n"
     ]
    }
   ],
   "source": [
    "# display first few values in y_test\n",
    "print(y_test[0:2])"
   ]
  },
  {
   "cell_type": "code",
   "execution_count": 262,
   "metadata": {},
   "outputs": [
    {
     "data": {
      "text/plain": [
       "LogisticRegressionCV(Cs=10, class_weight=None, cv=5, dual=False,\n",
       "                     fit_intercept=True, intercept_scaling=1.0, l1_ratios=None,\n",
       "                     max_iter=100, multi_class='auto', n_jobs=None,\n",
       "                     penalty='l2', random_state=0, refit=True, scoring=None,\n",
       "                     solver='lbfgs', tol=0.0001, verbose=0)"
      ]
     },
     "execution_count": 262,
     "metadata": {},
     "output_type": "execute_result"
    }
   ],
   "source": [
    "# Apply PCA and training the Logistic Regression model on the Training set\n",
    "from sklearn.decomposition import PCA\n",
    "pca = PCA(n_components = 2)\n",
    "X_Train = pca.fit_transform(X_train)\n",
    "X_Test = pca.transform(X_test)\n",
    "from sklearn.linear_model import LogisticRegressionCV\n",
    "classifier = LogisticRegressionCV(cv = 5, random_state = 0)\n",
    "classifier.fit(X_Train, y_train)"
   ]
  },
  {
   "cell_type": "code",
   "execution_count": 263,
   "metadata": {},
   "outputs": [
    {
     "data": {
      "text/plain": [
       "array([0, 0], dtype=int64)"
      ]
     },
     "execution_count": 263,
     "metadata": {},
     "output_type": "execute_result"
    }
   ],
   "source": [
    "# Predict yhat using trained logistic regreesion model\n",
    "yhat = classifier.predict(X_Test)\n",
    "yhat[0:2]"
   ]
  },
  {
   "cell_type": "code",
   "execution_count": 264,
   "metadata": {},
   "outputs": [
    {
     "name": "stdout",
     "output_type": "stream",
     "text": [
      "The accurracy for the logistic regressioCV model with 2 principal components is 0.9405\n",
      "The score for the logistic regressionCV model with 2 principal components is 0.9405\n"
     ]
    }
   ],
   "source": [
    "# evaualte logistic regression model\n",
    "from sklearn.metrics import accuracy_score\n",
    "print(\"The accurracy for the logistic regressioCV model with 2 principal components is\", accuracy_score(yhat,y_test))\n",
    "print(\"The score for the logistic regressionCV model with 2 principal components is\", classifier.score(X_Test,y_test))\n"
   ]
  },
  {
   "cell_type": "code",
   "execution_count": 265,
   "metadata": {},
   "outputs": [
    {
     "data": {
      "text/plain": [
       "LogisticRegression(C=1.0, class_weight=None, dual=False, fit_intercept=True,\n",
       "                   intercept_scaling=1, l1_ratio=None, max_iter=100,\n",
       "                   multi_class='auto', n_jobs=None, penalty='l2',\n",
       "                   random_state=0, solver='lbfgs', tol=0.0001, verbose=0,\n",
       "                   warm_start=False)"
      ]
     },
     "execution_count": 265,
     "metadata": {},
     "output_type": "execute_result"
    }
   ],
   "source": [
    "# Train and predict with regular logistic regression model\n",
    "from sklearn.linear_model import LogisticRegression\n",
    "classifier = LogisticRegression( random_state = 0)\n",
    "classifier.fit(X_Train, y_train)"
   ]
  },
  {
   "cell_type": "code",
   "execution_count": 266,
   "metadata": {},
   "outputs": [
    {
     "name": "stdout",
     "output_type": "stream",
     "text": [
      "[[3762    0]\n",
      " [ 238    0]]\n",
      "The accurracy for the logistic regression model with 2 principal components is 94.05\n"
     ]
    }
   ],
   "source": [
    "# Prediction\n",
    "from sklearn.metrics import accuracy_score, confusion_matrix\n",
    "y_pred = classifier.predict(X_Test)\n",
    "cm = confusion_matrix(y_test,y_pred)\n",
    "print(cm)\n",
    "print(\"The accurracy for the logistic regression model with 2 principal components is\", accuracy_score(y_pred,y_test)*100)"
   ]
  },
  {
   "cell_type": "code",
   "execution_count": 267,
   "metadata": {},
   "outputs": [
    {
     "data": {
      "text/plain": [
       "array([0.93991416, 0.93991416, 0.94072165, 0.94072165, 0.93986254])"
      ]
     },
     "execution_count": 267,
     "metadata": {},
     "output_type": "execute_result"
    }
   ],
   "source": [
    "from sklearn.model_selection import cross_val_score\n",
    "scores = cross_val_score(classifier, X_Train, y_train, cv=5)\n",
    "scores\n"
   ]
  },
  {
   "cell_type": "code",
   "execution_count": 268,
   "metadata": {},
   "outputs": [
    {
     "name": "stdout",
     "output_type": "stream",
     "text": [
      "The mean accuracy is: 94.02 % \n",
      "The std of the accuracy is: 0.04\n"
     ]
    }
   ],
   "source": [
    "# print mean and std of scores\n",
    "print(\"The mean accuracy is: {:.2f} % \". format(scores.mean()*100))\n",
    "print(\"The std of the accuracy is: {:.2f}\" . format(scores.std()*100))"
   ]
  },
  {
   "cell_type": "code",
   "execution_count": 269,
   "metadata": {},
   "outputs": [
    {
     "name": "stderr",
     "output_type": "stream",
     "text": [
      "'c' argument looks like a single numeric RGB or RGBA sequence, which should be avoided as value-mapping will have precedence in case its length matches with 'x' & 'y'.  Please use a 2-D array with a single row if you really want to specify the same RGB or RGBA value for all points.\n",
      "'c' argument looks like a single numeric RGB or RGBA sequence, which should be avoided as value-mapping will have precedence in case its length matches with 'x' & 'y'.  Please use a 2-D array with a single row if you really want to specify the same RGB or RGBA value for all points.\n"
     ]
    },
    {
     "data": {
      "image/png": "[encoded data removed]",
      "text/plain": [
       "<Figure size 432x288 with 1 Axes>"
      ]
     },
     "metadata": {
      "needs_background": "light"
     },
     "output_type": "display_data"
    }
   ],
   "source": [
    "# Visualising the Training set results\n",
    "from matplotlib.colors import ListedColormap\n",
    "X_set, y_set = X_Train, y_train\n",
    "X1, X2 = np.meshgrid(np.arange(start = X_set[:, 0].min() - 1, stop = X_set[:, 0].max() + 1, step = 0.01),\n",
    "                     np.arange(start = X_set[:, 1].min() - 1, stop = X_set[:, 1].max() + 1, step = 0.01))\n",
    "plt.contourf(X1, X2, classifier.predict(np.array([X1.ravel(), X2.ravel()]).T).reshape(X1.shape),\n",
    "             alpha = 0.75, cmap = ListedColormap(('red', 'green', 'blue')))\n",
    "plt.xlim(X1.min(), X1.max())\n",
    "plt.ylim(X2.min(), X2.max())\n",
    "for i, j in enumerate(np.unique(y_set)):\n",
    "    plt.scatter(X_set[y_set == j, 0], X_set[y_set == j, 1],\n",
    "                c = ListedColormap(('red', 'green', 'blue'))(i), label = j)\n",
    "plt.title('Logistic Regression (Training set)')\n",
    "plt.xlabel('PC1')\n",
    "plt.ylabel('PC2')\n",
    "plt.legend()\n",
    "plt.show()"
   ]
  },
  {
   "cell_type": "code",
   "execution_count": 270,
   "metadata": {},
   "outputs": [
    {
     "name": "stderr",
     "output_type": "stream",
     "text": [
      "'c' argument looks like a single numeric RGB or RGBA sequence, which should be avoided as value-mapping will have precedence in case its length matches with 'x' & 'y'.  Please use a 2-D array with a single row if you really want to specify the same RGB or RGBA value for all points.\n",
      "'c' argument looks like a single numeric RGB or RGBA sequence, which should be avoided as value-mapping will have precedence in case its length matches with 'x' & 'y'.  Please use a 2-D array with a single row if you really want to specify the same RGB or RGBA value for all points.\n"
     ]
    },
    {
     "data": {
      "image/png": "[encoded data removed]",
      "text/plain": [
       "<Figure size 432x288 with 1 Axes>"
      ]
     },
     "metadata": {
      "needs_background": "light"
     },
     "output_type": "display_data"
    }
   ],
   "source": [
    "# Visualising the Test set results\n",
    "from matplotlib.colors import ListedColormap\n",
    "X_set, y_set = X_Test, y_test\n",
    "X1, X2 = np.meshgrid(np.arange(start = X_set[:, 0].min() - 1, stop = X_set[:, 0].max() + 1, step = 0.01),\n",
    "                     np.arange(start = X_set[:, 1].min() - 1, stop = X_set[:, 1].max() + 1, step = 0.01))\n",
    "plt.contourf(X1, X2, classifier.predict(np.array([X1.ravel(), X2.ravel()]).T).reshape(X1.shape),\n",
    "             alpha = 0.75, cmap = ListedColormap(('red', 'green', 'blue')))\n",
    "plt.xlim(X1.min(), X1.max())\n",
    "plt.ylim(X2.min(), X2.max())\n",
    "for i, j in enumerate(np.unique(y_set)):\n",
    "    plt.scatter(X_set[y_set == j, 0], X_set[y_set == j, 1],\n",
    "                c = ListedColormap(('red', 'green', 'blue'))(i), label = j)\n",
    "plt.title('Logistic Regression (Test set)')\n",
    "plt.xlabel('PC1')\n",
    "plt.ylabel('PC2')\n",
    "plt.legend()\n",
    "plt.show()"
   ]
  },
  {
   "cell_type": "code",
   "execution_count": 271,
   "metadata": {},
   "outputs": [
    {
     "name": "stdout",
     "output_type": "stream",
     "text": [
      "[0.9405 0.9405 0.9405 0.9405 0.9405 0.9405 0.9405 0.9405]\n",
      "The best accuracy was with 0.9405 with n_components= 2\n"
     ]
    }
   ],
   "source": [
    "# What about other numbers of principal components\n",
    "Comps = 10\n",
    "mean_acc = np.zeros(Comps- 2)\n",
    "std_acc = np.zeros(Comps - 2)\n",
    "for n in range(2,Comps):\n",
    "    from sklearn.decomposition import PCA\n",
    "    from sklearn.metrics import accuracy_score\n",
    "    pca = PCA(n_components = n)\n",
    "    X_Train = pca.fit_transform(X_train)\n",
    "    X_Test = pca.transform(X_test)\n",
    "    clf = LogisticRegression( random_state = 0).fit(X_Train,y_train)\n",
    "    yhat = clf.predict(X_Test)\n",
    "    mean_acc[n-2]= accuracy_score(y_test,yhat)\n",
    "    std_acc[n-2] = np.std(yhat== y_test)/np.sqrt(yhat.shape[0])\n",
    "    \n",
    "print(mean_acc)\n",
    "print(\"The best accuracy was with\", mean_acc.max(), \"with n_components=\", mean_acc.argmax()+2)\n"
   ]
  },
  {
   "cell_type": "code",
   "execution_count": 272,
   "metadata": {},
   "outputs": [
    {
     "name": "stderr",
     "output_type": "stream",
     "text": [
      "C:\\Users\\obemb\\anaconda3\\lib\\site-packages\\ipykernel_launcher.py:3: UserWarning: Legend does not support 'A' instances.\n",
      "A proxy artist may be used instead.\n",
      "See: http://matplotlib.org/users/legend_guide.html#creating-artists-specifically-for-adding-to-the-legend-aka-proxy-artists\n",
      "  This is separate from the ipykernel package so we can avoid doing imports until\n",
      "C:\\Users\\obemb\\anaconda3\\lib\\site-packages\\ipykernel_launcher.py:3: UserWarning: Legend does not support 'c' instances.\n",
      "A proxy artist may be used instead.\n",
      "See: http://matplotlib.org/users/legend_guide.html#creating-artists-specifically-for-adding-to-the-legend-aka-proxy-artists\n",
      "  This is separate from the ipykernel package so we can avoid doing imports until\n",
      "C:\\Users\\obemb\\anaconda3\\lib\\site-packages\\ipykernel_launcher.py:3: UserWarning: Legend does not support 'u' instances.\n",
      "A proxy artist may be used instead.\n",
      "See: http://matplotlib.org/users/legend_guide.html#creating-artists-specifically-for-adding-to-the-legend-aka-proxy-artists\n",
      "  This is separate from the ipykernel package so we can avoid doing imports until\n",
      "C:\\Users\\obemb\\anaconda3\\lib\\site-packages\\ipykernel_launcher.py:3: UserWarning: Legend does not support 'r' instances.\n",
      "A proxy artist may be used instead.\n",
      "See: http://matplotlib.org/users/legend_guide.html#creating-artists-specifically-for-adding-to-the-legend-aka-proxy-artists\n",
      "  This is separate from the ipykernel package so we can avoid doing imports until\n",
      "C:\\Users\\obemb\\anaconda3\\lib\\site-packages\\ipykernel_launcher.py:3: UserWarning: Legend does not support 'a' instances.\n",
      "A proxy artist may be used instead.\n",
      "See: http://matplotlib.org/users/legend_guide.html#creating-artists-specifically-for-adding-to-the-legend-aka-proxy-artists\n",
      "  This is separate from the ipykernel package so we can avoid doing imports until\n",
      "C:\\Users\\obemb\\anaconda3\\lib\\site-packages\\ipykernel_launcher.py:3: UserWarning: Legend does not support 'y' instances.\n",
      "A proxy artist may be used instead.\n",
      "See: http://matplotlib.org/users/legend_guide.html#creating-artists-specifically-for-adding-to-the-legend-aka-proxy-artists\n",
      "  This is separate from the ipykernel package so we can avoid doing imports until\n"
     ]
    },
    {
     "data": {
      "image/png": "[encoded data removed]",
      "text/plain": [
       "<Figure size 432x288 with 1 Axes>"
      ]
     },
     "metadata": {
      "needs_background": "light"
     },
     "output_type": "display_data"
    }
   ],
   "source": [
    "plt.plot(range(2,Comps), mean_acc,'g')\n",
    "plt.fill_between(range(2,Comps), mean_acc -1*std_acc,mean_acc+1*std_acc, alpha = 0.1)\n",
    "plt.legend('Accuracy', '+/- 3*std')\n",
    "plt.title('Logistic Regression Classifier')\n",
    "plt.ylabel('Accuracy')\n",
    "plt.xlabel('Number of principal components')\n",
    "plt.tight_layout()\n",
    "plt.show()"
   ]
  },
  {
   "cell_type": "markdown",
   "metadata": {},
   "source": [
    "## Naive- Bayes Classifier"
   ]
  },
  {
   "cell_type": "code",
   "execution_count": 273,
   "metadata": {},
   "outputs": [
    {
     "data": {
      "text/plain": [
       "GaussianNB(priors=None, var_smoothing=1e-09)"
      ]
     },
     "execution_count": 273,
     "metadata": {},
     "output_type": "execute_result"
    }
   ],
   "source": [
    "# Apply PCA and train the Naive Bayes model on the Training set\n",
    "from sklearn.decomposition import PCA\n",
    "pca = PCA(n_components = 2)\n",
    "X_Train = pca.fit_transform(X_train)\n",
    "X_Test = pca.transform(X_test)\n",
    "from sklearn.naive_bayes import GaussianNB\n",
    "classifier = GaussianNB()\n",
    "classifier.fit(X_Train, y_train)\n"
   ]
  },
  {
   "cell_type": "code",
   "execution_count": 274,
   "metadata": {},
   "outputs": [
    {
     "name": "stdout",
     "output_type": "stream",
     "text": [
      "[[0 0]\n",
      " [0 1]\n",
      " [0 0]\n",
      " ...\n",
      " [0 0]\n",
      " [0 0]\n",
      " [0 0]]\n"
     ]
    }
   ],
   "source": [
    "# Predicting the Test set results\n",
    "y_pred = classifier.predict(X_Test)\n",
    "print(np.concatenate((y_pred.reshape(len(y_pred),1), y_test.reshape(len(y_test),1)),1))\n",
    "\n"
   ]
  },
  {
   "cell_type": "code",
   "execution_count": 275,
   "metadata": {},
   "outputs": [
    {
     "name": "stdout",
     "output_type": "stream",
     "text": [
      "[[3762    0]\n",
      " [ 238    0]]\n",
      "The mean accuracy is: 94.05 % \n"
     ]
    }
   ],
   "source": [
    "# Making the Confusion Matrix\n",
    "from sklearn.metrics import confusion_matrix, accuracy_score\n",
    "cm = confusion_matrix(y_test, y_pred)\n",
    "print(cm)\n",
    "print(\"The mean accuracy is: {:.2f} % \". format(accuracy_score(y_test, y_pred)*100))"
   ]
  },
  {
   "cell_type": "code",
   "execution_count": 276,
   "metadata": {},
   "outputs": [
    {
     "name": "stdout",
     "output_type": "stream",
     "text": [
      "[0.9405  0.9405  0.9405  0.9405  0.94025 0.94025 0.9405  0.9395 ]\n",
      "The best accuracy was with 0.9405 with n_components= 2\n"
     ]
    }
   ],
   "source": [
    "# What about other numbers of principal components\n",
    "Comps = 10\n",
    "mean_acc = np.zeros(Comps- 2)\n",
    "std_acc = np.zeros(Comps - 2)\n",
    "for n in range(2,Comps):\n",
    "    from sklearn.decomposition import PCA\n",
    "    from sklearn.metrics import accuracy_score\n",
    "    pca = PCA(n_components = n)\n",
    "    X_Train = pca.fit_transform(X_train)\n",
    "    X_Test = pca.transform(X_test)\n",
    "    clf = GaussianNB().fit(X_Train,y_train)\n",
    "    yhat = clf.predict(X_Test)\n",
    "    mean_acc[n-2]= accuracy_score(y_test,yhat)\n",
    "    std_acc[n-2] = np.std(yhat== y_test)/np.sqrt(yhat.shape[0])\n",
    "    \n",
    "print(mean_acc)\n",
    "print(\"The best accuracy was with\", mean_acc.max(), \"with n_components=\", mean_acc.argmax()+2)"
   ]
  },
  {
   "cell_type": "code",
   "execution_count": 277,
   "metadata": {},
   "outputs": [
    {
     "name": "stderr",
     "output_type": "stream",
     "text": [
      "C:\\Users\\obemb\\anaconda3\\lib\\site-packages\\ipykernel_launcher.py:3: UserWarning: Legend does not support 'A' instances.\n",
      "A proxy artist may be used instead.\n",
      "See: http://matplotlib.org/users/legend_guide.html#creating-artists-specifically-for-adding-to-the-legend-aka-proxy-artists\n",
      "  This is separate from the ipykernel package so we can avoid doing imports until\n",
      "C:\\Users\\obemb\\anaconda3\\lib\\site-packages\\ipykernel_launcher.py:3: UserWarning: Legend does not support 'c' instances.\n",
      "A proxy artist may be used instead.\n",
      "See: http://matplotlib.org/users/legend_guide.html#creating-artists-specifically-for-adding-to-the-legend-aka-proxy-artists\n",
      "  This is separate from the ipykernel package so we can avoid doing imports until\n",
      "C:\\Users\\obemb\\anaconda3\\lib\\site-packages\\ipykernel_launcher.py:3: UserWarning: Legend does not support 'u' instances.\n",
      "A proxy artist may be used instead.\n",
      "See: http://matplotlib.org/users/legend_guide.html#creating-artists-specifically-for-adding-to-the-legend-aka-proxy-artists\n",
      "  This is separate from the ipykernel package so we can avoid doing imports until\n",
      "C:\\Users\\obemb\\anaconda3\\lib\\site-packages\\ipykernel_launcher.py:3: UserWarning: Legend does not support 'r' instances.\n",
      "A proxy artist may be used instead.\n",
      "See: http://matplotlib.org/users/legend_guide.html#creating-artists-specifically-for-adding-to-the-legend-aka-proxy-artists\n",
      "  This is separate from the ipykernel package so we can avoid doing imports until\n",
      "C:\\Users\\obemb\\anaconda3\\lib\\site-packages\\ipykernel_launcher.py:3: UserWarning: Legend does not support 'a' instances.\n",
      "A proxy artist may be used instead.\n",
      "See: http://matplotlib.org/users/legend_guide.html#creating-artists-specifically-for-adding-to-the-legend-aka-proxy-artists\n",
      "  This is separate from the ipykernel package so we can avoid doing imports until\n",
      "C:\\Users\\obemb\\anaconda3\\lib\\site-packages\\ipykernel_launcher.py:3: UserWarning: Legend does not support 'y' instances.\n",
      "A proxy artist may be used instead.\n",
      "See: http://matplotlib.org/users/legend_guide.html#creating-artists-specifically-for-adding-to-the-legend-aka-proxy-artists\n",
      "  This is separate from the ipykernel package so we can avoid doing imports until\n"
     ]
    },
    {
     "data": {
      "image/png": "[encoded data removed]",
      "text/plain": [
       "<Figure size 432x288 with 1 Axes>"
      ]
     },
     "metadata": {
      "needs_background": "light"
     },
     "output_type": "display_data"
    }
   ],
   "source": [
    "plt.plot(range(2,Comps), mean_acc,'g')\n",
    "plt.fill_between(range(2,Comps), mean_acc -1*std_acc,mean_acc+1*std_acc, alpha = 0.1)\n",
    "plt.legend('Accuracy', '+/- 3*std')\n",
    "plt.title('Naive-Bayes Classifier')\n",
    "plt.ylabel('Accuracy')\n",
    "plt.xlabel('Number of principal components')\n",
    "plt.tight_layout()\n",
    "plt.show()"
   ]
  },
  {
   "cell_type": "markdown",
   "metadata": {},
   "source": [
    "##  Decision Tree Classifier"
   ]
  },
  {
   "cell_type": "code",
   "execution_count": 278,
   "metadata": {},
   "outputs": [
    {
     "data": {
      "text/plain": [
       "DecisionTreeClassifier(ccp_alpha=0.0, class_weight=None, criterion='entropy',\n",
       "                       max_depth=None, max_features=None, max_leaf_nodes=None,\n",
       "                       min_impurity_decrease=0.0, min_impurity_split=None,\n",
       "                       min_samples_leaf=1, min_samples_split=2,\n",
       "                       min_weight_fraction_leaf=0.0, presort='deprecated',\n",
       "                       random_state=0, splitter='best')"
      ]
     },
     "execution_count": 278,
     "metadata": {},
     "output_type": "execute_result"
    }
   ],
   "source": [
    "# Apply PCA and train the decision tree on the Training set\n",
    "from sklearn.decomposition import PCA\n",
    "pca = PCA(n_components = 2)\n",
    "X_Train = pca.fit_transform(X_train)\n",
    "X_Test = pca.transform(X_test)\n",
    "from sklearn.tree import DecisionTreeClassifier\n",
    "classifier = DecisionTreeClassifier(criterion = 'entropy', random_state = 0)\n",
    "classifier.fit(X_Train, y_train)"
   ]
  },
  {
   "cell_type": "code",
   "execution_count": 279,
   "metadata": {},
   "outputs": [
    {
     "name": "stdout",
     "output_type": "stream",
     "text": [
      "[[0 0]\n",
      " [0 1]\n",
      " [0 0]\n",
      " ...\n",
      " [0 0]\n",
      " [0 0]\n",
      " [0 0]]\n"
     ]
    }
   ],
   "source": [
    "# Predicting the Test set results\n",
    "y_pred = classifier.predict(X_Test)\n",
    "print(np.concatenate((y_pred.reshape(len(y_pred),1), y_test.reshape(len(y_test),1)),1))"
   ]
  },
  {
   "cell_type": "code",
   "execution_count": 280,
   "metadata": {},
   "outputs": [
    {
     "name": "stdout",
     "output_type": "stream",
     "text": [
      "[[3532  230]\n",
      " [ 205   33]]\n",
      "The mean accuracy is: 89.12 % \n"
     ]
    }
   ],
   "source": [
    "# Making the Confusion Matrix\n",
    "from sklearn.metrics import confusion_matrix, accuracy_score\n",
    "cm = confusion_matrix(y_test, y_pred)\n",
    "print(cm)\n",
    "print(\"The mean accuracy is: {:.2f} % \". format(accuracy_score(y_test, y_pred)*100))"
   ]
  },
  {
   "cell_type": "code",
   "execution_count": 281,
   "metadata": {},
   "outputs": [
    {
     "name": "stdout",
     "output_type": "stream",
     "text": [
      "[0.89125 0.9045  0.8985  0.90025 0.8985  0.902   0.901   0.9025 ]\n",
      "The best accuracy was with 0.9045 with n_components= 3\n"
     ]
    }
   ],
   "source": [
    "# What about other numbers of principal components\n",
    "Comps = 10\n",
    "mean_acc = np.zeros(Comps- 2)\n",
    "std_acc = np.zeros(Comps - 2)\n",
    "for n in range(2,Comps):\n",
    "    from sklearn.decomposition import PCA\n",
    "    from sklearn.metrics import accuracy_score\n",
    "    pca = PCA(n_components = n)\n",
    "    X_Train = pca.fit_transform(X_train)\n",
    "    X_Test = pca.transform(X_test)\n",
    "    clf = DecisionTreeClassifier(criterion = 'entropy', random_state = 0).fit(X_Train,y_train)\n",
    "    yhat = clf.predict(X_Test)\n",
    "    mean_acc[n-2]= accuracy_score(y_test,yhat)\n",
    "    std_acc[n-2] = np.std(yhat== y_test)/np.sqrt(yhat.shape[0])\n",
    "    \n",
    "print(mean_acc)\n",
    "print(\"The best accuracy was with\", mean_acc.max(), \"with n_components=\", mean_acc.argmax()+2)\n"
   ]
  },
  {
   "cell_type": "code",
   "execution_count": 282,
   "metadata": {},
   "outputs": [
    {
     "name": "stderr",
     "output_type": "stream",
     "text": [
      "C:\\Users\\obemb\\anaconda3\\lib\\site-packages\\ipykernel_launcher.py:4: UserWarning: Legend does not support 'A' instances.\n",
      "A proxy artist may be used instead.\n",
      "See: http://matplotlib.org/users/legend_guide.html#creating-artists-specifically-for-adding-to-the-legend-aka-proxy-artists\n",
      "  after removing the cwd from sys.path.\n",
      "C:\\Users\\obemb\\anaconda3\\lib\\site-packages\\ipykernel_launcher.py:4: UserWarning: Legend does not support 'c' instances.\n",
      "A proxy artist may be used instead.\n",
      "See: http://matplotlib.org/users/legend_guide.html#creating-artists-specifically-for-adding-to-the-legend-aka-proxy-artists\n",
      "  after removing the cwd from sys.path.\n",
      "C:\\Users\\obemb\\anaconda3\\lib\\site-packages\\ipykernel_launcher.py:4: UserWarning: Legend does not support 'u' instances.\n",
      "A proxy artist may be used instead.\n",
      "See: http://matplotlib.org/users/legend_guide.html#creating-artists-specifically-for-adding-to-the-legend-aka-proxy-artists\n",
      "  after removing the cwd from sys.path.\n",
      "C:\\Users\\obemb\\anaconda3\\lib\\site-packages\\ipykernel_launcher.py:4: UserWarning: Legend does not support 'r' instances.\n",
      "A proxy artist may be used instead.\n",
      "See: http://matplotlib.org/users/legend_guide.html#creating-artists-specifically-for-adding-to-the-legend-aka-proxy-artists\n",
      "  after removing the cwd from sys.path.\n",
      "C:\\Users\\obemb\\anaconda3\\lib\\site-packages\\ipykernel_launcher.py:4: UserWarning: Legend does not support 'a' instances.\n",
      "A proxy artist may be used instead.\n",
      "See: http://matplotlib.org/users/legend_guide.html#creating-artists-specifically-for-adding-to-the-legend-aka-proxy-artists\n",
      "  after removing the cwd from sys.path.\n",
      "C:\\Users\\obemb\\anaconda3\\lib\\site-packages\\ipykernel_launcher.py:4: UserWarning: Legend does not support 'y' instances.\n",
      "A proxy artist may be used instead.\n",
      "See: http://matplotlib.org/users/legend_guide.html#creating-artists-specifically-for-adding-to-the-legend-aka-proxy-artists\n",
      "  after removing the cwd from sys.path.\n"
     ]
    },
    {
     "data": {
      "image/png": "[encoded data removed]",
      "text/plain": [
       "<Figure size 432x288 with 1 Axes>"
      ]
     },
     "metadata": {
      "needs_background": "light"
     },
     "output_type": "display_data"
    }
   ],
   "source": [
    "plt.plot(range(2,Comps), mean_acc,'g')\n",
    "plt.fill_between(range(2,Comps), mean_acc -1*std_acc,mean_acc+1*std_acc, alpha = 0.1)\n",
    "plt.title('Decision Tree Classifier')\n",
    "plt.legend('Accuracy', '+/- 3*std')\n",
    "plt.ylabel('Accuracy')\n",
    "plt.xlabel('Number of principal components')\n",
    "plt.tight_layout()\n",
    "plt.show()"
   ]
  },
  {
   "cell_type": "markdown",
   "metadata": {},
   "source": [
    "## Random forest"
   ]
  },
  {
   "cell_type": "code",
   "execution_count": 283,
   "metadata": {},
   "outputs": [
    {
     "data": {
      "text/plain": [
       "RandomForestClassifier(bootstrap=True, ccp_alpha=0.0, class_weight=None,\n",
       "                       criterion='entropy', max_depth=None, max_features='auto',\n",
       "                       max_leaf_nodes=None, max_samples=None,\n",
       "                       min_impurity_decrease=0.0, min_impurity_split=None,\n",
       "                       min_samples_leaf=1, min_samples_split=2,\n",
       "                       min_weight_fraction_leaf=0.0, n_estimators=10,\n",
       "                       n_jobs=None, oob_score=False, random_state=0, verbose=0,\n",
       "                       warm_start=False)"
      ]
     },
     "execution_count": 283,
     "metadata": {},
     "output_type": "execute_result"
    }
   ],
   "source": [
    "# Apply PCA and train the random forest classifier on the Training set\n",
    "from sklearn.decomposition import PCA\n",
    "pca = PCA(n_components = 2)\n",
    "X_Train = pca.fit_transform(X_train)\n",
    "X_Test = pca.transform(X_test)\n",
    "from sklearn.ensemble import RandomForestClassifier\n",
    "classifier = RandomForestClassifier(n_estimators = 10, criterion = 'entropy', random_state = 0)\n",
    "classifier.fit(X_Train, y_train)"
   ]
  },
  {
   "cell_type": "code",
   "execution_count": 284,
   "metadata": {},
   "outputs": [
    {
     "name": "stdout",
     "output_type": "stream",
     "text": [
      "[[0 0]\n",
      " [0 1]\n",
      " [0 0]\n",
      " ...\n",
      " [0 0]\n",
      " [0 0]\n",
      " [0 0]]\n"
     ]
    }
   ],
   "source": [
    "# Predicting the Test set results\n",
    "y_pred = classifier.predict(X_Test)\n",
    "print(np.concatenate((y_pred.reshape(len(y_pred),1), y_test.reshape(len(y_test),1)),1))"
   ]
  },
  {
   "cell_type": "code",
   "execution_count": 285,
   "metadata": {},
   "outputs": [
    {
     "name": "stdout",
     "output_type": "stream",
     "text": [
      "[[3688   74]\n",
      " [ 222   16]]\n",
      "The mean accuracy is: 92.60 % \n"
     ]
    }
   ],
   "source": [
    "# Making the Confusion Matrix\n",
    "from sklearn.metrics import confusion_matrix, accuracy_score\n",
    "cm = confusion_matrix(y_test, y_pred)\n",
    "print(cm)\n",
    "print(\"The mean accuracy is: {:.2f} % \". format(accuracy_score(y_test, y_pred)*100))"
   ]
  },
  {
   "cell_type": "code",
   "execution_count": 286,
   "metadata": {},
   "outputs": [
    {
     "name": "stdout",
     "output_type": "stream",
     "text": [
      "[0.926   0.9305  0.9275  0.9285  0.9295  0.9295  0.92925 0.9315 ]\n",
      "The best accuracy was with 0.9315 with n_components= 9\n"
     ]
    }
   ],
   "source": [
    "# What about other numbers of principal components\n",
    "Comps = 10\n",
    "mean_acc = np.zeros(Comps- 2)\n",
    "std_acc = np.zeros(Comps - 2)\n",
    "for n in range(2,Comps):\n",
    "    from sklearn.decomposition import PCA\n",
    "    from sklearn.metrics import accuracy_score\n",
    "    pca = PCA(n_components = n)\n",
    "    X_Train = pca.fit_transform(X_train)\n",
    "    X_Test = pca.transform(X_test)\n",
    "    clf = RandomForestClassifier(n_estimators = 10, criterion = 'entropy', random_state = 0).fit(X_Train,y_train)\n",
    "    yhat = clf.predict(X_Test)\n",
    "    mean_acc[n-2]= accuracy_score(y_test,yhat)\n",
    "    std_acc[n-2] = np.std(yhat== y_test)/np.sqrt(yhat.shape[0])\n",
    "    \n",
    "print(mean_acc)\n",
    "print(\"The best accuracy was with\", mean_acc.max(), \"with n_components=\", mean_acc.argmax()+2)"
   ]
  },
  {
   "cell_type": "code",
   "execution_count": 287,
   "metadata": {},
   "outputs": [
    {
     "name": "stderr",
     "output_type": "stream",
     "text": [
      "C:\\Users\\obemb\\anaconda3\\lib\\site-packages\\ipykernel_launcher.py:4: UserWarning: Legend does not support 'A' instances.\n",
      "A proxy artist may be used instead.\n",
      "See: http://matplotlib.org/users/legend_guide.html#creating-artists-specifically-for-adding-to-the-legend-aka-proxy-artists\n",
      "  after removing the cwd from sys.path.\n",
      "C:\\Users\\obemb\\anaconda3\\lib\\site-packages\\ipykernel_launcher.py:4: UserWarning: Legend does not support 'c' instances.\n",
      "A proxy artist may be used instead.\n",
      "See: http://matplotlib.org/users/legend_guide.html#creating-artists-specifically-for-adding-to-the-legend-aka-proxy-artists\n",
      "  after removing the cwd from sys.path.\n",
      "C:\\Users\\obemb\\anaconda3\\lib\\site-packages\\ipykernel_launcher.py:4: UserWarning: Legend does not support 'u' instances.\n",
      "A proxy artist may be used instead.\n",
      "See: http://matplotlib.org/users/legend_guide.html#creating-artists-specifically-for-adding-to-the-legend-aka-proxy-artists\n",
      "  after removing the cwd from sys.path.\n",
      "C:\\Users\\obemb\\anaconda3\\lib\\site-packages\\ipykernel_launcher.py:4: UserWarning: Legend does not support 'r' instances.\n",
      "A proxy artist may be used instead.\n",
      "See: http://matplotlib.org/users/legend_guide.html#creating-artists-specifically-for-adding-to-the-legend-aka-proxy-artists\n",
      "  after removing the cwd from sys.path.\n",
      "C:\\Users\\obemb\\anaconda3\\lib\\site-packages\\ipykernel_launcher.py:4: UserWarning: Legend does not support 'a' instances.\n",
      "A proxy artist may be used instead.\n",
      "See: http://matplotlib.org/users/legend_guide.html#creating-artists-specifically-for-adding-to-the-legend-aka-proxy-artists\n",
      "  after removing the cwd from sys.path.\n",
      "C:\\Users\\obemb\\anaconda3\\lib\\site-packages\\ipykernel_launcher.py:4: UserWarning: Legend does not support 'y' instances.\n",
      "A proxy artist may be used instead.\n",
      "See: http://matplotlib.org/users/legend_guide.html#creating-artists-specifically-for-adding-to-the-legend-aka-proxy-artists\n",
      "  after removing the cwd from sys.path.\n"
     ]
    },
    {
     "data": {
      "image/png": "[encoded data removed]",
      "text/plain": [
       "<Figure size 432x288 with 1 Axes>"
      ]
     },
     "metadata": {
      "needs_background": "light"
     },
     "output_type": "display_data"
    }
   ],
   "source": [
    "plt.plot(range(2,Comps), mean_acc,'g')\n",
    "plt.fill_between(range(2,Comps), mean_acc -1*std_acc,mean_acc+1*std_acc, alpha = 0.1)\n",
    "plt.title('Random Forest Classifier')\n",
    "plt.legend('Accuracy', '+/- 3*std')\n",
    "plt.ylabel('Accuracy')\n",
    "plt.xlabel('Number of principal components')\n",
    "plt.tight_layout()\n",
    "plt.show()"
   ]
  },
  {
   "cell_type": "markdown",
   "metadata": {},
   "source": [
    "## KNN Classifier"
   ]
  },
  {
   "cell_type": "code",
   "execution_count": 288,
   "metadata": {},
   "outputs": [
    {
     "data": {
      "text/plain": [
       "KNeighborsClassifier(algorithm='auto', leaf_size=30, metric='minkowski',\n",
       "                     metric_params=None, n_jobs=None, n_neighbors=8, p=2,\n",
       "                     weights='uniform')"
      ]
     },
     "execution_count": 288,
     "metadata": {},
     "output_type": "execute_result"
    }
   ],
   "source": [
    "# Apply PCA and train the KNN classifier on the Training set\n",
    "from sklearn.decomposition import PCA\n",
    "pca = PCA(n_components = 2)\n",
    "X_Train = pca.fit_transform(X_train)\n",
    "X_Test = pca.transform(X_test)\n",
    "from sklearn.neighbors import KNeighborsClassifier\n",
    "classifier = KNeighborsClassifier(n_neighbors = 8, metric = 'minkowski', p = 2)\n",
    "classifier.fit(X_Train, y_train)"
   ]
  },
  {
   "cell_type": "code",
   "execution_count": 289,
   "metadata": {},
   "outputs": [
    {
     "name": "stdout",
     "output_type": "stream",
     "text": [
      "[[0 0]\n",
      " [0 1]\n",
      " [0 0]\n",
      " ...\n",
      " [0 0]\n",
      " [0 0]\n",
      " [0 0]]\n"
     ]
    }
   ],
   "source": [
    "# Predicting the Test set results\n",
    "y_pred = classifier.predict(X_Test)\n",
    "print(np.concatenate((y_pred.reshape(len(y_pred),1), y_test.reshape(len(y_test),1)),1))"
   ]
  },
  {
   "cell_type": "code",
   "execution_count": 290,
   "metadata": {},
   "outputs": [
    {
     "name": "stdout",
     "output_type": "stream",
     "text": [
      "[[3762    0]\n",
      " [ 238    0]]\n",
      "The mean accuracy is: 94.05 % \n"
     ]
    }
   ],
   "source": [
    "# Making the Confusion Matrix\n",
    "from sklearn.metrics import confusion_matrix, accuracy_score\n",
    "cm = confusion_matrix(y_test, y_pred)\n",
    "print(cm)\n",
    "print(\"The mean accuracy is: {:.2f} % \". format(accuracy_score(y_test, y_pred)*100))"
   ]
  },
  {
   "cell_type": "code",
   "execution_count": 291,
   "metadata": {},
   "outputs": [
    {
     "name": "stdout",
     "output_type": "stream",
     "text": [
      "[0.938   0.93875 0.9355  0.9345  0.933   0.93425 0.9345  0.936   0.935  ]\n",
      "The best accuracy was with 0.93875 with n_components= 3\n"
     ]
    }
   ],
   "source": [
    "# What about other numbers of principal components\n",
    "Comps = 10\n",
    "mean_acc = np.zeros(Comps- 1)\n",
    "std_acc = np.zeros(Comps - 1)\n",
    "for n in range(1,Comps):\n",
    "    from sklearn.decomposition import PCA\n",
    "    from sklearn.metrics import accuracy_score\n",
    "    pca = PCA(n_components = n)\n",
    "    X_Train = pca.fit_transform(X_train)\n",
    "    X_Test = pca.transform(X_test)\n",
    "    clf = KNeighborsClassifier(n_neighbors = 5, metric = 'minkowski', p = 2).fit(X_Train,y_train)\n",
    "    yhat = clf.predict(X_Test)\n",
    "    mean_acc[n-1]= accuracy_score(y_test,yhat)\n",
    "    std_acc[n-1] = np.std(yhat== y_test)/np.sqrt(yhat.shape[0])\n",
    "    \n",
    "\n",
    "print(mean_acc)\n",
    "print(\"The best accuracy was with\", mean_acc.max(), \"with n_components=\", mean_acc.argmax()+2)"
   ]
  },
  {
   "cell_type": "markdown",
   "metadata": {},
   "source": [
    "## Kernel SVM"
   ]
  },
  {
   "cell_type": "code",
   "execution_count": 292,
   "metadata": {},
   "outputs": [
    {
     "data": {
      "text/plain": [
       "SVC(C=1.0, break_ties=False, cache_size=200, class_weight=None, coef0=0.0,\n",
       "    decision_function_shape='ovr', degree=3, gamma='scale', kernel='rbf',\n",
       "    max_iter=-1, probability=False, random_state=0, shrinking=True, tol=0.001,\n",
       "    verbose=False)"
      ]
     },
     "execution_count": 292,
     "metadata": {},
     "output_type": "execute_result"
    }
   ],
   "source": [
    "# Apply PCA and train the kernel svm classifier on the Training set\n",
    "from sklearn.decomposition import PCA\n",
    "pca = PCA(n_components = 2)\n",
    "X_Train = pca.fit_transform(X_train)\n",
    "X_Test = pca.transform(X_test)\n",
    "from sklearn.svm import SVC\n",
    "classifier = SVC(kernel = 'rbf', random_state = 0)\n",
    "classifier.fit(X_Train, y_train)"
   ]
  },
  {
   "cell_type": "code",
   "execution_count": 293,
   "metadata": {},
   "outputs": [
    {
     "name": "stdout",
     "output_type": "stream",
     "text": [
      "[[0 0]\n",
      " [0 1]\n",
      " [0 0]\n",
      " ...\n",
      " [0 0]\n",
      " [0 0]\n",
      " [0 0]]\n"
     ]
    }
   ],
   "source": [
    "# Predicting the Test set results\n",
    "y_pred = classifier.predict(X_Test)\n",
    "print(np.concatenate((y_pred.reshape(len(y_pred),1), y_test.reshape(len(y_test),1)),1))"
   ]
  },
  {
   "cell_type": "code",
   "execution_count": 294,
   "metadata": {},
   "outputs": [
    {
     "name": "stdout",
     "output_type": "stream",
     "text": [
      "[[3762    0]\n",
      " [ 238    0]]\n",
      "The mean accuracy is: 94.05 % \n"
     ]
    }
   ],
   "source": [
    "# Making the Confusion Matrix\n",
    "from sklearn.metrics import confusion_matrix, accuracy_score\n",
    "cm = confusion_matrix(y_test, y_pred)\n",
    "print(cm)\n",
    "print(\"The mean accuracy is: {:.2f} % \". format(accuracy_score(y_test, y_pred)*100))"
   ]
  },
  {
   "cell_type": "code",
   "execution_count": 295,
   "metadata": {},
   "outputs": [
    {
     "name": "stdout",
     "output_type": "stream",
     "text": [
      "[0.9405 0.9405 0.9405 0.9405 0.9405 0.9405 0.9405 0.9405]\n",
      "The best accuracy was with 0.9405 with n_components= 2\n"
     ]
    }
   ],
   "source": [
    "# What about other numbers of principal components\n",
    "Comps = 10\n",
    "mean_acc = np.zeros(Comps- 2)\n",
    "std_acc = np.zeros(Comps - 2)\n",
    "for n in range(2,Comps):\n",
    "    from sklearn.decomposition import PCA\n",
    "    from sklearn.metrics import accuracy_score\n",
    "    pca = PCA(n_components = n)\n",
    "    X_Train = pca.fit_transform(X_train)\n",
    "    X_Test = pca.transform(X_test)\n",
    "    clf =  SVC(kernel = 'rbf', random_state = 0).fit(X_Train,y_train)\n",
    "    yhat = clf.predict(X_Test)\n",
    "    mean_acc[n-2]= accuracy_score(y_test,yhat)\n",
    "    std_acc[n-2] = np.std(yhat== y_test)/np.sqrt(yhat.shape[0])\n",
    "    \n",
    "\n",
    "print(mean_acc)\n",
    "print(\"The best accuracy was with\", mean_acc.max(), \"with n_components=\", mean_acc.argmax()+2)"
   ]
  },
  {
   "cell_type": "markdown",
   "metadata": {},
   "source": [
    "## Gradient Boosting Classifier"
   ]
  },
  {
   "cell_type": "code",
   "execution_count": 296,
   "metadata": {},
   "outputs": [
    {
     "data": {
      "text/plain": [
       "GradientBoostingClassifier(ccp_alpha=0.001, criterion='friedman_mse', init=None,\n",
       "                           learning_rate=0.1, loss='deviance', max_depth=3,\n",
       "                           max_features=None, max_leaf_nodes=None,\n",
       "                           min_impurity_decrease=0.0, min_impurity_split=None,\n",
       "                           min_samples_leaf=1, min_samples_split=2,\n",
       "                           min_weight_fraction_leaf=0.0, n_estimators=100,\n",
       "                           n_iter_no_change=None, presort='deprecated',\n",
       "                           random_state=0, subsample=1.0, tol=0.0001,\n",
       "                           validation_fraction=0.1, verbose=0,\n",
       "                           warm_start=False)"
      ]
     },
     "execution_count": 296,
     "metadata": {},
     "output_type": "execute_result"
    }
   ],
   "source": [
    "# Apply PCA and train the gradient boosting classifier on the Training set\n",
    "from sklearn.decomposition import PCA\n",
    "pca = PCA(n_components = 2)\n",
    "X_Train = pca.fit_transform(X_train)\n",
    "X_Test = pca.transform(X_test)\n",
    "from sklearn.ensemble import GradientBoostingClassifier\n",
    "classifier = GradientBoostingClassifier(random_state=0, n_estimators=100,ccp_alpha=0.001)\n",
    "classifier.fit(X_Train, y_train)"
   ]
  },
  {
   "cell_type": "code",
   "execution_count": 297,
   "metadata": {},
   "outputs": [
    {
     "name": "stdout",
     "output_type": "stream",
     "text": [
      "[[3762    0]\n",
      " [ 238    0]]\n",
      "The mean accuracy is: 94.05 % \n"
     ]
    }
   ],
   "source": [
    "# Predicting the Test set results\n",
    "y_pred = classifier.predict(X_Test)\n",
    "# Making the Confusion Matrix\n",
    "from sklearn.metrics import confusion_matrix, accuracy_score\n",
    "cm = confusion_matrix(y_test, y_pred)\n",
    "print(cm)\n",
    "print(\"The mean accuracy is: {:.2f} % \". format(accuracy_score(y_test, y_pred)*100))"
   ]
  },
  {
   "cell_type": "code",
   "execution_count": 298,
   "metadata": {},
   "outputs": [
    {
     "name": "stdout",
     "output_type": "stream",
     "text": [
      "[0.93825 0.939   0.93875 0.9385  0.94025 0.93825 0.9385  0.939  ]\n",
      "The best accuracy was with 0.94025 with n_components= 6\n"
     ]
    }
   ],
   "source": [
    "# What about other numbers of principal components\n",
    "Comps = 10\n",
    "mean_acc = np.zeros(Comps- 2)\n",
    "std_acc = np.zeros(Comps - 2)\n",
    "for n in range(2,Comps):\n",
    "    from sklearn.decomposition import PCA\n",
    "    from sklearn.metrics import accuracy_score\n",
    "    pca = PCA(n_components = n)\n",
    "    X_Train = pca.fit_transform(X_train)\n",
    "    X_Test = pca.transform(X_test)\n",
    "    clf =  GradientBoostingClassifier(random_state=0).fit(X_Train,y_train)\n",
    "    yhat = clf.predict(X_Test)\n",
    "    mean_acc[n-2]= accuracy_score(y_test,yhat)\n",
    "    std_acc[n-2] = np.std(yhat== y_test)/np.sqrt(yhat.shape[0])\n",
    "    \n",
    "\n",
    "print(mean_acc)\n",
    "print(\"The best accuracy was with\", mean_acc.max(), \"with n_components=\", mean_acc.argmax()+2)"
   ]
  },
  {
   "cell_type": "markdown",
   "metadata": {},
   "source": [
    "## ExtraTrees Classifier"
   ]
  },
  {
   "cell_type": "code",
   "execution_count": 299,
   "metadata": {},
   "outputs": [
    {
     "data": {
      "text/plain": [
       "ExtraTreesClassifier(bootstrap=False, ccp_alpha=0.0, class_weight=None,\n",
       "                     criterion='gini', max_depth=None, max_features='auto',\n",
       "                     max_leaf_nodes=None, max_samples=None,\n",
       "                     min_impurity_decrease=0.0, min_impurity_split=None,\n",
       "                     min_samples_leaf=1, min_samples_split=2,\n",
       "                     min_weight_fraction_leaf=0.0, n_estimators=100,\n",
       "                     n_jobs=None, oob_score=False, random_state=0, verbose=0,\n",
       "                     warm_start=False)"
      ]
     },
     "execution_count": 299,
     "metadata": {},
     "output_type": "execute_result"
    }
   ],
   "source": [
    "\n",
    "# Apply PCA and train the extratrees classifier on the Training set\n",
    "from sklearn.decomposition import PCA\n",
    "pca = PCA(n_components = 2)\n",
    "X_Train = pca.fit_transform(X_train)\n",
    "X_Test = pca.transform(X_test)\n",
    "from sklearn.ensemble import  ExtraTreesClassifier\n",
    "classifier =  ExtraTreesClassifier(random_state=0)\n",
    "classifier.fit(X_Train, y_train)"
   ]
  },
  {
   "cell_type": "code",
   "execution_count": 300,
   "metadata": {},
   "outputs": [
    {
     "name": "stdout",
     "output_type": "stream",
     "text": [
      "[[3647  115]\n",
      " [ 217   21]]\n",
      "The mean accuracy is: 91.70 % \n"
     ]
    }
   ],
   "source": [
    "# Predicting the Test set results\n",
    "y_pred = classifier.predict(X_Test)\n",
    "# Making the Confusion Matrix\n",
    "from sklearn.metrics import confusion_matrix, accuracy_score\n",
    "cm = confusion_matrix(y_test, y_pred)\n",
    "print(cm)\n",
    "print(\"The mean accuracy is: {:.2f} % \". format(accuracy_score(y_test, y_pred)*100))"
   ]
  },
  {
   "cell_type": "code",
   "execution_count": 301,
   "metadata": {},
   "outputs": [
    {
     "name": "stdout",
     "output_type": "stream",
     "text": [
      "[0.917   0.91875 0.92075 0.9225  0.92275 0.92025 0.9195  0.91925]\n",
      "The best accuracy was with 0.92275 with n_components= 6\n"
     ]
    }
   ],
   "source": [
    "# What about other numbers of principal components\n",
    "Comps = 10\n",
    "mean_acc = np.zeros(Comps- 2)\n",
    "std_acc = np.zeros(Comps - 2)\n",
    "for n in range(2,Comps):\n",
    "    from sklearn.decomposition import PCA\n",
    "    from sklearn.metrics import accuracy_score\n",
    "    pca = PCA(n_components = n)\n",
    "    X_Train = pca.fit_transform(X_train)\n",
    "    X_Test = pca.transform(X_test)\n",
    "    clf = ExtraTreesClassifier(random_state=0).fit(X_Train,y_train)\n",
    "    yhat = clf.predict(X_Test)\n",
    "    mean_acc[n-2]= accuracy_score(y_test,yhat)\n",
    "    std_acc[n-2] = np.std(yhat== y_test)/np.sqrt(yhat.shape[0])\n",
    "    \n",
    "\n",
    "print(mean_acc)\n",
    "print(\"The best accuracy was with\", mean_acc.max(), \"with n_components=\", mean_acc.argmax()+2)"
   ]
  },
  {
   "cell_type": "markdown",
   "metadata": {},
   "source": [
    "## AdaBOOST Classifier\n"
   ]
  },
  {
   "cell_type": "code",
   "execution_count": 302,
   "metadata": {},
   "outputs": [
    {
     "data": {
      "text/plain": [
       "AdaBoostClassifier(algorithm='SAMME.R', base_estimator=None, learning_rate=1.0,\n",
       "                   n_estimators=50, random_state=0)"
      ]
     },
     "execution_count": 302,
     "metadata": {},
     "output_type": "execute_result"
    }
   ],
   "source": [
    "\n",
    "# Apply PCA and train the extratrees classifier on the Training set\n",
    "from sklearn.decomposition import PCA\n",
    "pca = PCA(n_components = 2)\n",
    "X_Train = pca.fit_transform(X_train)\n",
    "X_Test = pca.transform(X_test)\n",
    "from sklearn.ensemble import AdaBoostClassifier\n",
    "classifier =   AdaBoostClassifier(random_state=0)\n",
    "classifier.fit(X_Train, y_train)"
   ]
  },
  {
   "cell_type": "code",
   "execution_count": 303,
   "metadata": {},
   "outputs": [
    {
     "name": "stdout",
     "output_type": "stream",
     "text": [
      "[[3759    3]\n",
      " [ 238    0]]\n",
      "The mean accuracy is: 93.97 % \n"
     ]
    }
   ],
   "source": [
    "# Predicting the Test set results\n",
    "y_pred = classifier.predict(X_Test)\n",
    "# Making the Confusion Matrix\n",
    "from sklearn.metrics import confusion_matrix, accuracy_score\n",
    "cm = confusion_matrix(y_test, y_pred)\n",
    "print(cm)\n",
    "print(\"The mean accuracy is: {:.2f} % \". format(accuracy_score(y_test, y_pred)*100))"
   ]
  },
  {
   "cell_type": "code",
   "execution_count": 305,
   "metadata": {},
   "outputs": [
    {
     "name": "stdout",
     "output_type": "stream",
     "text": [
      "[0.93975 0.94    0.9405  0.9405  0.9395  0.93975 0.93975 0.94025]\n",
      "The best accuracy was with 0.9405 with n_components= 4\n"
     ]
    }
   ],
   "source": [
    "# What about other numbers of principal components\n",
    "Comps = 10\n",
    "mean_acc = np.zeros(Comps-2)\n",
    "std_acc = np.zeros(Comps-2)\n",
    "for n in range(2,Comps):\n",
    "    from sklearn.decomposition import PCA\n",
    "    from sklearn.metrics import accuracy_score\n",
    "    pca = PCA(n_components = n)\n",
    "    X_Train = pca.fit_transform(X_train)\n",
    "    X_Test = pca.transform(X_test)\n",
    "    clf = AdaBoostClassifier(random_state=0).fit(X_Train,y_train)\n",
    "    yhat = clf.predict(X_Test)\n",
    "    mean_acc[n-2]= accuracy_score(y_test,yhat)\n",
    "    std_acc[n-2] = np.std(yhat== y_test)/np.sqrt(yhat.shape[0])\n",
    "    \n",
    "\n",
    "print(mean_acc)\n",
    "print(\"The best accuracy was with\", mean_acc.max(), \"with n_components=\", mean_acc.argmax()+2)"
   ]
  },
  {
   "cell_type": "code",
   "execution_count": null,
   "metadata": {},
   "outputs": [],
   "source": []
  }
 ],
 "metadata": {
  "kernelspec": {
   "display_name": "Python 3",
   "language": "python",
   "name": "python3"
  },
  "language_info": {
   "codemirror_mode": {
    "name": "ipython",
    "version": 3
   },
   "file_extension": ".py",
   "mimetype": "text/x-python",
   "name": "python",
   "nbconvert_exporter": "python",
   "pygments_lexer": "ipython3",
   "version": "3.7.6"
  }
 },
 "nbformat": 4,
 "nbformat_minor": 4
}

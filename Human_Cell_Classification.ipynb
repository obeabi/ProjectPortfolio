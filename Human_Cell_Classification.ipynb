{
    "cells": [
        {
            "cell_type": "markdown",
            "metadata": {
                "collapsed": true
            },
            "source": "# Written by Abiola Obembe\n## Date 17th March 2020\n## Human cell record classification"
        },
        {
            "cell_type": "markdown",
            "metadata": {},
            "source": "#### In this notebook, you will use SVM (Support Vector Machines) to build and train a model using human cell records, and classify cells to whether the samples are benign or malignant."
        },
        {
            "cell_type": "code",
            "execution_count": 1,
            "metadata": {},
            "outputs": [
                {
                    "name": "stdout",
                    "output_type": "stream",
                    "text": "Libraries installed!\n"
                }
            ],
            "source": "# install libraries\nimport pandas as pd\nimport numpy as np\nimport scipy.optimize as opt\nimport matplotlib.pyplot as plt\nfrom sklearn.model_selection import train_test_split\nfrom sklearn import preprocessing\n%matplotlib inline\nprint('Libraries installed!')"
        },
        {
            "cell_type": "markdown",
            "metadata": {},
            "source": "#### The example is based on a dataset that is publicly available from the UCI Machine Learning Repository (Asuncion and Newman, 2007)[http://mlearn.ics.uci.edu/MLRepository.html]. The dataset consists of several hundred human cell sample records, each of which contains the values of a set of cell characteristics"
        },
        {
            "cell_type": "code",
            "execution_count": 2,
            "metadata": {},
            "outputs": [
                {
                    "name": "stdout",
                    "output_type": "stream",
                    "text": "--2020-03-17 19:17:27--  https://s3-api.us-geo.objectstorage.softlayer.net/cf-courses-data/CognitiveClass/ML0101ENv3/labs/cell_samples.csv\nResolving s3-api.us-geo.objectstorage.softlayer.net (s3-api.us-geo.objectstorage.softlayer.net)... 67.228.254.196\nConnecting to s3-api.us-geo.objectstorage.softlayer.net (s3-api.us-geo.objectstorage.softlayer.net)|67.228.254.196|:443... connected.\nHTTP request sent, awaiting response... 200 OK\nLength: 20675 (20K) [text/csv]\nSaving to: \u2018cell_samples.csv\u2019\n\n100%[======================================>] 20,675      --.-K/s   in 0.002s  \n\n2020-03-17 19:17:27 (10.1 MB/s) - \u2018cell_samples.csv\u2019 saved [20675/20675]\n\n"
                },
                {
                    "data": {
                        "text/html": "<div>\n<style scoped>\n    .dataframe tbody tr th:only-of-type {\n        vertical-align: middle;\n    }\n\n    .dataframe tbody tr th {\n        vertical-align: top;\n    }\n\n    .dataframe thead th {\n        text-align: right;\n    }\n</style>\n<table border=\"1\" class=\"dataframe\">\n  <thead>\n    <tr style=\"text-align: right;\">\n      <th></th>\n      <th>ID</th>\n      <th>Clump</th>\n      <th>UnifSize</th>\n      <th>UnifShape</th>\n      <th>MargAdh</th>\n      <th>SingEpiSize</th>\n      <th>BareNuc</th>\n      <th>BlandChrom</th>\n      <th>NormNucl</th>\n      <th>Mit</th>\n      <th>Class</th>\n    </tr>\n  </thead>\n  <tbody>\n    <tr>\n      <th>0</th>\n      <td>1000025</td>\n      <td>5</td>\n      <td>1</td>\n      <td>1</td>\n      <td>1</td>\n      <td>2</td>\n      <td>1</td>\n      <td>3</td>\n      <td>1</td>\n      <td>1</td>\n      <td>2</td>\n    </tr>\n    <tr>\n      <th>1</th>\n      <td>1002945</td>\n      <td>5</td>\n      <td>4</td>\n      <td>4</td>\n      <td>5</td>\n      <td>7</td>\n      <td>10</td>\n      <td>3</td>\n      <td>2</td>\n      <td>1</td>\n      <td>2</td>\n    </tr>\n    <tr>\n      <th>2</th>\n      <td>1015425</td>\n      <td>3</td>\n      <td>1</td>\n      <td>1</td>\n      <td>1</td>\n      <td>2</td>\n      <td>2</td>\n      <td>3</td>\n      <td>1</td>\n      <td>1</td>\n      <td>2</td>\n    </tr>\n    <tr>\n      <th>3</th>\n      <td>1016277</td>\n      <td>6</td>\n      <td>8</td>\n      <td>8</td>\n      <td>1</td>\n      <td>3</td>\n      <td>4</td>\n      <td>3</td>\n      <td>7</td>\n      <td>1</td>\n      <td>2</td>\n    </tr>\n    <tr>\n      <th>4</th>\n      <td>1017023</td>\n      <td>4</td>\n      <td>1</td>\n      <td>1</td>\n      <td>3</td>\n      <td>2</td>\n      <td>1</td>\n      <td>3</td>\n      <td>1</td>\n      <td>1</td>\n      <td>2</td>\n    </tr>\n  </tbody>\n</table>\n</div>",
                        "text/plain": "        ID  Clump  UnifSize  UnifShape  MargAdh  SingEpiSize BareNuc  \\\n0  1000025      5         1          1        1            2       1   \n1  1002945      5         4          4        5            7      10   \n2  1015425      3         1          1        1            2       2   \n3  1016277      6         8          8        1            3       4   \n4  1017023      4         1          1        3            2       1   \n\n   BlandChrom  NormNucl  Mit  Class  \n0           3         1    1      2  \n1           3         2    1      2  \n2           3         1    1      2  \n3           3         7    1      2  \n4           3         1    1      2  "
                    },
                    "execution_count": 2,
                    "metadata": {},
                    "output_type": "execute_result"
                }
            ],
            "source": "# Load dataset\n!wget -O cell_samples.csv https://s3-api.us-geo.objectstorage.softlayer.net/cf-courses-data/CognitiveClass/ML0101ENv3/labs/cell_samples.csv\n\n\n#!wget -O breast-cancer-wisconsin.data http://archive.ics.uci.edu/ml/machine-learning-databases/breast-cancer-wisconsin/breast-cancer-wisconsin.data            \n#COLUMNS_COUNT = 11\n#with open('breast-cancer-wisconsin.data', 'r') as File1:\n#  cell_df = pd.read_csv('breast-cancer-wisconsin.data', skiprows=COLUMNS_COUNT, header=None, delimiter=',', skip_blank_lines=True)\n\n    \n#cell_df.columns = ['ID', 'Clump', 'UnifSize', 'UniShape','MargAdh','SingleSize','BareNuc ','BlandChrom','NormalNuc','Mit','Class']    \n\ncell_df = pd.read_csv('cell_samples.csv')\ncell_df.head(5)"
        },
        {
            "cell_type": "markdown",
            "metadata": {},
            "source": "#### The ID field contains the patient identifiers. The characteristics of the cell samples from each patient are contained in fields Clump to Mit. The values are graded from 1 to 10, with 1 being the closest to benign.\n\n#### The Class field contains the diagnosis, as confirmed by separate medical procedures, as to whether the samples are benign (value = 2) or malignant (value = 4).\n\n#### Lets look at the distribution of the classes based on Clump thickness and Uniformity of cell size:"
        },
        {
            "cell_type": "code",
            "execution_count": 3,
            "metadata": {},
            "outputs": [
                {
                    "data": {
                        "image/png": "[encoded data removed]",
                        "text/plain": "<Figure size 432x288 with 1 Axes>"
                    },
                    "metadata": {
                        "needs_background": "light"
                    },
                    "output_type": "display_data"
                }
            ],
            "source": "ax = cell_df[cell_df['Class']== 4].plot(kind = 'scatter', x = 'Clump', y ='UnifSize', color = 'DarkBlue', label = 'malignant')\ncell_df[cell_df['Class']== 2].plot(kind = 'scatter', x = 'Clump', y ='UnifSize', color = 'Yellow', label = 'benign', ax = ax)\n\nplt.show()"
        },
        {
            "cell_type": "code",
            "execution_count": 4,
            "metadata": {},
            "outputs": [
                {
                    "data": {
                        "text/plain": "(699, 11)"
                    },
                    "execution_count": 4,
                    "metadata": {},
                    "output_type": "execute_result"
                }
            ],
            "source": "# Data pre-processing and selection\ncell_df.shape"
        },
        {
            "cell_type": "code",
            "execution_count": 5,
            "metadata": {},
            "outputs": [
                {
                    "data": {
                        "text/html": "<div>\n<style scoped>\n    .dataframe tbody tr th:only-of-type {\n        vertical-align: middle;\n    }\n\n    .dataframe tbody tr th {\n        vertical-align: top;\n    }\n\n    .dataframe thead th {\n        text-align: right;\n    }\n</style>\n<table border=\"1\" class=\"dataframe\">\n  <thead>\n    <tr style=\"text-align: right;\">\n      <th></th>\n      <th>ID</th>\n      <th>Clump</th>\n      <th>UnifSize</th>\n      <th>UnifShape</th>\n      <th>MargAdh</th>\n      <th>SingEpiSize</th>\n      <th>BlandChrom</th>\n      <th>NormNucl</th>\n      <th>Mit</th>\n      <th>Class</th>\n    </tr>\n  </thead>\n  <tbody>\n    <tr>\n      <th>count</th>\n      <td>6.990000e+02</td>\n      <td>699.000000</td>\n      <td>699.000000</td>\n      <td>699.000000</td>\n      <td>699.000000</td>\n      <td>699.000000</td>\n      <td>699.000000</td>\n      <td>699.000000</td>\n      <td>699.000000</td>\n      <td>699.000000</td>\n    </tr>\n    <tr>\n      <th>mean</th>\n      <td>1.071704e+06</td>\n      <td>4.417740</td>\n      <td>3.134478</td>\n      <td>3.207439</td>\n      <td>2.806867</td>\n      <td>3.216023</td>\n      <td>3.437768</td>\n      <td>2.866953</td>\n      <td>1.589413</td>\n      <td>2.689557</td>\n    </tr>\n    <tr>\n      <th>std</th>\n      <td>6.170957e+05</td>\n      <td>2.815741</td>\n      <td>3.051459</td>\n      <td>2.971913</td>\n      <td>2.855379</td>\n      <td>2.214300</td>\n      <td>2.438364</td>\n      <td>3.053634</td>\n      <td>1.715078</td>\n      <td>0.951273</td>\n    </tr>\n    <tr>\n      <th>min</th>\n      <td>6.163400e+04</td>\n      <td>1.000000</td>\n      <td>1.000000</td>\n      <td>1.000000</td>\n      <td>1.000000</td>\n      <td>1.000000</td>\n      <td>1.000000</td>\n      <td>1.000000</td>\n      <td>1.000000</td>\n      <td>2.000000</td>\n    </tr>\n    <tr>\n      <th>25%</th>\n      <td>8.706885e+05</td>\n      <td>2.000000</td>\n      <td>1.000000</td>\n      <td>1.000000</td>\n      <td>1.000000</td>\n      <td>2.000000</td>\n      <td>2.000000</td>\n      <td>1.000000</td>\n      <td>1.000000</td>\n      <td>2.000000</td>\n    </tr>\n    <tr>\n      <th>50%</th>\n      <td>1.171710e+06</td>\n      <td>4.000000</td>\n      <td>1.000000</td>\n      <td>1.000000</td>\n      <td>1.000000</td>\n      <td>2.000000</td>\n      <td>3.000000</td>\n      <td>1.000000</td>\n      <td>1.000000</td>\n      <td>2.000000</td>\n    </tr>\n    <tr>\n      <th>75%</th>\n      <td>1.238298e+06</td>\n      <td>6.000000</td>\n      <td>5.000000</td>\n      <td>5.000000</td>\n      <td>4.000000</td>\n      <td>4.000000</td>\n      <td>5.000000</td>\n      <td>4.000000</td>\n      <td>1.000000</td>\n      <td>4.000000</td>\n    </tr>\n    <tr>\n      <th>max</th>\n      <td>1.345435e+07</td>\n      <td>10.000000</td>\n      <td>10.000000</td>\n      <td>10.000000</td>\n      <td>10.000000</td>\n      <td>10.000000</td>\n      <td>10.000000</td>\n      <td>10.000000</td>\n      <td>10.000000</td>\n      <td>4.000000</td>\n    </tr>\n  </tbody>\n</table>\n</div>",
                        "text/plain": "                 ID       Clump    UnifSize   UnifShape     MargAdh  \\\ncount  6.990000e+02  699.000000  699.000000  699.000000  699.000000   \nmean   1.071704e+06    4.417740    3.134478    3.207439    2.806867   \nstd    6.170957e+05    2.815741    3.051459    2.971913    2.855379   \nmin    6.163400e+04    1.000000    1.000000    1.000000    1.000000   \n25%    8.706885e+05    2.000000    1.000000    1.000000    1.000000   \n50%    1.171710e+06    4.000000    1.000000    1.000000    1.000000   \n75%    1.238298e+06    6.000000    5.000000    5.000000    4.000000   \nmax    1.345435e+07   10.000000   10.000000   10.000000   10.000000   \n\n       SingEpiSize  BlandChrom    NormNucl         Mit       Class  \ncount   699.000000  699.000000  699.000000  699.000000  699.000000  \nmean      3.216023    3.437768    2.866953    1.589413    2.689557  \nstd       2.214300    2.438364    3.053634    1.715078    0.951273  \nmin       1.000000    1.000000    1.000000    1.000000    2.000000  \n25%       2.000000    2.000000    1.000000    1.000000    2.000000  \n50%       2.000000    3.000000    1.000000    1.000000    2.000000  \n75%       4.000000    5.000000    4.000000    1.000000    4.000000  \nmax      10.000000   10.000000   10.000000   10.000000    4.000000  "
                    },
                    "execution_count": 5,
                    "metadata": {},
                    "output_type": "execute_result"
                }
            ],
            "source": "cell_df.describe()"
        },
        {
            "cell_type": "code",
            "execution_count": 6,
            "metadata": {},
            "outputs": [
                {
                    "data": {
                        "text/html": "<div>\n<style scoped>\n    .dataframe tbody tr th:only-of-type {\n        vertical-align: middle;\n    }\n\n    .dataframe tbody tr th {\n        vertical-align: top;\n    }\n\n    .dataframe thead th {\n        text-align: right;\n    }\n</style>\n<table border=\"1\" class=\"dataframe\">\n  <thead>\n    <tr style=\"text-align: right;\">\n      <th></th>\n      <th>ID</th>\n      <th>Clump</th>\n      <th>UnifSize</th>\n      <th>UnifShape</th>\n      <th>MargAdh</th>\n      <th>SingEpiSize</th>\n      <th>BlandChrom</th>\n      <th>NormNucl</th>\n      <th>Mit</th>\n      <th>Class</th>\n    </tr>\n  </thead>\n  <tbody>\n    <tr>\n      <th>ID</th>\n      <td>1.000000</td>\n      <td>-0.055308</td>\n      <td>-0.041603</td>\n      <td>-0.041576</td>\n      <td>-0.064878</td>\n      <td>-0.045528</td>\n      <td>-0.060051</td>\n      <td>-0.052072</td>\n      <td>-0.034901</td>\n      <td>-0.080226</td>\n    </tr>\n    <tr>\n      <th>Clump</th>\n      <td>-0.055308</td>\n      <td>1.000000</td>\n      <td>0.644913</td>\n      <td>0.654589</td>\n      <td>0.486356</td>\n      <td>0.521816</td>\n      <td>0.558428</td>\n      <td>0.535835</td>\n      <td>0.350034</td>\n      <td>0.716001</td>\n    </tr>\n    <tr>\n      <th>UnifSize</th>\n      <td>-0.041603</td>\n      <td>0.644913</td>\n      <td>1.000000</td>\n      <td>0.906882</td>\n      <td>0.705582</td>\n      <td>0.751799</td>\n      <td>0.755721</td>\n      <td>0.722865</td>\n      <td>0.458693</td>\n      <td>0.817904</td>\n    </tr>\n    <tr>\n      <th>UnifShape</th>\n      <td>-0.041576</td>\n      <td>0.654589</td>\n      <td>0.906882</td>\n      <td>1.000000</td>\n      <td>0.683079</td>\n      <td>0.719668</td>\n      <td>0.735948</td>\n      <td>0.719446</td>\n      <td>0.438911</td>\n      <td>0.818934</td>\n    </tr>\n    <tr>\n      <th>MargAdh</th>\n      <td>-0.064878</td>\n      <td>0.486356</td>\n      <td>0.705582</td>\n      <td>0.683079</td>\n      <td>1.000000</td>\n      <td>0.599599</td>\n      <td>0.666715</td>\n      <td>0.603352</td>\n      <td>0.417633</td>\n      <td>0.696800</td>\n    </tr>\n    <tr>\n      <th>SingEpiSize</th>\n      <td>-0.045528</td>\n      <td>0.521816</td>\n      <td>0.751799</td>\n      <td>0.719668</td>\n      <td>0.599599</td>\n      <td>1.000000</td>\n      <td>0.616102</td>\n      <td>0.628881</td>\n      <td>0.479101</td>\n      <td>0.682785</td>\n    </tr>\n    <tr>\n      <th>BlandChrom</th>\n      <td>-0.060051</td>\n      <td>0.558428</td>\n      <td>0.755721</td>\n      <td>0.735948</td>\n      <td>0.666715</td>\n      <td>0.616102</td>\n      <td>1.000000</td>\n      <td>0.665878</td>\n      <td>0.344169</td>\n      <td>0.756616</td>\n    </tr>\n    <tr>\n      <th>NormNucl</th>\n      <td>-0.052072</td>\n      <td>0.535835</td>\n      <td>0.722865</td>\n      <td>0.719446</td>\n      <td>0.603352</td>\n      <td>0.628881</td>\n      <td>0.665878</td>\n      <td>1.000000</td>\n      <td>0.428336</td>\n      <td>0.712244</td>\n    </tr>\n    <tr>\n      <th>Mit</th>\n      <td>-0.034901</td>\n      <td>0.350034</td>\n      <td>0.458693</td>\n      <td>0.438911</td>\n      <td>0.417633</td>\n      <td>0.479101</td>\n      <td>0.344169</td>\n      <td>0.428336</td>\n      <td>1.000000</td>\n      <td>0.423170</td>\n    </tr>\n    <tr>\n      <th>Class</th>\n      <td>-0.080226</td>\n      <td>0.716001</td>\n      <td>0.817904</td>\n      <td>0.818934</td>\n      <td>0.696800</td>\n      <td>0.682785</td>\n      <td>0.756616</td>\n      <td>0.712244</td>\n      <td>0.423170</td>\n      <td>1.000000</td>\n    </tr>\n  </tbody>\n</table>\n</div>",
                        "text/plain": "                   ID     Clump  UnifSize  UnifShape   MargAdh  SingEpiSize  \\\nID           1.000000 -0.055308 -0.041603  -0.041576 -0.064878    -0.045528   \nClump       -0.055308  1.000000  0.644913   0.654589  0.486356     0.521816   \nUnifSize    -0.041603  0.644913  1.000000   0.906882  0.705582     0.751799   \nUnifShape   -0.041576  0.654589  0.906882   1.000000  0.683079     0.719668   \nMargAdh     -0.064878  0.486356  0.705582   0.683079  1.000000     0.599599   \nSingEpiSize -0.045528  0.521816  0.751799   0.719668  0.599599     1.000000   \nBlandChrom  -0.060051  0.558428  0.755721   0.735948  0.666715     0.616102   \nNormNucl    -0.052072  0.535835  0.722865   0.719446  0.603352     0.628881   \nMit         -0.034901  0.350034  0.458693   0.438911  0.417633     0.479101   \nClass       -0.080226  0.716001  0.817904   0.818934  0.696800     0.682785   \n\n             BlandChrom  NormNucl       Mit     Class  \nID            -0.060051 -0.052072 -0.034901 -0.080226  \nClump          0.558428  0.535835  0.350034  0.716001  \nUnifSize       0.755721  0.722865  0.458693  0.817904  \nUnifShape      0.735948  0.719446  0.438911  0.818934  \nMargAdh        0.666715  0.603352  0.417633  0.696800  \nSingEpiSize    0.616102  0.628881  0.479101  0.682785  \nBlandChrom     1.000000  0.665878  0.344169  0.756616  \nNormNucl       0.665878  1.000000  0.428336  0.712244  \nMit            0.344169  0.428336  1.000000  0.423170  \nClass          0.756616  0.712244  0.423170  1.000000  "
                    },
                    "execution_count": 6,
                    "metadata": {},
                    "output_type": "execute_result"
                }
            ],
            "source": "cell_df.corr()"
        },
        {
            "cell_type": "code",
            "execution_count": 7,
            "metadata": {},
            "outputs": [
                {
                    "data": {
                        "text/plain": "ID             0\nClump          0\nUnifSize       0\nUnifShape      0\nMargAdh        0\nSingEpiSize    0\nBareNuc        0\nBlandChrom     0\nNormNucl       0\nMit            0\nClass          0\ndtype: int64"
                    },
                    "execution_count": 7,
                    "metadata": {},
                    "output_type": "execute_result"
                }
            ],
            "source": "cell_df.isnull().sum()"
        },
        {
            "cell_type": "code",
            "execution_count": 8,
            "metadata": {},
            "outputs": [
                {
                    "data": {
                        "text/plain": "ID              int64\nClump           int64\nUnifSize        int64\nUnifShape       int64\nMargAdh         int64\nSingEpiSize     int64\nBareNuc        object\nBlandChrom      int64\nNormNucl        int64\nMit             int64\nClass           int64\ndtype: object"
                    },
                    "execution_count": 8,
                    "metadata": {},
                    "output_type": "execute_result"
                }
            ],
            "source": "cell_df.dtypes"
        },
        {
            "cell_type": "code",
            "execution_count": 9,
            "metadata": {},
            "outputs": [
                {
                    "data": {
                        "text/html": "<div>\n<style scoped>\n    .dataframe tbody tr th:only-of-type {\n        vertical-align: middle;\n    }\n\n    .dataframe tbody tr th {\n        vertical-align: top;\n    }\n\n    .dataframe thead th {\n        text-align: right;\n    }\n</style>\n<table border=\"1\" class=\"dataframe\">\n  <thead>\n    <tr style=\"text-align: right;\">\n      <th></th>\n      <th>BareNuc</th>\n    </tr>\n  </thead>\n  <tbody>\n    <tr>\n      <th>0</th>\n      <td>1</td>\n    </tr>\n    <tr>\n      <th>1</th>\n      <td>10</td>\n    </tr>\n    <tr>\n      <th>2</th>\n      <td>2</td>\n    </tr>\n    <tr>\n      <th>3</th>\n      <td>4</td>\n    </tr>\n    <tr>\n      <th>4</th>\n      <td>1</td>\n    </tr>\n    <tr>\n      <th>5</th>\n      <td>10</td>\n    </tr>\n    <tr>\n      <th>6</th>\n      <td>10</td>\n    </tr>\n    <tr>\n      <th>7</th>\n      <td>1</td>\n    </tr>\n    <tr>\n      <th>8</th>\n      <td>1</td>\n    </tr>\n    <tr>\n      <th>9</th>\n      <td>1</td>\n    </tr>\n    <tr>\n      <th>10</th>\n      <td>1</td>\n    </tr>\n    <tr>\n      <th>11</th>\n      <td>1</td>\n    </tr>\n    <tr>\n      <th>12</th>\n      <td>3</td>\n    </tr>\n    <tr>\n      <th>13</th>\n      <td>3</td>\n    </tr>\n    <tr>\n      <th>14</th>\n      <td>9</td>\n    </tr>\n    <tr>\n      <th>15</th>\n      <td>1</td>\n    </tr>\n    <tr>\n      <th>16</th>\n      <td>1</td>\n    </tr>\n    <tr>\n      <th>17</th>\n      <td>1</td>\n    </tr>\n    <tr>\n      <th>18</th>\n      <td>10</td>\n    </tr>\n    <tr>\n      <th>19</th>\n      <td>1</td>\n    </tr>\n    <tr>\n      <th>20</th>\n      <td>10</td>\n    </tr>\n    <tr>\n      <th>21</th>\n      <td>7</td>\n    </tr>\n    <tr>\n      <th>22</th>\n      <td>1</td>\n    </tr>\n    <tr>\n      <th>23</th>\n      <td>?</td>\n    </tr>\n    <tr>\n      <th>24</th>\n      <td>1</td>\n    </tr>\n    <tr>\n      <th>25</th>\n      <td>7</td>\n    </tr>\n    <tr>\n      <th>26</th>\n      <td>1</td>\n    </tr>\n    <tr>\n      <th>27</th>\n      <td>1</td>\n    </tr>\n    <tr>\n      <th>28</th>\n      <td>1</td>\n    </tr>\n    <tr>\n      <th>29</th>\n      <td>1</td>\n    </tr>\n    <tr>\n      <th>30</th>\n      <td>1</td>\n    </tr>\n    <tr>\n      <th>31</th>\n      <td>1</td>\n    </tr>\n    <tr>\n      <th>32</th>\n      <td>5</td>\n    </tr>\n    <tr>\n      <th>33</th>\n      <td>1</td>\n    </tr>\n    <tr>\n      <th>34</th>\n      <td>1</td>\n    </tr>\n    <tr>\n      <th>35</th>\n      <td>1</td>\n    </tr>\n    <tr>\n      <th>36</th>\n      <td>1</td>\n    </tr>\n    <tr>\n      <th>37</th>\n      <td>1</td>\n    </tr>\n    <tr>\n      <th>38</th>\n      <td>10</td>\n    </tr>\n    <tr>\n      <th>39</th>\n      <td>7</td>\n    </tr>\n    <tr>\n      <th>40</th>\n      <td>?</td>\n    </tr>\n    <tr>\n      <th>41</th>\n      <td>3</td>\n    </tr>\n    <tr>\n      <th>42</th>\n      <td>10</td>\n    </tr>\n    <tr>\n      <th>43</th>\n      <td>1</td>\n    </tr>\n    <tr>\n      <th>44</th>\n      <td>1</td>\n    </tr>\n    <tr>\n      <th>45</th>\n      <td>1</td>\n    </tr>\n    <tr>\n      <th>46</th>\n      <td>9</td>\n    </tr>\n    <tr>\n      <th>47</th>\n      <td>1</td>\n    </tr>\n    <tr>\n      <th>48</th>\n      <td>1</td>\n    </tr>\n    <tr>\n      <th>49</th>\n      <td>8</td>\n    </tr>\n  </tbody>\n</table>\n</div>",
                        "text/plain": "   BareNuc\n0        1\n1       10\n2        2\n3        4\n4        1\n5       10\n6       10\n7        1\n8        1\n9        1\n10       1\n11       1\n12       3\n13       3\n14       9\n15       1\n16       1\n17       1\n18      10\n19       1\n20      10\n21       7\n22       1\n23       ?\n24       1\n25       7\n26       1\n27       1\n28       1\n29       1\n30       1\n31       1\n32       5\n33       1\n34       1\n35       1\n36       1\n37       1\n38      10\n39       7\n40       ?\n41       3\n42      10\n43       1\n44       1\n45       1\n46       9\n47       1\n48       1\n49       8"
                    },
                    "execution_count": 9,
                    "metadata": {},
                    "output_type": "execute_result"
                }
            ],
            "source": "cell_df[['BareNuc']].head(50)"
        },
        {
            "cell_type": "code",
            "execution_count": 10,
            "metadata": {},
            "outputs": [
                {
                    "data": {
                        "text/html": "<div>\n<style scoped>\n    .dataframe tbody tr th:only-of-type {\n        vertical-align: middle;\n    }\n\n    .dataframe tbody tr th {\n        vertical-align: top;\n    }\n\n    .dataframe thead th {\n        text-align: right;\n    }\n</style>\n<table border=\"1\" class=\"dataframe\">\n  <thead>\n    <tr style=\"text-align: right;\">\n      <th></th>\n      <th>ID</th>\n      <th>Clump</th>\n      <th>UnifSize</th>\n      <th>UnifShape</th>\n      <th>MargAdh</th>\n      <th>SingEpiSize</th>\n      <th>BareNuc</th>\n      <th>BlandChrom</th>\n      <th>NormNucl</th>\n      <th>Mit</th>\n      <th>Class</th>\n    </tr>\n  </thead>\n  <tbody>\n    <tr>\n      <th>0</th>\n      <td>1000025</td>\n      <td>5</td>\n      <td>1</td>\n      <td>1</td>\n      <td>1</td>\n      <td>2</td>\n      <td>1</td>\n      <td>3</td>\n      <td>1</td>\n      <td>1</td>\n      <td>2</td>\n    </tr>\n    <tr>\n      <th>1</th>\n      <td>1002945</td>\n      <td>5</td>\n      <td>4</td>\n      <td>4</td>\n      <td>5</td>\n      <td>7</td>\n      <td>10</td>\n      <td>3</td>\n      <td>2</td>\n      <td>1</td>\n      <td>2</td>\n    </tr>\n    <tr>\n      <th>2</th>\n      <td>1015425</td>\n      <td>3</td>\n      <td>1</td>\n      <td>1</td>\n      <td>1</td>\n      <td>2</td>\n      <td>2</td>\n      <td>3</td>\n      <td>1</td>\n      <td>1</td>\n      <td>2</td>\n    </tr>\n    <tr>\n      <th>3</th>\n      <td>1016277</td>\n      <td>6</td>\n      <td>8</td>\n      <td>8</td>\n      <td>1</td>\n      <td>3</td>\n      <td>4</td>\n      <td>3</td>\n      <td>7</td>\n      <td>1</td>\n      <td>2</td>\n    </tr>\n    <tr>\n      <th>4</th>\n      <td>1017023</td>\n      <td>4</td>\n      <td>1</td>\n      <td>1</td>\n      <td>3</td>\n      <td>2</td>\n      <td>1</td>\n      <td>3</td>\n      <td>1</td>\n      <td>1</td>\n      <td>2</td>\n    </tr>\n  </tbody>\n</table>\n</div>",
                        "text/plain": "        ID  Clump  UnifSize  UnifShape  MargAdh  SingEpiSize  BareNuc  \\\n0  1000025      5         1          1        1            2        1   \n1  1002945      5         4          4        5            7       10   \n2  1015425      3         1          1        1            2        2   \n3  1016277      6         8          8        1            3        4   \n4  1017023      4         1          1        3            2        1   \n\n   BlandChrom  NormNucl  Mit  Class  \n0           3         1    1      2  \n1           3         2    1      2  \n2           3         1    1      2  \n3           3         7    1      2  \n4           3         1    1      2  "
                    },
                    "execution_count": 10,
                    "metadata": {},
                    "output_type": "execute_result"
                }
            ],
            "source": "# convert object datatype to integer\ncell_df = cell_df[pd.to_numeric(cell_df['BareNuc'], errors ='coerce').notnull()]\ncell_df['BareNuc'] = cell_df['BareNuc'].astype('int')\ncell_df.head()\n"
        },
        {
            "cell_type": "code",
            "execution_count": 11,
            "metadata": {},
            "outputs": [
                {
                    "data": {
                        "text/plain": "ID             0\nClump          0\nUnifSize       0\nUnifShape      0\nMargAdh        0\nSingEpiSize    0\nBareNuc        0\nBlandChrom     0\nNormNucl       0\nMit            0\nClass          0\ndtype: int64"
                    },
                    "execution_count": 11,
                    "metadata": {},
                    "output_type": "execute_result"
                }
            ],
            "source": "cell_df.isnull().sum()"
        },
        {
            "cell_type": "code",
            "execution_count": 12,
            "metadata": {},
            "outputs": [
                {
                    "data": {
                        "text/plain": "ID             int64\nClump          int64\nUnifSize       int64\nUnifShape      int64\nMargAdh        int64\nSingEpiSize    int64\nBareNuc        int64\nBlandChrom     int64\nNormNucl       int64\nMit            int64\nClass          int64\ndtype: object"
                    },
                    "execution_count": 12,
                    "metadata": {},
                    "output_type": "execute_result"
                }
            ],
            "source": "cell_df.dtypes"
        },
        {
            "cell_type": "code",
            "execution_count": 13,
            "metadata": {},
            "outputs": [
                {
                    "data": {
                        "text/plain": "array([[ 5,  1,  1,  1,  2,  1,  3,  1,  1],\n       [ 5,  4,  4,  5,  7, 10,  3,  2,  1],\n       [ 3,  1,  1,  1,  2,  2,  3,  1,  1],\n       [ 6,  8,  8,  1,  3,  4,  3,  7,  1],\n       [ 4,  1,  1,  3,  2,  1,  3,  1,  1]])"
                    },
                    "execution_count": 13,
                    "metadata": {},
                    "output_type": "execute_result"
                }
            ],
            "source": "# Feature definition\n\nX = np.asarray(cell_df[['Clump', 'UnifSize', 'UnifShape', 'MargAdh', 'SingEpiSize', 'BareNuc', 'BlandChrom', 'NormNucl', 'Mit']])\nX[0:5]"
        },
        {
            "cell_type": "code",
            "execution_count": 14,
            "metadata": {},
            "outputs": [
                {
                    "data": {
                        "text/plain": "array([2, 2, 2, 2, 2])"
                    },
                    "execution_count": 14,
                    "metadata": {},
                    "output_type": "execute_result"
                }
            ],
            "source": "# define target field\ncell_df[['Class']].dtypes\ny = cell_df['Class'].values\ny[0:5]"
        },
        {
            "cell_type": "code",
            "execution_count": 20,
            "metadata": {},
            "outputs": [
                {
                    "name": "stderr",
                    "output_type": "stream",
                    "text": "/opt/conda/envs/Python36/lib/python3.6/site-packages/sklearn/utils/validation.py:595: DataConversionWarning: Data with input dtype int64 was converted to float64 by StandardScaler.\n  warnings.warn(msg, DataConversionWarning)\n/opt/conda/envs/Python36/lib/python3.6/site-packages/sklearn/utils/validation.py:595: DataConversionWarning: Data with input dtype int64 was converted to float64 by StandardScaler.\n  warnings.warn(msg, DataConversionWarning)\n"
                },
                {
                    "data": {
                        "text/plain": "array([[ 0.19790469, -0.70221201, -0.74177362, -0.63936553, -0.5556085 ,\n        -0.69885309, -0.18182716, -0.61292736, -0.34839971],\n       [ 0.19790469,  0.27725185,  0.26278299,  0.75803177,  1.69516613,\n         1.77286724, -0.18182716, -0.28510482, -0.34839971],\n       [-0.51164337, -0.70221201, -0.74177362, -0.63936553, -0.5556085 ,\n        -0.4242175 , -0.18182716, -0.61292736, -0.34839971],\n       [ 0.55267873,  1.58320366,  1.6021918 , -0.63936553, -0.10545357,\n         0.12505369, -0.18182716,  1.3540079 , -0.34839971],\n       [-0.15686934, -0.70221201, -0.74177362,  0.05933312, -0.5556085 ,\n        -0.69885309, -0.18182716, -0.61292736, -0.34839971]])"
                    },
                    "execution_count": 20,
                    "metadata": {},
                    "output_type": "execute_result"
                }
            ],
            "source": "from sklearn.preprocessing import StandardScaler\nX = StandardScaler().fit(X).transform(X)\nX[0:5]"
        },
        {
            "cell_type": "code",
            "execution_count": 21,
            "metadata": {},
            "outputs": [
                {
                    "name": "stdout",
                    "output_type": "stream",
                    "text": "size of training set is :  (546, 9) (546,)\nsize of test set is :  (137, 9) (137,)\n"
                }
            ],
            "source": "# Train_test split\nX_train, X_test, y_train, y_test = train_test_split( X, y, test_size=0.2, random_state=42)\n\nprint( \"size of training set is : \", X_train.shape, y_train.shape)\nprint( \"size of test set is : \" , X_test. shape, y_test.shape)"
        },
        {
            "cell_type": "code",
            "execution_count": 22,
            "metadata": {},
            "outputs": [],
            "source": "# Modelling using rbf\nfrom sklearn import svm\nclf_rbf = svm.SVC(C=0.01, kernel='rbf', gamma='auto')\nclf_rbf.fit(X_train, y_train)\n\n# Prediction\nyhat_rbf = clf_rbf.predict(X_test)"
        },
        {
            "cell_type": "code",
            "execution_count": 23,
            "metadata": {},
            "outputs": [],
            "source": "# Modelling using linear\nfrom sklearn.svm import SVC\nclf_lin = SVC(C=0.01, kernel='linear')\nclf_lin.fit(X_train, y_train)\n\n# Prediction\nyhat_lin = clf_rbf.predict(X_test)"
        },
        {
            "cell_type": "code",
            "execution_count": 25,
            "metadata": {},
            "outputs": [
                {
                    "name": "stdout",
                    "output_type": "stream",
                    "text": "              precision    recall  f1-score   support\n\n           2       0.95      0.99      0.97        79\n           4       0.98      0.93      0.96        58\n\n   micro avg       0.96      0.96      0.96       137\n   macro avg       0.97      0.96      0.96       137\nweighted avg       0.96      0.96      0.96       137\n\nThe f1 score is:  0.9633592129161734\nThe jaccard similarity score is:  0.9635036496350365\n"
                }
            ],
            "source": "# Evaluation for rbf\nfrom sklearn.metrics import classification_report, confusion_matrix, f1_score, jaccard_similarity_score\n\n# Classification report\nprint(classification_report(y_test, yhat_rbf, labels=[2, 4]))\n\n#  f1_score\nprint(\"The f1 score is: \", f1_score(y_test,yhat_rbf, average ='weighted'))\n\n# jaccard score\nprint(\"The jaccard similarity score is: \", jaccard_similarity_score (y_test, yhat_rbf))\n"
        },
        {
            "cell_type": "code",
            "execution_count": null,
            "metadata": {},
            "outputs": [],
            "source": ""
        }
    ],
    "metadata": {
        "kernelspec": {
            "display_name": "Python 3.6",
            "language": "python",
            "name": "python3"
        },
        "language_info": {
            "codemirror_mode": {
                "name": "ipython",
                "version": 3
            },
            "file_extension": ".py",
            "mimetype": "text/x-python",
            "name": "python",
            "nbconvert_exporter": "python",
            "pygments_lexer": "ipython3",
            "version": "3.6.9"
        }
    },
    "nbformat": 4,
    "nbformat_minor": 1
}